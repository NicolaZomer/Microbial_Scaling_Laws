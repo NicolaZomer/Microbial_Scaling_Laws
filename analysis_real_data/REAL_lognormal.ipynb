{
 "cells": [
  {
   "cell_type": "code",
   "metadata": {
    "tags": [],
    "cell_id": "3b7f9513-50f2-49db-af91-73dc41e36126",
    "deepnote_to_be_reexecuted": false,
    "source_hash": "e04f1807",
    "execution_start": 1653140701088,
    "execution_millis": 1724,
    "owner_user_id": "7f69bd26-d583-496b-860b-3b60f8ef9538",
    "deepnote_cell_type": "code",
    "deepnote_cell_height": 351
   },
   "source": "import math\nimport numpy as np\nfrom scipy import stats\n#import sympy as smp\nfrom pynverse import inversefunc\nimport pandas as pd\n# from sympy.abc import t, a, b, c, d, e\n\n\nfrom Fernando_package import plot_funcs\nimport scipy as scp\nimport matplotlib.pyplot as plt\nimport matplotlib\nfrom matplotlib import cm\nimport seaborn as sns\n",
   "execution_count": null,
   "outputs": []
  },
  {
   "cell_type": "code",
   "metadata": {
    "cell_id": "9e8031305f664ffba0b733cfb0d6c7fd",
    "tags": [],
    "deepnote_to_be_reexecuted": false,
    "source_hash": "4dae6b21",
    "execution_start": 1653140702818,
    "execution_millis": 152,
    "deepnote_cell_type": "code",
    "deepnote_cell_height": 670.796875
   },
   "source": "#importing the dataframe and taking a look at it\ndf_microbial_growth = pd.read_csv('../data/modified_Susman18_physical_units.csv')\ndf_microbial_growth\n",
   "execution_count": null,
   "outputs": [
    {
     "output_type": "execute_result",
     "execution_count": 2,
     "data": {
      "application/vnd.deepnote.dataframe.v3+json": {
       "column_count": 12,
       "row_count": 252,
       "columns": [
        {
         "name": "div_and_fold",
         "dtype": "float64",
         "stats": {
          "unique_count": 251,
          "nan_count": 1,
          "min": "0.546096874465105",
          "max": "2.07810702172796",
          "histogram": [
           {
            "bin_start": 0.546096874465105,
            "bin_end": 0.6992978891913906,
            "count": 6
           },
           {
            "bin_start": 0.6992978891913906,
            "bin_end": 0.852498903917676,
            "count": 30
           },
           {
            "bin_start": 0.852498903917676,
            "bin_end": 1.0056999186439615,
            "count": 101
           },
           {
            "bin_start": 1.0056999186439615,
            "bin_end": 1.158900933370247,
            "count": 77
           },
           {
            "bin_start": 1.158900933370247,
            "bin_end": 1.3121019480965326,
            "count": 24
           },
           {
            "bin_start": 1.3121019480965326,
            "bin_end": 1.465302962822818,
            "count": 4
           },
           {
            "bin_start": 1.465302962822818,
            "bin_end": 1.6185039775491035,
            "count": 4
           },
           {
            "bin_start": 1.6185039775491035,
            "bin_end": 1.7717049922753891,
            "count": 1
           },
           {
            "bin_start": 1.7717049922753891,
            "bin_end": 1.9249060070016744,
            "count": 2
           },
           {
            "bin_start": 1.9249060070016744,
            "bin_end": 2.07810702172796,
            "count": 2
           }
          ]
         }
        },
        {
         "name": "fold_growth",
         "dtype": "float64",
         "stats": {
          "unique_count": 252,
          "nan_count": 0,
          "min": "0.17705897633605",
          "max": "1.56885829888933",
          "histogram": [
           {
            "bin_start": 0.17705897633605,
            "bin_end": 0.31623890859137804,
            "count": 6
           },
           {
            "bin_start": 0.31623890859137804,
            "bin_end": 0.45541884084670603,
            "count": 10
           },
           {
            "bin_start": 0.45541884084670603,
            "bin_end": 0.5945987731020341,
            "count": 45
           },
           {
            "bin_start": 0.5945987731020341,
            "bin_end": 0.7337787053573621,
            "count": 85
           },
           {
            "bin_start": 0.7337787053573621,
            "bin_end": 0.8729586376126901,
            "count": 70
           },
           {
            "bin_start": 0.8729586376126901,
            "bin_end": 1.012138569868018,
            "count": 26
           },
           {
            "bin_start": 1.012138569868018,
            "bin_end": 1.151318502123346,
            "count": 6
           },
           {
            "bin_start": 1.151318502123346,
            "bin_end": 1.290498434378674,
            "count": 2
           },
           {
            "bin_start": 1.290498434378674,
            "bin_end": 1.429678366634002,
            "count": 1
           },
           {
            "bin_start": 1.429678366634002,
            "bin_end": 1.56885829888933,
            "count": 1
           }
          ]
         }
        },
        {
         "name": "division_ratio",
         "dtype": "float64",
         "stats": {
          "unique_count": 251,
          "nan_count": 1,
          "min": "0.357723235350301",
          "max": "0.990917846034598",
          "histogram": [
           {
            "bin_start": 0.357723235350301,
            "bin_end": 0.4210426964187307,
            "count": 11
           },
           {
            "bin_start": 0.4210426964187307,
            "bin_end": 0.4843621574871604,
            "count": 102
           },
           {
            "bin_start": 0.4843621574871604,
            "bin_end": 0.54768161855559,
            "count": 119
           },
           {
            "bin_start": 0.54768161855559,
            "bin_end": 0.6110010796240197,
            "count": 15
           },
           {
            "bin_start": 0.6110010796240197,
            "bin_end": 0.6743205406924495,
            "count": 1
           },
           {
            "bin_start": 0.6743205406924495,
            "bin_end": 0.7376400017608792,
            "count": 0
           },
           {
            "bin_start": 0.7376400017608792,
            "bin_end": 0.8009594628293089,
            "count": 0
           },
           {
            "bin_start": 0.8009594628293089,
            "bin_end": 0.8642789238977386,
            "count": 0
           },
           {
            "bin_start": 0.8642789238977386,
            "bin_end": 0.9275983849661682,
            "count": 0
           },
           {
            "bin_start": 0.9275983849661682,
            "bin_end": 0.990917846034598,
            "count": 3
           }
          ]
         }
        },
        {
         "name": "added_length",
         "dtype": "float64",
         "stats": {
          "unique_count": 252,
          "nan_count": 0,
          "min": "0.387557684591295",
          "max": "9.7781973176522",
          "histogram": [
           {
            "bin_start": 0.387557684591295,
            "bin_end": 1.3266216478973856,
            "count": 7
           },
           {
            "bin_start": 1.3266216478973856,
            "bin_end": 2.2656856112034762,
            "count": 72
           },
           {
            "bin_start": 2.2656856112034762,
            "bin_end": 3.2047495745095667,
            "count": 137
           },
           {
            "bin_start": 3.2047495745095667,
            "bin_end": 4.1438135378156575,
            "count": 27
           },
           {
            "bin_start": 4.1438135378156575,
            "bin_end": 5.0828775011217475,
            "count": 5
           },
           {
            "bin_start": 5.0828775011217475,
            "bin_end": 6.021941464427838,
            "count": 1
           },
           {
            "bin_start": 6.021941464427838,
            "bin_end": 6.961005427733928,
            "count": 1
           },
           {
            "bin_start": 6.961005427733928,
            "bin_end": 7.900069391040019,
            "count": 1
           },
           {
            "bin_start": 7.900069391040019,
            "bin_end": 8.83913335434611,
            "count": 0
           },
           {
            "bin_start": 8.83913335434611,
            "bin_end": 9.7781973176522,
            "count": 1
           }
          ]
         }
        },
        {
         "name": "generationtime",
         "dtype": "float64",
         "stats": {
          "unique_count": 53,
          "nan_count": 0,
          "min": "0.0833333333333286",
          "max": "1.33333333333333",
          "histogram": [
           {
            "bin_start": 0.0833333333333286,
            "bin_end": 0.20833333333332874,
            "count": 7
           },
           {
            "bin_start": 0.20833333333332874,
            "bin_end": 0.3333333333333289,
            "count": 6
           },
           {
            "bin_start": 0.3333333333333289,
            "bin_end": 0.45833333333332904,
            "count": 62
           },
           {
            "bin_start": 0.45833333333332904,
            "bin_end": 0.5833333333333292,
            "count": 97
           },
           {
            "bin_start": 0.5833333333333292,
            "bin_end": 0.7083333333333293,
            "count": 61
           },
           {
            "bin_start": 0.7083333333333293,
            "bin_end": 0.8333333333333295,
            "count": 14
           },
           {
            "bin_start": 0.8333333333333295,
            "bin_end": 0.9583333333333296,
            "count": 2
           },
           {
            "bin_start": 0.9583333333333296,
            "bin_end": 1.0833333333333297,
            "count": 1
           },
           {
            "bin_start": 1.0833333333333297,
            "bin_end": 1.20833333333333,
            "count": 1
           },
           {
            "bin_start": 1.20833333333333,
            "bin_end": 1.33333333333333,
            "count": 1
           }
          ]
         }
        },
        {
         "name": "length_birth",
         "dtype": "float64",
         "stats": {
          "unique_count": 252,
          "nan_count": 0,
          "min": "1.53541473227095",
          "max": "7.18441393010281",
          "histogram": [
           {
            "bin_start": 1.53541473227095,
            "bin_end": 2.100314652054136,
            "count": 28
           },
           {
            "bin_start": 2.100314652054136,
            "bin_end": 2.665214571837322,
            "count": 131
           },
           {
            "bin_start": 2.665214571837322,
            "bin_end": 3.230114491620508,
            "count": 74
           },
           {
            "bin_start": 3.230114491620508,
            "bin_end": 3.795014411403694,
            "count": 12
           },
           {
            "bin_start": 3.795014411403694,
            "bin_end": 4.35991433118688,
            "count": 3
           },
           {
            "bin_start": 4.35991433118688,
            "bin_end": 4.924814250970066,
            "count": 1
           },
           {
            "bin_start": 4.924814250970066,
            "bin_end": 5.489714170753252,
            "count": 2
           },
           {
            "bin_start": 5.489714170753252,
            "bin_end": 6.054614090536438,
            "count": 0
           },
           {
            "bin_start": 6.054614090536438,
            "bin_end": 6.619514010319624,
            "count": 0
           },
           {
            "bin_start": 6.619514010319624,
            "bin_end": 7.18441393010281,
            "count": 1
           }
          ]
         }
        },
        {
         "name": "length_final",
         "dtype": "float64",
         "stats": {
          "unique_count": 252,
          "nan_count": 0,
          "min": "2.676769724",
          "max": "12.3506194558684",
          "histogram": [
           {
            "bin_start": 2.676769724,
            "bin_end": 3.64415469718684,
            "count": 5
           },
           {
            "bin_start": 3.64415469718684,
            "bin_end": 4.611539670373681,
            "count": 50
           },
           {
            "bin_start": 4.611539670373681,
            "bin_end": 5.578924643560521,
            "count": 122
           },
           {
            "bin_start": 5.578924643560521,
            "bin_end": 6.546309616747361,
            "count": 57
           },
           {
            "bin_start": 6.546309616747361,
            "bin_end": 7.5136945899342,
            "count": 11
           },
           {
            "bin_start": 7.5136945899342,
            "bin_end": 8.48107956312104,
            "count": 3
           },
           {
            "bin_start": 8.48107956312104,
            "bin_end": 9.448464536307881,
            "count": 2
           },
           {
            "bin_start": 9.448464536307881,
            "bin_end": 10.415849509494722,
            "count": 1
           },
           {
            "bin_start": 10.415849509494722,
            "bin_end": 11.38323448268156,
            "count": 0
           },
           {
            "bin_start": 11.38323448268156,
            "bin_end": 12.3506194558684,
            "count": 1
           }
          ]
         }
        },
        {
         "name": "growth_rate",
         "dtype": "float64",
         "stats": {
          "unique_count": 252,
          "nan_count": 0,
          "min": "0.505963594660099",
          "max": "4.07143555717965",
          "histogram": [
           {
            "bin_start": 0.505963594660099,
            "bin_end": 0.8625107909120542,
            "count": 2
           },
           {
            "bin_start": 0.8625107909120542,
            "bin_end": 1.2190579871640093,
            "count": 48
           },
           {
            "bin_start": 1.2190579871640093,
            "bin_end": 1.5756051834159646,
            "count": 166
           },
           {
            "bin_start": 1.5756051834159646,
            "bin_end": 1.9321523796679196,
            "count": 28
           },
           {
            "bin_start": 1.9321523796679196,
            "bin_end": 2.2886995759198747,
            "count": 4
           },
           {
            "bin_start": 2.2886995759198747,
            "bin_end": 2.64524677217183,
            "count": 0
           },
           {
            "bin_start": 2.64524677217183,
            "bin_end": 3.001793968423785,
            "count": 2
           },
           {
            "bin_start": 3.001793968423785,
            "bin_end": 3.35834116467574,
            "count": 0
           },
           {
            "bin_start": 3.35834116467574,
            "bin_end": 3.714888360927695,
            "count": 0
           },
           {
            "bin_start": 3.714888360927695,
            "bin_end": 4.07143555717965,
            "count": 2
           }
          ]
         }
        },
        {
         "name": "lineage_ID",
         "dtype": "float64",
         "stats": {
          "unique_count": 1,
          "nan_count": 0,
          "min": "15.0",
          "max": "15.0",
          "histogram": [
           {
            "bin_start": 14.5,
            "bin_end": 14.6,
            "count": 0
           },
           {
            "bin_start": 14.6,
            "bin_end": 14.7,
            "count": 0
           },
           {
            "bin_start": 14.7,
            "bin_end": 14.8,
            "count": 0
           },
           {
            "bin_start": 14.8,
            "bin_end": 14.9,
            "count": 0
           },
           {
            "bin_start": 14.9,
            "bin_end": 15,
            "count": 0
           },
           {
            "bin_start": 15,
            "bin_end": 15.1,
            "count": 252
           },
           {
            "bin_start": 15.1,
            "bin_end": 15.2,
            "count": 0
           },
           {
            "bin_start": 15.2,
            "bin_end": 15.3,
            "count": 0
           },
           {
            "bin_start": 15.3,
            "bin_end": 15.4,
            "count": 0
           },
           {
            "bin_start": 15.4,
            "bin_end": 15.5,
            "count": 0
           }
          ]
         }
        },
        {
         "name": "generation",
         "dtype": "float64",
         "stats": {
          "unique_count": 252,
          "nan_count": 0,
          "min": "0.0",
          "max": "253.0",
          "histogram": [
           {
            "bin_start": 0,
            "bin_end": 25.3,
            "count": 26
           },
           {
            "bin_start": 25.3,
            "bin_end": 50.6,
            "count": 25
           },
           {
            "bin_start": 50.6,
            "bin_end": 75.9,
            "count": 25
           },
           {
            "bin_start": 75.9,
            "bin_end": 101.2,
            "count": 26
           },
           {
            "bin_start": 101.2,
            "bin_end": 126.5,
            "count": 25
           },
           {
            "bin_start": 126.5,
            "bin_end": 151.8,
            "count": 25
           },
           {
            "bin_start": 151.8,
            "bin_end": 177.1,
            "count": 26
           },
           {
            "bin_start": 177.1,
            "bin_end": 202.4,
            "count": 24
           },
           {
            "bin_start": 202.4,
            "bin_end": 227.70000000000002,
            "count": 24
           },
           {
            "bin_start": 227.70000000000002,
            "bin_end": 253,
            "count": 26
           }
          ]
         }
        },
        {
         "name": "start_time",
         "dtype": "float64",
         "stats": {
          "unique_count": 252,
          "nan_count": 0,
          "min": "0.25",
          "max": "152.916666666667",
          "histogram": [
           {
            "bin_start": 0.25,
            "bin_end": 15.5166666666667,
            "count": 24
           },
           {
            "bin_start": 15.5166666666667,
            "bin_end": 30.7833333333334,
            "count": 25
           },
           {
            "bin_start": 30.7833333333334,
            "bin_end": 46.0500000000001,
            "count": 24
           },
           {
            "bin_start": 46.0500000000001,
            "bin_end": 61.3166666666668,
            "count": 25
           },
           {
            "bin_start": 61.3166666666668,
            "bin_end": 76.5833333333335,
            "count": 25
           },
           {
            "bin_start": 76.5833333333335,
            "bin_end": 91.8500000000002,
            "count": 25
           },
           {
            "bin_start": 91.8500000000002,
            "bin_end": 107.1166666666669,
            "count": 26
           },
           {
            "bin_start": 107.1166666666669,
            "bin_end": 122.3833333333336,
            "count": 26
           },
           {
            "bin_start": 122.3833333333336,
            "bin_end": 137.6500000000003,
            "count": 26
           },
           {
            "bin_start": 137.6500000000003,
            "bin_end": 152.916666666667,
            "count": 26
           }
          ]
         }
        },
        {
         "name": "end_time",
         "dtype": "float64",
         "stats": {
          "unique_count": 252,
          "nan_count": 0,
          "min": "1.0",
          "max": "153.416666666667",
          "histogram": [
           {
            "bin_start": 1,
            "bin_end": 16.2416666666667,
            "count": 25
           },
           {
            "bin_start": 16.2416666666667,
            "bin_end": 31.4833333333334,
            "count": 25
           },
           {
            "bin_start": 31.4833333333334,
            "bin_end": 46.725000000000094,
            "count": 23
           },
           {
            "bin_start": 46.725000000000094,
            "bin_end": 61.9666666666668,
            "count": 25
           },
           {
            "bin_start": 61.9666666666668,
            "bin_end": 77.2083333333335,
            "count": 25
           },
           {
            "bin_start": 77.2083333333335,
            "bin_end": 92.45000000000019,
            "count": 25
           },
           {
            "bin_start": 92.45000000000019,
            "bin_end": 107.69166666666689,
            "count": 26
           },
           {
            "bin_start": 107.69166666666689,
            "bin_end": 122.9333333333336,
            "count": 26
           },
           {
            "bin_start": 122.9333333333336,
            "bin_end": 138.1750000000003,
            "count": 26
           },
           {
            "bin_start": 138.1750000000003,
            "bin_end": 153.416666666667,
            "count": 26
           }
          ]
         }
        },
        {
         "name": "_deepnote_index_column",
         "dtype": "int64"
        }
       ],
       "rows": [
        {
         "div_and_fold": "nan",
         "fold_growth": 1.17056082574163,
         "division_ratio": "nan",
         "added_length": 3.9837768808191,
         "generationtime": 0.75,
         "length_birth": 1.79142758464878,
         "length_final": 5.77520446546789,
         "growth_rate": 1.56074776765551,
         "lineage_ID": 15,
         "generation": 0,
         "start_time": 0.25,
         "end_time": 1,
         "_deepnote_index_column": 0
        },
        {
         "div_and_fold": 1.0098307934197,
         "fold_growth": 0.794983848896329,
         "division_ratio": 0.456028002051387,
         "added_length": 3.19832435369885,
         "generationtime": 0.5,
         "length_birth": 2.63365495382557,
         "length_final": 5.83197930752442,
         "growth_rate": 1.58996769779266,
         "lineage_ID": 15,
         "generation": 1,
         "start_time": 1.08333333333333,
         "end_time": 1.58333333333333,
         "_deepnote_index_column": 1
        },
        {
         "div_and_fold": 0.86248240520342,
         "fold_growth": 0.607893198978199,
         "division_ratio": 0.469618916545778,
         "added_length": 2.29117173653322,
         "generationtime": 0.416666666666667,
         "length_birth": 2.73880780371701,
         "length_final": 5.02997954025023,
         "growth_rate": 1.45894367754768,
         "lineage_ID": 15,
         "generation": 2,
         "start_time": 1.66666666666667,
         "end_time": 2.08333333333333,
         "_deepnote_index_column": 2
        },
        {
         "div_and_fold": 1.4264859538416,
         "fold_growth": 1.03736970365688,
         "division_ratio": 0.505526075322566,
         "added_length": 4.6324093463421,
         "generationtime": 0.833333333333333,
         "length_birth": 2.5427858159355,
         "length_final": 7.17519516227761,
         "growth_rate": 1.24484364438826,
         "lineage_ID": 15,
         "generation": 3,
         "start_time": 2.16666666666667,
         "end_time": 3,
         "_deepnote_index_column": 3
        },
        {
         "div_and_fold": 0.729601417548095,
         "fold_growth": 0.490155896574101,
         "division_ratio": 0.446903409482841,
         "added_length": 2.02841337985533,
         "generationtime": 0.333333333333333,
         "length_birth": 3.20661918172665,
         "length_final": 5.23503256158198,
         "growth_rate": 1.47046768972231,
         "lineage_ID": 15,
         "generation": 4,
         "start_time": 3.08333333333333,
         "end_time": 3.41666666666667,
         "_deepnote_index_column": 4
        },
        {
         "div_and_fold": 0.887981951140976,
         "fold_growth": 0.609464016506087,
         "division_ratio": 0.482744438597171,
         "added_length": 2.12143157334131,
         "generationtime": 0.416666666666667,
         "length_birth": 2.5271828549788,
         "length_final": 4.64861442832011,
         "growth_rate": 1.46271363961461,
         "lineage_ID": 15,
         "generation": 5,
         "start_time": 3.5,
         "end_time": 3.91666666666667,
         "_deepnote_index_column": 5
        },
        {
         "div_and_fold": 1.04135711828936,
         "fold_growth": 0.709757017717577,
         "division_ratio": 0.51210160119141,
         "added_length": 2.46030483304954,
         "generationtime": 0.583333333333334,
         "length_birth": 2.38056289206422,
         "length_final": 4.84086772511376,
         "growth_rate": 1.21672631608727,
         "lineage_ID": 15,
         "generation": 6,
         "start_time": 4,
         "end_time": 4.58333333333333,
         "_deepnote_index_column": 6
        },
        {
         "div_and_fold": 0.906843477768965,
         "fold_growth": 0.629224866835989,
         "division_ratio": 0.483351917988853,
         "added_length": 2.05006662359762,
         "generationtime": 0.5,
         "length_birth": 2.33984269966407,
         "length_final": 4.3899093232617,
         "growth_rate": 1.25844973367198,
         "lineage_ID": 15,
         "generation": 7,
         "start_time": 4.66666666666667,
         "end_time": 5.16666666666667,
         "_deepnote_index_column": 7
        },
        {
         "div_and_fold": 1.21742143558949,
         "fold_growth": 0.90776142744314,
         "division_ratio": 0.491139841168619,
         "added_length": 3.18831034266156,
         "generationtime": 0.583333333333334,
         "length_birth": 2.15605936777139,
         "length_final": 5.34436971043295,
         "growth_rate": 1.55616244704538,
         "lineage_ID": 15,
         "generation": 8,
         "start_time": 5.25,
         "end_time": 5.83333333333333,
         "_deepnote_index_column": 8
        },
        {
         "div_and_fold": 1.12020008440884,
         "fold_growth": 0.877093417187681,
         "division_ratio": 0.465992331480415,
         "added_length": 3.4963280990811,
         "generationtime": 0.666666666666667,
         "length_birth": 2.49043530165796,
         "length_final": 5.98676340073906,
         "growth_rate": 1.31564012578152,
         "lineage_ID": 15,
         "generation": 9,
         "start_time": 5.91666666666667,
         "end_time": 6.58333333333333,
         "_deepnote_index_column": 9
        }
       ]
      },
      "text/plain": "     div_and_fold  fold_growth  division_ratio  added_length  generationtime  \\\n0             NaN     1.170561             NaN      3.983777        0.750000   \n1        1.009831     0.794984        0.456028      3.198324        0.500000   \n2        0.862482     0.607893        0.469619      2.291172        0.416667   \n3        1.426486     1.037370        0.505526      4.632409        0.833333   \n4        0.729601     0.490156        0.446903      2.028413        0.333333   \n..            ...          ...             ...           ...             ...   \n247      0.940427     0.590789        0.520893      2.192641        0.416667   \n248      0.928602     0.604227        0.507478      2.069835        0.500000   \n249      1.568073     1.046815        0.550478      4.644408        0.750000   \n250      0.809727     0.481681        0.500204      2.215210        0.333333   \n251      0.860970     0.711011        0.422863      2.538870        0.500000   \n\n     length_birth  length_final  growth_rate  lineage_ID  generation  \\\n0        1.791428      5.775204     1.560748        15.0         0.0   \n1        2.633655      5.831979     1.589968        15.0         1.0   \n2        2.738808      5.029980     1.458944        15.0         2.0   \n3        2.542786      7.175195     1.244844        15.0         3.0   \n4        3.206619      5.235033     1.470468        15.0         4.0   \n..            ...           ...          ...         ...         ...   \n247      2.722385      4.915026     1.417893        15.0       249.0   \n248      2.494268      4.564104     1.208453        15.0       250.0   \n249      2.512440      7.156848     1.395754        15.0       251.0   \n250      3.579885      5.795095     1.445043        15.0       252.0   \n251      2.450531      4.989402     1.422022        15.0       253.0   \n\n     start_time    end_time  \n0      0.250000    1.000000  \n1      1.083333    1.583333  \n2      1.666667    2.083333  \n3      2.166667    3.000000  \n4      3.083333    3.416667  \n..          ...         ...  \n247  150.583333  151.000000  \n248  151.083333  151.583333  \n249  151.666667  152.416667  \n250  152.500000  152.833333  \n251  152.916667  153.416667  \n\n[252 rows x 12 columns]",
      "text/html": "<div>\n<style scoped>\n    .dataframe tbody tr th:only-of-type {\n        vertical-align: middle;\n    }\n\n    .dataframe tbody tr th {\n        vertical-align: top;\n    }\n\n    .dataframe thead th {\n        text-align: right;\n    }\n</style>\n<table border=\"1\" class=\"dataframe\">\n  <thead>\n    <tr style=\"text-align: right;\">\n      <th></th>\n      <th>div_and_fold</th>\n      <th>fold_growth</th>\n      <th>division_ratio</th>\n      <th>added_length</th>\n      <th>generationtime</th>\n      <th>length_birth</th>\n      <th>length_final</th>\n      <th>growth_rate</th>\n      <th>lineage_ID</th>\n      <th>generation</th>\n      <th>start_time</th>\n      <th>end_time</th>\n    </tr>\n  </thead>\n  <tbody>\n    <tr>\n      <th>0</th>\n      <td>NaN</td>\n      <td>1.170561</td>\n      <td>NaN</td>\n      <td>3.983777</td>\n      <td>0.750000</td>\n      <td>1.791428</td>\n      <td>5.775204</td>\n      <td>1.560748</td>\n      <td>15.0</td>\n      <td>0.0</td>\n      <td>0.250000</td>\n      <td>1.000000</td>\n    </tr>\n    <tr>\n      <th>1</th>\n      <td>1.009831</td>\n      <td>0.794984</td>\n      <td>0.456028</td>\n      <td>3.198324</td>\n      <td>0.500000</td>\n      <td>2.633655</td>\n      <td>5.831979</td>\n      <td>1.589968</td>\n      <td>15.0</td>\n      <td>1.0</td>\n      <td>1.083333</td>\n      <td>1.583333</td>\n    </tr>\n    <tr>\n      <th>2</th>\n      <td>0.862482</td>\n      <td>0.607893</td>\n      <td>0.469619</td>\n      <td>2.291172</td>\n      <td>0.416667</td>\n      <td>2.738808</td>\n      <td>5.029980</td>\n      <td>1.458944</td>\n      <td>15.0</td>\n      <td>2.0</td>\n      <td>1.666667</td>\n      <td>2.083333</td>\n    </tr>\n    <tr>\n      <th>3</th>\n      <td>1.426486</td>\n      <td>1.037370</td>\n      <td>0.505526</td>\n      <td>4.632409</td>\n      <td>0.833333</td>\n      <td>2.542786</td>\n      <td>7.175195</td>\n      <td>1.244844</td>\n      <td>15.0</td>\n      <td>3.0</td>\n      <td>2.166667</td>\n      <td>3.000000</td>\n    </tr>\n    <tr>\n      <th>4</th>\n      <td>0.729601</td>\n      <td>0.490156</td>\n      <td>0.446903</td>\n      <td>2.028413</td>\n      <td>0.333333</td>\n      <td>3.206619</td>\n      <td>5.235033</td>\n      <td>1.470468</td>\n      <td>15.0</td>\n      <td>4.0</td>\n      <td>3.083333</td>\n      <td>3.416667</td>\n    </tr>\n    <tr>\n      <th>...</th>\n      <td>...</td>\n      <td>...</td>\n      <td>...</td>\n      <td>...</td>\n      <td>...</td>\n      <td>...</td>\n      <td>...</td>\n      <td>...</td>\n      <td>...</td>\n      <td>...</td>\n      <td>...</td>\n      <td>...</td>\n    </tr>\n    <tr>\n      <th>247</th>\n      <td>0.940427</td>\n      <td>0.590789</td>\n      <td>0.520893</td>\n      <td>2.192641</td>\n      <td>0.416667</td>\n      <td>2.722385</td>\n      <td>4.915026</td>\n      <td>1.417893</td>\n      <td>15.0</td>\n      <td>249.0</td>\n      <td>150.583333</td>\n      <td>151.000000</td>\n    </tr>\n    <tr>\n      <th>248</th>\n      <td>0.928602</td>\n      <td>0.604227</td>\n      <td>0.507478</td>\n      <td>2.069835</td>\n      <td>0.500000</td>\n      <td>2.494268</td>\n      <td>4.564104</td>\n      <td>1.208453</td>\n      <td>15.0</td>\n      <td>250.0</td>\n      <td>151.083333</td>\n      <td>151.583333</td>\n    </tr>\n    <tr>\n      <th>249</th>\n      <td>1.568073</td>\n      <td>1.046815</td>\n      <td>0.550478</td>\n      <td>4.644408</td>\n      <td>0.750000</td>\n      <td>2.512440</td>\n      <td>7.156848</td>\n      <td>1.395754</td>\n      <td>15.0</td>\n      <td>251.0</td>\n      <td>151.666667</td>\n      <td>152.416667</td>\n    </tr>\n    <tr>\n      <th>250</th>\n      <td>0.809727</td>\n      <td>0.481681</td>\n      <td>0.500204</td>\n      <td>2.215210</td>\n      <td>0.333333</td>\n      <td>3.579885</td>\n      <td>5.795095</td>\n      <td>1.445043</td>\n      <td>15.0</td>\n      <td>252.0</td>\n      <td>152.500000</td>\n      <td>152.833333</td>\n    </tr>\n    <tr>\n      <th>251</th>\n      <td>0.860970</td>\n      <td>0.711011</td>\n      <td>0.422863</td>\n      <td>2.538870</td>\n      <td>0.500000</td>\n      <td>2.450531</td>\n      <td>4.989402</td>\n      <td>1.422022</td>\n      <td>15.0</td>\n      <td>253.0</td>\n      <td>152.916667</td>\n      <td>153.416667</td>\n    </tr>\n  </tbody>\n</table>\n<p>252 rows × 12 columns</p>\n</div>"
     },
     "metadata": {}
    }
   ]
  },
  {
   "cell_type": "code",
   "metadata": {
    "cell_id": "ba89f8abd24c4354bd61245eb489a8d7",
    "tags": [],
    "deepnote_to_be_reexecuted": false,
    "source_hash": "42cbda35",
    "execution_start": 1653140702974,
    "execution_millis": 70397,
    "deepnote_cell_type": "code",
    "deepnote_cell_height": 243
   },
   "source": "#Creating two lists with the rounded values of generation times due to precision problems\n#later in the code\ntmp = pd.DataFrame(np.array(df_microbial_growth[['generationtime', 'length_final']]))\ntimes = []\nlength = []\nfor i in tmp.iloc[:,0]:\n    times.append(round(float(i),2))\n\n\n",
   "execution_count": null,
   "outputs": []
  },
  {
   "cell_type": "code",
   "metadata": {
    "cell_id": "c8795ee76a834b2e982c68234543eaf4",
    "tags": [],
    "deepnote_to_be_reexecuted": false,
    "source_hash": "d19e273c",
    "execution_start": 1653140702975,
    "execution_millis": 5,
    "deepnote_cell_type": "code",
    "deepnote_cell_height": 708
   },
   "source": "#Taking a look at the most present inter-division times \n\ntmp = pd.DataFrame(dict(times = times, length = df_microbial_growth['length_final']), columns = ['times', 'length'])\n\ncount_df = tmp.groupby(by='times').count().sort_values(by='length', ascending=False)\ncount_df.columns=['Counts']\ncount_df",
   "execution_count": null,
   "outputs": [
    {
     "output_type": "execute_result",
     "execution_count": 4,
     "data": {
      "application/vnd.deepnote.dataframe.v3+json": {
       "column_count": 1,
       "row_count": 14,
       "columns": [
        {
         "name": "Counts",
         "dtype": "int64",
         "stats": {
          "unique_count": 9,
          "nan_count": 0,
          "min": "1",
          "max": "68",
          "histogram": [
           {
            "bin_start": 1,
            "bin_end": 7.7,
            "count": 8
           },
           {
            "bin_start": 7.7,
            "bin_end": 14.4,
            "count": 1
           },
           {
            "bin_start": 14.4,
            "bin_end": 21.1,
            "count": 1
           },
           {
            "bin_start": 21.1,
            "bin_end": 27.8,
            "count": 0
           },
           {
            "bin_start": 27.8,
            "bin_end": 34.5,
            "count": 1
           },
           {
            "bin_start": 34.5,
            "bin_end": 41.2,
            "count": 0
           },
           {
            "bin_start": 41.2,
            "bin_end": 47.9,
            "count": 1
           },
           {
            "bin_start": 47.9,
            "bin_end": 54.6,
            "count": 0
           },
           {
            "bin_start": 54.6,
            "bin_end": 61.300000000000004,
            "count": 1
           },
           {
            "bin_start": 61.300000000000004,
            "bin_end": 68,
            "count": 1
           }
          ]
         }
        },
        {
         "name": "_deepnote_index_column",
         "dtype": "float64"
        }
       ],
       "rows": [
        {
         "Counts": 68,
         "_deepnote_index_column": 0.5
        },
        {
         "Counts": 61,
         "_deepnote_index_column": 0.58
        },
        {
         "Counts": 47,
         "_deepnote_index_column": 0.42
        },
        {
         "Counts": 29,
         "_deepnote_index_column": 0.67
        },
        {
         "Counts": 16,
         "_deepnote_index_column": 0.33
        },
        {
         "Counts": 13,
         "_deepnote_index_column": 0.75
        },
        {
         "Counts": 5,
         "_deepnote_index_column": 0.17
        },
        {
         "Counts": 5,
         "_deepnote_index_column": 0.25
        },
        {
         "Counts": 2,
         "_deepnote_index_column": 0.08
        },
        {
         "Counts": 2,
         "_deepnote_index_column": 0.83
        }
       ]
      },
      "text/plain": "       Counts\ntimes        \n0.50       68\n0.58       61\n0.42       47\n0.67       29\n0.33       16\n0.75       13\n0.17        5\n0.25        5\n0.08        2\n0.83        2\n0.92        1\n1.00        1\n1.08        1\n1.33        1",
      "text/html": "<div>\n<style scoped>\n    .dataframe tbody tr th:only-of-type {\n        vertical-align: middle;\n    }\n\n    .dataframe tbody tr th {\n        vertical-align: top;\n    }\n\n    .dataframe thead th {\n        text-align: right;\n    }\n</style>\n<table border=\"1\" class=\"dataframe\">\n  <thead>\n    <tr style=\"text-align: right;\">\n      <th></th>\n      <th>Counts</th>\n    </tr>\n    <tr>\n      <th>times</th>\n      <th></th>\n    </tr>\n  </thead>\n  <tbody>\n    <tr>\n      <th>0.50</th>\n      <td>68</td>\n    </tr>\n    <tr>\n      <th>0.58</th>\n      <td>61</td>\n    </tr>\n    <tr>\n      <th>0.42</th>\n      <td>47</td>\n    </tr>\n    <tr>\n      <th>0.67</th>\n      <td>29</td>\n    </tr>\n    <tr>\n      <th>0.33</th>\n      <td>16</td>\n    </tr>\n    <tr>\n      <th>0.75</th>\n      <td>13</td>\n    </tr>\n    <tr>\n      <th>0.17</th>\n      <td>5</td>\n    </tr>\n    <tr>\n      <th>0.25</th>\n      <td>5</td>\n    </tr>\n    <tr>\n      <th>0.08</th>\n      <td>2</td>\n    </tr>\n    <tr>\n      <th>0.83</th>\n      <td>2</td>\n    </tr>\n    <tr>\n      <th>0.92</th>\n      <td>1</td>\n    </tr>\n    <tr>\n      <th>1.00</th>\n      <td>1</td>\n    </tr>\n    <tr>\n      <th>1.08</th>\n      <td>1</td>\n    </tr>\n    <tr>\n      <th>1.33</th>\n      <td>1</td>\n    </tr>\n  </tbody>\n</table>\n</div>"
     },
     "metadata": {}
    }
   ]
  },
  {
   "cell_type": "code",
   "metadata": {
    "cell_id": "62c3719b55924ddd9fade9f059c4f3eb",
    "tags": [],
    "deepnote_to_be_reexecuted": false,
    "source_hash": "f761d8c1",
    "execution_start": 1653140702976,
    "execution_millis": 5,
    "deepnote_cell_type": "code",
    "deepnote_cell_height": 171
   },
   "source": "#Defining the function for the fit\n\ndef func_fit(x, x0, sigma):\n    \n    arg = np.log(x/(x0))/(2*sigma**2)\n    return 1/2  * (1-scp.special.erf(arg))",
   "execution_count": null,
   "outputs": []
  },
  {
   "cell_type": "code",
   "metadata": {
    "cell_id": "b4f1b4519e434a5ba871224d1a1d9809",
    "tags": [],
    "deepnote_to_be_reexecuted": false,
    "source_hash": "3d9cdb1b",
    "execution_start": 1653140862493,
    "execution_millis": 5,
    "deepnote_cell_type": "code",
    "deepnote_cell_height": 155.4375
   },
   "source": " count_df.index",
   "execution_count": null,
   "outputs": [
    {
     "output_type": "execute_result",
     "execution_count": 12,
     "data": {
      "text/plain": "Float64Index([ 0.5, 0.58, 0.42, 0.67, 0.33, 0.75, 0.17, 0.25, 0.08, 0.83, 0.92,\n               1.0, 1.08, 1.33],\n             dtype='float64', name='times')"
     },
     "metadata": {}
    }
   ]
  },
  {
   "cell_type": "code",
   "metadata": {
    "cell_id": "92855e3adf9148b098a521bdc68692de",
    "tags": [],
    "deepnote_to_be_reexecuted": false,
    "source_hash": "59985917",
    "execution_start": 1653141524450,
    "execution_millis": 8,
    "deepnote_cell_type": "code",
    "deepnote_cell_height": 118.1875,
    "deepnote_output_heights": [
     21.1875
    ]
   },
   "source": "np.sort(count_df.index[:4])",
   "execution_count": null,
   "outputs": [
    {
     "output_type": "execute_result",
     "execution_count": 27,
     "data": {
      "text/plain": "array([0.42, 0.5 , 0.58, 0.67])"
     },
     "metadata": {}
    }
   ]
  },
  {
   "cell_type": "code",
   "metadata": {
    "cell_id": "c312a9df187043a5bfb53761d6673a10",
    "tags": [],
    "deepnote_to_be_reexecuted": false,
    "source_hash": "590fffe5",
    "execution_start": 1653141539235,
    "execution_millis": 3226,
    "owner_user_id": "64f82dd5-f147-412e-8f0c-50fd764426fd",
    "deepnote_cell_type": "code",
    "deepnote_cell_height": 2864.65625,
    "deepnote_output_heights": [
     null,
     577.4375
    ]
   },
   "source": "x0s_sigmas = np.empty((4, 2))\nfor i, time in  enumerate(np.sort(count_df.index[:4])):\n    y = tmp[tmp['times']==time]['length']\n    fig, ax, cumul, array = plot_funcs.cumulative(y)\n    popt, pcov = scp.optimize.curve_fit(func_fit, xdata=array, ydata = cumul)\n    x0s_sigmas[i,:] = [popt[0], popt[1]]\n    ax.plot(array, func_fit(array, popt[0], popt[1]), color='firebrick', linewidth=4)\n    ax.set_title(f'Lognormal cumulative tiem for interdivision time = {time}', fontsize=20)\n    ax.set_xlabel('Length final', fontsize=15)\n    ax.set_ylabel('P(length > x)', fontsize=15)\n    fig.tight_layout()",
   "execution_count": null,
   "outputs": [
    {
     "name": "stderr",
     "text": "<ipython-input-5-85fca6430cd6>:5: RuntimeWarning: invalid value encountered in log\n  arg = np.log(x/(x0))/(2*sigma**2)\n<ipython-input-5-85fca6430cd6>:5: RuntimeWarning: invalid value encountered in log\n  arg = np.log(x/(x0))/(2*sigma**2)\n<ipython-input-5-85fca6430cd6>:5: RuntimeWarning: invalid value encountered in log\n  arg = np.log(x/(x0))/(2*sigma**2)\n<ipython-input-5-85fca6430cd6>:5: RuntimeWarning: invalid value encountered in log\n  arg = np.log(x/(x0))/(2*sigma**2)\n",
     "output_type": "stream"
    },
    {
     "data": {
      "text/plain": "<Figure size 1080x720 with 1 Axes>",
      "image/png": "[encoded data removed]"
     },
     "metadata": {
      "needs_background": "light",
      "image/png": {
       "width": 1072,
       "height": 712
      }
     },
     "output_type": "display_data"
    },
    {
     "data": {
      "text/plain": "<Figure size 1080x720 with 1 Axes>",
      "image/png": "[encoded data removed]"
     },
     "metadata": {
      "needs_background": "light",
      "image/png": {
       "width": 1072,
       "height": 712
      }
     },
     "output_type": "display_data"
    },
    {
     "data": {
      "text/plain": "<Figure size 1080x720 with 1 Axes>",
      "image/png": "[encoded data removed]"
     },
     "metadata": {
      "needs_background": "light",
      "image/png": {
       "width": 1072,
       "height": 712
      }
     },
     "output_type": "display_data"
    },
    {
     "data": {
      "text/plain": "<Figure size 1080x720 with 1 Axes>",
      "image/png": "[encoded data removed]"
     },
     "metadata": {
      "needs_background": "light",
      "image/png": {
       "width": 1072,
       "height": 712
      }
     },
     "output_type": "display_data"
    }
   ]
  },
  {
   "cell_type": "code",
   "metadata": {
    "cell_id": "e0e810066e3b46eca34a2951887697b6",
    "tags": [],
    "deepnote_to_be_reexecuted": false,
    "source_hash": "2b463284",
    "execution_start": 1653141605371,
    "execution_millis": 3,
    "deepnote_cell_type": "code",
    "deepnote_cell_height": 354
   },
   "source": "display(pd.DataFrame(x0s_sigmas, columns=['x0', 'sigma']))",
   "execution_count": null,
   "outputs": [
    {
     "data": {
      "application/vnd.deepnote.dataframe.v3+json": {
       "column_count": 2,
       "row_count": 4,
       "columns": [
        {
         "name": "x0",
         "dtype": "float64",
         "stats": {
          "unique_count": 4,
          "nan_count": 0,
          "min": "4.992122846387648",
          "max": "5.2587484100473505",
          "histogram": [
           {
            "bin_start": 4.992122846387648,
            "bin_end": 5.018785402753618,
            "count": 1
           },
           {
            "bin_start": 5.018785402753618,
            "bin_end": 5.045447959119588,
            "count": 0
           },
           {
            "bin_start": 5.045447959119588,
            "bin_end": 5.072110515485559,
            "count": 1
           },
           {
            "bin_start": 5.072110515485559,
            "bin_end": 5.098773071851529,
            "count": 0
           },
           {
            "bin_start": 5.098773071851529,
            "bin_end": 5.125435628217499,
            "count": 0
           },
           {
            "bin_start": 5.125435628217499,
            "bin_end": 5.15209818458347,
            "count": 0
           },
           {
            "bin_start": 5.15209818458347,
            "bin_end": 5.17876074094944,
            "count": 0
           },
           {
            "bin_start": 5.17876074094944,
            "bin_end": 5.20542329731541,
            "count": 0
           },
           {
            "bin_start": 5.20542329731541,
            "bin_end": 5.23208585368138,
            "count": 1
           },
           {
            "bin_start": 5.23208585368138,
            "bin_end": 5.2587484100473505,
            "count": 1
           }
          ]
         }
        },
        {
         "name": "sigma",
         "dtype": "float64",
         "stats": {
          "unique_count": 4,
          "nan_count": 0,
          "min": "-0.3017582784514968",
          "max": "0.2995734418756636",
          "histogram": [
           {
            "bin_start": -0.3017582784514968,
            "bin_end": -0.24162510641878074,
            "count": 1
           },
           {
            "bin_start": -0.24162510641878074,
            "bin_end": -0.1814919343860647,
            "count": 0
           },
           {
            "bin_start": -0.1814919343860647,
            "bin_end": -0.12135876235334864,
            "count": 0
           },
           {
            "bin_start": -0.12135876235334864,
            "bin_end": -0.0612255903206326,
            "count": 0
           },
           {
            "bin_start": -0.0612255903206326,
            "bin_end": -0.0010924182879165634,
            "count": 0
           },
           {
            "bin_start": -0.0010924182879165634,
            "bin_end": 0.0590407537447995,
            "count": 0
           },
           {
            "bin_start": 0.0590407537447995,
            "bin_end": 0.11917392577751551,
            "count": 0
           },
           {
            "bin_start": 0.11917392577751551,
            "bin_end": 0.17930709781023157,
            "count": 0
           },
           {
            "bin_start": 0.17930709781023157,
            "bin_end": 0.23944026984294758,
            "count": 0
           },
           {
            "bin_start": 0.23944026984294758,
            "bin_end": 0.2995734418756636,
            "count": 3
           }
          ]
         }
        },
        {
         "name": "_deepnote_index_column",
         "dtype": "int64"
        }
       ],
       "rows": [
        {
         "x0": 5.0512409057114045,
         "sigma": 0.2995734418756636,
         "_deepnote_index_column": 0
        },
        {
         "x0": 4.992122846387648,
         "sigma": 0.2968851753823539,
         "_deepnote_index_column": 1
        },
        {
         "x0": 5.2587484100473505,
         "sigma": 0.28375528063055133,
         "_deepnote_index_column": 2
        },
        {
         "x0": 5.2168000010783775,
         "sigma": -0.3017582784514968,
         "_deepnote_index_column": 3
        }
       ]
      },
      "text/plain": "         x0     sigma\n0  5.051241  0.299573\n1  4.992123  0.296885\n2  5.258748  0.283755\n3  5.216800 -0.301758",
      "text/html": "<div>\n<style scoped>\n    .dataframe tbody tr th:only-of-type {\n        vertical-align: middle;\n    }\n\n    .dataframe tbody tr th {\n        vertical-align: top;\n    }\n\n    .dataframe thead th {\n        text-align: right;\n    }\n</style>\n<table border=\"1\" class=\"dataframe\">\n  <thead>\n    <tr style=\"text-align: right;\">\n      <th></th>\n      <th>x0</th>\n      <th>sigma</th>\n    </tr>\n  </thead>\n  <tbody>\n    <tr>\n      <th>0</th>\n      <td>5.051241</td>\n      <td>0.299573</td>\n    </tr>\n    <tr>\n      <th>1</th>\n      <td>4.992123</td>\n      <td>0.296885</td>\n    </tr>\n    <tr>\n      <th>2</th>\n      <td>5.258748</td>\n      <td>0.283755</td>\n    </tr>\n    <tr>\n      <th>3</th>\n      <td>5.216800</td>\n      <td>-0.301758</td>\n    </tr>\n  </tbody>\n</table>\n</div>"
     },
     "metadata": {},
     "output_type": "display_data"
    }
   ]
  },
  {
   "cell_type": "code",
   "metadata": {
    "cell_id": "6092781578c74f5eb92297db1b0c136e",
    "tags": [],
    "deepnote_to_be_reexecuted": false,
    "source_hash": "b623e53d",
    "execution_start": 1653140703805,
    "execution_millis": 0,
    "deepnote_cell_type": "code",
    "deepnote_cell_height": 81
   },
   "source": "",
   "execution_count": null,
   "outputs": []
  },
  {
   "cell_type": "code",
   "metadata": {
    "cell_id": "e59444a74e1049fd810e83f7e4dcfa1a",
    "tags": [],
    "deepnote_to_be_reexecuted": false,
    "source_hash": "b623e53d",
    "execution_start": 1653140703805,
    "execution_millis": 70241,
    "deepnote_cell_type": "code",
    "deepnote_cell_height": 81
   },
   "source": "",
   "execution_count": null,
   "outputs": []
  },
  {
   "cell_type": "code",
   "metadata": {
    "cell_id": "a647d8627bb44b018e49717eefb6ff82",
    "tags": [],
    "deepnote_to_be_reexecuted": false,
    "source_hash": "b623e53d",
    "execution_start": 1653140703806,
    "execution_millis": 70236,
    "deepnote_cell_type": "code",
    "deepnote_cell_height": 81
   },
   "source": "",
   "execution_count": null,
   "outputs": []
  },
  {
   "cell_type": "markdown",
   "source": "<a style='text-decoration:none;line-height:16px;display:flex;color:#5B5B62;padding:10px;justify-content:end;' href='https://deepnote.com?utm_source=created-in-deepnote-cell&projectId=52dba48d-3798-4665-95fc-01a96804955b' target=\"_blank\">\n<img alt='Created in deepnote.com' style='display:inline;max-height:16px;margin:0px;margin-right:7.5px;' src='data:image/svg+xml;base64,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' > </img>\nCreated in <span style='font-weight:600;margin-left:4px;'>Deepnote</span></a>",
   "metadata": {
    "tags": [],
    "created_in_deepnote_cell": true,
    "deepnote_cell_type": "markdown"
   }
  }
 ],
 "nbformat": 4,
 "nbformat_minor": 2,
 "metadata": {
  "orig_nbformat": 2,
  "deepnote": {},
  "deepnote_notebook_id": "36af44ce-4d84-4ece-86a9-91730ecb461a",
  "deepnote_execution_queue": []
 }
}