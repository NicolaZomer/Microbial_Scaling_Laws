{
 "cells": [
  {
   "cell_type": "code",
   "metadata": {
    "tags": [],
    "cell_id": "b98983de-b783-46ed-8c7f-4fbd63fbea99",
    "deepnote_to_be_reexecuted": false,
    "source_hash": "7ee3729a",
    "execution_start": 1654869543408,
    "execution_millis": 1873,
    "deepnote_cell_type": "code",
    "deepnote_cell_height": 206.953125
   },
   "source": "import pandas as pd\nimport matplotlib.pyplot as plt\nimport numpy as np\n\nfrom Fernando_package import functions\nfrom Fernando_package import plot_funcs\n\ndf = pd.read_csv('../data/timeseries.csv')",
   "execution_count": 1,
   "outputs": []
  },
  {
   "cell_type": "code",
   "metadata": {
    "cell_id": "47ce91a7406d426fa6fb98fe6818cac3",
    "tags": [],
    "deepnote_to_be_reexecuted": false,
    "source_hash": "f804c160",
    "execution_start": 1654869545289,
    "execution_millis": 25,
    "owner_user_id": "64f82dd5-f147-412e-8f0c-50fd764426fd",
    "deepnote_cell_type": "code",
    "deepnote_cell_height": 599.859375
   },
   "source": "df",
   "execution_count": 2,
   "outputs": [
    {
     "output_type": "execute_result",
     "execution_count": 2,
     "data": {
      "application/vnd.deepnote.dataframe.v3+json": {
       "column_count": 2,
       "row_count": 251,
       "columns": [
        {
         "name": "real_data",
         "dtype": "float64",
         "stats": {
          "unique_count": 53,
          "nan_count": 0,
          "min": "0.0833333333333286",
          "max": "1.33333333333333",
          "histogram": [
           {
            "bin_start": 0.0833333333333286,
            "bin_end": 0.20833333333332874,
            "count": 7
           },
           {
            "bin_start": 0.20833333333332874,
            "bin_end": 0.3333333333333289,
            "count": 6
           },
           {
            "bin_start": 0.3333333333333289,
            "bin_end": 0.45833333333332904,
            "count": 62
           },
           {
            "bin_start": 0.45833333333332904,
            "bin_end": 0.5833333333333292,
            "count": 97
           },
           {
            "bin_start": 0.5833333333333292,
            "bin_end": 0.7083333333333293,
            "count": 61
           },
           {
            "bin_start": 0.7083333333333293,
            "bin_end": 0.8333333333333295,
            "count": 13
           },
           {
            "bin_start": 0.8333333333333295,
            "bin_end": 0.9583333333333296,
            "count": 2
           },
           {
            "bin_start": 0.9583333333333296,
            "bin_end": 1.0833333333333297,
            "count": 1
           },
           {
            "bin_start": 1.0833333333333297,
            "bin_end": 1.20833333333333,
            "count": 1
           },
           {
            "bin_start": 1.20833333333333,
            "bin_end": 1.33333333333333,
            "count": 1
           }
          ]
         }
        },
        {
         "name": "starting_model",
         "dtype": "float64",
         "stats": {
          "unique_count": 251,
          "nan_count": 0,
          "min": "0.0027200785277791",
          "max": "2.3637940493778333",
          "histogram": [
           {
            "bin_start": 0.0027200785277791,
            "bin_end": 0.23882747561278456,
            "count": 110
           },
           {
            "bin_start": 0.23882747561278456,
            "bin_end": 0.47493487269779,
            "count": 65
           },
           {
            "bin_start": 0.47493487269779,
            "bin_end": 0.7110422697827955,
            "count": 33
           },
           {
            "bin_start": 0.7110422697827955,
            "bin_end": 0.9471496668678009,
            "count": 26
           },
           {
            "bin_start": 0.9471496668678009,
            "bin_end": 1.1832570639528062,
            "count": 10
           },
           {
            "bin_start": 1.1832570639528062,
            "bin_end": 1.4193644610378118,
            "count": 4
           },
           {
            "bin_start": 1.4193644610378118,
            "bin_end": 1.6554718581228172,
            "count": 2
           },
           {
            "bin_start": 1.6554718581228172,
            "bin_end": 1.8915792552078226,
            "count": 0
           },
           {
            "bin_start": 1.8915792552078226,
            "bin_end": 2.127686652292828,
            "count": 0
           },
           {
            "bin_start": 2.127686652292828,
            "bin_end": 2.3637940493778333,
            "count": 1
           }
          ]
         }
        },
        {
         "name": "_deepnote_index_column",
         "dtype": "int64"
        }
       ],
       "rows": [
        {
         "real_data": 0.5,
         "starting_model": 0.1220661961400106,
         "_deepnote_index_column": 0
        },
        {
         "real_data": 0.416666666666667,
         "starting_model": 0.0222638988548102,
         "_deepnote_index_column": 1
        },
        {
         "real_data": 0.833333333333333,
         "starting_model": 0.404330463186876,
         "_deepnote_index_column": 2
        },
        {
         "real_data": 0.333333333333333,
         "starting_model": 0.7949114858192914,
         "_deepnote_index_column": 3
        },
        {
         "real_data": 0.416666666666667,
         "starting_model": 0.6127280999175605,
         "_deepnote_index_column": 4
        },
        {
         "real_data": 0.583333333333334,
         "starting_model": 0.4499504010730419,
         "_deepnote_index_column": 5
        },
        {
         "real_data": 0.5,
         "starting_model": 0.785787456106792,
         "_deepnote_index_column": 6
        },
        {
         "real_data": 0.583333333333334,
         "starting_model": 0.0660902119471201,
         "_deepnote_index_column": 7
        },
        {
         "real_data": 0.666666666666667,
         "starting_model": 0.404664362352299,
         "_deepnote_index_column": 8
        },
        {
         "real_data": 0.5,
         "starting_model": 0.0818894019663013,
         "_deepnote_index_column": 9
        }
       ]
      },
      "text/plain": "     real_data  starting_model\n0     0.500000        0.122066\n1     0.416667        0.022264\n2     0.833333        0.404330\n3     0.333333        0.794911\n4     0.416667        0.612728\n..         ...             ...\n246   0.416667        0.196080\n247   0.500000        0.392995\n248   0.750000        0.899421\n249   0.333333        0.186423\n250   0.500000        0.836596\n\n[251 rows x 2 columns]",
      "text/html": "<div>\n<style scoped>\n    .dataframe tbody tr th:only-of-type {\n        vertical-align: middle;\n    }\n\n    .dataframe tbody tr th {\n        vertical-align: top;\n    }\n\n    .dataframe thead th {\n        text-align: right;\n    }\n</style>\n<table border=\"1\" class=\"dataframe\">\n  <thead>\n    <tr style=\"text-align: right;\">\n      <th></th>\n      <th>real_data</th>\n      <th>starting_model</th>\n    </tr>\n  </thead>\n  <tbody>\n    <tr>\n      <th>0</th>\n      <td>0.500000</td>\n      <td>0.122066</td>\n    </tr>\n    <tr>\n      <th>1</th>\n      <td>0.416667</td>\n      <td>0.022264</td>\n    </tr>\n    <tr>\n      <th>2</th>\n      <td>0.833333</td>\n      <td>0.404330</td>\n    </tr>\n    <tr>\n      <th>3</th>\n      <td>0.333333</td>\n      <td>0.794911</td>\n    </tr>\n    <tr>\n      <th>4</th>\n      <td>0.416667</td>\n      <td>0.612728</td>\n    </tr>\n    <tr>\n      <th>...</th>\n      <td>...</td>\n      <td>...</td>\n    </tr>\n    <tr>\n      <th>246</th>\n      <td>0.416667</td>\n      <td>0.196080</td>\n    </tr>\n    <tr>\n      <th>247</th>\n      <td>0.500000</td>\n      <td>0.392995</td>\n    </tr>\n    <tr>\n      <th>248</th>\n      <td>0.750000</td>\n      <td>0.899421</td>\n    </tr>\n    <tr>\n      <th>249</th>\n      <td>0.333333</td>\n      <td>0.186423</td>\n    </tr>\n    <tr>\n      <th>250</th>\n      <td>0.500000</td>\n      <td>0.836596</td>\n    </tr>\n  </tbody>\n</table>\n<p>251 rows × 2 columns</p>\n</div>"
     },
     "metadata": {}
    }
   ]
  },
  {
   "cell_type": "code",
   "metadata": {
    "cell_id": "dcd04507a1ee488aa3f6ecc022df03e7",
    "tags": [],
    "deepnote_to_be_reexecuted": false,
    "source_hash": "f8a71d69",
    "execution_start": 1654869545321,
    "execution_millis": 148,
    "owner_user_id": "04e5cc81-8e45-494a-88d3-9de193fcc61e",
    "deepnote_cell_type": "code",
    "deepnote_cell_height": 612.109375,
    "deepnote_output_heights": [
     557.03125
    ]
   },
   "source": "res = plot_funcs.boxplot(y=[df.iloc[:,0], df.iloc[:,1], df.iloc[:,2], df.iloc[:,3]], colors=['blue', 'C1','green', 'khaki'],  title = 'Inter-division time comparison', ylabel= 'Times', xlabel='', x_font= 30, labels=False )\n\n\n\nfig, ax, bp = res[0], res[1], res[2]\nax.set_xticklabels(['Real times', 'Starting model', 'Model 1', 'Model 2'], fontdict={'fontsize':15})\n\n\nfor line in bp['medians']:\n    # get position data for median line\n    x, y = line.get_xydata()[1] #  median line\n    # overlay median value\n    ax.text(x-0.1, y, '%.2f' % y,\n         horizontalalignment='center', fontsize=12) # draw above, centered\n\nfor line in bp['caps']:\n    x, y = line.get_xydata()[0] # bottom of left line\n    ax.text(x,y, '%.2f' % y,\n         horizontalalignment='center', # centered\n         verticalalignment='top', fontsize=12)  \n         \n\nfor line in bp['whiskers']:\n    x, y = line.get_xydata()[0] # bottom of left line\n    ax.text(x-0.27,y, '%.2f' % y,\n         horizontalalignment='center', # centered\n         verticalalignment='center', fontsize=12) ",
   "execution_count": 3,
   "outputs": [
    {
     "output_type": "error",
     "ename": "IndexError",
     "evalue": "single positional indexer is out-of-bounds",
     "traceback": [
      "\u001b[0;31m---------------------------------------------------------------------------\u001b[0m",
      "\u001b[0;31mIndexError\u001b[0m                                Traceback (most recent call last)",
      "\u001b[0;32m<ipython-input-3-2af28b05055d>\u001b[0m in \u001b[0;36m<cell line: 1>\u001b[0;34m()\u001b[0m\n\u001b[0;32m----> 1\u001b[0;31m \u001b[0mres\u001b[0m \u001b[0;34m=\u001b[0m \u001b[0mplot_funcs\u001b[0m\u001b[0;34m.\u001b[0m\u001b[0mboxplot\u001b[0m\u001b[0;34m(\u001b[0m\u001b[0my\u001b[0m\u001b[0;34m=\u001b[0m\u001b[0;34m[\u001b[0m\u001b[0mdf\u001b[0m\u001b[0;34m.\u001b[0m\u001b[0miloc\u001b[0m\u001b[0;34m[\u001b[0m\u001b[0;34m:\u001b[0m\u001b[0;34m,\u001b[0m\u001b[0;36m0\u001b[0m\u001b[0;34m]\u001b[0m\u001b[0;34m,\u001b[0m \u001b[0mdf\u001b[0m\u001b[0;34m.\u001b[0m\u001b[0miloc\u001b[0m\u001b[0;34m[\u001b[0m\u001b[0;34m:\u001b[0m\u001b[0;34m,\u001b[0m\u001b[0;36m1\u001b[0m\u001b[0;34m]\u001b[0m\u001b[0;34m,\u001b[0m \u001b[0mdf\u001b[0m\u001b[0;34m.\u001b[0m\u001b[0miloc\u001b[0m\u001b[0;34m[\u001b[0m\u001b[0;34m:\u001b[0m\u001b[0;34m,\u001b[0m\u001b[0;36m2\u001b[0m\u001b[0;34m]\u001b[0m\u001b[0;34m,\u001b[0m \u001b[0mdf\u001b[0m\u001b[0;34m.\u001b[0m\u001b[0miloc\u001b[0m\u001b[0;34m[\u001b[0m\u001b[0;34m:\u001b[0m\u001b[0;34m,\u001b[0m\u001b[0;36m3\u001b[0m\u001b[0;34m]\u001b[0m\u001b[0;34m]\u001b[0m\u001b[0;34m,\u001b[0m \u001b[0mcolors\u001b[0m\u001b[0;34m=\u001b[0m\u001b[0;34m[\u001b[0m\u001b[0;34m'blue'\u001b[0m\u001b[0;34m,\u001b[0m \u001b[0;34m'C1'\u001b[0m\u001b[0;34m,\u001b[0m\u001b[0;34m'green'\u001b[0m\u001b[0;34m,\u001b[0m \u001b[0;34m'khaki'\u001b[0m\u001b[0;34m]\u001b[0m\u001b[0;34m,\u001b[0m  \u001b[0mtitle\u001b[0m \u001b[0;34m=\u001b[0m \u001b[0;34m'Inter-division time comparison'\u001b[0m\u001b[0;34m,\u001b[0m \u001b[0mylabel\u001b[0m\u001b[0;34m=\u001b[0m \u001b[0;34m'Times'\u001b[0m\u001b[0;34m,\u001b[0m \u001b[0mxlabel\u001b[0m\u001b[0;34m=\u001b[0m\u001b[0;34m''\u001b[0m\u001b[0;34m,\u001b[0m \u001b[0mx_font\u001b[0m\u001b[0;34m=\u001b[0m \u001b[0;36m30\u001b[0m\u001b[0;34m,\u001b[0m \u001b[0mlabels\u001b[0m\u001b[0;34m=\u001b[0m\u001b[0;32mFalse\u001b[0m \u001b[0;34m)\u001b[0m\u001b[0;34m\u001b[0m\u001b[0;34m\u001b[0m\u001b[0m\n\u001b[0m\u001b[1;32m      2\u001b[0m \u001b[0;34m\u001b[0m\u001b[0m\n\u001b[1;32m      3\u001b[0m \u001b[0;34m\u001b[0m\u001b[0m\n\u001b[1;32m      4\u001b[0m \u001b[0;34m\u001b[0m\u001b[0m\n\u001b[1;32m      5\u001b[0m \u001b[0mfig\u001b[0m\u001b[0;34m,\u001b[0m \u001b[0max\u001b[0m\u001b[0;34m,\u001b[0m \u001b[0mbp\u001b[0m \u001b[0;34m=\u001b[0m \u001b[0mres\u001b[0m\u001b[0;34m[\u001b[0m\u001b[0;36m0\u001b[0m\u001b[0;34m]\u001b[0m\u001b[0;34m,\u001b[0m \u001b[0mres\u001b[0m\u001b[0;34m[\u001b[0m\u001b[0;36m1\u001b[0m\u001b[0;34m]\u001b[0m\u001b[0;34m,\u001b[0m \u001b[0mres\u001b[0m\u001b[0;34m[\u001b[0m\u001b[0;36m2\u001b[0m\u001b[0;34m]\u001b[0m\u001b[0;34m\u001b[0m\u001b[0;34m\u001b[0m\u001b[0m\n",
      "\u001b[0;32m/shared-libs/python3.8/py/lib/python3.8/site-packages/pandas/core/indexing.py\u001b[0m in \u001b[0;36m__getitem__\u001b[0;34m(self, key)\u001b[0m\n\u001b[1;32m    887\u001b[0m                     \u001b[0;31m# AttributeError for IntervalTree get_value\u001b[0m\u001b[0;34m\u001b[0m\u001b[0;34m\u001b[0m\u001b[0;34m\u001b[0m\u001b[0m\n\u001b[1;32m    888\u001b[0m                     \u001b[0;32mreturn\u001b[0m \u001b[0mself\u001b[0m\u001b[0;34m.\u001b[0m\u001b[0mobj\u001b[0m\u001b[0;34m.\u001b[0m\u001b[0m_get_value\u001b[0m\u001b[0;34m(\u001b[0m\u001b[0;34m*\u001b[0m\u001b[0mkey\u001b[0m\u001b[0;34m,\u001b[0m \u001b[0mtakeable\u001b[0m\u001b[0;34m=\u001b[0m\u001b[0mself\u001b[0m\u001b[0;34m.\u001b[0m\u001b[0m_takeable\u001b[0m\u001b[0;34m)\u001b[0m\u001b[0;34m\u001b[0m\u001b[0;34m\u001b[0m\u001b[0m\n\u001b[0;32m--> 889\u001b[0;31m             \u001b[0;32mreturn\u001b[0m \u001b[0mself\u001b[0m\u001b[0;34m.\u001b[0m\u001b[0m_getitem_tuple\u001b[0m\u001b[0;34m(\u001b[0m\u001b[0mkey\u001b[0m\u001b[0;34m)\u001b[0m\u001b[0;34m\u001b[0m\u001b[0;34m\u001b[0m\u001b[0m\n\u001b[0m\u001b[1;32m    890\u001b[0m         \u001b[0;32melse\u001b[0m\u001b[0;34m:\u001b[0m\u001b[0;34m\u001b[0m\u001b[0;34m\u001b[0m\u001b[0m\n\u001b[1;32m    891\u001b[0m             \u001b[0;31m# we by definition only have the 0th axis\u001b[0m\u001b[0;34m\u001b[0m\u001b[0;34m\u001b[0m\u001b[0;34m\u001b[0m\u001b[0m\n",
      "\u001b[0;32m/shared-libs/python3.8/py/lib/python3.8/site-packages/pandas/core/indexing.py\u001b[0m in \u001b[0;36m_getitem_tuple\u001b[0;34m(self, tup)\u001b[0m\n\u001b[1;32m   1448\u001b[0m     \u001b[0;32mdef\u001b[0m \u001b[0m_getitem_tuple\u001b[0m\u001b[0;34m(\u001b[0m\u001b[0mself\u001b[0m\u001b[0;34m,\u001b[0m \u001b[0mtup\u001b[0m\u001b[0;34m:\u001b[0m \u001b[0mTuple\u001b[0m\u001b[0;34m)\u001b[0m\u001b[0;34m:\u001b[0m\u001b[0;34m\u001b[0m\u001b[0;34m\u001b[0m\u001b[0m\n\u001b[1;32m   1449\u001b[0m \u001b[0;34m\u001b[0m\u001b[0m\n\u001b[0;32m-> 1450\u001b[0;31m         \u001b[0mself\u001b[0m\u001b[0;34m.\u001b[0m\u001b[0m_has_valid_tuple\u001b[0m\u001b[0;34m(\u001b[0m\u001b[0mtup\u001b[0m\u001b[0;34m)\u001b[0m\u001b[0;34m\u001b[0m\u001b[0;34m\u001b[0m\u001b[0m\n\u001b[0m\u001b[1;32m   1451\u001b[0m         \u001b[0;32mwith\u001b[0m \u001b[0msuppress\u001b[0m\u001b[0;34m(\u001b[0m\u001b[0mIndexingError\u001b[0m\u001b[0;34m)\u001b[0m\u001b[0;34m:\u001b[0m\u001b[0;34m\u001b[0m\u001b[0;34m\u001b[0m\u001b[0m\n\u001b[1;32m   1452\u001b[0m             \u001b[0;32mreturn\u001b[0m \u001b[0mself\u001b[0m\u001b[0;34m.\u001b[0m\u001b[0m_getitem_lowerdim\u001b[0m\u001b[0;34m(\u001b[0m\u001b[0mtup\u001b[0m\u001b[0;34m)\u001b[0m\u001b[0;34m\u001b[0m\u001b[0;34m\u001b[0m\u001b[0m\n",
      "\u001b[0;32m/shared-libs/python3.8/py/lib/python3.8/site-packages/pandas/core/indexing.py\u001b[0m in \u001b[0;36m_has_valid_tuple\u001b[0;34m(self, key)\u001b[0m\n\u001b[1;32m    721\u001b[0m         \u001b[0;32mfor\u001b[0m \u001b[0mi\u001b[0m\u001b[0;34m,\u001b[0m \u001b[0mk\u001b[0m \u001b[0;32min\u001b[0m \u001b[0menumerate\u001b[0m\u001b[0;34m(\u001b[0m\u001b[0mkey\u001b[0m\u001b[0;34m)\u001b[0m\u001b[0;34m:\u001b[0m\u001b[0;34m\u001b[0m\u001b[0;34m\u001b[0m\u001b[0m\n\u001b[1;32m    722\u001b[0m             \u001b[0;32mtry\u001b[0m\u001b[0;34m:\u001b[0m\u001b[0;34m\u001b[0m\u001b[0;34m\u001b[0m\u001b[0m\n\u001b[0;32m--> 723\u001b[0;31m                 \u001b[0mself\u001b[0m\u001b[0;34m.\u001b[0m\u001b[0m_validate_key\u001b[0m\u001b[0;34m(\u001b[0m\u001b[0mk\u001b[0m\u001b[0;34m,\u001b[0m \u001b[0mi\u001b[0m\u001b[0;34m)\u001b[0m\u001b[0;34m\u001b[0m\u001b[0;34m\u001b[0m\u001b[0m\n\u001b[0m\u001b[1;32m    724\u001b[0m             \u001b[0;32mexcept\u001b[0m \u001b[0mValueError\u001b[0m \u001b[0;32mas\u001b[0m \u001b[0merr\u001b[0m\u001b[0;34m:\u001b[0m\u001b[0;34m\u001b[0m\u001b[0;34m\u001b[0m\u001b[0m\n\u001b[1;32m    725\u001b[0m                 raise ValueError(\n",
      "\u001b[0;32m/shared-libs/python3.8/py/lib/python3.8/site-packages/pandas/core/indexing.py\u001b[0m in \u001b[0;36m_validate_key\u001b[0;34m(self, key, axis)\u001b[0m\n\u001b[1;32m   1356\u001b[0m             \u001b[0;32mreturn\u001b[0m\u001b[0;34m\u001b[0m\u001b[0;34m\u001b[0m\u001b[0m\n\u001b[1;32m   1357\u001b[0m         \u001b[0;32melif\u001b[0m \u001b[0mis_integer\u001b[0m\u001b[0;34m(\u001b[0m\u001b[0mkey\u001b[0m\u001b[0;34m)\u001b[0m\u001b[0;34m:\u001b[0m\u001b[0;34m\u001b[0m\u001b[0;34m\u001b[0m\u001b[0m\n\u001b[0;32m-> 1358\u001b[0;31m             \u001b[0mself\u001b[0m\u001b[0;34m.\u001b[0m\u001b[0m_validate_integer\u001b[0m\u001b[0;34m(\u001b[0m\u001b[0mkey\u001b[0m\u001b[0;34m,\u001b[0m \u001b[0maxis\u001b[0m\u001b[0;34m)\u001b[0m\u001b[0;34m\u001b[0m\u001b[0;34m\u001b[0m\u001b[0m\n\u001b[0m\u001b[1;32m   1359\u001b[0m         \u001b[0;32melif\u001b[0m \u001b[0misinstance\u001b[0m\u001b[0;34m(\u001b[0m\u001b[0mkey\u001b[0m\u001b[0;34m,\u001b[0m \u001b[0mtuple\u001b[0m\u001b[0;34m)\u001b[0m\u001b[0;34m:\u001b[0m\u001b[0;34m\u001b[0m\u001b[0;34m\u001b[0m\u001b[0m\n\u001b[1;32m   1360\u001b[0m             \u001b[0;31m# a tuple should already have been caught by this point\u001b[0m\u001b[0;34m\u001b[0m\u001b[0;34m\u001b[0m\u001b[0;34m\u001b[0m\u001b[0m\n",
      "\u001b[0;32m/shared-libs/python3.8/py/lib/python3.8/site-packages/pandas/core/indexing.py\u001b[0m in \u001b[0;36m_validate_integer\u001b[0;34m(self, key, axis)\u001b[0m\n\u001b[1;32m   1442\u001b[0m         \u001b[0mlen_axis\u001b[0m \u001b[0;34m=\u001b[0m \u001b[0mlen\u001b[0m\u001b[0;34m(\u001b[0m\u001b[0mself\u001b[0m\u001b[0;34m.\u001b[0m\u001b[0mobj\u001b[0m\u001b[0;34m.\u001b[0m\u001b[0m_get_axis\u001b[0m\u001b[0;34m(\u001b[0m\u001b[0maxis\u001b[0m\u001b[0;34m)\u001b[0m\u001b[0;34m)\u001b[0m\u001b[0;34m\u001b[0m\u001b[0;34m\u001b[0m\u001b[0m\n\u001b[1;32m   1443\u001b[0m         \u001b[0;32mif\u001b[0m \u001b[0mkey\u001b[0m \u001b[0;34m>=\u001b[0m \u001b[0mlen_axis\u001b[0m \u001b[0;32mor\u001b[0m \u001b[0mkey\u001b[0m \u001b[0;34m<\u001b[0m \u001b[0;34m-\u001b[0m\u001b[0mlen_axis\u001b[0m\u001b[0;34m:\u001b[0m\u001b[0;34m\u001b[0m\u001b[0;34m\u001b[0m\u001b[0m\n\u001b[0;32m-> 1444\u001b[0;31m             \u001b[0;32mraise\u001b[0m \u001b[0mIndexError\u001b[0m\u001b[0;34m(\u001b[0m\u001b[0;34m\"single positional indexer is out-of-bounds\"\u001b[0m\u001b[0;34m)\u001b[0m\u001b[0;34m\u001b[0m\u001b[0;34m\u001b[0m\u001b[0m\n\u001b[0m\u001b[1;32m   1445\u001b[0m \u001b[0;34m\u001b[0m\u001b[0m\n\u001b[1;32m   1446\u001b[0m     \u001b[0;31m# -------------------------------------------------------------------\u001b[0m\u001b[0;34m\u001b[0m\u001b[0;34m\u001b[0m\u001b[0;34m\u001b[0m\u001b[0m\n",
      "\u001b[0;31mIndexError\u001b[0m: single positional indexer is out-of-bounds"
     ]
    }
   ]
  },
  {
   "cell_type": "code",
   "metadata": {
    "cell_id": "551e07983707418580324ce11cd6fa86",
    "tags": [],
    "deepnote_to_be_reexecuted": true,
    "source_hash": "e215065a",
    "execution_start": 1654506188939,
    "execution_millis": 39,
    "deepnote_cell_type": "code",
    "deepnote_cell_height": 293.9375,
    "deepnote_output_heights": [
     null,
     78.75
    ]
   },
   "source": "print('Predictive Density:')\n\ndf_pd = pd.read_csv('../data/pred_density.csv')\ndf_pd[~np.isinf(df_pd)].mean()\n",
   "outputs": [
    {
     "name": "stdout",
     "text": "Predictive Density:\n",
     "output_type": "stream"
    },
    {
     "output_type": "execute_result",
     "execution_count": 11,
     "data": {
      "text/plain": "starting_model    -7.161601\nmodel_1           19.118613\nmodel_2           26.604128\ndtype: float64"
     },
     "metadata": {}
    }
   ],
   "execution_count": null
  },
  {
   "cell_type": "code",
   "source": "df_pd",
   "metadata": {
    "cell_id": "2b74a8919d1b45278e13f3c1b38082be",
    "tags": [],
    "deepnote_to_be_reexecuted": true,
    "source_hash": "1ef23f8a",
    "execution_start": 1654507477071,
    "execution_millis": 44,
    "deepnote_cell_type": "code",
    "deepnote_cell_height": 599.859375
   },
   "outputs": [
    {
     "output_type": "execute_result",
     "execution_count": 12,
     "data": {
      "application/vnd.deepnote.dataframe.v3+json": {
       "column_count": 3,
       "row_count": 10,
       "columns": [
        {
         "name": "starting_model",
         "dtype": "float64",
         "stats": {
          "unique_count": 10,
          "nan_count": 0,
          "min": "-361.6219353533221",
          "max": "170.82110176450112",
          "histogram": [
           {
            "bin_start": -361.6219353533221,
            "bin_end": -308.3776316415398,
            "count": 1
           },
           {
            "bin_start": -308.3776316415398,
            "bin_end": -255.13332792975746,
            "count": 0
           },
           {
            "bin_start": -255.13332792975746,
            "bin_end": -201.88902421797513,
            "count": 2
           },
           {
            "bin_start": -201.88902421797513,
            "bin_end": -148.6447205061928,
            "count": 0
           },
           {
            "bin_start": -148.6447205061928,
            "bin_end": -95.40041679441049,
            "count": 0
           },
           {
            "bin_start": -95.40041679441049,
            "bin_end": -42.15611308262817,
            "count": 0
           },
           {
            "bin_start": -42.15611308262817,
            "bin_end": 11.088190629154155,
            "count": 0
           },
           {
            "bin_start": 11.088190629154155,
            "bin_end": 64.33249434093648,
            "count": 1
           },
           {
            "bin_start": 64.33249434093648,
            "bin_end": 117.5767980527188,
            "count": 4
           },
           {
            "bin_start": 117.5767980527188,
            "bin_end": 170.82110176450112,
            "count": 2
           }
          ]
         }
        },
        {
         "name": "model_1",
         "dtype": "float64",
         "stats": {
          "unique_count": 10,
          "nan_count": 0,
          "min": "-302.2218143566479",
          "max": "132.87844245994637",
          "histogram": [
           {
            "bin_start": -302.2218143566479,
            "bin_end": -258.71178867498844,
            "count": 1
           },
           {
            "bin_start": -258.71178867498844,
            "bin_end": -215.20176299332903,
            "count": 0
           },
           {
            "bin_start": -215.20176299332903,
            "bin_end": -171.6917373116696,
            "count": 0
           },
           {
            "bin_start": -171.6917373116696,
            "bin_end": -128.18171163001017,
            "count": 0
           },
           {
            "bin_start": -128.18171163001017,
            "bin_end": -84.67168594835073,
            "count": 0
           },
           {
            "bin_start": -84.67168594835073,
            "bin_end": -41.16166026669134,
            "count": 1
           },
           {
            "bin_start": -41.16166026669134,
            "bin_end": 2.3483654149681,
            "count": 1
           },
           {
            "bin_start": 2.3483654149681,
            "bin_end": 45.85839109662754,
            "count": 3
           },
           {
            "bin_start": 45.85839109662754,
            "bin_end": 89.36841677828698,
            "count": 0
           },
           {
            "bin_start": 89.36841677828698,
            "bin_end": 132.87844245994637,
            "count": 4
           }
          ]
         }
        },
        {
         "name": "model_2",
         "dtype": "float64",
         "stats": {
          "unique_count": 10,
          "nan_count": 0,
          "min": "-inf",
          "max": "150.30983337717691",
          "histogram": [
           {
            "bin_start": -293.8501046390945,
            "bin_end": -249.4341108374674,
            "count": 1
           },
           {
            "bin_start": -249.4341108374674,
            "bin_end": -205.01811703584025,
            "count": 0
           },
           {
            "bin_start": -205.01811703584025,
            "bin_end": -160.60212323421308,
            "count": 0
           },
           {
            "bin_start": -160.60212323421308,
            "bin_end": -116.18612943258594,
            "count": 0
           },
           {
            "bin_start": -116.18612943258594,
            "bin_end": -71.7701356309588,
            "count": 1
           },
           {
            "bin_start": -71.7701356309588,
            "bin_end": -27.35414182933164,
            "count": 0
           },
           {
            "bin_start": -27.35414182933164,
            "bin_end": 17.06185197229547,
            "count": 1
           },
           {
            "bin_start": 17.06185197229547,
            "bin_end": 61.47784577392264,
            "count": 2
           },
           {
            "bin_start": 61.47784577392264,
            "bin_end": 105.8938395755498,
            "count": 0
           },
           {
            "bin_start": 105.8938395755498,
            "bin_end": 150.30983337717691,
            "count": 4
           }
          ]
         }
        },
        {
         "name": "_deepnote_index_column",
         "dtype": "int64"
        }
       ],
       "rows": [
        {
         "starting_model": 51.40822328266943,
         "model_1": 34.06735152583866,
         "model_2": 46.75473214123427,
         "_deepnote_index_column": 0
        },
        {
         "starting_model": 100.0593604745062,
         "model_1": 132.87844245994637,
         "model_2": 150.30983337717691,
         "_deepnote_index_column": 1
        },
        {
         "starting_model": -361.6219353533221,
         "model_1": 95.56799529511817,
         "model_2": 111.88813765085466,
         "_deepnote_index_column": 2
        },
        {
         "starting_model": 94.76235188188808,
         "model_1": -14.586316929650849,
         "model_2": -12.89936099923031,
         "_deepnote_index_column": 3
        },
        {
         "starting_model": 170.82110176450112,
         "model_1": 41.40050383805465,
         "model_2": "-inf",
         "_deepnote_index_column": 4
        },
        {
         "starting_model": -232.8246425414476,
         "model_1": -302.2218143566479,
         "model_2": -293.8501046390945,
         "_deepnote_index_column": 5
        },
        {
         "starting_model": 73.80197717753701,
         "model_1": -57.69119658932388,
         "model_2": -72.6004325532677,
         "_deepnote_index_column": 6
        },
        {
         "starting_model": -211.41929122929685,
         "model_1": 109.98683499991276,
         "model_2": 127.46003315291765,
         "_deepnote_index_column": 7
        },
        {
         "starting_model": 132.10843405390287,
         "model_1": 25.05852903345796,
         "model_2": 36.23174469920719,
         "_deepnote_index_column": 8
        },
        {
         "starting_model": 111.28841027279132,
         "model_1": 126.72580321475132,
         "model_2": 146.1425676930865,
         "_deepnote_index_column": 9
        }
       ]
      },
      "text/plain": "   starting_model     model_1     model_2\n0       51.408223   34.067352   46.754732\n1      100.059360  132.878442  150.309833\n2     -361.621935   95.567995  111.888138\n3       94.762352  -14.586317  -12.899361\n4      170.821102   41.400504        -inf\n5     -232.824643 -302.221814 -293.850105\n6       73.801977  -57.691197  -72.600433\n7     -211.419291  109.986835  127.460033\n8      132.108434   25.058529   36.231745\n9      111.288410  126.725803  146.142568",
      "text/html": "<div>\n<style scoped>\n    .dataframe tbody tr th:only-of-type {\n        vertical-align: middle;\n    }\n\n    .dataframe tbody tr th {\n        vertical-align: top;\n    }\n\n    .dataframe thead th {\n        text-align: right;\n    }\n</style>\n<table border=\"1\" class=\"dataframe\">\n  <thead>\n    <tr style=\"text-align: right;\">\n      <th></th>\n      <th>starting_model</th>\n      <th>model_1</th>\n      <th>model_2</th>\n    </tr>\n  </thead>\n  <tbody>\n    <tr>\n      <th>0</th>\n      <td>51.408223</td>\n      <td>34.067352</td>\n      <td>46.754732</td>\n    </tr>\n    <tr>\n      <th>1</th>\n      <td>100.059360</td>\n      <td>132.878442</td>\n      <td>150.309833</td>\n    </tr>\n    <tr>\n      <th>2</th>\n      <td>-361.621935</td>\n      <td>95.567995</td>\n      <td>111.888138</td>\n    </tr>\n    <tr>\n      <th>3</th>\n      <td>94.762352</td>\n      <td>-14.586317</td>\n      <td>-12.899361</td>\n    </tr>\n    <tr>\n      <th>4</th>\n      <td>170.821102</td>\n      <td>41.400504</td>\n      <td>-inf</td>\n    </tr>\n    <tr>\n      <th>5</th>\n      <td>-232.824643</td>\n      <td>-302.221814</td>\n      <td>-293.850105</td>\n    </tr>\n    <tr>\n      <th>6</th>\n      <td>73.801977</td>\n      <td>-57.691197</td>\n      <td>-72.600433</td>\n    </tr>\n    <tr>\n      <th>7</th>\n      <td>-211.419291</td>\n      <td>109.986835</td>\n      <td>127.460033</td>\n    </tr>\n    <tr>\n      <th>8</th>\n      <td>132.108434</td>\n      <td>25.058529</td>\n      <td>36.231745</td>\n    </tr>\n    <tr>\n      <th>9</th>\n      <td>111.288410</td>\n      <td>126.725803</td>\n      <td>146.142568</td>\n    </tr>\n  </tbody>\n</table>\n</div>"
     },
     "metadata": {}
    }
   ],
   "execution_count": null
  },
  {
   "cell_type": "code",
   "source": "",
   "metadata": {
    "cell_id": "2c89c7bd9e6b4da1aa1f9ca706d94a7e",
    "tags": [],
    "deepnote_to_be_reexecuted": true,
    "source_hash": "b623e53d",
    "deepnote_cell_type": "code",
    "deepnote_cell_height": 80.953125
   },
   "outputs": [],
   "execution_count": null
  },
  {
   "cell_type": "markdown",
   "source": "<a style='text-decoration:none;line-height:16px;display:flex;color:#5B5B62;padding:10px;justify-content:end;' href='https://deepnote.com?utm_source=created-in-deepnote-cell&projectId=52dba48d-3798-4665-95fc-01a96804955b' target=\"_blank\">\n<img alt='Created in deepnote.com' style='display:inline;max-height:16px;margin:0px;margin-right:7.5px;' src='data:image/svg+xml;base64,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' > </img>\nCreated in <span style='font-weight:600;margin-left:4px;'>Deepnote</span></a>",
   "metadata": {
    "tags": [],
    "created_in_deepnote_cell": true,
    "deepnote_cell_type": "markdown"
   }
  }
 ],
 "nbformat": 4,
 "nbformat_minor": 2,
 "metadata": {
  "orig_nbformat": 2,
  "deepnote": {},
  "deepnote_notebook_id": "dcbc91a3-3654-49b8-ae87-75f1eba2867e",
  "deepnote_execution_queue": []
 }
}