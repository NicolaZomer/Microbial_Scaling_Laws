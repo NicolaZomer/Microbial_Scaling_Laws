{
 "cells": [
  {
   "cell_type": "markdown",
   "source": "# Explaining microbial scaling laws using Bayesian inference\nIn this project, we want to combine methods from _Statistical Physics_ and _Bayesian Data Analysis_ to elucidate the principles behind cellular growth and division. We will study various classes of individual-based growth-division models and infer individual-level processes (model structures and likely ranges of associated parameters) from sigle-cell observations. \n\nIn the _Bayesian framework_, we formalize our process understanding the form of different rate functions, expressing the dependence of growth and division rates on variables characterizing a cell’s state (such as size and protein content), and calculate the Bayesian posteriors for the parameters of these functions.\n\n## Group \n- [Tommaso Amico](https://github.com/tommasoamico)\n- [Andrea Lazzari](https://github.com/AndreaLazzari)\n- [Paolo Zinesi](https://github.com/PaoloZinesi)\n- [Nicola Zomer](https://github.com/NicolaZomer)\n\n## Growth and division processes: general model \nIn our models we consider the evolution of a single non-interacting cell, which undergoes 2 processes:\n- **growth:** the cell size $x(t)$ evolves according to the following equation\n    $$\n    \\dot{x}=g(x(t)) \\quad, \\quad x(0)=x_b\n    $$\n    In some cases this relation can be expressed in vectorial form, where $\\underline{x}$ is the vector of the traits characterizing the cell's state (see model 2). \n- **division:** it is ruled by the _hazard rate function_ $h(x(t))$, which represents the istantaneous probability of the cell to divide. This function is related to the so called _survival function_ $s(t)$, by the relation\n    $$\n    \\frac{\\dot{s}(t)}{s(t)}=-h(t) \\quad , \\quad s(0)=1\n    $$\n    where $s(t)$ gives the probability that the cell will survive (meaning not divide in this case) past a certain time $t$.\n\n**While the growth is a deterministic process, division is a stochastic event.** Since the cell does not generally divide into two equal parts, we introduce a parameter $frac$, which is treated as a stochastic variable, such that after the division\n$$\n\\underline{x}_{div} = \\left(frac\\cdot x, (1-frac)\\cdot x\\right)\n$$\n\nFinally, we assume that the division ratios $frac$ are distributed according to a Beta function and that the growth rates $\\omega_1$ follow a Gamma function, hence denoting by $f$ the probability density distribution we obtain\n$$\n\\begin{aligned}\nf(frac|a, b) &= Beta(a, b) \\\\\nf(\\omega_1|c, d) &= Gamma(c, d)\n\\end{aligned}\n$$\n\n### Solution of the differential equations\nFor a given model, first we solve analytically the differential equation for $x(t)$, with the initial condition $x(0)=x_b$. Then, we plug $x(t)$ into $h$ and we use $h(x(t))$ to solve the equation for $s(t)$\n\nOnce $s(t)$ is known, it is possible to generate random division times from this distribution using the **inverse transform method** and the solution can be deterministically propagated to find the simulated time series $x(t)$. To do this, it is also necessary to know or draw the values of $\\omega_1$ and $frac$ at each division cycle. ",
   "metadata": {
    "cell_id": "4fab6025485c4655828a6b96f8d0bc03",
    "tags": [],
    "deepnote_cell_type": "markdown",
    "deepnote_cell_height": 1227.15625
   }
  },
  {
   "cell_type": "markdown",
   "source": "# Models\n\n## Model 0 (Linear)\n**Notebook: [Real data, Model 0](./analysis_real_data/REAL_Model_0.ipynb)**\n\nWe start with a very simple stochastic model, biologically not very realistic, but useful to start familiarizing with the problem. In this first model we define $g(x)$ and $h(x)$ as 2 linear functions\n$$\n\\begin{aligned}\ng(x) &\\equiv \\omega_1(\\mu+x) \\\\\nh(x) &\\equiv \\omega_2(1+x/\\nu)\n\\end{aligned}\n$$\nwhere $\\omega_1$ and $\\omega_2$ are frequencies respectively related to the *growth* and *division* phases, while $\\mu$ and $\\nu$ are sizes (tipycally measured in $\\mu m$) that represent the lower and upper limiting trait scales, so they satisfy the relation $ \\mu < \\nu $.\n\nThe ratio between $\\omega_1$ and $\\omega_2$ is the order parameter that triggers the phase transition. The parameters $\\mu$ and $\\nu$ are necessary to cut off the probability distribution (in zero and for large values of $x$), which is important both for physical reasons and for making the distribution normalizable. Introducing these parameters is a mathematical trick, useful for example to prevent the cell from having a too small size, which however is difficult to justify from a biological point of view. We will then see better models, biologically speaking.\n\nThe results of the two differential equations are:\n$$\n\\begin{aligned}\nx(t) &= \\left(x_b+\\frac{\\mu}{\\omega_1}\\right)e^{\\omega_1 t}-\\frac{\\mu}{\\omega_1} \\\\\n\\ln(s(t)) &= \\omega_2 t \\left(\\frac{\\mu}{\\nu}-1\\right) + \\frac{\\omega_2}{\\omega_1} \\left(\\frac{\\mu+x_b}{\\nu}\\right) (1-e^{\\omega_1 t}) \\\\\ns(t) &= \\exp\\left\\{ \\omega_2t \\left(\\frac{\\mu}{\\nu}-1\\right) + \\frac{\\omega_2}{\\omega_1}\\left(\\frac{\\mu + x_b}{\\nu}\\right)(1-e^{\\omega_1t})\\right\\}\n\\end{aligned}\n$$\n",
   "metadata": {
    "cell_id": "de070f1942f74c3b93bc0e456a4e9c63",
    "tags": [],
    "deepnote_cell_type": "markdown",
    "deepnote_cell_height": 664.5625
   },
   "outputs": [],
   "execution_count": null
  },
  {
   "cell_type": "markdown",
   "source": "![img](images/s_model0.png)",
   "metadata": {
    "cell_id": "c29a5f10246e4c2db8e0c5ff5572fea1",
    "tags": [],
    "deepnote_cell_type": "markdown",
    "deepnote_cell_height": 574
   }
  },
  {
   "cell_type": "markdown",
   "source": "## Model 1 (with Plateau)\n**Notebook: [Real data, Model 1](./analysis_real_data/REAL_Model_1.ipynb)**\n\nAs in the previous model, even in this case the cell growth is governed by a single trait, which is the size. However, this model is biologically more realistic, mainly because a lower bound is placed on the size of the cell such that it can divide. \n\nAlso in this case the processes considered are growth and division, governed by $g(x)$ and $h(x)$ respectively. In this model we define $g(x)$ and $h(x)$ as follows\n$$\n\\begin{aligned}\ng(x)&= \\omega_1 x \\\\\nh(x)&=\n\\begin{cases}\n    0  & , \\, x<\\mu \\\\\n    \\omega_2 \\cdot \\frac{x+\\nu}{\\mu+\\nu} & , \\, x\\geq \\mu\n\\end{cases}\n\\end{aligned}\n$$\nwhere $g(x)$ again corresponds to an exponential growth, while $h(x)$ is lower bounded by $\\mu$.\n\nThe results of two differential equations are:\n$$\n\\begin{aligned}\n\nx(t) &= x_b\\, e^{\\omega_1 t} \\\\\n\n\\ln(s(t)) &= - \\left[ \\dfrac{x_b}{\\mu+\\nu} \\dfrac{\\omega_2}{\\omega_1} \\left( e^{\\omega_1 t} - e^{\\omega_1 t_0}\\right) + \\dfrac{\\nu}{\\mu+\\nu}\\, \\omega_2 (t-t_0) \\right] \\theta(t-t_0) \\\\\n\ns(t) &= \\exp\\left\\{ - \\left[ \\dfrac{x_b}{\\mu+\\nu} \\dfrac{\\omega_2}{\\omega_1} \\left( e^{\\omega_1 t} - e^{\\omega_1 t_0}\\right) + \\dfrac{\\nu}{\\mu+\\nu}\\, \\omega_2 (t-t_0) \\right] \\theta(t-t_0) \\right\\}\n\n\n\\end{aligned}\n$$\n\nwhere $t_0 \\equiv \\max\\left\\{0,\\dfrac{1}{\\omega_1} \\ln\\left(\\dfrac{\\mu}{x_b}\\right)\\right\\}$ is the minimum time at which the cell can divide and $\\theta(\\tau)$ is the Heaviside function.\n\nNote that this model is different from the linear one only if the new parameter $t_0$ is bigger than zero, i.e., only if $\\mu > x_b$.\n",
   "metadata": {
    "cell_id": "b440b04db37a4bde9c4b5269acab092b",
    "tags": [],
    "deepnote_cell_type": "markdown",
    "deepnote_cell_height": 616.53125
   },
   "outputs": [],
   "execution_count": null
  },
  {
   "cell_type": "markdown",
   "source": "![img](images/s_model1.png)\n",
   "metadata": {
    "cell_id": "cb11f0d2f1de4ff68d75df75debe2892",
    "tags": [],
    "deepnote_cell_type": "markdown",
    "deepnote_cell_height": 574
   },
   "outputs": [],
   "execution_count": null
  },
  {
   "cell_type": "markdown",
   "source": "## Model 2 (with Protein)\n**Notebook: [Real data, Model 2](./analysis_real_data/REAL_Model_2.ipynb)**\n\nThe main difference between this model and the previous ones is that here we consider 2 traits: the cell size $m(t)$ and its protein content $p(t)$. We call $\\underline{x}$ the vector\n$$\n\\underline{x} = \\begin{pmatrix} m\\\\ p\\end{pmatrix} \n$$\n\nAs before, the traits evolution and the cell division are governed by $g(\\underline{x})$ and $h(p)$ respectively, which are defined as \n$$\n\\begin{aligned}\ng(\\underline{x})&=\\omega_1m\\begin{pmatrix} 1\\\\ c\\end{pmatrix} \\\\\nh(p)&=\n    \\begin{cases}\n    0   & , \\, p<\\mu \\\\\n    \\omega_2 \\, \\frac{p+\\nu}{\\mu+\\nu} & , \\, p\\geq \\mu\n    \\end{cases}\n\\end{aligned}\n$$\nFrom $g(\\underline{x})$ we can notice that the cell size still grows exponentially and the protein content also follows this evolution, scaled by the factor $c$. As $c$ doesn't have a real meaning, we set it to $1$. \n\nMoreover, in this model the condition under which the cell can divide is that it contains a minimum amount of a specific type of protein, which we call $\\mu$. If $p\\geq \\mu$ the cell can divide, otherwise it cannot. Unlike model 1, we do not have any condition on the size of the cell for the division to take place and $h$ depens only on $p$.\n\nThe initial conditions for $m(t)$ and $p(t)$ are\n$$\n\\begin{aligned}\n    p(t=0) &= 0 \\\\\n    m(t=0) &= m_b\n\\end{aligned}\n$$\n\nand the division process occurs in the following way\n$$\n\\begin{pmatrix} m \\\\ p\\end{pmatrix} \\rightarrow \\begin{pmatrix} frac \\cdot m \\\\ 0\\end{pmatrix} + \\begin{pmatrix} (1-frac) \\cdot m \\\\ 0\\end{pmatrix}\n$$\nwhere $frac$ is the division ratio.\n\nSimilarly to the [Model 1](/analysis_real_data/REAL_Model_1.ipynb), the results of the two differential equations are:\n$$\n\\begin{aligned}\n\nm(t) &= m_b\\, e^{\\omega_1 t} \\\\\n\n\n\n\\ln(s(t)) &= - \\left[ \\dfrac{m_b}{\\mu+\\nu} \\dfrac{\\omega_2}{\\omega_1} \\left( e^{\\omega_1 t} - e^{\\omega_1 t_0}\\right) + \\dfrac{\\nu - m_b}{\\mu+\\nu}\\, \\omega_2 (t-t_0) \\right] \\theta   (t-t_0) \\\\\n\n\n\n\n%s(t) &= \\exp\\left\\{ - \\left[ \\dfrac{m_b}{\\mu+\\nu} \\dfrac{\\omega_2}{\\omega_1} \\left.         %(e^\\omega_1 t} - e^{\\omega_1 t_0}\\right) + \\dfrac{\\nu - m_b}{\\mu+\\nu}\\, \\omega_2 (t-t_0) %\\right] \\theta(t-t_0) \\right\\}\n\n\n\n\\end{aligned}\n\n$$\n\nwhere $t_0 \\equiv \\dfrac{1}{\\omega_1} \\ln\\left(1 + \\dfrac{\\mu}{m_b}\\right) $ is the minimum time at which the cell can divide and $\\theta(\\tau)$ is the Heaviside function.\n\nNote that in this model $t_0$ is always bigger than zero, because the argument of the logarithm is alway bigger than one. This means that, independently on the choice of parameters, each cell has a time period in which it cannot divide because the protein has not reached yet the threshold value $\\mu$.",
   "metadata": {
    "cell_id": "b475124b4a8c4caa8ea71f232632adb5",
    "tags": [],
    "deepnote_cell_type": "markdown",
    "deepnote_cell_height": 1000.984375
   },
   "outputs": [],
   "execution_count": null
  },
  {
   "cell_type": "markdown",
   "source": "![img](images/s_model2.png)",
   "metadata": {
    "cell_id": "91940d84699b449292e653c0fdd0e570",
    "tags": [],
    "deepnote_cell_type": "markdown",
    "deepnote_cell_height": 574
   }
  },
  {
   "cell_type": "markdown",
   "source": "# Bayesian Data Analysis\nFor all models, the set of parameters to be inferred is \n$$\n\\underline{\\theta} = \\{\\mu, \\nu, \\omega_2, a, b, c, d\\}\n$$\n\nApplying the Bayes theorem, we can write\n$$\nf(\\underline{\\theta}|\\tau, \\omega_1, frac, M) \\propto f(\\tau, \\omega_1, frac|\\underline{\\theta}, M)\\cdot f(\\underline{\\theta}, M)\n$$\nwhere $M$ is the background information given by the selected model and $\\tau$, $\\omega_1$ and $frac$ are provided by the data.\n\nRegarding the likelihood, $f(\\tau, \\omega_1, frac|\\underline{\\theta})$, applying the chain rule and exploiting the fact that $frac$ and $\\omega_1$ are independent, it can be written as the product of the conditional probability density function of each random variable of interest\n$$\n\\begin{aligned}\nf(\\tau, \\omega_1, frac|\\underline{\\theta}) &=\nf(\\tau|\\omega_1, frac, \\underline{\\theta}) \\cdot f(\\omega_1, frac|\\underline{\\theta}) \\\\\n&=f(\\tau|\\omega_1, frac, \\underline{\\theta}) \\cdot f(\\omega_1|\\underline{\\theta}) \\cdot f(frac|\\underline{\\theta})\n\\end{aligned}\n$$ \nwhere the last 2 are respectively the $Gamma(c, d)$ and $Beta(a, b)$ distributions, while the former is the probability density function of division times, which depends on the selected model and it is the derivative of the survival function $s(t)$.\n\n## Workflow \n- **Calibration**  \nPerforming Markov Chain Monte Carlo (MCMC), via the Python implementation [emcee](https://emcee.readthedocs.io/en/stable/), we find the posterior distribution of $\\theta$ and the marginalized posterior of each parameter, of which we calculate the maximum, the median and the 95% credibility interval. Then, we use this results to generate a simulated time series, that can be compared with the real data, to find which model is statistically better.  \n\n- **Validation** \nModel validation and comparison is achieved by \n- making a boxplot of the simulated and real interdivision times\n- computing the overlap of the histograms of the interdivision times\n- calculating the predictive density\n\n\n## Methods\n- **Sampling from the CDF distribution with numerical inversion**\nFollowing the inverse transform method, to draw a division time $t_d$ from the associated distribution $s(t)$, we draw a random value $K$ from a uniform distribution in the interval $[0, 1]$ (i.e., we draw a \"survival probability”) and solve numerically for $t_d$\n\n$$ \n\\log(s(t_d)) = \\log(K)\n$$\n\n\nWe use the library [Pyinverse](https://pypi.org/project/pynverse/) to find numerically the inverse of a function.\n\n- **Forward propagation**\nAfter having generated the time series of the survival times by sampling from $s(t)$, we can forward propagate the evolution of a single cell, according to the following procedure:\n\n1. Start with the initial size $x_b$\n2. Propagate using the equation for $x(t)$ up to the first division time\n3. Divide the cell size according to $frac$ \n4. Repeat the last 2 points for all division times generated, imposing as initial size of the cell the one after division and resetting the time\n\nIn point **3.**, regarding the value of $frac$, three approches can be followed:\n- set $frac=0.5$ in all iterations assuming the cell always divides equally in two parts;\n- draw the values of $frac$ from the associated Beta distribution;\n- use the real values contained in the dataset. \n\nAfter playing with the first two approaches (see notebooks in folder [analysis_sim_data](./analysis_sim_data)), in order to obtain significant results and to be able to compare the models with real data, we decided to follow the last one.\n\n- **Predictive density**\nTo compute the predictive density, first we divide the dataset in 2 parts, one used for calibration and the other for validation. This is done randomly and several times, in order to get a more robust estimate of the predictive density. \n\nIn the calibration part, we take the maximum a posteriori (MAP) of the posterior: $\\underline{\\theta}_{MAP}$. Then, at each iteration, we use the inferred values of the parameters and the validation set to calculate the predictive density: \n$$\n    \\mathcal{L}(\\underline{\\tau}^V, \\underline{\\omega}_1^V,\\underline{f}^V | \\underline{\\theta}_{MAP}) =\n    \\prod_{cells} \n    \\mathcal{L}(\\underline{\\tau}_i^V | \\underline{\\omega}_{1, i}^V,\\underline{f}_i^V,\\underline{\\theta}_{MAP}) \n    \\cdot \\mathcal{L}(\\underline{\\omega}_{1, i}^V | \\underline{\\theta}_{MAP}) \n    \\cdot \\mathcal{L}(\\underline{f}_i^V | \\underline{\\theta}_{MAP})\n$$\n\nFinally, we take the average of the values obtained at each iteration for each model. Given the 3 models, the best is the one with the largest value of $\\mathcal{L}(\\underline{\\tau}^V, \\underline{\\omega}_1^V,\\underline{f}^V | \\underline{\\theta}_{MAP})$.\n\n",
   "metadata": {
    "cell_id": "0c6d468642964646808f268fda19318c",
    "tags": [],
    "deepnote_cell_type": "markdown",
    "deepnote_cell_height": 1677.640625
   },
   "outputs": [],
   "execution_count": null
  },
  {
   "cell_type": "markdown",
   "source": "# First Simulations\nBefore analyzing the real data, we prefer to carry out simulations for each model. Given a model, we set arbitrary, but meaningful, parameter values ($\\omega_1=1$, $\\omega_2=0.9$, $\\nu=1$, $\\mu=0.1$, $x_b=1$, such that $\\mu \\ll \\nu$ and $\\omega_2<\\omega_1$) and we generate the time series of the cell size. As explained above, this is achieved by sampling the division times from $s(t)$ and deterministically propagate the evolution of the cell to find $x(t)$. To keep the simulation simple, we fix $frac=0.5$.\n\nThen we run MCMC to perform inference on the parameters ($\\omega_1, \\omega_2, \\mu, \\nu$). In this case the results can be compared with the true value of the parameters, which are known from the simulation. \n\nThis is mainly done to familiarize with the problem, with the Metropolis algorithm and with the [emcee](https://emcee.readthedocs.io/en/stable/) library. The resulting notebooks can be found in the folder [analysis_sim_data](./analysis_sim_data):\n\n- [Simulated data, Model 0](./analysis_sim_data/model_0.ipynb)\n- [Simulated data, Model 1](./analysis_sim_data/model_1.ipynb)\n- [Simulated data, Model 2](./analysis_sim_data/model_2.ipynb)\n",
   "metadata": {
    "cell_id": "4e13cda8dbd24220b0d81d405560433a",
    "tags": [],
    "deepnote_cell_type": "markdown",
    "deepnote_cell_height": 406.828125
   },
   "outputs": [],
   "execution_count": null
  },
  {
   "cell_type": "markdown",
   "source": "# Real Data\n\n",
   "metadata": {
    "cell_id": "dfab5191d3904703a1a4b401581f6790",
    "tags": [],
    "deepnote_cell_type": "markdown",
    "deepnote_cell_height": 82
   },
   "outputs": [],
   "execution_count": null
  },
  {
   "cell_type": "code",
   "source": "import pandas as pd\nimport matplotlib.pyplot as plt\nimport numpy as np\n\nimport sys\nsys.path.insert(0, './analysis_real_data')\n\nfrom Fernando_package import functions\nfrom Fernando_package import plot_funcs",
   "metadata": {
    "cell_id": "0f4f9693ca6b42c39232474c1fdf8ab8",
    "tags": [],
    "deepnote_to_be_reexecuted": false,
    "source_hash": "7150542f",
    "execution_start": 1655288643996,
    "execution_millis": 1860,
    "deepnote_cell_type": "code",
    "deepnote_cell_height": 225
   },
   "outputs": [],
   "execution_count": 1
  },
  {
   "cell_type": "markdown",
   "source": "First, we import the real data and we create the following objects:\n- `size`: length of the time series, i.e., the number of divisions \n- `xb_realdata`: initial size of the cell \n- `df_microbial_growth`: our dataset ",
   "metadata": {
    "cell_id": "71e3c4aeb0644a44b2ee45b821f59b31",
    "tags": [],
    "deepnote_cell_type": "markdown",
    "deepnote_cell_height": 153.578125
   }
  },
  {
   "cell_type": "code",
   "source": "df_microbial_growth = pd.read_csv('/work/Microbial_Scaling_Laws/data/modified_Susman18_physical_units.csv')\nxb_realdata = df_microbial_growth['length_birth'][0]\n\n# remove first NaN\ndf_microbial_growth  =  df_microbial_growth[~ np.isnan(df_microbial_growth['division_ratio'])]\nsize = len(df_microbial_growth['generationtime'])\n\n# check that there is only one cell in the dataset\nprint('Number of cells in the dataset:', df_microbial_growth['lineage_ID'].nunique()) \n\n# print length of the series and initial size\nprint('Length of the time series:', size)\nprint('Initial size of the cell:', round(xb_realdata, 4))\n\ndisplay(df_microbial_growth)\n\n",
   "metadata": {
    "cell_id": "c38ef4ac44974640aa880a7d77e3b19b",
    "tags": [],
    "deepnote_to_be_reexecuted": false,
    "source_hash": "cd8c8dc1",
    "execution_start": 1655288645860,
    "execution_millis": 67,
    "deepnote_cell_type": "code",
    "deepnote_cell_height": 989.03125
   },
   "outputs": [
    {
     "name": "stdout",
     "text": "Number of cells in the dataset: 1\nLength of the time series: 251\nInitial size of the cell: 1.7914\n",
     "output_type": "stream"
    },
    {
     "data": {
      "application/vnd.deepnote.dataframe.v3+json": {
       "column_count": 12,
       "row_count": 251,
       "columns": [
        {
         "name": "div_and_fold",
         "dtype": "float64",
         "stats": {
          "unique_count": 251,
          "nan_count": 0,
          "min": "0.546096874465105",
          "max": "2.07810702172796",
          "histogram": [
           {
            "bin_start": 0.546096874465105,
            "bin_end": 0.6992978891913906,
            "count": 6
           },
           {
            "bin_start": 0.6992978891913906,
            "bin_end": 0.852498903917676,
            "count": 30
           },
           {
            "bin_start": 0.852498903917676,
            "bin_end": 1.0056999186439615,
            "count": 101
           },
           {
            "bin_start": 1.0056999186439615,
            "bin_end": 1.158900933370247,
            "count": 77
           },
           {
            "bin_start": 1.158900933370247,
            "bin_end": 1.3121019480965326,
            "count": 24
           },
           {
            "bin_start": 1.3121019480965326,
            "bin_end": 1.465302962822818,
            "count": 4
           },
           {
            "bin_start": 1.465302962822818,
            "bin_end": 1.6185039775491035,
            "count": 4
           },
           {
            "bin_start": 1.6185039775491035,
            "bin_end": 1.7717049922753891,
            "count": 1
           },
           {
            "bin_start": 1.7717049922753891,
            "bin_end": 1.9249060070016744,
            "count": 2
           },
           {
            "bin_start": 1.9249060070016744,
            "bin_end": 2.07810702172796,
            "count": 2
           }
          ]
         }
        },
        {
         "name": "fold_growth",
         "dtype": "float64",
         "stats": {
          "unique_count": 251,
          "nan_count": 0,
          "min": "0.17705897633605",
          "max": "1.56885829888933",
          "histogram": [
           {
            "bin_start": 0.17705897633605,
            "bin_end": 0.31623890859137804,
            "count": 6
           },
           {
            "bin_start": 0.31623890859137804,
            "bin_end": 0.45541884084670603,
            "count": 10
           },
           {
            "bin_start": 0.45541884084670603,
            "bin_end": 0.5945987731020341,
            "count": 45
           },
           {
            "bin_start": 0.5945987731020341,
            "bin_end": 0.7337787053573621,
            "count": 85
           },
           {
            "bin_start": 0.7337787053573621,
            "bin_end": 0.8729586376126901,
            "count": 70
           },
           {
            "bin_start": 0.8729586376126901,
            "bin_end": 1.012138569868018,
            "count": 26
           },
           {
            "bin_start": 1.012138569868018,
            "bin_end": 1.151318502123346,
            "count": 6
           },
           {
            "bin_start": 1.151318502123346,
            "bin_end": 1.290498434378674,
            "count": 1
           },
           {
            "bin_start": 1.290498434378674,
            "bin_end": 1.429678366634002,
            "count": 1
           },
           {
            "bin_start": 1.429678366634002,
            "bin_end": 1.56885829888933,
            "count": 1
           }
          ]
         }
        },
        {
         "name": "division_ratio",
         "dtype": "float64",
         "stats": {
          "unique_count": 251,
          "nan_count": 0,
          "min": "0.357723235350301",
          "max": "0.990917846034598",
          "histogram": [
           {
            "bin_start": 0.357723235350301,
            "bin_end": 0.4210426964187307,
            "count": 11
           },
           {
            "bin_start": 0.4210426964187307,
            "bin_end": 0.4843621574871604,
            "count": 102
           },
           {
            "bin_start": 0.4843621574871604,
            "bin_end": 0.54768161855559,
            "count": 119
           },
           {
            "bin_start": 0.54768161855559,
            "bin_end": 0.6110010796240197,
            "count": 15
           },
           {
            "bin_start": 0.6110010796240197,
            "bin_end": 0.6743205406924495,
            "count": 1
           },
           {
            "bin_start": 0.6743205406924495,
            "bin_end": 0.7376400017608792,
            "count": 0
           },
           {
            "bin_start": 0.7376400017608792,
            "bin_end": 0.8009594628293089,
            "count": 0
           },
           {
            "bin_start": 0.8009594628293089,
            "bin_end": 0.8642789238977386,
            "count": 0
           },
           {
            "bin_start": 0.8642789238977386,
            "bin_end": 0.9275983849661682,
            "count": 0
           },
           {
            "bin_start": 0.9275983849661682,
            "bin_end": 0.990917846034598,
            "count": 3
           }
          ]
         }
        },
        {
         "name": "added_length",
         "dtype": "float64",
         "stats": {
          "unique_count": 251,
          "nan_count": 0,
          "min": "0.387557684591295",
          "max": "9.7781973176522",
          "histogram": [
           {
            "bin_start": 0.387557684591295,
            "bin_end": 1.3266216478973856,
            "count": 7
           },
           {
            "bin_start": 1.3266216478973856,
            "bin_end": 2.2656856112034762,
            "count": 72
           },
           {
            "bin_start": 2.2656856112034762,
            "bin_end": 3.2047495745095667,
            "count": 137
           },
           {
            "bin_start": 3.2047495745095667,
            "bin_end": 4.1438135378156575,
            "count": 26
           },
           {
            "bin_start": 4.1438135378156575,
            "bin_end": 5.0828775011217475,
            "count": 5
           },
           {
            "bin_start": 5.0828775011217475,
            "bin_end": 6.021941464427838,
            "count": 1
           },
           {
            "bin_start": 6.021941464427838,
            "bin_end": 6.961005427733928,
            "count": 1
           },
           {
            "bin_start": 6.961005427733928,
            "bin_end": 7.900069391040019,
            "count": 1
           },
           {
            "bin_start": 7.900069391040019,
            "bin_end": 8.83913335434611,
            "count": 0
           },
           {
            "bin_start": 8.83913335434611,
            "bin_end": 9.7781973176522,
            "count": 1
           }
          ]
         }
        },
        {
         "name": "generationtime",
         "dtype": "float64",
         "stats": {
          "unique_count": 53,
          "nan_count": 0,
          "min": "0.0833333333333286",
          "max": "1.33333333333333",
          "histogram": [
           {
            "bin_start": 0.0833333333333286,
            "bin_end": 0.20833333333332874,
            "count": 7
           },
           {
            "bin_start": 0.20833333333332874,
            "bin_end": 0.3333333333333289,
            "count": 6
           },
           {
            "bin_start": 0.3333333333333289,
            "bin_end": 0.45833333333332904,
            "count": 62
           },
           {
            "bin_start": 0.45833333333332904,
            "bin_end": 0.5833333333333292,
            "count": 97
           },
           {
            "bin_start": 0.5833333333333292,
            "bin_end": 0.7083333333333293,
            "count": 61
           },
           {
            "bin_start": 0.7083333333333293,
            "bin_end": 0.8333333333333295,
            "count": 13
           },
           {
            "bin_start": 0.8333333333333295,
            "bin_end": 0.9583333333333296,
            "count": 2
           },
           {
            "bin_start": 0.9583333333333296,
            "bin_end": 1.0833333333333297,
            "count": 1
           },
           {
            "bin_start": 1.0833333333333297,
            "bin_end": 1.20833333333333,
            "count": 1
           },
           {
            "bin_start": 1.20833333333333,
            "bin_end": 1.33333333333333,
            "count": 1
           }
          ]
         }
        },
        {
         "name": "length_birth",
         "dtype": "float64",
         "stats": {
          "unique_count": 251,
          "nan_count": 0,
          "min": "1.53541473227095",
          "max": "7.18441393010281",
          "histogram": [
           {
            "bin_start": 1.53541473227095,
            "bin_end": 2.100314652054136,
            "count": 27
           },
           {
            "bin_start": 2.100314652054136,
            "bin_end": 2.665214571837322,
            "count": 131
           },
           {
            "bin_start": 2.665214571837322,
            "bin_end": 3.230114491620508,
            "count": 74
           },
           {
            "bin_start": 3.230114491620508,
            "bin_end": 3.795014411403694,
            "count": 12
           },
           {
            "bin_start": 3.795014411403694,
            "bin_end": 4.35991433118688,
            "count": 3
           },
           {
            "bin_start": 4.35991433118688,
            "bin_end": 4.924814250970066,
            "count": 1
           },
           {
            "bin_start": 4.924814250970066,
            "bin_end": 5.489714170753252,
            "count": 2
           },
           {
            "bin_start": 5.489714170753252,
            "bin_end": 6.054614090536438,
            "count": 0
           },
           {
            "bin_start": 6.054614090536438,
            "bin_end": 6.619514010319624,
            "count": 0
           },
           {
            "bin_start": 6.619514010319624,
            "bin_end": 7.18441393010281,
            "count": 1
           }
          ]
         }
        },
        {
         "name": "length_final",
         "dtype": "float64",
         "stats": {
          "unique_count": 251,
          "nan_count": 0,
          "min": "2.676769724",
          "max": "12.3506194558684",
          "histogram": [
           {
            "bin_start": 2.676769724,
            "bin_end": 3.64415469718684,
            "count": 5
           },
           {
            "bin_start": 3.64415469718684,
            "bin_end": 4.611539670373681,
            "count": 50
           },
           {
            "bin_start": 4.611539670373681,
            "bin_end": 5.578924643560521,
            "count": 122
           },
           {
            "bin_start": 5.578924643560521,
            "bin_end": 6.546309616747361,
            "count": 56
           },
           {
            "bin_start": 6.546309616747361,
            "bin_end": 7.5136945899342,
            "count": 11
           },
           {
            "bin_start": 7.5136945899342,
            "bin_end": 8.48107956312104,
            "count": 3
           },
           {
            "bin_start": 8.48107956312104,
            "bin_end": 9.448464536307881,
            "count": 2
           },
           {
            "bin_start": 9.448464536307881,
            "bin_end": 10.415849509494722,
            "count": 1
           },
           {
            "bin_start": 10.415849509494722,
            "bin_end": 11.38323448268156,
            "count": 0
           },
           {
            "bin_start": 11.38323448268156,
            "bin_end": 12.3506194558684,
            "count": 1
           }
          ]
         }
        },
        {
         "name": "growth_rate",
         "dtype": "float64",
         "stats": {
          "unique_count": 251,
          "nan_count": 0,
          "min": "0.505963594660099",
          "max": "4.07143555717965",
          "histogram": [
           {
            "bin_start": 0.505963594660099,
            "bin_end": 0.8625107909120542,
            "count": 2
           },
           {
            "bin_start": 0.8625107909120542,
            "bin_end": 1.2190579871640093,
            "count": 48
           },
           {
            "bin_start": 1.2190579871640093,
            "bin_end": 1.5756051834159646,
            "count": 165
           },
           {
            "bin_start": 1.5756051834159646,
            "bin_end": 1.9321523796679196,
            "count": 28
           },
           {
            "bin_start": 1.9321523796679196,
            "bin_end": 2.2886995759198747,
            "count": 4
           },
           {
            "bin_start": 2.2886995759198747,
            "bin_end": 2.64524677217183,
            "count": 0
           },
           {
            "bin_start": 2.64524677217183,
            "bin_end": 3.001793968423785,
            "count": 2
           },
           {
            "bin_start": 3.001793968423785,
            "bin_end": 3.35834116467574,
            "count": 0
           },
           {
            "bin_start": 3.35834116467574,
            "bin_end": 3.714888360927695,
            "count": 0
           },
           {
            "bin_start": 3.714888360927695,
            "bin_end": 4.07143555717965,
            "count": 2
           }
          ]
         }
        },
        {
         "name": "lineage_ID",
         "dtype": "float64",
         "stats": {
          "unique_count": 1,
          "nan_count": 0,
          "min": "15.0",
          "max": "15.0",
          "histogram": [
           {
            "bin_start": 14.5,
            "bin_end": 14.6,
            "count": 0
           },
           {
            "bin_start": 14.6,
            "bin_end": 14.7,
            "count": 0
           },
           {
            "bin_start": 14.7,
            "bin_end": 14.8,
            "count": 0
           },
           {
            "bin_start": 14.8,
            "bin_end": 14.9,
            "count": 0
           },
           {
            "bin_start": 14.9,
            "bin_end": 15,
            "count": 0
           },
           {
            "bin_start": 15,
            "bin_end": 15.1,
            "count": 251
           },
           {
            "bin_start": 15.1,
            "bin_end": 15.2,
            "count": 0
           },
           {
            "bin_start": 15.2,
            "bin_end": 15.3,
            "count": 0
           },
           {
            "bin_start": 15.3,
            "bin_end": 15.4,
            "count": 0
           },
           {
            "bin_start": 15.4,
            "bin_end": 15.5,
            "count": 0
           }
          ]
         }
        },
        {
         "name": "generation",
         "dtype": "float64",
         "stats": {
          "unique_count": 251,
          "nan_count": 0,
          "min": "1.0",
          "max": "253.0",
          "histogram": [
           {
            "bin_start": 1,
            "bin_end": 26.2,
            "count": 26
           },
           {
            "bin_start": 26.2,
            "bin_end": 51.4,
            "count": 25
           },
           {
            "bin_start": 51.4,
            "bin_end": 76.6,
            "count": 25
           },
           {
            "bin_start": 76.6,
            "bin_end": 101.8,
            "count": 25
           },
           {
            "bin_start": 101.8,
            "bin_end": 127,
            "count": 25
           },
           {
            "bin_start": 127,
            "bin_end": 152.2,
            "count": 26
           },
           {
            "bin_start": 152.2,
            "bin_end": 177.4,
            "count": 25
           },
           {
            "bin_start": 177.4,
            "bin_end": 202.6,
            "count": 24
           },
           {
            "bin_start": 202.6,
            "bin_end": 227.79999999999998,
            "count": 24
           },
           {
            "bin_start": 227.79999999999998,
            "bin_end": 253,
            "count": 26
           }
          ]
         }
        },
        {
         "name": "start_time",
         "dtype": "float64",
         "stats": {
          "unique_count": 251,
          "nan_count": 0,
          "min": "1.08333333333333",
          "max": "152.916666666667",
          "histogram": [
           {
            "bin_start": 1.08333333333333,
            "bin_end": 16.266666666666694,
            "count": 25
           },
           {
            "bin_start": 16.266666666666694,
            "bin_end": 31.45000000000006,
            "count": 25
           },
           {
            "bin_start": 31.45000000000006,
            "bin_end": 46.633333333333425,
            "count": 22
           },
           {
            "bin_start": 46.633333333333425,
            "bin_end": 61.81666666666679,
            "count": 26
           },
           {
            "bin_start": 61.81666666666679,
            "bin_end": 77.00000000000016,
            "count": 25
           },
           {
            "bin_start": 77.00000000000016,
            "bin_end": 92.18333333333352,
            "count": 25
           },
           {
            "bin_start": 92.18333333333352,
            "bin_end": 107.36666666666689,
            "count": 25
           },
           {
            "bin_start": 107.36666666666689,
            "bin_end": 122.55000000000025,
            "count": 26
           },
           {
            "bin_start": 122.55000000000025,
            "bin_end": 137.73333333333363,
            "count": 26
           },
           {
            "bin_start": 137.73333333333363,
            "bin_end": 152.916666666667,
            "count": 26
           }
          ]
         }
        },
        {
         "name": "end_time",
         "dtype": "float64",
         "stats": {
          "unique_count": 251,
          "nan_count": 0,
          "min": "1.58333333333333",
          "max": "153.416666666667",
          "histogram": [
           {
            "bin_start": 1.58333333333333,
            "bin_end": 16.766666666666694,
            "count": 25
           },
           {
            "bin_start": 16.766666666666694,
            "bin_end": 31.95000000000006,
            "count": 25
           },
           {
            "bin_start": 31.95000000000006,
            "bin_end": 47.133333333333425,
            "count": 23
           },
           {
            "bin_start": 47.133333333333425,
            "bin_end": 62.31666666666679,
            "count": 25
           },
           {
            "bin_start": 62.31666666666679,
            "bin_end": 77.50000000000016,
            "count": 25
           },
           {
            "bin_start": 77.50000000000016,
            "bin_end": 92.68333333333352,
            "count": 24
           },
           {
            "bin_start": 92.68333333333352,
            "bin_end": 107.86666666666689,
            "count": 26
           },
           {
            "bin_start": 107.86666666666689,
            "bin_end": 123.05000000000025,
            "count": 26
           },
           {
            "bin_start": 123.05000000000025,
            "bin_end": 138.23333333333363,
            "count": 26
           },
           {
            "bin_start": 138.23333333333363,
            "bin_end": 153.416666666667,
            "count": 26
           }
          ]
         }
        },
        {
         "name": "_deepnote_index_column",
         "dtype": "int64"
        }
       ],
       "rows": [
        {
         "div_and_fold": 1.0098307934197,
         "fold_growth": 0.794983848896329,
         "division_ratio": 0.456028002051387,
         "added_length": 3.19832435369885,
         "generationtime": 0.5,
         "length_birth": 2.63365495382557,
         "length_final": 5.83197930752442,
         "growth_rate": 1.58996769779266,
         "lineage_ID": 15,
         "generation": 1,
         "start_time": 1.08333333333333,
         "end_time": 1.58333333333333,
         "_deepnote_index_column": 1
        },
        {
         "div_and_fold": 0.86248240520342,
         "fold_growth": 0.607893198978199,
         "division_ratio": 0.469618916545778,
         "added_length": 2.29117173653322,
         "generationtime": 0.416666666666667,
         "length_birth": 2.73880780371701,
         "length_final": 5.02997954025023,
         "growth_rate": 1.45894367754768,
         "lineage_ID": 15,
         "generation": 2,
         "start_time": 1.66666666666667,
         "end_time": 2.08333333333333,
         "_deepnote_index_column": 2
        },
        {
         "div_and_fold": 1.4264859538416,
         "fold_growth": 1.03736970365688,
         "division_ratio": 0.505526075322566,
         "added_length": 4.6324093463421,
         "generationtime": 0.833333333333333,
         "length_birth": 2.5427858159355,
         "length_final": 7.17519516227761,
         "growth_rate": 1.24484364438826,
         "lineage_ID": 15,
         "generation": 3,
         "start_time": 2.16666666666667,
         "end_time": 3,
         "_deepnote_index_column": 3
        },
        {
         "div_and_fold": 0.729601417548095,
         "fold_growth": 0.490155896574101,
         "division_ratio": 0.446903409482841,
         "added_length": 2.02841337985533,
         "generationtime": 0.333333333333333,
         "length_birth": 3.20661918172665,
         "length_final": 5.23503256158198,
         "growth_rate": 1.47046768972231,
         "lineage_ID": 15,
         "generation": 4,
         "start_time": 3.08333333333333,
         "end_time": 3.41666666666667,
         "_deepnote_index_column": 4
        },
        {
         "div_and_fold": 0.887981951140976,
         "fold_growth": 0.609464016506087,
         "division_ratio": 0.482744438597171,
         "added_length": 2.12143157334131,
         "generationtime": 0.416666666666667,
         "length_birth": 2.5271828549788,
         "length_final": 4.64861442832011,
         "growth_rate": 1.46271363961461,
         "lineage_ID": 15,
         "generation": 5,
         "start_time": 3.5,
         "end_time": 3.91666666666667,
         "_deepnote_index_column": 5
        },
        {
         "div_and_fold": 1.04135711828936,
         "fold_growth": 0.709757017717577,
         "division_ratio": 0.51210160119141,
         "added_length": 2.46030483304954,
         "generationtime": 0.583333333333334,
         "length_birth": 2.38056289206422,
         "length_final": 4.84086772511376,
         "growth_rate": 1.21672631608727,
         "lineage_ID": 15,
         "generation": 6,
         "start_time": 4,
         "end_time": 4.58333333333333,
         "_deepnote_index_column": 6
        },
        {
         "div_and_fold": 0.906843477768965,
         "fold_growth": 0.629224866835989,
         "division_ratio": 0.483351917988853,
         "added_length": 2.05006662359762,
         "generationtime": 0.5,
         "length_birth": 2.33984269966407,
         "length_final": 4.3899093232617,
         "growth_rate": 1.25844973367198,
         "lineage_ID": 15,
         "generation": 7,
         "start_time": 4.66666666666667,
         "end_time": 5.16666666666667,
         "_deepnote_index_column": 7
        },
        {
         "div_and_fold": 1.21742143558949,
         "fold_growth": 0.90776142744314,
         "division_ratio": 0.491139841168619,
         "added_length": 3.18831034266156,
         "generationtime": 0.583333333333334,
         "length_birth": 2.15605936777139,
         "length_final": 5.34436971043295,
         "growth_rate": 1.55616244704538,
         "lineage_ID": 15,
         "generation": 8,
         "start_time": 5.25,
         "end_time": 5.83333333333333,
         "_deepnote_index_column": 8
        },
        {
         "div_and_fold": 1.12020008440884,
         "fold_growth": 0.877093417187681,
         "division_ratio": 0.465992331480415,
         "added_length": 3.4963280990811,
         "generationtime": 0.666666666666667,
         "length_birth": 2.49043530165796,
         "length_final": 5.98676340073906,
         "growth_rate": 1.31564012578152,
         "lineage_ID": 15,
         "generation": 9,
         "start_time": 5.91666666666667,
         "end_time": 6.58333333333333,
         "_deepnote_index_column": 9
        },
        {
         "div_and_fold": 0.949165535878694,
         "fold_growth": 0.663265730824347,
         "division_ratio": 0.488977993052723,
         "added_length": 2.75503393886657,
         "generationtime": 0.5,
         "length_birth": 2.92739555257488,
         "length_final": 5.68242949144144,
         "growth_rate": 1.32653146164869,
         "lineage_ID": 15,
         "generation": 10,
         "start_time": 6.66666666666667,
         "end_time": 7.16666666666667,
         "_deepnote_index_column": 10
        }
       ]
      },
      "text/plain": "     div_and_fold  fold_growth  division_ratio  added_length  generationtime  \\\n1        1.009831     0.794984        0.456028      3.198324        0.500000   \n2        0.862482     0.607893        0.469619      2.291172        0.416667   \n3        1.426486     1.037370        0.505526      4.632409        0.833333   \n4        0.729601     0.490156        0.446903      2.028413        0.333333   \n5        0.887982     0.609464        0.482744      2.121432        0.416667   \n..            ...          ...             ...           ...             ...   \n247      0.940427     0.590789        0.520893      2.192641        0.416667   \n248      0.928602     0.604227        0.507478      2.069835        0.500000   \n249      1.568073     1.046815        0.550478      4.644408        0.750000   \n250      0.809727     0.481681        0.500204      2.215210        0.333333   \n251      0.860970     0.711011        0.422863      2.538870        0.500000   \n\n     length_birth  length_final  growth_rate  lineage_ID  generation  \\\n1        2.633655      5.831979     1.589968        15.0         1.0   \n2        2.738808      5.029980     1.458944        15.0         2.0   \n3        2.542786      7.175195     1.244844        15.0         3.0   \n4        3.206619      5.235033     1.470468        15.0         4.0   \n5        2.527183      4.648614     1.462714        15.0         5.0   \n..            ...           ...          ...         ...         ...   \n247      2.722385      4.915026     1.417893        15.0       249.0   \n248      2.494268      4.564104     1.208453        15.0       250.0   \n249      2.512440      7.156848     1.395754        15.0       251.0   \n250      3.579885      5.795095     1.445043        15.0       252.0   \n251      2.450531      4.989402     1.422022        15.0       253.0   \n\n     start_time    end_time  \n1      1.083333    1.583333  \n2      1.666667    2.083333  \n3      2.166667    3.000000  \n4      3.083333    3.416667  \n5      3.500000    3.916667  \n..          ...         ...  \n247  150.583333  151.000000  \n248  151.083333  151.583333  \n249  151.666667  152.416667  \n250  152.500000  152.833333  \n251  152.916667  153.416667  \n\n[251 rows x 12 columns]",
      "text/html": "<div>\n<style scoped>\n    .dataframe tbody tr th:only-of-type {\n        vertical-align: middle;\n    }\n\n    .dataframe tbody tr th {\n        vertical-align: top;\n    }\n\n    .dataframe thead th {\n        text-align: right;\n    }\n</style>\n<table border=\"1\" class=\"dataframe\">\n  <thead>\n    <tr style=\"text-align: right;\">\n      <th></th>\n      <th>div_and_fold</th>\n      <th>fold_growth</th>\n      <th>division_ratio</th>\n      <th>added_length</th>\n      <th>generationtime</th>\n      <th>length_birth</th>\n      <th>length_final</th>\n      <th>growth_rate</th>\n      <th>lineage_ID</th>\n      <th>generation</th>\n      <th>start_time</th>\n      <th>end_time</th>\n    </tr>\n  </thead>\n  <tbody>\n    <tr>\n      <th>1</th>\n      <td>1.009831</td>\n      <td>0.794984</td>\n      <td>0.456028</td>\n      <td>3.198324</td>\n      <td>0.500000</td>\n      <td>2.633655</td>\n      <td>5.831979</td>\n      <td>1.589968</td>\n      <td>15.0</td>\n      <td>1.0</td>\n      <td>1.083333</td>\n      <td>1.583333</td>\n    </tr>\n    <tr>\n      <th>2</th>\n      <td>0.862482</td>\n      <td>0.607893</td>\n      <td>0.469619</td>\n      <td>2.291172</td>\n      <td>0.416667</td>\n      <td>2.738808</td>\n      <td>5.029980</td>\n      <td>1.458944</td>\n      <td>15.0</td>\n      <td>2.0</td>\n      <td>1.666667</td>\n      <td>2.083333</td>\n    </tr>\n    <tr>\n      <th>3</th>\n      <td>1.426486</td>\n      <td>1.037370</td>\n      <td>0.505526</td>\n      <td>4.632409</td>\n      <td>0.833333</td>\n      <td>2.542786</td>\n      <td>7.175195</td>\n      <td>1.244844</td>\n      <td>15.0</td>\n      <td>3.0</td>\n      <td>2.166667</td>\n      <td>3.000000</td>\n    </tr>\n    <tr>\n      <th>4</th>\n      <td>0.729601</td>\n      <td>0.490156</td>\n      <td>0.446903</td>\n      <td>2.028413</td>\n      <td>0.333333</td>\n      <td>3.206619</td>\n      <td>5.235033</td>\n      <td>1.470468</td>\n      <td>15.0</td>\n      <td>4.0</td>\n      <td>3.083333</td>\n      <td>3.416667</td>\n    </tr>\n    <tr>\n      <th>5</th>\n      <td>0.887982</td>\n      <td>0.609464</td>\n      <td>0.482744</td>\n      <td>2.121432</td>\n      <td>0.416667</td>\n      <td>2.527183</td>\n      <td>4.648614</td>\n      <td>1.462714</td>\n      <td>15.0</td>\n      <td>5.0</td>\n      <td>3.500000</td>\n      <td>3.916667</td>\n    </tr>\n    <tr>\n      <th>...</th>\n      <td>...</td>\n      <td>...</td>\n      <td>...</td>\n      <td>...</td>\n      <td>...</td>\n      <td>...</td>\n      <td>...</td>\n      <td>...</td>\n      <td>...</td>\n      <td>...</td>\n      <td>...</td>\n      <td>...</td>\n    </tr>\n    <tr>\n      <th>247</th>\n      <td>0.940427</td>\n      <td>0.590789</td>\n      <td>0.520893</td>\n      <td>2.192641</td>\n      <td>0.416667</td>\n      <td>2.722385</td>\n      <td>4.915026</td>\n      <td>1.417893</td>\n      <td>15.0</td>\n      <td>249.0</td>\n      <td>150.583333</td>\n      <td>151.000000</td>\n    </tr>\n    <tr>\n      <th>248</th>\n      <td>0.928602</td>\n      <td>0.604227</td>\n      <td>0.507478</td>\n      <td>2.069835</td>\n      <td>0.500000</td>\n      <td>2.494268</td>\n      <td>4.564104</td>\n      <td>1.208453</td>\n      <td>15.0</td>\n      <td>250.0</td>\n      <td>151.083333</td>\n      <td>151.583333</td>\n    </tr>\n    <tr>\n      <th>249</th>\n      <td>1.568073</td>\n      <td>1.046815</td>\n      <td>0.550478</td>\n      <td>4.644408</td>\n      <td>0.750000</td>\n      <td>2.512440</td>\n      <td>7.156848</td>\n      <td>1.395754</td>\n      <td>15.0</td>\n      <td>251.0</td>\n      <td>151.666667</td>\n      <td>152.416667</td>\n    </tr>\n    <tr>\n      <th>250</th>\n      <td>0.809727</td>\n      <td>0.481681</td>\n      <td>0.500204</td>\n      <td>2.215210</td>\n      <td>0.333333</td>\n      <td>3.579885</td>\n      <td>5.795095</td>\n      <td>1.445043</td>\n      <td>15.0</td>\n      <td>252.0</td>\n      <td>152.500000</td>\n      <td>152.833333</td>\n    </tr>\n    <tr>\n      <th>251</th>\n      <td>0.860970</td>\n      <td>0.711011</td>\n      <td>0.422863</td>\n      <td>2.538870</td>\n      <td>0.500000</td>\n      <td>2.450531</td>\n      <td>4.989402</td>\n      <td>1.422022</td>\n      <td>15.0</td>\n      <td>253.0</td>\n      <td>152.916667</td>\n      <td>153.416667</td>\n    </tr>\n  </tbody>\n</table>\n<p>251 rows × 12 columns</p>\n</div>"
     },
     "metadata": {},
     "output_type": "display_data"
    }
   ],
   "execution_count": 2
  },
  {
   "cell_type": "markdown",
   "source": "",
   "metadata": {
    "cell_id": "c170c4adda6b4c6cb9a407c5a21a51f2",
    "tags": [],
    "deepnote_cell_type": "markdown",
    "deepnote_cell_height": 46
   }
  },
  {
   "cell_type": "code",
   "source": "fig = plot_funcs.plot_3d_interactive(df_microbial_growth)\nfig.show()",
   "metadata": {
    "cell_id": "0eb1ad9dddd04db8ba40d05722ac3be5",
    "tags": [],
    "deepnote_to_be_reexecuted": false,
    "source_hash": "d5d855a",
    "execution_start": 1655288645928,
    "execution_millis": 868,
    "deepnote_cell_type": "code",
    "deepnote_cell_height": 642,
    "deepnote_output_heights": [
     527
    ]
   },
   "outputs": [
    {
     "data": {
      "text/html": "<html>\n<head><meta charset=\"utf-8\" /></head>\n<body>\n    <div>            <script src=\"https://cdnjs.cloudflare.com/ajax/libs/mathjax/2.7.5/MathJax.js?config=TeX-AMS-MML_SVG\"></script><script type=\"text/javascript\">if (window.MathJax) {MathJax.Hub.Config({SVG: {font: \"STIX-Web\"}});}</script>                <script type=\"text/javascript\">window.PlotlyConfig = {MathJaxConfig: 'local'};</script>\n        <script src=\"https://cdn.plot.ly/plotly-2.11.1.min.js\"></script>                <div id=\"2c641b42-109e-41da-91e5-7241efa7e9c6\" class=\"plotly-graph-div\" style=\"height:525px; width:100%;\"></div>            <script type=\"text/javascript\">                                    window.PLOTLYENV=window.PLOTLYENV || {};                                    if (document.getElementById(\"2c641b42-109e-41da-91e5-7241efa7e9c6\")) {                    Plotly.newPlot(                        \"2c641b42-109e-41da-91e5-7241efa7e9c6\",                        [{\"hovertemplate\":\"generationtime=%{x}<br>growth_rate=%{y}<br>division_ratio=%{z}<extra></extra>\",\"legendgroup\":\"\",\"marker\":{\"color\":\"#636efa\",\"opacity\":0.7,\"symbol\":\"circle\",\"size\":3},\"mode\":\"markers\",\"name\":\"\",\"scene\":\"scene\",\"showlegend\":false,\"x\":[0.5,0.416666666666667,0.833333333333333,0.333333333333333,0.416666666666667,0.583333333333334,0.5,0.583333333333334,0.666666666666667,0.5,0.416666666666666,0.583333333333333,0.416666666666668,0.500000000000002,0.583333333333334,0.666666666666668,0.583333333333336,0.5,0.5,0.583333333333332,0.583333333333334,0.583333333333336,0.750000000000002,0.416666666666666,0.416666666666664,0.416666666666668,0.5,0.333333333333336,0.500000000000004,0.666666666666664,0.75,0.416666666666668,0.5,0.666666666666664,0.0833333333333322,0.333333333333336,0.666666666666668,0.666666666666664,0.666666666666668,0.583333333333336,0.666666666666668,0.666666666666664,0.583333333333336,0.583333333333336,0.500000000000004,0.416666666666664,0.583333333333336,0.583333333333329,0.416666666666664,0.583333333333329,0.666666666666671,0.5,0.583333333333336,0.583333333333336,0.583333333333329,0.416666666666664,0.583333333333336,0.416666666666664,0.5,0.583333333333329,1.0,0.583333333333329,0.666666666666664,0.5,0.5,0.666666666666671,0.583333333333329,0.666666666666664,0.5,0.583333333333329,0.583333333333336,0.583333333333329,0.416666666666664,0.5,0.666666666666671,0.583333333333329,0.5,0.333333333333329,0.583333333333329,0.333333333333329,0.583333333333336,0.583333333333336,0.583333333333329,0.5,0.500000000000007,0.416666666666671,0.583333333333329,0.416666666666671,0.583333333333336,0.583333333333336,0.583333333333329,0.416666666666671,0.333333333333336,0.583333333333336,0.416666666666664,0.499999999999993,0.666666666666664,0.666666666666664,0.333333333333322,0.499999999999993,0.583333333333322,0.416666666666671,0.5,0.583333333333343,0.5,0.5,0.333333333333329,0.583333333333343,0.5,0.666666666666671,0.666666666666671,0.416666666666671,0.5,0.583333333333343,0.583333333333329,0.75,0.666666666666657,0.500000000000014,0.499999999999986,0.416666666666671,0.5,0.5,0.499999999999986,0.583333333333329,0.666666666666657,0.500000000000014,0.583333333333329,0.416666666666671,0.499999999999986,0.666666666666671,0.583333333333329,0.583333333333343,0.416666666666657,0.333333333333343,0.583333333333329,0.416666666666671,0.583333333333329,0.583333333333343,0.916666666666657,0.166666666666671,0.416666666666671,0.416666666666657,0.583333333333343,0.583333333333329,0.666666666666671,0.5,0.5,0.583333333333329,0.5,0.833333333333329,0.333333333333329,0.666666666666671,0.416666666666671,0.5,0.583333333333329,0.75,0.416666666666657,0.500000000000014,0.666666666666657,0.583333333333329,0.499999999999986,0.333333333333329,0.416666666666671,0.583333333333329,0.583333333333343,0.583333333333329,0.5,0.5,0.583333333333343,0.0833333333333286,0.333333333333343,0.416666666666686,0.333333333333329,0.750000000000014,0.583333333333314,0.333333333333343,0.416666666666671,0.5,0.5,0.75,0.250000000000014,0.25,0.416666666666671,0.499999999999986,0.5,0.5,0.666666666666686,0.416666666666657,0.5,0.666666666666671,0.416666666666671,1.08333333333334,0.250000000000014,0.416666666666657,0.500000000000028,0.416666666666657,0.750000000000014,0.166666666666657,0.583333333333329,1.33333333333333,0.166666666666657,0.333333333333329,0.250000000000014,0.416666666666671,0.499999999999986,0.166666666666657,0.166666666666686,0.416666666666657,0.583333333333343,0.5,0.75,0.416666666666657,0.5,0.416666666666657,0.416666666666629,0.5,0.5,0.499999999999972,0.500000000000028,0.583333333333314,0.666666666666686,0.583333333333343,0.5,0.5,0.5,0.416666666666657,0.5,0.499999999999972,0.416666666666657,0.75,0.250000000000028,0.5,0.583333333333343,0.416666666666686,0.75,0.5,0.5,0.5,0.666666666666657,0.416666666666657,0.666666666666657,0.416666666666657,0.5,0.5,0.75,0.416666666666657,0.416666666666657,0.5,0.75,0.333333333333343,0.499999999999972],\"y\":[1.58996769779266,1.45894367754768,1.24484364438826,1.47046768972231,1.46271363961461,1.21672631608727,1.25844973367198,1.55616244704538,1.31564012578152,1.32653146164869,1.41833118794057,1.21499123385983,1.36269100939931,1.39447063505688,1.117007507524,1.11141071257723,1.40246459262158,1.49677184842928,1.38731747359571,1.41650405807123,1.40854801271802,1.28233429956722,1.32719537714499,1.48551452583427,1.44638629980432,1.56926067741922,1.61352501727956,1.50566630807291,0.75544674175313,1.09616834103149,1.27653159857402,1.35779913586979,1.27212426892942,1.16383502519424,3.751719160881,1.32686292056962,1.19147804161228,1.11019517846159,1.26840133796634,1.28286193236847,1.30501198754169,1.13629962120932,1.20288048760374,1.35097940549412,1.55312433327138,1.53373776354278,1.28345827790283,1.25416014651497,1.32903728483487,1.31302127071978,1.48149262931684,1.30582568725124,1.14602195497948,1.10994638805139,1.384458315671,1.49392830470346,1.37258878788424,1.3977806617166,1.26148846283505,1.35206102833955,1.09692417519962,1.24403836219481,1.26166232394566,1.26430900639261,1.08836086220233,1.18385001494373,1.27818236238099,1.39982629928307,1.22593863319961,1.2700234886566,1.14041106683455,1.36757105829579,1.50328357375832,1.38533376096551,1.2111243124865,1.43841324268478,1.50736159881019,1.71862980159466,1.39125414323798,1.69270849076914,1.27036299574104,1.54370275489594,1.47097794234935,1.4395492551013,1.44213106879945,1.61153922440873,1.56988690918843,1.5794978264445,1.22357820866379,1.30667207365708,1.49126619834021,1.64472913265767,1.70632652437159,1.53860135071521,1.34024094271753,1.52144648268319,1.14887163276518,1.20036476578158,1.72567539832883,1.30824543292856,1.15138512652416,1.21792005086252,1.36842239665188,1.46761548166505,1.35666304799126,1.55849473405123,1.36705998897913,1.30683930541864,1.27824471822397,1.33595079122536,1.32355446409803,1.24637111101373,1.26386645528722,1.19213004355736,0.965450959328068,1.20573130201149,1.32017371893433,1.45791198883581,1.49709746708186,1.70248818046327,1.43706864207516,1.48674030538449,1.29941250225922,1.37822679658525,1.37475423188521,1.36884026675078,1.18952482017699,1.24652380432837,1.27663603690283,1.26503846500699,1.43702416103118,1.41400669220603,1.54750197135041,1.66697137269214,1.42819834140728,1.58204709403289,1.29422173385757,1.21945298249403,1.2966966591189,1.63927599337559,1.56746656794511,1.24547115705272,1.20923183915458,1.10347116651474,1.20328911231391,1.32478257830889,1.15685368047523,1.12453609405292,1.1159711639413,1.20161170905962,1.53130270806178,1.39245998580246,1.33944657234926,1.25734195109386,1.35169199580693,1.19426746087483,1.29338628664571,1.32907915761393,1.17686024192699,1.35351773404866,1.55559420790356,1.50097468400714,1.3942679570977,1.29792421435725,1.32875801603057,1.20592673607872,1.16983160836832,1.36311018077135,1.60295305582265,4.07143555717965,1.96273365130093,1.45467511815329,1.70825431700368,1.16483094245423,1.32959341562282,1.66809583668743,1.73349360602893,1.57948291531864,1.3450755990792,1.47821742046584,1.60506549564534,1.4885469076066,1.24048790879664,1.49612639170055,1.41442425465511,1.70647409227667,1.52977033396716,1.64049206090611,1.45381491709841,1.24233170016156,1.35033227769166,1.2691807948079,1.68168796218348,1.27285241235683,1.40718226430765,1.40124049349115,1.25531950279874,1.82449483475967,1.43115440375181,1.17664372416701,1.56355746040611,1.70463775968286,1.32990478142082,1.36693248563393,1.57938300919514,2.74858830850692,2.70248440011313,1.96346986004161,1.31044856752778,1.28581849515305,1.18585833718319,1.44220979895897,1.4315228915214,1.48716555452225,2.09876112729817,1.40475027562321,1.59531859799669,1.42497086162506,1.49199127548106,1.2192692631931,1.36718755104658,1.19303843277558,1.20156963110122,1.16318383125732,1.24184171105205,1.36093292777145,1.1465281838095,1.37412832421382,1.40349505072671,1.41335839520369,1.95391283925391,1.50011266109621,1.53450724239101,0.505963594660099,1.11992624769889,1.83754251977613,1.47326622807315,1.13157413863201,1.3251773251424,1.02141116405552,1.27282056158076,1.46418287166494,1.34794760619328,1.32757253996662,1.18647956106598,1.59143283340043,1.41789294403747,1.20845345774503,1.39575376503312,1.44504330853929,1.42202240257664],\"z\":[0.456028002051387,0.469618916545778,0.505526075322566,0.446903409482841,0.482744438597171,0.51210160119141,0.483351917988853,0.491139841168619,0.465992331480415,0.488977993052723,0.50335492243449,0.526044351727723,0.502591308364701,0.459084025011339,0.530119107724709,0.47334054056287,0.482855366658186,0.441974191084596,0.467212827695769,0.514113952020246,0.455850376112461,0.50860022936137,0.439228507797942,0.527659390435334,0.476384498739974,0.506170387283319,0.512123907087556,0.499318478388998,0.506723876540554,0.488907343656099,0.513387276183995,0.470118174390581,0.521674569162284,0.483473167763778,0.427834496814097,0.960693946991404,0.477367902264965,0.465210038859102,0.453961286285557,0.479183122404599,0.471641795645758,0.484015591266423,0.484847585634072,0.458274945725016,0.485700997554413,0.501855003922552,0.49068490254818,0.482844166819735,0.432074626448321,0.484861772756954,0.498656865211802,0.490059779189076,0.525757328182465,0.519663880236889,0.481688614751534,0.460642368771912,0.464509909791053,0.516624980022872,0.452917958798043,0.513911160285985,0.400231682724131,0.403249345967592,0.49175600579316,0.524478109271294,0.488611405655756,0.514623120964561,0.46374840931682,0.433087507741273,0.486986862504124,0.517483424082118,0.513367183345375,0.46735324203877,0.511250738255512,0.470068612557422,0.486641699010392,0.47462810748484,0.496244516250822,0.520191671648149,0.455940849551168,0.453967522352102,0.459935774426496,0.426473313600944,0.494715609657311,0.427940908911195,0.524170362836771,0.52421653282822,0.426357794157551,0.463384047113578,0.519976732953094,0.526334829101889,0.485788098944219,0.455074077938204,0.460110713446955,0.482796237529727,0.441155033553389,0.499958252891759,0.529457814628094,0.477615782310247,0.531849081584962,0.521988971722122,0.516111089021078,0.590594779805941,0.452729705793309,0.473592671352342,0.481178917291245,0.485147543169193,0.484727048387442,0.520105940061214,0.515863411567386,0.44855071911401,0.418117013745512,0.548140299892856,0.504301743496529,0.47619714238456,0.548051368530973,0.470958486791677,0.520231072018187,0.47275915759586,0.463803580069947,0.481611733357232,0.494178618900276,0.417522875820243,0.470465238401095,0.464152032277289,0.511651434823076,0.471584099185687,0.552014046964566,0.555940523786342,0.445580825270018,0.480699315426475,0.463093729780274,0.423491035694639,0.538071390403616,0.498164078182811,0.447771508146558,0.426111462156472,0.551215949100775,0.548397164789088,0.544196549953829,0.508864388831158,0.503913104186435,0.479150754526781,0.530237436515199,0.487160058154586,0.515903549033189,0.470911685234219,0.493540401765346,0.497175055930065,0.542464880175607,0.410438166100033,0.542183645008808,0.470400472761782,0.51669505621626,0.478609585837723,0.432191218428418,0.475077477324668,0.494099332326523,0.574130644258401,0.497985449722834,0.533280388980524,0.47525412375977,0.522273356659054,0.496065983960273,0.439490357222528,0.543877814641304,0.508114524216546,0.554234395896107,0.467856906406584,0.471277484333633,0.442769742130525,0.955790704748722,0.440634036028267,0.522831555241377,0.554028792093529,0.474412651555841,0.516671383249737,0.469886502690515,0.501116720089667,0.453786037458072,0.535636687078413,0.539489569145166,0.489902631343216,0.540445665678585,0.446719787229708,0.463670782163028,0.426033607006262,0.357723235350301,0.513122111772403,0.445154286112664,0.453399469389353,0.475606918898389,0.525456186293102,0.543684606358965,0.539776453931707,0.505006168158393,0.541313406486291,0.503048448837853,0.527925367084191,0.490627281124101,0.417449446622987,0.581704744104079,0.474785697531685,0.555884361371051,0.470731306559354,0.48916816475134,0.397777228301025,0.990917846034598,0.380496316994561,0.54733458428149,0.46402682895663,0.448597697816748,0.527475983047368,0.454081942147981,0.537075714326576,0.4170772581334,0.453950740548031,0.473174815985019,0.467025294224763,0.429112809664143,0.471195022692037,0.486351707956408,0.520602797719542,0.558381794547072,0.488525167837765,0.522321927275374,0.527103377077688,0.521451276156129,0.613432875675116,0.497765812484219,0.530368125613601,0.466167660937107,0.465807394249753,0.413326589919328,0.442295504685158,0.527138566946803,0.501007694891863,0.551052503008305,0.508337798833839,0.524316657138139,0.526944142286266,0.506884365354374,0.502287380468444,0.496945090683618,0.475335449360069,0.464180632440849,0.51372764049108,0.520893067288242,0.507478130801968,0.550478268054699,0.500204158063523,0.422862987534087],\"type\":\"scatter3d\"}],                        {\"template\":{\"data\":{\"histogram2dcontour\":[{\"type\":\"histogram2dcontour\",\"colorbar\":{\"outlinewidth\":0,\"ticks\":\"\"},\"colorscale\":[[0.0,\"#0d0887\"],[0.1111111111111111,\"#46039f\"],[0.2222222222222222,\"#7201a8\"],[0.3333333333333333,\"#9c179e\"],[0.4444444444444444,\"#bd3786\"],[0.5555555555555556,\"#d8576b\"],[0.6666666666666666,\"#ed7953\"],[0.7777777777777778,\"#fb9f3a\"],[0.8888888888888888,\"#fdca26\"],[1.0,\"#f0f921\"]]}],\"choropleth\":[{\"type\":\"choropleth\",\"colorbar\":{\"outlinewidth\":0,\"ticks\":\"\"}}],\"histogram2d\":[{\"type\":\"histogram2d\",\"colorbar\":{\"outlinewidth\":0,\"ticks\":\"\"},\"colorscale\":[[0.0,\"#0d0887\"],[0.1111111111111111,\"#46039f\"],[0.2222222222222222,\"#7201a8\"],[0.3333333333333333,\"#9c179e\"],[0.4444444444444444,\"#bd3786\"],[0.5555555555555556,\"#d8576b\"],[0.6666666666666666,\"#ed7953\"],[0.7777777777777778,\"#fb9f3a\"],[0.8888888888888888,\"#fdca26\"],[1.0,\"#f0f921\"]]}],\"heatmap\":[{\"type\":\"heatmap\",\"colorbar\":{\"outlinewidth\":0,\"ticks\":\"\"},\"colorscale\":[[0.0,\"#0d0887\"],[0.1111111111111111,\"#46039f\"],[0.2222222222222222,\"#7201a8\"],[0.3333333333333333,\"#9c179e\"],[0.4444444444444444,\"#bd3786\"],[0.5555555555555556,\"#d8576b\"],[0.6666666666666666,\"#ed7953\"],[0.7777777777777778,\"#fb9f3a\"],[0.8888888888888888,\"#fdca26\"],[1.0,\"#f0f921\"]]}],\"heatmapgl\":[{\"type\":\"heatmapgl\",\"colorbar\":{\"outlinewidth\":0,\"ticks\":\"\"},\"colorscale\":[[0.0,\"#0d0887\"],[0.1111111111111111,\"#46039f\"],[0.2222222222222222,\"#7201a8\"],[0.3333333333333333,\"#9c179e\"],[0.4444444444444444,\"#bd3786\"],[0.5555555555555556,\"#d8576b\"],[0.6666666666666666,\"#ed7953\"],[0.7777777777777778,\"#fb9f3a\"],[0.8888888888888888,\"#fdca26\"],[1.0,\"#f0f921\"]]}],\"contourcarpet\":[{\"type\":\"contourcarpet\",\"colorbar\":{\"outlinewidth\":0,\"ticks\":\"\"}}],\"contour\":[{\"type\":\"contour\",\"colorbar\":{\"outlinewidth\":0,\"ticks\":\"\"},\"colorscale\":[[0.0,\"#0d0887\"],[0.1111111111111111,\"#46039f\"],[0.2222222222222222,\"#7201a8\"],[0.3333333333333333,\"#9c179e\"],[0.4444444444444444,\"#bd3786\"],[0.5555555555555556,\"#d8576b\"],[0.6666666666666666,\"#ed7953\"],[0.7777777777777778,\"#fb9f3a\"],[0.8888888888888888,\"#fdca26\"],[1.0,\"#f0f921\"]]}],\"surface\":[{\"type\":\"surface\",\"colorbar\":{\"outlinewidth\":0,\"ticks\":\"\"},\"colorscale\":[[0.0,\"#0d0887\"],[0.1111111111111111,\"#46039f\"],[0.2222222222222222,\"#7201a8\"],[0.3333333333333333,\"#9c179e\"],[0.4444444444444444,\"#bd3786\"],[0.5555555555555556,\"#d8576b\"],[0.6666666666666666,\"#ed7953\"],[0.7777777777777778,\"#fb9f3a\"],[0.8888888888888888,\"#fdca26\"],[1.0,\"#f0f921\"]]}],\"mesh3d\":[{\"type\":\"mesh3d\",\"colorbar\":{\"outlinewidth\":0,\"ticks\":\"\"}}],\"scatter\":[{\"fillpattern\":{\"fillmode\":\"overlay\",\"size\":10,\"solidity\":0.2},\"type\":\"scatter\"}],\"parcoords\":[{\"type\":\"parcoords\",\"line\":{\"colorbar\":{\"outlinewidth\":0,\"ticks\":\"\"}}}],\"scatterpolargl\":[{\"type\":\"scatterpolargl\",\"marker\":{\"colorbar\":{\"outlinewidth\":0,\"ticks\":\"\"}}}],\"bar\":[{\"error_x\":{\"color\":\"#2a3f5f\"},\"error_y\":{\"color\":\"#2a3f5f\"},\"marker\":{\"line\":{\"color\":\"#E5ECF6\",\"width\":0.5},\"pattern\":{\"fillmode\":\"overlay\",\"size\":10,\"solidity\":0.2}},\"type\":\"bar\"}],\"scattergeo\":[{\"type\":\"scattergeo\",\"marker\":{\"colorbar\":{\"outlinewidth\":0,\"ticks\":\"\"}}}],\"scatterpolar\":[{\"type\":\"scatterpolar\",\"marker\":{\"colorbar\":{\"outlinewidth\":0,\"ticks\":\"\"}}}],\"histogram\":[{\"marker\":{\"pattern\":{\"fillmode\":\"overlay\",\"size\":10,\"solidity\":0.2}},\"type\":\"histogram\"}],\"scattergl\":[{\"type\":\"scattergl\",\"marker\":{\"colorbar\":{\"outlinewidth\":0,\"ticks\":\"\"}}}],\"scatter3d\":[{\"type\":\"scatter3d\",\"line\":{\"colorbar\":{\"outlinewidth\":0,\"ticks\":\"\"}},\"marker\":{\"colorbar\":{\"outlinewidth\":0,\"ticks\":\"\"}}}],\"scattermapbox\":[{\"type\":\"scattermapbox\",\"marker\":{\"colorbar\":{\"outlinewidth\":0,\"ticks\":\"\"}}}],\"scatterternary\":[{\"type\":\"scatterternary\",\"marker\":{\"colorbar\":{\"outlinewidth\":0,\"ticks\":\"\"}}}],\"scattercarpet\":[{\"type\":\"scattercarpet\",\"marker\":{\"colorbar\":{\"outlinewidth\":0,\"ticks\":\"\"}}}],\"carpet\":[{\"aaxis\":{\"endlinecolor\":\"#2a3f5f\",\"gridcolor\":\"white\",\"linecolor\":\"white\",\"minorgridcolor\":\"white\",\"startlinecolor\":\"#2a3f5f\"},\"baxis\":{\"endlinecolor\":\"#2a3f5f\",\"gridcolor\":\"white\",\"linecolor\":\"white\",\"minorgridcolor\":\"white\",\"startlinecolor\":\"#2a3f5f\"},\"type\":\"carpet\"}],\"table\":[{\"cells\":{\"fill\":{\"color\":\"#EBF0F8\"},\"line\":{\"color\":\"white\"}},\"header\":{\"fill\":{\"color\":\"#C8D4E3\"},\"line\":{\"color\":\"white\"}},\"type\":\"table\"}],\"barpolar\":[{\"marker\":{\"line\":{\"color\":\"#E5ECF6\",\"width\":0.5},\"pattern\":{\"fillmode\":\"overlay\",\"size\":10,\"solidity\":0.2}},\"type\":\"barpolar\"}],\"pie\":[{\"automargin\":true,\"type\":\"pie\"}]},\"layout\":{\"autotypenumbers\":\"strict\",\"colorway\":[\"#636efa\",\"#EF553B\",\"#00cc96\",\"#ab63fa\",\"#FFA15A\",\"#19d3f3\",\"#FF6692\",\"#B6E880\",\"#FF97FF\",\"#FECB52\"],\"font\":{\"color\":\"#2a3f5f\"},\"hovermode\":\"closest\",\"hoverlabel\":{\"align\":\"left\"},\"paper_bgcolor\":\"white\",\"plot_bgcolor\":\"#E5ECF6\",\"polar\":{\"bgcolor\":\"#E5ECF6\",\"angularaxis\":{\"gridcolor\":\"white\",\"linecolor\":\"white\",\"ticks\":\"\"},\"radialaxis\":{\"gridcolor\":\"white\",\"linecolor\":\"white\",\"ticks\":\"\"}},\"ternary\":{\"bgcolor\":\"#E5ECF6\",\"aaxis\":{\"gridcolor\":\"white\",\"linecolor\":\"white\",\"ticks\":\"\"},\"baxis\":{\"gridcolor\":\"white\",\"linecolor\":\"white\",\"ticks\":\"\"},\"caxis\":{\"gridcolor\":\"white\",\"linecolor\":\"white\",\"ticks\":\"\"}},\"coloraxis\":{\"colorbar\":{\"outlinewidth\":0,\"ticks\":\"\"}},\"colorscale\":{\"sequential\":[[0.0,\"#0d0887\"],[0.1111111111111111,\"#46039f\"],[0.2222222222222222,\"#7201a8\"],[0.3333333333333333,\"#9c179e\"],[0.4444444444444444,\"#bd3786\"],[0.5555555555555556,\"#d8576b\"],[0.6666666666666666,\"#ed7953\"],[0.7777777777777778,\"#fb9f3a\"],[0.8888888888888888,\"#fdca26\"],[1.0,\"#f0f921\"]],\"sequentialminus\":[[0.0,\"#0d0887\"],[0.1111111111111111,\"#46039f\"],[0.2222222222222222,\"#7201a8\"],[0.3333333333333333,\"#9c179e\"],[0.4444444444444444,\"#bd3786\"],[0.5555555555555556,\"#d8576b\"],[0.6666666666666666,\"#ed7953\"],[0.7777777777777778,\"#fb9f3a\"],[0.8888888888888888,\"#fdca26\"],[1.0,\"#f0f921\"]],\"diverging\":[[0,\"#8e0152\"],[0.1,\"#c51b7d\"],[0.2,\"#de77ae\"],[0.3,\"#f1b6da\"],[0.4,\"#fde0ef\"],[0.5,\"#f7f7f7\"],[0.6,\"#e6f5d0\"],[0.7,\"#b8e186\"],[0.8,\"#7fbc41\"],[0.9,\"#4d9221\"],[1,\"#276419\"]]},\"xaxis\":{\"gridcolor\":\"white\",\"linecolor\":\"white\",\"ticks\":\"\",\"title\":{\"standoff\":15},\"zerolinecolor\":\"white\",\"automargin\":true,\"zerolinewidth\":2},\"yaxis\":{\"gridcolor\":\"white\",\"linecolor\":\"white\",\"ticks\":\"\",\"title\":{\"standoff\":15},\"zerolinecolor\":\"white\",\"automargin\":true,\"zerolinewidth\":2},\"scene\":{\"xaxis\":{\"backgroundcolor\":\"#E5ECF6\",\"gridcolor\":\"white\",\"linecolor\":\"white\",\"showbackground\":true,\"ticks\":\"\",\"zerolinecolor\":\"white\",\"gridwidth\":2},\"yaxis\":{\"backgroundcolor\":\"#E5ECF6\",\"gridcolor\":\"white\",\"linecolor\":\"white\",\"showbackground\":true,\"ticks\":\"\",\"zerolinecolor\":\"white\",\"gridwidth\":2},\"zaxis\":{\"backgroundcolor\":\"#E5ECF6\",\"gridcolor\":\"white\",\"linecolor\":\"white\",\"showbackground\":true,\"ticks\":\"\",\"zerolinecolor\":\"white\",\"gridwidth\":2}},\"shapedefaults\":{\"line\":{\"color\":\"#2a3f5f\"}},\"annotationdefaults\":{\"arrowcolor\":\"#2a3f5f\",\"arrowhead\":0,\"arrowwidth\":1},\"geo\":{\"bgcolor\":\"white\",\"landcolor\":\"#E5ECF6\",\"subunitcolor\":\"white\",\"showland\":true,\"showlakes\":true,\"lakecolor\":\"white\"},\"title\":{\"x\":0.05},\"mapbox\":{\"style\":\"light\"}}},\"scene\":{\"domain\":{\"x\":[0.0,1.0],\"y\":[0.0,1.0]},\"xaxis\":{\"title\":{\"text\":\"generationtime\"}},\"yaxis\":{\"title\":{\"text\":\"growth_rate\"}},\"zaxis\":{\"title\":{\"text\":\"division_ratio\"}},\"aspectmode\":\"cube\"},\"legend\":{\"tracegroupgap\":0},\"title\":{\"text\":\"Real Data\"}},                        {\"responsive\": true}                    ).then(function(){\n                            \nvar gd = document.getElementById('2c641b42-109e-41da-91e5-7241efa7e9c6');\nvar x = new MutationObserver(function (mutations, observer) {{\n        var display = window.getComputedStyle(gd).display;\n        if (!display || display === 'none') {{\n            console.log([gd, 'removed!']);\n            Plotly.purge(gd);\n            observer.disconnect();\n        }}\n}});\n\n// Listen for the removal of the full notebook cells\nvar notebookContainer = gd.closest('#notebook-container');\nif (notebookContainer) {{\n    x.observe(notebookContainer, {childList: true});\n}}\n\n// Listen for the clearing of the current output cell\nvar outputEl = gd.closest('.output');\nif (outputEl) {{\n    x.observe(outputEl, {childList: true});\n}}\n\n                        })                };                            </script>        </div>\n</body>\n</html>"
     },
     "metadata": {},
     "output_type": "display_data"
    }
   ],
   "execution_count": 3
  },
  {
   "cell_type": "markdown",
   "source": "|                       |        |\n|:------------------------------------:|:----------------------------------:|\n| ![img](images/fit_beta.png) | ![img](images/fit_gamma.png) |\n",
   "metadata": {
    "cell_id": "e63e824eb91949139b0347c54f895356",
    "tags": [],
    "deepnote_cell_type": "markdown",
    "deepnote_cell_height": 395.359375
   }
  },
  {
   "cell_type": "markdown",
   "source": "<table style=\"border-collapse: collapse; border: none; border-spacing: 0px;\">\n\t<tr>\n\t\t<td style=\"border-width: 1px; border-style: solid; border-color: rgb(0, 0, 0); text-align: center; padding-right: 3pt; padding-left: 3pt;\">\n\t\t\t<b>      a     </b>\n\t\t</td>\n\t\t<td style=\"border-width: 1px; border-style: solid; border-color: rgb(0, 0, 0); text-align: center; padding-right: 3pt; padding-left: 3pt;\">\n\t\t\t<b>      b     </b>\n\t\t</td>\n\t\t<td style=\"padding-right: 3pt; padding-left: 3pt;\">\n\t\t\t<b>   </b>\n\t\t</td>\n\t\t<td style=\"padding-right: 3pt; padding-left: 3pt;\">\n\t\t\t<b>   </b>\n\t\t</td>\n\t\t<td style=\"padding-right: 3pt; padding-left: 3pt;\">\n\t\t</td>\n\t\t<td style=\"padding-right: 3pt; padding-left: 3pt;\">\n\t\t</td>\n\t\t<td style=\"border-width: 1px; border-style: solid; border-color: rgb(0, 0, 0); text-align: center; padding-right: 3pt; padding-left: 3pt;\">\n\t\t\t<b>        c       </b>\n\t\t</td>\n\t\t<td style=\"border-width: 1px; border-style: solid; border-color: rgb(0, 0, 0); text-align: center; padding-right: 3pt; padding-left: 3pt;\">\n\t\t\t<b>         d         </b>\n\t\t</td>\n\t</tr>\n\t<tr>\n\t\t<td style=\"border-width: 1px; border-style: solid; border-color: rgb(0, 0, 0); text-align: center; padding-right: 3pt; padding-left: 3pt;\">\n\t\t\t77 ± 6\n\t\t</td>\n\t\t<td style=\"border-width: 1px; border-style: solid; border-color: rgb(0, 0, 0); text-align: center; padding-right: 3pt; padding-left: 3pt;\">\n\t\t\t80 ± 6\n\t\t</td>\n\t\t<td style=\"padding-right: 3pt; padding-left: 3pt;\">\n\t\t</td>\n\t\t<td style=\"padding-right: 3pt; padding-left: 3pt;\">\n\t\t</td>\n\t\t<td style=\"padding-right: 3pt; padding-left: 3pt;\">\n\t\t</td>\n\t\t<td style=\"padding-right: 3pt; padding-left: 3pt;\">\n\t\t</td>\n\t\t<td style=\"border-width: 1px; border-style: solid; border-color: rgb(0, 0, 0); text-align: center; padding-right: 3pt; padding-left: 3pt;\">\n\t\t\t63.8 ± 2.6\n\t\t</td>\n\t\t<td style=\"border-width: 1px; border-style: solid; border-color: rgb(0, 0, 0); text-align: center; padding-right: 3pt; padding-left: 3pt;\">\n\t\t\t0.021 ± 0.001\n\t\t</td>\n\t</tr>\n</table>",
   "metadata": {
    "cell_id": "35b4c675c69e4e42ba1985837cc39c83",
    "tags": [],
    "deepnote_cell_type": "markdown",
    "deepnote_cell_height": 81.78125
   },
   "outputs": [],
   "execution_count": null
  },
  {
   "cell_type": "markdown",
   "source": "<table style=\"border-collapse: collapse; border: none; border-spacing: 0px;\">\n\t<tr>\n\t\t<td style=\"border-width: 1px; border-style: solid; border-color: rgb(0, 0, 0); text-align: center; padding-right: 3pt; padding-left: 3pt;\">\n\t\t\t<b>      Mean beta     </b>\n\t\t</td>\n\t\t<td style=\"border-width: 1px; border-style: solid; border-color: rgb(0, 0, 0); text-align: center; padding-right: 3pt; padding-left: 3pt;\">\n\t\t\t<b>      Variance beta     </b>\n\t\t</td>\n\t\t<td style=\"padding-right: 3pt; padding-left: 3pt;\">\n\t\t\t<b>   </b>\n\t\t</td>\n\t\t<td style=\"padding-right: 3pt; padding-left: 3pt;\">\n\t\t\t<b>   </b>\n\t\t</td>\n\t\t<td style=\"padding-right: 3pt; padding-left: 3pt;\">\n\t\t</td>\n\t\t<td style=\"padding-right: 3pt; padding-left: 3pt;\">\n\t\t</td>\n\t\t<td style=\"border-width: 1px; border-style: solid; border-color: rgb(0, 0, 0); text-align: center; padding-right: 3pt; padding-left: 3pt;\">\n\t\t\t<b>        Mean gamma       </b>\n\t\t</td>\n\t\t<td style=\"border-width: 1px; border-style: solid; border-color: rgb(0, 0, 0); text-align: center; padding-right: 3pt; padding-left: 3pt;\">\n\t\t\t<b>         Variance gamma         </b>\n\t\t</td>\n\t</tr>\n\t<tr>\n\t\t<td style=\"border-width: 1px; border-style: solid; border-color: rgb(0, 0, 0); text-align: center; padding-right: 3pt; padding-left: 3pt;\">\n\t\t\t0.49 ± 0.03\n\t\t</td>\n\t\t<td style=\"border-width: 1px; border-style: solid; border-color: rgb(0, 0, 0); text-align: center; padding-right: 3pt; padding-left: 3pt;\">\n\t\t\t(1.59 ± 0.09) * 10^{-3}\n\t\t</td>\n\t\t<td style=\"padding-right: 3pt; padding-left: 3pt;\">\n\t\t</td>\n\t\t<td style=\"padding-right: 3pt; padding-left: 3pt;\">\n\t\t</td>\n\t\t<td style=\"padding-right: 3pt; padding-left: 3pt;\">\n\t\t</td>\n\t\t<td style=\"padding-right: 3pt; padding-left: 3pt;\">\n\t\t</td>\n\t\t<td style=\"border-width: 1px; border-style: solid; border-color: rgb(0, 0, 0); text-align: center; padding-right: 3pt; padding-left: 3pt;\">\n\t\t\t1.36 ± 0.08\n\t\t</td>\n\t\t<td style=\"border-width: 1px; border-style: solid; border-color: rgb(0, 0, 0); text-align: center; padding-right: 3pt; padding-left: 3pt;\">\n\t\t\t0.029 ± 0.003\n\t\t</td>\n\t</tr>\n</table>",
   "metadata": {
    "cell_id": "748664a0b653493587776dbd33c95a67",
    "tags": [],
    "owner_user_id": "b13979ef-4b77-458b-bb3e-148a16361dfe",
    "deepnote_cell_type": "markdown",
    "deepnote_cell_height": 81.78125
   }
  },
  {
   "cell_type": "markdown",
   "source": "## Data analysis with single models\nFor each model we create a Jupyter notebook, in which we run MCMC, analyze the chains, show the marginalized posterior distributions, simulate the time series using the inferred values of the parameters, compute the overlap and the predictive density. \n\nThese notebooks are collected in the folder [analysis_real_data](./analysis_real_data):\n- [Real data, Model 0](./analysis_real_data/REAL_Model_0.ipynb)\n- [Real data, Model 1](./analysis_real_data/REAL_Model_1.ipynb)\n- [Real data, Model 2](./analysis_real_data/REAL_Model_2.ipynb)\n\nFinally, in the following section we retrieve the results achieved with all models, in order to perform model comparison and validation. ",
   "metadata": {
    "cell_id": "e592348a643847b99713e8323bbe7c8a",
    "tags": [],
    "owner_user_id": "64f82dd5-f147-412e-8f0c-50fd764426fd",
    "deepnote_cell_type": "markdown",
    "deepnote_cell_height": 290.78125
   }
  },
  {
   "cell_type": "markdown",
   "source": "# Final results\n",
   "metadata": {
    "cell_id": "b9a94b17a49e4a2da38b152e1e9fd140",
    "tags": [],
    "deepnote_cell_type": "markdown",
    "deepnote_cell_height": 82
   }
  },
  {
   "cell_type": "markdown",
   "source": "## Inference results\n### Model 0",
   "metadata": {
    "cell_id": "9f6a72ac51dc404aa80e370a3e57939c",
    "tags": [],
    "deepnote_cell_type": "markdown",
    "deepnote_cell_height": 118
   }
  },
  {
   "cell_type": "code",
   "source": "df_mod0 = pd.read_csv('./data/model0.csv')\n\ndf_mod0 = df_mod0.round(4).rename({0: 'PosteriorMax',\n                          1: 'LowerBoundCI',\n                          2: 'UpperBoundCI'})\n\ndisplay(df_mod0)",
   "metadata": {
    "cell_id": "b081d558ef2846d0b3a0c50e9e3eb02a",
    "tags": [],
    "deepnote_to_be_reexecuted": false,
    "source_hash": "a50e4184",
    "execution_start": 1655288646327,
    "execution_millis": 473,
    "deepnote_cell_type": "code",
    "deepnote_cell_height": 436.265625
   },
   "outputs": [
    {
     "data": {
      "application/vnd.deepnote.dataframe.v3+json": {
       "column_count": 7,
       "row_count": 3,
       "columns": [
        {
         "name": "omega_2",
         "dtype": "float64",
         "stats": {
          "unique_count": 3,
          "nan_count": 0,
          "min": "2.0096",
          "max": "3.4782",
          "histogram": [
           {
            "bin_start": 2.0096,
            "bin_end": 2.15646,
            "count": 1
           },
           {
            "bin_start": 2.15646,
            "bin_end": 2.30332,
            "count": 0
           },
           {
            "bin_start": 2.30332,
            "bin_end": 2.45018,
            "count": 0
           },
           {
            "bin_start": 2.45018,
            "bin_end": 2.59704,
            "count": 1
           },
           {
            "bin_start": 2.59704,
            "bin_end": 2.7439,
            "count": 0
           },
           {
            "bin_start": 2.7439,
            "bin_end": 2.89076,
            "count": 0
           },
           {
            "bin_start": 2.89076,
            "bin_end": 3.0376200000000004,
            "count": 0
           },
           {
            "bin_start": 3.0376200000000004,
            "bin_end": 3.18448,
            "count": 0
           },
           {
            "bin_start": 3.18448,
            "bin_end": 3.33134,
            "count": 0
           },
           {
            "bin_start": 3.33134,
            "bin_end": 3.4782,
            "count": 1
           }
          ]
         }
        },
        {
         "name": "mu",
         "dtype": "float64",
         "stats": {
          "unique_count": 3,
          "nan_count": 0,
          "min": "0.5039",
          "max": "0.8641",
          "histogram": [
           {
            "bin_start": 0.5039,
            "bin_end": 0.53992,
            "count": 1
           },
           {
            "bin_start": 0.53992,
            "bin_end": 0.57594,
            "count": 0
           },
           {
            "bin_start": 0.57594,
            "bin_end": 0.6119600000000001,
            "count": 0
           },
           {
            "bin_start": 0.6119600000000001,
            "bin_end": 0.64798,
            "count": 0
           },
           {
            "bin_start": 0.64798,
            "bin_end": 0.6839999999999999,
            "count": 0
           },
           {
            "bin_start": 0.6839999999999999,
            "bin_end": 0.72002,
            "count": 1
           },
           {
            "bin_start": 0.72002,
            "bin_end": 0.75604,
            "count": 0
           },
           {
            "bin_start": 0.75604,
            "bin_end": 0.79206,
            "count": 0
           },
           {
            "bin_start": 0.79206,
            "bin_end": 0.8280799999999999,
            "count": 0
           },
           {
            "bin_start": 0.8280799999999999,
            "bin_end": 0.8641,
            "count": 1
           }
          ]
         }
        },
        {
         "name": "nu",
         "dtype": "float64",
         "stats": {
          "unique_count": 3,
          "nan_count": 0,
          "min": "0.5201",
          "max": "0.9454",
          "histogram": [
           {
            "bin_start": 0.5201,
            "bin_end": 0.56263,
            "count": 1
           },
           {
            "bin_start": 0.56263,
            "bin_end": 0.60516,
            "count": 0
           },
           {
            "bin_start": 0.60516,
            "bin_end": 0.64769,
            "count": 0
           },
           {
            "bin_start": 0.64769,
            "bin_end": 0.6902200000000001,
            "count": 0
           },
           {
            "bin_start": 0.6902200000000001,
            "bin_end": 0.73275,
            "count": 1
           },
           {
            "bin_start": 0.73275,
            "bin_end": 0.77528,
            "count": 0
           },
           {
            "bin_start": 0.77528,
            "bin_end": 0.8178099999999999,
            "count": 0
           },
           {
            "bin_start": 0.8178099999999999,
            "bin_end": 0.86034,
            "count": 0
           },
           {
            "bin_start": 0.86034,
            "bin_end": 0.9028700000000001,
            "count": 0
           },
           {
            "bin_start": 0.9028700000000001,
            "bin_end": 0.9454,
            "count": 1
           }
          ]
         }
        },
        {
         "name": "a",
         "dtype": "float64",
         "stats": {
          "unique_count": 3,
          "nan_count": 0,
          "min": "12.4258",
          "max": "17.4666",
          "histogram": [
           {
            "bin_start": 12.4258,
            "bin_end": 12.92988,
            "count": 1
           },
           {
            "bin_start": 12.92988,
            "bin_end": 13.43396,
            "count": 0
           },
           {
            "bin_start": 13.43396,
            "bin_end": 13.93804,
            "count": 0
           },
           {
            "bin_start": 13.93804,
            "bin_end": 14.44212,
            "count": 0
           },
           {
            "bin_start": 14.44212,
            "bin_end": 14.946200000000001,
            "count": 0
           },
           {
            "bin_start": 14.946200000000001,
            "bin_end": 15.45028,
            "count": 1
           },
           {
            "bin_start": 15.45028,
            "bin_end": 15.95436,
            "count": 0
           },
           {
            "bin_start": 15.95436,
            "bin_end": 16.45844,
            "count": 0
           },
           {
            "bin_start": 16.45844,
            "bin_end": 16.962519999999998,
            "count": 0
           },
           {
            "bin_start": 16.962519999999998,
            "bin_end": 17.4666,
            "count": 1
           }
          ]
         }
        },
        {
         "name": "b",
         "dtype": "float64",
         "stats": {
          "unique_count": 3,
          "nan_count": 0,
          "min": "12.4311",
          "max": "17.5026",
          "histogram": [
           {
            "bin_start": 12.4311,
            "bin_end": 12.93825,
            "count": 1
           },
           {
            "bin_start": 12.93825,
            "bin_end": 13.445400000000001,
            "count": 0
           },
           {
            "bin_start": 13.445400000000001,
            "bin_end": 13.95255,
            "count": 0
           },
           {
            "bin_start": 13.95255,
            "bin_end": 14.459700000000002,
            "count": 0
           },
           {
            "bin_start": 14.459700000000002,
            "bin_end": 14.96685,
            "count": 1
           },
           {
            "bin_start": 14.96685,
            "bin_end": 15.474,
            "count": 0
           },
           {
            "bin_start": 15.474,
            "bin_end": 15.98115,
            "count": 0
           },
           {
            "bin_start": 15.98115,
            "bin_end": 16.488300000000002,
            "count": 0
           },
           {
            "bin_start": 16.488300000000002,
            "bin_end": 16.99545,
            "count": 0
           },
           {
            "bin_start": 16.99545,
            "bin_end": 17.5026,
            "count": 1
           }
          ]
         }
        },
        {
         "name": "c",
         "dtype": "float64",
         "stats": {
          "unique_count": 3,
          "nan_count": 0,
          "min": "26.3398",
          "max": "35.0187",
          "histogram": [
           {
            "bin_start": 26.3398,
            "bin_end": 27.20769,
            "count": 1
           },
           {
            "bin_start": 27.20769,
            "bin_end": 28.075580000000002,
            "count": 0
           },
           {
            "bin_start": 28.075580000000002,
            "bin_end": 28.94347,
            "count": 0
           },
           {
            "bin_start": 28.94347,
            "bin_end": 29.81136,
            "count": 0
           },
           {
            "bin_start": 29.81136,
            "bin_end": 30.679250000000003,
            "count": 1
           },
           {
            "bin_start": 30.679250000000003,
            "bin_end": 31.547140000000002,
            "count": 0
           },
           {
            "bin_start": 31.547140000000002,
            "bin_end": 32.41503,
            "count": 0
           },
           {
            "bin_start": 32.41503,
            "bin_end": 33.282920000000004,
            "count": 0
           },
           {
            "bin_start": 33.282920000000004,
            "bin_end": 34.15081,
            "count": 0
           },
           {
            "bin_start": 34.15081,
            "bin_end": 35.0187,
            "count": 1
           }
          ]
         }
        },
        {
         "name": "d",
         "dtype": "float64",
         "stats": {
          "unique_count": 3,
          "nan_count": 0,
          "min": "0.0398",
          "max": "0.0531",
          "histogram": [
           {
            "bin_start": 0.0398,
            "bin_end": 0.04113,
            "count": 1
           },
           {
            "bin_start": 0.04113,
            "bin_end": 0.042460000000000005,
            "count": 0
           },
           {
            "bin_start": 0.042460000000000005,
            "bin_end": 0.04379,
            "count": 0
           },
           {
            "bin_start": 0.04379,
            "bin_end": 0.04512,
            "count": 0
           },
           {
            "bin_start": 0.04512,
            "bin_end": 0.046450000000000005,
            "count": 1
           },
           {
            "bin_start": 0.046450000000000005,
            "bin_end": 0.04778,
            "count": 0
           },
           {
            "bin_start": 0.04778,
            "bin_end": 0.04911,
            "count": 0
           },
           {
            "bin_start": 0.04911,
            "bin_end": 0.05044,
            "count": 0
           },
           {
            "bin_start": 0.05044,
            "bin_end": 0.051770000000000004,
            "count": 0
           },
           {
            "bin_start": 0.051770000000000004,
            "bin_end": 0.0531,
            "count": 1
           }
          ]
         }
        },
        {
         "name": "_deepnote_index_column",
         "dtype": "object"
        }
       ],
       "rows": [
        {
         "omega_2": 2.4957,
         "mu": 0.7126,
         "nu": 0.7143,
         "a": 15.2135,
         "b": 14.855,
         "c": 30.0316,
         "d": 0.0459,
         "_deepnote_index_column": "PosteriorMax"
        },
        {
         "omega_2": 2.0096,
         "mu": 0.5039,
         "nu": 0.5201,
         "a": 12.4258,
         "b": 12.4311,
         "c": 26.3398,
         "d": 0.0398,
         "_deepnote_index_column": "LowerBoundCI"
        },
        {
         "omega_2": 3.4782,
         "mu": 0.8641,
         "nu": 0.9454,
         "a": 17.4666,
         "b": 17.5026,
         "c": 35.0187,
         "d": 0.0531,
         "_deepnote_index_column": "UpperBoundCI"
        }
       ]
      },
      "text/plain": "              omega_2      mu      nu        a        b        c       d\nPosteriorMax   2.4957  0.7126  0.7143  15.2135  14.8550  30.0316  0.0459\nLowerBoundCI   2.0096  0.5039  0.5201  12.4258  12.4311  26.3398  0.0398\nUpperBoundCI   3.4782  0.8641  0.9454  17.4666  17.5026  35.0187  0.0531",
      "text/html": "<div>\n<style scoped>\n    .dataframe tbody tr th:only-of-type {\n        vertical-align: middle;\n    }\n\n    .dataframe tbody tr th {\n        vertical-align: top;\n    }\n\n    .dataframe thead th {\n        text-align: right;\n    }\n</style>\n<table border=\"1\" class=\"dataframe\">\n  <thead>\n    <tr style=\"text-align: right;\">\n      <th></th>\n      <th>omega_2</th>\n      <th>mu</th>\n      <th>nu</th>\n      <th>a</th>\n      <th>b</th>\n      <th>c</th>\n      <th>d</th>\n    </tr>\n  </thead>\n  <tbody>\n    <tr>\n      <th>PosteriorMax</th>\n      <td>2.4957</td>\n      <td>0.7126</td>\n      <td>0.7143</td>\n      <td>15.2135</td>\n      <td>14.8550</td>\n      <td>30.0316</td>\n      <td>0.0459</td>\n    </tr>\n    <tr>\n      <th>LowerBoundCI</th>\n      <td>2.0096</td>\n      <td>0.5039</td>\n      <td>0.5201</td>\n      <td>12.4258</td>\n      <td>12.4311</td>\n      <td>26.3398</td>\n      <td>0.0398</td>\n    </tr>\n    <tr>\n      <th>UpperBoundCI</th>\n      <td>3.4782</td>\n      <td>0.8641</td>\n      <td>0.9454</td>\n      <td>17.4666</td>\n      <td>17.5026</td>\n      <td>35.0187</td>\n      <td>0.0531</td>\n    </tr>\n  </tbody>\n</table>\n</div>"
     },
     "metadata": {},
     "output_type": "display_data"
    }
   ],
   "execution_count": 4
  },
  {
   "cell_type": "markdown",
   "source": "### Model 1",
   "metadata": {
    "cell_id": "fec3c391364144b58e228077825d6932",
    "tags": [],
    "deepnote_cell_type": "markdown",
    "deepnote_cell_height": 62
   }
  },
  {
   "cell_type": "code",
   "source": "df_mod1 = pd.read_csv('./data/model1.csv')\n\ndf_mod1 = df_mod1.round(4).rename({0: 'PosteriorMax',\n                          1: 'LowerBoundCI',\n                          2: 'UpperBoundCI'})\n\ndisplay(df_mod1)",
   "metadata": {
    "cell_id": "30ba76f734de439a8b35bc00b407f300",
    "tags": [],
    "deepnote_to_be_reexecuted": false,
    "source_hash": "a1cca2e",
    "execution_start": 1655288646366,
    "execution_millis": 440,
    "deepnote_cell_type": "code",
    "deepnote_cell_height": 436.265625
   },
   "outputs": [
    {
     "data": {
      "application/vnd.deepnote.dataframe.v3+json": {
       "column_count": 7,
       "row_count": 3,
       "columns": [
        {
         "name": "omega_2",
         "dtype": "float64",
         "stats": {
          "unique_count": 3,
          "nan_count": 0,
          "min": "0.3819",
          "max": "0.8293",
          "histogram": [
           {
            "bin_start": 0.3819,
            "bin_end": 0.42664,
            "count": 1
           },
           {
            "bin_start": 0.42664,
            "bin_end": 0.47138,
            "count": 0
           },
           {
            "bin_start": 0.47138,
            "bin_end": 0.51612,
            "count": 0
           },
           {
            "bin_start": 0.51612,
            "bin_end": 0.56086,
            "count": 0
           },
           {
            "bin_start": 0.56086,
            "bin_end": 0.6056,
            "count": 1
           },
           {
            "bin_start": 0.6056,
            "bin_end": 0.65034,
            "count": 0
           },
           {
            "bin_start": 0.65034,
            "bin_end": 0.69508,
            "count": 0
           },
           {
            "bin_start": 0.69508,
            "bin_end": 0.73982,
            "count": 0
           },
           {
            "bin_start": 0.73982,
            "bin_end": 0.78456,
            "count": 0
           },
           {
            "bin_start": 0.78456,
            "bin_end": 0.8293,
            "count": 1
           }
          ]
         }
        },
        {
         "name": "mu",
         "dtype": "float64",
         "stats": {
          "unique_count": 3,
          "nan_count": 0,
          "min": "0.0541",
          "max": "0.6621",
          "histogram": [
           {
            "bin_start": 0.0541,
            "bin_end": 0.1149,
            "count": 1
           },
           {
            "bin_start": 0.1149,
            "bin_end": 0.1757,
            "count": 0
           },
           {
            "bin_start": 0.1757,
            "bin_end": 0.23650000000000002,
            "count": 0
           },
           {
            "bin_start": 0.23650000000000002,
            "bin_end": 0.2973,
            "count": 1
           },
           {
            "bin_start": 0.2973,
            "bin_end": 0.3581,
            "count": 0
           },
           {
            "bin_start": 0.3581,
            "bin_end": 0.4189,
            "count": 0
           },
           {
            "bin_start": 0.4189,
            "bin_end": 0.47969999999999996,
            "count": 0
           },
           {
            "bin_start": 0.47969999999999996,
            "bin_end": 0.5405,
            "count": 0
           },
           {
            "bin_start": 0.5405,
            "bin_end": 0.6013000000000001,
            "count": 0
           },
           {
            "bin_start": 0.6013000000000001,
            "bin_end": 0.6621,
            "count": 1
           }
          ]
         }
        },
        {
         "name": "nu",
         "dtype": "float64",
         "stats": {
          "unique_count": 3,
          "nan_count": 0,
          "min": "0.6346",
          "max": "1.8768",
          "histogram": [
           {
            "bin_start": 0.6346,
            "bin_end": 0.75882,
            "count": 1
           },
           {
            "bin_start": 0.75882,
            "bin_end": 0.88304,
            "count": 0
           },
           {
            "bin_start": 0.88304,
            "bin_end": 1.00726,
            "count": 0
           },
           {
            "bin_start": 1.00726,
            "bin_end": 1.13148,
            "count": 1
           },
           {
            "bin_start": 1.13148,
            "bin_end": 1.2557,
            "count": 0
           },
           {
            "bin_start": 1.2557,
            "bin_end": 1.37992,
            "count": 0
           },
           {
            "bin_start": 1.37992,
            "bin_end": 1.50414,
            "count": 0
           },
           {
            "bin_start": 1.50414,
            "bin_end": 1.62836,
            "count": 0
           },
           {
            "bin_start": 1.62836,
            "bin_end": 1.75258,
            "count": 0
           },
           {
            "bin_start": 1.75258,
            "bin_end": 1.8768,
            "count": 1
           }
          ]
         }
        },
        {
         "name": "a",
         "dtype": "float64",
         "stats": {
          "unique_count": 3,
          "nan_count": 0,
          "min": "12.5244",
          "max": "17.5711",
          "histogram": [
           {
            "bin_start": 12.5244,
            "bin_end": 13.02907,
            "count": 1
           },
           {
            "bin_start": 13.02907,
            "bin_end": 13.53374,
            "count": 0
           },
           {
            "bin_start": 13.53374,
            "bin_end": 14.03841,
            "count": 0
           },
           {
            "bin_start": 14.03841,
            "bin_end": 14.54308,
            "count": 0
           },
           {
            "bin_start": 14.54308,
            "bin_end": 15.04775,
            "count": 1
           },
           {
            "bin_start": 15.04775,
            "bin_end": 15.552420000000001,
            "count": 0
           },
           {
            "bin_start": 15.552420000000001,
            "bin_end": 16.057090000000002,
            "count": 0
           },
           {
            "bin_start": 16.057090000000002,
            "bin_end": 16.56176,
            "count": 0
           },
           {
            "bin_start": 16.56176,
            "bin_end": 17.06643,
            "count": 0
           },
           {
            "bin_start": 17.06643,
            "bin_end": 17.5711,
            "count": 1
           }
          ]
         }
        },
        {
         "name": "b",
         "dtype": "float64",
         "stats": {
          "unique_count": 3,
          "nan_count": 0,
          "min": "12.6031",
          "max": "17.6389",
          "histogram": [
           {
            "bin_start": 12.6031,
            "bin_end": 13.106679999999999,
            "count": 1
           },
           {
            "bin_start": 13.106679999999999,
            "bin_end": 13.61026,
            "count": 0
           },
           {
            "bin_start": 13.61026,
            "bin_end": 14.11384,
            "count": 0
           },
           {
            "bin_start": 14.11384,
            "bin_end": 14.61742,
            "count": 0
           },
           {
            "bin_start": 14.61742,
            "bin_end": 15.120999999999999,
            "count": 0
           },
           {
            "bin_start": 15.120999999999999,
            "bin_end": 15.62458,
            "count": 1
           },
           {
            "bin_start": 15.62458,
            "bin_end": 16.12816,
            "count": 0
           },
           {
            "bin_start": 16.12816,
            "bin_end": 16.63174,
            "count": 0
           },
           {
            "bin_start": 16.63174,
            "bin_end": 17.13532,
            "count": 0
           },
           {
            "bin_start": 17.13532,
            "bin_end": 17.6389,
            "count": 1
           }
          ]
         }
        },
        {
         "name": "c",
         "dtype": "float64",
         "stats": {
          "unique_count": 3,
          "nan_count": 0,
          "min": "26.3226",
          "max": "34.9879",
          "histogram": [
           {
            "bin_start": 26.3226,
            "bin_end": 27.189130000000002,
            "count": 1
           },
           {
            "bin_start": 27.189130000000002,
            "bin_end": 28.055660000000003,
            "count": 0
           },
           {
            "bin_start": 28.055660000000003,
            "bin_end": 28.92219,
            "count": 0
           },
           {
            "bin_start": 28.92219,
            "bin_end": 29.78872,
            "count": 0
           },
           {
            "bin_start": 29.78872,
            "bin_end": 30.655250000000002,
            "count": 0
           },
           {
            "bin_start": 30.655250000000002,
            "bin_end": 31.521780000000003,
            "count": 1
           },
           {
            "bin_start": 31.521780000000003,
            "bin_end": 32.388310000000004,
            "count": 0
           },
           {
            "bin_start": 32.388310000000004,
            "bin_end": 33.25484,
            "count": 0
           },
           {
            "bin_start": 33.25484,
            "bin_end": 34.121370000000006,
            "count": 0
           },
           {
            "bin_start": 34.121370000000006,
            "bin_end": 34.9879,
            "count": 1
           }
          ]
         }
        },
        {
         "name": "d",
         "dtype": "float64",
         "stats": {
          "unique_count": 3,
          "nan_count": 0,
          "min": "0.0399",
          "max": "0.0531",
          "histogram": [
           {
            "bin_start": 0.0399,
            "bin_end": 0.04122,
            "count": 1
           },
           {
            "bin_start": 0.04122,
            "bin_end": 0.04254,
            "count": 0
           },
           {
            "bin_start": 0.04254,
            "bin_end": 0.043859999999999996,
            "count": 0
           },
           {
            "bin_start": 0.043859999999999996,
            "bin_end": 0.04518,
            "count": 0
           },
           {
            "bin_start": 0.04518,
            "bin_end": 0.0465,
            "count": 1
           },
           {
            "bin_start": 0.0465,
            "bin_end": 0.04782,
            "count": 0
           },
           {
            "bin_start": 0.04782,
            "bin_end": 0.04914,
            "count": 0
           },
           {
            "bin_start": 0.04914,
            "bin_end": 0.050460000000000005,
            "count": 0
           },
           {
            "bin_start": 0.050460000000000005,
            "bin_end": 0.05178,
            "count": 0
           },
           {
            "bin_start": 0.05178,
            "bin_end": 0.0531,
            "count": 1
           }
          ]
         }
        },
        {
         "name": "_deepnote_index_column",
         "dtype": "object"
        }
       ],
       "rows": [
        {
         "omega_2": 0.5655,
         "mu": 0.2585,
         "nu": 1.0228,
         "a": 14.8971,
         "b": 15.3802,
         "c": 30.8464,
         "d": 0.0454,
         "_deepnote_index_column": "PosteriorMax"
        },
        {
         "omega_2": 0.3819,
         "mu": 0.0541,
         "nu": 0.6346,
         "a": 12.5244,
         "b": 12.6031,
         "c": 26.3226,
         "d": 0.0399,
         "_deepnote_index_column": "LowerBoundCI"
        },
        {
         "omega_2": 0.8293,
         "mu": 0.6621,
         "nu": 1.8768,
         "a": 17.5711,
         "b": 17.6389,
         "c": 34.9879,
         "d": 0.0531,
         "_deepnote_index_column": "UpperBoundCI"
        }
       ]
      },
      "text/plain": "              omega_2      mu      nu        a        b        c       d\nPosteriorMax   0.5655  0.2585  1.0228  14.8971  15.3802  30.8464  0.0454\nLowerBoundCI   0.3819  0.0541  0.6346  12.5244  12.6031  26.3226  0.0399\nUpperBoundCI   0.8293  0.6621  1.8768  17.5711  17.6389  34.9879  0.0531",
      "text/html": "<div>\n<style scoped>\n    .dataframe tbody tr th:only-of-type {\n        vertical-align: middle;\n    }\n\n    .dataframe tbody tr th {\n        vertical-align: top;\n    }\n\n    .dataframe thead th {\n        text-align: right;\n    }\n</style>\n<table border=\"1\" class=\"dataframe\">\n  <thead>\n    <tr style=\"text-align: right;\">\n      <th></th>\n      <th>omega_2</th>\n      <th>mu</th>\n      <th>nu</th>\n      <th>a</th>\n      <th>b</th>\n      <th>c</th>\n      <th>d</th>\n    </tr>\n  </thead>\n  <tbody>\n    <tr>\n      <th>PosteriorMax</th>\n      <td>0.5655</td>\n      <td>0.2585</td>\n      <td>1.0228</td>\n      <td>14.8971</td>\n      <td>15.3802</td>\n      <td>30.8464</td>\n      <td>0.0454</td>\n    </tr>\n    <tr>\n      <th>LowerBoundCI</th>\n      <td>0.3819</td>\n      <td>0.0541</td>\n      <td>0.6346</td>\n      <td>12.5244</td>\n      <td>12.6031</td>\n      <td>26.3226</td>\n      <td>0.0399</td>\n    </tr>\n    <tr>\n      <th>UpperBoundCI</th>\n      <td>0.8293</td>\n      <td>0.6621</td>\n      <td>1.8768</td>\n      <td>17.5711</td>\n      <td>17.6389</td>\n      <td>34.9879</td>\n      <td>0.0531</td>\n    </tr>\n  </tbody>\n</table>\n</div>"
     },
     "metadata": {},
     "output_type": "display_data"
    }
   ],
   "execution_count": 5
  },
  {
   "cell_type": "markdown",
   "source": "### Model 2",
   "metadata": {
    "cell_id": "66da695d4386460688d9497f777445e8",
    "tags": [],
    "deepnote_cell_type": "markdown",
    "deepnote_cell_height": 62
   }
  },
  {
   "cell_type": "code",
   "source": "df_mod2 = pd.read_csv('./data/model2.csv')\n\ndf_mod2 = df_mod2.round(4).rename({0: 'PosteriorMax',\n                          1: 'LowerBoundCI',\n                          2: 'UpperBoundCI'})\n\ndisplay(df_mod2)",
   "metadata": {
    "cell_id": "fafbeb0b917442a1be0a1451bacc22e5",
    "tags": [],
    "deepnote_to_be_reexecuted": false,
    "source_hash": "11d2e925",
    "execution_start": 1655288646402,
    "execution_millis": 410,
    "deepnote_cell_type": "code",
    "deepnote_cell_height": 436.265625
   },
   "outputs": [
    {
     "data": {
      "application/vnd.deepnote.dataframe.v3+json": {
       "column_count": 7,
       "row_count": 3,
       "columns": [
        {
         "name": "omega_2",
         "dtype": "float64",
         "stats": {
          "unique_count": 3,
          "nan_count": 0,
          "min": "0.8045",
          "max": "1.532",
          "histogram": [
           {
            "bin_start": 0.8045,
            "bin_end": 0.87725,
            "count": 1
           },
           {
            "bin_start": 0.87725,
            "bin_end": 0.95,
            "count": 0
           },
           {
            "bin_start": 0.95,
            "bin_end": 1.02275,
            "count": 0
           },
           {
            "bin_start": 1.02275,
            "bin_end": 1.0955,
            "count": 0
           },
           {
            "bin_start": 1.0955,
            "bin_end": 1.16825,
            "count": 0
           },
           {
            "bin_start": 1.16825,
            "bin_end": 1.241,
            "count": 0
           },
           {
            "bin_start": 1.241,
            "bin_end": 1.3137500000000002,
            "count": 1
           },
           {
            "bin_start": 1.3137500000000002,
            "bin_end": 1.3865,
            "count": 0
           },
           {
            "bin_start": 1.3865,
            "bin_end": 1.45925,
            "count": 0
           },
           {
            "bin_start": 1.45925,
            "bin_end": 1.532,
            "count": 1
           }
          ]
         }
        },
        {
         "name": "mu",
         "dtype": "float64",
         "stats": {
          "unique_count": 3,
          "nan_count": 0,
          "min": "0.188",
          "max": "0.551",
          "histogram": [
           {
            "bin_start": 0.188,
            "bin_end": 0.2243,
            "count": 1
           },
           {
            "bin_start": 0.2243,
            "bin_end": 0.2606,
            "count": 0
           },
           {
            "bin_start": 0.2606,
            "bin_end": 0.29690000000000005,
            "count": 0
           },
           {
            "bin_start": 0.29690000000000005,
            "bin_end": 0.33320000000000005,
            "count": 0
           },
           {
            "bin_start": 0.33320000000000005,
            "bin_end": 0.36950000000000005,
            "count": 0
           },
           {
            "bin_start": 0.36950000000000005,
            "bin_end": 0.40580000000000005,
            "count": 0
           },
           {
            "bin_start": 0.40580000000000005,
            "bin_end": 0.44210000000000005,
            "count": 0
           },
           {
            "bin_start": 0.44210000000000005,
            "bin_end": 0.47840000000000005,
            "count": 0
           },
           {
            "bin_start": 0.47840000000000005,
            "bin_end": 0.5147,
            "count": 0
           },
           {
            "bin_start": 0.5147,
            "bin_end": 0.551,
            "count": 2
           }
          ]
         }
        },
        {
         "name": "nu",
         "dtype": "float64",
         "stats": {
          "unique_count": 3,
          "nan_count": 0,
          "min": "0.4496",
          "max": "0.967",
          "histogram": [
           {
            "bin_start": 0.4496,
            "bin_end": 0.50134,
            "count": 1
           },
           {
            "bin_start": 0.50134,
            "bin_end": 0.55308,
            "count": 0
           },
           {
            "bin_start": 0.55308,
            "bin_end": 0.6048199999999999,
            "count": 1
           },
           {
            "bin_start": 0.6048199999999999,
            "bin_end": 0.65656,
            "count": 0
           },
           {
            "bin_start": 0.65656,
            "bin_end": 0.7082999999999999,
            "count": 0
           },
           {
            "bin_start": 0.7082999999999999,
            "bin_end": 0.7600399999999999,
            "count": 0
           },
           {
            "bin_start": 0.7600399999999999,
            "bin_end": 0.81178,
            "count": 0
           },
           {
            "bin_start": 0.81178,
            "bin_end": 0.86352,
            "count": 0
           },
           {
            "bin_start": 0.86352,
            "bin_end": 0.91526,
            "count": 0
           },
           {
            "bin_start": 0.91526,
            "bin_end": 0.967,
            "count": 1
           }
          ]
         }
        },
        {
         "name": "a",
         "dtype": "float64",
         "stats": {
          "unique_count": 3,
          "nan_count": 0,
          "min": "12.5034",
          "max": "17.5626",
          "histogram": [
           {
            "bin_start": 12.5034,
            "bin_end": 13.009319999999999,
            "count": 1
           },
           {
            "bin_start": 13.009319999999999,
            "bin_end": 13.515239999999999,
            "count": 0
           },
           {
            "bin_start": 13.515239999999999,
            "bin_end": 14.021159999999998,
            "count": 0
           },
           {
            "bin_start": 14.021159999999998,
            "bin_end": 14.52708,
            "count": 0
           },
           {
            "bin_start": 14.52708,
            "bin_end": 15.033,
            "count": 1
           },
           {
            "bin_start": 15.033,
            "bin_end": 15.53892,
            "count": 0
           },
           {
            "bin_start": 15.53892,
            "bin_end": 16.04484,
            "count": 0
           },
           {
            "bin_start": 16.04484,
            "bin_end": 16.55076,
            "count": 0
           },
           {
            "bin_start": 16.55076,
            "bin_end": 17.05668,
            "count": 0
           },
           {
            "bin_start": 17.05668,
            "bin_end": 17.5626,
            "count": 1
           }
          ]
         }
        },
        {
         "name": "b",
         "dtype": "float64",
         "stats": {
          "unique_count": 3,
          "nan_count": 0,
          "min": "12.5032",
          "max": "17.6189",
          "histogram": [
           {
            "bin_start": 12.5032,
            "bin_end": 13.01477,
            "count": 1
           },
           {
            "bin_start": 13.01477,
            "bin_end": 13.52634,
            "count": 0
           },
           {
            "bin_start": 13.52634,
            "bin_end": 14.03791,
            "count": 0
           },
           {
            "bin_start": 14.03791,
            "bin_end": 14.549479999999999,
            "count": 0
           },
           {
            "bin_start": 14.549479999999999,
            "bin_end": 15.06105,
            "count": 1
           },
           {
            "bin_start": 15.06105,
            "bin_end": 15.57262,
            "count": 0
           },
           {
            "bin_start": 15.57262,
            "bin_end": 16.08419,
            "count": 0
           },
           {
            "bin_start": 16.08419,
            "bin_end": 16.59576,
            "count": 0
           },
           {
            "bin_start": 16.59576,
            "bin_end": 17.10733,
            "count": 0
           },
           {
            "bin_start": 17.10733,
            "bin_end": 17.6189,
            "count": 1
           }
          ]
         }
        },
        {
         "name": "c",
         "dtype": "float64",
         "stats": {
          "unique_count": 3,
          "nan_count": 0,
          "min": "26.4263",
          "max": "35.4287",
          "histogram": [
           {
            "bin_start": 26.4263,
            "bin_end": 27.32654,
            "count": 1
           },
           {
            "bin_start": 27.32654,
            "bin_end": 28.22678,
            "count": 0
           },
           {
            "bin_start": 28.22678,
            "bin_end": 29.12702,
            "count": 0
           },
           {
            "bin_start": 29.12702,
            "bin_end": 30.027260000000002,
            "count": 0
           },
           {
            "bin_start": 30.027260000000002,
            "bin_end": 30.927500000000002,
            "count": 1
           },
           {
            "bin_start": 30.927500000000002,
            "bin_end": 31.82774,
            "count": 0
           },
           {
            "bin_start": 31.82774,
            "bin_end": 32.72798,
            "count": 0
           },
           {
            "bin_start": 32.72798,
            "bin_end": 33.62822,
            "count": 0
           },
           {
            "bin_start": 33.62822,
            "bin_end": 34.528459999999995,
            "count": 0
           },
           {
            "bin_start": 34.528459999999995,
            "bin_end": 35.4287,
            "count": 1
           }
          ]
         }
        },
        {
         "name": "d",
         "dtype": "float64",
         "stats": {
          "unique_count": 3,
          "nan_count": 0,
          "min": "0.0393",
          "max": "0.0529",
          "histogram": [
           {
            "bin_start": 0.0393,
            "bin_end": 0.04066,
            "count": 1
           },
           {
            "bin_start": 0.04066,
            "bin_end": 0.04202,
            "count": 0
           },
           {
            "bin_start": 0.04202,
            "bin_end": 0.04338,
            "count": 0
           },
           {
            "bin_start": 0.04338,
            "bin_end": 0.04474,
            "count": 0
           },
           {
            "bin_start": 0.04474,
            "bin_end": 0.0461,
            "count": 1
           },
           {
            "bin_start": 0.0461,
            "bin_end": 0.04746,
            "count": 0
           },
           {
            "bin_start": 0.04746,
            "bin_end": 0.04882,
            "count": 0
           },
           {
            "bin_start": 0.04882,
            "bin_end": 0.05018,
            "count": 0
           },
           {
            "bin_start": 0.05018,
            "bin_end": 0.05154,
            "count": 0
           },
           {
            "bin_start": 0.05154,
            "bin_end": 0.0529,
            "count": 1
           }
          ]
         }
        },
        {
         "name": "_deepnote_index_column",
         "dtype": "object"
        }
       ],
       "rows": [
        {
         "omega_2": 1.2617,
         "mu": 0.551,
         "nu": 0.561,
         "a": 14.9597,
         "b": 15.0245,
         "c": 30.7346,
         "d": 0.0448,
         "_deepnote_index_column": "PosteriorMax"
        },
        {
         "omega_2": 0.8045,
         "mu": 0.188,
         "nu": 0.4496,
         "a": 12.5034,
         "b": 12.5032,
         "c": 26.4263,
         "d": 0.0393,
         "_deepnote_index_column": "LowerBoundCI"
        },
        {
         "omega_2": 1.532,
         "mu": 0.5483,
         "nu": 0.967,
         "a": 17.5626,
         "b": 17.6189,
         "c": 35.4287,
         "d": 0.0529,
         "_deepnote_index_column": "UpperBoundCI"
        }
       ]
      },
      "text/plain": "              omega_2      mu      nu        a        b        c       d\nPosteriorMax   1.2617  0.5510  0.5610  14.9597  15.0245  30.7346  0.0448\nLowerBoundCI   0.8045  0.1880  0.4496  12.5034  12.5032  26.4263  0.0393\nUpperBoundCI   1.5320  0.5483  0.9670  17.5626  17.6189  35.4287  0.0529",
      "text/html": "<div>\n<style scoped>\n    .dataframe tbody tr th:only-of-type {\n        vertical-align: middle;\n    }\n\n    .dataframe tbody tr th {\n        vertical-align: top;\n    }\n\n    .dataframe thead th {\n        text-align: right;\n    }\n</style>\n<table border=\"1\" class=\"dataframe\">\n  <thead>\n    <tr style=\"text-align: right;\">\n      <th></th>\n      <th>omega_2</th>\n      <th>mu</th>\n      <th>nu</th>\n      <th>a</th>\n      <th>b</th>\n      <th>c</th>\n      <th>d</th>\n    </tr>\n  </thead>\n  <tbody>\n    <tr>\n      <th>PosteriorMax</th>\n      <td>1.2617</td>\n      <td>0.5510</td>\n      <td>0.5610</td>\n      <td>14.9597</td>\n      <td>15.0245</td>\n      <td>30.7346</td>\n      <td>0.0448</td>\n    </tr>\n    <tr>\n      <th>LowerBoundCI</th>\n      <td>0.8045</td>\n      <td>0.1880</td>\n      <td>0.4496</td>\n      <td>12.5034</td>\n      <td>12.5032</td>\n      <td>26.4263</td>\n      <td>0.0393</td>\n    </tr>\n    <tr>\n      <th>UpperBoundCI</th>\n      <td>1.5320</td>\n      <td>0.5483</td>\n      <td>0.9670</td>\n      <td>17.5626</td>\n      <td>17.6189</td>\n      <td>35.4287</td>\n      <td>0.0529</td>\n    </tr>\n  </tbody>\n</table>\n</div>"
     },
     "metadata": {},
     "output_type": "display_data"
    }
   ],
   "execution_count": 6
  },
  {
   "cell_type": "markdown",
   "source": "## Scatter plot of $\\tau, \\omega_1, frac$",
   "metadata": {
    "cell_id": "ade3c0eab4ec4634b92155f34326ce70",
    "tags": [],
    "deepnote_cell_type": "markdown",
    "deepnote_cell_height": 75.71875
   }
  },
  {
   "cell_type": "code",
   "source": "df_scatter_start = pd.read_csv('./data/scatter3d_start.csv')\ndf_scatter_mod1 = pd.read_csv('./data/scatter3d_model1.csv')\ndf_scatter_mod2 = pd.read_csv('./data/scatter3d_model2.csv')",
   "metadata": {
    "cell_id": "12816046ef8a45529ece908e2738350e",
    "tags": [],
    "deepnote_to_be_reexecuted": false,
    "source_hash": "3fb74c07",
    "execution_start": 1655288646479,
    "execution_millis": 0,
    "owner_user_id": "04e5cc81-8e45-494a-88d3-9de193fcc61e",
    "deepnote_cell_type": "code",
    "deepnote_cell_height": 117
   },
   "outputs": [],
   "execution_count": 7
  },
  {
   "cell_type": "code",
   "source": "fig = plot_funcs.comparison_3d(df1 = df_microbial_growth, df2= df_scatter_start, df3=df_scatter_mod1, df4=df_scatter_mod2)\nfig.show()",
   "metadata": {
    "cell_id": "73a4af6f06b54cc48d9fbfeed6620ec9",
    "tags": [],
    "deepnote_to_be_reexecuted": false,
    "source_hash": "45004075",
    "execution_start": 1655288646479,
    "execution_millis": 355,
    "owner_user_id": "7f69bd26-d583-496b-860b-3b60f8ef9538",
    "deepnote_cell_type": "code",
    "deepnote_cell_height": 721.625,
    "deepnote_output_heights": [
     606.625
    ]
   },
   "outputs": [
    {
     "data": {
      "text/html": "<html>\n<head><meta charset=\"utf-8\" /></head>\n<body>\n    <div>            <script src=\"https://cdnjs.cloudflare.com/ajax/libs/mathjax/2.7.5/MathJax.js?config=TeX-AMS-MML_SVG\"></script><script type=\"text/javascript\">if (window.MathJax) {MathJax.Hub.Config({SVG: {font: \"STIX-Web\"}});}</script>                <script type=\"text/javascript\">window.PlotlyConfig = {MathJaxConfig: 'local'};</script>\n        <script src=\"https://cdn.plot.ly/plotly-2.11.1.min.js\"></script>                <div id=\"3314e13c-6a87-4ef5-a23e-bcc590921105\" class=\"plotly-graph-div\" style=\"height:1000px; width:1000px;\"></div>            <script type=\"text/javascript\">                                    window.PLOTLYENV=window.PLOTLYENV || {};                                    if (document.getElementById(\"3314e13c-6a87-4ef5-a23e-bcc590921105\")) {                    Plotly.newPlot(                        \"3314e13c-6a87-4ef5-a23e-bcc590921105\",                        [{\"marker\":{\"color\":\"blue\",\"opacity\":0.3,\"size\":3},\"mode\":\"markers\",\"x\":[0.5,0.416666666666667,0.833333333333333,0.333333333333333,0.416666666666667,0.583333333333334,0.5,0.583333333333334,0.666666666666667,0.5,0.416666666666666,0.583333333333333,0.416666666666668,0.500000000000002,0.583333333333334,0.666666666666668,0.583333333333336,0.5,0.5,0.583333333333332,0.583333333333334,0.583333333333336,0.750000000000002,0.416666666666666,0.416666666666664,0.416666666666668,0.5,0.333333333333336,0.500000000000004,0.666666666666664,0.75,0.416666666666668,0.5,0.666666666666664,0.0833333333333322,0.333333333333336,0.666666666666668,0.666666666666664,0.666666666666668,0.583333333333336,0.666666666666668,0.666666666666664,0.583333333333336,0.583333333333336,0.500000000000004,0.416666666666664,0.583333333333336,0.583333333333329,0.416666666666664,0.583333333333329,0.666666666666671,0.5,0.583333333333336,0.583333333333336,0.583333333333329,0.416666666666664,0.583333333333336,0.416666666666664,0.5,0.583333333333329,1.0,0.583333333333329,0.666666666666664,0.5,0.5,0.666666666666671,0.583333333333329,0.666666666666664,0.5,0.583333333333329,0.583333333333336,0.583333333333329,0.416666666666664,0.5,0.666666666666671,0.583333333333329,0.5,0.333333333333329,0.583333333333329,0.333333333333329,0.583333333333336,0.583333333333336,0.583333333333329,0.5,0.500000000000007,0.416666666666671,0.583333333333329,0.416666666666671,0.583333333333336,0.583333333333336,0.583333333333329,0.416666666666671,0.333333333333336,0.583333333333336,0.416666666666664,0.499999999999993,0.666666666666664,0.666666666666664,0.333333333333322,0.499999999999993,0.583333333333322,0.416666666666671,0.5,0.583333333333343,0.5,0.5,0.333333333333329,0.583333333333343,0.5,0.666666666666671,0.666666666666671,0.416666666666671,0.5,0.583333333333343,0.583333333333329,0.75,0.666666666666657,0.500000000000014,0.499999999999986,0.416666666666671,0.5,0.5,0.499999999999986,0.583333333333329,0.666666666666657,0.500000000000014,0.583333333333329,0.416666666666671,0.499999999999986,0.666666666666671,0.583333333333329,0.583333333333343,0.416666666666657,0.333333333333343,0.583333333333329,0.416666666666671,0.583333333333329,0.583333333333343,0.916666666666657,0.166666666666671,0.416666666666671,0.416666666666657,0.583333333333343,0.583333333333329,0.666666666666671,0.5,0.5,0.583333333333329,0.5,0.833333333333329,0.333333333333329,0.666666666666671,0.416666666666671,0.5,0.583333333333329,0.75,0.416666666666657,0.500000000000014,0.666666666666657,0.583333333333329,0.499999999999986,0.333333333333329,0.416666666666671,0.583333333333329,0.583333333333343,0.583333333333329,0.5,0.5,0.583333333333343,0.0833333333333286,0.333333333333343,0.416666666666686,0.333333333333329,0.750000000000014,0.583333333333314,0.333333333333343,0.416666666666671,0.5,0.5,0.75,0.250000000000014,0.25,0.416666666666671,0.499999999999986,0.5,0.5,0.666666666666686,0.416666666666657,0.5,0.666666666666671,0.416666666666671,1.08333333333334,0.250000000000014,0.416666666666657,0.500000000000028,0.416666666666657,0.750000000000014,0.166666666666657,0.583333333333329,1.33333333333333,0.166666666666657,0.333333333333329,0.250000000000014,0.416666666666671,0.499999999999986,0.166666666666657,0.166666666666686,0.416666666666657,0.583333333333343,0.5,0.75,0.416666666666657,0.5,0.416666666666657,0.416666666666629,0.5,0.5,0.499999999999972,0.500000000000028,0.583333333333314,0.666666666666686,0.583333333333343,0.5,0.5,0.5,0.416666666666657,0.5,0.499999999999972,0.416666666666657,0.75,0.250000000000028,0.5,0.583333333333343,0.416666666666686,0.75,0.5,0.5,0.5,0.666666666666657,0.416666666666657,0.666666666666657,0.416666666666657,0.5,0.5,0.75,0.416666666666657,0.416666666666657,0.5,0.75,0.333333333333343,0.499999999999972],\"y\":[1.58996769779266,1.45894367754768,1.24484364438826,1.47046768972231,1.46271363961461,1.21672631608727,1.25844973367198,1.55616244704538,1.31564012578152,1.32653146164869,1.41833118794057,1.21499123385983,1.36269100939931,1.39447063505688,1.117007507524,1.11141071257723,1.40246459262158,1.49677184842928,1.38731747359571,1.41650405807123,1.40854801271802,1.28233429956722,1.32719537714499,1.48551452583427,1.44638629980432,1.56926067741922,1.61352501727956,1.50566630807291,0.75544674175313,1.09616834103149,1.27653159857402,1.35779913586979,1.27212426892942,1.16383502519424,3.751719160881,1.32686292056962,1.19147804161228,1.11019517846159,1.26840133796634,1.28286193236847,1.30501198754169,1.13629962120932,1.20288048760374,1.35097940549412,1.55312433327138,1.53373776354278,1.28345827790283,1.25416014651497,1.32903728483487,1.31302127071978,1.48149262931684,1.30582568725124,1.14602195497948,1.10994638805139,1.384458315671,1.49392830470346,1.37258878788424,1.3977806617166,1.26148846283505,1.35206102833955,1.09692417519962,1.24403836219481,1.26166232394566,1.26430900639261,1.08836086220233,1.18385001494373,1.27818236238099,1.39982629928307,1.22593863319961,1.2700234886566,1.14041106683455,1.36757105829579,1.50328357375832,1.38533376096551,1.2111243124865,1.43841324268478,1.50736159881019,1.71862980159466,1.39125414323798,1.69270849076914,1.27036299574104,1.54370275489594,1.47097794234935,1.4395492551013,1.44213106879945,1.61153922440873,1.56988690918843,1.5794978264445,1.22357820866379,1.30667207365708,1.49126619834021,1.64472913265767,1.70632652437159,1.53860135071521,1.34024094271753,1.52144648268319,1.14887163276518,1.20036476578158,1.72567539832883,1.30824543292856,1.15138512652416,1.21792005086252,1.36842239665188,1.46761548166505,1.35666304799126,1.55849473405123,1.36705998897913,1.30683930541864,1.27824471822397,1.33595079122536,1.32355446409803,1.24637111101373,1.26386645528722,1.19213004355736,0.965450959328068,1.20573130201149,1.32017371893433,1.45791198883581,1.49709746708186,1.70248818046327,1.43706864207516,1.48674030538449,1.29941250225922,1.37822679658525,1.37475423188521,1.36884026675078,1.18952482017699,1.24652380432837,1.27663603690283,1.26503846500699,1.43702416103118,1.41400669220603,1.54750197135041,1.66697137269214,1.42819834140728,1.58204709403289,1.29422173385757,1.21945298249403,1.2966966591189,1.63927599337559,1.56746656794511,1.24547115705272,1.20923183915458,1.10347116651474,1.20328911231391,1.32478257830889,1.15685368047523,1.12453609405292,1.1159711639413,1.20161170905962,1.53130270806178,1.39245998580246,1.33944657234926,1.25734195109386,1.35169199580693,1.19426746087483,1.29338628664571,1.32907915761393,1.17686024192699,1.35351773404866,1.55559420790356,1.50097468400714,1.3942679570977,1.29792421435725,1.32875801603057,1.20592673607872,1.16983160836832,1.36311018077135,1.60295305582265,4.07143555717965,1.96273365130093,1.45467511815329,1.70825431700368,1.16483094245423,1.32959341562282,1.66809583668743,1.73349360602893,1.57948291531864,1.3450755990792,1.47821742046584,1.60506549564534,1.4885469076066,1.24048790879664,1.49612639170055,1.41442425465511,1.70647409227667,1.52977033396716,1.64049206090611,1.45381491709841,1.24233170016156,1.35033227769166,1.2691807948079,1.68168796218348,1.27285241235683,1.40718226430765,1.40124049349115,1.25531950279874,1.82449483475967,1.43115440375181,1.17664372416701,1.56355746040611,1.70463775968286,1.32990478142082,1.36693248563393,1.57938300919514,2.74858830850692,2.70248440011313,1.96346986004161,1.31044856752778,1.28581849515305,1.18585833718319,1.44220979895897,1.4315228915214,1.48716555452225,2.09876112729817,1.40475027562321,1.59531859799669,1.42497086162506,1.49199127548106,1.2192692631931,1.36718755104658,1.19303843277558,1.20156963110122,1.16318383125732,1.24184171105205,1.36093292777145,1.1465281838095,1.37412832421382,1.40349505072671,1.41335839520369,1.95391283925391,1.50011266109621,1.53450724239101,0.505963594660099,1.11992624769889,1.83754251977613,1.47326622807315,1.13157413863201,1.3251773251424,1.02141116405552,1.27282056158076,1.46418287166494,1.34794760619328,1.32757253996662,1.18647956106598,1.59143283340043,1.41789294403747,1.20845345774503,1.39575376503312,1.44504330853929,1.42202240257664],\"z\":[0.456028002051387,0.469618916545778,0.505526075322566,0.446903409482841,0.482744438597171,0.51210160119141,0.483351917988853,0.491139841168619,0.465992331480415,0.488977993052723,0.50335492243449,0.526044351727723,0.502591308364701,0.459084025011339,0.530119107724709,0.47334054056287,0.482855366658186,0.441974191084596,0.467212827695769,0.514113952020246,0.455850376112461,0.50860022936137,0.439228507797942,0.527659390435334,0.476384498739974,0.506170387283319,0.512123907087556,0.499318478388998,0.506723876540554,0.488907343656099,0.513387276183995,0.470118174390581,0.521674569162284,0.483473167763778,0.427834496814097,0.960693946991404,0.477367902264965,0.465210038859102,0.453961286285557,0.479183122404599,0.471641795645758,0.484015591266423,0.484847585634072,0.458274945725016,0.485700997554413,0.501855003922552,0.49068490254818,0.482844166819735,0.432074626448321,0.484861772756954,0.498656865211802,0.490059779189076,0.525757328182465,0.519663880236889,0.481688614751534,0.460642368771912,0.464509909791053,0.516624980022872,0.452917958798043,0.513911160285985,0.400231682724131,0.403249345967592,0.49175600579316,0.524478109271294,0.488611405655756,0.514623120964561,0.46374840931682,0.433087507741273,0.486986862504124,0.517483424082118,0.513367183345375,0.46735324203877,0.511250738255512,0.470068612557422,0.486641699010392,0.47462810748484,0.496244516250822,0.520191671648149,0.455940849551168,0.453967522352102,0.459935774426496,0.426473313600944,0.494715609657311,0.427940908911195,0.524170362836771,0.52421653282822,0.426357794157551,0.463384047113578,0.519976732953094,0.526334829101889,0.485788098944219,0.455074077938204,0.460110713446955,0.482796237529727,0.441155033553389,0.499958252891759,0.529457814628094,0.477615782310247,0.531849081584962,0.521988971722122,0.516111089021078,0.590594779805941,0.452729705793309,0.473592671352342,0.481178917291245,0.485147543169193,0.484727048387442,0.520105940061214,0.515863411567386,0.44855071911401,0.418117013745512,0.548140299892856,0.504301743496529,0.47619714238456,0.548051368530973,0.470958486791677,0.520231072018187,0.47275915759586,0.463803580069947,0.481611733357232,0.494178618900276,0.417522875820243,0.470465238401095,0.464152032277289,0.511651434823076,0.471584099185687,0.552014046964566,0.555940523786342,0.445580825270018,0.480699315426475,0.463093729780274,0.423491035694639,0.538071390403616,0.498164078182811,0.447771508146558,0.426111462156472,0.551215949100775,0.548397164789088,0.544196549953829,0.508864388831158,0.503913104186435,0.479150754526781,0.530237436515199,0.487160058154586,0.515903549033189,0.470911685234219,0.493540401765346,0.497175055930065,0.542464880175607,0.410438166100033,0.542183645008808,0.470400472761782,0.51669505621626,0.478609585837723,0.432191218428418,0.475077477324668,0.494099332326523,0.574130644258401,0.497985449722834,0.533280388980524,0.47525412375977,0.522273356659054,0.496065983960273,0.439490357222528,0.543877814641304,0.508114524216546,0.554234395896107,0.467856906406584,0.471277484333633,0.442769742130525,0.955790704748722,0.440634036028267,0.522831555241377,0.554028792093529,0.474412651555841,0.516671383249737,0.469886502690515,0.501116720089667,0.453786037458072,0.535636687078413,0.539489569145166,0.489902631343216,0.540445665678585,0.446719787229708,0.463670782163028,0.426033607006262,0.357723235350301,0.513122111772403,0.445154286112664,0.453399469389353,0.475606918898389,0.525456186293102,0.543684606358965,0.539776453931707,0.505006168158393,0.541313406486291,0.503048448837853,0.527925367084191,0.490627281124101,0.417449446622987,0.581704744104079,0.474785697531685,0.555884361371051,0.470731306559354,0.48916816475134,0.397777228301025,0.990917846034598,0.380496316994561,0.54733458428149,0.46402682895663,0.448597697816748,0.527475983047368,0.454081942147981,0.537075714326576,0.4170772581334,0.453950740548031,0.473174815985019,0.467025294224763,0.429112809664143,0.471195022692037,0.486351707956408,0.520602797719542,0.558381794547072,0.488525167837765,0.522321927275374,0.527103377077688,0.521451276156129,0.613432875675116,0.497765812484219,0.530368125613601,0.466167660937107,0.465807394249753,0.413326589919328,0.442295504685158,0.527138566946803,0.501007694891863,0.551052503008305,0.508337798833839,0.524316657138139,0.526944142286266,0.506884365354374,0.502287380468444,0.496945090683618,0.475335449360069,0.464180632440849,0.51372764049108,0.520893067288242,0.507478130801968,0.550478268054699,0.500204158063523,0.422862987534087],\"type\":\"scatter3d\",\"scene\":\"scene\"},{\"marker\":{\"color\":\"blue\",\"opacity\":0.3,\"size\":3},\"mode\":\"markers\",\"x\":[0.1159435141734344,0.0207512987591771,0.3990321382640212,0.7556095649769841,0.5855096483322028,0.4319083232372203,0.7497850907034634,0.0629751744026567,0.3805156808895875,0.0760714730571069,0.268285870560712,0.6592308316207838,0.0822894480307153,0.4142298156099053,0.2101026128802016,0.0225752694396802,0.4377100401726586,1.5128744477993648,0.3323843716352285,0.1798184729981031,0.0506553147566587,0.2861860650564718,0.1308537172866342,0.3187984698165603,0.424240906460635,0.6001679865259925,0.0239541939938999,0.1912069548892747,0.3550409539207578,0.1496308471563976,0.6056613039762774,0.1996982532749947,0.0477960212911909,0.3386880309919449,1.3585085938687205,0.0180531499970249,0.8401109448250518,0.1034985601937489,0.1699129433021307,0.4326167642642422,0.264018707300673,0.664589401852125,0.4421131177117106,1.0775236916771154,0.1898610338347595,0.0352721485466564,0.6026126683834282,0.0682547447428291,0.7735266093185399,0.6912434383676291,0.0024720109731919,0.0652471078787787,0.0647466810581176,0.1724527777825598,0.3401829961385434,2.2980899198161344,0.1875559448712624,0.119894118167796,0.2722132504204038,0.0253725033466809,0.5927596482334514,0.2563195595938985,0.2100258085106063,0.6868666974448477,0.3659946632457479,0.7377247206117383,0.2098622850912693,0.1685041400667643,0.0539635331976966,0.2046478669795141,0.1717270765372867,0.1715675018468587,0.0435050962956277,1.3130259363857009,0.4763501604133134,0.376519402399656,0.0233101052015667,0.6130822601843828,0.0718451645593492,0.1520110982704141,0.2473188834840297,0.7172581531623144,0.2297712922146074,0.4184905975731394,0.2558139659321279,0.4032470476767717,0.9223267878928888,0.0593938636333495,0.0547591680848901,0.1941967089268177,0.263837354387093,0.5703051325737213,0.2122976782790596,1.460781758700277,0.2079239908729334,0.1249815731957126,0.4881583347982852,0.7018076048189551,0.875076511798852,0.1020596072851835,0.3137524731581335,0.5285392350549539,0.2146647347409355,0.9483999292403916,0.4532307698976078,0.0870208829677414,0.1851635009886386,0.7877511131711434,0.353191155764417,0.1098159618747863,0.3546924816533808,0.956181167479752,0.0283400047833776,0.0767956105132081,0.3533951810798139,0.187133285741687,1.0453172045481929,0.0201255547719689,0.452451826658137,0.2828766298971489,0.1214622926834276,0.4942425909252297,0.1471865149091518,0.4905943585110343,0.1633686856416124,0.0098462613689431,0.4742623704546339,0.4122615463357391,0.5731527419095181,0.1546394073356953,0.4082171798935787,0.9983861907518564,0.0698858472735035,0.0702442727922364,0.0279875514935079,0.1959075243057738,0.771018343548866,0.2829990094123558,0.5730741654438578,0.0637945464829349,0.7034695022135866,0.463936097347629,0.2625005314938329,0.3763434186165244,0.0841969944025019,0.089316958799114,0.1403484506357287,0.0752301261709731,0.798798904924536,0.1801601635874721,0.0949141139249971,0.62180814849248,0.4939354423872806,0.6201159944691483,0.0118478653908193,0.144197225049039,0.8329078039858956,0.665910067866005,0.078203735222307,0.0955314931619968,0.9574425571997912,0.0563881166187403,0.3902106838465982,0.4103090279635841,0.1554059933680052,0.2436484202711469,0.6921878361093099,0.1152113673881027,0.6694937883550258,0.5600804813456066,0.3367276999043716,0.0821867534793008,0.3319413496418783,0.2047829751821532,0.2321811730802714,0.2358459326025148,0.8053425375224128,0.4463951261217664,0.3467499105418406,0.5363376625061902,0.1694139410175864,0.3788331298538312,0.4498708548687815,0.2347510826102122,0.3987282428649126,0.086333520715583,0.2512179878747745,0.07931654135952,0.0240864690470952,1.290782085692009,0.1006887236285348,0.2084519686184315,0.3330798685000301,0.5012219905178359,0.2793707817613581,0.2684826368964436,0.6678439809477589,0.3211221534760792,0.1051448752832818,0.2726144925226606,1.0195342485474368,0.1099904026504481,0.1460801884091989,0.3926783439181719,0.3977026474537619,0.4321049582226384,0.9929302659803352,0.1616140156660637,0.1623411268979346,0.096554816739182,0.1259789629291922,0.7947185257798676,0.1915090504025216,0.7585282942412437,0.245674565185922,0.8450919332860434,0.1826321205227004,0.3777158348056038,0.9864139516839626,0.0394984857235656,0.0717490650103783,0.8035318254836123,0.1518172618675936,0.5899849649107423,0.2994473157120711,0.7101784819266472,0.3259936821765947,0.1151150302616972,0.153530469418889,0.4298216508574813,0.7297206466953967,0.0557584204271317,0.5115492293515569,0.8638838759945688,0.3303333792056723,0.1913423599174008,0.1670413586718898,0.0453413201109658,0.1252875648681881,0.6003451946551823,0.4472876781526131,0.0608729618072327,1.1953582495635873,0.012685262058701,0.1268842282429434,0.1681466755278705,0.1826751946585821,0.3767415102529755,0.8588426647715187,0.1779395784785265,0.8088777781533633,0.1950919691532095,0.3252480823023635,0.1611800904569313,0.1726109378372709,0.00504352606877,0.8115513469233616,0.6837750832833982,1.7741244395505855,0.0633175195973473,0.5155012187935906,0.902502814756434,0.1882307788949595,0.1522039954993002,0.1287228287821752,0.1199004071850345,0.59409231783959,0.1823879727886927,0.2378156080994631,0.4495878013478163,0.051624380665519,0.3113819593156454,0.9808005202694426,0.1951891625626658,0.2452143572407231,0.1867174651331958,0.0254339424223254,0.3476264286100163,0.2092985750465034,0.1659037731852886,0.4028733798561807,0.1971972203089832,0.231852768683492,0.140723315658506,0.2109394880325212,1.620526424942358,0.1426091037993769,0.1893393046228918,0.0105305645046857,0.1184037428271087,0.3246882081624932,1.0254528602355175,0.0483467035937986,0.2781733960531345,0.1869073856017495,0.8213420188272695,0.2145192279167877,0.1043702024508608,0.6231437144362684,0.0040807984439832,0.2102184264104512,0.2911298787563144,0.1336456005431461,0.3395983612013067,0.7110739873491391,0.0024441319451229,0.524551397234623,0.2643724445521562,0.9695555739794232,0.8267497284727808,0.1359923257799321,0.114349404038011,0.1370764662488818,0.6933603937127552,0.2546311548140017,0.0061358057687008,0.5544979989185799,0.3531664609770592,0.3097913773241693,0.1036951401216322,0.5513489192342799,0.2353510314701545,0.2402091431539945,0.5909850006521148,0.2514942459965828,0.5953027701553779,1.366507736470474,0.1914957603170771,0.0664992464848958,0.3579110611880184,0.3826023408893714,0.8314480938952798,0.0983959404478344,0.2619961676602979,0.2308509678673175,0.0955623128961985,0.6809727934061092,0.0167233522002375,0.7229097672856875,0.0590554113515475,1.184382982470972,0.5935007071206004,0.3590635734807355,0.6356156694452245,0.0447615007754607,0.6149656015056502,0.4101369121861505,0.3163562804216761,0.3214214033616215,0.0162115656917659,0.1583804120228411,0.3068359005051838,0.0422637479414762,0.3597448758353731,0.957256775035314,0.0721425042539199,0.1660069272947948,0.2428131592601072,0.0747754223485133,0.1444044047260307,0.1726873788318021,1.2570713120085042,0.2095841380357229,0.5381557775844712,0.1633810116407123,0.1485653197613091,0.8575160764629902,0.2536080752369741,0.0437801921713407,0.3959599359871563,0.197497974462159,0.0524827709288892,0.1633442044297829,0.1041668341328289,0.9801037093052056,0.8664090088351226,0.0445930134983947,0.1478217308622062,0.6520443429641333,0.3662757823460543,0.2194066287798209,0.012016934686692,0.168136715541465,0.1932202070398611,0.5282227387997694,0.4145833302651878,0.5810073687058567,0.5753841265338292,0.0383042483536735,0.3611680645434263,0.2703264465388714,0.5336627461588769,0.9362191988771372,0.133285127125827,0.0849604768045159,0.0364372400037126,0.9509419000182284,0.1602594601960141,0.6605577225894669,0.098923102362491,0.6294133114624569,0.0448907462321369,0.2492493425585379,0.2455253845861756,0.3211525342992627,0.8425311503874522,0.7083699591097896,0.0038699846017446,0.9884188239052502,0.0355751733742722,0.1037069081715267,0.1014107585626275,0.2831502019349796,1.0569338736939375,0.1415305425322816,0.6636943182847344,0.1141478272311658,0.0741132585183035,0.77487364767181,0.5163877295589787,0.0310211129908691,0.0260803815242679,0.0742126412522038,1.361900838978378,0.7364329593091128,0.1135599916784883,0.298660053768199,0.1272248310937954,0.3477628594472757,0.4826851917525549,0.0702166987847456,0.0494564786660797,0.0012485113806581,1.8617437095540288,0.2423817653109443,0.2502805947509545,0.4523420848088312,0.5370771080976189,0.4552650713911798,0.4585558627321487,0.3995347494932586,0.0608990304689218,0.0084511937513128,0.1445882952621108,0.1984079955799534,0.3911044223079472,0.1105214369819593,0.3243668727016527,0.0253441608542355,0.5208566786851996,0.0023521389336044,0.9011017244385392,1.1611653164522155,0.0459156218163834,0.6351762646341084,0.8792758243704224,0.0033029073250247,0.1151012390303387,0.0453340952467637,0.0942408983378571,0.8946050943642958,0.1946896546693728,0.0635503562134144,0.2241812833394119,0.151439123246586,0.8997928178663364,0.2206532896259255,0.1271025398029002,0.0724957001051353,0.3545252965647429,0.7593337109628504,0.5187867558088316,0.6047523052732148,0.0009154633048325,0.1505120169248604,0.4528920993777023,0.4287079384658384,1.0516740800250133,0.0953254719005908,0.4779378268986697,0.1112861370135464,0.4882853816958787,0.0638896459471219,0.6258264930288348,0.071601730183888,0.2396862246851439,0.1593479527163195,0.8323555408959082,0.2502329144722847,0.0678624816137219,0.1860220747987933,0.5679439160920631,0.4940952017286527,0.1477164008432848,0.3174004077528691,0.0951851385958718,0.5477603771499889,0.4272780593278881,0.0392581199666389,0.869585179804588],\"y\":[1.404962799040494,1.787947108793631,1.0200375231944068,1.269211902055315,1.153498885432006,1.0584820485998834,1.084984198166674,1.0612164953324583,1.2759844385227976,1.6280675172087131,1.4224651179077898,1.5154103515509454,1.394781989106769,1.415680906416872,1.4353339508934673,1.4875792205553398,1.5902914382258817,0.8674509146152791,1.2803002427748946,1.322505172789687,1.177454968179556,1.3673604060902558,1.457306651530882,1.0296188797356225,1.524476581571179,1.3031653487209718,1.749576079518557,1.166471997495005,1.6616784710143468,1.169280624569994,1.6479101182220353,1.4949107040453904,1.292853451897208,1.6676887413257733,1.0784228256331598,2.2471327041860887,1.0897632977232097,1.34268100300962,1.183112968877064,1.122558362429434,1.6756905881132618,1.1723394939043803,1.6426585389410204,1.2546611110749275,1.066278635369778,1.0837090243641545,1.4090557480252426,1.4022936221044846,0.8509660561506552,1.147960492355378,2.2033523229521115,1.9375109287240304,1.845058960227269,1.854067298737643,1.7571819478448298,0.9406589812748388,1.3361209281384892,1.5452332892308869,1.314916875085961,1.5837392736116782,1.3745431925772211,1.6415914325897092,1.81144751178208,1.3030320062406822,1.0573703334731954,1.4743485258715885,1.3230794980287828,1.4649296995024343,1.4412711513739491,0.8034839063212385,1.4176456978385783,1.1821098258522378,1.4176814477043838,1.1381265311206206,1.231686043196933,1.5003944081831857,1.258288322632101,1.455548142524091,1.8509670992206304,1.501660042283255,1.1708466516699771,1.177026271110859,1.2712278255047258,1.4046587104864878,1.189736977531534,1.1292239200944134,1.4332250124280763,1.6913824886650768,1.6237174213513978,1.2722106117882876,1.4908795508404062,1.784838884168083,1.060789799386183,1.0266926032617076,1.606182788879274,1.5742417290974489,1.3764186356378738,1.298683784464859,0.8943709122604174,1.0807074959896257,1.3696532825195111,1.4929061530724412,1.031391512557795,1.0246462504311828,1.6900772663363557,1.74406279074384,1.5119989795337294,1.4850132279869714,1.550048797348108,1.549216676016877,1.2066833291521737,1.2837446986633785,1.2364341092881763,1.427284053842042,1.2137420979008342,1.8291494685388507,1.2922250865272211,1.71692946038185,1.4251599046053085,1.563811505315934,1.3634676685410212,1.648841103391606,1.7624202910364812,1.5871068160411117,1.4360223745321683,1.3037526747158394,1.1707963387388074,1.409366997483231,1.6821403247587143,1.6098341103463571,1.2544714547931386,1.0544582816792891,1.3125781522317534,1.8368781241197627,1.7996515663575916,1.6916250931594303,1.5049114581747665,1.130998940368398,1.2589176929443038,1.289259098817459,1.0989607572907552,1.128132271720934,1.2456321693007388,1.3538350754115207,1.384186725883875,1.842005388665284,1.276570797532968,1.7012323827730766,1.3370704289189166,1.4491894434714556,1.6652424383330138,1.4688080602546922,1.4187061180053282,1.6196986853498117,1.4212415608799878,1.8238035748451384,1.5333517579706148,1.2015813838418097,1.6460833172043496,1.2025163227423226,1.479055577206534,1.4021434874841745,1.110807412912966,1.328733678387956,1.0674618203347257,1.063994986298495,1.2007677795866245,1.436382170605697,1.43021212733726,0.9918694243136496,1.806833817653684,1.8875837687345796,1.6337581155586534,0.9992260678883884,1.801502917601355,1.6454399715087535,1.1045875817952178,1.2852868564636646,1.428672736395605,1.4740877303697708,1.3514035394280135,1.5601832142226966,1.4077582396925146,1.2890696848481409,1.3709751946379758,1.7499207515149289,1.4834522714984444,1.5885738935604308,1.370581523786038,1.1584334199056077,1.6064510349720234,1.7039549289698714,1.6672493314825283,1.2312651304959712,1.0908549481319711,1.3863616566875363,1.217307292157504,1.2471005731007128,1.6787582656224258,1.3556042753848616,1.199208503158194,1.7939826246592208,1.122357264436037,0.9010655440796989,1.5889533863667196,1.3167782280643452,1.0620685709665003,1.3835412243565792,0.7737063328873302,1.5015123480673158,1.198047757752655,1.3804171843898076,1.4947742657676089,1.2893143046884652,1.2853078638338886,1.522000676393538,1.055548771277062,0.93242228407144,1.1461027693723156,1.4698585133476374,1.435932016706399,1.2152807784019992,1.8668386648778796,1.35056228544863,1.5170415170159068,1.8743486340002928,1.23930366625577,1.755565762138814,1.5913858729388362,1.0599690069382308,1.0209543040054352,1.4171193247179286,1.4452616498049682,1.3155615714111977,1.6295551608951653,1.0981274586697471,1.2505469266052027,1.4470298647485451,1.087596037721297,1.0177400986468947,1.4328117168963437,1.649089503529815,0.9546048505744252,1.4977267304199424,1.509933445325102,1.4066289493069823,1.7028391465005064,1.275173650757846,1.296358695197276,1.254065014587724,1.0141843500982362,1.2734823107615654,1.159908872234014,1.5424686327498869,1.3515022767032894,1.2232066658590648,1.71687423289875,0.8431328712214046,1.071772166012372,1.286205254696326,1.1625445297730914,1.2508119253152157,1.3000252207625893,1.2088593773763978,0.8855608423988612,1.5776816672820415,1.1041337725183695,1.4125347882902444,1.2938531306918544,1.1396406223377094,1.0371440096445457,1.6473942165531577,1.2101158859446393,1.5648008073969348,1.837062027447869,1.317587673879475,1.6813177955931418,1.5131464761750222,1.386371579840554,0.9588240629450766,1.7493598131332266,1.8518544653779745,1.3518308964075276,1.5149222680987289,1.434727718205895,0.8029007230876921,1.5362712800927136,2.183284938613809,1.651156889692191,1.59392961516554,1.679055034074307,1.0591174211996557,1.1350387591743205,1.0233531118638477,1.4277546194883208,1.4594913365645794,1.726391615961549,1.3896349234964844,1.4799823179731078,1.484755405621629,1.7553665778010006,1.0743721191001947,1.6197402312975515,1.4568837933891652,1.354910613666464,1.1270799221789596,1.4302830582614985,1.2325545373437057,1.0398972552305403,0.9889226221377057,1.3434916652831763,1.860356165069175,1.9210411091159736,1.6115731715544446,1.366470683060886,1.5798587806861089,1.348485811632979,1.3435151273538244,1.3752745174220324,1.06119473531326,1.2630056049094232,1.397636008712682,1.5770975334097723,1.2303666788529646,1.262563784571255,1.2773670723010957,1.0988898903027138,1.771184539090494,1.4051893454038042,0.6561626335754908,1.6650244936284064,1.2492524503739415,2.0395913372851604,1.513734860562822,1.4978665202507793,1.5817718745024565,0.7775712837455522,1.4007611757401486,1.0559358795208906,1.405385418066593,1.3115944202260594,1.006422077523993,1.4622841671462816,1.4247134977427751,1.5535714585023763,0.985158169875328,0.8194773977642399,1.4319129411570748,1.350677068250949,1.2099489986696836,1.3771498832179812,1.3114727307141154,1.1825204754321317,1.5339511082324135,1.4306431637104475,1.338658401010862,1.2263097951180404,1.7607650897991856,1.3644727114325477,1.0572030462956945,1.4568691147871529,1.2493858302375749,1.89608881766169,0.9376874266847756,1.1758109766713456,1.2515053256134294,1.3420075192841467,1.9741201440580904,1.385195367229383,1.314532633723369,1.347858251244183,1.6940419780847942,1.0782679972074354,1.2688038828393695,1.1957833600086225,1.4043448875670437,1.7751517664855794,1.2578606171765865,1.4525006059857517,1.3375762631096637,1.2902514579504452,0.9526695112912216,1.3222255058689496,1.476854018887514,1.1277825391387466,1.5458289625729926,1.4615532067534962,1.2749973527219167,1.4068498543025174,1.7728576849652884,1.234554412437058,1.3357947886476678,1.0231869989271778,1.275460050727932,1.2171378661867862,1.0942612523197892,1.5126559075717732,1.6730619824613604,0.9316799900217482,1.323597401759034,1.377812252346442,1.482715330902124,1.645010266602798,1.7202057723506257,1.503031554788649,0.8295089738053377,1.1119696342973993,1.2602130804996048,1.1837843103792804,1.5949833300431673,1.909723718467421,1.4234145064605717,1.4706274315122458,1.1394654622725164,1.137219520317435,0.8276524096917343,1.1136666239159918,0.9426794160134868,2.009297633427614,1.6030683202625549,1.8145053572212089,1.1932981006257453,1.5217012129146692,1.0834592664313405,1.215253132277842,1.5494022704848929,1.3678456878316694,1.5439352727667557,0.853197928934752,1.1169496003880928,1.870773987157991,1.5221304898938643,1.8782224681659392,1.161847365468739,1.3685802221931749,1.5140637485528583,1.2854520091384258,1.3667221276965351,1.503415562053235,1.2936831483200777,1.516351445950154,1.5699919807570195,1.115832233183064,1.3614769539447713,1.2905825894265477,1.5441056283171033,1.5486041137815494,1.5869308734166303,1.5352099928574827,1.186286220258521,1.1812500636652292,1.264408856508672,0.6998290700759456,1.800560866319413,1.3537681624017717,1.035813397359141,1.175694740331671,1.6837162579216969,1.527170255304499,1.227792692422223,1.2667584601424131,1.466137440401887,1.1392745209368145,1.627153129630882,1.2948240521070975,1.4413014634465606,1.364101345986601,1.6500687406619772,1.4375025095395375,1.1671777596559982,1.1832675820834857,1.0428287920330028,1.3788033736069474,1.703986878647048,1.8714088518974288,1.300635232842866,1.7361945836707977,1.1819075976317963,1.4008840070843234,1.0605490580074146,1.4280819623201642,1.1240681010385325,1.3323388384990051,1.3262113352215466,1.6319970554283496,1.588395172105317,1.3976326487152997,1.4506563728989326,1.3706737326735878,1.2124955882029624,1.804937667495564,1.6425367738015146,1.4058669652056202,1.3308237497637718,1.582721238437619,1.9516075593754567,1.3623848700349173,1.4959942949977767,1.399375296306412,1.2949842241692997],\"z\":[0.4954487277313524,0.436248990885788,0.6450573892511937,0.4620315726197967,0.5003290832909033,0.5646436744638837,0.5594115422572207,0.4204965981205555,0.5148256726895295,0.5434863062129232,0.3313356512036824,0.6596001139215557,0.4552687443686904,0.6567712636287035,0.4629026163387474,0.4100386440615883,0.4445736500758217,0.4003012736294489,0.697287405379715,0.4976622686821508,0.5202409067023316,0.5100329797160168,0.5023051553533647,0.6073778114127271,0.5479229339587298,0.5111660815940104,0.429619290819255,0.4047178510794968,0.4281768554795804,0.5274868144697136,0.5775524265163235,0.6070374689356537,0.4071567272652129,0.6267115274439953,0.4465751341218467,0.4612712317593252,0.5764372231828339,0.4069491448985671,0.6333413526088286,0.30897836777157,0.476995248154953,0.5048283095775283,0.4041342116929104,0.5556513825676003,0.3990500372824815,0.4152298062610822,0.6167203882194715,0.3413122513418015,0.3941262781619125,0.5586001991144509,0.4422472168985409,0.4902886586309102,0.5566311791875002,0.4947764846216977,0.4593505776611922,0.7442760974521037,0.5690239140191488,0.4342444822862138,0.5496858602332906,0.3445926915489016,0.5262672682689284,0.5995928264709417,0.4634058733738083,0.7296361134405197,0.5865490503230979,0.498933068224988,0.5841477770495144,0.6405760024889715,0.5381954947657266,0.5509937162036085,0.4362206381844675,0.3685862514672299,0.3648376045414191,0.5436535000820164,0.61995230011595,0.4582396881531749,0.4548686300774232,0.6728891708839859,0.5429113635548636,0.5041211776481758,0.4341917291360276,0.5077309756264384,0.5058273660286272,0.6810788458138575,0.5034360364978979,0.3519477803540576,0.5988096718416588,0.5562972883717652,0.4727145919795121,0.6524688986089726,0.5027090644677682,0.5093262438950052,0.6135922972934318,0.4316104334296071,0.5725115617460903,0.3869434942849901,0.5524333437811597,0.5169956945670806,0.4624715652846854,0.6429308683877958,0.4299958655789366,0.4226612635906428,0.4887673682565899,0.5844595773263311,0.5472481326108871,0.3913456765419568,0.5068869343233229,0.5901293731310333,0.3537862609833417,0.5463463525634958,0.3986083508750654,0.5523719446116215,0.5426850754796787,0.3752995091115758,0.4411010854567321,0.5536025096710235,0.5861420930869751,0.5338550068271675,0.6079123339885927,0.4593144814626156,0.5186263041235921,0.5596007913501978,0.4661566950119908,0.6426215795246805,0.4796131445511533,0.3853835401345589,0.5348901122586719,0.5167146064634109,0.3854173141867383,0.4642354693539961,0.3621366732080792,0.325038683390663,0.4018001927001017,0.4404942234293402,0.5173195224836559,0.3431949317170429,0.535459807909558,0.4254680717184117,0.5144391855761676,0.4858100577018168,0.6069288310146528,0.6311278196066464,0.5316693195687505,0.6100087869577561,0.6286758640187596,0.5693223413652085,0.4408391865710125,0.5984724591117486,0.6690408619662398,0.3198087452236393,0.3991888641992053,0.3363894342105498,0.4008271667648372,0.3432001058944502,0.5018624413247005,0.4075968611321077,0.5358741700598271,0.503558281919774,0.4304588164071811,0.6331084126724011,0.5950587020138687,0.4692044029476443,0.819508422088764,0.5382505575344512,0.5748043507243367,0.4698738598069288,0.4405842513095772,0.6481047914103942,0.5355008059908699,0.5395625710374925,0.3866963784195307,0.4658932399460117,0.6044907767375091,0.4732536563509044,0.3782005588384948,0.4014450918421899,0.4369281212133548,0.5360772441571532,0.5530599330213969,0.4784847258089656,0.3556569466998341,0.5596590907996934,0.3521930352193502,0.4539561796575366,0.4614561283978653,0.5902379357366621,0.5526570312054834,0.436689745183893,0.2986289366101926,0.4200153353404237,0.5210220887775349,0.4932078425379291,0.5066713286205577,0.5646222239311193,0.5274518586390647,0.5717383042080934,0.5660983500521466,0.4892558486986864,0.4063450625495884,0.675894985152244,0.5172249670204913,0.6961239959151044,0.5332346485968009,0.4914843989969918,0.5875061872056818,0.593057149872623,0.596950274801944,0.5608505328183606,0.6473933622597489,0.4503702200739505,0.6432402160161067,0.5377805902111774,0.4274792627614136,0.5633991522041043,0.4491315438182403,0.5661538357153402,0.4389278437611186,0.5627344894182098,0.3723546633877619,0.5046052514006606,0.5827233414066193,0.4614290401721203,0.4373188869620555,0.5032898093179236,0.286547571996329,0.659625405621583,0.4872579877051841,0.4778663375877706,0.499993555195607,0.7003190911854208,0.4417266861379902,0.5875436087790769,0.4249066710110387,0.6734908866459096,0.5240638562167144,0.5986910647181519,0.5194591908946293,0.6253453840980103,0.3903367496369451,0.4527482526175864,0.557819684026684,0.5497086455699871,0.563155809631871,0.5346785489349468,0.5946840122536148,0.6389929112890794,0.4011409820469239,0.4904176727372233,0.4216604558645891,0.6489093002196578,0.5449608138004899,0.5388679876940348,0.3571086295050025,0.6569694038239035,0.5075096661550957,0.39483928712048,0.455004317795705,0.4730223498855284,0.4681623027335093,0.5773274861850235,0.4571246539341023,0.4450680059733207,0.6018821145301181,0.6098486297288077,0.526451875796704,0.4280250053470769,0.5815465409032173,0.5442707136229472,0.6261274326852766,0.5154298502112135,0.3870448876587648,0.4567402980865157,0.5028626592794131,0.4410602867198975,0.5141388234088294,0.506783062993811,0.6207109357440777,0.5828102796299426,0.5129955844587211,0.5287167814260479,0.5071111281166922,0.5667013100757315,0.518715399562828,0.4872895570175395,0.5313491470404462,0.4590012249838587,0.5032752987922624,0.4308207457130675,0.5897930426196798,0.6170119097081297,0.5048080504542074,0.5264698744895671,0.4157910379711121,0.3741526012870738,0.5783161304345514,0.5746816495464536,0.6178123910981684,0.4736677229129997,0.5048890791036705,0.3533957335787587,0.5157467711156432,0.5346625744419615,0.3715217465607873,0.5138085304918196,0.4576641606522774,0.5165403932213698,0.508078268778602,0.5725328184762714,0.552871291703164,0.6449504283742525,0.3528881539326121,0.5076081606551948,0.6261240321614993,0.5610754067368441,0.392880193123941,0.4543362071461791,0.5512140380306461,0.5096170104922403,0.6751877743168794,0.5089730807542846,0.5112410119872766,0.5895769972649878,0.4514956186299932,0.4380997284790173,0.5053907623057184,0.5304884780356772,0.4220772176479853,0.5855238891152547,0.5597947156054579,0.5915518024862488,0.556855993609925,0.5842855051932726,0.6871321068309502,0.5812451897960766,0.6013344649584196,0.4689621863022394,0.4719053478946576,0.5445767220770963,0.5333335519156905,0.3759861395878456,0.5479441596656883,0.3594456214098692,0.4165035756100883,0.5633050167463549,0.557835569057083,0.459170061123692,0.56536422748956,0.5242553169747851,0.4421559229061601,0.3791519723332693,0.4227419730772345,0.4360947220064243,0.4514219197035682,0.5013641053907054,0.5147713854402716,0.5033746050963157,0.5431399617750085,0.4973139146062353,0.4565780094546584,0.4351706206622223,0.5105761923951352,0.496661930224181,0.5898555340149908,0.6098273798810492,0.4584760775241001,0.4978798624744376,0.629796612803826,0.5815599029963294,0.5657029870950187,0.5471618874573174,0.4175672462525832,0.413080859199974,0.5215513228406937,0.3461571658764907,0.5348705276095626,0.4203669859653003,0.4982543652713144,0.369200041261184,0.6542423895548375,0.5456321171189243,0.5931574847847579,0.5649754997787682,0.5299325320698042,0.6163636012324442,0.4942350552747492,0.5104016614782377,0.5641592166656917,0.5817965408755409,0.457786376954254,0.5400636414641984,0.4966132267105499,0.4878563290048733,0.6368438010133315,0.4609557679985281,0.4248727912296128,0.6227439328867986,0.4821895834822722,0.6364755197411709,0.4816934647368416,0.4807099670597122,0.6352872143620021,0.4998947928699879,0.4707094069666331,0.5323186802515175,0.5880710937213369,0.5415566509886566,0.4186292463925685,0.615806178028623,0.3692723428450755,0.5064696937081858,0.4444142366767752,0.479793051615718,0.5266006882831903,0.5788321399089822,0.5149060898638776,0.4254345111120086,0.5228134906937125,0.404278927301553,0.4964391498628775,0.5875174512365781,0.4732169741063041,0.5896395418846025,0.5203776068624167,0.574561401649402,0.7299373532306258,0.608687186673145,0.5734533599908362,0.5651750996880448,0.5526925749354977,0.4856205516610251,0.3675202245486168,0.4150132252404098,0.4637078158834513,0.3897898102938959,0.4285355971663452,0.4593775190142543,0.3473839920103552,0.3604133285714063,0.6409532439526696,0.5264066924231247,0.5599625469506267,0.5242647042825037,0.6067108920235905,0.5397206018036826,0.5768900366052183,0.5216303042561345,0.5114841597217625,0.6195056408808233,0.5080025545967777,0.6397751008518677,0.4544874556333682,0.6092723741407299,0.4670075879630609,0.7063249403159467,0.5578918044511234,0.6086507608522711,0.6215017745832002,0.595752203091056,0.4209112805113019,0.4067844791051831,0.4735616592812813,0.5256651198661926,0.5923664776438496,0.6252674837971103,0.529770208396296,0.6854893909215795,0.5714213745414205,0.5973918749761613,0.6170217385960451,0.5441531846591193,0.4110612300091309,0.4281003580894407,0.345472206308891,0.4364736030658993,0.3955321936197778,0.6271684531164834,0.4708861389393716,0.5157596597695716,0.4526470299353445,0.5895107948306438,0.6693265535238913,0.6441125256994484,0.721512078758101,0.4717614437731937,0.591829717248662,0.4189316083737197,0.5129200643403368,0.3907308240198461,0.4516891830716529,0.4725745734272012,0.5384410170593608,0.5203913627448223,0.5494973027880161,0.441682605545083,0.5541897807812891,0.4331162765447957,0.4829332882381346,0.4573570756635914,0.5605807249131913,0.3973229336900793],\"type\":\"scatter3d\",\"scene\":\"scene2\"},{\"marker\":{\"color\":\"blue\",\"opacity\":0.3,\"size\":3},\"mode\":\"markers\",\"x\":[0.2496098812086089,0.0663918495888233,0.4476299670874304,1.3827128058194171,0.7775619923114538,0.4948237255558908,0.9501175166997464,0.0753742271459958,0.6361523648178334,0.1871192622067313,0.4831804534947945,1.2536126994118757,0.1048196478608068,0.5983813960544699,0.3001196098798634,0.0361009826710721,0.862782835489878,1.1876048293734889,0.6639317360648822,0.3307994890343902,0.0696953928766361,0.5266943542424983,0.2583347863684094,0.3374320374356216,0.9785855672229894,0.8661325794108217,0.0585507056549635,0.2254783347517224,0.8546843013541734,0.16411988991971,1.2832453183138932,0.2614408024782565,0.049435772705046,0.6484543912993009,1.277454784207323,0.0789735216155769,0.9445595947440336,0.1791545771274282,0.2281668644148262,0.5596883705952583,0.6923834057857181,0.8414252660996203,0.929738192496423,1.207643924511112,0.1562575470217556,0.032812349635067,0.9780671092734032,0.0971399346411081,0.5525302693295836,1.111527319408753,0.0136523802984078,0.2502151284299259,0.2059451931224828,0.5337523831696646,0.8516905315084735,2.293718711203818,0.4001892635979862,0.2789455656104944,0.4069138469127797,0.0526740336220802,0.9348524061083788,0.4778436953555582,0.3949922596753432,0.7136657664508482,0.2740307977408261,1.0241183365003663,0.2098935466641076,0.2132178825730685,0.067117333942065,0.0893104323450318,0.2592006132093931,0.1947855406467839,0.0762533660083162,2.2347320778235567,0.787385508249287,0.7206347832780942,0.0275949299188114,0.9662638723980428,0.1510208640146663,0.2125296378928291,0.2356502147824113,0.8697269824788524,0.3360791229421564,0.7237590347083077,0.2977130399656203,0.4660265756422531,1.57303563972191,0.1053106398507661,0.0911552246189931,0.2208138871472292,0.4278093405469736,1.0598131404027693,0.1146517278867012,1.1484623499135582,0.4230098729439605,0.2105682310077167,0.6385290725571878,0.8132287149688758,0.5767044857067725,0.1172379763498416,0.537761296844212,0.8694637419854251,0.1575193744464623,0.8939010859117713,0.9266646402888988,0.1406357682862766,0.2395304445824252,1.0026348659478914,0.4297456339668792,0.1402852125201139,0.3149077730539646,1.1660847650575283,0.0306928623714761,0.1163321190823206,0.4414938658189701,0.5106221432155349,1.3931666535039506,0.0426187085901977,0.6617009682582987,0.4407245353521745,0.1433988127870978,0.8225945647514616,0.232415981549256,0.652380666894167,0.1692533076175737,0.0094332152943032,0.4919969828897022,0.682207702280388,1.062977775678085,0.215879603274223,0.4108233180856964,1.0075157959705854,0.1193390450521599,0.2243763135836506,0.0823223159782221,0.6922266713641961,1.78523991968916,0.2756895991908628,0.8148925846183674,0.0939716262694061,0.8903223868669767,0.6666981164191648,0.4414928006050248,0.6714416653829969,0.1419146290327478,0.2480170113704397,0.1828741671679898,0.1813490812329065,1.2970820937728509,0.2951667638648631,0.2077351577869674,1.124718546725752,0.7720095260178508,1.0852760004800102,0.0139356825709727,0.3065127671801361,1.3298426380472463,0.5916921040966622,0.1414683524056372,0.0992190439126436,1.444284806341786,0.0608095612973346,0.3154360672220844,0.5077737556175003,0.128749358656387,0.2235104323311741,0.9059804917847544,0.2084396674995884,1.0671688881701455,0.4164700223641471,0.7141541602874897,0.1534203962125396,0.477851438517505,0.1137622962104668,0.4529506920053956,0.3862028554152811,0.7896569888587555,0.6775789628389028,0.6005661469458019,0.8515692156818728,0.206155176664551,0.6471096816138556,0.5879910414786723,0.2797077322594662,0.5983217032697679,0.2057528332457223,0.4348989250024513,0.1562417201369825,0.0372545503929154,2.4234904561692963,0.2657454762908431,0.5349882626944323,0.6825533552941019,0.5504951738234083,0.2710308033759672,0.4478199487085822,0.8857160795898882,0.4395165220842305,0.2463374775290922,0.4195613950086719,1.3139240352203223,0.2733488419203029,0.1338112587291869,0.2722647606848221,0.8199028781957868,0.5194237092629771,0.9083649143955844,0.2633677338866533,0.083969712935079,0.1911189508957092,0.1589688516799819,1.2594206453375525,0.2922635898740848,0.9056183784366298,0.2868220455384385,1.2195728266244896,0.1099703541544585,0.219527060978788,1.049929250024085,0.0705931164496568,0.1236600127424453,1.0460190941192398,0.3910844588127586,0.7460560399763326,0.4511542161469858,1.247846831982199,0.1854100691721057,0.1542577740087685,0.1858218439629771,0.2900920290805232,0.6068979203740364,0.100357035988454,0.8857400459092354,1.11270099036882,0.5269873785013836,0.133004286594309,0.1667464281151826,0.0646294933236712,0.1086871677294084,0.5903607064560791,0.9095346492777772,0.1398052708029723,1.1938424162275365,0.0350960123965921,0.3229157445965791,0.3380110345481293,0.4766168699815541,0.5428962198647982,1.3397062372142994,0.2353727982717741,0.8144260584806042,0.3260797600655919,0.4403944146893547,0.365116358055196,0.2851709794047334,0.0067885872463828,1.871531666542395,0.2899676626893603,1.872846450687108,0.0982289123522909,0.6369873875307271,1.1567331910252368,0.2371060450552572,0.1676082509361744,0.0804243395729887,0.2400336820661211,0.6390485563863544,0.3279319971313696,0.3489614586356116,0.5397039449397985,0.0530611780841734,0.7643722421451541,1.3010066539264966,0.3866852751876226,0.5525614433305687,0.1984533028406626,0.0483820772214061,0.5755906164818456,0.288132908305107,0.1215305576397932,0.9559374612650554,0.397201635750231,0.25107792497636,0.2155125545577623,0.3231054417070453,1.2648416040072,0.4777314684906928,0.7473221570420455,0.0176784732291656,0.202566880959107,0.6135369527538973,0.9277153657175355,0.0579968272390235,0.2921755723154914,0.393741303863293,1.6579371102971647,0.4077025811915967,0.1200767043185664,0.8674683824915882,0.0053504910498167,0.4281639422389743,0.2383876282518855,0.2778009352256606,0.6284196614369809,1.1793612669625675,0.002547339988768,0.9308351741934372,0.3295427778703441,1.0618638077310223,0.9437733985859876,0.2776962305656361,0.3622146689550992,0.3700168137554392,1.0557402977697483,0.239024839000514,0.0088524415536549,0.709936162844835,0.4600907274641584,0.4365380180995185,0.0882819467540698,0.7506184874771951,0.3837416146862012,0.4595687861300311,0.7186910060352,0.3396555095027269,0.8671703960267002,1.561047873895092,0.4638010687214828,0.0863752995938648,0.1166522641179234,0.7548117586935942,0.8364986030631306,0.2416568770383322,0.3165418250390944,0.2733313496393387,0.1275363754263465,0.2871778469259776,0.0285773693995978,0.8156779735038785,0.1223495422576349,1.9694661898224124,0.4950105001397735,0.6259563801435283,0.8960783527027442,0.0675123548460176,0.450379192721379,0.2641815189910348,0.6246195981436912,0.4938693068879884,0.0196318320134772,0.2683916377221725,0.5204824887579113,0.0577578965013484,1.1779099145113774,1.7579873396662653,0.0886469927674577,0.188943291347716,0.553588348448835,0.0955721475405968,0.1290463160814977,0.3351066821149678,2.2004786120773976,0.5500969844116089,0.3282714005031928,0.1849139275599295,0.2008919990896283,1.3272204282805142,0.5633060365054238,0.0395887075580652,0.375826961554284,0.2190639679997209,0.1004260151744936,0.1472026360339819,0.1455940463595908,1.7570388499340743,1.5624044122274752,0.0972895150705875,0.1707128493346909,1.0799086594719969,0.443575115078162,0.2571918512466815,0.0080645493727388,0.2338626859767621,0.3494269739756551,0.6194841826607103,0.8726435081499482,0.8819170689703562,0.6223832567867532,0.0517524412013844,0.6924266510786704,0.2277545283690229,0.6188134178205396,0.7870791765555789,0.1947663441111272,0.1133683586418809,0.0401800554759454,1.7277826094891269,0.2459471800100735,0.3729198668837755,0.1377234532688199,0.9405841398548982,0.0695254365080503,0.4620609448743868,0.4458665677684691,0.4300020497941485,0.4396669655254405,0.874056237732859,0.0061004185299885,1.383988739661829,0.0816960317600764,0.3108715521086475,0.1616685326396089,0.5225251529686076,1.3843824686202562,0.1853942080756789,0.5326749698993698,0.1785211561500471,0.0786013368211756,2.1412211495475884,0.4471971123136503,0.0372273878717226,0.0158145444093802,0.084842649832635,1.2407390759094354,0.93330708333251,0.2083438961942418,0.396140867319864,0.2034233075377898,0.1846482577580032,0.5159564964238497,0.2023502473070107,0.0918544369411353,0.0036807202723828,2.9101643374844337,0.3991108651151926,0.4508162494290858,0.5743923295049298,0.7942855051373989,0.7466108380695269,0.5167861484723854,0.5970230895554701,0.0909389855877915,0.0068374539284995,0.1903111800065872,0.2602269999302099,0.7513013773088699,0.1942712373053099,0.614027470191421,0.0415470653259601,0.6319328238652686,0.0029712365824695,1.4992888203918793,0.6854162481884705,0.2024992354067276,1.1942615209916467,0.8549528468915809,0.0043980430883608,0.286425705265404,0.083963580504131,0.1178556464199921,1.3577224700879265,0.3467637452501755,0.0676722218355371,0.4832495350666779,0.1960933650906453,1.4463311838014596,0.2508359059370863,0.2118890132962944,0.092204058893184,0.3366435373734509,0.8768995289472984,0.519355434790362,1.0142757044398192,0.0020876975563384,0.4091704624041646,0.6390788680305246,0.919025062967412,1.0194462719906472,0.1382832819928327,0.451362218518467,0.2003655218028902,0.5667594674411551,0.1060063338011705,0.958940816324289,0.1457149581147183,0.4308744252394219,0.2204405103549772,1.2550704490682898,0.3001672578606943,0.0694872529492131,0.4353796234476394,0.9705661877968796,0.5479023333597236,0.1552371500579927,0.5083807810533592,0.2138355575470661,0.687227972540875,0.6493879378727866,0.051119113684125,1.1371195041086095],\"y\":[1.429142289774621,1.8131182065247928,1.042264269617655,1.29283144088739,1.1765359767501105,1.080958749183409,1.1076251991003176,1.083710445280773,1.299634934300562,1.6529194483826408,1.44670796561457,1.539958388906898,1.4189237351831356,1.4398994241781744,1.4596221628813848,1.512041254128797,1.6150491442517936,0.8885360197607738,1.3039702932652018,1.3463594986012477,1.2006212495844402,1.3913971710365869,1.4816699693833717,1.0519092383543605,1.5490516721613476,1.3269367843594502,1.774681838392579,1.1895796295590562,1.6866079881756886,1.1924033475864808,1.6728085536403494,1.5193958299383798,1.316579622797718,1.69263152498327,1.1010237431766436,2.272609226903411,1.112433251306601,1.3666190636917974,1.206309085511709,1.1454215712826716,1.7006507519692746,1.195478579745118,1.6675448639449255,1.2782130095656823,1.088804336324832,1.106342265546946,1.4332502276190653,1.4264632808357371,0.8719120552449774,1.1709670471710485,2.2288339694647283,1.9628738904859655,1.8703148487185075,1.8793352350765824,1.782301204610813,0.9623232811978176,1.3600320662337564,1.5698685644149315,1.3387389867461283,1.608479863538644,1.3986079285003905,1.666475279477164,1.8366552764901387,1.3268028613364429,1.0798400013892515,1.498768086112607,1.3469362458452667,1.4893183903058604,1.4655799482049607,0.8240100885123566,1.4418712914704948,1.2053006714757428,1.4419071698594783,1.1610782366801713,1.2551279525870416,1.524896601316004,1.2818572275855822,1.4799055575761388,1.8762309294837105,1.5261661497007366,1.1939777612962097,1.2001902814998924,1.2948566137279145,1.4288370833811443,1.212967698956,1.1521252707150993,1.4575058603368694,1.7163758069158992,1.6485588847574686,1.295843898519116,1.5153520185480138,1.810004943360616,1.0832810622100244,1.0489636278885683,1.6309810526110269,1.5989570969401694,1.4004906193288171,1.3224356400072268,0.9156761577168858,1.103322414516402,1.3936990130363671,1.517384996362015,1.053693542989639,1.0469037057096275,1.7150678734982678,1.7691585945516368,1.5365367158216603,1.5094671048903112,1.5746976900838736,1.573863224859102,1.230001005925515,1.3074302598930718,1.2598990729774555,1.4515440091409784,1.237095334206591,1.8543832056207363,1.3159484749131922,1.7419741573531933,1.4494123368086385,1.5884986084475516,1.3874891330087231,1.673741670959214,1.7875486859739236,1.6118562318059937,1.4603129844540748,1.3275266659547509,1.1939271792306732,1.433562612577393,1.7071142641808394,1.6346415032593602,1.2780224614004525,1.076909473720007,1.3363902552148392,1.8621227620692635,1.8248412403351204,1.7166189143976376,1.5294275788495812,1.1539103843284038,1.282489538901355,1.312969315469085,1.121685859581421,1.1510274015974946,1.2691413128414175,1.37781824828056,1.4082884863462506,1.8672571123381705,1.3002239579447488,1.7262458893065395,1.3609854817788918,1.473525358026326,1.6901798442688456,1.4932095261929048,1.4429355205187553,1.6445303905475035,1.4454800418503664,1.8490296163019453,1.557952879337226,1.2248731180663424,1.6709775559701885,1.2258128261593262,1.5034903666217536,1.4263125918460184,1.1336024525769794,1.352614149912201,1.0899949086018803,1.0865063928044598,1.224055357999427,1.4606740326173953,1.4544824071058795,1.0139039443113174,1.8320345816590613,1.9128934322751208,1.6586235915997574,1.021311552361993,1.8266954726333504,1.670332728264201,1.1273460553043038,1.308979334678001,1.452937594851499,1.498506442990557,1.3753769489853669,1.5848603453268018,1.43194797912593,1.3127790582037375,1.395026078405613,1.7750271279687964,1.5079011675509943,1.6133271352194811,1.394630874091519,1.1814975050527914,1.6312499717849007,1.7289739314958512,1.692191151406176,1.2547049879305152,1.1135314865611328,1.410471684104621,1.2406783424794874,1.2706167111748647,1.703725007432722,1.379594527346491,1.2224881024694747,1.8191633795946849,1.145219316670628,0.9224242170725536,1.613707615795371,1.340608278403793,1.084567881850077,1.407640525373185,0.7939539774869211,1.5260179991829117,1.221321404955761,1.404504544284721,1.5192589647835844,1.3130247670759212,1.3090004361545535,1.5465684254995715,1.0780068912894225,0.9540244362648642,1.1690990244756998,1.4942634239567418,1.4602223120580544,1.2386417149441311,1.8921230741606776,1.3745323079464422,1.5415944563168364,1.8996423995079448,1.2627824808883203,1.780682173505311,1.6161464154357397,1.0824550960828223,1.0431871755394804,1.4413430250765114,1.4695841606902136,1.339386435417519,1.6544106492203794,1.1208475952374335,1.27407941799446,1.4713584213301176,1.110252886919391,1.039951459798743,1.4570911184281894,1.6739906392358292,0.976372703008555,1.5222206426420597,1.5344649119935905,1.4308145544671846,1.7278559009938872,1.2988204579305804,1.3201003366826052,1.277614108963513,1.0363717977284106,1.297121408066927,1.182980989837081,1.5670960314608453,1.375476083487138,1.2466069791293852,1.7419188222336626,0.864011595318309,1.0943320580600062,1.3099018441015466,1.1856309517142518,1.274345670506003,1.3237829518807207,1.2321880574208155,0.9067949848170922,1.602406226868554,1.1268895648912711,1.4367419253771154,1.3175837225864218,1.1626008254653355,1.0594837100497052,1.672291468539049,1.233450902856629,1.589490616983646,1.862306921556147,1.341421169036067,1.7062899897783963,1.5376876849248606,1.4104816449057591,0.9806228352110936,1.7744651842166743,1.8771194752166052,1.375806024781225,1.5394688357154356,1.4590138161327064,0.8234215661352771,1.5608808671484369,2.208766720235185,1.6760627416665816,1.6186967255247608,1.704022409743729,1.0815981359875588,1.15797307544662,1.0456019714840294,1.45201623759885,1.4838619617771636,1.7514545366659011,1.4137573351635282,1.5044200903000375,1.509208460829481,1.7804826376404244,1.096948097061483,1.6445720378085813,1.4812456935357614,1.3788980925640593,1.1499690456669365,1.4545535874758275,1.256000676424692,1.0622548736219517,1.010936574644499,1.3674330327733488,1.8856323017301144,1.946387642566298,1.6363848877675906,1.3905039597263813,1.6045891244719976,1.372447453578748,1.3674565904833065,1.3993420823237364,1.0836885482681566,1.2865964827153045,1.4217884024980667,1.6018205366830829,1.2538021518406832,1.2861526113158128,1.3010238473171052,1.1216145705266918,1.796327936173306,1.4293696685488662,0.6751820380295352,1.689961418990357,1.272778809666525,2.0650316521929155,1.538277846903134,1.5223608674305522,1.6065072798412856,0.7978557725493368,1.4249251692079254,1.0783964562064507,1.429566461389007,1.3354023019433647,1.028556890107049,1.4866640919999776,1.4489643453424406,1.5782302311752126,1.007145719915737,0.8401482437165152,1.4561891936759552,1.374647553166113,1.233283174633907,1.4012246866511884,1.3352800897856931,1.2057134797830629,1.5585539714405785,1.454914958842327,1.3625799873955815,1.2497253943417623,1.7858906111764568,1.3884981357971748,1.079671654968223,1.481230965701786,1.2729128219412498,1.9214083023182131,0.9593293908123208,1.1989685410330089,1.275042349063932,1.365942829364376,1.9995156353905972,1.409300965355789,1.3383531036065308,1.3718173547078931,1.7190407943276154,1.1008679642234338,1.2924215460236177,1.219045365333849,1.4285221062237836,1.800301836904697,1.281427521832197,1.4768477470683905,1.3614933990169371,1.313966088548652,0.9744231176662288,1.3460786514679537,1.5012817017404474,1.150675673927041,1.570465929235566,1.4859307021674717,1.298643357215215,1.4310362688189249,1.798003905382191,1.258010269549853,1.3597045806695265,1.045434753200214,1.2991081613927635,1.2405080721584585,1.1169582695659526,1.5371956327275107,1.698016472379409,0.9532765050187312,1.347456331701243,1.4018896069175737,1.5071618704653982,1.6699020323079403,1.7452568283133514,1.5275418934623144,0.8502688495052378,1.1347714693174746,1.2837909705649064,1.2069839500920088,1.6197531509115386,1.9350583081158952,1.447660735997816,1.4950348594030725,1.1624246833292764,1.1601661262192544,0.8483959064415496,1.1364783599942307,0.9643588479160894,2.0347193031762867,1.6278587412614565,1.839717708896553,1.2165472821559655,1.546268071695456,1.1060909860675172,1.2386139306273656,1.5740493424373565,1.3918843531987848,1.568566855234674,0.8741629567403535,1.1397804202933413,1.896063329618063,1.5466986247855925,1.9035209647459816,1.184930009258072,1.3926217611416023,1.5386077276440058,1.3091452270991837,1.3907563907126932,1.5279270834763268,1.3174129889812658,1.5409023133218622,1.594695904041368,1.138656568311831,1.3854905552660293,1.3142986913187098,1.5687376959643955,1.573248934717292,1.611679829574566,1.559816508067638,1.2094989579265802,1.2044363852779607,1.2880062391687417,0.7193302857236163,1.8257519572882093,1.3777510671232158,1.0581444123771069,1.1988516875436357,1.7086935317371876,1.551753293545341,1.2512155705057482,1.290366702366943,1.4905301190951392,1.1622326711486444,1.6520028686709742,1.318558931049918,1.4656103648175072,1.3881253079367772,1.674972112996095,1.461798265229232,1.1902891898534396,1.2064645104185958,1.0652054097491428,1.402884540187023,1.729005945454138,1.8966989839278976,1.3243956316668304,1.7612759302789989,1.205097379675069,1.4250484551948146,1.0830388040171963,1.4523447363338182,1.146939982135884,1.3562343224455262,1.3500812505873745,1.6568583577175244,1.6131479483078537,1.421785029995874,1.474997269303612,1.3947234422504615,1.2358425730468106,1.8301355264135697,1.6674228163290543,1.430049776223328,1.3547129354460612,1.6074591481987228,1.9769836935196965,1.3864020607900216,1.520482807288191,1.423534153484712,1.3187198097022848],\"z\":[0.4825100309417294,0.4242054510295626,0.6316627279434731,0.4472226324947352,0.4867933503036608,0.5489894055751938,0.5443297384571314,0.4052634188489954,0.5019336794317805,0.5292496999145235,0.3162400846964919,0.6445864450328845,0.4409327525705723,0.6402639092551057,0.4505063744605977,0.3980023631458732,0.4302441374559496,0.386772800674377,0.6833820339852763,0.4870047561330772,0.5051218442294546,0.4958113094157834,0.4887582346108302,0.5942844016928465,0.5305920417188469,0.4970714770799079,0.4162993915456698,0.3924443935797831,0.4155969329260298,0.513907863218129,0.5618153396565297,0.5913575532554253,0.3918701936528999,0.6119058429414755,0.4324243019112399,0.4471243181120607,0.5618439987456576,0.3934488513661655,0.6194178371630094,0.297303335970581,0.464338716829128,0.4920271742670489,0.3878825159457292,0.5405323429117505,0.3851626386242769,0.401494046535145,0.602322990150633,0.3251847910656675,0.3810592320003639,0.5431107767599084,0.4284315523746483,0.477454487425881,0.540273453405611,0.4788958028193566,0.4464166765087263,0.7298877792592129,0.5534347578902457,0.4199195430641196,0.5346584877791414,0.3326493760195952,0.5130175071110462,0.587836570310576,0.4469932517209162,0.7179196778913401,0.5721462224184856,0.485103957301533,0.5710501802989679,0.6254241117903556,0.5252600548534009,0.5379095184271937,0.4206634389593572,0.3570722190333074,0.3494612547555167,0.5287199768505833,0.6063074416048765,0.4416292946898746,0.440670729288252,0.6577017650913974,0.5280077563770179,0.4905513702692409,0.4208627828773115,0.495971561704968,0.4919985283900586,0.6676970209036096,0.4890911472259572,0.3391464584261428,0.5841784661677584,0.5431951925465154,0.4596125617129284,0.6380778827998739,0.4884242074010175,0.4945598384294189,0.6010360086403498,0.4197549051288767,0.5590037814764424,0.3749062467739808,0.5364116366315219,0.5024105466191298,0.4480256672885818,0.6280909334759077,0.415992873495694,0.4082710029593198,0.472545858175577,0.5695340079768336,0.5329397689966989,0.3780678442397333,0.4950368920986294,0.5749316044392945,0.3414423049871483,0.5338961085185443,0.3835364829579186,0.5394261355617261,0.5269462096165518,0.3638257547725335,0.4267429414607129,0.5393873259483919,0.5694031226174261,0.5197840392285002,0.5927250433747251,0.4456369975503215,0.5010664420664448,0.5443264005838999,0.451916239198423,0.6269526300317769,0.4667189657457144,0.373482997718822,0.5194827351172284,0.5001266401733149,0.3714729248995438,0.4519658804110678,0.3507171676298865,0.3129172010406233,0.3877531849150095,0.4260189890220245,0.5038278094431,0.3285578314963815,0.5216600327668127,0.4110351709504926,0.5008862316299826,0.4729804715453963,0.5911754058710234,0.6174013316628633,0.520027183736774,0.5975824796973815,0.6154351096158789,0.552166919770776,0.4282288871296291,0.5846774911932614,0.6522158842167446,0.3088089026679596,0.3873049527327099,0.324937374340092,0.3867153584432561,0.3317441630355962,0.4867227083775575,0.3935475087690559,0.521846237603695,0.4892755368431255,0.4174292920439528,0.6192768659488121,0.5795283835739296,0.4562648036157773,0.8079033014041015,0.522509470302482,0.5606171007209247,0.4548197543514464,0.4258848997154373,0.6348923493444071,0.5205466654237296,0.5267753493186182,0.37404024716861,0.4532348832542887,0.5913119191126847,0.4593894807536999,0.3653938116282146,0.3862518263795756,0.4235865428523745,0.5239265911838566,0.5365828792682704,0.4647927423901914,0.3411447831217529,0.5434361373105127,0.3410513562636235,0.4408409158825398,0.4462234691780758,0.5752797409569295,0.5381884565409111,0.4233871051098154,0.2855699890961624,0.406067528678974,0.5041141753912296,0.4811532172798897,0.4938732631653688,0.5480827612369623,0.5105940988450869,0.5564146377773653,0.5508282138998312,0.4741173644085766,0.3935689517368784,0.6626949508682239,0.5047481986799568,0.6836490403244491,0.518849459505192,0.4774134442316661,0.5749708841786441,0.5791156101278455,0.5822000958646261,0.5462270585195199,0.6339847179590569,0.435291810367444,0.629515957817783,0.521568065800169,0.4155579693594518,0.5500038031355536,0.4320535203745741,0.5501878900225182,0.4262572001385534,0.5514302160250396,0.3606567507884077,0.4871658940622414,0.5687898974326071,0.4477173203683053,0.4239123531040328,0.4895733320706063,0.2746716901112593,0.6462104913652411,0.4714571544142543,0.4628333819023064,0.4844282475707573,0.6862658951778858,0.4285435313281388,0.5737056514754745,0.4113897127318612,0.660649912953513,0.5109968670985923,0.5852032010142152,0.5069559608983147,0.6107210748651198,0.3764161603995688,0.4386767007438578,0.5443065779837486,0.533664766323228,0.5499087355534465,0.5220026917545708,0.5828392934523353,0.6232449721298894,0.3879368961997364,0.4769204240872768,0.4077852416693128,0.6363086716389484,0.5312310428096212,0.5264701085901218,0.3449812965717944,0.6427735506353117,0.4928972686331601,0.3797436692570208,0.441715281213978,0.4591530519130005,0.4508304515663782,0.5642596191008175,0.4438645740473275,0.4314212889868993,0.5865008872616478,0.5970544034442596,0.5108095764519841,0.4121432663956196,0.5669722277495651,0.5300126445265426,0.6108980094819743,0.5012333272750219,0.3745691766772152,0.442486518997466,0.4893355417118772,0.4261408887560206,0.5005045322806124,0.4943454134470879,0.6047135500063757,0.5675480075966413,0.4993876798710358,0.5152670793941927,0.4934967277014903,0.5525399715276292,0.5027354716655178,0.4744890598821619,0.5172658740623763,0.4456227117917301,0.4893106983677804,0.4185956703830568,0.5741341138920487,0.6026911001989341,0.4907916958847214,0.5126007499977651,0.4037920063489298,0.362972356550188,0.5658714901135246,0.5596393669910139,0.6040524194112227,0.4625693106182881,0.4895916182193749,0.3410869465795732,0.501023185890351,0.5206569514817248,0.3589114195160777,0.4996389404117271,0.4423654742072553,0.5017657088105189,0.4951037164117101,0.5563818453533277,0.5367752046965095,0.6308733449990582,0.3417811182230018,0.4936503896096266,0.611089044623458,0.5461360255868226,0.3781665865490364,0.4398548159177478,0.5362603816258189,0.4944649436696993,0.6607001544093655,0.4948745276807832,0.497288668204103,0.577695253485798,0.4369301047560118,0.4255139552688632,0.490622500075747,0.5166444154646541,0.4095210983539254,0.5704484322919147,0.5455681633713285,0.5789230896415227,0.5408791510508872,0.5691864084938048,0.6740970697370069,0.5689071054693974,0.5880585933371562,0.454206876326938,0.4595827938369753,0.5285638233130063,0.5177160565528288,0.3634873849372094,0.533339797422033,0.3463364666122711,0.4040955110631672,0.5493248505838259,0.5418972670669907,0.444032217841297,0.5490195857594994,0.5111313273048785,0.4287699005389652,0.3650363673782663,0.4096283296948411,0.421349597936837,0.435824276156756,0.4873510538480513,0.4981214597364444,0.4893850322868221,0.528497409051089,0.4845034693123641,0.4436721506191766,0.4195649596621253,0.4965173645421337,0.4830222434640487,0.5764664531630952,0.5963725839855706,0.4432024858885258,0.4855861637555451,0.615407947427486,0.5694761764557582,0.5524906173790904,0.5314633781025686,0.4043005785998651,0.3984223469050696,0.5066063241201413,0.3329164947848558,0.5197921973663627,0.406195366124747,0.4845326102178521,0.3542734517747897,0.6425657911994979,0.5329529246569965,0.5774825272360438,0.5508475223591753,0.5166824778099812,0.5994332042892525,0.476275343615804,0.4963455940478234,0.5508642289409682,0.5679455370236117,0.4451004835627933,0.5248337829167857,0.4825904758256939,0.4752978074850638,0.6234721137844764,0.4465547454572098,0.4107800529607183,0.6081094437616409,0.4677399513142995,0.6241680391100238,0.4640691584067289,0.4656478490466098,0.6200681058973494,0.4857072750785684,0.4573801372059606,0.5179866932283044,0.5742860294756923,0.5288384768396432,0.402253380343138,0.6027853110371781,0.3558848818457207,0.4893921058535673,0.431824731395074,0.4652667075029807,0.5136810813818474,0.5637376315215438,0.5005983541439104,0.4102137463456108,0.5078703906845169,0.3903399784383587,0.4825711154779469,0.5725077486066691,0.459718876566451,0.573808140612345,0.5091057050027578,0.5596312909327952,0.7160561918145687,0.5956569286897748,0.5580264489446711,0.5525349104294484,0.5400540910880469,0.4717584237843249,0.3548136474698187,0.4006179472759515,0.4496220206108158,0.3758327631558553,0.4154398216567675,0.4438878114187161,0.3332030744268204,0.3493484428770698,0.6257956150703525,0.5120054821018283,0.5443416072544185,0.5094425602140621,0.5933913464526568,0.5241761320584194,0.5620778874502333,0.507661776557207,0.4962601948376255,0.6070049615868431,0.4937770642257107,0.6257917844772304,0.4381537269533501,0.5953103047026971,0.4533284446899075,0.6937039889772579,0.5451415600256871,0.5952962449521279,0.606827165281438,0.582244698201473,0.4080775535050671,0.3912815698613282,0.4610924821646522,0.5096637711847017,0.5747352768473415,0.6120726817189395,0.5134572349187008,0.6726658845659289,0.5573090064820913,0.5843682358994465,0.6039256319876073,0.5288722915130443,0.3981984178908996,0.4135068863261067,0.3335381181838631,0.4208677914588839,0.38190682374584,0.6127519273771541,0.4567131501644518,0.5024227978609945,0.4366099006718692,0.5762575055287297,0.654397620950778,0.6310017296371698,0.7082483452856307,0.4592330836990863,0.5780880746217448,0.405777041556123,0.4976864840723574,0.377925719616926,0.4385648486161405,0.4599641301248745,0.5256471677274521,0.5071719509653725,0.5370383760581019,0.4289310731962862,0.5329434783249709,0.4194157751097083,0.4677089892483188,0.4444487945567662,0.5446729689839024,0.3845050235938809],\"type\":\"scatter3d\",\"scene\":\"scene3\"},{\"marker\":{\"color\":\"blue\",\"opacity\":0.3,\"size\":3},\"mode\":\"markers\",\"x\":[0.3978484715612901,0.2220836245663628,0.6712228008074295,0.9585862687142692,0.7519765156751494,0.5932782464455231,0.8383671656109917,0.2367851524447596,0.62050731882041,0.2926635695931906,0.4885309702189155,0.9224908180077436,0.2462406285692163,0.5939791708739766,0.3808838480485121,0.1854153610704273,0.689443617723409,1.0924910931005831,0.6753558427687906,0.4206195502978987,0.2532658437948482,0.5272532785517465,0.3654282085152647,0.5238194717294846,0.6762658655605642,0.7086997818525785,0.1680966773150393,0.4173573001898925,0.6788012317226355,0.41809826138068,0.8837766182178844,0.3732037557681311,0.1973217848292864,0.574329656802027,1.0425198805625124,0.1646840529813794,0.8645946509736477,0.3077148162777696,0.3965775405540751,0.5823312887977692,0.6067703229802845,0.7770250889914484,0.7403959793150913,1.059264507510304,0.3461035230161854,0.2163339198381352,0.8362024286630795,0.2410549067654082,0.778563589353364,0.9720723973232516,0.1468505861275238,0.3643348442552404,0.3512455270782496,0.4673284594141613,0.6028126575022179,1.6099194885770904,0.5212685243395756,0.3696768085043485,0.4658892533809498,0.1450646246096468,0.75413356167531,0.4842401566352064,0.4081368760298061,0.6651322049897763,0.4104134068010042,0.8046354446891898,0.3478505948652089,0.308372925183834,0.1551955249066678,0.2438384025451837,0.3083159370393435,0.3232067472159774,0.3140569310010154,1.397785595224278,0.7581344325932939,0.6606438681033436,0.1626256910772015,0.8084877774858554,0.2473756266814001,0.3086068331820371,0.3624237585055997,0.7473776993470443,0.4314768524910934,0.6242643736367122,0.3972446965775169,0.5132313975647758,1.10883629989432,0.227470630146394,0.2051590573255124,0.3608768758057577,0.4395968276594121,0.7694429551933691,0.2889572109917983,1.0323990035947983,0.4797633515601214,0.306860875553678,0.6015105246201292,0.7321837972030732,0.6970332055203863,0.2585882031509278,0.5122212758652919,0.7043255893241941,0.3256509732624988,0.8300075574932986,0.7533882022130299,0.2536849800737192,0.3351193863820572,0.8076818298159829,0.4982226870788515,0.2488911138831645,0.4092296653391268,0.907290543230246,0.1491087166672572,0.2447752753876183,0.542282504201125,0.4826012727997218,1.0331906812051117,0.146303539196736,0.6341866675349606,0.4729237043422769,0.2655106154811625,0.6585397262870492,0.3116809156511516,0.5861640877492224,0.2784783463495379,0.1208264432062028,0.5585244453618228,0.5997038881410225,0.7931175598778449,0.3345479703184834,0.5083804738702632,0.9291450816812646,0.3620107215160666,0.4010931437618886,0.3556792596597114,0.5536601815287808,1.128492716770034,0.4671748835989384,0.7705329475948284,0.2980939869745851,0.8247514738299904,0.6541517692303689,0.4790181850517516,0.5857724793506841,0.2540119959648764,0.2802781784838625,0.2949913111973763,0.2859514562343563,0.8458585755676277,0.3595559721078306,0.3166444469132201,0.8477303935776216,0.7369319393642373,0.8981453086856465,0.1930301986790997,0.4073644676555576,1.0363368136206463,0.7055774960117028,0.2596581073973358,0.2871754027182482,1.0493735793359331,0.1887594061663106,0.4724216356858013,0.5344817783935603,0.2695128274650223,0.3477673237260423,0.7326301957937347,0.3145396928361582,0.7974440359711372,0.5556016502268298,0.6024148301557151,0.2455720549996065,0.4787168935701798,0.2712370723200857,0.4258152943568242,0.4183153464657197,0.7593223427503802,0.6588257492201552,0.5759642581818827,0.7148818681304266,0.3333929299487722,0.5995143314771308,0.5842461052175276,0.4165001572451213,0.597145869888185,0.3141731706160863,0.4592215558668255,0.2805079211428859,0.315216076173725,1.5012014196430543,0.419488418711307,0.5319574056081959,0.6018270031958691,0.5978400141482183,0.4212064747492173,0.4749245198323184,0.732625669563695,0.488148521769922,0.3092908260986746,0.4724584301819912,0.9523212979098338,0.3374955822587323,0.2689677577716743,0.4243939806902643,0.6277127261899416,0.5371227507141942,0.8207257859383609,0.3566331044303108,0.2523320554275212,0.2617048776255341,0.284150573572831,0.8463214142792584,0.3739789300863971,0.7779597325714231,0.3998074421429454,0.9473498678336216,0.2895347517522763,0.4088399865735137,0.9087448284311508,0.1884692373905642,0.2530276964339045,0.8416461247883109,0.4099195422727896,0.6896371469963529,0.4881684303962992,0.9705847917804142,0.3870582006073754,0.2654851478316438,0.2833700725259733,0.4153297113436764,0.6062876723258815,0.2153603301673658,0.6685715637566673,0.9011215990253628,0.552429894001302,0.2868131978547409,0.2838657364508934,0.163382045311638,0.245772294191275,0.6204970688870469,0.6991249234517048,0.2514008578685391,0.9622943139781974,0.1727347106186648,0.3886615650593356,0.3967272244228954,0.4119241654615933,0.5444727188313089,0.947476364637955,0.3892250871143954,0.7760035512314064,0.4151540018150661,0.4975996711140109,0.4267863335381369,0.3762705969033432,0.2577243918237137,1.156255043845093,0.5670367000296485,1.5593870259943217,0.2653740800198436,0.7251063730759824,1.0277085636341026,0.3968507887179523,0.3067622842778139,0.2304202416596374,0.299162453076841,0.61188266569901,0.374663996692611,0.3999755528295672,0.5231229021967774,0.2417775944637152,0.5998370880138896,0.9878533968004224,0.4471205906886522,0.5116820777737252,0.3325805312955586,0.1834392672199672,0.5177016019707307,0.3662442354177139,0.3598292367088562,0.6576413491530689,0.4031474414751271,0.3529940419975602,0.3109667911343101,0.3996748258573863,1.0486759115514157,0.4744484590313532,0.5512975364892202,0.1524204319293793,0.320832485999528,0.5203918912002953,0.8223542663438984,0.2313392783251584,0.513326794839173,0.5402658492596305,1.0569936836115663,0.4551936500010673,0.2441016139171298,0.7230315920395599,0.106178179355985,0.4641523459873339,0.4420885659866344,0.3702277698141586,0.6216686894611141,0.8742944769397148,0.2495608699057363,0.7599535212448194,0.4598719682454862,0.8976904968650367,0.8695797019186366,0.3706077077178145,0.3779036258437629,0.3732600959751204,0.7955146942168709,0.3711969726063673,0.1087675816238674,0.6589176077096112,0.5051393113048716,0.4753884997249357,0.2472648339987965,0.6439000044441405,0.4282720967676709,0.4382607883827938,0.6480395189398757,0.4366105117394224,0.7258348972968095,1.212020944400188,0.5101724324109822,0.2088077249954193,0.3565527286807565,0.6186094933405611,0.7823291419813259,0.3057142602209226,0.3825258841818302,0.3366799643881688,0.2037439015898446,0.4184439273843353,0.1315046547330549,0.6644033814428401,0.2370391665094593,1.2774235673379948,0.6727687438242647,0.6344031931359089,0.8142910659689141,0.1819108542645729,0.5792794366667412,0.4699027994284088,0.5601570783269672,0.505050486658024,0.200114914556264,0.4488459473875545,0.6271192926168992,0.4703833397464724,0.7470248395283267,1.1556508074202172,0.2511625986820832,0.3744603529966306,0.5086973289480965,0.2708550926173821,0.4387767427758076,0.5106711379143494,1.3260463097318935,0.5340651911031083,0.5141541622544927,0.321223180989192,0.3347309273553198,0.9562161468807452,0.5330698153665211,0.1428906522758664,0.4580103812886978,0.3182974343293737,0.2010791566062271,0.3829910808854761,0.3805094391220603,1.1754824176183554,1.141804701646513,0.2240465112693641,0.3460873999461716,0.8953530108175658,0.5333577077431468,0.378313690831075,0.1902491824809314,0.3514763822873146,0.4013823847881818,0.5842311167739476,0.6473243081038572,0.7243294652274767,0.641014581037763,0.1574067797409824,0.5841085967521119,0.3596094806257967,0.5940279828533757,0.7696894196480909,0.3084787575885893,0.2460378461314261,0.2790038088069561,1.1033038133914606,0.3647154486600961,0.544075588121657,0.2620168237301761,0.7583732667462441,0.1797138314624164,0.45458968057204,0.4395251137640034,0.4507073679175371,0.5737471912081027,0.7474267119260156,0.1568394795879158,1.0220005187745254,0.2161022486116051,0.3607033675875905,0.3335654010221823,0.5420027449713009,1.017957329986272,0.3497895810181445,0.6792983019464939,0.4224194357887909,0.4768753781903204,1.2990917643968969,0.6077931078429537,0.1305958759833975,0.1359971629658315,0.2129382446483492,1.0251816540866028,0.8680329167939218,0.322401985042993,0.4568725014782073,0.2827732979483377,0.3303009437386566,0.5054709847103366,0.239614068206339,0.214810526092282,0.1969421040112353,1.7457378567155115,0.5474824291503021,0.5264743256747718,0.62286835326028,0.7460794929483259,0.7102651849788674,0.5849789085038898,0.5834281309016479,0.1965913456685636,0.1547809374533535,0.3069742340333304,0.371724349215674,0.5745823802368075,0.2909433021392818,0.5195507801959546,0.175942636173697,0.6016773366504004,0.2143935376075897,0.9928042906577492,0.8253323734376657,0.2837171564825281,0.862977367558277,0.8500725158681439,0.0864100248742919,0.3446197536661519,0.1809175330890063,0.2712435110821714,0.9800614363248978,0.4341011467765672,0.2700549729259402,0.4636520950573559,0.3210650347845122,0.9740106369086003,0.3784655999073843,0.2946184422371457,0.1943335462746772,0.4036517635328245,0.7058355775148131,0.5760862945417682,0.800782934943968,0.1366731553466277,0.446917209338621,0.676249356461628,0.7010689689728967,0.9326042574485426,0.2742738348236824,0.5649120667732186,0.3070268121208556,0.5649151407201214,0.2188451264722472,0.7066392196746337,0.2343975659782168,0.417118632422609,0.3169329456621612,0.8916236295520961,0.4214298897226394,0.2516436497517944,0.443878206976726,0.7456882179919255,0.5849532097645388,0.2853896989788682,0.4979699482396615,0.272919761348513,0.6206930422373287,0.5908305527745208,0.2006071125684184,0.8848687326772849],\"y\":[1.405930886352306,1.7844126034230814,1.0247158038029365,1.271598199562374,1.157004404343139,1.0628365971949798,1.0891087515642306,1.065547566722829,1.2783025582961245,1.6264934785094247,1.4232428207057477,1.5151503681556122,1.3958600602730638,1.416532600357064,1.4359706306105302,1.4876345457556466,1.5891645727066177,0.8732865868608736,1.2825747690520215,1.324347462949534,1.1807361116444324,1.368731885497282,1.4577005390808009,1.034217601002003,1.5241130623507493,1.305207027866254,1.7465216880821786,1.1698565027883747,1.6597012340915256,1.172638776723185,1.646098644291636,1.4948833405621411,1.2950005335546504,1.6656388870855352,1.0826048272954931,2.2374463345021183,1.0938458005642262,1.3443129503305884,1.1863405415247883,1.1263476832072905,1.673543813181376,1.1756688829339847,1.6409100734564326,1.2571929255152126,1.0705660895942366,1.0878447683919223,1.4099794608414062,1.40329059907205,0.8569133279058185,1.151517314038129,2.1942816984758142,1.9320514518592429,1.8407992223307696,1.8496920377532653,1.754032854713388,0.94596617525767,1.337821526121561,1.5446312352426823,1.3168376623937297,1.582689310000729,1.3758382195852554,1.639855755482611,1.8076161030963152,1.305075052408411,1.061734410088872,1.4745523923136326,1.324915833316273,1.4652387715203277,1.4418424745084313,0.8097363068618905,1.4184759882842986,1.185346912326529,1.4185113485172025,1.1417739099255113,1.2344449045529529,1.5003050214977642,1.2607839864389614,1.455961553224398,1.8466316294994232,1.5015563195341717,1.174190086235534,1.1803114646348298,1.273593858709555,1.4056300910250057,1.1929015565638694,1.1329526825273577,1.4338848627987597,1.6890448568684728,1.6221952031221685,1.2745667568037613,1.490897686212677,1.781343486942813,1.0651245381470256,1.031315703197161,1.6048685943098542,1.5733028857704991,1.377693653397449,1.3007713501413298,0.9000183557227649,1.084869531625287,1.3710003882395294,1.4929014246922565,1.0359754319865897,1.0292863566306554,1.6877555494130776,1.7410769003527675,1.5117778500524666,1.4850974304503488,1.549391109550113,1.5485686096239524,1.2096854075066166,1.285984351051526,1.2391463247874153,1.4280090508529997,1.2166759257034876,1.8250930090001485,1.2943785703004622,1.714278891554471,1.4259081490894614,1.5629942120910778,1.3648804609541945,1.6470184469230682,1.7592058397219072,1.586017352637247,1.4366514855631165,1.3057883313512408,1.17414024641044,1.4102873321349223,1.679915229703418,1.6084767118440486,1.257005157171915,1.0588472698772835,1.31452306404865,1.8327230335502904,1.7959694551393517,1.689284502439103,1.504770869778507,1.1347115219584851,1.261407075730521,1.2914427693921395,1.1029618461798183,1.1318709741512816,1.2482536109201945,1.3553497299398816,1.385378657661457,1.8377847407990693,1.2788830012623795,1.6987744178616475,1.3387611058057167,1.4496733159211923,1.6632221595986951,1.469073866776713,1.4195248481771046,1.6182242653991366,1.4220326263725134,1.8198152055445516,1.5328864990200552,1.2046325871225898,1.6442937749142192,1.205558536753193,1.479206698579134,1.4031420882781,1.1147027032583154,1.3305112855696684,1.0717390509078677,1.0683021421067451,1.203826800789349,1.4370073249671014,1.4309050393085534,0.99677715569419,1.8030608669967965,1.882776049949624,1.6321161609590085,1.0040745223488654,1.7977974100311935,1.6436581494257438,1.1085385497829792,1.2875108715976422,1.4293825222449512,1.474294515889892,1.3529438237223677,1.5594080846194631,1.4086960294732105,1.2912552814033451,1.3723082348347204,1.746862073553439,1.483554024556183,1.5874672056932342,1.3719187537739834,1.1618930478621885,1.6051336684525752,1.7014636318179075,1.6652047915497812,1.2340281199759768,1.0949278213538427,1.387530266121214,1.2202065238403523,1.2497074734835802,1.676574261510552,1.3571002604404403,1.2022824951100797,1.7903720715904765,1.1261484072186845,0.9066650539054903,1.5878422413952655,1.318679791971481,1.0663923146454928,1.3847400729984325,0.7801370852242994,1.501410298685275,1.201132883582656,1.3816494761450286,1.4947484435600626,1.2914974138832995,1.2875316658562248,1.521665471525404,1.059928438582738,0.9377915100945536,1.1496767507915084,1.4701125882282993,1.4365621212936648,1.21819968530113,1.8622991055059244,1.3521114292052678,1.5167629353237575,1.86971218020238,1.241987620602672,1.7524368117917917,1.590246142994326,1.06431079622522,1.0256250048524225,1.417955351242397,1.4457889421116883,1.3174757028348514,1.627963381375561,1.102135950000442,1.2531196449795716,1.447537620211523,1.091697631488581,1.0224373432737324,1.4334761053545897,1.6472638627613083,0.959805590274869,1.497667535023464,1.5097358136076906,1.4075789836332988,1.7003615136632686,1.277499947458094,1.2984700198926935,1.2566027621246376,1.0189108589505895,1.2758256518822484,1.1633547454319852,1.541898469155553,1.353041520905786,1.226048468319279,1.714224343507613,0.8491321703847088,1.076012059544858,1.2884199505283531,1.165965794504635,1.2533820122415325,1.3020990641512995,1.2118404507929288,0.8912706901653353,1.5767026252115803,1.1080887915795088,1.413420711513081,1.2959900221841587,1.1432741033712746,1.0416797180600808,1.6455889377519175,1.2130848162953527,1.5639720069940883,1.8329045872012135,1.3194808717424646,1.6791026984815107,1.5129122836031228,1.3875400828060356,0.9639922469597044,1.746308111056751,1.847507609920084,1.3533666785524454,1.5146678472308583,1.4353710609224757,0.8091567153846113,1.5357724705727969,2.1744946622600225,1.6493064007387843,1.5927599638959766,1.6768674262678178,1.0634665199155853,1.1387144295811893,1.0280039469332125,1.4284744632236557,1.459860947353654,1.72362445331804,1.3907683838176077,1.4801230415278703,1.4848425077508056,1.75224010919568,1.078589421578263,1.6182653175739252,1.4572823770082646,1.3564139206994572,1.1308281985970334,1.4309751924291814,1.235304877289512,1.0444097939425547,0.9938539672668092,1.3451151119032618,1.855900076064625,1.915797615968692,1.610195174644173,1.36785161245401,1.5788542688015412,1.3500568060073943,1.3451383278917048,1.3765617441938858,1.0655259937615071,1.2654541306913942,1.3986833045557066,1.5761253213281736,1.233138476124619,1.2650167311927571,1.2796712386698084,1.1028916089273066,1.7678604926509014,1.4061549789327117,0.6631876830371741,1.6630068485699858,1.2518380165754033,2.032772318842418,1.5134939673295515,1.4978057436666934,1.5807449634681692,0.7839794766330997,1.4017747216039482,1.0603122357769974,1.4063489276573908,1.3135494698173993,1.0112121030824317,1.4626227076251852,1.4254666248284238,1.5528730036127705,0.9901195716599064,0.8256297966560522,1.432587195292249,1.3522250034377588,1.212919542441353,1.3784170939450786,1.3134290339690449,1.185753668126056,1.5334789650063856,1.4313313486788104,1.340332473945279,1.2291212983093562,1.7575713020872945,1.3658748456334358,1.0615685558110488,1.4572678614035677,1.2519700731176917,1.891170705062312,0.9430170726476084,1.1791076446880595,1.25406852494943,1.34364652596637,1.9681771767927276,1.38637648632444,1.3164573867954203,1.3494358445607009,1.6916718963074902,1.082451350483007,1.271194278744978,1.198890180018145,1.405319666229728,1.7717780104468936,1.2603605480038815,1.4529478129978268,1.3392616525361405,1.2924250345632255,0.9578851302805582,1.3240706950465426,1.477029823859605,1.1315244242310667,1.5452200327106542,1.4618998830489818,1.2773254268815406,1.4077974939654772,1.7695126815038695,1.2372851117388342,1.3374987931789075,1.027839211196886,1.2777834594994626,1.2200387438396918,1.0983040199915708,1.512427300416913,1.670947076198249,0.937054775347614,1.325428365522688,1.3790723888479048,1.4828253654888697,1.6432336000094867,1.7175148741526771,1.502912287733161,0.8355971934021013,1.1158544890646942,1.26268952771463,1.1870055121898286,1.59380127556696,1.9046280820217896,1.4241818353266726,1.4708729154238958,1.1431005519308062,1.140875216670377,0.8337525905825452,1.1175362235066697,0.9479712977107724,2.0028857528362427,1.6017909297703192,1.8106351588232357,1.1964286912251043,1.5213694306825924,1.0875972008214687,1.2181723074042587,1.5487520584398229,1.369212011062067,1.5433481959706246,0.85913025773861,1.1207896272632707,1.8661836797552227,1.5217938012224932,1.873535952637555,1.1652751441562583,1.3699387383993151,1.5138191091271818,1.2876743487899855,1.3681003868788095,1.5032919411113508,1.295821772942944,1.5160807339262208,1.569102723680225,1.1196823340877802,1.3629108405800798,1.2927527965480057,1.5435165863269384,1.547963128043268,1.585843475032619,1.5347233841734955,1.1894836527143628,1.1844952986886117,1.2668433333392186,0.7066551024863232,1.7968672655326627,1.3552835226806983,1.0403602814106592,1.1789925052912198,1.6814719991788265,1.5267758976113122,1.2305896944034929,1.26916938599803,1.4664330475559029,1.1429113639010289,1.6255899905431404,1.2969510407997598,1.4418724524331956,1.365507419080586,1.6482313326359357,1.4381153392097976,1.1705556479703525,1.186493687768013,1.0473165933240345,1.3800529202047591,1.7014951901501003,1.866810352233552,1.3027028325146506,1.7333062403453705,1.1851466012127836,1.4018962253581293,1.0648858652625426,1.4287982205561216,1.1278437337414504,1.3340789028360929,1.3280151642073443,1.630376133962373,1.5872905830746664,1.3986799808157633,1.4511240086267196,1.372009981371126,1.215441492263264,1.8011887182915554,1.6407897678227397,1.4068252576026017,1.3325796008917647,1.581683205661802,1.9459624626685768,1.3638091388803704,1.495954687437524,1.4004038154065976,1.2971095786596465],\"z\":[0.4888807141354977,0.4299583375975557,0.6387266862495738,0.4543938201368504,0.4934727205036708,0.5569388608177899,0.5519737324784019,0.4124897057394567,0.5083419454859408,0.536417347251095,0.3230697953057078,0.6525355943203021,0.447851739856958,0.6489785041149827,0.4565111732743571,0.4036716844894606,0.4371232081088387,0.3931189429108833,0.6908738064830615,0.4922616185904305,0.5126485514834878,0.5028601552277305,0.495449503201167,0.6010786940127024,0.5393187932816808,0.5040614682677382,0.4226435584609739,0.3982099763705068,0.4215821316400117,0.5206962209960234,0.5698521685473684,0.5994692749885389,0.3990729125174519,0.6196377121011211,0.439224226448835,0.453972343287259,0.5693000824841468,0.3998039175528824,0.6267179395877442,0.3024920052618248,0.4705137215539259,0.4983595517634778,0.3955305380134681,0.5481820223533339,0.3916743285099328,0.4079888469729934,0.6098126946646764,0.3325273085333796,0.387166720842985,0.5509562307441347,0.4350555335405338,0.4837577607269433,0.5485466863810151,0.4867062025589528,0.4526709715476029,0.7377856898716043,0.5613669612682803,0.4267607488509835,0.5422417510753956,0.3380725358304013,0.5196387218536914,0.5939270515349954,0.4549456016864106,0.7243463678440487,0.5795396686738922,0.4919228589350879,0.5777755479630313,0.6333806932158532,0.5317623813966307,0.5445257532192493,0.4281021838306014,0.3623690172280599,0.3565481050716325,0.5362356588447373,0.6134223485620632,0.4496574819846272,0.4475216402700007,0.6657860975795843,0.5355059792140712,0.4972597775567121,0.4272262813424621,0.501799481719787,0.4988399614655991,0.674864071511266,0.4961784649632012,0.344991041844574,0.5917283391854573,0.5498368494399479,0.4659910541689059,0.6456805936503905,0.4954795638530928,0.5018746658114296,0.607574736276494,0.4254034656064974,0.5658999917109614,0.380504897730604,0.5445014896963478,0.509662224545719,0.4550225877920685,0.6358944536275051,0.4226653036798016,0.4151032026275934,0.4805007536168329,0.5771849293087953,0.540155697612355,0.3842656451839866,0.500907011651251,0.5827396562100599,0.3470804030323284,0.5401813023289755,0.3906062953090939,0.5459774008464356,0.534859853352466,0.369123829239739,0.4336237928013949,0.5465777100714198,0.5779771327198574,0.5268374114024342,0.6005886777967887,0.4522511988144619,0.5097927828052672,0.5520675871821963,0.4588261976168419,0.6351830223164434,0.4730180632933311,0.3790124071340517,0.5272037600681599,0.5083660479777655,0.377964525493936,0.4579133094996516,0.3559503841870964,0.3183607841930056,0.3943498480311659,0.4329539884030772,0.5105402918441003,0.3352212903380731,0.5285838262576753,0.4178975209212761,0.507619694534162,0.4792674834370157,0.5993242093495742,0.6245931301752861,0.5258665384347968,0.6040443043151528,0.6223697210969608,0.5608877241065061,0.434268483905719,0.5918012284900603,0.661140626146104,0.3137217650976931,0.3928687333651151,0.3301080634229732,0.3933393162125469,0.336937285612284,0.4941951730996994,0.4001652860591002,0.5288848561553496,0.4963327137415029,0.423637114740946,0.6265289180603919,0.5875221308010103,0.4625531354172113,0.8145109652023488,0.5304083466153221,0.5678630900305774,0.4621374573464064,0.4329278585520372,0.6418714005177178,0.5280445624192569,0.5332080587744162,0.3799297934865225,0.4593761713041077,0.5981409400641451,0.466140537627958,0.3713267418856097,0.3933893927477093,0.4299650711746194,0.5300317820661217,0.5449026466914343,0.4714772610982645,0.3477960744005545,0.5516529475851655,0.3461254767125352,0.4471657053865968,0.4535976963061881,0.5829667722629052,0.5455024708893379,0.4297461578557557,0.2913531084838121,0.4126795829912378,0.5125278547322906,0.4870833520720761,0.5002098525156011,0.5564765303224523,0.5190074101390562,0.5642227577514001,0.5585898335924679,0.4815447646798166,0.3995783054220824,0.6697513180627032,0.5109586263440372,0.6903845395764505,0.5260569099044489,0.4843262133555209,0.5814217787397913,0.586296481879995,0.5898042145904423,0.5536461280917427,0.6410630577547303,0.442551847210421,0.6367445120820231,0.5296996986082635,0.4212255713191645,0.5568147534445279,0.4402715582253206,0.5582992567681762,0.4323198044260807,0.5571887900549687,0.3660511096177512,0.495777837558661,0.5759334586761058,0.4543551036853074,0.4303233532654245,0.496351175334747,0.2798803509990968,0.653329493692401,0.4792010123617501,0.4701690698415413,0.4921029837505181,0.6938450672709021,0.4348615617994509,0.580816363728889,0.4178125784853347,0.667511690647556,0.5175205510725498,0.5921715214334019,0.5131862682079887,0.6183553420749093,0.3829135550887182,0.4454593913985692,0.5511589877983487,0.5417558342426935,0.5566444571931296,0.528365015035262,0.588960826692244,0.6315034442748486,0.3941322592486486,0.483548796986636,0.4143682696504496,0.6429736668040825,0.5381506939080576,0.5327067342971988,0.3505291453253326,0.650289584345244,0.5001300276956266,0.3868108792787712,0.4481274503172905,0.4659058307131984,0.459246254072598,0.5709490092765026,0.4502696148330068,0.4379733906618224,0.5944425706415544,0.6037035320063239,0.5186171760057252,0.4197067266385965,0.5744358103963549,0.5371935950193049,0.6188453695033597,0.5082878055104717,0.3803748238982984,0.4493708196392867,0.4960188776078426,0.433291213925174,0.5072771809661498,0.5005047878128726,0.6130357239549217,0.5753635003875517,0.5061436018334793,0.5219952558234816,0.5002367796086707,0.5597463977005919,0.510682125883647,0.4807664727662441,0.5243170975535726,0.4520911631085889,0.4962105045594541,0.4244190708440069,0.5821746289183208,0.6101425800282264,0.4977220355554443,0.5195297011020771,0.4094611971885065,0.3681292190559737,0.5722492598611784,0.5673159057569321,0.6112195291984546,0.4679748975001344,0.4971522734699556,0.3467074529583868,0.5083389600254818,0.5276804982906655,0.3647306586274726,0.5066747160628328,0.4497579897155123,0.5091094375649337,0.5015316472435348,0.5646092599449928,0.54490382740594,0.6382895058944512,0.3468411695958268,0.5005611648732028,0.6189366210038894,0.5537143123896523,0.385046617695383,0.4468408115361992,0.5438120602630022,0.5019707307194831,0.6684267822861015,0.501859171944491,0.5042087633795098,0.5838210181020933,0.4439468376624144,0.4315331561834081,0.4979246789291222,0.5235740468836013,0.4154757000735456,0.5781787869046952,0.5527846501646312,0.5854333692658482,0.5489625262822634,0.5769244850648382,0.6811006074062058,0.5752396991557724,0.5949273024405638,0.4613763288508828,0.4655794159858365,0.5366208396902866,0.5255359347921251,0.3692686530080115,0.5407058500524841,0.3523489850641718,0.4099619460078226,0.5564291804896266,0.5499648693317873,0.4513523981272501,0.5573182769333838,0.5176838573018543,0.4351869238455553,0.3715865350036804,0.4158513913332127,0.4283986850109737,0.4433383482572764,0.4942683383367476,0.506384111910961,0.4962974464741775,0.5358662877068838,0.4908170422029708,0.449904061659295,0.4270230430901531,0.5034877588333537,0.4897407336491381,0.5833570668713814,0.6033587560450512,0.4505857991616428,0.4916477031721632,0.6229358231001311,0.5756811165839454,0.5592168388644181,0.5393728860104067,0.410579736108583,0.4053485361705422,0.5140515098504171,0.3389453576857769,0.5273496408755679,0.4129153326163046,0.4912965793479644,0.3611670920277883,0.648767440483018,0.5393502916815603,0.5855429966831541,0.5580315351269289,0.52331541610014,0.6082169621013923,0.4851009659802396,0.5033140484910753,0.5576271515215607,0.5750444536747645,0.4512297514311977,0.5324846668957466,0.4894967278960003,0.4814585742672609,0.6304990525368355,0.4535247207039924,0.4174778804721941,0.6157403373836867,0.4748063633666213,0.630645718657924,0.472680792931768,0.4730077825887677,0.6280413684835021,0.4927053544528889,0.4638627114736534,0.5251646511093219,0.5813716396885481,0.5352428738608058,0.4100164182227932,0.6095681401172911,0.3620602059322894,0.4978335993859522,0.4378655310527124,0.4723623097058801,0.5201396092399829,0.5714547183034171,0.5077059853973954,0.4174521123527318,0.5153190040812362,0.3968940025449844,0.4894008981675151,0.5802116256402476,0.4662917117064389,0.5819354777781767,0.5147291046096253,0.5672508898009144,0.7236372241276359,0.6024229925106616,0.5658925287365425,0.558971909486847,0.5464525327407225,0.4785495392946148,0.3606649713373323,0.4074258101947476,0.4564486850456624,0.3823454447571237,0.42167315100643,0.4513788492115065,0.3396711087209608,0.3544109582998562,0.6337564343365566,0.5191979746805826,0.5522577781728368,0.5168363016333799,0.6002988856911539,0.5319824166788547,0.5696459077019181,0.5146240959046909,0.5038079689488125,0.61353260937246,0.5008209921637633,0.6331430905628584,0.4460340819083796,0.6025535592098901,0.4599688853249364,0.700545630702723,0.5516117611479021,0.6022276076824198,0.6144745069083091,0.5892138075858321,0.4141610359924654,0.3985853957303173,0.4671655707290334,0.5176463481664768,0.5837846184701195,0.6189733155585563,0.5216092675589982,0.6795536912284842,0.5645062208667432,0.5910966054537219,0.6107506288341383,0.5365628826392577,0.4042641297658352,0.42045518320419,0.3389597493921498,0.4283307612849092,0.3882827007377576,0.6202855468359089,0.4636064045440537,0.5090537703305095,0.4443403231024481,0.5830782311605869,0.6623351988319515,0.6379161963872773,0.7154750026719507,0.4653294229155752,0.5851636360692837,0.4120072208622479,0.5052440548826472,0.3838984989579839,0.444886723456235,0.4661029392045606,0.5320797375700291,0.5137595556132037,0.5433373647941637,0.4350412876167207,0.5436504876766052,0.4259538627416842,0.4751558777365177,0.4506843522207907,0.5527351254429184,0.3905051497531546],\"type\":\"scatter3d\",\"scene\":\"scene4\"}],                        {\"template\":{\"data\":{\"histogram2dcontour\":[{\"type\":\"histogram2dcontour\",\"colorbar\":{\"outlinewidth\":0,\"ticks\":\"\"},\"colorscale\":[[0.0,\"#0d0887\"],[0.1111111111111111,\"#46039f\"],[0.2222222222222222,\"#7201a8\"],[0.3333333333333333,\"#9c179e\"],[0.4444444444444444,\"#bd3786\"],[0.5555555555555556,\"#d8576b\"],[0.6666666666666666,\"#ed7953\"],[0.7777777777777778,\"#fb9f3a\"],[0.8888888888888888,\"#fdca26\"],[1.0,\"#f0f921\"]]}],\"choropleth\":[{\"type\":\"choropleth\",\"colorbar\":{\"outlinewidth\":0,\"ticks\":\"\"}}],\"histogram2d\":[{\"type\":\"histogram2d\",\"colorbar\":{\"outlinewidth\":0,\"ticks\":\"\"},\"colorscale\":[[0.0,\"#0d0887\"],[0.1111111111111111,\"#46039f\"],[0.2222222222222222,\"#7201a8\"],[0.3333333333333333,\"#9c179e\"],[0.4444444444444444,\"#bd3786\"],[0.5555555555555556,\"#d8576b\"],[0.6666666666666666,\"#ed7953\"],[0.7777777777777778,\"#fb9f3a\"],[0.8888888888888888,\"#fdca26\"],[1.0,\"#f0f921\"]]}],\"heatmap\":[{\"type\":\"heatmap\",\"colorbar\":{\"outlinewidth\":0,\"ticks\":\"\"},\"colorscale\":[[0.0,\"#0d0887\"],[0.1111111111111111,\"#46039f\"],[0.2222222222222222,\"#7201a8\"],[0.3333333333333333,\"#9c179e\"],[0.4444444444444444,\"#bd3786\"],[0.5555555555555556,\"#d8576b\"],[0.6666666666666666,\"#ed7953\"],[0.7777777777777778,\"#fb9f3a\"],[0.8888888888888888,\"#fdca26\"],[1.0,\"#f0f921\"]]}],\"heatmapgl\":[{\"type\":\"heatmapgl\",\"colorbar\":{\"outlinewidth\":0,\"ticks\":\"\"},\"colorscale\":[[0.0,\"#0d0887\"],[0.1111111111111111,\"#46039f\"],[0.2222222222222222,\"#7201a8\"],[0.3333333333333333,\"#9c179e\"],[0.4444444444444444,\"#bd3786\"],[0.5555555555555556,\"#d8576b\"],[0.6666666666666666,\"#ed7953\"],[0.7777777777777778,\"#fb9f3a\"],[0.8888888888888888,\"#fdca26\"],[1.0,\"#f0f921\"]]}],\"contourcarpet\":[{\"type\":\"contourcarpet\",\"colorbar\":{\"outlinewidth\":0,\"ticks\":\"\"}}],\"contour\":[{\"type\":\"contour\",\"colorbar\":{\"outlinewidth\":0,\"ticks\":\"\"},\"colorscale\":[[0.0,\"#0d0887\"],[0.1111111111111111,\"#46039f\"],[0.2222222222222222,\"#7201a8\"],[0.3333333333333333,\"#9c179e\"],[0.4444444444444444,\"#bd3786\"],[0.5555555555555556,\"#d8576b\"],[0.6666666666666666,\"#ed7953\"],[0.7777777777777778,\"#fb9f3a\"],[0.8888888888888888,\"#fdca26\"],[1.0,\"#f0f921\"]]}],\"surface\":[{\"type\":\"surface\",\"colorbar\":{\"outlinewidth\":0,\"ticks\":\"\"},\"colorscale\":[[0.0,\"#0d0887\"],[0.1111111111111111,\"#46039f\"],[0.2222222222222222,\"#7201a8\"],[0.3333333333333333,\"#9c179e\"],[0.4444444444444444,\"#bd3786\"],[0.5555555555555556,\"#d8576b\"],[0.6666666666666666,\"#ed7953\"],[0.7777777777777778,\"#fb9f3a\"],[0.8888888888888888,\"#fdca26\"],[1.0,\"#f0f921\"]]}],\"mesh3d\":[{\"type\":\"mesh3d\",\"colorbar\":{\"outlinewidth\":0,\"ticks\":\"\"}}],\"scatter\":[{\"fillpattern\":{\"fillmode\":\"overlay\",\"size\":10,\"solidity\":0.2},\"type\":\"scatter\"}],\"parcoords\":[{\"type\":\"parcoords\",\"line\":{\"colorbar\":{\"outlinewidth\":0,\"ticks\":\"\"}}}],\"scatterpolargl\":[{\"type\":\"scatterpolargl\",\"marker\":{\"colorbar\":{\"outlinewidth\":0,\"ticks\":\"\"}}}],\"bar\":[{\"error_x\":{\"color\":\"#2a3f5f\"},\"error_y\":{\"color\":\"#2a3f5f\"},\"marker\":{\"line\":{\"color\":\"#E5ECF6\",\"width\":0.5},\"pattern\":{\"fillmode\":\"overlay\",\"size\":10,\"solidity\":0.2}},\"type\":\"bar\"}],\"scattergeo\":[{\"type\":\"scattergeo\",\"marker\":{\"colorbar\":{\"outlinewidth\":0,\"ticks\":\"\"}}}],\"scatterpolar\":[{\"type\":\"scatterpolar\",\"marker\":{\"colorbar\":{\"outlinewidth\":0,\"ticks\":\"\"}}}],\"histogram\":[{\"marker\":{\"pattern\":{\"fillmode\":\"overlay\",\"size\":10,\"solidity\":0.2}},\"type\":\"histogram\"}],\"scattergl\":[{\"type\":\"scattergl\",\"marker\":{\"colorbar\":{\"outlinewidth\":0,\"ticks\":\"\"}}}],\"scatter3d\":[{\"type\":\"scatter3d\",\"line\":{\"colorbar\":{\"outlinewidth\":0,\"ticks\":\"\"}},\"marker\":{\"colorbar\":{\"outlinewidth\":0,\"ticks\":\"\"}}}],\"scattermapbox\":[{\"type\":\"scattermapbox\",\"marker\":{\"colorbar\":{\"outlinewidth\":0,\"ticks\":\"\"}}}],\"scatterternary\":[{\"type\":\"scatterternary\",\"marker\":{\"colorbar\":{\"outlinewidth\":0,\"ticks\":\"\"}}}],\"scattercarpet\":[{\"type\":\"scattercarpet\",\"marker\":{\"colorbar\":{\"outlinewidth\":0,\"ticks\":\"\"}}}],\"carpet\":[{\"aaxis\":{\"endlinecolor\":\"#2a3f5f\",\"gridcolor\":\"white\",\"linecolor\":\"white\",\"minorgridcolor\":\"white\",\"startlinecolor\":\"#2a3f5f\"},\"baxis\":{\"endlinecolor\":\"#2a3f5f\",\"gridcolor\":\"white\",\"linecolor\":\"white\",\"minorgridcolor\":\"white\",\"startlinecolor\":\"#2a3f5f\"},\"type\":\"carpet\"}],\"table\":[{\"cells\":{\"fill\":{\"color\":\"#EBF0F8\"},\"line\":{\"color\":\"white\"}},\"header\":{\"fill\":{\"color\":\"#C8D4E3\"},\"line\":{\"color\":\"white\"}},\"type\":\"table\"}],\"barpolar\":[{\"marker\":{\"line\":{\"color\":\"#E5ECF6\",\"width\":0.5},\"pattern\":{\"fillmode\":\"overlay\",\"size\":10,\"solidity\":0.2}},\"type\":\"barpolar\"}],\"pie\":[{\"automargin\":true,\"type\":\"pie\"}]},\"layout\":{\"autotypenumbers\":\"strict\",\"colorway\":[\"#636efa\",\"#EF553B\",\"#00cc96\",\"#ab63fa\",\"#FFA15A\",\"#19d3f3\",\"#FF6692\",\"#B6E880\",\"#FF97FF\",\"#FECB52\"],\"font\":{\"color\":\"#2a3f5f\"},\"hovermode\":\"closest\",\"hoverlabel\":{\"align\":\"left\"},\"paper_bgcolor\":\"white\",\"plot_bgcolor\":\"#E5ECF6\",\"polar\":{\"bgcolor\":\"#E5ECF6\",\"angularaxis\":{\"gridcolor\":\"white\",\"linecolor\":\"white\",\"ticks\":\"\"},\"radialaxis\":{\"gridcolor\":\"white\",\"linecolor\":\"white\",\"ticks\":\"\"}},\"ternary\":{\"bgcolor\":\"#E5ECF6\",\"aaxis\":{\"gridcolor\":\"white\",\"linecolor\":\"white\",\"ticks\":\"\"},\"baxis\":{\"gridcolor\":\"white\",\"linecolor\":\"white\",\"ticks\":\"\"},\"caxis\":{\"gridcolor\":\"white\",\"linecolor\":\"white\",\"ticks\":\"\"}},\"coloraxis\":{\"colorbar\":{\"outlinewidth\":0,\"ticks\":\"\"}},\"colorscale\":{\"sequential\":[[0.0,\"#0d0887\"],[0.1111111111111111,\"#46039f\"],[0.2222222222222222,\"#7201a8\"],[0.3333333333333333,\"#9c179e\"],[0.4444444444444444,\"#bd3786\"],[0.5555555555555556,\"#d8576b\"],[0.6666666666666666,\"#ed7953\"],[0.7777777777777778,\"#fb9f3a\"],[0.8888888888888888,\"#fdca26\"],[1.0,\"#f0f921\"]],\"sequentialminus\":[[0.0,\"#0d0887\"],[0.1111111111111111,\"#46039f\"],[0.2222222222222222,\"#7201a8\"],[0.3333333333333333,\"#9c179e\"],[0.4444444444444444,\"#bd3786\"],[0.5555555555555556,\"#d8576b\"],[0.6666666666666666,\"#ed7953\"],[0.7777777777777778,\"#fb9f3a\"],[0.8888888888888888,\"#fdca26\"],[1.0,\"#f0f921\"]],\"diverging\":[[0,\"#8e0152\"],[0.1,\"#c51b7d\"],[0.2,\"#de77ae\"],[0.3,\"#f1b6da\"],[0.4,\"#fde0ef\"],[0.5,\"#f7f7f7\"],[0.6,\"#e6f5d0\"],[0.7,\"#b8e186\"],[0.8,\"#7fbc41\"],[0.9,\"#4d9221\"],[1,\"#276419\"]]},\"xaxis\":{\"gridcolor\":\"white\",\"linecolor\":\"white\",\"ticks\":\"\",\"title\":{\"standoff\":15},\"zerolinecolor\":\"white\",\"automargin\":true,\"zerolinewidth\":2},\"yaxis\":{\"gridcolor\":\"white\",\"linecolor\":\"white\",\"ticks\":\"\",\"title\":{\"standoff\":15},\"zerolinecolor\":\"white\",\"automargin\":true,\"zerolinewidth\":2},\"scene\":{\"xaxis\":{\"backgroundcolor\":\"#E5ECF6\",\"gridcolor\":\"white\",\"linecolor\":\"white\",\"showbackground\":true,\"ticks\":\"\",\"zerolinecolor\":\"white\",\"gridwidth\":2},\"yaxis\":{\"backgroundcolor\":\"#E5ECF6\",\"gridcolor\":\"white\",\"linecolor\":\"white\",\"showbackground\":true,\"ticks\":\"\",\"zerolinecolor\":\"white\",\"gridwidth\":2},\"zaxis\":{\"backgroundcolor\":\"#E5ECF6\",\"gridcolor\":\"white\",\"linecolor\":\"white\",\"showbackground\":true,\"ticks\":\"\",\"zerolinecolor\":\"white\",\"gridwidth\":2}},\"shapedefaults\":{\"line\":{\"color\":\"#2a3f5f\"}},\"annotationdefaults\":{\"arrowcolor\":\"#2a3f5f\",\"arrowhead\":0,\"arrowwidth\":1},\"geo\":{\"bgcolor\":\"white\",\"landcolor\":\"#E5ECF6\",\"subunitcolor\":\"white\",\"showland\":true,\"showlakes\":true,\"lakecolor\":\"white\"},\"title\":{\"x\":0.05},\"mapbox\":{\"style\":\"light\"}}},\"scene\":{\"domain\":{\"x\":[0.0,0.45],\"y\":[0.625,1.0]},\"xaxis\":{\"title\":{\"text\":\"generationtime\"}},\"yaxis\":{\"title\":{\"text\":\"growth_rate\"}},\"zaxis\":{\"title\":{\"text\":\"division_ratio\"}}},\"scene2\":{\"domain\":{\"x\":[0.55,1.0],\"y\":[0.625,1.0]},\"xaxis\":{\"title\":{\"text\":\"generationtime\"}},\"yaxis\":{\"title\":{\"text\":\"growth_rate\"}},\"zaxis\":{\"title\":{\"text\":\"division_ratio\"}}},\"scene3\":{\"domain\":{\"x\":[0.0,0.45],\"y\":[0.0,0.375]},\"xaxis\":{\"title\":{\"text\":\"generationtime\"}},\"yaxis\":{\"title\":{\"text\":\"growth_rate\"}},\"zaxis\":{\"title\":{\"text\":\"division_ratio\"}}},\"scene4\":{\"domain\":{\"x\":[0.55,1.0],\"y\":[0.0,0.375]},\"xaxis\":{\"title\":{\"text\":\"generationtime\"}},\"yaxis\":{\"title\":{\"text\":\"growth_rate\"}},\"zaxis\":{\"title\":{\"text\":\"division_ratio\"}}},\"annotations\":[{\"font\":{\"size\":16},\"showarrow\":false,\"text\":\"Real data\",\"x\":0.225,\"xanchor\":\"center\",\"xref\":\"paper\",\"y\":1.0,\"yanchor\":\"bottom\",\"yref\":\"paper\"},{\"font\":{\"size\":16},\"showarrow\":false,\"text\":\"Linear model\",\"x\":0.775,\"xanchor\":\"center\",\"xref\":\"paper\",\"y\":1.0,\"yanchor\":\"bottom\",\"yref\":\"paper\"},{\"font\":{\"size\":16},\"showarrow\":false,\"text\":\"Cut-off model\",\"x\":0.225,\"xanchor\":\"center\",\"xref\":\"paper\",\"y\":0.375,\"yanchor\":\"bottom\",\"yref\":\"paper\"},{\"font\":{\"size\":16},\"showarrow\":false,\"text\":\"Protein model\",\"x\":0.775,\"xanchor\":\"center\",\"xref\":\"paper\",\"y\":0.375,\"yanchor\":\"bottom\",\"yref\":\"paper\"}],\"title\":{\"text\":\"3d scatter plots comparison\"},\"showlegend\":false,\"width\":1000,\"height\":1000},                        {\"responsive\": true}                    ).then(function(){\n                            \nvar gd = document.getElementById('3314e13c-6a87-4ef5-a23e-bcc590921105');\nvar x = new MutationObserver(function (mutations, observer) {{\n        var display = window.getComputedStyle(gd).display;\n        if (!display || display === 'none') {{\n            console.log([gd, 'removed!']);\n            Plotly.purge(gd);\n            observer.disconnect();\n        }}\n}});\n\n// Listen for the removal of the full notebook cells\nvar notebookContainer = gd.closest('#notebook-container');\nif (notebookContainer) {{\n    x.observe(notebookContainer, {childList: true});\n}}\n\n// Listen for the clearing of the current output cell\nvar outputEl = gd.closest('.output');\nif (outputEl) {{\n    x.observe(outputEl, {childList: true});\n}}\n\n                        })                };                            </script>        </div>\n</body>\n</html>"
     },
     "metadata": {},
     "output_type": "display_data"
    }
   ],
   "execution_count": 8
  },
  {
   "cell_type": "markdown",
   "source": "## Pairplots\n\n| Real data                            | Model 0: simulation results        |\n|:------------------------------------:|:----------------------------------:|\n| ![img](images/pairplot_realdata.png) | ![img](images/pairplot_model0.png) |\n\n| Model 1: simulation results          | Model 2: simulation results        |\n|:------------------------------------:|:----------------------------------:|\n| ![img](images/pairplot_model1.png)   | ![img](images/pairplot_model2.png) |\n",
   "metadata": {
    "cell_id": "2ac27b6f9f094deaa11fea41435e0f5f",
    "tags": [],
    "deepnote_cell_type": "markdown",
    "deepnote_cell_height": 1192.984375
   }
  },
  {
   "cell_type": "markdown",
   "source": "## Boxplot of the inter-division times",
   "metadata": {
    "cell_id": "ba7f85467ffc425abf58ad910fa0fe4c",
    "tags": [],
    "deepnote_cell_type": "markdown",
    "deepnote_cell_height": 70
   }
  },
  {
   "cell_type": "code",
   "source": "df_timeseries = pd.read_csv('./data/timeseries.csv')\ndisplay(df_timeseries)",
   "metadata": {
    "cell_id": "2e3316e570e14835a6b3bb7184240091",
    "tags": [],
    "deepnote_to_be_reexecuted": false,
    "source_hash": "90c8903f",
    "execution_start": 1655288646513,
    "execution_millis": 321,
    "deepnote_cell_type": "code",
    "deepnote_cell_height": 618
   },
   "outputs": [
    {
     "data": {
      "application/vnd.deepnote.dataframe.v3+json": {
       "column_count": 4,
       "row_count": 251,
       "columns": [
        {
         "name": "real_data",
         "dtype": "float64",
         "stats": {
          "unique_count": 53,
          "nan_count": 0,
          "min": "0.0833333333333286",
          "max": "1.33333333333333",
          "histogram": [
           {
            "bin_start": 0.0833333333333286,
            "bin_end": 0.20833333333332874,
            "count": 7
           },
           {
            "bin_start": 0.20833333333332874,
            "bin_end": 0.3333333333333289,
            "count": 6
           },
           {
            "bin_start": 0.3333333333333289,
            "bin_end": 0.45833333333332904,
            "count": 62
           },
           {
            "bin_start": 0.45833333333332904,
            "bin_end": 0.5833333333333292,
            "count": 97
           },
           {
            "bin_start": 0.5833333333333292,
            "bin_end": 0.7083333333333293,
            "count": 61
           },
           {
            "bin_start": 0.7083333333333293,
            "bin_end": 0.8333333333333295,
            "count": 13
           },
           {
            "bin_start": 0.8333333333333295,
            "bin_end": 0.9583333333333296,
            "count": 2
           },
           {
            "bin_start": 0.9583333333333296,
            "bin_end": 1.0833333333333297,
            "count": 1
           },
           {
            "bin_start": 1.0833333333333297,
            "bin_end": 1.20833333333333,
            "count": 1
           },
           {
            "bin_start": 1.20833333333333,
            "bin_end": 1.33333333333333,
            "count": 1
           }
          ]
         }
        },
        {
         "name": "starting_model",
         "dtype": "float64",
         "stats": {
          "unique_count": 251,
          "nan_count": 0,
          "min": "0.0024720109731919",
          "max": "2.2980899198161344",
          "histogram": [
           {
            "bin_start": 0.0024720109731919,
            "bin_end": 0.23203380185748618,
            "count": 111
           },
           {
            "bin_start": 0.23203380185748618,
            "bin_end": 0.4615955927417804,
            "count": 67
           },
           {
            "bin_start": 0.4615955927417804,
            "bin_end": 0.6911573836260747,
            "count": 31
           },
           {
            "bin_start": 0.6911573836260747,
            "bin_end": 0.920719174510369,
            "count": 25
           },
           {
            "bin_start": 0.920719174510369,
            "bin_end": 1.1502809653946633,
            "count": 10
           },
           {
            "bin_start": 1.1502809653946633,
            "bin_end": 1.3798427562789575,
            "count": 4
           },
           {
            "bin_start": 1.3798427562789575,
            "bin_end": 1.6094045471632519,
            "count": 2
           },
           {
            "bin_start": 1.6094045471632519,
            "bin_end": 1.838966338047546,
            "count": 0
           },
           {
            "bin_start": 1.838966338047546,
            "bin_end": 2.06852812893184,
            "count": 0
           },
           {
            "bin_start": 2.06852812893184,
            "bin_end": 2.2980899198161344,
            "count": 1
           }
          ]
         }
        },
        {
         "name": "model_1",
         "dtype": "float64",
         "stats": {
          "unique_count": 251,
          "nan_count": 0,
          "min": "0.0094332152943032",
          "max": "2.4234904561692963",
          "histogram": [
           {
            "bin_start": 0.0094332152943032,
            "bin_end": 0.2508389393818025,
            "count": 91
           },
           {
            "bin_start": 0.2508389393818025,
            "bin_end": 0.4922446634693018,
            "count": 52
           },
           {
            "bin_start": 0.4922446634693018,
            "bin_end": 0.7336503875568011,
            "count": 39
           },
           {
            "bin_start": 0.7336503875568011,
            "bin_end": 0.9750561116443004,
            "count": 32
           },
           {
            "bin_start": 0.9750561116443004,
            "bin_end": 1.2164618357317998,
            "count": 19
           },
           {
            "bin_start": 1.2164618357317998,
            "bin_end": 1.4578675598192992,
            "count": 13
           },
           {
            "bin_start": 1.4578675598192992,
            "bin_end": 1.6992732839067983,
            "count": 1
           },
           {
            "bin_start": 1.6992732839067983,
            "bin_end": 1.9406790079942977,
            "count": 1
           },
           {
            "bin_start": 1.9406790079942977,
            "bin_end": 2.182084732081797,
            "count": 0
           },
           {
            "bin_start": 2.182084732081797,
            "bin_end": 2.4234904561692963,
            "count": 3
           }
          ]
         }
        },
        {
         "name": "model_2",
         "dtype": "float64",
         "stats": {
          "unique_count": 251,
          "nan_count": 0,
          "min": "0.1208264432062028",
          "max": "1.6099194885770904",
          "histogram": [
           {
            "bin_start": 0.1208264432062028,
            "bin_end": 0.26973574774329157,
            "count": 43
           },
           {
            "bin_start": 0.26973574774329157,
            "bin_end": 0.41864505228038035,
            "count": 70
           },
           {
            "bin_start": 0.41864505228038035,
            "bin_end": 0.5675543568174691,
            "count": 39
           },
           {
            "bin_start": 0.5675543568174691,
            "bin_end": 0.716463661354558,
            "count": 41
           },
           {
            "bin_start": 0.716463661354558,
            "bin_end": 0.8653729658916468,
            "count": 32
           },
           {
            "bin_start": 0.8653729658916468,
            "bin_end": 1.0142822704287355,
            "count": 14
           },
           {
            "bin_start": 1.0142822704287355,
            "bin_end": 1.1631915749658241,
            "count": 9
           },
           {
            "bin_start": 1.1631915749658241,
            "bin_end": 1.312100879502913,
            "count": 0
           },
           {
            "bin_start": 1.312100879502913,
            "bin_end": 1.4610101840400018,
            "count": 1
           },
           {
            "bin_start": 1.4610101840400018,
            "bin_end": 1.6099194885770904,
            "count": 2
           }
          ]
         }
        },
        {
         "name": "_deepnote_index_column",
         "dtype": "int64"
        }
       ],
       "rows": [
        {
         "real_data": 0.5,
         "starting_model": 0.1159435141734344,
         "model_1": 0.2496098812086089,
         "model_2": 0.3978484715612901,
         "_deepnote_index_column": 0
        },
        {
         "real_data": 0.416666666666667,
         "starting_model": 0.0207512987591771,
         "model_1": 0.0663918495888233,
         "model_2": 0.2220836245663628,
         "_deepnote_index_column": 1
        },
        {
         "real_data": 0.833333333333333,
         "starting_model": 0.3990321382640212,
         "model_1": 0.4476299670874304,
         "model_2": 0.6712228008074295,
         "_deepnote_index_column": 2
        },
        {
         "real_data": 0.333333333333333,
         "starting_model": 0.7556095649769841,
         "model_1": 1.3827128058194171,
         "model_2": 0.9585862687142692,
         "_deepnote_index_column": 3
        },
        {
         "real_data": 0.416666666666667,
         "starting_model": 0.5855096483322028,
         "model_1": 0.7775619923114538,
         "model_2": 0.7519765156751494,
         "_deepnote_index_column": 4
        },
        {
         "real_data": 0.583333333333334,
         "starting_model": 0.4319083232372203,
         "model_1": 0.4948237255558908,
         "model_2": 0.5932782464455231,
         "_deepnote_index_column": 5
        },
        {
         "real_data": 0.5,
         "starting_model": 0.7497850907034634,
         "model_1": 0.9501175166997464,
         "model_2": 0.8383671656109917,
         "_deepnote_index_column": 6
        },
        {
         "real_data": 0.583333333333334,
         "starting_model": 0.0629751744026567,
         "model_1": 0.0753742271459958,
         "model_2": 0.2367851524447596,
         "_deepnote_index_column": 7
        },
        {
         "real_data": 0.666666666666667,
         "starting_model": 0.3805156808895875,
         "model_1": 0.6361523648178334,
         "model_2": 0.62050731882041,
         "_deepnote_index_column": 8
        },
        {
         "real_data": 0.5,
         "starting_model": 0.0760714730571069,
         "model_1": 0.1871192622067313,
         "model_2": 0.2926635695931906,
         "_deepnote_index_column": 9
        }
       ]
      },
      "text/plain": "     real_data  starting_model   model_1   model_2\n0     0.500000        0.115944  0.249610  0.397848\n1     0.416667        0.020751  0.066392  0.222084\n2     0.833333        0.399032  0.447630  0.671223\n3     0.333333        0.755610  1.382713  0.958586\n4     0.416667        0.585510  0.777562  0.751977\n..         ...             ...       ...       ...\n246   0.416667        0.182675  0.476617  0.411924\n247   0.500000        0.376742  0.542896  0.544473\n248   0.750000        0.858843  1.339706  0.947476\n249   0.333333        0.177940  0.235373  0.389225\n250   0.500000        0.808878  0.814426  0.776004\n\n[251 rows x 4 columns]",
      "text/html": "<div>\n<style scoped>\n    .dataframe tbody tr th:only-of-type {\n        vertical-align: middle;\n    }\n\n    .dataframe tbody tr th {\n        vertical-align: top;\n    }\n\n    .dataframe thead th {\n        text-align: right;\n    }\n</style>\n<table border=\"1\" class=\"dataframe\">\n  <thead>\n    <tr style=\"text-align: right;\">\n      <th></th>\n      <th>real_data</th>\n      <th>starting_model</th>\n      <th>model_1</th>\n      <th>model_2</th>\n    </tr>\n  </thead>\n  <tbody>\n    <tr>\n      <th>0</th>\n      <td>0.500000</td>\n      <td>0.115944</td>\n      <td>0.249610</td>\n      <td>0.397848</td>\n    </tr>\n    <tr>\n      <th>1</th>\n      <td>0.416667</td>\n      <td>0.020751</td>\n      <td>0.066392</td>\n      <td>0.222084</td>\n    </tr>\n    <tr>\n      <th>2</th>\n      <td>0.833333</td>\n      <td>0.399032</td>\n      <td>0.447630</td>\n      <td>0.671223</td>\n    </tr>\n    <tr>\n      <th>3</th>\n      <td>0.333333</td>\n      <td>0.755610</td>\n      <td>1.382713</td>\n      <td>0.958586</td>\n    </tr>\n    <tr>\n      <th>4</th>\n      <td>0.416667</td>\n      <td>0.585510</td>\n      <td>0.777562</td>\n      <td>0.751977</td>\n    </tr>\n    <tr>\n      <th>...</th>\n      <td>...</td>\n      <td>...</td>\n      <td>...</td>\n      <td>...</td>\n    </tr>\n    <tr>\n      <th>246</th>\n      <td>0.416667</td>\n      <td>0.182675</td>\n      <td>0.476617</td>\n      <td>0.411924</td>\n    </tr>\n    <tr>\n      <th>247</th>\n      <td>0.500000</td>\n      <td>0.376742</td>\n      <td>0.542896</td>\n      <td>0.544473</td>\n    </tr>\n    <tr>\n      <th>248</th>\n      <td>0.750000</td>\n      <td>0.858843</td>\n      <td>1.339706</td>\n      <td>0.947476</td>\n    </tr>\n    <tr>\n      <th>249</th>\n      <td>0.333333</td>\n      <td>0.177940</td>\n      <td>0.235373</td>\n      <td>0.389225</td>\n    </tr>\n    <tr>\n      <th>250</th>\n      <td>0.500000</td>\n      <td>0.808878</td>\n      <td>0.814426</td>\n      <td>0.776004</td>\n    </tr>\n  </tbody>\n</table>\n<p>251 rows × 4 columns</p>\n</div>"
     },
     "metadata": {},
     "output_type": "display_data"
    }
   ],
   "execution_count": 9
  },
  {
   "cell_type": "code",
   "source": "res = plot_funcs.boxplot(\n    y=[df_timeseries.iloc[:,0], df_timeseries.iloc[:,1], df_timeseries.iloc[:,2], df_timeseries.iloc[:,3]], \n    colors=['blue', 'C1','green', 'khaki'],  \n    title = 'Inter-division time comparison', \n    ylabel= 'Times', \n    xlabel='', x_font= 30, \n    labels=False \n)\n\nfig, ax, bp = res[0], res[1], res[2]\nax.set_xticklabels(['Real times', 'Starting model', 'Model 1', 'Model 2'], fontdict={'fontsize':15})\n\nfor line in bp['medians']:\n    # get position data for median line\n    x, y = line.get_xydata()[1] #  median line\n    # overlay median value\n    ax.text(x-0.2, y+0.03, '%.2f' % y,\n         horizontalalignment='center', fontsize=12, color='w') # draw above, centered\n\nfor line in bp['caps']:\n    x, y = line.get_xydata()[0] # bottom of left line\n    ax.text(x,y, '%.2f' % y,\n         horizontalalignment='center', # centered\n         verticalalignment='top', fontsize=12)  \n\nfor line in bp['whiskers']:\n    x, y = line.get_xydata()[0] # bottom of left line\n    ax.text(x-0.3,y, '%.2f' % y,\n         horizontalalignment='center', # centered\n         verticalalignment='center', fontsize=12) \n\n\nax.xaxis.set_tick_params(labelsize=12, size=8)\nax.xaxis.set_tick_params(which='minor', size=4)",
   "metadata": {
    "cell_id": "a46060a2f131462ab728221ee1cb0d29",
    "tags": [],
    "deepnote_to_be_reexecuted": false,
    "source_hash": "4f36818e",
    "execution_start": 1655288646554,
    "execution_millis": 679,
    "deepnote_cell_type": "code",
    "deepnote_cell_height": 1296,
    "deepnote_output_heights": [
     605
    ]
   },
   "outputs": [
    {
     "data": {
      "text/plain": "<Figure size 1080x720 with 1 Axes>",
      "image/png": "[encoded data removed]"
     },
     "metadata": {
      "needs_background": "light",
      "image/png": {
       "width": 906,
       "height": 603
      }
     },
     "output_type": "display_data"
    }
   ],
   "execution_count": 10
  },
  {
   "cell_type": "markdown",
   "source": "## Overlap between division time histograms\n\n| Model 0                           |  Model 1                          |\n|:---------------------------------:|:---------------------------------:|\n| ![img](images/overlap_model0.png) | ![img](images/overlap_model1.png) |\n\n| Model 2                           |\n|:---------------------------------:|\n| ![img](images/overlap_model2.png) |\n",
   "metadata": {
    "cell_id": "de7d479f29a445849ef5cffaa11b7645",
    "tags": [],
    "deepnote_cell_type": "markdown",
    "deepnote_cell_height": 1184.203125
   }
  },
  {
   "cell_type": "markdown",
   "source": "These plots show the comparison between the inspected models and the real data.\n\nFrom the values of the overlap, as we expected, the Model 2 (the Protein Model) is the one which mostly reflect the behaviour of real data, being the most descriptive from the biological point of view.   ",
   "metadata": {
    "cell_id": "738a6236655b4484a13b5e3c23981b6e",
    "tags": [],
    "deepnote_cell_type": "markdown",
    "deepnote_cell_height": 111.1875
   },
   "outputs": [],
   "execution_count": null
  },
  {
   "cell_type": "markdown",
   "source": "## Predictive density",
   "metadata": {
    "cell_id": "4b6596f8c5fc4ee9bf699a9ea9981b59",
    "tags": [],
    "deepnote_cell_type": "markdown",
    "deepnote_cell_height": 70
   }
  },
  {
   "cell_type": "code",
   "source": "df_pd = pd.read_csv('./data/pred_density.csv')\ndisplay(df_pd)\n",
   "metadata": {
    "cell_id": "da39935f32054980ad09469bfbdd2fab",
    "tags": [],
    "deepnote_to_be_reexecuted": false,
    "source_hash": "310b6e88",
    "execution_start": 1655288647235,
    "execution_millis": 23,
    "deepnote_cell_type": "code",
    "deepnote_cell_height": 636
   },
   "outputs": [
    {
     "data": {
      "application/vnd.deepnote.dataframe.v3+json": {
       "column_count": 3,
       "row_count": 10,
       "columns": [
        {
         "name": "starting_model",
         "dtype": "float64",
         "stats": {
          "unique_count": 10,
          "nan_count": 0,
          "min": "-388.3309900733203",
          "max": "167.83252811319133",
          "histogram": [
           {
            "bin_start": -388.3309900733203,
            "bin_end": -332.7146382546692,
            "count": 1
           },
           {
            "bin_start": -332.7146382546692,
            "bin_end": -277.098286436018,
            "count": 0
           },
           {
            "bin_start": -277.098286436018,
            "bin_end": -221.48193461736685,
            "count": 1
           },
           {
            "bin_start": -221.48193461736685,
            "bin_end": -165.86558279871568,
            "count": 0
           },
           {
            "bin_start": -165.86558279871568,
            "bin_end": -110.24923098006451,
            "count": 1
           },
           {
            "bin_start": -110.24923098006451,
            "bin_end": -54.63287916141337,
            "count": 0
           },
           {
            "bin_start": -54.63287916141337,
            "bin_end": 0.9834726572378258,
            "count": 1
           },
           {
            "bin_start": 0.9834726572378258,
            "bin_end": 56.599824475888965,
            "count": 1
           },
           {
            "bin_start": 56.599824475888965,
            "bin_end": 112.2161762945401,
            "count": 4
           },
           {
            "bin_start": 112.2161762945401,
            "bin_end": 167.83252811319133,
            "count": 1
           }
          ]
         }
        },
        {
         "name": "model_1",
         "dtype": "float64",
         "stats": {
          "unique_count": 10,
          "nan_count": 0,
          "min": "-404.9753355030378",
          "max": "163.27093433547262",
          "histogram": [
           {
            "bin_start": -404.9753355030378,
            "bin_end": -348.15070851918676,
            "count": 1
           },
           {
            "bin_start": -348.15070851918676,
            "bin_end": -291.3260815353357,
            "count": 0
           },
           {
            "bin_start": -291.3260815353357,
            "bin_end": -234.50145455148464,
            "count": 0
           },
           {
            "bin_start": -234.50145455148464,
            "bin_end": -177.6768275676336,
            "count": 0
           },
           {
            "bin_start": -177.6768275676336,
            "bin_end": -120.85220058378258,
            "count": 0
           },
           {
            "bin_start": -120.85220058378258,
            "bin_end": -64.02757359993149,
            "count": 0
           },
           {
            "bin_start": -64.02757359993149,
            "bin_end": -7.202946616080453,
            "count": 1
           },
           {
            "bin_start": -7.202946616080453,
            "bin_end": 49.62168036777058,
            "count": 1
           },
           {
            "bin_start": 49.62168036777058,
            "bin_end": 106.44630735162161,
            "count": 5
           },
           {
            "bin_start": 106.44630735162161,
            "bin_end": 163.27093433547262,
            "count": 2
           }
          ]
         }
        },
        {
         "name": "model_2",
         "dtype": "float64",
         "stats": {
          "unique_count": 10,
          "nan_count": 0,
          "min": "-inf",
          "max": "174.01828936183148",
          "histogram": [
           {
            "bin_start": -342.643446600864,
            "bin_end": -290.97727300459445,
            "count": 1
           },
           {
            "bin_start": -290.97727300459445,
            "bin_end": -239.31109940832494,
            "count": 0
           },
           {
            "bin_start": -239.31109940832494,
            "bin_end": -187.64492581205536,
            "count": 0
           },
           {
            "bin_start": -187.64492581205536,
            "bin_end": -135.97875221578582,
            "count": 0
           },
           {
            "bin_start": -135.97875221578582,
            "bin_end": -84.31257861951627,
            "count": 0
           },
           {
            "bin_start": -84.31257861951627,
            "bin_end": -32.6464050232467,
            "count": 0
           },
           {
            "bin_start": -32.6464050232467,
            "bin_end": 19.019768573022816,
            "count": 1
           },
           {
            "bin_start": 19.019768573022816,
            "bin_end": 70.68594216929239,
            "count": 2
           },
           {
            "bin_start": 70.68594216929239,
            "bin_end": 122.35211576556196,
            "count": 3
           },
           {
            "bin_start": 122.35211576556196,
            "bin_end": 174.01828936183148,
            "count": 2
           }
          ]
         }
        },
        {
         "name": "_deepnote_index_column",
         "dtype": "int64"
        }
       ],
       "rows": [
        {
         "starting_model": 167.83252811319133,
         "model_1": 163.27093433547262,
         "model_2": 171.42237989819242,
         "_deepnote_index_column": 0
        },
        {
         "starting_model": 89.43041496822526,
         "model_1": 88.2562453204145,
         "model_2": 99.5303473678082,
         "_deepnote_index_column": 1
        },
        {
         "starting_model": -130.5316453598978,
         "model_1": 45.42189725095408,
         "model_2": 52.816637274018426,
         "_deepnote_index_column": 2
        },
        {
         "starting_model": 44.073031768964825,
         "model_1": 61.02772116719335,
         "model_2": 78.44212628764171,
         "_deepnote_index_column": 3
        },
        {
         "starting_model": 87.13057967005193,
         "model_1": 56.16514016743038,
         "model_2": 80.80311533542883,
         "_deepnote_index_column": 4
        },
        {
         "starting_model": 109.02016307191975,
         "model_1": 159.35459510715836,
         "model_2": 174.01828936183148,
         "_deepnote_index_column": 5
        },
        {
         "starting_model": -237.81374481854985,
         "model_1": 81.33579996732333,
         "model_2": "-inf",
         "_deepnote_index_column": 6
        },
        {
         "starting_model": -35.04086121949108,
         "model_1": -26.78413672645567,
         "model_2": -0.1407475273665284,
         "_deepnote_index_column": 7
        },
        {
         "starting_model": -388.3309900733203,
         "model_1": -404.9753355030378,
         "model_2": -342.643446600864,
         "_deepnote_index_column": 8
        },
        {
         "starting_model": 72.48382583027663,
         "model_1": 55.39612887280794,
         "model_2": 66.59939393328342,
         "_deepnote_index_column": 9
        }
       ]
      },
      "text/plain": "   starting_model     model_1     model_2\n0      167.832528  163.270934  171.422380\n1       89.430415   88.256245   99.530347\n2     -130.531645   45.421897   52.816637\n3       44.073032   61.027721   78.442126\n4       87.130580   56.165140   80.803115\n5      109.020163  159.354595  174.018289\n6     -237.813745   81.335800        -inf\n7      -35.040861  -26.784137   -0.140748\n8     -388.330990 -404.975336 -342.643447\n9       72.483826   55.396129   66.599394",
      "text/html": "<div>\n<style scoped>\n    .dataframe tbody tr th:only-of-type {\n        vertical-align: middle;\n    }\n\n    .dataframe tbody tr th {\n        vertical-align: top;\n    }\n\n    .dataframe thead th {\n        text-align: right;\n    }\n</style>\n<table border=\"1\" class=\"dataframe\">\n  <thead>\n    <tr style=\"text-align: right;\">\n      <th></th>\n      <th>starting_model</th>\n      <th>model_1</th>\n      <th>model_2</th>\n    </tr>\n  </thead>\n  <tbody>\n    <tr>\n      <th>0</th>\n      <td>167.832528</td>\n      <td>163.270934</td>\n      <td>171.422380</td>\n    </tr>\n    <tr>\n      <th>1</th>\n      <td>89.430415</td>\n      <td>88.256245</td>\n      <td>99.530347</td>\n    </tr>\n    <tr>\n      <th>2</th>\n      <td>-130.531645</td>\n      <td>45.421897</td>\n      <td>52.816637</td>\n    </tr>\n    <tr>\n      <th>3</th>\n      <td>44.073032</td>\n      <td>61.027721</td>\n      <td>78.442126</td>\n    </tr>\n    <tr>\n      <th>4</th>\n      <td>87.130580</td>\n      <td>56.165140</td>\n      <td>80.803115</td>\n    </tr>\n    <tr>\n      <th>5</th>\n      <td>109.020163</td>\n      <td>159.354595</td>\n      <td>174.018289</td>\n    </tr>\n    <tr>\n      <th>6</th>\n      <td>-237.813745</td>\n      <td>81.335800</td>\n      <td>-inf</td>\n    </tr>\n    <tr>\n      <th>7</th>\n      <td>-35.040861</td>\n      <td>-26.784137</td>\n      <td>-0.140748</td>\n    </tr>\n    <tr>\n      <th>8</th>\n      <td>-388.330990</td>\n      <td>-404.975336</td>\n      <td>-342.643447</td>\n    </tr>\n    <tr>\n      <th>9</th>\n      <td>72.483826</td>\n      <td>55.396129</td>\n      <td>66.599394</td>\n    </tr>\n  </tbody>\n</table>\n</div>"
     },
     "metadata": {},
     "output_type": "display_data"
    }
   ],
   "execution_count": 11
  },
  {
   "cell_type": "code",
   "source": "print('Average Predictive Density over', df_pd.shape[0], 'cycles:')\n\ndf_pd[~np.isinf(df_pd)].mean().to_frame().transpose().rename({0: 'Pred. Dens.'}).round(3)",
   "metadata": {
    "cell_id": "1323fd615fbb45b2817fdae854b85158",
    "tags": [],
    "deepnote_to_be_reexecuted": false,
    "source_hash": "eb570f77",
    "execution_start": 1655288647261,
    "execution_millis": 24,
    "deepnote_cell_type": "code",
    "deepnote_cell_height": 312.90625
   },
   "outputs": [
    {
     "name": "stdout",
     "text": "Average Predictive Density over 10 cycles:\n",
     "output_type": "stream"
    },
    {
     "output_type": "execute_result",
     "execution_count": 12,
     "data": {
      "application/vnd.deepnote.dataframe.v3+json": {
       "column_count": 3,
       "row_count": 1,
       "columns": [
        {
         "name": "starting_model",
         "dtype": "float64",
         "stats": {
          "unique_count": 1,
          "nan_count": 0,
          "min": "-22.175",
          "max": "-22.175",
          "histogram": [
           {
            "bin_start": -22.675,
            "bin_end": -22.575,
            "count": 0
           },
           {
            "bin_start": -22.575,
            "bin_end": -22.475,
            "count": 0
           },
           {
            "bin_start": -22.475,
            "bin_end": -22.375,
            "count": 0
           },
           {
            "bin_start": -22.375,
            "bin_end": -22.275000000000002,
            "count": 0
           },
           {
            "bin_start": -22.275000000000002,
            "bin_end": -22.175,
            "count": 0
           },
           {
            "bin_start": -22.175,
            "bin_end": -22.075,
            "count": 1
           },
           {
            "bin_start": -22.075,
            "bin_end": -21.975,
            "count": 0
           },
           {
            "bin_start": -21.975,
            "bin_end": -21.875,
            "count": 0
           },
           {
            "bin_start": -21.875,
            "bin_end": -21.775000000000002,
            "count": 0
           },
           {
            "bin_start": -21.775000000000002,
            "bin_end": -21.675,
            "count": 0
           }
          ]
         }
        },
        {
         "name": "model_1",
         "dtype": "float64",
         "stats": {
          "unique_count": 1,
          "nan_count": 0,
          "min": "27.847",
          "max": "27.847",
          "histogram": [
           {
            "bin_start": 27.347,
            "bin_end": 27.447000000000003,
            "count": 0
           },
           {
            "bin_start": 27.447000000000003,
            "bin_end": 27.547,
            "count": 0
           },
           {
            "bin_start": 27.547,
            "bin_end": 27.647000000000002,
            "count": 0
           },
           {
            "bin_start": 27.647000000000002,
            "bin_end": 27.747,
            "count": 0
           },
           {
            "bin_start": 27.747,
            "bin_end": 27.847,
            "count": 0
           },
           {
            "bin_start": 27.847,
            "bin_end": 27.947000000000003,
            "count": 1
           },
           {
            "bin_start": 27.947000000000003,
            "bin_end": 28.047,
            "count": 0
           },
           {
            "bin_start": 28.047,
            "bin_end": 28.147000000000002,
            "count": 0
           },
           {
            "bin_start": 28.147000000000002,
            "bin_end": 28.247,
            "count": 0
           },
           {
            "bin_start": 28.247,
            "bin_end": 28.347,
            "count": 0
           }
          ]
         }
        },
        {
         "name": "model_2",
         "dtype": "float64",
         "stats": {
          "unique_count": 1,
          "nan_count": 0,
          "min": "42.316",
          "max": "42.316",
          "histogram": [
           {
            "bin_start": 41.816,
            "bin_end": 41.916000000000004,
            "count": 0
           },
           {
            "bin_start": 41.916000000000004,
            "bin_end": 42.016000000000005,
            "count": 0
           },
           {
            "bin_start": 42.016000000000005,
            "bin_end": 42.116,
            "count": 0
           },
           {
            "bin_start": 42.116,
            "bin_end": 42.216,
            "count": 0
           },
           {
            "bin_start": 42.216,
            "bin_end": 42.316,
            "count": 0
           },
           {
            "bin_start": 42.316,
            "bin_end": 42.416000000000004,
            "count": 1
           },
           {
            "bin_start": 42.416000000000004,
            "bin_end": 42.516000000000005,
            "count": 0
           },
           {
            "bin_start": 42.516000000000005,
            "bin_end": 42.616,
            "count": 0
           },
           {
            "bin_start": 42.616,
            "bin_end": 42.716,
            "count": 0
           },
           {
            "bin_start": 42.716,
            "bin_end": 42.816,
            "count": 0
           }
          ]
         }
        },
        {
         "name": "_deepnote_index_column",
         "dtype": "object"
        }
       ],
       "rows": [
        {
         "starting_model": -22.175,
         "model_1": 27.847,
         "model_2": 42.316,
         "_deepnote_index_column": "Pred. Dens."
        }
       ]
      },
      "text/plain": "             starting_model  model_1  model_2\nPred. Dens.         -22.175   27.847   42.316",
      "text/html": "<div>\n<style scoped>\n    .dataframe tbody tr th:only-of-type {\n        vertical-align: middle;\n    }\n\n    .dataframe tbody tr th {\n        vertical-align: top;\n    }\n\n    .dataframe thead th {\n        text-align: right;\n    }\n</style>\n<table border=\"1\" class=\"dataframe\">\n  <thead>\n    <tr style=\"text-align: right;\">\n      <th></th>\n      <th>starting_model</th>\n      <th>model_1</th>\n      <th>model_2</th>\n    </tr>\n  </thead>\n  <tbody>\n    <tr>\n      <th>Pred. Dens.</th>\n      <td>-22.175</td>\n      <td>27.847</td>\n      <td>42.316</td>\n    </tr>\n  </tbody>\n</table>\n</div>"
     },
     "metadata": {}
    }
   ],
   "execution_count": 12
  },
  {
   "cell_type": "markdown",
   "source": "# References\n[1] Held J, Lorimer T, Pomati F, Stoop R, Albert C. Second-order phase transition in phytoplankton trait dynamics. _Chaos_. 2020; 30(5):053109. https://doi.org/10.1063/1.5141755 \n\n[2] Zheng, H., Bai, Y., Jiang, M. et al. General quantitative relations linking cell growth and the cell cycle in Escherichia coli. _Nature Microbiology_. 2020;  5(8):995–1001. https://doi.org/10.1038/s41564-020-0717-x \n\n[3] emcee documentation: https://emcee.readthedocs.io/en/stable/",
   "metadata": {
    "cell_id": "882441dc03a5449d953165099db6e78b",
    "tags": [],
    "deepnote_cell_type": "markdown",
    "deepnote_cell_height": 237.984375
   }
  },
  {
   "cell_type": "markdown",
   "source": "",
   "metadata": {
    "cell_id": "2c1e539769a44f40b30af3b1642cf853",
    "tags": [],
    "deepnote_cell_type": "markdown",
    "deepnote_cell_height": 46
   }
  },
  {
   "cell_type": "markdown",
   "source": "<a style='text-decoration:none;line-height:16px;display:flex;color:#5B5B62;padding:10px;justify-content:end;' href='https://deepnote.com?utm_source=created-in-deepnote-cell&projectId=52dba48d-3798-4665-95fc-01a96804955b' target=\"_blank\">\n<img alt='Created in deepnote.com' style='display:inline;max-height:16px;margin:0px;margin-right:7.5px;' src='data:image/svg+xml;base64,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' > </img>\nCreated in <span style='font-weight:600;margin-left:4px;'>Deepnote</span></a>",
   "metadata": {
    "tags": [],
    "created_in_deepnote_cell": true,
    "deepnote_cell_type": "markdown"
   }
  }
 ],
 "nbformat": 4,
 "nbformat_minor": 2,
 "metadata": {
  "orig_nbformat": 2,
  "deepnote": {},
  "deepnote_notebook_id": "67416f0d-a013-438a-8805-c6af116847ff",
  "deepnote_execution_queue": []
 }
}