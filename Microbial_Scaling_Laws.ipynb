{
 "cells": [
  {
   "cell_type": "markdown",
   "source": "# Explaining microbial scaling laws using Bayesian inference\nIn this project, we want to combine methods from _Statistical Physics_ and _Bayesian Data Analysis_ to elucidate the principles behind cellular growth and division. We will study various classes of individual-based growth-division models and infer individual-level processes (model structures and likely ranges of associated parameters) from sigle-cell observations. \n\nIn the _Bayesian framework_, we formalize our process understanding the form of different rate functions, expressing the dependence of growth and division rates on variables characterizing a cell’s state (such as size and protein content), and calculate the Bayesian posteriors for the parameters of these functions.\n\n## Group \n- [Tommaso Amico](https://github.com/tommasoamico)\n- [Andrea Lazzari](https://github.com/AndreaLazzari)\n- [Paolo Zinesi](https://github.com/PaoloZinesi)\n- [Nicola Zomer](https://github.com/NicolaZomer)\n\n## Growth and division processes: general model \nIn our models we consider the evolution of a single non-interacting cell, which undergoes 2 processes:\n- **growth:** the cell size $x(t)$ evolves according to the following equation\n    $$\n    \\dot{x}=g(x(t)) \\quad, \\quad x(0)=x_b\n    $$\n    In some cases this relation can be expressed in vectorial form, where $\\underline{x}$ is the vector of the traits characterizing the cell's state (see model 2). \n- **division:** it is ruled by the _hazard rate function_ $h(x(t))$, which represents the istantaneous probability of the cell to divide. This function is related to the so called _survival function_ $s(t)$, by the relation\n    $$\n    \\frac{\\dot{s}(t)}{s(t)}=-h(t) \\quad , \\quad s(0)=1\n    $$\n    where $s(t)$ gives the probability that the cell will survive (meaning not divide in this case) past a certain time $t$. Once $s(t)$ has been computed for a given model, division times are drawn from this distribution, following the Generalized Gillespie Algorithm. \n\n**While the growth is a deterministic process, division is a stochastic event.** Since the cell does not generally divide into two equal parts, we introduce a parameter $frac$, which is treated as a stochastic variable, such that after the division\n$$\n\\underline{x}_{div} = \\left(frac\\cdot x, (1-frac)\\cdot x\\right)\n$$\n\nFinally, we assume that the division ratios $frac$ are distributed according to a Beta function and that the growth rates $\\omega_1$ follow a Gamma function, hence denoting by $f$ the probability density distribution we obtain\n$$\n\\begin{aligned}\nf(frac|a, b) &= Beta(a, b) \\\\\nf(\\omega_1|c, d) &= Gamma(c, d)\n\\end{aligned}\n$$\n\n### Solution of the differential equations\nFor a given model, first we solve analytically the differential equation for $x(t)$, with the initial condition $x(0)=x_b$. Then, we plug $x(t)$ into $h$ and we use $h(x(t))$ to solve the equation for $s(t)$\n\nOnce $s(t)$ is known, it is possible to generate random division times from this distribution using the **inverse transform method** and the solution can be deterministically propagated to find the simulated time series $x(t)$. To do this, it is also necessary to know or draw the values of $\\omega_1$ and $frac$ at each division cycle. ",
   "metadata": {
    "cell_id": "4fab6025485c4655828a6b96f8d0bc03",
    "tags": [],
    "deepnote_cell_type": "markdown",
    "deepnote_cell_height": 1339.265625
   }
  },
  {
   "cell_type": "markdown",
   "source": "# Models\n\n## Model 0 (Linear)\n**Notebook: [Real data, Model 0](./analysis_real_data/REAL_Model_0.ipynb)**\n\nWe start with a very simple stochastic model, biologically not very realistic, but useful to start familiarizing with the problem. In this first model we define $g(x)$ and $h(x)$ as 2 linear functions\n$$\n\\begin{aligned}\ng(x) &\\equiv \\omega_1(\\mu+x) \\\\\nh(x) &\\equiv \\omega_2(1+x/\\nu)\n\\end{aligned}\n$$\n\nwhere $\\omega_1$ and $\\omega_2$ are frequencies respectively related to the *growth* and *division* phases, while $\\mu$ and $\\nu$ are sizes (tipycally measured in $\\mu m$) that represent the lower and upper limiting trait scales, so they satisfy the relation $ \\mu < \\nu $.\n\nThe ratio between $\\omega_1$ and $\\omega_2$ is the order parameter that triggers the phase transition. The parameters $\\mu$ and $\\nu$ are necessary to cut off the probability distribution (in zero and for large values of $x$), which is important both for physical reasons and for making the distribution normalizable. Introducing these parameters is a mathematical trick, useful for example to prevent the cell from having a too small size, which however is difficult to justify from a biological point of view. We will then see better models, biologically speaking.\n\nThe results of the two differential equations are:\n$$\n\\begin{aligned}\nx(t) &= \\left(x_b+\\frac{\\mu}{\\omega_1}\\right)e^{\\omega_1 t}-\\frac{\\mu}{\\omega_1} \\\\\n\\ln(s(t)) &= \\omega_2 t \\left(\\frac{\\mu}{\\nu}-1\\right) + \\frac{\\omega_2}{\\omega_1} \\left(\\frac{\\mu+x_b}{\\nu}\\right) (1-e^{\\omega_1 t}) \\\\\ns(t) &= \\exp\\left\\{ \\omega_2t \\left(\\frac{\\mu}{\\nu}-1\\right) + \\frac{\\omega_2}{\\omega_1}\\left(\\frac{\\mu + x_b}{\\nu}\\right)(1-e^{\\omega_1t})\\right\\}\n\\end{aligned}\n$$\n",
   "metadata": {
    "cell_id": "de070f1942f74c3b93bc0e456a4e9c63",
    "tags": [],
    "deepnote_cell_type": "markdown",
    "deepnote_cell_height": 709.46875
   },
   "outputs": [],
   "execution_count": null
  },
  {
   "cell_type": "markdown",
   "source": "![img](images/s_model0.png)",
   "metadata": {
    "cell_id": "c29a5f10246e4c2db8e0c5ff5572fea1",
    "tags": [],
    "deepnote_cell_type": "markdown",
    "deepnote_cell_height": 574
   }
  },
  {
   "cell_type": "markdown",
   "source": "## Model 1 (with Plateau)\n**Notebook: [Real data, Model 1](./analysis_real_data/REAL_Model_1.ipynb)**\n\nAs in the previous model, even in this case the cell growth is governed by a single trait, which is the size. However, this model is biologically more realistic, mainly because a lower bound is placed on the size of the cell such that it can divide. \n\nAlso in this case the processes considered are growth and division, governed by $g(x)$ and $h(x)$ respectively. In this model we define $g(x)$ and $h(x)$ as follows\n$$\n\\begin{aligned}\ng(x)&= \\omega_1 x \\\\\nh(x)&=\n\\begin{cases}\n    0  & , \\, x<\\mu \\\\\n    \\omega_2 \\cdot \\frac{x+\\nu}{\\mu+\\nu} & , \\, x\\geq \\mu\n\\end{cases}\n\\end{aligned}\n$$\n\nwhere $g(x)$ again corresponds to an exponential growth, while $h(x)$ is lower bounded by $\\mu$.\n\nThe results of two differential equations are:\n$$\n\\begin{aligned}\nx(t) &= x_b\\, e^{\\omega_1 t} \\\\\n\\ln(s(t)) &= - \\left[ \\dfrac{x_b}{\\mu+\\nu} \\dfrac{\\omega_2}{\\omega_1} \\left( e^{\\omega_1 t} - e^{\\omega_1 t_0}\\right) + \\dfrac{\\nu}{\\mu+\\nu}\\, \\omega_2 (t-t_0) \\right] \\theta(t-t_0) \\\\\ns(t) &= \\exp\\left\\{ - \\left[ \\dfrac{x_b}{\\mu+\\nu} \\dfrac{\\omega_2}{\\omega_1} \\left( e^{\\omega_1 t} - e^{\\omega_1 t_0}\\right) + \\dfrac{\\nu}{\\mu+\\nu}\\, \\omega_2 (t-t_0) \\right] \\theta(t-t_0) \\right\\}\n\\end{aligned}\n$$\n\nwhere $t_0 \\equiv \\max\\left\\{0,\\dfrac{1}{\\omega_1} \\ln\\left(\\dfrac{\\mu}{x_b}\\right)\\right\\}$ is the minimum time at which the cell can divide and $\\theta(\\tau)$ is the Heaviside function.\n\nNote that this model is different from the linear one only if the new parameter $t_0$ is bigger than zero, i.e., only if $\\mu > x_b$.\n",
   "metadata": {
    "cell_id": "b440b04db37a4bde9c4b5269acab092b",
    "tags": [],
    "deepnote_cell_type": "markdown",
    "deepnote_cell_height": 683.828125
   },
   "outputs": [],
   "execution_count": null
  },
  {
   "cell_type": "markdown",
   "source": "![img](images/s_model1.png)\n",
   "metadata": {
    "cell_id": "cb11f0d2f1de4ff68d75df75debe2892",
    "tags": [],
    "deepnote_cell_type": "markdown",
    "deepnote_cell_height": 574
   },
   "outputs": [],
   "execution_count": null
  },
  {
   "cell_type": "markdown",
   "source": "## Model 2 (with Protein)\n**Notebook: [Real data, Model 2](./analysis_real_data/REAL_Model_2.ipynb)**\n\nThe main difference between this model and the previous ones is that here we consider 2 traits: the cell size $m(t)$ and its protein content $p(t)$. We call $\\underline{x}$ the vector\n$$\n\\underline{x} = \\begin{pmatrix} m\\\\ p\\end{pmatrix} \n$$\n\nAs before, the traits evolution and the cell division are governed by $g(\\underline{x})$ and $h(p)$ respectively, which are defined as \n$$\n\\begin{aligned}\ng(\\underline{x})&=\\omega_1m\\begin{pmatrix} 1\\\\ c\\end{pmatrix} \\\\\nh(p)&=\n    \\begin{cases}\n    0   & , \\, p<\\mu \\\\\n    \\omega_2 \\, \\frac{p+\\nu}{\\mu+\\nu} & , \\, p\\geq \\mu\n    \\end{cases}\n\\end{aligned}\n$$\nFrom $g(\\underline{x})$ we can notice that the cell size still grows exponentially and the protein content also follows this evolution, scaled by the factor $c$. As $c$ doesn't have a real meaning, we set it to $1$. \n\nMoreover, in this model the condition under which the cell can divide is that it contains a minimum amount of a specific type of protein, which we call $\\mu$. If $p\\geq \\mu$ the cell can divide, otherwise it cannot. Unlike model 1, we do not have any condition on the size of the cell for the division to take place and $h$ depens only on $p$.\n\nThe initial conditions for $m(t)$ and $p(t)$ are\n$$\n\\begin{aligned}\n    p(t=0) &= 0 \\\\\n    m(t=0) &= m_b\n\\end{aligned}\n$$\n\nand the division process occurs in the following way\n$$\n\\begin{pmatrix} m \\\\ p\\end{pmatrix} \\rightarrow \\begin{pmatrix} frac \\cdot m \\\\ 0\\end{pmatrix} + \\begin{pmatrix} (1-frac) \\cdot m \\\\ 0\\end{pmatrix}\n$$\nwhere $frac$ is the division ratio.\n\nSimilarly to the [Model 1](/analysis_real_data/REAL_Model_1.ipynb), the results of the two differential equations are:\n$$\n\\begin{aligned}\nm(t) &= m_b\\, e^{\\omega_1 t} \\\\\n\\ln(s(t)) &= - \\left[ \\dfrac{m_b}{\\mu+\\nu} \\dfrac{\\omega_2}{\\omega_1} \\left( e^{\\omega_1 t} - e^{\\omega_1 t_0}\\right) + \\dfrac{\\nu - m_b}{\\mu+\\nu}\\, \\omega_2 (t-t_0) \\right] \\theta   (t-t_0) \\\\\n%s(t) &= \\exp\\left\\{ - \\left[ \\dfrac{m_b}{\\mu+\\nu} \\dfrac{\\omega_2}{\\omega_1} \\left.         %(e^\\omega_1 t} - e^{\\omega_1 t_0}\\right) + \\dfrac{\\nu - m_b}{\\mu+\\nu}\\, \\omega_2 (t-t_0) %\\right] \\theta(t-t_0) \\right\\}\n\\end{aligned}\n$$\n\nwhere $t_0 \\equiv \\dfrac{1}{\\omega_1} \\ln\\left(1 + \\dfrac{\\mu}{m_b}\\right) $ is the minimum time at which the cell can divide and $\\theta(\\tau)$ is the Heaviside function.\n\nNote that in this model $t_0$ is always bigger than zero, because the argument of the logarithm is alway bigger than one. This means that, independently on the choice of parameters, each cell has a time period in which it cannot divide because the protein has not reached yet the threshold value $\\mu$.",
   "metadata": {
    "cell_id": "b475124b4a8c4caa8ea71f232632adb5",
    "tags": [],
    "deepnote_cell_type": "markdown",
    "deepnote_cell_height": 1045.890625
   },
   "outputs": [],
   "execution_count": null
  },
  {
   "cell_type": "markdown",
   "source": "![img](images/s_model2.png)",
   "metadata": {
    "cell_id": "91940d84699b449292e653c0fdd0e570",
    "tags": [],
    "deepnote_cell_type": "markdown",
    "deepnote_cell_height": 574
   }
  },
  {
   "cell_type": "markdown",
   "source": "# Bayesian Data Analysis\nFor all models, the set of parameters to be inferred is \n$$\n\\underline{\\theta} = \\{\\mu, \\nu, \\omega_2, a, b, c, d\\}\n$$\n\nApplying the Bayes theorem, we can write\n$$\nf(\\underline{\\theta}|\\tau, \\omega_1, frac, M) \\propto f(\\tau, \\omega_1, frac|\\underline{\\theta}, M)\\cdot f(\\underline{\\theta}, M)\n$$\nwhere $M$ is the background information given by the selected model and $\\tau$, $\\omega_1$ and $frac$ are provided by the data.\n\nRegarding the likelihood, $f(\\tau, \\omega_1, frac|\\underline{\\theta})$, applying the chain rule and exploiting the fact that $frac$ and $\\omega_1$ are independent, it can be written as the product of the conditional probability density function of each random variable of interest\n$$\n\\begin{aligned}\nf(\\tau, \\omega_1, frac|\\underline{\\theta}) &=\nf(\\tau|\\omega_1, frac, \\underline{\\theta}) \\cdot f(\\omega_1, frac|\\underline{\\theta}) \\\\\n&=f(\\tau|\\omega_1, frac, \\underline{\\theta}) \\cdot f(\\omega_1|\\underline{\\theta}) \\cdot f(frac|\\underline{\\theta})\n\\end{aligned}\n$$ \nwhere the last 2 are respectively the $Gamma(c, d)$ and $Beta(a, b)$ distributions, while the former is the probability density function of division times, which depends on the selected model and it is the derivative of the survival function $s(t)$.\n\n## Workflow \n- **Calibration**  \nPerforming Markov Chain Monte Carlo (MCMC), via the Python implementation [emcee](https://emcee.readthedocs.io/en/stable/), we find the posterior distribution of $\\theta$ and the marginalized posterior of each parameter, of which we calculate the maximum, the median and the 95% credibility interval. Then, we use this results to generate a simulated time series, that can be compared with the real data, to find which model is statistically better.  \n\n- **Validation** \nModel validation and comparison is achieved by \n- making a boxplot of the simulated and real interdivision times\n- computing the overlap of the histograms of the interdivision times\n- calculating the predictive density\n\n\n## Methods\n- **Derivation of the survival function $s(t)$**\nTo derive $s(t)$ we first solve analytically the equation for $x(t)$, then we plug the result into $h(x)$ and finally we solve the equation\n$$\n\\frac{\\dot{s}(t)}{s(t)}=-h(x(t))\n$$\n\nwith initial condition $s(0)=1$.\n\n- **Sampling from the CDF distribution with numerical inversion**\nFollowing the inverse transform method, to draw a division time $t_d$ from the associated distribution $s(t)$, we draw a random value $K$ from a uniform distribution in the interval $[0, 1]$ (i.e., we draw a \"survival probability”) and solve numerically for $t_d$\n\n$$ \n\\log(s(t_d)) = \\log(K)\n$$\n\nWe use the library [Pyinverse](https://pypi.org/project/pynverse/) to find numerically the inverse of a function.\n\n- **Forward propagation**\nAfter having generated the time series of the survival times by sampling from $s(t)$, we can forward propagate the evolution of a single cell, according to the following procedure:\n\n1. Start with the initial size $x_b$\n2. Propagate using the equation for $x(t)$ up to the first division time\n3. Divide the cell size according to $frac$ \n4. Repeat the last 2 points for all division times generated, imposing as initial size of the cell the one after division and resetting the time\n\nIn point **3.**, regarding the value of $frac$, three approches can be followed:\n- set $frac=0.5$ in all iterations assuming the cell always divides equally in two parts;\n- draw the values of $frac$ from the associated Beta distribution;\n- use the real values contained in the dataset. \n\nAfter playing with the first two approaches (see notebooks in folder [analysis_sim_data](./analysis_sim_data)), in order to obtain significant results and to be able to compare the models with real data, we decided to follow the last one.\n\n- **Predictive density**\nTo compute the predictive density, first we divide the dataset in 2 parts, one used for calibration and the other for validation. This is done randomly and several times, in order to get a more robust estimate of the predictive density. \n\nIn the calibration part, we take the maximum a posteriori (MAP) of the posterior: $\\underline{\\theta}_{MAP}$. Then, at each iteration, we use the inferred values of the parameters and the validation set to calculate the predictive density: \n$$\n    \\mathcal{L}(\\underline{\\tau}^V, \\underline{\\omega}_1^V,\\underline{f}^V | \\underline{\\theta}_{MAP}) =\n    \\prod_{cells} \n    \\mathcal{L}(\\underline{\\tau}_i^V | \\underline{\\omega}_{1, i}^V,\\underline{f}_i^V,\\underline{\\theta}_{MAP}) \n    \\cdot \\mathcal{L}(\\underline{\\omega}_{1, i}^V | \\underline{\\theta}_{MAP}) \n    \\cdot \\mathcal{L}(\\underline{f}_i^V | \\underline{\\theta}_{MAP})\n$$\n\nFinally, we take the average of the values obtained at each iteration for each model. Given the 3 models, the best is the one with the largest value of $\\mathcal{L}(\\underline{\\tau}^V, \\underline{\\omega}_1^V,\\underline{f}^V | \\underline{\\theta}_{MAP})$.\n\n",
   "metadata": {
    "cell_id": "0c6d468642964646808f268fda19318c",
    "tags": [],
    "deepnote_cell_type": "markdown",
    "deepnote_cell_height": 2020.5
   },
   "outputs": [],
   "execution_count": null
  },
  {
   "cell_type": "markdown",
   "source": "# First Simulations\nBefore analyzing the real data, we prefer to carry out simulations for each model. Given a model, we set arbitrary, but meaningful, parameter values ($\\omega_1=1$, $\\omega_2=0.9$, $\\nu=1$, $\\mu=0.1$, $x_b=1$, such that $\\mu \\ll \\nu$ and $\\omega_2<\\omega_1$) and we generate the time series of the cell size. As explained above, this is achieved by sampling the division times from $s(t)$ and deterministically propagate the evolution of the cell to find $x(t)$. To keep the simulation simple, we fix $frac=0.5$.\n\nThen we run MCMC to perform inference on the parameters ($\\omega_1, \\omega_2, \\mu, \\nu$). In this case the results can be compared with the true value of the parameters, which are known from the simulation. \n\nThis is mainly done to familiarize with the problem, with the Metropolis algorithm and with the [emcee](https://emcee.readthedocs.io/en/stable/) library. The resulting notebooks can be found in the folder [analysis_sim_data](./analysis_sim_data):\n\n- [Simulated data, Model 0](./analysis_sim_data/model_0.ipynb)\n- [Simulated data, Model 1](./analysis_sim_data/model_1.ipynb)\n- [Simulated data, Model 2](./analysis_sim_data/model_2.ipynb)\n",
   "metadata": {
    "cell_id": "4e13cda8dbd24220b0d81d405560433a",
    "tags": [],
    "deepnote_cell_type": "markdown",
    "deepnote_cell_height": 429.21875
   },
   "outputs": [],
   "execution_count": null
  },
  {
   "cell_type": "markdown",
   "source": "# Real Data\n\n",
   "metadata": {
    "cell_id": "dfab5191d3904703a1a4b401581f6790",
    "tags": [],
    "deepnote_cell_type": "markdown",
    "deepnote_cell_height": 82
   },
   "outputs": [],
   "execution_count": null
  },
  {
   "cell_type": "code",
   "source": "import pandas as pd\nimport matplotlib.pyplot as plt\nimport numpy as np\n\nimport sys\nsys.path.insert(0, './analysis_real_data')\n\nfrom Fernando_package import functions\nfrom Fernando_package import plot_funcs",
   "metadata": {
    "cell_id": "0f4f9693ca6b42c39232474c1fdf8ab8",
    "tags": [],
    "deepnote_to_be_reexecuted": false,
    "source_hash": "7150542f",
    "execution_start": 1655312356915,
    "execution_millis": 1839,
    "deepnote_cell_type": "code",
    "deepnote_cell_height": 225
   },
   "outputs": [],
   "execution_count": 1
  },
  {
   "cell_type": "markdown",
   "source": "First, we import the real data and we create the following objects:\n- `size`: length of the time series, i.e., the number of divisions \n- `xb_realdata`: initial size of the cell \n- `df_microbial_growth`: our dataset ",
   "metadata": {
    "cell_id": "71e3c4aeb0644a44b2ee45b821f59b31",
    "tags": [],
    "deepnote_cell_type": "markdown",
    "deepnote_cell_height": 153.578125
   }
  },
  {
   "cell_type": "code",
   "source": "df_microbial_growth = pd.read_csv('/work/Microbial_Scaling_Laws/data/modified_Susman18_physical_units.csv')\nxb_realdata = df_microbial_growth['length_birth'][0]\n\n# remove first NaN\ndf_microbial_growth  =  df_microbial_growth[~ np.isnan(df_microbial_growth['division_ratio'])]\nsize = len(df_microbial_growth['generationtime'])\n\n# check that there is only one cell in the dataset\nprint('Number of cells in the dataset:', df_microbial_growth['lineage_ID'].nunique()) \n\n# print length of the series and initial size\nprint('Length of the time series:', size)\nprint('Initial size of the cell:', round(xb_realdata, 4))\n\ndisplay(df_microbial_growth)\n\n",
   "metadata": {
    "cell_id": "c38ef4ac44974640aa880a7d77e3b19b",
    "tags": [],
    "deepnote_to_be_reexecuted": false,
    "source_hash": "cd8c8dc1",
    "execution_start": 1655312358761,
    "execution_millis": 65,
    "deepnote_cell_type": "code",
    "deepnote_cell_height": 989.03125
   },
   "outputs": [
    {
     "name": "stdout",
     "text": "Number of cells in the dataset: 1\nLength of the time series: 251\nInitial size of the cell: 1.7914\n",
     "output_type": "stream"
    },
    {
     "data": {
      "application/vnd.deepnote.dataframe.v3+json": {
       "column_count": 12,
       "row_count": 251,
       "columns": [
        {
         "name": "div_and_fold",
         "dtype": "float64",
         "stats": {
          "unique_count": 251,
          "nan_count": 0,
          "min": "0.546096874465105",
          "max": "2.07810702172796",
          "histogram": [
           {
            "bin_start": 0.546096874465105,
            "bin_end": 0.6992978891913906,
            "count": 6
           },
           {
            "bin_start": 0.6992978891913906,
            "bin_end": 0.852498903917676,
            "count": 30
           },
           {
            "bin_start": 0.852498903917676,
            "bin_end": 1.0056999186439615,
            "count": 101
           },
           {
            "bin_start": 1.0056999186439615,
            "bin_end": 1.158900933370247,
            "count": 77
           },
           {
            "bin_start": 1.158900933370247,
            "bin_end": 1.3121019480965326,
            "count": 24
           },
           {
            "bin_start": 1.3121019480965326,
            "bin_end": 1.465302962822818,
            "count": 4
           },
           {
            "bin_start": 1.465302962822818,
            "bin_end": 1.6185039775491035,
            "count": 4
           },
           {
            "bin_start": 1.6185039775491035,
            "bin_end": 1.7717049922753891,
            "count": 1
           },
           {
            "bin_start": 1.7717049922753891,
            "bin_end": 1.9249060070016744,
            "count": 2
           },
           {
            "bin_start": 1.9249060070016744,
            "bin_end": 2.07810702172796,
            "count": 2
           }
          ]
         }
        },
        {
         "name": "fold_growth",
         "dtype": "float64",
         "stats": {
          "unique_count": 251,
          "nan_count": 0,
          "min": "0.17705897633605",
          "max": "1.56885829888933",
          "histogram": [
           {
            "bin_start": 0.17705897633605,
            "bin_end": 0.31623890859137804,
            "count": 6
           },
           {
            "bin_start": 0.31623890859137804,
            "bin_end": 0.45541884084670603,
            "count": 10
           },
           {
            "bin_start": 0.45541884084670603,
            "bin_end": 0.5945987731020341,
            "count": 45
           },
           {
            "bin_start": 0.5945987731020341,
            "bin_end": 0.7337787053573621,
            "count": 85
           },
           {
            "bin_start": 0.7337787053573621,
            "bin_end": 0.8729586376126901,
            "count": 70
           },
           {
            "bin_start": 0.8729586376126901,
            "bin_end": 1.012138569868018,
            "count": 26
           },
           {
            "bin_start": 1.012138569868018,
            "bin_end": 1.151318502123346,
            "count": 6
           },
           {
            "bin_start": 1.151318502123346,
            "bin_end": 1.290498434378674,
            "count": 1
           },
           {
            "bin_start": 1.290498434378674,
            "bin_end": 1.429678366634002,
            "count": 1
           },
           {
            "bin_start": 1.429678366634002,
            "bin_end": 1.56885829888933,
            "count": 1
           }
          ]
         }
        },
        {
         "name": "division_ratio",
         "dtype": "float64",
         "stats": {
          "unique_count": 251,
          "nan_count": 0,
          "min": "0.357723235350301",
          "max": "0.990917846034598",
          "histogram": [
           {
            "bin_start": 0.357723235350301,
            "bin_end": 0.4210426964187307,
            "count": 11
           },
           {
            "bin_start": 0.4210426964187307,
            "bin_end": 0.4843621574871604,
            "count": 102
           },
           {
            "bin_start": 0.4843621574871604,
            "bin_end": 0.54768161855559,
            "count": 119
           },
           {
            "bin_start": 0.54768161855559,
            "bin_end": 0.6110010796240197,
            "count": 15
           },
           {
            "bin_start": 0.6110010796240197,
            "bin_end": 0.6743205406924495,
            "count": 1
           },
           {
            "bin_start": 0.6743205406924495,
            "bin_end": 0.7376400017608792,
            "count": 0
           },
           {
            "bin_start": 0.7376400017608792,
            "bin_end": 0.8009594628293089,
            "count": 0
           },
           {
            "bin_start": 0.8009594628293089,
            "bin_end": 0.8642789238977386,
            "count": 0
           },
           {
            "bin_start": 0.8642789238977386,
            "bin_end": 0.9275983849661682,
            "count": 0
           },
           {
            "bin_start": 0.9275983849661682,
            "bin_end": 0.990917846034598,
            "count": 3
           }
          ]
         }
        },
        {
         "name": "added_length",
         "dtype": "float64",
         "stats": {
          "unique_count": 251,
          "nan_count": 0,
          "min": "0.387557684591295",
          "max": "9.7781973176522",
          "histogram": [
           {
            "bin_start": 0.387557684591295,
            "bin_end": 1.3266216478973856,
            "count": 7
           },
           {
            "bin_start": 1.3266216478973856,
            "bin_end": 2.2656856112034762,
            "count": 72
           },
           {
            "bin_start": 2.2656856112034762,
            "bin_end": 3.2047495745095667,
            "count": 137
           },
           {
            "bin_start": 3.2047495745095667,
            "bin_end": 4.1438135378156575,
            "count": 26
           },
           {
            "bin_start": 4.1438135378156575,
            "bin_end": 5.0828775011217475,
            "count": 5
           },
           {
            "bin_start": 5.0828775011217475,
            "bin_end": 6.021941464427838,
            "count": 1
           },
           {
            "bin_start": 6.021941464427838,
            "bin_end": 6.961005427733928,
            "count": 1
           },
           {
            "bin_start": 6.961005427733928,
            "bin_end": 7.900069391040019,
            "count": 1
           },
           {
            "bin_start": 7.900069391040019,
            "bin_end": 8.83913335434611,
            "count": 0
           },
           {
            "bin_start": 8.83913335434611,
            "bin_end": 9.7781973176522,
            "count": 1
           }
          ]
         }
        },
        {
         "name": "generationtime",
         "dtype": "float64",
         "stats": {
          "unique_count": 53,
          "nan_count": 0,
          "min": "0.0833333333333286",
          "max": "1.33333333333333",
          "histogram": [
           {
            "bin_start": 0.0833333333333286,
            "bin_end": 0.20833333333332874,
            "count": 7
           },
           {
            "bin_start": 0.20833333333332874,
            "bin_end": 0.3333333333333289,
            "count": 6
           },
           {
            "bin_start": 0.3333333333333289,
            "bin_end": 0.45833333333332904,
            "count": 62
           },
           {
            "bin_start": 0.45833333333332904,
            "bin_end": 0.5833333333333292,
            "count": 97
           },
           {
            "bin_start": 0.5833333333333292,
            "bin_end": 0.7083333333333293,
            "count": 61
           },
           {
            "bin_start": 0.7083333333333293,
            "bin_end": 0.8333333333333295,
            "count": 13
           },
           {
            "bin_start": 0.8333333333333295,
            "bin_end": 0.9583333333333296,
            "count": 2
           },
           {
            "bin_start": 0.9583333333333296,
            "bin_end": 1.0833333333333297,
            "count": 1
           },
           {
            "bin_start": 1.0833333333333297,
            "bin_end": 1.20833333333333,
            "count": 1
           },
           {
            "bin_start": 1.20833333333333,
            "bin_end": 1.33333333333333,
            "count": 1
           }
          ]
         }
        },
        {
         "name": "length_birth",
         "dtype": "float64",
         "stats": {
          "unique_count": 251,
          "nan_count": 0,
          "min": "1.53541473227095",
          "max": "7.18441393010281",
          "histogram": [
           {
            "bin_start": 1.53541473227095,
            "bin_end": 2.100314652054136,
            "count": 27
           },
           {
            "bin_start": 2.100314652054136,
            "bin_end": 2.665214571837322,
            "count": 131
           },
           {
            "bin_start": 2.665214571837322,
            "bin_end": 3.230114491620508,
            "count": 74
           },
           {
            "bin_start": 3.230114491620508,
            "bin_end": 3.795014411403694,
            "count": 12
           },
           {
            "bin_start": 3.795014411403694,
            "bin_end": 4.35991433118688,
            "count": 3
           },
           {
            "bin_start": 4.35991433118688,
            "bin_end": 4.924814250970066,
            "count": 1
           },
           {
            "bin_start": 4.924814250970066,
            "bin_end": 5.489714170753252,
            "count": 2
           },
           {
            "bin_start": 5.489714170753252,
            "bin_end": 6.054614090536438,
            "count": 0
           },
           {
            "bin_start": 6.054614090536438,
            "bin_end": 6.619514010319624,
            "count": 0
           },
           {
            "bin_start": 6.619514010319624,
            "bin_end": 7.18441393010281,
            "count": 1
           }
          ]
         }
        },
        {
         "name": "length_final",
         "dtype": "float64",
         "stats": {
          "unique_count": 251,
          "nan_count": 0,
          "min": "2.676769724",
          "max": "12.3506194558684",
          "histogram": [
           {
            "bin_start": 2.676769724,
            "bin_end": 3.64415469718684,
            "count": 5
           },
           {
            "bin_start": 3.64415469718684,
            "bin_end": 4.611539670373681,
            "count": 50
           },
           {
            "bin_start": 4.611539670373681,
            "bin_end": 5.578924643560521,
            "count": 122
           },
           {
            "bin_start": 5.578924643560521,
            "bin_end": 6.546309616747361,
            "count": 56
           },
           {
            "bin_start": 6.546309616747361,
            "bin_end": 7.5136945899342,
            "count": 11
           },
           {
            "bin_start": 7.5136945899342,
            "bin_end": 8.48107956312104,
            "count": 3
           },
           {
            "bin_start": 8.48107956312104,
            "bin_end": 9.448464536307881,
            "count": 2
           },
           {
            "bin_start": 9.448464536307881,
            "bin_end": 10.415849509494722,
            "count": 1
           },
           {
            "bin_start": 10.415849509494722,
            "bin_end": 11.38323448268156,
            "count": 0
           },
           {
            "bin_start": 11.38323448268156,
            "bin_end": 12.3506194558684,
            "count": 1
           }
          ]
         }
        },
        {
         "name": "growth_rate",
         "dtype": "float64",
         "stats": {
          "unique_count": 251,
          "nan_count": 0,
          "min": "0.505963594660099",
          "max": "4.07143555717965",
          "histogram": [
           {
            "bin_start": 0.505963594660099,
            "bin_end": 0.8625107909120542,
            "count": 2
           },
           {
            "bin_start": 0.8625107909120542,
            "bin_end": 1.2190579871640093,
            "count": 48
           },
           {
            "bin_start": 1.2190579871640093,
            "bin_end": 1.5756051834159646,
            "count": 165
           },
           {
            "bin_start": 1.5756051834159646,
            "bin_end": 1.9321523796679196,
            "count": 28
           },
           {
            "bin_start": 1.9321523796679196,
            "bin_end": 2.2886995759198747,
            "count": 4
           },
           {
            "bin_start": 2.2886995759198747,
            "bin_end": 2.64524677217183,
            "count": 0
           },
           {
            "bin_start": 2.64524677217183,
            "bin_end": 3.001793968423785,
            "count": 2
           },
           {
            "bin_start": 3.001793968423785,
            "bin_end": 3.35834116467574,
            "count": 0
           },
           {
            "bin_start": 3.35834116467574,
            "bin_end": 3.714888360927695,
            "count": 0
           },
           {
            "bin_start": 3.714888360927695,
            "bin_end": 4.07143555717965,
            "count": 2
           }
          ]
         }
        },
        {
         "name": "lineage_ID",
         "dtype": "float64",
         "stats": {
          "unique_count": 1,
          "nan_count": 0,
          "min": "15.0",
          "max": "15.0",
          "histogram": [
           {
            "bin_start": 14.5,
            "bin_end": 14.6,
            "count": 0
           },
           {
            "bin_start": 14.6,
            "bin_end": 14.7,
            "count": 0
           },
           {
            "bin_start": 14.7,
            "bin_end": 14.8,
            "count": 0
           },
           {
            "bin_start": 14.8,
            "bin_end": 14.9,
            "count": 0
           },
           {
            "bin_start": 14.9,
            "bin_end": 15,
            "count": 0
           },
           {
            "bin_start": 15,
            "bin_end": 15.1,
            "count": 251
           },
           {
            "bin_start": 15.1,
            "bin_end": 15.2,
            "count": 0
           },
           {
            "bin_start": 15.2,
            "bin_end": 15.3,
            "count": 0
           },
           {
            "bin_start": 15.3,
            "bin_end": 15.4,
            "count": 0
           },
           {
            "bin_start": 15.4,
            "bin_end": 15.5,
            "count": 0
           }
          ]
         }
        },
        {
         "name": "generation",
         "dtype": "float64",
         "stats": {
          "unique_count": 251,
          "nan_count": 0,
          "min": "1.0",
          "max": "253.0",
          "histogram": [
           {
            "bin_start": 1,
            "bin_end": 26.2,
            "count": 26
           },
           {
            "bin_start": 26.2,
            "bin_end": 51.4,
            "count": 25
           },
           {
            "bin_start": 51.4,
            "bin_end": 76.6,
            "count": 25
           },
           {
            "bin_start": 76.6,
            "bin_end": 101.8,
            "count": 25
           },
           {
            "bin_start": 101.8,
            "bin_end": 127,
            "count": 25
           },
           {
            "bin_start": 127,
            "bin_end": 152.2,
            "count": 26
           },
           {
            "bin_start": 152.2,
            "bin_end": 177.4,
            "count": 25
           },
           {
            "bin_start": 177.4,
            "bin_end": 202.6,
            "count": 24
           },
           {
            "bin_start": 202.6,
            "bin_end": 227.79999999999998,
            "count": 24
           },
           {
            "bin_start": 227.79999999999998,
            "bin_end": 253,
            "count": 26
           }
          ]
         }
        },
        {
         "name": "start_time",
         "dtype": "float64",
         "stats": {
          "unique_count": 251,
          "nan_count": 0,
          "min": "1.08333333333333",
          "max": "152.916666666667",
          "histogram": [
           {
            "bin_start": 1.08333333333333,
            "bin_end": 16.266666666666694,
            "count": 25
           },
           {
            "bin_start": 16.266666666666694,
            "bin_end": 31.45000000000006,
            "count": 25
           },
           {
            "bin_start": 31.45000000000006,
            "bin_end": 46.633333333333425,
            "count": 22
           },
           {
            "bin_start": 46.633333333333425,
            "bin_end": 61.81666666666679,
            "count": 26
           },
           {
            "bin_start": 61.81666666666679,
            "bin_end": 77.00000000000016,
            "count": 25
           },
           {
            "bin_start": 77.00000000000016,
            "bin_end": 92.18333333333352,
            "count": 25
           },
           {
            "bin_start": 92.18333333333352,
            "bin_end": 107.36666666666689,
            "count": 25
           },
           {
            "bin_start": 107.36666666666689,
            "bin_end": 122.55000000000025,
            "count": 26
           },
           {
            "bin_start": 122.55000000000025,
            "bin_end": 137.73333333333363,
            "count": 26
           },
           {
            "bin_start": 137.73333333333363,
            "bin_end": 152.916666666667,
            "count": 26
           }
          ]
         }
        },
        {
         "name": "end_time",
         "dtype": "float64",
         "stats": {
          "unique_count": 251,
          "nan_count": 0,
          "min": "1.58333333333333",
          "max": "153.416666666667",
          "histogram": [
           {
            "bin_start": 1.58333333333333,
            "bin_end": 16.766666666666694,
            "count": 25
           },
           {
            "bin_start": 16.766666666666694,
            "bin_end": 31.95000000000006,
            "count": 25
           },
           {
            "bin_start": 31.95000000000006,
            "bin_end": 47.133333333333425,
            "count": 23
           },
           {
            "bin_start": 47.133333333333425,
            "bin_end": 62.31666666666679,
            "count": 25
           },
           {
            "bin_start": 62.31666666666679,
            "bin_end": 77.50000000000016,
            "count": 25
           },
           {
            "bin_start": 77.50000000000016,
            "bin_end": 92.68333333333352,
            "count": 24
           },
           {
            "bin_start": 92.68333333333352,
            "bin_end": 107.86666666666689,
            "count": 26
           },
           {
            "bin_start": 107.86666666666689,
            "bin_end": 123.05000000000025,
            "count": 26
           },
           {
            "bin_start": 123.05000000000025,
            "bin_end": 138.23333333333363,
            "count": 26
           },
           {
            "bin_start": 138.23333333333363,
            "bin_end": 153.416666666667,
            "count": 26
           }
          ]
         }
        },
        {
         "name": "_deepnote_index_column",
         "dtype": "int64"
        }
       ],
       "rows": [
        {
         "div_and_fold": 1.0098307934197,
         "fold_growth": 0.794983848896329,
         "division_ratio": 0.456028002051387,
         "added_length": 3.19832435369885,
         "generationtime": 0.5,
         "length_birth": 2.63365495382557,
         "length_final": 5.83197930752442,
         "growth_rate": 1.58996769779266,
         "lineage_ID": 15,
         "generation": 1,
         "start_time": 1.08333333333333,
         "end_time": 1.58333333333333,
         "_deepnote_index_column": 1
        },
        {
         "div_and_fold": 0.86248240520342,
         "fold_growth": 0.607893198978199,
         "division_ratio": 0.469618916545778,
         "added_length": 2.29117173653322,
         "generationtime": 0.416666666666667,
         "length_birth": 2.73880780371701,
         "length_final": 5.02997954025023,
         "growth_rate": 1.45894367754768,
         "lineage_ID": 15,
         "generation": 2,
         "start_time": 1.66666666666667,
         "end_time": 2.08333333333333,
         "_deepnote_index_column": 2
        },
        {
         "div_and_fold": 1.4264859538416,
         "fold_growth": 1.03736970365688,
         "division_ratio": 0.505526075322566,
         "added_length": 4.6324093463421,
         "generationtime": 0.833333333333333,
         "length_birth": 2.5427858159355,
         "length_final": 7.17519516227761,
         "growth_rate": 1.24484364438826,
         "lineage_ID": 15,
         "generation": 3,
         "start_time": 2.16666666666667,
         "end_time": 3,
         "_deepnote_index_column": 3
        },
        {
         "div_and_fold": 0.729601417548095,
         "fold_growth": 0.490155896574101,
         "division_ratio": 0.446903409482841,
         "added_length": 2.02841337985533,
         "generationtime": 0.333333333333333,
         "length_birth": 3.20661918172665,
         "length_final": 5.23503256158198,
         "growth_rate": 1.47046768972231,
         "lineage_ID": 15,
         "generation": 4,
         "start_time": 3.08333333333333,
         "end_time": 3.41666666666667,
         "_deepnote_index_column": 4
        },
        {
         "div_and_fold": 0.887981951140976,
         "fold_growth": 0.609464016506087,
         "division_ratio": 0.482744438597171,
         "added_length": 2.12143157334131,
         "generationtime": 0.416666666666667,
         "length_birth": 2.5271828549788,
         "length_final": 4.64861442832011,
         "growth_rate": 1.46271363961461,
         "lineage_ID": 15,
         "generation": 5,
         "start_time": 3.5,
         "end_time": 3.91666666666667,
         "_deepnote_index_column": 5
        },
        {
         "div_and_fold": 1.04135711828936,
         "fold_growth": 0.709757017717577,
         "division_ratio": 0.51210160119141,
         "added_length": 2.46030483304954,
         "generationtime": 0.583333333333334,
         "length_birth": 2.38056289206422,
         "length_final": 4.84086772511376,
         "growth_rate": 1.21672631608727,
         "lineage_ID": 15,
         "generation": 6,
         "start_time": 4,
         "end_time": 4.58333333333333,
         "_deepnote_index_column": 6
        },
        {
         "div_and_fold": 0.906843477768965,
         "fold_growth": 0.629224866835989,
         "division_ratio": 0.483351917988853,
         "added_length": 2.05006662359762,
         "generationtime": 0.5,
         "length_birth": 2.33984269966407,
         "length_final": 4.3899093232617,
         "growth_rate": 1.25844973367198,
         "lineage_ID": 15,
         "generation": 7,
         "start_time": 4.66666666666667,
         "end_time": 5.16666666666667,
         "_deepnote_index_column": 7
        },
        {
         "div_and_fold": 1.21742143558949,
         "fold_growth": 0.90776142744314,
         "division_ratio": 0.491139841168619,
         "added_length": 3.18831034266156,
         "generationtime": 0.583333333333334,
         "length_birth": 2.15605936777139,
         "length_final": 5.34436971043295,
         "growth_rate": 1.55616244704538,
         "lineage_ID": 15,
         "generation": 8,
         "start_time": 5.25,
         "end_time": 5.83333333333333,
         "_deepnote_index_column": 8
        },
        {
         "div_and_fold": 1.12020008440884,
         "fold_growth": 0.877093417187681,
         "division_ratio": 0.465992331480415,
         "added_length": 3.4963280990811,
         "generationtime": 0.666666666666667,
         "length_birth": 2.49043530165796,
         "length_final": 5.98676340073906,
         "growth_rate": 1.31564012578152,
         "lineage_ID": 15,
         "generation": 9,
         "start_time": 5.91666666666667,
         "end_time": 6.58333333333333,
         "_deepnote_index_column": 9
        },
        {
         "div_and_fold": 0.949165535878694,
         "fold_growth": 0.663265730824347,
         "division_ratio": 0.488977993052723,
         "added_length": 2.75503393886657,
         "generationtime": 0.5,
         "length_birth": 2.92739555257488,
         "length_final": 5.68242949144144,
         "growth_rate": 1.32653146164869,
         "lineage_ID": 15,
         "generation": 10,
         "start_time": 6.66666666666667,
         "end_time": 7.16666666666667,
         "_deepnote_index_column": 10
        }
       ]
      },
      "text/plain": "     div_and_fold  fold_growth  division_ratio  added_length  generationtime  \\\n1        1.009831     0.794984        0.456028      3.198324        0.500000   \n2        0.862482     0.607893        0.469619      2.291172        0.416667   \n3        1.426486     1.037370        0.505526      4.632409        0.833333   \n4        0.729601     0.490156        0.446903      2.028413        0.333333   \n5        0.887982     0.609464        0.482744      2.121432        0.416667   \n..            ...          ...             ...           ...             ...   \n247      0.940427     0.590789        0.520893      2.192641        0.416667   \n248      0.928602     0.604227        0.507478      2.069835        0.500000   \n249      1.568073     1.046815        0.550478      4.644408        0.750000   \n250      0.809727     0.481681        0.500204      2.215210        0.333333   \n251      0.860970     0.711011        0.422863      2.538870        0.500000   \n\n     length_birth  length_final  growth_rate  lineage_ID  generation  \\\n1        2.633655      5.831979     1.589968        15.0         1.0   \n2        2.738808      5.029980     1.458944        15.0         2.0   \n3        2.542786      7.175195     1.244844        15.0         3.0   \n4        3.206619      5.235033     1.470468        15.0         4.0   \n5        2.527183      4.648614     1.462714        15.0         5.0   \n..            ...           ...          ...         ...         ...   \n247      2.722385      4.915026     1.417893        15.0       249.0   \n248      2.494268      4.564104     1.208453        15.0       250.0   \n249      2.512440      7.156848     1.395754        15.0       251.0   \n250      3.579885      5.795095     1.445043        15.0       252.0   \n251      2.450531      4.989402     1.422022        15.0       253.0   \n\n     start_time    end_time  \n1      1.083333    1.583333  \n2      1.666667    2.083333  \n3      2.166667    3.000000  \n4      3.083333    3.416667  \n5      3.500000    3.916667  \n..          ...         ...  \n247  150.583333  151.000000  \n248  151.083333  151.583333  \n249  151.666667  152.416667  \n250  152.500000  152.833333  \n251  152.916667  153.416667  \n\n[251 rows x 12 columns]",
      "text/html": "<div>\n<style scoped>\n    .dataframe tbody tr th:only-of-type {\n        vertical-align: middle;\n    }\n\n    .dataframe tbody tr th {\n        vertical-align: top;\n    }\n\n    .dataframe thead th {\n        text-align: right;\n    }\n</style>\n<table border=\"1\" class=\"dataframe\">\n  <thead>\n    <tr style=\"text-align: right;\">\n      <th></th>\n      <th>div_and_fold</th>\n      <th>fold_growth</th>\n      <th>division_ratio</th>\n      <th>added_length</th>\n      <th>generationtime</th>\n      <th>length_birth</th>\n      <th>length_final</th>\n      <th>growth_rate</th>\n      <th>lineage_ID</th>\n      <th>generation</th>\n      <th>start_time</th>\n      <th>end_time</th>\n    </tr>\n  </thead>\n  <tbody>\n    <tr>\n      <th>1</th>\n      <td>1.009831</td>\n      <td>0.794984</td>\n      <td>0.456028</td>\n      <td>3.198324</td>\n      <td>0.500000</td>\n      <td>2.633655</td>\n      <td>5.831979</td>\n      <td>1.589968</td>\n      <td>15.0</td>\n      <td>1.0</td>\n      <td>1.083333</td>\n      <td>1.583333</td>\n    </tr>\n    <tr>\n      <th>2</th>\n      <td>0.862482</td>\n      <td>0.607893</td>\n      <td>0.469619</td>\n      <td>2.291172</td>\n      <td>0.416667</td>\n      <td>2.738808</td>\n      <td>5.029980</td>\n      <td>1.458944</td>\n      <td>15.0</td>\n      <td>2.0</td>\n      <td>1.666667</td>\n      <td>2.083333</td>\n    </tr>\n    <tr>\n      <th>3</th>\n      <td>1.426486</td>\n      <td>1.037370</td>\n      <td>0.505526</td>\n      <td>4.632409</td>\n      <td>0.833333</td>\n      <td>2.542786</td>\n      <td>7.175195</td>\n      <td>1.244844</td>\n      <td>15.0</td>\n      <td>3.0</td>\n      <td>2.166667</td>\n      <td>3.000000</td>\n    </tr>\n    <tr>\n      <th>4</th>\n      <td>0.729601</td>\n      <td>0.490156</td>\n      <td>0.446903</td>\n      <td>2.028413</td>\n      <td>0.333333</td>\n      <td>3.206619</td>\n      <td>5.235033</td>\n      <td>1.470468</td>\n      <td>15.0</td>\n      <td>4.0</td>\n      <td>3.083333</td>\n      <td>3.416667</td>\n    </tr>\n    <tr>\n      <th>5</th>\n      <td>0.887982</td>\n      <td>0.609464</td>\n      <td>0.482744</td>\n      <td>2.121432</td>\n      <td>0.416667</td>\n      <td>2.527183</td>\n      <td>4.648614</td>\n      <td>1.462714</td>\n      <td>15.0</td>\n      <td>5.0</td>\n      <td>3.500000</td>\n      <td>3.916667</td>\n    </tr>\n    <tr>\n      <th>...</th>\n      <td>...</td>\n      <td>...</td>\n      <td>...</td>\n      <td>...</td>\n      <td>...</td>\n      <td>...</td>\n      <td>...</td>\n      <td>...</td>\n      <td>...</td>\n      <td>...</td>\n      <td>...</td>\n      <td>...</td>\n    </tr>\n    <tr>\n      <th>247</th>\n      <td>0.940427</td>\n      <td>0.590789</td>\n      <td>0.520893</td>\n      <td>2.192641</td>\n      <td>0.416667</td>\n      <td>2.722385</td>\n      <td>4.915026</td>\n      <td>1.417893</td>\n      <td>15.0</td>\n      <td>249.0</td>\n      <td>150.583333</td>\n      <td>151.000000</td>\n    </tr>\n    <tr>\n      <th>248</th>\n      <td>0.928602</td>\n      <td>0.604227</td>\n      <td>0.507478</td>\n      <td>2.069835</td>\n      <td>0.500000</td>\n      <td>2.494268</td>\n      <td>4.564104</td>\n      <td>1.208453</td>\n      <td>15.0</td>\n      <td>250.0</td>\n      <td>151.083333</td>\n      <td>151.583333</td>\n    </tr>\n    <tr>\n      <th>249</th>\n      <td>1.568073</td>\n      <td>1.046815</td>\n      <td>0.550478</td>\n      <td>4.644408</td>\n      <td>0.750000</td>\n      <td>2.512440</td>\n      <td>7.156848</td>\n      <td>1.395754</td>\n      <td>15.0</td>\n      <td>251.0</td>\n      <td>151.666667</td>\n      <td>152.416667</td>\n    </tr>\n    <tr>\n      <th>250</th>\n      <td>0.809727</td>\n      <td>0.481681</td>\n      <td>0.500204</td>\n      <td>2.215210</td>\n      <td>0.333333</td>\n      <td>3.579885</td>\n      <td>5.795095</td>\n      <td>1.445043</td>\n      <td>15.0</td>\n      <td>252.0</td>\n      <td>152.500000</td>\n      <td>152.833333</td>\n    </tr>\n    <tr>\n      <th>251</th>\n      <td>0.860970</td>\n      <td>0.711011</td>\n      <td>0.422863</td>\n      <td>2.538870</td>\n      <td>0.500000</td>\n      <td>2.450531</td>\n      <td>4.989402</td>\n      <td>1.422022</td>\n      <td>15.0</td>\n      <td>253.0</td>\n      <td>152.916667</td>\n      <td>153.416667</td>\n    </tr>\n  </tbody>\n</table>\n<p>251 rows × 12 columns</p>\n</div>"
     },
     "metadata": {},
     "output_type": "display_data"
    }
   ],
   "execution_count": 2
  },
  {
   "cell_type": "markdown",
   "source": "",
   "metadata": {
    "cell_id": "c170c4adda6b4c6cb9a407c5a21a51f2",
    "tags": [],
    "deepnote_cell_type": "markdown",
    "deepnote_cell_height": 46
   }
  },
  {
   "cell_type": "code",
   "source": "fig = plot_funcs.plot_3d_interactive(df_microbial_growth)\nfig.show()",
   "metadata": {
    "cell_id": "0eb1ad9dddd04db8ba40d05722ac3be5",
    "tags": [],
    "deepnote_to_be_reexecuted": false,
    "source_hash": "d5d855a",
    "execution_start": 1655312358825,
    "execution_millis": 397,
    "deepnote_cell_type": "code",
    "deepnote_cell_height": 642,
    "deepnote_output_heights": [
     527
    ]
   },
   "outputs": [
    {
     "data": {
      "text/html": "<html>\n<head><meta charset=\"utf-8\" /></head>\n<body>\n    <div>            <script src=\"https://cdnjs.cloudflare.com/ajax/libs/mathjax/2.7.5/MathJax.js?config=TeX-AMS-MML_SVG\"></script><script type=\"text/javascript\">if (window.MathJax) {MathJax.Hub.Config({SVG: {font: \"STIX-Web\"}});}</script>                <script type=\"text/javascript\">window.PlotlyConfig = {MathJaxConfig: 'local'};</script>\n        <script src=\"https://cdn.plot.ly/plotly-2.11.1.min.js\"></script>                <div id=\"338e417f-2efc-4782-a6aa-0fd87e541388\" class=\"plotly-graph-div\" style=\"height:525px; width:100%;\"></div>            <script type=\"text/javascript\">                                    window.PLOTLYENV=window.PLOTLYENV || {};                                    if (document.getElementById(\"338e417f-2efc-4782-a6aa-0fd87e541388\")) {                    Plotly.newPlot(                        \"338e417f-2efc-4782-a6aa-0fd87e541388\",                        [{\"hovertemplate\":\"generationtime=%{x}<br>growth_rate=%{y}<br>division_ratio=%{z}<extra></extra>\",\"legendgroup\":\"\",\"marker\":{\"color\":\"#636efa\",\"opacity\":0.7,\"symbol\":\"circle\",\"size\":3},\"mode\":\"markers\",\"name\":\"\",\"scene\":\"scene\",\"showlegend\":false,\"x\":[0.5,0.416666666666667,0.833333333333333,0.333333333333333,0.416666666666667,0.583333333333334,0.5,0.583333333333334,0.666666666666667,0.5,0.416666666666666,0.583333333333333,0.416666666666668,0.500000000000002,0.583333333333334,0.666666666666668,0.583333333333336,0.5,0.5,0.583333333333332,0.583333333333334,0.583333333333336,0.750000000000002,0.416666666666666,0.416666666666664,0.416666666666668,0.5,0.333333333333336,0.500000000000004,0.666666666666664,0.75,0.416666666666668,0.5,0.666666666666664,0.0833333333333322,0.333333333333336,0.666666666666668,0.666666666666664,0.666666666666668,0.583333333333336,0.666666666666668,0.666666666666664,0.583333333333336,0.583333333333336,0.500000000000004,0.416666666666664,0.583333333333336,0.583333333333329,0.416666666666664,0.583333333333329,0.666666666666671,0.5,0.583333333333336,0.583333333333336,0.583333333333329,0.416666666666664,0.583333333333336,0.416666666666664,0.5,0.583333333333329,1.0,0.583333333333329,0.666666666666664,0.5,0.5,0.666666666666671,0.583333333333329,0.666666666666664,0.5,0.583333333333329,0.583333333333336,0.583333333333329,0.416666666666664,0.5,0.666666666666671,0.583333333333329,0.5,0.333333333333329,0.583333333333329,0.333333333333329,0.583333333333336,0.583333333333336,0.583333333333329,0.5,0.500000000000007,0.416666666666671,0.583333333333329,0.416666666666671,0.583333333333336,0.583333333333336,0.583333333333329,0.416666666666671,0.333333333333336,0.583333333333336,0.416666666666664,0.499999999999993,0.666666666666664,0.666666666666664,0.333333333333322,0.499999999999993,0.583333333333322,0.416666666666671,0.5,0.583333333333343,0.5,0.5,0.333333333333329,0.583333333333343,0.5,0.666666666666671,0.666666666666671,0.416666666666671,0.5,0.583333333333343,0.583333333333329,0.75,0.666666666666657,0.500000000000014,0.499999999999986,0.416666666666671,0.5,0.5,0.499999999999986,0.583333333333329,0.666666666666657,0.500000000000014,0.583333333333329,0.416666666666671,0.499999999999986,0.666666666666671,0.583333333333329,0.583333333333343,0.416666666666657,0.333333333333343,0.583333333333329,0.416666666666671,0.583333333333329,0.583333333333343,0.916666666666657,0.166666666666671,0.416666666666671,0.416666666666657,0.583333333333343,0.583333333333329,0.666666666666671,0.5,0.5,0.583333333333329,0.5,0.833333333333329,0.333333333333329,0.666666666666671,0.416666666666671,0.5,0.583333333333329,0.75,0.416666666666657,0.500000000000014,0.666666666666657,0.583333333333329,0.499999999999986,0.333333333333329,0.416666666666671,0.583333333333329,0.583333333333343,0.583333333333329,0.5,0.5,0.583333333333343,0.0833333333333286,0.333333333333343,0.416666666666686,0.333333333333329,0.750000000000014,0.583333333333314,0.333333333333343,0.416666666666671,0.5,0.5,0.75,0.250000000000014,0.25,0.416666666666671,0.499999999999986,0.5,0.5,0.666666666666686,0.416666666666657,0.5,0.666666666666671,0.416666666666671,1.08333333333334,0.250000000000014,0.416666666666657,0.500000000000028,0.416666666666657,0.750000000000014,0.166666666666657,0.583333333333329,1.33333333333333,0.166666666666657,0.333333333333329,0.250000000000014,0.416666666666671,0.499999999999986,0.166666666666657,0.166666666666686,0.416666666666657,0.583333333333343,0.5,0.75,0.416666666666657,0.5,0.416666666666657,0.416666666666629,0.5,0.5,0.499999999999972,0.500000000000028,0.583333333333314,0.666666666666686,0.583333333333343,0.5,0.5,0.5,0.416666666666657,0.5,0.499999999999972,0.416666666666657,0.75,0.250000000000028,0.5,0.583333333333343,0.416666666666686,0.75,0.5,0.5,0.5,0.666666666666657,0.416666666666657,0.666666666666657,0.416666666666657,0.5,0.5,0.75,0.416666666666657,0.416666666666657,0.5,0.75,0.333333333333343,0.499999999999972],\"y\":[1.58996769779266,1.45894367754768,1.24484364438826,1.47046768972231,1.46271363961461,1.21672631608727,1.25844973367198,1.55616244704538,1.31564012578152,1.32653146164869,1.41833118794057,1.21499123385983,1.36269100939931,1.39447063505688,1.117007507524,1.11141071257723,1.40246459262158,1.49677184842928,1.38731747359571,1.41650405807123,1.40854801271802,1.28233429956722,1.32719537714499,1.48551452583427,1.44638629980432,1.56926067741922,1.61352501727956,1.50566630807291,0.75544674175313,1.09616834103149,1.27653159857402,1.35779913586979,1.27212426892942,1.16383502519424,3.751719160881,1.32686292056962,1.19147804161228,1.11019517846159,1.26840133796634,1.28286193236847,1.30501198754169,1.13629962120932,1.20288048760374,1.35097940549412,1.55312433327138,1.53373776354278,1.28345827790283,1.25416014651497,1.32903728483487,1.31302127071978,1.48149262931684,1.30582568725124,1.14602195497948,1.10994638805139,1.384458315671,1.49392830470346,1.37258878788424,1.3977806617166,1.26148846283505,1.35206102833955,1.09692417519962,1.24403836219481,1.26166232394566,1.26430900639261,1.08836086220233,1.18385001494373,1.27818236238099,1.39982629928307,1.22593863319961,1.2700234886566,1.14041106683455,1.36757105829579,1.50328357375832,1.38533376096551,1.2111243124865,1.43841324268478,1.50736159881019,1.71862980159466,1.39125414323798,1.69270849076914,1.27036299574104,1.54370275489594,1.47097794234935,1.4395492551013,1.44213106879945,1.61153922440873,1.56988690918843,1.5794978264445,1.22357820866379,1.30667207365708,1.49126619834021,1.64472913265767,1.70632652437159,1.53860135071521,1.34024094271753,1.52144648268319,1.14887163276518,1.20036476578158,1.72567539832883,1.30824543292856,1.15138512652416,1.21792005086252,1.36842239665188,1.46761548166505,1.35666304799126,1.55849473405123,1.36705998897913,1.30683930541864,1.27824471822397,1.33595079122536,1.32355446409803,1.24637111101373,1.26386645528722,1.19213004355736,0.965450959328068,1.20573130201149,1.32017371893433,1.45791198883581,1.49709746708186,1.70248818046327,1.43706864207516,1.48674030538449,1.29941250225922,1.37822679658525,1.37475423188521,1.36884026675078,1.18952482017699,1.24652380432837,1.27663603690283,1.26503846500699,1.43702416103118,1.41400669220603,1.54750197135041,1.66697137269214,1.42819834140728,1.58204709403289,1.29422173385757,1.21945298249403,1.2966966591189,1.63927599337559,1.56746656794511,1.24547115705272,1.20923183915458,1.10347116651474,1.20328911231391,1.32478257830889,1.15685368047523,1.12453609405292,1.1159711639413,1.20161170905962,1.53130270806178,1.39245998580246,1.33944657234926,1.25734195109386,1.35169199580693,1.19426746087483,1.29338628664571,1.32907915761393,1.17686024192699,1.35351773404866,1.55559420790356,1.50097468400714,1.3942679570977,1.29792421435725,1.32875801603057,1.20592673607872,1.16983160836832,1.36311018077135,1.60295305582265,4.07143555717965,1.96273365130093,1.45467511815329,1.70825431700368,1.16483094245423,1.32959341562282,1.66809583668743,1.73349360602893,1.57948291531864,1.3450755990792,1.47821742046584,1.60506549564534,1.4885469076066,1.24048790879664,1.49612639170055,1.41442425465511,1.70647409227667,1.52977033396716,1.64049206090611,1.45381491709841,1.24233170016156,1.35033227769166,1.2691807948079,1.68168796218348,1.27285241235683,1.40718226430765,1.40124049349115,1.25531950279874,1.82449483475967,1.43115440375181,1.17664372416701,1.56355746040611,1.70463775968286,1.32990478142082,1.36693248563393,1.57938300919514,2.74858830850692,2.70248440011313,1.96346986004161,1.31044856752778,1.28581849515305,1.18585833718319,1.44220979895897,1.4315228915214,1.48716555452225,2.09876112729817,1.40475027562321,1.59531859799669,1.42497086162506,1.49199127548106,1.2192692631931,1.36718755104658,1.19303843277558,1.20156963110122,1.16318383125732,1.24184171105205,1.36093292777145,1.1465281838095,1.37412832421382,1.40349505072671,1.41335839520369,1.95391283925391,1.50011266109621,1.53450724239101,0.505963594660099,1.11992624769889,1.83754251977613,1.47326622807315,1.13157413863201,1.3251773251424,1.02141116405552,1.27282056158076,1.46418287166494,1.34794760619328,1.32757253996662,1.18647956106598,1.59143283340043,1.41789294403747,1.20845345774503,1.39575376503312,1.44504330853929,1.42202240257664],\"z\":[0.456028002051387,0.469618916545778,0.505526075322566,0.446903409482841,0.482744438597171,0.51210160119141,0.483351917988853,0.491139841168619,0.465992331480415,0.488977993052723,0.50335492243449,0.526044351727723,0.502591308364701,0.459084025011339,0.530119107724709,0.47334054056287,0.482855366658186,0.441974191084596,0.467212827695769,0.514113952020246,0.455850376112461,0.50860022936137,0.439228507797942,0.527659390435334,0.476384498739974,0.506170387283319,0.512123907087556,0.499318478388998,0.506723876540554,0.488907343656099,0.513387276183995,0.470118174390581,0.521674569162284,0.483473167763778,0.427834496814097,0.960693946991404,0.477367902264965,0.465210038859102,0.453961286285557,0.479183122404599,0.471641795645758,0.484015591266423,0.484847585634072,0.458274945725016,0.485700997554413,0.501855003922552,0.49068490254818,0.482844166819735,0.432074626448321,0.484861772756954,0.498656865211802,0.490059779189076,0.525757328182465,0.519663880236889,0.481688614751534,0.460642368771912,0.464509909791053,0.516624980022872,0.452917958798043,0.513911160285985,0.400231682724131,0.403249345967592,0.49175600579316,0.524478109271294,0.488611405655756,0.514623120964561,0.46374840931682,0.433087507741273,0.486986862504124,0.517483424082118,0.513367183345375,0.46735324203877,0.511250738255512,0.470068612557422,0.486641699010392,0.47462810748484,0.496244516250822,0.520191671648149,0.455940849551168,0.453967522352102,0.459935774426496,0.426473313600944,0.494715609657311,0.427940908911195,0.524170362836771,0.52421653282822,0.426357794157551,0.463384047113578,0.519976732953094,0.526334829101889,0.485788098944219,0.455074077938204,0.460110713446955,0.482796237529727,0.441155033553389,0.499958252891759,0.529457814628094,0.477615782310247,0.531849081584962,0.521988971722122,0.516111089021078,0.590594779805941,0.452729705793309,0.473592671352342,0.481178917291245,0.485147543169193,0.484727048387442,0.520105940061214,0.515863411567386,0.44855071911401,0.418117013745512,0.548140299892856,0.504301743496529,0.47619714238456,0.548051368530973,0.470958486791677,0.520231072018187,0.47275915759586,0.463803580069947,0.481611733357232,0.494178618900276,0.417522875820243,0.470465238401095,0.464152032277289,0.511651434823076,0.471584099185687,0.552014046964566,0.555940523786342,0.445580825270018,0.480699315426475,0.463093729780274,0.423491035694639,0.538071390403616,0.498164078182811,0.447771508146558,0.426111462156472,0.551215949100775,0.548397164789088,0.544196549953829,0.508864388831158,0.503913104186435,0.479150754526781,0.530237436515199,0.487160058154586,0.515903549033189,0.470911685234219,0.493540401765346,0.497175055930065,0.542464880175607,0.410438166100033,0.542183645008808,0.470400472761782,0.51669505621626,0.478609585837723,0.432191218428418,0.475077477324668,0.494099332326523,0.574130644258401,0.497985449722834,0.533280388980524,0.47525412375977,0.522273356659054,0.496065983960273,0.439490357222528,0.543877814641304,0.508114524216546,0.554234395896107,0.467856906406584,0.471277484333633,0.442769742130525,0.955790704748722,0.440634036028267,0.522831555241377,0.554028792093529,0.474412651555841,0.516671383249737,0.469886502690515,0.501116720089667,0.453786037458072,0.535636687078413,0.539489569145166,0.489902631343216,0.540445665678585,0.446719787229708,0.463670782163028,0.426033607006262,0.357723235350301,0.513122111772403,0.445154286112664,0.453399469389353,0.475606918898389,0.525456186293102,0.543684606358965,0.539776453931707,0.505006168158393,0.541313406486291,0.503048448837853,0.527925367084191,0.490627281124101,0.417449446622987,0.581704744104079,0.474785697531685,0.555884361371051,0.470731306559354,0.48916816475134,0.397777228301025,0.990917846034598,0.380496316994561,0.54733458428149,0.46402682895663,0.448597697816748,0.527475983047368,0.454081942147981,0.537075714326576,0.4170772581334,0.453950740548031,0.473174815985019,0.467025294224763,0.429112809664143,0.471195022692037,0.486351707956408,0.520602797719542,0.558381794547072,0.488525167837765,0.522321927275374,0.527103377077688,0.521451276156129,0.613432875675116,0.497765812484219,0.530368125613601,0.466167660937107,0.465807394249753,0.413326589919328,0.442295504685158,0.527138566946803,0.501007694891863,0.551052503008305,0.508337798833839,0.524316657138139,0.526944142286266,0.506884365354374,0.502287380468444,0.496945090683618,0.475335449360069,0.464180632440849,0.51372764049108,0.520893067288242,0.507478130801968,0.550478268054699,0.500204158063523,0.422862987534087],\"type\":\"scatter3d\"}],                        {\"template\":{\"data\":{\"histogram2dcontour\":[{\"type\":\"histogram2dcontour\",\"colorbar\":{\"outlinewidth\":0,\"ticks\":\"\"},\"colorscale\":[[0.0,\"#0d0887\"],[0.1111111111111111,\"#46039f\"],[0.2222222222222222,\"#7201a8\"],[0.3333333333333333,\"#9c179e\"],[0.4444444444444444,\"#bd3786\"],[0.5555555555555556,\"#d8576b\"],[0.6666666666666666,\"#ed7953\"],[0.7777777777777778,\"#fb9f3a\"],[0.8888888888888888,\"#fdca26\"],[1.0,\"#f0f921\"]]}],\"choropleth\":[{\"type\":\"choropleth\",\"colorbar\":{\"outlinewidth\":0,\"ticks\":\"\"}}],\"histogram2d\":[{\"type\":\"histogram2d\",\"colorbar\":{\"outlinewidth\":0,\"ticks\":\"\"},\"colorscale\":[[0.0,\"#0d0887\"],[0.1111111111111111,\"#46039f\"],[0.2222222222222222,\"#7201a8\"],[0.3333333333333333,\"#9c179e\"],[0.4444444444444444,\"#bd3786\"],[0.5555555555555556,\"#d8576b\"],[0.6666666666666666,\"#ed7953\"],[0.7777777777777778,\"#fb9f3a\"],[0.8888888888888888,\"#fdca26\"],[1.0,\"#f0f921\"]]}],\"heatmap\":[{\"type\":\"heatmap\",\"colorbar\":{\"outlinewidth\":0,\"ticks\":\"\"},\"colorscale\":[[0.0,\"#0d0887\"],[0.1111111111111111,\"#46039f\"],[0.2222222222222222,\"#7201a8\"],[0.3333333333333333,\"#9c179e\"],[0.4444444444444444,\"#bd3786\"],[0.5555555555555556,\"#d8576b\"],[0.6666666666666666,\"#ed7953\"],[0.7777777777777778,\"#fb9f3a\"],[0.8888888888888888,\"#fdca26\"],[1.0,\"#f0f921\"]]}],\"heatmapgl\":[{\"type\":\"heatmapgl\",\"colorbar\":{\"outlinewidth\":0,\"ticks\":\"\"},\"colorscale\":[[0.0,\"#0d0887\"],[0.1111111111111111,\"#46039f\"],[0.2222222222222222,\"#7201a8\"],[0.3333333333333333,\"#9c179e\"],[0.4444444444444444,\"#bd3786\"],[0.5555555555555556,\"#d8576b\"],[0.6666666666666666,\"#ed7953\"],[0.7777777777777778,\"#fb9f3a\"],[0.8888888888888888,\"#fdca26\"],[1.0,\"#f0f921\"]]}],\"contourcarpet\":[{\"type\":\"contourcarpet\",\"colorbar\":{\"outlinewidth\":0,\"ticks\":\"\"}}],\"contour\":[{\"type\":\"contour\",\"colorbar\":{\"outlinewidth\":0,\"ticks\":\"\"},\"colorscale\":[[0.0,\"#0d0887\"],[0.1111111111111111,\"#46039f\"],[0.2222222222222222,\"#7201a8\"],[0.3333333333333333,\"#9c179e\"],[0.4444444444444444,\"#bd3786\"],[0.5555555555555556,\"#d8576b\"],[0.6666666666666666,\"#ed7953\"],[0.7777777777777778,\"#fb9f3a\"],[0.8888888888888888,\"#fdca26\"],[1.0,\"#f0f921\"]]}],\"surface\":[{\"type\":\"surface\",\"colorbar\":{\"outlinewidth\":0,\"ticks\":\"\"},\"colorscale\":[[0.0,\"#0d0887\"],[0.1111111111111111,\"#46039f\"],[0.2222222222222222,\"#7201a8\"],[0.3333333333333333,\"#9c179e\"],[0.4444444444444444,\"#bd3786\"],[0.5555555555555556,\"#d8576b\"],[0.6666666666666666,\"#ed7953\"],[0.7777777777777778,\"#fb9f3a\"],[0.8888888888888888,\"#fdca26\"],[1.0,\"#f0f921\"]]}],\"mesh3d\":[{\"type\":\"mesh3d\",\"colorbar\":{\"outlinewidth\":0,\"ticks\":\"\"}}],\"scatter\":[{\"fillpattern\":{\"fillmode\":\"overlay\",\"size\":10,\"solidity\":0.2},\"type\":\"scatter\"}],\"parcoords\":[{\"type\":\"parcoords\",\"line\":{\"colorbar\":{\"outlinewidth\":0,\"ticks\":\"\"}}}],\"scatterpolargl\":[{\"type\":\"scatterpolargl\",\"marker\":{\"colorbar\":{\"outlinewidth\":0,\"ticks\":\"\"}}}],\"bar\":[{\"error_x\":{\"color\":\"#2a3f5f\"},\"error_y\":{\"color\":\"#2a3f5f\"},\"marker\":{\"line\":{\"color\":\"#E5ECF6\",\"width\":0.5},\"pattern\":{\"fillmode\":\"overlay\",\"size\":10,\"solidity\":0.2}},\"type\":\"bar\"}],\"scattergeo\":[{\"type\":\"scattergeo\",\"marker\":{\"colorbar\":{\"outlinewidth\":0,\"ticks\":\"\"}}}],\"scatterpolar\":[{\"type\":\"scatterpolar\",\"marker\":{\"colorbar\":{\"outlinewidth\":0,\"ticks\":\"\"}}}],\"histogram\":[{\"marker\":{\"pattern\":{\"fillmode\":\"overlay\",\"size\":10,\"solidity\":0.2}},\"type\":\"histogram\"}],\"scattergl\":[{\"type\":\"scattergl\",\"marker\":{\"colorbar\":{\"outlinewidth\":0,\"ticks\":\"\"}}}],\"scatter3d\":[{\"type\":\"scatter3d\",\"line\":{\"colorbar\":{\"outlinewidth\":0,\"ticks\":\"\"}},\"marker\":{\"colorbar\":{\"outlinewidth\":0,\"ticks\":\"\"}}}],\"scattermapbox\":[{\"type\":\"scattermapbox\",\"marker\":{\"colorbar\":{\"outlinewidth\":0,\"ticks\":\"\"}}}],\"scatterternary\":[{\"type\":\"scatterternary\",\"marker\":{\"colorbar\":{\"outlinewidth\":0,\"ticks\":\"\"}}}],\"scattercarpet\":[{\"type\":\"scattercarpet\",\"marker\":{\"colorbar\":{\"outlinewidth\":0,\"ticks\":\"\"}}}],\"carpet\":[{\"aaxis\":{\"endlinecolor\":\"#2a3f5f\",\"gridcolor\":\"white\",\"linecolor\":\"white\",\"minorgridcolor\":\"white\",\"startlinecolor\":\"#2a3f5f\"},\"baxis\":{\"endlinecolor\":\"#2a3f5f\",\"gridcolor\":\"white\",\"linecolor\":\"white\",\"minorgridcolor\":\"white\",\"startlinecolor\":\"#2a3f5f\"},\"type\":\"carpet\"}],\"table\":[{\"cells\":{\"fill\":{\"color\":\"#EBF0F8\"},\"line\":{\"color\":\"white\"}},\"header\":{\"fill\":{\"color\":\"#C8D4E3\"},\"line\":{\"color\":\"white\"}},\"type\":\"table\"}],\"barpolar\":[{\"marker\":{\"line\":{\"color\":\"#E5ECF6\",\"width\":0.5},\"pattern\":{\"fillmode\":\"overlay\",\"size\":10,\"solidity\":0.2}},\"type\":\"barpolar\"}],\"pie\":[{\"automargin\":true,\"type\":\"pie\"}]},\"layout\":{\"autotypenumbers\":\"strict\",\"colorway\":[\"#636efa\",\"#EF553B\",\"#00cc96\",\"#ab63fa\",\"#FFA15A\",\"#19d3f3\",\"#FF6692\",\"#B6E880\",\"#FF97FF\",\"#FECB52\"],\"font\":{\"color\":\"#2a3f5f\"},\"hovermode\":\"closest\",\"hoverlabel\":{\"align\":\"left\"},\"paper_bgcolor\":\"white\",\"plot_bgcolor\":\"#E5ECF6\",\"polar\":{\"bgcolor\":\"#E5ECF6\",\"angularaxis\":{\"gridcolor\":\"white\",\"linecolor\":\"white\",\"ticks\":\"\"},\"radialaxis\":{\"gridcolor\":\"white\",\"linecolor\":\"white\",\"ticks\":\"\"}},\"ternary\":{\"bgcolor\":\"#E5ECF6\",\"aaxis\":{\"gridcolor\":\"white\",\"linecolor\":\"white\",\"ticks\":\"\"},\"baxis\":{\"gridcolor\":\"white\",\"linecolor\":\"white\",\"ticks\":\"\"},\"caxis\":{\"gridcolor\":\"white\",\"linecolor\":\"white\",\"ticks\":\"\"}},\"coloraxis\":{\"colorbar\":{\"outlinewidth\":0,\"ticks\":\"\"}},\"colorscale\":{\"sequential\":[[0.0,\"#0d0887\"],[0.1111111111111111,\"#46039f\"],[0.2222222222222222,\"#7201a8\"],[0.3333333333333333,\"#9c179e\"],[0.4444444444444444,\"#bd3786\"],[0.5555555555555556,\"#d8576b\"],[0.6666666666666666,\"#ed7953\"],[0.7777777777777778,\"#fb9f3a\"],[0.8888888888888888,\"#fdca26\"],[1.0,\"#f0f921\"]],\"sequentialminus\":[[0.0,\"#0d0887\"],[0.1111111111111111,\"#46039f\"],[0.2222222222222222,\"#7201a8\"],[0.3333333333333333,\"#9c179e\"],[0.4444444444444444,\"#bd3786\"],[0.5555555555555556,\"#d8576b\"],[0.6666666666666666,\"#ed7953\"],[0.7777777777777778,\"#fb9f3a\"],[0.8888888888888888,\"#fdca26\"],[1.0,\"#f0f921\"]],\"diverging\":[[0,\"#8e0152\"],[0.1,\"#c51b7d\"],[0.2,\"#de77ae\"],[0.3,\"#f1b6da\"],[0.4,\"#fde0ef\"],[0.5,\"#f7f7f7\"],[0.6,\"#e6f5d0\"],[0.7,\"#b8e186\"],[0.8,\"#7fbc41\"],[0.9,\"#4d9221\"],[1,\"#276419\"]]},\"xaxis\":{\"gridcolor\":\"white\",\"linecolor\":\"white\",\"ticks\":\"\",\"title\":{\"standoff\":15},\"zerolinecolor\":\"white\",\"automargin\":true,\"zerolinewidth\":2},\"yaxis\":{\"gridcolor\":\"white\",\"linecolor\":\"white\",\"ticks\":\"\",\"title\":{\"standoff\":15},\"zerolinecolor\":\"white\",\"automargin\":true,\"zerolinewidth\":2},\"scene\":{\"xaxis\":{\"backgroundcolor\":\"#E5ECF6\",\"gridcolor\":\"white\",\"linecolor\":\"white\",\"showbackground\":true,\"ticks\":\"\",\"zerolinecolor\":\"white\",\"gridwidth\":2},\"yaxis\":{\"backgroundcolor\":\"#E5ECF6\",\"gridcolor\":\"white\",\"linecolor\":\"white\",\"showbackground\":true,\"ticks\":\"\",\"zerolinecolor\":\"white\",\"gridwidth\":2},\"zaxis\":{\"backgroundcolor\":\"#E5ECF6\",\"gridcolor\":\"white\",\"linecolor\":\"white\",\"showbackground\":true,\"ticks\":\"\",\"zerolinecolor\":\"white\",\"gridwidth\":2}},\"shapedefaults\":{\"line\":{\"color\":\"#2a3f5f\"}},\"annotationdefaults\":{\"arrowcolor\":\"#2a3f5f\",\"arrowhead\":0,\"arrowwidth\":1},\"geo\":{\"bgcolor\":\"white\",\"landcolor\":\"#E5ECF6\",\"subunitcolor\":\"white\",\"showland\":true,\"showlakes\":true,\"lakecolor\":\"white\"},\"title\":{\"x\":0.05},\"mapbox\":{\"style\":\"light\"}}},\"scene\":{\"domain\":{\"x\":[0.0,1.0],\"y\":[0.0,1.0]},\"xaxis\":{\"title\":{\"text\":\"generationtime\"}},\"yaxis\":{\"title\":{\"text\":\"growth_rate\"}},\"zaxis\":{\"title\":{\"text\":\"division_ratio\"}},\"aspectmode\":\"cube\"},\"legend\":{\"tracegroupgap\":0},\"title\":{\"text\":\"Real Data\"}},                        {\"responsive\": true}                    ).then(function(){\n                            \nvar gd = document.getElementById('338e417f-2efc-4782-a6aa-0fd87e541388');\nvar x = new MutationObserver(function (mutations, observer) {{\n        var display = window.getComputedStyle(gd).display;\n        if (!display || display === 'none') {{\n            console.log([gd, 'removed!']);\n            Plotly.purge(gd);\n            observer.disconnect();\n        }}\n}});\n\n// Listen for the removal of the full notebook cells\nvar notebookContainer = gd.closest('#notebook-container');\nif (notebookContainer) {{\n    x.observe(notebookContainer, {childList: true});\n}}\n\n// Listen for the clearing of the current output cell\nvar outputEl = gd.closest('.output');\nif (outputEl) {{\n    x.observe(outputEl, {childList: true});\n}}\n\n                        })                };                            </script>        </div>\n</body>\n</html>"
     },
     "metadata": {},
     "output_type": "display_data"
    }
   ],
   "execution_count": 3
  },
  {
   "cell_type": "markdown",
   "source": "|                       |        |\n|:------------------------------------:|:----------------------------------:|\n| ![img](images/fit_beta.png) | ![img](images/fit_gamma.png) |\n",
   "metadata": {
    "cell_id": "e63e824eb91949139b0347c54f895356",
    "tags": [],
    "deepnote_cell_type": "markdown",
    "deepnote_cell_height": 323.359375
   }
  },
  {
   "cell_type": "markdown",
   "source": "<table style=\"border-collapse: collapse; border: none; border-spacing: 0px;\">\n\t<tr>\n\t\t<td style=\"border-width: 1px; border-style: solid; border-color: rgb(0, 0, 0); text-align: center; padding-right: 3pt; padding-left: 3pt;\">\n\t\t\t<b>      a     </b>\n\t\t</td>\n\t\t<td style=\"border-width: 1px; border-style: solid; border-color: rgb(0, 0, 0); text-align: center; padding-right: 3pt; padding-left: 3pt;\">\n\t\t\t<b>      b     </b>\n\t\t</td>\n\t\t<td style=\"padding-right: 3pt; padding-left: 3pt;\">\n\t\t\t<b>   </b>\n\t\t</td>\n\t\t<td style=\"padding-right: 3pt; padding-left: 3pt;\">\n\t\t\t<b>   </b>\n\t\t</td>\n\t\t<td style=\"padding-right: 3pt; padding-left: 3pt;\">\n\t\t</td>\n\t\t<td style=\"padding-right: 3pt; padding-left: 3pt;\">\n\t\t</td>\n\t\t<td style=\"border-width: 1px; border-style: solid; border-color: rgb(0, 0, 0); text-align: center; padding-right: 3pt; padding-left: 3pt;\">\n\t\t\t<b>        c       </b>\n\t\t</td>\n\t\t<td style=\"border-width: 1px; border-style: solid; border-color: rgb(0, 0, 0); text-align: center; padding-right: 3pt; padding-left: 3pt;\">\n\t\t\t<b>         d         </b>\n\t\t</td>\n\t</tr>\n\t<tr>\n\t\t<td style=\"border-width: 1px; border-style: solid; border-color: rgb(0, 0, 0); text-align: center; padding-right: 3pt; padding-left: 3pt;\">\n\t\t\t77 ± 6\n\t\t</td>\n\t\t<td style=\"border-width: 1px; border-style: solid; border-color: rgb(0, 0, 0); text-align: center; padding-right: 3pt; padding-left: 3pt;\">\n\t\t\t80 ± 6\n\t\t</td>\n\t\t<td style=\"padding-right: 3pt; padding-left: 3pt;\">\n\t\t</td>\n\t\t<td style=\"padding-right: 3pt; padding-left: 3pt;\">\n\t\t</td>\n\t\t<td style=\"padding-right: 3pt; padding-left: 3pt;\">\n\t\t</td>\n\t\t<td style=\"padding-right: 3pt; padding-left: 3pt;\">\n\t\t</td>\n\t\t<td style=\"border-width: 1px; border-style: solid; border-color: rgb(0, 0, 0); text-align: center; padding-right: 3pt; padding-left: 3pt;\">\n\t\t\t63.8 ± 2.6\n\t\t</td>\n\t\t<td style=\"border-width: 1px; border-style: solid; border-color: rgb(0, 0, 0); text-align: center; padding-right: 3pt; padding-left: 3pt;\">\n\t\t\t0.021 ± 0.001\n\t\t</td>\n\t</tr>\n</table>",
   "metadata": {
    "cell_id": "35b4c675c69e4e42ba1985837cc39c83",
    "tags": [],
    "deepnote_cell_type": "markdown",
    "deepnote_cell_height": 81.78125
   },
   "outputs": [],
   "execution_count": null
  },
  {
   "cell_type": "markdown",
   "source": "<table style=\"border-collapse: collapse; border: none; border-spacing: 0px;\">\n\t<tr>\n\t\t<td style=\"border-width: 1px; border-style: solid; border-color: rgb(0, 0, 0); text-align: center; padding-right: 3pt; padding-left: 3pt;\">\n\t\t\t<b>      Mean of division factor     </b>\n\t\t</td>\n\t\t<td style=\"border-width: 1px; border-style: solid; border-color: rgb(0, 0, 0); text-align: center; padding-right: 3pt; padding-left: 3pt;\">\n\t\t\t<b>      Variance of division factor     </b>\n\t\t</td>\n\t\t<td style=\"padding-right: 3pt; padding-left: 3pt;\">\n\t\t\t<b>   </b>\n\t\t</td>\n\t\t<td style=\"padding-right: 3pt; padding-left: 3pt;\">\n\t\t\t<b>   </b>\n\t\t</td>\n\t\t<td style=\"padding-right: 3pt; padding-left: 3pt;\">\n\t\t</td>\n\t\t<td style=\"padding-right: 3pt; padding-left: 3pt;\">\n\t\t</td>\n\t\t<td style=\"border-width: 1px; border-style: solid; border-color: rgb(0, 0, 0); text-align: center; padding-right: 3pt; padding-left: 3pt;\">\n\t\t\t<b>        Mean of growing factor       </b>\n\t\t</td>\n\t\t<td style=\"border-width: 1px; border-style: solid; border-color: rgb(0, 0, 0); text-align: center; padding-right: 3pt; padding-left: 3pt;\">\n\t\t\t<b>         Variance of growing factor         </b>\n\t\t</td>\n\t</tr>\n\t<tr>\n\t\t<td style=\"border-width: 1px; border-style: solid; border-color: rgb(0, 0, 0); text-align: center; padding-right: 3pt; padding-left: 3pt;\">\n\t\t\t0.49 ± 0.03\n\t\t</td>\n\t\t<td style=\"border-width: 1px; border-style: solid; border-color: rgb(0, 0, 0); text-align: center; padding-right: 3pt; padding-left: 3pt;\">\n\t\t\t(1.59 ± 0.09) * 10^{-3}\n\t\t</td>\n\t\t<td style=\"padding-right: 3pt; padding-left: 3pt;\">\n\t\t</td>\n\t\t<td style=\"padding-right: 3pt; padding-left: 3pt;\">\n\t\t</td>\n\t\t<td style=\"padding-right: 3pt; padding-left: 3pt;\">\n\t\t</td>\n\t\t<td style=\"padding-right: 3pt; padding-left: 3pt;\">\n\t\t</td>\n\t\t<td style=\"border-width: 1px; border-style: solid; border-color: rgb(0, 0, 0); text-align: center; padding-right: 3pt; padding-left: 3pt;\">\n\t\t\t1.36 ± 0.08\n\t\t</td>\n\t\t<td style=\"border-width: 1px; border-style: solid; border-color: rgb(0, 0, 0); text-align: center; padding-right: 3pt; padding-left: 3pt;\">\n\t\t\t0.029 ± 0.003\n\t\t</td>\n\t</tr>\n</table>",
   "metadata": {
    "cell_id": "748664a0b653493587776dbd33c95a67",
    "tags": [],
    "deepnote_cell_type": "markdown",
    "deepnote_cell_height": 81.78125
   }
  },
  {
   "cell_type": "markdown",
   "source": "## Data analysis with single models\nFor each model we create a Jupyter notebook, in which we run MCMC, analyze the chains, show the marginalized posterior distributions, simulate the time series using the inferred values of the parameters, compute the overlap and the predictive density. \n\nThese notebooks are collected in the folder [analysis_real_data](./analysis_real_data):\n- [Real data, Model 0](./analysis_real_data/REAL_Model_0.ipynb)\n- [Real data, Model 1](./analysis_real_data/REAL_Model_1.ipynb)\n- [Real data, Model 2](./analysis_real_data/REAL_Model_2.ipynb)\n\nFinally, in the following section we retrieve the results achieved with all models, in order to perform model comparison and validation. ",
   "metadata": {
    "cell_id": "e592348a643847b99713e8323bbe7c8a",
    "tags": [],
    "deepnote_cell_type": "markdown",
    "deepnote_cell_height": 335.578125
   }
  },
  {
   "cell_type": "markdown",
   "source": "# Final results\n",
   "metadata": {
    "cell_id": "b9a94b17a49e4a2da38b152e1e9fd140",
    "tags": [],
    "owner_user_id": "b13979ef-4b77-458b-bb3e-148a16361dfe",
    "deepnote_cell_type": "markdown",
    "deepnote_cell_height": 82
   }
  },
  {
   "cell_type": "markdown",
   "source": "## Inference results\n### Model 0",
   "metadata": {
    "cell_id": "9f6a72ac51dc404aa80e370a3e57939c",
    "tags": [],
    "deepnote_cell_type": "markdown",
    "deepnote_cell_height": 118
   }
  },
  {
   "cell_type": "code",
   "source": "df_mod0 = pd.read_csv('./data/model0.csv')\n\ndf_mod0 = df_mod0.round(4).rename({0: 'PosteriorMax',\n                          1: 'LowerBoundCI',\n                          2: 'UpperBoundCI'})\n\ndisplay(df_mod0)",
   "metadata": {
    "cell_id": "b081d558ef2846d0b3a0c50e9e3eb02a",
    "tags": [],
    "deepnote_to_be_reexecuted": false,
    "source_hash": "a50e4184",
    "execution_start": 1655312359228,
    "execution_millis": 32,
    "deepnote_cell_type": "code",
    "deepnote_cell_height": 436.265625
   },
   "outputs": [
    {
     "data": {
      "application/vnd.deepnote.dataframe.v3+json": {
       "column_count": 7,
       "row_count": 3,
       "columns": [
        {
         "name": "omega_2",
         "dtype": "float64",
         "stats": {
          "unique_count": 3,
          "nan_count": 0,
          "min": "2.0096",
          "max": "3.4782",
          "histogram": [
           {
            "bin_start": 2.0096,
            "bin_end": 2.15646,
            "count": 1
           },
           {
            "bin_start": 2.15646,
            "bin_end": 2.30332,
            "count": 0
           },
           {
            "bin_start": 2.30332,
            "bin_end": 2.45018,
            "count": 0
           },
           {
            "bin_start": 2.45018,
            "bin_end": 2.59704,
            "count": 1
           },
           {
            "bin_start": 2.59704,
            "bin_end": 2.7439,
            "count": 0
           },
           {
            "bin_start": 2.7439,
            "bin_end": 2.89076,
            "count": 0
           },
           {
            "bin_start": 2.89076,
            "bin_end": 3.0376200000000004,
            "count": 0
           },
           {
            "bin_start": 3.0376200000000004,
            "bin_end": 3.18448,
            "count": 0
           },
           {
            "bin_start": 3.18448,
            "bin_end": 3.33134,
            "count": 0
           },
           {
            "bin_start": 3.33134,
            "bin_end": 3.4782,
            "count": 1
           }
          ]
         }
        },
        {
         "name": "mu",
         "dtype": "float64",
         "stats": {
          "unique_count": 3,
          "nan_count": 0,
          "min": "0.5039",
          "max": "0.8641",
          "histogram": [
           {
            "bin_start": 0.5039,
            "bin_end": 0.53992,
            "count": 1
           },
           {
            "bin_start": 0.53992,
            "bin_end": 0.57594,
            "count": 0
           },
           {
            "bin_start": 0.57594,
            "bin_end": 0.6119600000000001,
            "count": 0
           },
           {
            "bin_start": 0.6119600000000001,
            "bin_end": 0.64798,
            "count": 0
           },
           {
            "bin_start": 0.64798,
            "bin_end": 0.6839999999999999,
            "count": 0
           },
           {
            "bin_start": 0.6839999999999999,
            "bin_end": 0.72002,
            "count": 1
           },
           {
            "bin_start": 0.72002,
            "bin_end": 0.75604,
            "count": 0
           },
           {
            "bin_start": 0.75604,
            "bin_end": 0.79206,
            "count": 0
           },
           {
            "bin_start": 0.79206,
            "bin_end": 0.8280799999999999,
            "count": 0
           },
           {
            "bin_start": 0.8280799999999999,
            "bin_end": 0.8641,
            "count": 1
           }
          ]
         }
        },
        {
         "name": "nu",
         "dtype": "float64",
         "stats": {
          "unique_count": 3,
          "nan_count": 0,
          "min": "0.5201",
          "max": "0.9454",
          "histogram": [
           {
            "bin_start": 0.5201,
            "bin_end": 0.56263,
            "count": 1
           },
           {
            "bin_start": 0.56263,
            "bin_end": 0.60516,
            "count": 0
           },
           {
            "bin_start": 0.60516,
            "bin_end": 0.64769,
            "count": 0
           },
           {
            "bin_start": 0.64769,
            "bin_end": 0.6902200000000001,
            "count": 0
           },
           {
            "bin_start": 0.6902200000000001,
            "bin_end": 0.73275,
            "count": 1
           },
           {
            "bin_start": 0.73275,
            "bin_end": 0.77528,
            "count": 0
           },
           {
            "bin_start": 0.77528,
            "bin_end": 0.8178099999999999,
            "count": 0
           },
           {
            "bin_start": 0.8178099999999999,
            "bin_end": 0.86034,
            "count": 0
           },
           {
            "bin_start": 0.86034,
            "bin_end": 0.9028700000000001,
            "count": 0
           },
           {
            "bin_start": 0.9028700000000001,
            "bin_end": 0.9454,
            "count": 1
           }
          ]
         }
        },
        {
         "name": "a",
         "dtype": "float64",
         "stats": {
          "unique_count": 3,
          "nan_count": 0,
          "min": "12.4258",
          "max": "17.4666",
          "histogram": [
           {
            "bin_start": 12.4258,
            "bin_end": 12.92988,
            "count": 1
           },
           {
            "bin_start": 12.92988,
            "bin_end": 13.43396,
            "count": 0
           },
           {
            "bin_start": 13.43396,
            "bin_end": 13.93804,
            "count": 0
           },
           {
            "bin_start": 13.93804,
            "bin_end": 14.44212,
            "count": 0
           },
           {
            "bin_start": 14.44212,
            "bin_end": 14.946200000000001,
            "count": 0
           },
           {
            "bin_start": 14.946200000000001,
            "bin_end": 15.45028,
            "count": 1
           },
           {
            "bin_start": 15.45028,
            "bin_end": 15.95436,
            "count": 0
           },
           {
            "bin_start": 15.95436,
            "bin_end": 16.45844,
            "count": 0
           },
           {
            "bin_start": 16.45844,
            "bin_end": 16.962519999999998,
            "count": 0
           },
           {
            "bin_start": 16.962519999999998,
            "bin_end": 17.4666,
            "count": 1
           }
          ]
         }
        },
        {
         "name": "b",
         "dtype": "float64",
         "stats": {
          "unique_count": 3,
          "nan_count": 0,
          "min": "12.4311",
          "max": "17.5026",
          "histogram": [
           {
            "bin_start": 12.4311,
            "bin_end": 12.93825,
            "count": 1
           },
           {
            "bin_start": 12.93825,
            "bin_end": 13.445400000000001,
            "count": 0
           },
           {
            "bin_start": 13.445400000000001,
            "bin_end": 13.95255,
            "count": 0
           },
           {
            "bin_start": 13.95255,
            "bin_end": 14.459700000000002,
            "count": 0
           },
           {
            "bin_start": 14.459700000000002,
            "bin_end": 14.96685,
            "count": 1
           },
           {
            "bin_start": 14.96685,
            "bin_end": 15.474,
            "count": 0
           },
           {
            "bin_start": 15.474,
            "bin_end": 15.98115,
            "count": 0
           },
           {
            "bin_start": 15.98115,
            "bin_end": 16.488300000000002,
            "count": 0
           },
           {
            "bin_start": 16.488300000000002,
            "bin_end": 16.99545,
            "count": 0
           },
           {
            "bin_start": 16.99545,
            "bin_end": 17.5026,
            "count": 1
           }
          ]
         }
        },
        {
         "name": "c",
         "dtype": "float64",
         "stats": {
          "unique_count": 3,
          "nan_count": 0,
          "min": "26.3398",
          "max": "35.0187",
          "histogram": [
           {
            "bin_start": 26.3398,
            "bin_end": 27.20769,
            "count": 1
           },
           {
            "bin_start": 27.20769,
            "bin_end": 28.075580000000002,
            "count": 0
           },
           {
            "bin_start": 28.075580000000002,
            "bin_end": 28.94347,
            "count": 0
           },
           {
            "bin_start": 28.94347,
            "bin_end": 29.81136,
            "count": 0
           },
           {
            "bin_start": 29.81136,
            "bin_end": 30.679250000000003,
            "count": 1
           },
           {
            "bin_start": 30.679250000000003,
            "bin_end": 31.547140000000002,
            "count": 0
           },
           {
            "bin_start": 31.547140000000002,
            "bin_end": 32.41503,
            "count": 0
           },
           {
            "bin_start": 32.41503,
            "bin_end": 33.282920000000004,
            "count": 0
           },
           {
            "bin_start": 33.282920000000004,
            "bin_end": 34.15081,
            "count": 0
           },
           {
            "bin_start": 34.15081,
            "bin_end": 35.0187,
            "count": 1
           }
          ]
         }
        },
        {
         "name": "d",
         "dtype": "float64",
         "stats": {
          "unique_count": 3,
          "nan_count": 0,
          "min": "0.0398",
          "max": "0.0531",
          "histogram": [
           {
            "bin_start": 0.0398,
            "bin_end": 0.04113,
            "count": 1
           },
           {
            "bin_start": 0.04113,
            "bin_end": 0.042460000000000005,
            "count": 0
           },
           {
            "bin_start": 0.042460000000000005,
            "bin_end": 0.04379,
            "count": 0
           },
           {
            "bin_start": 0.04379,
            "bin_end": 0.04512,
            "count": 0
           },
           {
            "bin_start": 0.04512,
            "bin_end": 0.046450000000000005,
            "count": 1
           },
           {
            "bin_start": 0.046450000000000005,
            "bin_end": 0.04778,
            "count": 0
           },
           {
            "bin_start": 0.04778,
            "bin_end": 0.04911,
            "count": 0
           },
           {
            "bin_start": 0.04911,
            "bin_end": 0.05044,
            "count": 0
           },
           {
            "bin_start": 0.05044,
            "bin_end": 0.051770000000000004,
            "count": 0
           },
           {
            "bin_start": 0.051770000000000004,
            "bin_end": 0.0531,
            "count": 1
           }
          ]
         }
        },
        {
         "name": "_deepnote_index_column",
         "dtype": "object"
        }
       ],
       "rows": [
        {
         "omega_2": 2.4957,
         "mu": 0.7126,
         "nu": 0.7143,
         "a": 15.2135,
         "b": 14.855,
         "c": 30.0316,
         "d": 0.0459,
         "_deepnote_index_column": "PosteriorMax"
        },
        {
         "omega_2": 2.0096,
         "mu": 0.5039,
         "nu": 0.5201,
         "a": 12.4258,
         "b": 12.4311,
         "c": 26.3398,
         "d": 0.0398,
         "_deepnote_index_column": "LowerBoundCI"
        },
        {
         "omega_2": 3.4782,
         "mu": 0.8641,
         "nu": 0.9454,
         "a": 17.4666,
         "b": 17.5026,
         "c": 35.0187,
         "d": 0.0531,
         "_deepnote_index_column": "UpperBoundCI"
        }
       ]
      },
      "text/plain": "              omega_2      mu      nu        a        b        c       d\nPosteriorMax   2.4957  0.7126  0.7143  15.2135  14.8550  30.0316  0.0459\nLowerBoundCI   2.0096  0.5039  0.5201  12.4258  12.4311  26.3398  0.0398\nUpperBoundCI   3.4782  0.8641  0.9454  17.4666  17.5026  35.0187  0.0531",
      "text/html": "<div>\n<style scoped>\n    .dataframe tbody tr th:only-of-type {\n        vertical-align: middle;\n    }\n\n    .dataframe tbody tr th {\n        vertical-align: top;\n    }\n\n    .dataframe thead th {\n        text-align: right;\n    }\n</style>\n<table border=\"1\" class=\"dataframe\">\n  <thead>\n    <tr style=\"text-align: right;\">\n      <th></th>\n      <th>omega_2</th>\n      <th>mu</th>\n      <th>nu</th>\n      <th>a</th>\n      <th>b</th>\n      <th>c</th>\n      <th>d</th>\n    </tr>\n  </thead>\n  <tbody>\n    <tr>\n      <th>PosteriorMax</th>\n      <td>2.4957</td>\n      <td>0.7126</td>\n      <td>0.7143</td>\n      <td>15.2135</td>\n      <td>14.8550</td>\n      <td>30.0316</td>\n      <td>0.0459</td>\n    </tr>\n    <tr>\n      <th>LowerBoundCI</th>\n      <td>2.0096</td>\n      <td>0.5039</td>\n      <td>0.5201</td>\n      <td>12.4258</td>\n      <td>12.4311</td>\n      <td>26.3398</td>\n      <td>0.0398</td>\n    </tr>\n    <tr>\n      <th>UpperBoundCI</th>\n      <td>3.4782</td>\n      <td>0.8641</td>\n      <td>0.9454</td>\n      <td>17.4666</td>\n      <td>17.5026</td>\n      <td>35.0187</td>\n      <td>0.0531</td>\n    </tr>\n  </tbody>\n</table>\n</div>"
     },
     "metadata": {},
     "output_type": "display_data"
    }
   ],
   "execution_count": 4
  },
  {
   "cell_type": "markdown",
   "source": "Most probable parameters, expressed in terms of mean and variance of the two distributions.\n<table style=\"border-collapse: collapse; border: none; border-spacing: 0px;\">\n\t<tr>\n\t\t<td style=\"border-width: 1px; border-style: solid; border-color: rgb(0, 0, 0); text-align: center; padding-right: 3pt; padding-left: 3pt;\">\n\t\t\t<b>      Mean of division factor     </b>\n\t\t</td>\n\t\t<td style=\"border-width: 1px; border-style: solid; border-color: rgb(0, 0, 0); text-align: center; padding-right: 3pt; padding-left: 3pt;\">\n\t\t\t<b>      Variance of division factor     </b>\n\t\t</td>\n\t\t<td style=\"padding-right: 3pt; padding-left: 3pt;\">\n\t\t\t<b>   </b>\n\t\t</td>\n\t\t<td style=\"padding-right: 3pt; padding-left: 3pt;\">\n\t\t\t<b>   </b>\n\t\t</td>\n\t\t<td style=\"padding-right: 3pt; padding-left: 3pt;\">\n\t\t</td>\n\t\t<td style=\"padding-right: 3pt; padding-left: 3pt;\">\n\t\t</td>\n\t\t<td style=\"border-width: 1px; border-style: solid; border-color: rgb(0, 0, 0); text-align: center; padding-right: 3pt; padding-left: 3pt;\">\n\t\t\t<b>        Mean of growing factor       </b>\n\t\t</td>\n\t\t<td style=\"border-width: 1px; border-style: solid; border-color: rgb(0, 0, 0); text-align: center; padding-right: 3pt; padding-left: 3pt;\">\n\t\t\t<b>         Variance of growing factor         </b>\n\t\t</td>\n\t</tr>\n\t<tr>\n\t\t<td style=\"border-width: 1px; border-style: solid; border-color: rgb(0, 0, 0); text-align: center; padding-right: 3pt; padding-left: 3pt;\">\n\t\t\t0.506\n\t\t</td>\n\t\t<td style=\"border-width: 1px; border-style: solid; border-color: rgb(0, 0, 0); text-align: center; padding-right: 3pt; padding-left: 3pt;\">\n\t\t\t0.00805\n\t\t</td>\n\t\t<td style=\"padding-right: 3pt; padding-left: 3pt;\">\n\t\t</td>\n\t\t<td style=\"padding-right: 3pt; padding-left: 3pt;\">\n\t\t</td>\n\t\t<td style=\"padding-right: 3pt; padding-left: 3pt;\">\n\t\t</td>\n\t\t<td style=\"padding-right: 3pt; padding-left: 3pt;\">\n\t\t</td>\n\t\t<td style=\"border-width: 1px; border-style: solid; border-color: rgb(0, 0, 0); text-align: center; padding-right: 3pt; padding-left: 3pt;\">\n\t\t\t1.38\n\t\t</td>\n\t\t<td style=\"border-width: 1px; border-style: solid; border-color: rgb(0, 0, 0); text-align: center; padding-right: 3pt; padding-left: 3pt;\">\n\t\t\t0.0633\n\t\t</td>\n\t</tr>\n</table>",
   "metadata": {
    "cell_id": "c9983a14b2884ef0b1051a47e40de3b8",
    "tags": [],
    "deepnote_cell_type": "markdown",
    "deepnote_cell_height": 118.1875
   }
  },
  {
   "cell_type": "code",
   "source": "print(\"mean division factor = \", df_mod0.loc[\"PosteriorMax\",['a','b','c','d']].values[0]/(df_mod0.loc[\"PosteriorMax\",['a','b','c','d']].values[0]+df_mod0.loc[\"PosteriorMax\",['a','b','c','d']].values[1]))\nprint(\"variance division factor = \", (df_mod0.loc[\"PosteriorMax\",['a','b','c','d']].values[0]*df_mod0.loc[\"PosteriorMax\",['a','b','c','d']].values[1])/(((df_mod0.loc[\"PosteriorMax\",['a','b','c','d']].values[0]+df_mod0.loc[\"PosteriorMax\",['a','b','c','d']].values[1])**2)*(df_mod0.loc[\"PosteriorMax\",['a','b','c','d']].values[0]+df_mod0.loc[\"PosteriorMax\",['a','b','c','d']].values[1]+1)))\n\nprint(\"\\nmean grow factor = \", df_mod0.loc[\"PosteriorMax\",['a','b','c','d']].values[2]*df_mod0.loc[\"PosteriorMax\",['a','b','c','d']].values[3])\nprint(\"variance grow factor = \", df_mod0.loc[\"PosteriorMax\",['a','b','c','d']].values[2]*df_mod0.loc[\"PosteriorMax\",['a','b','c','d']].values[3]**2)",
   "metadata": {
    "cell_id": "8a9cc7f34066400f8ef28faebfee07f6",
    "tags": [],
    "deepnote_to_be_reexecuted": false,
    "source_hash": "b7d1c0ba",
    "execution_start": 1655314678155,
    "execution_millis": 2,
    "is_code_hidden": true,
    "is_output_hidden": true,
    "deepnote_cell_type": "code",
    "deepnote_cell_height": 105.578125
   },
   "outputs": [
    {
     "name": "stdout",
     "text": "mean division factor =  0.5059613881636928\nvariance division factor =  0.00804559157510539\n\nmean grow factor =  1.3784504400000002\nvariance grow factor =  0.06327087519600001\n",
     "output_type": "stream"
    }
   ],
   "execution_count": 24
  },
  {
   "cell_type": "markdown",
   "source": "### Model 1",
   "metadata": {
    "cell_id": "fec3c391364144b58e228077825d6932",
    "tags": [],
    "deepnote_cell_type": "markdown",
    "deepnote_cell_height": 62
   }
  },
  {
   "cell_type": "code",
   "source": "df_mod1 = pd.read_csv('./data/model1.csv')\n\ndf_mod1 = df_mod1.round(4).rename({0: 'PosteriorMax',\n                          1: 'LowerBoundCI',\n                          2: 'UpperBoundCI'})\n\ndisplay(df_mod1)",
   "metadata": {
    "cell_id": "30ba76f734de439a8b35bc00b407f300",
    "tags": [],
    "deepnote_to_be_reexecuted": false,
    "source_hash": "a1cca2e",
    "execution_start": 1655312359262,
    "execution_millis": 31,
    "deepnote_cell_type": "code",
    "deepnote_cell_height": 436.265625
   },
   "outputs": [
    {
     "data": {
      "application/vnd.deepnote.dataframe.v3+json": {
       "column_count": 7,
       "row_count": 3,
       "columns": [
        {
         "name": "omega_2",
         "dtype": "float64",
         "stats": {
          "unique_count": 3,
          "nan_count": 0,
          "min": "0.3863",
          "max": "0.836",
          "histogram": [
           {
            "bin_start": 0.3863,
            "bin_end": 0.43127,
            "count": 1
           },
           {
            "bin_start": 0.43127,
            "bin_end": 0.47624,
            "count": 0
           },
           {
            "bin_start": 0.47624,
            "bin_end": 0.52121,
            "count": 0
           },
           {
            "bin_start": 0.52121,
            "bin_end": 0.5661799999999999,
            "count": 0
           },
           {
            "bin_start": 0.5661799999999999,
            "bin_end": 0.61115,
            "count": 1
           },
           {
            "bin_start": 0.61115,
            "bin_end": 0.6561199999999999,
            "count": 0
           },
           {
            "bin_start": 0.6561199999999999,
            "bin_end": 0.70109,
            "count": 0
           },
           {
            "bin_start": 0.70109,
            "bin_end": 0.74606,
            "count": 0
           },
           {
            "bin_start": 0.74606,
            "bin_end": 0.7910299999999999,
            "count": 0
           },
           {
            "bin_start": 0.7910299999999999,
            "bin_end": 0.836,
            "count": 1
           }
          ]
         }
        },
        {
         "name": "mu",
         "dtype": "float64",
         "stats": {
          "unique_count": 3,
          "nan_count": 0,
          "min": "0.0513",
          "max": "0.6681",
          "histogram": [
           {
            "bin_start": 0.0513,
            "bin_end": 0.11298,
            "count": 1
           },
           {
            "bin_start": 0.11298,
            "bin_end": 0.17465999999999998,
            "count": 0
           },
           {
            "bin_start": 0.17465999999999998,
            "bin_end": 0.23634,
            "count": 0
           },
           {
            "bin_start": 0.23634,
            "bin_end": 0.29802,
            "count": 1
           },
           {
            "bin_start": 0.29802,
            "bin_end": 0.3597,
            "count": 0
           },
           {
            "bin_start": 0.3597,
            "bin_end": 0.42138,
            "count": 0
           },
           {
            "bin_start": 0.42138,
            "bin_end": 0.48306,
            "count": 0
           },
           {
            "bin_start": 0.48306,
            "bin_end": 0.54474,
            "count": 0
           },
           {
            "bin_start": 0.54474,
            "bin_end": 0.60642,
            "count": 0
           },
           {
            "bin_start": 0.60642,
            "bin_end": 0.6681,
            "count": 1
           }
          ]
         }
        },
        {
         "name": "nu",
         "dtype": "float64",
         "stats": {
          "unique_count": 3,
          "nan_count": 0,
          "min": "0.6309",
          "max": "1.9036",
          "histogram": [
           {
            "bin_start": 0.6309,
            "bin_end": 0.75817,
            "count": 1
           },
           {
            "bin_start": 0.75817,
            "bin_end": 0.88544,
            "count": 0
           },
           {
            "bin_start": 0.88544,
            "bin_end": 1.01271,
            "count": 1
           },
           {
            "bin_start": 1.01271,
            "bin_end": 1.13998,
            "count": 0
           },
           {
            "bin_start": 1.13998,
            "bin_end": 1.26725,
            "count": 0
           },
           {
            "bin_start": 1.26725,
            "bin_end": 1.39452,
            "count": 0
           },
           {
            "bin_start": 1.39452,
            "bin_end": 1.52179,
            "count": 0
           },
           {
            "bin_start": 1.52179,
            "bin_end": 1.64906,
            "count": 0
           },
           {
            "bin_start": 1.64906,
            "bin_end": 1.77633,
            "count": 0
           },
           {
            "bin_start": 1.77633,
            "bin_end": 1.9036,
            "count": 1
           }
          ]
         }
        },
        {
         "name": "a",
         "dtype": "float64",
         "stats": {
          "unique_count": 3,
          "nan_count": 0,
          "min": "12.4077",
          "max": "17.674",
          "histogram": [
           {
            "bin_start": 12.4077,
            "bin_end": 12.93433,
            "count": 1
           },
           {
            "bin_start": 12.93433,
            "bin_end": 13.46096,
            "count": 0
           },
           {
            "bin_start": 13.46096,
            "bin_end": 13.98759,
            "count": 0
           },
           {
            "bin_start": 13.98759,
            "bin_end": 14.51422,
            "count": 0
           },
           {
            "bin_start": 14.51422,
            "bin_end": 15.040849999999999,
            "count": 1
           },
           {
            "bin_start": 15.040849999999999,
            "bin_end": 15.56748,
            "count": 0
           },
           {
            "bin_start": 15.56748,
            "bin_end": 16.09411,
            "count": 0
           },
           {
            "bin_start": 16.09411,
            "bin_end": 16.620739999999998,
            "count": 0
           },
           {
            "bin_start": 16.620739999999998,
            "bin_end": 17.14737,
            "count": 0
           },
           {
            "bin_start": 17.14737,
            "bin_end": 17.674,
            "count": 1
           }
          ]
         }
        },
        {
         "name": "b",
         "dtype": "float64",
         "stats": {
          "unique_count": 3,
          "nan_count": 0,
          "min": "12.3555",
          "max": "17.6935",
          "histogram": [
           {
            "bin_start": 12.3555,
            "bin_end": 12.889299999999999,
            "count": 1
           },
           {
            "bin_start": 12.889299999999999,
            "bin_end": 13.4231,
            "count": 0
           },
           {
            "bin_start": 13.4231,
            "bin_end": 13.9569,
            "count": 0
           },
           {
            "bin_start": 13.9569,
            "bin_end": 14.4907,
            "count": 0
           },
           {
            "bin_start": 14.4907,
            "bin_end": 15.0245,
            "count": 1
           },
           {
            "bin_start": 15.0245,
            "bin_end": 15.5583,
            "count": 0
           },
           {
            "bin_start": 15.5583,
            "bin_end": 16.0921,
            "count": 0
           },
           {
            "bin_start": 16.0921,
            "bin_end": 16.6259,
            "count": 0
           },
           {
            "bin_start": 16.6259,
            "bin_end": 17.1597,
            "count": 0
           },
           {
            "bin_start": 17.1597,
            "bin_end": 17.6935,
            "count": 1
           }
          ]
         }
        },
        {
         "name": "c",
         "dtype": "float64",
         "stats": {
          "unique_count": 3,
          "nan_count": 0,
          "min": "26.5016",
          "max": "35.1786",
          "histogram": [
           {
            "bin_start": 26.5016,
            "bin_end": 27.3693,
            "count": 1
           },
           {
            "bin_start": 27.3693,
            "bin_end": 28.237000000000002,
            "count": 0
           },
           {
            "bin_start": 28.237000000000002,
            "bin_end": 29.1047,
            "count": 0
           },
           {
            "bin_start": 29.1047,
            "bin_end": 29.9724,
            "count": 0
           },
           {
            "bin_start": 29.9724,
            "bin_end": 30.8401,
            "count": 1
           },
           {
            "bin_start": 30.8401,
            "bin_end": 31.707800000000002,
            "count": 0
           },
           {
            "bin_start": 31.707800000000002,
            "bin_end": 32.575500000000005,
            "count": 0
           },
           {
            "bin_start": 32.575500000000005,
            "bin_end": 33.443200000000004,
            "count": 0
           },
           {
            "bin_start": 33.443200000000004,
            "bin_end": 34.310900000000004,
            "count": 0
           },
           {
            "bin_start": 34.310900000000004,
            "bin_end": 35.1786,
            "count": 1
           }
          ]
         }
        },
        {
         "name": "d",
         "dtype": "float64",
         "stats": {
          "unique_count": 3,
          "nan_count": 0,
          "min": "0.0398",
          "max": "0.0527",
          "histogram": [
           {
            "bin_start": 0.0398,
            "bin_end": 0.04109,
            "count": 1
           },
           {
            "bin_start": 0.04109,
            "bin_end": 0.04238,
            "count": 0
           },
           {
            "bin_start": 0.04238,
            "bin_end": 0.04367,
            "count": 0
           },
           {
            "bin_start": 0.04367,
            "bin_end": 0.04496,
            "count": 0
           },
           {
            "bin_start": 0.04496,
            "bin_end": 0.04625,
            "count": 1
           },
           {
            "bin_start": 0.04625,
            "bin_end": 0.04754,
            "count": 0
           },
           {
            "bin_start": 0.04754,
            "bin_end": 0.04883,
            "count": 0
           },
           {
            "bin_start": 0.04883,
            "bin_end": 0.05012,
            "count": 0
           },
           {
            "bin_start": 0.05012,
            "bin_end": 0.05141,
            "count": 0
           },
           {
            "bin_start": 0.05141,
            "bin_end": 0.0527,
            "count": 1
           }
          ]
         }
        },
        {
         "name": "_deepnote_index_column",
         "dtype": "object"
        }
       ],
       "rows": [
        {
         "omega_2": 0.5681,
         "mu": 0.2586,
         "nu": 0.9579,
         "a": 14.8414,
         "b": 14.9841,
         "c": 30.5302,
         "d": 0.0452,
         "_deepnote_index_column": "PosteriorMax"
        },
        {
         "omega_2": 0.3863,
         "mu": 0.0513,
         "nu": 0.6309,
         "a": 12.4077,
         "b": 12.3555,
         "c": 26.5016,
         "d": 0.0398,
         "_deepnote_index_column": "LowerBoundCI"
        },
        {
         "omega_2": 0.836,
         "mu": 0.6681,
         "nu": 1.9036,
         "a": 17.674,
         "b": 17.6935,
         "c": 35.1786,
         "d": 0.0527,
         "_deepnote_index_column": "UpperBoundCI"
        }
       ]
      },
      "text/plain": "              omega_2      mu      nu        a        b        c       d\nPosteriorMax   0.5681  0.2586  0.9579  14.8414  14.9841  30.5302  0.0452\nLowerBoundCI   0.3863  0.0513  0.6309  12.4077  12.3555  26.5016  0.0398\nUpperBoundCI   0.8360  0.6681  1.9036  17.6740  17.6935  35.1786  0.0527",
      "text/html": "<div>\n<style scoped>\n    .dataframe tbody tr th:only-of-type {\n        vertical-align: middle;\n    }\n\n    .dataframe tbody tr th {\n        vertical-align: top;\n    }\n\n    .dataframe thead th {\n        text-align: right;\n    }\n</style>\n<table border=\"1\" class=\"dataframe\">\n  <thead>\n    <tr style=\"text-align: right;\">\n      <th></th>\n      <th>omega_2</th>\n      <th>mu</th>\n      <th>nu</th>\n      <th>a</th>\n      <th>b</th>\n      <th>c</th>\n      <th>d</th>\n    </tr>\n  </thead>\n  <tbody>\n    <tr>\n      <th>PosteriorMax</th>\n      <td>0.5681</td>\n      <td>0.2586</td>\n      <td>0.9579</td>\n      <td>14.8414</td>\n      <td>14.9841</td>\n      <td>30.5302</td>\n      <td>0.0452</td>\n    </tr>\n    <tr>\n      <th>LowerBoundCI</th>\n      <td>0.3863</td>\n      <td>0.0513</td>\n      <td>0.6309</td>\n      <td>12.4077</td>\n      <td>12.3555</td>\n      <td>26.5016</td>\n      <td>0.0398</td>\n    </tr>\n    <tr>\n      <th>UpperBoundCI</th>\n      <td>0.8360</td>\n      <td>0.6681</td>\n      <td>1.9036</td>\n      <td>17.6740</td>\n      <td>17.6935</td>\n      <td>35.1786</td>\n      <td>0.0527</td>\n    </tr>\n  </tbody>\n</table>\n</div>"
     },
     "metadata": {},
     "output_type": "display_data"
    }
   ],
   "execution_count": 5
  },
  {
   "cell_type": "markdown",
   "source": "Most probable parameters, expressed in terms of mean and variance of the two distributions.\n<table style=\"border-collapse: collapse; border: none; border-spacing: 0px;\">\n\t<tr>\n\t\t<td style=\"border-width: 1px; border-style: solid; border-color: rgb(0, 0, 0); text-align: center; padding-right: 3pt; padding-left: 3pt;\">\n\t\t\t<b>      Mean of division factor     </b>\n\t\t</td>\n\t\t<td style=\"border-width: 1px; border-style: solid; border-color: rgb(0, 0, 0); text-align: center; padding-right: 3pt; padding-left: 3pt;\">\n\t\t\t<b>      Variance of division factor     </b>\n\t\t</td>\n\t\t<td style=\"padding-right: 3pt; padding-left: 3pt;\">\n\t\t\t<b>   </b>\n\t\t</td>\n\t\t<td style=\"padding-right: 3pt; padding-left: 3pt;\">\n\t\t\t<b>   </b>\n\t\t</td>\n\t\t<td style=\"padding-right: 3pt; padding-left: 3pt;\">\n\t\t</td>\n\t\t<td style=\"padding-right: 3pt; padding-left: 3pt;\">\n\t\t</td>\n\t\t<td style=\"border-width: 1px; border-style: solid; border-color: rgb(0, 0, 0); text-align: center; padding-right: 3pt; padding-left: 3pt;\">\n\t\t\t<b>        Mean of growing factor       </b>\n\t\t</td>\n\t\t<td style=\"border-width: 1px; border-style: solid; border-color: rgb(0, 0, 0); text-align: center; padding-right: 3pt; padding-left: 3pt;\">\n\t\t\t<b>         Variance of growing factor         </b>\n\t\t</td>\n\t</tr>\n\t<tr>\n\t\t<td style=\"border-width: 1px; border-style: solid; border-color: rgb(0, 0, 0); text-align: center; padding-right: 3pt; padding-left: 3pt;\">\n\t\t\t0.498\n\t\t</td>\n\t\t<td style=\"border-width: 1px; border-style: solid; border-color: rgb(0, 0, 0); text-align: center; padding-right: 3pt; padding-left: 3pt;\">\n\t\t\t0.00811\n\t\t</td>\n\t\t<td style=\"padding-right: 3pt; padding-left: 3pt;\">\n\t\t</td>\n\t\t<td style=\"padding-right: 3pt; padding-left: 3pt;\">\n\t\t</td>\n\t\t<td style=\"padding-right: 3pt; padding-left: 3pt;\">\n\t\t</td>\n\t\t<td style=\"padding-right: 3pt; padding-left: 3pt;\">\n\t\t</td>\n\t\t<td style=\"border-width: 1px; border-style: solid; border-color: rgb(0, 0, 0); text-align: center; padding-right: 3pt; padding-left: 3pt;\">\n\t\t\t1.38\n\t\t</td>\n\t\t<td style=\"border-width: 1px; border-style: solid; border-color: rgb(0, 0, 0); text-align: center; padding-right: 3pt; padding-left: 3pt;\">\n\t\t\t0.0624\n\t\t</td>\n\t</tr>\n</table>",
   "metadata": {
    "cell_id": "c931d3e72fc648c0981666a6d572853b",
    "tags": [],
    "deepnote_cell_type": "markdown",
    "deepnote_cell_height": 118.1875
   }
  },
  {
   "cell_type": "code",
   "source": "print(\"mean division factor = \", df_mod1.loc[\"PosteriorMax\",['a','b','c','d']].values[0]/(df_mod1.loc[\"PosteriorMax\",['a','b','c','d']].values[0]+df_mod1.loc[\"PosteriorMax\",['a','b','c','d']].values[1]))\nprint(\"variance division factor = \", (df_mod1.loc[\"PosteriorMax\",['a','b','c','d']].values[0]*df_mod1.loc[\"PosteriorMax\",['a','b','c','d']].values[1])/(((df_mod1.loc[\"PosteriorMax\",['a','b','c','d']].values[0]+df_mod1.loc[\"PosteriorMax\",['a','b','c','d']].values[1])**2)*(df_mod1.loc[\"PosteriorMax\",['a','b','c','d']].values[0]+df_mod1.loc[\"PosteriorMax\",['a','b','c','d']].values[1]+1)))\n\nprint(\"\\nmean grow factor = \", df_mod1.loc[\"PosteriorMax\",['a','b','c','d']].values[2]*df_mod1.loc[\"PosteriorMax\",['a','b','c','d']].values[3])\nprint(\"variance grow factor = \", df_mod1.loc[\"PosteriorMax\",['a','b','c','d']].values[2]*df_mod1.loc[\"PosteriorMax\",['a','b','c','d']].values[3]**2)",
   "metadata": {
    "cell_id": "4230b8affc8e479783c53bc25bc1684b",
    "tags": [],
    "deepnote_to_be_reexecuted": false,
    "source_hash": "3b3c8ce5",
    "execution_start": 1655315030432,
    "execution_millis": 6,
    "is_code_hidden": true,
    "is_output_hidden": true,
    "deepnote_cell_type": "code",
    "deepnote_cell_height": 105.578125
   },
   "outputs": [
    {
     "name": "stdout",
     "text": "mean division factor =  0.4976077517560477\nvariance division factor =  0.008109982876136294\n\nmean grow factor =  1.3799650399999999\nvariance grow factor =  0.062374419808\n",
     "output_type": "stream"
    }
   ],
   "execution_count": 25
  },
  {
   "cell_type": "markdown",
   "source": "### Model 2",
   "metadata": {
    "cell_id": "66da695d4386460688d9497f777445e8",
    "tags": [],
    "deepnote_cell_type": "markdown",
    "deepnote_cell_height": 62
   }
  },
  {
   "cell_type": "code",
   "source": "df_mod2 = pd.read_csv('./data/model2.csv')\n\ndf_mod2 = df_mod2.round(4).rename({0: 'PosteriorMax',\n                          1: 'LowerBoundCI',\n                          2: 'UpperBoundCI'})\n\ndisplay(df_mod2)",
   "metadata": {
    "cell_id": "fafbeb0b917442a1be0a1451bacc22e5",
    "tags": [],
    "deepnote_to_be_reexecuted": false,
    "source_hash": "11d2e925",
    "execution_start": 1655312359324,
    "execution_millis": 4,
    "deepnote_cell_type": "code",
    "deepnote_cell_height": 436.265625
   },
   "outputs": [
    {
     "data": {
      "application/vnd.deepnote.dataframe.v3+json": {
       "column_count": 7,
       "row_count": 3,
       "columns": [
        {
         "name": "omega_2",
         "dtype": "float64",
         "stats": {
          "unique_count": 3,
          "nan_count": 0,
          "min": "0.81",
          "max": "1.5331",
          "histogram": [
           {
            "bin_start": 0.81,
            "bin_end": 0.88231,
            "count": 1
           },
           {
            "bin_start": 0.88231,
            "bin_end": 0.95462,
            "count": 0
           },
           {
            "bin_start": 0.95462,
            "bin_end": 1.0269300000000001,
            "count": 0
           },
           {
            "bin_start": 1.0269300000000001,
            "bin_end": 1.09924,
            "count": 0
           },
           {
            "bin_start": 1.09924,
            "bin_end": 1.1715499999999999,
            "count": 0
           },
           {
            "bin_start": 1.1715499999999999,
            "bin_end": 1.24386,
            "count": 1
           },
           {
            "bin_start": 1.24386,
            "bin_end": 1.31617,
            "count": 0
           },
           {
            "bin_start": 1.31617,
            "bin_end": 1.38848,
            "count": 0
           },
           {
            "bin_start": 1.38848,
            "bin_end": 1.4607899999999998,
            "count": 0
           },
           {
            "bin_start": 1.4607899999999998,
            "bin_end": 1.5331,
            "count": 1
           }
          ]
         }
        },
        {
         "name": "mu",
         "dtype": "float64",
         "stats": {
          "unique_count": 3,
          "nan_count": 0,
          "min": "0.1879",
          "max": "0.5482",
          "histogram": [
           {
            "bin_start": 0.1879,
            "bin_end": 0.22393000000000002,
            "count": 1
           },
           {
            "bin_start": 0.22393000000000002,
            "bin_end": 0.25996,
            "count": 0
           },
           {
            "bin_start": 0.25996,
            "bin_end": 0.29599,
            "count": 0
           },
           {
            "bin_start": 0.29599,
            "bin_end": 0.33202,
            "count": 0
           },
           {
            "bin_start": 0.33202,
            "bin_end": 0.36805,
            "count": 0
           },
           {
            "bin_start": 0.36805,
            "bin_end": 0.40408,
            "count": 0
           },
           {
            "bin_start": 0.40408,
            "bin_end": 0.44011,
            "count": 0
           },
           {
            "bin_start": 0.44011,
            "bin_end": 0.47614,
            "count": 0
           },
           {
            "bin_start": 0.47614,
            "bin_end": 0.51217,
            "count": 0
           },
           {
            "bin_start": 0.51217,
            "bin_end": 0.5482,
            "count": 2
           }
          ]
         }
        },
        {
         "name": "nu",
         "dtype": "float64",
         "stats": {
          "unique_count": 3,
          "nan_count": 0,
          "min": "0.4387",
          "max": "0.9984",
          "histogram": [
           {
            "bin_start": 0.4387,
            "bin_end": 0.49467,
            "count": 1
           },
           {
            "bin_start": 0.49467,
            "bin_end": 0.55064,
            "count": 0
           },
           {
            "bin_start": 0.55064,
            "bin_end": 0.60661,
            "count": 1
           },
           {
            "bin_start": 0.60661,
            "bin_end": 0.66258,
            "count": 0
           },
           {
            "bin_start": 0.66258,
            "bin_end": 0.71855,
            "count": 0
           },
           {
            "bin_start": 0.71855,
            "bin_end": 0.77452,
            "count": 0
           },
           {
            "bin_start": 0.77452,
            "bin_end": 0.83049,
            "count": 0
           },
           {
            "bin_start": 0.83049,
            "bin_end": 0.88646,
            "count": 0
           },
           {
            "bin_start": 0.88646,
            "bin_end": 0.94243,
            "count": 0
           },
           {
            "bin_start": 0.94243,
            "bin_end": 0.9984,
            "count": 1
           }
          ]
         }
        },
        {
         "name": "a",
         "dtype": "float64",
         "stats": {
          "unique_count": 3,
          "nan_count": 0,
          "min": "12.5431",
          "max": "17.6744",
          "histogram": [
           {
            "bin_start": 12.5431,
            "bin_end": 13.056230000000001,
            "count": 1
           },
           {
            "bin_start": 13.056230000000001,
            "bin_end": 13.56936,
            "count": 0
           },
           {
            "bin_start": 13.56936,
            "bin_end": 14.08249,
            "count": 0
           },
           {
            "bin_start": 14.08249,
            "bin_end": 14.59562,
            "count": 0
           },
           {
            "bin_start": 14.59562,
            "bin_end": 15.10875,
            "count": 1
           },
           {
            "bin_start": 15.10875,
            "bin_end": 15.621879999999999,
            "count": 0
           },
           {
            "bin_start": 15.621879999999999,
            "bin_end": 16.135009999999998,
            "count": 0
           },
           {
            "bin_start": 16.135009999999998,
            "bin_end": 16.648139999999998,
            "count": 0
           },
           {
            "bin_start": 16.648139999999998,
            "bin_end": 17.16127,
            "count": 0
           },
           {
            "bin_start": 17.16127,
            "bin_end": 17.6744,
            "count": 1
           }
          ]
         }
        },
        {
         "name": "b",
         "dtype": "float64",
         "stats": {
          "unique_count": 3,
          "nan_count": 0,
          "min": "12.524",
          "max": "17.6486",
          "histogram": [
           {
            "bin_start": 12.524,
            "bin_end": 13.036459999999998,
            "count": 1
           },
           {
            "bin_start": 13.036459999999998,
            "bin_end": 13.548919999999999,
            "count": 0
           },
           {
            "bin_start": 13.548919999999999,
            "bin_end": 14.06138,
            "count": 0
           },
           {
            "bin_start": 14.06138,
            "bin_end": 14.573839999999999,
            "count": 1
           },
           {
            "bin_start": 14.573839999999999,
            "bin_end": 15.086299999999998,
            "count": 0
           },
           {
            "bin_start": 15.086299999999998,
            "bin_end": 15.598759999999999,
            "count": 0
           },
           {
            "bin_start": 15.598759999999999,
            "bin_end": 16.11122,
            "count": 0
           },
           {
            "bin_start": 16.11122,
            "bin_end": 16.62368,
            "count": 0
           },
           {
            "bin_start": 16.62368,
            "bin_end": 17.136139999999997,
            "count": 0
           },
           {
            "bin_start": 17.136139999999997,
            "bin_end": 17.6486,
            "count": 1
           }
          ]
         }
        },
        {
         "name": "c",
         "dtype": "float64",
         "stats": {
          "unique_count": 3,
          "nan_count": 0,
          "min": "26.41",
          "max": "35.0389",
          "histogram": [
           {
            "bin_start": 26.41,
            "bin_end": 27.27289,
            "count": 1
           },
           {
            "bin_start": 27.27289,
            "bin_end": 28.13578,
            "count": 0
           },
           {
            "bin_start": 28.13578,
            "bin_end": 28.99867,
            "count": 0
           },
           {
            "bin_start": 28.99867,
            "bin_end": 29.86156,
            "count": 0
           },
           {
            "bin_start": 29.86156,
            "bin_end": 30.724449999999997,
            "count": 1
           },
           {
            "bin_start": 30.724449999999997,
            "bin_end": 31.587339999999998,
            "count": 0
           },
           {
            "bin_start": 31.587339999999998,
            "bin_end": 32.45023,
            "count": 0
           },
           {
            "bin_start": 32.45023,
            "bin_end": 33.31312,
            "count": 0
           },
           {
            "bin_start": 33.31312,
            "bin_end": 34.17601,
            "count": 0
           },
           {
            "bin_start": 34.17601,
            "bin_end": 35.0389,
            "count": 1
           }
          ]
         }
        },
        {
         "name": "d",
         "dtype": "float64",
         "stats": {
          "unique_count": 3,
          "nan_count": 0,
          "min": "0.0398",
          "max": "0.053",
          "histogram": [
           {
            "bin_start": 0.0398,
            "bin_end": 0.041120000000000004,
            "count": 1
           },
           {
            "bin_start": 0.041120000000000004,
            "bin_end": 0.04244,
            "count": 0
           },
           {
            "bin_start": 0.04244,
            "bin_end": 0.04376,
            "count": 0
           },
           {
            "bin_start": 0.04376,
            "bin_end": 0.04508,
            "count": 0
           },
           {
            "bin_start": 0.04508,
            "bin_end": 0.0464,
            "count": 1
           },
           {
            "bin_start": 0.0464,
            "bin_end": 0.04772,
            "count": 0
           },
           {
            "bin_start": 0.04772,
            "bin_end": 0.04904,
            "count": 0
           },
           {
            "bin_start": 0.04904,
            "bin_end": 0.05036,
            "count": 0
           },
           {
            "bin_start": 0.05036,
            "bin_end": 0.05168,
            "count": 0
           },
           {
            "bin_start": 0.05168,
            "bin_end": 0.053,
            "count": 1
           }
          ]
         }
        },
        {
         "name": "_deepnote_index_column",
         "dtype": "object"
        }
       ],
       "rows": [
        {
         "omega_2": 1.2268,
         "mu": 0.5455,
         "nu": 0.5787,
         "a": 14.8366,
         "b": 14.3487,
         "c": 30.4743,
         "d": 0.0458,
         "_deepnote_index_column": "PosteriorMax"
        },
        {
         "omega_2": 0.81,
         "mu": 0.1879,
         "nu": 0.4387,
         "a": 12.5431,
         "b": 12.524,
         "c": 26.41,
         "d": 0.0398,
         "_deepnote_index_column": "LowerBoundCI"
        },
        {
         "omega_2": 1.5331,
         "mu": 0.5482,
         "nu": 0.9984,
         "a": 17.6744,
         "b": 17.6486,
         "c": 35.0389,
         "d": 0.053,
         "_deepnote_index_column": "UpperBoundCI"
        }
       ]
      },
      "text/plain": "              omega_2      mu      nu        a        b        c       d\nPosteriorMax   1.2268  0.5455  0.5787  14.8366  14.3487  30.4743  0.0458\nLowerBoundCI   0.8100  0.1879  0.4387  12.5431  12.5240  26.4100  0.0398\nUpperBoundCI   1.5331  0.5482  0.9984  17.6744  17.6486  35.0389  0.0530",
      "text/html": "<div>\n<style scoped>\n    .dataframe tbody tr th:only-of-type {\n        vertical-align: middle;\n    }\n\n    .dataframe tbody tr th {\n        vertical-align: top;\n    }\n\n    .dataframe thead th {\n        text-align: right;\n    }\n</style>\n<table border=\"1\" class=\"dataframe\">\n  <thead>\n    <tr style=\"text-align: right;\">\n      <th></th>\n      <th>omega_2</th>\n      <th>mu</th>\n      <th>nu</th>\n      <th>a</th>\n      <th>b</th>\n      <th>c</th>\n      <th>d</th>\n    </tr>\n  </thead>\n  <tbody>\n    <tr>\n      <th>PosteriorMax</th>\n      <td>1.2268</td>\n      <td>0.5455</td>\n      <td>0.5787</td>\n      <td>14.8366</td>\n      <td>14.3487</td>\n      <td>30.4743</td>\n      <td>0.0458</td>\n    </tr>\n    <tr>\n      <th>LowerBoundCI</th>\n      <td>0.8100</td>\n      <td>0.1879</td>\n      <td>0.4387</td>\n      <td>12.5431</td>\n      <td>12.5240</td>\n      <td>26.4100</td>\n      <td>0.0398</td>\n    </tr>\n    <tr>\n      <th>UpperBoundCI</th>\n      <td>1.5331</td>\n      <td>0.5482</td>\n      <td>0.9984</td>\n      <td>17.6744</td>\n      <td>17.6486</td>\n      <td>35.0389</td>\n      <td>0.0530</td>\n    </tr>\n  </tbody>\n</table>\n</div>"
     },
     "metadata": {},
     "output_type": "display_data"
    }
   ],
   "execution_count": 6
  },
  {
   "cell_type": "markdown",
   "source": "Most probable parameters, expressed in terms of mean and variance of the two distributions.\n<table style=\"border-collapse: collapse; border: none; border-spacing: 0px;\">\n\t<tr>\n\t\t<td style=\"border-width: 1px; border-style: solid; border-color: rgb(0, 0, 0); text-align: center; padding-right: 3pt; padding-left: 3pt;\">\n\t\t\t<b>      Mean of division factor     </b>\n\t\t</td>\n\t\t<td style=\"border-width: 1px; border-style: solid; border-color: rgb(0, 0, 0); text-align: center; padding-right: 3pt; padding-left: 3pt;\">\n\t\t\t<b>      Variance of division factor     </b>\n\t\t</td>\n\t\t<td style=\"padding-right: 3pt; padding-left: 3pt;\">\n\t\t\t<b>   </b>\n\t\t</td>\n\t\t<td style=\"padding-right: 3pt; padding-left: 3pt;\">\n\t\t\t<b>   </b>\n\t\t</td>\n\t\t<td style=\"padding-right: 3pt; padding-left: 3pt;\">\n\t\t</td>\n\t\t<td style=\"padding-right: 3pt; padding-left: 3pt;\">\n\t\t</td>\n\t\t<td style=\"border-width: 1px; border-style: solid; border-color: rgb(0, 0, 0); text-align: center; padding-right: 3pt; padding-left: 3pt;\">\n\t\t\t<b>        Mean of growing factor       </b>\n\t\t</td>\n\t\t<td style=\"border-width: 1px; border-style: solid; border-color: rgb(0, 0, 0); text-align: center; padding-right: 3pt; padding-left: 3pt;\">\n\t\t\t<b>         Variance of growing factor         </b>\n\t\t</td>\n\t</tr>\n\t<tr>\n\t\t<td style=\"border-width: 1px; border-style: solid; border-color: rgb(0, 0, 0); text-align: center; padding-right: 3pt; padding-left: 3pt;\">\n\t\t\t0.508\n\t\t</td>\n\t\t<td style=\"border-width: 1px; border-style: solid; border-color: rgb(0, 0, 0); text-align: center; padding-right: 3pt; padding-left: 3pt;\">\n\t\t\t0.00828\n\t\t</td>\n\t\t<td style=\"padding-right: 3pt; padding-left: 3pt;\">\n\t\t</td>\n\t\t<td style=\"padding-right: 3pt; padding-left: 3pt;\">\n\t\t</td>\n\t\t<td style=\"padding-right: 3pt; padding-left: 3pt;\">\n\t\t</td>\n\t\t<td style=\"padding-right: 3pt; padding-left: 3pt;\">\n\t\t</td>\n\t\t<td style=\"border-width: 1px; border-style: solid; border-color: rgb(0, 0, 0); text-align: center; padding-right: 3pt; padding-left: 3pt;\">\n\t\t\t1.40\n\t\t</td>\n\t\t<td style=\"border-width: 1px; border-style: solid; border-color: rgb(0, 0, 0); text-align: center; padding-right: 3pt; padding-left: 3pt;\">\n\t\t\t0.0639\n\t\t</td>\n\t</tr>\n</table>",
   "metadata": {
    "cell_id": "82e41e53becb43d3bc7e407fe2baad03",
    "tags": [],
    "deepnote_cell_type": "markdown",
    "deepnote_cell_height": 118.1875
   }
  },
  {
   "cell_type": "code",
   "source": "print(\"mean division factor = \", df_mod2.loc[\"PosteriorMax\",['a','b','c','d']].values[0]/(df_mod2.loc[\"PosteriorMax\",['a','b','c','d']].values[0]+df_mod2.loc[\"PosteriorMax\",['a','b','c','d']].values[1]))\nprint(\"variance division factor = \", (df_mod2.loc[\"PosteriorMax\",['a','b','c','d']].values[0]*df_mod2.loc[\"PosteriorMax\",['a','b','c','d']].values[1])/(((df_mod2.loc[\"PosteriorMax\",['a','b','c','d']].values[0]+df_mod2.loc[\"PosteriorMax\",['a','b','c','d']].values[1])**2)*(df_mod2.loc[\"PosteriorMax\",['a','b','c','d']].values[0]+df_mod2.loc[\"PosteriorMax\",['a','b','c','d']].values[1]+1)))\n\nprint(\"\\nmean grow factor = \", df_mod2.loc[\"PosteriorMax\",['a','b','c','d']].values[2]*df_mod2.loc[\"PosteriorMax\",['a','b','c','d']].values[3])\nprint(\"variance grow factor = \", df_mod2.loc[\"PosteriorMax\",['a','b','c','d']].values[2]*df_mod2.loc[\"PosteriorMax\",['a','b','c','d']].values[3]**2)",
   "metadata": {
    "cell_id": "5cf75d6e9cf040818868d56ca5d2421e",
    "tags": [],
    "deepnote_to_be_reexecuted": false,
    "source_hash": "49ebb137",
    "execution_start": 1655315454829,
    "execution_millis": 8,
    "is_output_hidden": true,
    "is_code_hidden": true,
    "deepnote_cell_type": "code",
    "deepnote_cell_height": 105.578125
   },
   "outputs": [
    {
     "name": "stdout",
     "text": "mean division factor =  0.5083586600103477\nvariance division factor =  0.008279862476199721\n\nmean grow factor =  1.39572294\nvariance grow factor =  0.063924110652\n",
     "output_type": "stream"
    }
   ],
   "execution_count": 26
  },
  {
   "cell_type": "markdown",
   "source": "These three tables show the maximum values of the parameters obtained from the Bayesian Inference of the three different model we analyzed.\nMoreover, the 95% Credibility Interval is reported for each parameter.\n\nThe diversities within the obtained values are the consequence of the structure of the various models, which in fact involve different mechanisms during the phases of cell growth and division. ",
   "metadata": {
    "cell_id": "16ebf4d1af68450aa27c3314ac6394ed",
    "tags": [],
    "deepnote_cell_type": "markdown",
    "deepnote_cell_height": 133.578125
   }
  },
  {
   "cell_type": "markdown",
   "source": "## Scatter plot of $\\tau, \\omega_1, frac$",
   "metadata": {
    "cell_id": "ade3c0eab4ec4634b92155f34326ce70",
    "tags": [],
    "deepnote_cell_type": "markdown",
    "deepnote_cell_height": 75.71875
   }
  },
  {
   "cell_type": "code",
   "source": "df_scatter_start = pd.read_csv('./data/scatter3d_start.csv')\ndf_scatter_mod1 = pd.read_csv('./data/scatter3d_model1.csv')\ndf_scatter_mod2 = pd.read_csv('./data/scatter3d_model2.csv')",
   "metadata": {
    "cell_id": "12816046ef8a45529ece908e2738350e",
    "tags": [],
    "deepnote_to_be_reexecuted": false,
    "source_hash": "3fb74c07",
    "execution_start": 1655312359331,
    "execution_millis": 9,
    "deepnote_cell_type": "code",
    "deepnote_cell_height": 117
   },
   "outputs": [],
   "execution_count": 7
  },
  {
   "cell_type": "code",
   "source": "fig = plot_funcs.comparison_3d(df1 = df_microbial_growth, df2= df_scatter_start, df3=df_scatter_mod1, df4=df_scatter_mod2)\nfig.show()",
   "metadata": {
    "cell_id": "73a4af6f06b54cc48d9fbfeed6620ec9",
    "tags": [],
    "deepnote_to_be_reexecuted": false,
    "source_hash": "45004075",
    "execution_start": 1655312359342,
    "execution_millis": 59,
    "deepnote_cell_type": "code",
    "deepnote_cell_height": 721.265625,
    "deepnote_output_heights": [
     606.625
    ]
   },
   "outputs": [
    {
     "data": {
      "text/html": "<html>\n<head><meta charset=\"utf-8\" /></head>\n<body>\n    <div>            <script src=\"https://cdnjs.cloudflare.com/ajax/libs/mathjax/2.7.5/MathJax.js?config=TeX-AMS-MML_SVG\"></script><script type=\"text/javascript\">if (window.MathJax) {MathJax.Hub.Config({SVG: {font: \"STIX-Web\"}});}</script>                <script type=\"text/javascript\">window.PlotlyConfig = {MathJaxConfig: 'local'};</script>\n        <script src=\"https://cdn.plot.ly/plotly-2.11.1.min.js\"></script>                <div id=\"1d1437f4-72da-4bf7-90ac-0ff4c77ee413\" class=\"plotly-graph-div\" style=\"height:1000px; width:1000px;\"></div>            <script type=\"text/javascript\">                                    window.PLOTLYENV=window.PLOTLYENV || {};                                    if (document.getElementById(\"1d1437f4-72da-4bf7-90ac-0ff4c77ee413\")) {                    Plotly.newPlot(                        \"1d1437f4-72da-4bf7-90ac-0ff4c77ee413\",                        [{\"marker\":{\"color\":\"blue\",\"opacity\":0.3,\"size\":3},\"mode\":\"markers\",\"x\":[0.5,0.416666666666667,0.833333333333333,0.333333333333333,0.416666666666667,0.583333333333334,0.5,0.583333333333334,0.666666666666667,0.5,0.416666666666666,0.583333333333333,0.416666666666668,0.500000000000002,0.583333333333334,0.666666666666668,0.583333333333336,0.5,0.5,0.583333333333332,0.583333333333334,0.583333333333336,0.750000000000002,0.416666666666666,0.416666666666664,0.416666666666668,0.5,0.333333333333336,0.500000000000004,0.666666666666664,0.75,0.416666666666668,0.5,0.666666666666664,0.0833333333333322,0.333333333333336,0.666666666666668,0.666666666666664,0.666666666666668,0.583333333333336,0.666666666666668,0.666666666666664,0.583333333333336,0.583333333333336,0.500000000000004,0.416666666666664,0.583333333333336,0.583333333333329,0.416666666666664,0.583333333333329,0.666666666666671,0.5,0.583333333333336,0.583333333333336,0.583333333333329,0.416666666666664,0.583333333333336,0.416666666666664,0.5,0.583333333333329,1.0,0.583333333333329,0.666666666666664,0.5,0.5,0.666666666666671,0.583333333333329,0.666666666666664,0.5,0.583333333333329,0.583333333333336,0.583333333333329,0.416666666666664,0.5,0.666666666666671,0.583333333333329,0.5,0.333333333333329,0.583333333333329,0.333333333333329,0.583333333333336,0.583333333333336,0.583333333333329,0.5,0.500000000000007,0.416666666666671,0.583333333333329,0.416666666666671,0.583333333333336,0.583333333333336,0.583333333333329,0.416666666666671,0.333333333333336,0.583333333333336,0.416666666666664,0.499999999999993,0.666666666666664,0.666666666666664,0.333333333333322,0.499999999999993,0.583333333333322,0.416666666666671,0.5,0.583333333333343,0.5,0.5,0.333333333333329,0.583333333333343,0.5,0.666666666666671,0.666666666666671,0.416666666666671,0.5,0.583333333333343,0.583333333333329,0.75,0.666666666666657,0.500000000000014,0.499999999999986,0.416666666666671,0.5,0.5,0.499999999999986,0.583333333333329,0.666666666666657,0.500000000000014,0.583333333333329,0.416666666666671,0.499999999999986,0.666666666666671,0.583333333333329,0.583333333333343,0.416666666666657,0.333333333333343,0.583333333333329,0.416666666666671,0.583333333333329,0.583333333333343,0.916666666666657,0.166666666666671,0.416666666666671,0.416666666666657,0.583333333333343,0.583333333333329,0.666666666666671,0.5,0.5,0.583333333333329,0.5,0.833333333333329,0.333333333333329,0.666666666666671,0.416666666666671,0.5,0.583333333333329,0.75,0.416666666666657,0.500000000000014,0.666666666666657,0.583333333333329,0.499999999999986,0.333333333333329,0.416666666666671,0.583333333333329,0.583333333333343,0.583333333333329,0.5,0.5,0.583333333333343,0.0833333333333286,0.333333333333343,0.416666666666686,0.333333333333329,0.750000000000014,0.583333333333314,0.333333333333343,0.416666666666671,0.5,0.5,0.75,0.250000000000014,0.25,0.416666666666671,0.499999999999986,0.5,0.5,0.666666666666686,0.416666666666657,0.5,0.666666666666671,0.416666666666671,1.08333333333334,0.250000000000014,0.416666666666657,0.500000000000028,0.416666666666657,0.750000000000014,0.166666666666657,0.583333333333329,1.33333333333333,0.166666666666657,0.333333333333329,0.250000000000014,0.416666666666671,0.499999999999986,0.166666666666657,0.166666666666686,0.416666666666657,0.583333333333343,0.5,0.75,0.416666666666657,0.5,0.416666666666657,0.416666666666629,0.5,0.5,0.499999999999972,0.500000000000028,0.583333333333314,0.666666666666686,0.583333333333343,0.5,0.5,0.5,0.416666666666657,0.5,0.499999999999972,0.416666666666657,0.75,0.250000000000028,0.5,0.583333333333343,0.416666666666686,0.75,0.5,0.5,0.5,0.666666666666657,0.416666666666657,0.666666666666657,0.416666666666657,0.5,0.5,0.75,0.416666666666657,0.416666666666657,0.5,0.75,0.333333333333343,0.499999999999972],\"y\":[1.58996769779266,1.45894367754768,1.24484364438826,1.47046768972231,1.46271363961461,1.21672631608727,1.25844973367198,1.55616244704538,1.31564012578152,1.32653146164869,1.41833118794057,1.21499123385983,1.36269100939931,1.39447063505688,1.117007507524,1.11141071257723,1.40246459262158,1.49677184842928,1.38731747359571,1.41650405807123,1.40854801271802,1.28233429956722,1.32719537714499,1.48551452583427,1.44638629980432,1.56926067741922,1.61352501727956,1.50566630807291,0.75544674175313,1.09616834103149,1.27653159857402,1.35779913586979,1.27212426892942,1.16383502519424,3.751719160881,1.32686292056962,1.19147804161228,1.11019517846159,1.26840133796634,1.28286193236847,1.30501198754169,1.13629962120932,1.20288048760374,1.35097940549412,1.55312433327138,1.53373776354278,1.28345827790283,1.25416014651497,1.32903728483487,1.31302127071978,1.48149262931684,1.30582568725124,1.14602195497948,1.10994638805139,1.384458315671,1.49392830470346,1.37258878788424,1.3977806617166,1.26148846283505,1.35206102833955,1.09692417519962,1.24403836219481,1.26166232394566,1.26430900639261,1.08836086220233,1.18385001494373,1.27818236238099,1.39982629928307,1.22593863319961,1.2700234886566,1.14041106683455,1.36757105829579,1.50328357375832,1.38533376096551,1.2111243124865,1.43841324268478,1.50736159881019,1.71862980159466,1.39125414323798,1.69270849076914,1.27036299574104,1.54370275489594,1.47097794234935,1.4395492551013,1.44213106879945,1.61153922440873,1.56988690918843,1.5794978264445,1.22357820866379,1.30667207365708,1.49126619834021,1.64472913265767,1.70632652437159,1.53860135071521,1.34024094271753,1.52144648268319,1.14887163276518,1.20036476578158,1.72567539832883,1.30824543292856,1.15138512652416,1.21792005086252,1.36842239665188,1.46761548166505,1.35666304799126,1.55849473405123,1.36705998897913,1.30683930541864,1.27824471822397,1.33595079122536,1.32355446409803,1.24637111101373,1.26386645528722,1.19213004355736,0.965450959328068,1.20573130201149,1.32017371893433,1.45791198883581,1.49709746708186,1.70248818046327,1.43706864207516,1.48674030538449,1.29941250225922,1.37822679658525,1.37475423188521,1.36884026675078,1.18952482017699,1.24652380432837,1.27663603690283,1.26503846500699,1.43702416103118,1.41400669220603,1.54750197135041,1.66697137269214,1.42819834140728,1.58204709403289,1.29422173385757,1.21945298249403,1.2966966591189,1.63927599337559,1.56746656794511,1.24547115705272,1.20923183915458,1.10347116651474,1.20328911231391,1.32478257830889,1.15685368047523,1.12453609405292,1.1159711639413,1.20161170905962,1.53130270806178,1.39245998580246,1.33944657234926,1.25734195109386,1.35169199580693,1.19426746087483,1.29338628664571,1.32907915761393,1.17686024192699,1.35351773404866,1.55559420790356,1.50097468400714,1.3942679570977,1.29792421435725,1.32875801603057,1.20592673607872,1.16983160836832,1.36311018077135,1.60295305582265,4.07143555717965,1.96273365130093,1.45467511815329,1.70825431700368,1.16483094245423,1.32959341562282,1.66809583668743,1.73349360602893,1.57948291531864,1.3450755990792,1.47821742046584,1.60506549564534,1.4885469076066,1.24048790879664,1.49612639170055,1.41442425465511,1.70647409227667,1.52977033396716,1.64049206090611,1.45381491709841,1.24233170016156,1.35033227769166,1.2691807948079,1.68168796218348,1.27285241235683,1.40718226430765,1.40124049349115,1.25531950279874,1.82449483475967,1.43115440375181,1.17664372416701,1.56355746040611,1.70463775968286,1.32990478142082,1.36693248563393,1.57938300919514,2.74858830850692,2.70248440011313,1.96346986004161,1.31044856752778,1.28581849515305,1.18585833718319,1.44220979895897,1.4315228915214,1.48716555452225,2.09876112729817,1.40475027562321,1.59531859799669,1.42497086162506,1.49199127548106,1.2192692631931,1.36718755104658,1.19303843277558,1.20156963110122,1.16318383125732,1.24184171105205,1.36093292777145,1.1465281838095,1.37412832421382,1.40349505072671,1.41335839520369,1.95391283925391,1.50011266109621,1.53450724239101,0.505963594660099,1.11992624769889,1.83754251977613,1.47326622807315,1.13157413863201,1.3251773251424,1.02141116405552,1.27282056158076,1.46418287166494,1.34794760619328,1.32757253996662,1.18647956106598,1.59143283340043,1.41789294403747,1.20845345774503,1.39575376503312,1.44504330853929,1.42202240257664],\"z\":[0.456028002051387,0.469618916545778,0.505526075322566,0.446903409482841,0.482744438597171,0.51210160119141,0.483351917988853,0.491139841168619,0.465992331480415,0.488977993052723,0.50335492243449,0.526044351727723,0.502591308364701,0.459084025011339,0.530119107724709,0.47334054056287,0.482855366658186,0.441974191084596,0.467212827695769,0.514113952020246,0.455850376112461,0.50860022936137,0.439228507797942,0.527659390435334,0.476384498739974,0.506170387283319,0.512123907087556,0.499318478388998,0.506723876540554,0.488907343656099,0.513387276183995,0.470118174390581,0.521674569162284,0.483473167763778,0.427834496814097,0.960693946991404,0.477367902264965,0.465210038859102,0.453961286285557,0.479183122404599,0.471641795645758,0.484015591266423,0.484847585634072,0.458274945725016,0.485700997554413,0.501855003922552,0.49068490254818,0.482844166819735,0.432074626448321,0.484861772756954,0.498656865211802,0.490059779189076,0.525757328182465,0.519663880236889,0.481688614751534,0.460642368771912,0.464509909791053,0.516624980022872,0.452917958798043,0.513911160285985,0.400231682724131,0.403249345967592,0.49175600579316,0.524478109271294,0.488611405655756,0.514623120964561,0.46374840931682,0.433087507741273,0.486986862504124,0.517483424082118,0.513367183345375,0.46735324203877,0.511250738255512,0.470068612557422,0.486641699010392,0.47462810748484,0.496244516250822,0.520191671648149,0.455940849551168,0.453967522352102,0.459935774426496,0.426473313600944,0.494715609657311,0.427940908911195,0.524170362836771,0.52421653282822,0.426357794157551,0.463384047113578,0.519976732953094,0.526334829101889,0.485788098944219,0.455074077938204,0.460110713446955,0.482796237529727,0.441155033553389,0.499958252891759,0.529457814628094,0.477615782310247,0.531849081584962,0.521988971722122,0.516111089021078,0.590594779805941,0.452729705793309,0.473592671352342,0.481178917291245,0.485147543169193,0.484727048387442,0.520105940061214,0.515863411567386,0.44855071911401,0.418117013745512,0.548140299892856,0.504301743496529,0.47619714238456,0.548051368530973,0.470958486791677,0.520231072018187,0.47275915759586,0.463803580069947,0.481611733357232,0.494178618900276,0.417522875820243,0.470465238401095,0.464152032277289,0.511651434823076,0.471584099185687,0.552014046964566,0.555940523786342,0.445580825270018,0.480699315426475,0.463093729780274,0.423491035694639,0.538071390403616,0.498164078182811,0.447771508146558,0.426111462156472,0.551215949100775,0.548397164789088,0.544196549953829,0.508864388831158,0.503913104186435,0.479150754526781,0.530237436515199,0.487160058154586,0.515903549033189,0.470911685234219,0.493540401765346,0.497175055930065,0.542464880175607,0.410438166100033,0.542183645008808,0.470400472761782,0.51669505621626,0.478609585837723,0.432191218428418,0.475077477324668,0.494099332326523,0.574130644258401,0.497985449722834,0.533280388980524,0.47525412375977,0.522273356659054,0.496065983960273,0.439490357222528,0.543877814641304,0.508114524216546,0.554234395896107,0.467856906406584,0.471277484333633,0.442769742130525,0.955790704748722,0.440634036028267,0.522831555241377,0.554028792093529,0.474412651555841,0.516671383249737,0.469886502690515,0.501116720089667,0.453786037458072,0.535636687078413,0.539489569145166,0.489902631343216,0.540445665678585,0.446719787229708,0.463670782163028,0.426033607006262,0.357723235350301,0.513122111772403,0.445154286112664,0.453399469389353,0.475606918898389,0.525456186293102,0.543684606358965,0.539776453931707,0.505006168158393,0.541313406486291,0.503048448837853,0.527925367084191,0.490627281124101,0.417449446622987,0.581704744104079,0.474785697531685,0.555884361371051,0.470731306559354,0.48916816475134,0.397777228301025,0.990917846034598,0.380496316994561,0.54733458428149,0.46402682895663,0.448597697816748,0.527475983047368,0.454081942147981,0.537075714326576,0.4170772581334,0.453950740548031,0.473174815985019,0.467025294224763,0.429112809664143,0.471195022692037,0.486351707956408,0.520602797719542,0.558381794547072,0.488525167837765,0.522321927275374,0.527103377077688,0.521451276156129,0.613432875675116,0.497765812484219,0.530368125613601,0.466167660937107,0.465807394249753,0.413326589919328,0.442295504685158,0.527138566946803,0.501007694891863,0.551052503008305,0.508337798833839,0.524316657138139,0.526944142286266,0.506884365354374,0.502287380468444,0.496945090683618,0.475335449360069,0.464180632440849,0.51372764049108,0.520893067288242,0.507478130801968,0.550478268054699,0.500204158063523,0.422862987534087],\"type\":\"scatter3d\",\"scene\":\"scene\"},{\"marker\":{\"color\":\"blue\",\"opacity\":0.3,\"size\":3},\"mode\":\"markers\",\"x\":[0.1159435141734344,0.0207512987591771,0.3990321382640212,0.7556095649769841,0.5855096483322028,0.4319083232372203,0.7497850907034634,0.0629751744026567,0.3805156808895875,0.0760714730571069,0.268285870560712,0.6592308316207838,0.0822894480307153,0.4142298156099053,0.2101026128802016,0.0225752694396802,0.4377100401726586,1.5128744477993648,0.3323843716352285,0.1798184729981031,0.0506553147566587,0.2861860650564718,0.1308537172866342,0.3187984698165603,0.424240906460635,0.6001679865259925,0.0239541939938999,0.1912069548892747,0.3550409539207578,0.1496308471563976,0.6056613039762774,0.1996982532749947,0.0477960212911909,0.3386880309919449,1.3585085938687205,0.0180531499970249,0.8401109448250518,0.1034985601937489,0.1699129433021307,0.4326167642642422,0.264018707300673,0.664589401852125,0.4421131177117106,1.0775236916771154,0.1898610338347595,0.0352721485466564,0.6026126683834282,0.0682547447428291,0.7735266093185399,0.6912434383676291,0.0024720109731919,0.0652471078787787,0.0647466810581176,0.1724527777825598,0.3401829961385434,2.2980899198161344,0.1875559448712624,0.119894118167796,0.2722132504204038,0.0253725033466809,0.5927596482334514,0.2563195595938985,0.2100258085106063,0.6868666974448477,0.3659946632457479,0.7377247206117383,0.2098622850912693,0.1685041400667643,0.0539635331976966,0.2046478669795141,0.1717270765372867,0.1715675018468587,0.0435050962956277,1.3130259363857009,0.4763501604133134,0.376519402399656,0.0233101052015667,0.6130822601843828,0.0718451645593492,0.1520110982704141,0.2473188834840297,0.7172581531623144,0.2297712922146074,0.4184905975731394,0.2558139659321279,0.4032470476767717,0.9223267878928888,0.0593938636333495,0.0547591680848901,0.1941967089268177,0.263837354387093,0.5703051325737213,0.2122976782790596,1.460781758700277,0.2079239908729334,0.1249815731957126,0.4881583347982852,0.7018076048189551,0.875076511798852,0.1020596072851835,0.3137524731581335,0.5285392350549539,0.2146647347409355,0.9483999292403916,0.4532307698976078,0.0870208829677414,0.1851635009886386,0.7877511131711434,0.353191155764417,0.1098159618747863,0.3546924816533808,0.956181167479752,0.0283400047833776,0.0767956105132081,0.3533951810798139,0.187133285741687,1.0453172045481929,0.0201255547719689,0.452451826658137,0.2828766298971489,0.1214622926834276,0.4942425909252297,0.1471865149091518,0.4905943585110343,0.1633686856416124,0.0098462613689431,0.4742623704546339,0.4122615463357391,0.5731527419095181,0.1546394073356953,0.4082171798935787,0.9983861907518564,0.0698858472735035,0.0702442727922364,0.0279875514935079,0.1959075243057738,0.771018343548866,0.2829990094123558,0.5730741654438578,0.0637945464829349,0.7034695022135866,0.463936097347629,0.2625005314938329,0.3763434186165244,0.0841969944025019,0.089316958799114,0.1403484506357287,0.0752301261709731,0.798798904924536,0.1801601635874721,0.0949141139249971,0.62180814849248,0.4939354423872806,0.6201159944691483,0.0118478653908193,0.144197225049039,0.8329078039858956,0.665910067866005,0.078203735222307,0.0955314931619968,0.9574425571997912,0.0563881166187403,0.3902106838465982,0.4103090279635841,0.1554059933680052,0.2436484202711469,0.6921878361093099,0.1152113673881027,0.6694937883550258,0.5600804813456066,0.3367276999043716,0.0821867534793008,0.3319413496418783,0.2047829751821532,0.2321811730802714,0.2358459326025148,0.8053425375224128,0.4463951261217664,0.3467499105418406,0.5363376625061902,0.1694139410175864,0.3788331298538312,0.4498708548687815,0.2347510826102122,0.3987282428649126,0.086333520715583,0.2512179878747745,0.07931654135952,0.0240864690470952,1.290782085692009,0.1006887236285348,0.2084519686184315,0.3330798685000301,0.5012219905178359,0.2793707817613581,0.2684826368964436,0.6678439809477589,0.3211221534760792,0.1051448752832818,0.2726144925226606,1.0195342485474368,0.1099904026504481,0.1460801884091989,0.3926783439181719,0.3977026474537619,0.4321049582226384,0.9929302659803352,0.1616140156660637,0.1623411268979346,0.096554816739182,0.1259789629291922,0.7947185257798676,0.1915090504025216,0.7585282942412437,0.245674565185922,0.8450919332860434,0.1826321205227004,0.3777158348056038,0.9864139516839626,0.0394984857235656,0.0717490650103783,0.8035318254836123,0.1518172618675936,0.5899849649107423,0.2994473157120711,0.7101784819266472,0.3259936821765947,0.1151150302616972,0.153530469418889,0.4298216508574813,0.7297206466953967,0.0557584204271317,0.5115492293515569,0.8638838759945688,0.3303333792056723,0.1913423599174008,0.1670413586718898,0.0453413201109658,0.1252875648681881,0.6003451946551823,0.4472876781526131,0.0608729618072327,1.1953582495635873,0.012685262058701,0.1268842282429434,0.1681466755278705,0.1826751946585821,0.3767415102529755,0.8588426647715187,0.1779395784785265,0.8088777781533633,0.1950919691532095,0.3252480823023635,0.1611800904569313,0.1726109378372709,0.00504352606877,0.8115513469233616,0.6837750832833982,1.7741244395505855,0.0633175195973473,0.5155012187935906,0.902502814756434,0.1882307788949595,0.1522039954993002,0.1287228287821752,0.1199004071850345,0.59409231783959,0.1823879727886927,0.2378156080994631,0.4495878013478163,0.051624380665519,0.3113819593156454,0.9808005202694426,0.1951891625626658,0.2452143572407231,0.1867174651331958,0.0254339424223254,0.3476264286100163,0.2092985750465034,0.1659037731852886,0.4028733798561807,0.1971972203089832,0.231852768683492,0.140723315658506,0.2109394880325212,1.620526424942358,0.1426091037993769,0.1893393046228918,0.0105305645046857,0.1184037428271087,0.3246882081624932,1.0254528602355175,0.0483467035937986,0.2781733960531345,0.1869073856017495,0.8213420188272695,0.2145192279167877,0.1043702024508608,0.6231437144362684,0.0040807984439832,0.2102184264104512,0.2911298787563144,0.1336456005431461,0.3395983612013067,0.7110739873491391,0.0024441319451229,0.524551397234623,0.2643724445521562,0.9695555739794232,0.8267497284727808,0.1359923257799321,0.114349404038011,0.1370764662488818,0.6933603937127552,0.2546311548140017,0.0061358057687008,0.5544979989185799,0.3531664609770592,0.3097913773241693,0.1036951401216322,0.5513489192342799,0.2353510314701545,0.2402091431539945,0.5909850006521148,0.2514942459965828,0.5953027701553779,1.366507736470474,0.1914957603170771,0.0664992464848958,0.3579110611880184,0.3826023408893714,0.8314480938952798,0.0983959404478344,0.2619961676602979,0.2308509678673175,0.0955623128961985,0.6809727934061092,0.0167233522002375,0.7229097672856875,0.0590554113515475,1.184382982470972,0.5935007071206004,0.3590635734807355,0.6356156694452245,0.0447615007754607,0.6149656015056502,0.4101369121861505,0.3163562804216761,0.3214214033616215,0.0162115656917659,0.1583804120228411,0.3068359005051838,0.0422637479414762,0.3597448758353731,0.957256775035314,0.0721425042539199,0.1660069272947948,0.2428131592601072,0.0747754223485133,0.1444044047260307,0.1726873788318021,1.2570713120085042,0.2095841380357229,0.5381557775844712,0.1633810116407123,0.1485653197613091,0.8575160764629902,0.2536080752369741,0.0437801921713407,0.3959599359871563,0.197497974462159,0.0524827709288892,0.1633442044297829,0.1041668341328289,0.9801037093052056,0.8664090088351226,0.0445930134983947,0.1478217308622062,0.6520443429641333,0.3662757823460543,0.2194066287798209,0.012016934686692,0.168136715541465,0.1932202070398611,0.5282227387997694,0.4145833302651878,0.5810073687058567,0.5753841265338292,0.0383042483536735,0.3611680645434263,0.2703264465388714,0.5336627461588769,0.9362191988771372,0.133285127125827,0.0849604768045159,0.0364372400037126,0.9509419000182284,0.1602594601960141,0.6605577225894669,0.098923102362491,0.6294133114624569,0.0448907462321369,0.2492493425585379,0.2455253845861756,0.3211525342992627,0.8425311503874522,0.7083699591097896,0.0038699846017446,0.9884188239052502,0.0355751733742722,0.1037069081715267,0.1014107585626275,0.2831502019349796,1.0569338736939375,0.1415305425322816,0.6636943182847344,0.1141478272311658,0.0741132585183035,0.77487364767181,0.5163877295589787,0.0310211129908691,0.0260803815242679,0.0742126412522038,1.361900838978378,0.7364329593091128,0.1135599916784883,0.298660053768199,0.1272248310937954,0.3477628594472757,0.4826851917525549,0.0702166987847456,0.0494564786660797,0.0012485113806581,1.8617437095540288,0.2423817653109443,0.2502805947509545,0.4523420848088312,0.5370771080976189,0.4552650713911798,0.4585558627321487,0.3995347494932586,0.0608990304689218,0.0084511937513128,0.1445882952621108,0.1984079955799534,0.3911044223079472,0.1105214369819593,0.3243668727016527,0.0253441608542355,0.5208566786851996,0.0023521389336044,0.9011017244385392,1.1611653164522155,0.0459156218163834,0.6351762646341084,0.8792758243704224,0.0033029073250247,0.1151012390303387,0.0453340952467637,0.0942408983378571,0.8946050943642958,0.1946896546693728,0.0635503562134144,0.2241812833394119,0.151439123246586,0.8997928178663364,0.2206532896259255,0.1271025398029002,0.0724957001051353,0.3545252965647429,0.7593337109628504,0.5187867558088316,0.6047523052732148,0.0009154633048325,0.1505120169248604,0.4528920993777023,0.4287079384658384,1.0516740800250133,0.0953254719005908,0.4779378268986697,0.1112861370135464,0.4882853816958787,0.0638896459471219,0.6258264930288348,0.071601730183888,0.2396862246851439,0.1593479527163195,0.8323555408959082,0.2502329144722847,0.0678624816137219,0.1860220747987933,0.5679439160920631,0.4940952017286527,0.1477164008432848,0.3174004077528691,0.0951851385958718,0.5477603771499889,0.4272780593278881,0.0392581199666389,0.869585179804588],\"y\":[1.404962799040494,1.787947108793631,1.0200375231944068,1.269211902055315,1.153498885432006,1.0584820485998834,1.084984198166674,1.0612164953324583,1.2759844385227976,1.6280675172087131,1.4224651179077898,1.5154103515509454,1.394781989106769,1.415680906416872,1.4353339508934673,1.4875792205553398,1.5902914382258817,0.8674509146152791,1.2803002427748946,1.322505172789687,1.177454968179556,1.3673604060902558,1.457306651530882,1.0296188797356225,1.524476581571179,1.3031653487209718,1.749576079518557,1.166471997495005,1.6616784710143468,1.169280624569994,1.6479101182220353,1.4949107040453904,1.292853451897208,1.6676887413257733,1.0784228256331598,2.2471327041860887,1.0897632977232097,1.34268100300962,1.183112968877064,1.122558362429434,1.6756905881132618,1.1723394939043803,1.6426585389410204,1.2546611110749275,1.066278635369778,1.0837090243641545,1.4090557480252426,1.4022936221044846,0.8509660561506552,1.147960492355378,2.2033523229521115,1.9375109287240304,1.845058960227269,1.854067298737643,1.7571819478448298,0.9406589812748388,1.3361209281384892,1.5452332892308869,1.314916875085961,1.5837392736116782,1.3745431925772211,1.6415914325897092,1.81144751178208,1.3030320062406822,1.0573703334731954,1.4743485258715885,1.3230794980287828,1.4649296995024343,1.4412711513739491,0.8034839063212385,1.4176456978385783,1.1821098258522378,1.4176814477043838,1.1381265311206206,1.231686043196933,1.5003944081831857,1.258288322632101,1.455548142524091,1.8509670992206304,1.501660042283255,1.1708466516699771,1.177026271110859,1.2712278255047258,1.4046587104864878,1.189736977531534,1.1292239200944134,1.4332250124280763,1.6913824886650768,1.6237174213513978,1.2722106117882876,1.4908795508404062,1.784838884168083,1.060789799386183,1.0266926032617076,1.606182788879274,1.5742417290974489,1.3764186356378738,1.298683784464859,0.8943709122604174,1.0807074959896257,1.3696532825195111,1.4929061530724412,1.031391512557795,1.0246462504311828,1.6900772663363557,1.74406279074384,1.5119989795337294,1.4850132279869714,1.550048797348108,1.549216676016877,1.2066833291521737,1.2837446986633785,1.2364341092881763,1.427284053842042,1.2137420979008342,1.8291494685388507,1.2922250865272211,1.71692946038185,1.4251599046053085,1.563811505315934,1.3634676685410212,1.648841103391606,1.7624202910364812,1.5871068160411117,1.4360223745321683,1.3037526747158394,1.1707963387388074,1.409366997483231,1.6821403247587143,1.6098341103463571,1.2544714547931386,1.0544582816792891,1.3125781522317534,1.8368781241197627,1.7996515663575916,1.6916250931594303,1.5049114581747665,1.130998940368398,1.2589176929443038,1.289259098817459,1.0989607572907552,1.128132271720934,1.2456321693007388,1.3538350754115207,1.384186725883875,1.842005388665284,1.276570797532968,1.7012323827730766,1.3370704289189166,1.4491894434714556,1.6652424383330138,1.4688080602546922,1.4187061180053282,1.6196986853498117,1.4212415608799878,1.8238035748451384,1.5333517579706148,1.2015813838418097,1.6460833172043496,1.2025163227423226,1.479055577206534,1.4021434874841745,1.110807412912966,1.328733678387956,1.0674618203347257,1.063994986298495,1.2007677795866245,1.436382170605697,1.43021212733726,0.9918694243136496,1.806833817653684,1.8875837687345796,1.6337581155586534,0.9992260678883884,1.801502917601355,1.6454399715087535,1.1045875817952178,1.2852868564636646,1.428672736395605,1.4740877303697708,1.3514035394280135,1.5601832142226966,1.4077582396925146,1.2890696848481409,1.3709751946379758,1.7499207515149289,1.4834522714984444,1.5885738935604308,1.370581523786038,1.1584334199056077,1.6064510349720234,1.7039549289698714,1.6672493314825283,1.2312651304959712,1.0908549481319711,1.3863616566875363,1.217307292157504,1.2471005731007128,1.6787582656224258,1.3556042753848616,1.199208503158194,1.7939826246592208,1.122357264436037,0.9010655440796989,1.5889533863667196,1.3167782280643452,1.0620685709665003,1.3835412243565792,0.7737063328873302,1.5015123480673158,1.198047757752655,1.3804171843898076,1.4947742657676089,1.2893143046884652,1.2853078638338886,1.522000676393538,1.055548771277062,0.93242228407144,1.1461027693723156,1.4698585133476374,1.435932016706399,1.2152807784019992,1.8668386648778796,1.35056228544863,1.5170415170159068,1.8743486340002928,1.23930366625577,1.755565762138814,1.5913858729388362,1.0599690069382308,1.0209543040054352,1.4171193247179286,1.4452616498049682,1.3155615714111977,1.6295551608951653,1.0981274586697471,1.2505469266052027,1.4470298647485451,1.087596037721297,1.0177400986468947,1.4328117168963437,1.649089503529815,0.9546048505744252,1.4977267304199424,1.509933445325102,1.4066289493069823,1.7028391465005064,1.275173650757846,1.296358695197276,1.254065014587724,1.0141843500982362,1.2734823107615654,1.159908872234014,1.5424686327498869,1.3515022767032894,1.2232066658590648,1.71687423289875,0.8431328712214046,1.071772166012372,1.286205254696326,1.1625445297730914,1.2508119253152157,1.3000252207625893,1.2088593773763978,0.8855608423988612,1.5776816672820415,1.1041337725183695,1.4125347882902444,1.2938531306918544,1.1396406223377094,1.0371440096445457,1.6473942165531577,1.2101158859446393,1.5648008073969348,1.837062027447869,1.317587673879475,1.6813177955931418,1.5131464761750222,1.386371579840554,0.9588240629450766,1.7493598131332266,1.8518544653779745,1.3518308964075276,1.5149222680987289,1.434727718205895,0.8029007230876921,1.5362712800927136,2.183284938613809,1.651156889692191,1.59392961516554,1.679055034074307,1.0591174211996557,1.1350387591743205,1.0233531118638477,1.4277546194883208,1.4594913365645794,1.726391615961549,1.3896349234964844,1.4799823179731078,1.484755405621629,1.7553665778010006,1.0743721191001947,1.6197402312975515,1.4568837933891652,1.354910613666464,1.1270799221789596,1.4302830582614985,1.2325545373437057,1.0398972552305403,0.9889226221377057,1.3434916652831763,1.860356165069175,1.9210411091159736,1.6115731715544446,1.366470683060886,1.5798587806861089,1.348485811632979,1.3435151273538244,1.3752745174220324,1.06119473531326,1.2630056049094232,1.397636008712682,1.5770975334097723,1.2303666788529646,1.262563784571255,1.2773670723010957,1.0988898903027138,1.771184539090494,1.4051893454038042,0.6561626335754908,1.6650244936284064,1.2492524503739415,2.0395913372851604,1.513734860562822,1.4978665202507793,1.5817718745024565,0.7775712837455522,1.4007611757401486,1.0559358795208906,1.405385418066593,1.3115944202260594,1.006422077523993,1.4622841671462816,1.4247134977427751,1.5535714585023763,0.985158169875328,0.8194773977642399,1.4319129411570748,1.350677068250949,1.2099489986696836,1.3771498832179812,1.3114727307141154,1.1825204754321317,1.5339511082324135,1.4306431637104475,1.338658401010862,1.2263097951180404,1.7607650897991856,1.3644727114325477,1.0572030462956945,1.4568691147871529,1.2493858302375749,1.89608881766169,0.9376874266847756,1.1758109766713456,1.2515053256134294,1.3420075192841467,1.9741201440580904,1.385195367229383,1.314532633723369,1.347858251244183,1.6940419780847942,1.0782679972074354,1.2688038828393695,1.1957833600086225,1.4043448875670437,1.7751517664855794,1.2578606171765865,1.4525006059857517,1.3375762631096637,1.2902514579504452,0.9526695112912216,1.3222255058689496,1.476854018887514,1.1277825391387466,1.5458289625729926,1.4615532067534962,1.2749973527219167,1.4068498543025174,1.7728576849652884,1.234554412437058,1.3357947886476678,1.0231869989271778,1.275460050727932,1.2171378661867862,1.0942612523197892,1.5126559075717732,1.6730619824613604,0.9316799900217482,1.323597401759034,1.377812252346442,1.482715330902124,1.645010266602798,1.7202057723506257,1.503031554788649,0.8295089738053377,1.1119696342973993,1.2602130804996048,1.1837843103792804,1.5949833300431673,1.909723718467421,1.4234145064605717,1.4706274315122458,1.1394654622725164,1.137219520317435,0.8276524096917343,1.1136666239159918,0.9426794160134868,2.009297633427614,1.6030683202625549,1.8145053572212089,1.1932981006257453,1.5217012129146692,1.0834592664313405,1.215253132277842,1.5494022704848929,1.3678456878316694,1.5439352727667557,0.853197928934752,1.1169496003880928,1.870773987157991,1.5221304898938643,1.8782224681659392,1.161847365468739,1.3685802221931749,1.5140637485528583,1.2854520091384258,1.3667221276965351,1.503415562053235,1.2936831483200777,1.516351445950154,1.5699919807570195,1.115832233183064,1.3614769539447713,1.2905825894265477,1.5441056283171033,1.5486041137815494,1.5869308734166303,1.5352099928574827,1.186286220258521,1.1812500636652292,1.264408856508672,0.6998290700759456,1.800560866319413,1.3537681624017717,1.035813397359141,1.175694740331671,1.6837162579216969,1.527170255304499,1.227792692422223,1.2667584601424131,1.466137440401887,1.1392745209368145,1.627153129630882,1.2948240521070975,1.4413014634465606,1.364101345986601,1.6500687406619772,1.4375025095395375,1.1671777596559982,1.1832675820834857,1.0428287920330028,1.3788033736069474,1.703986878647048,1.8714088518974288,1.300635232842866,1.7361945836707977,1.1819075976317963,1.4008840070843234,1.0605490580074146,1.4280819623201642,1.1240681010385325,1.3323388384990051,1.3262113352215466,1.6319970554283496,1.588395172105317,1.3976326487152997,1.4506563728989326,1.3706737326735878,1.2124955882029624,1.804937667495564,1.6425367738015146,1.4058669652056202,1.3308237497637718,1.582721238437619,1.9516075593754567,1.3623848700349173,1.4959942949977767,1.399375296306412,1.2949842241692997],\"z\":[0.4954487277313524,0.436248990885788,0.6450573892511937,0.4620315726197967,0.5003290832909033,0.5646436744638837,0.5594115422572207,0.4204965981205555,0.5148256726895295,0.5434863062129232,0.3313356512036824,0.6596001139215557,0.4552687443686904,0.6567712636287035,0.4629026163387474,0.4100386440615883,0.4445736500758217,0.4003012736294489,0.697287405379715,0.4976622686821508,0.5202409067023316,0.5100329797160168,0.5023051553533647,0.6073778114127271,0.5479229339587298,0.5111660815940104,0.429619290819255,0.4047178510794968,0.4281768554795804,0.5274868144697136,0.5775524265163235,0.6070374689356537,0.4071567272652129,0.6267115274439953,0.4465751341218467,0.4612712317593252,0.5764372231828339,0.4069491448985671,0.6333413526088286,0.30897836777157,0.476995248154953,0.5048283095775283,0.4041342116929104,0.5556513825676003,0.3990500372824815,0.4152298062610822,0.6167203882194715,0.3413122513418015,0.3941262781619125,0.5586001991144509,0.4422472168985409,0.4902886586309102,0.5566311791875002,0.4947764846216977,0.4593505776611922,0.7442760974521037,0.5690239140191488,0.4342444822862138,0.5496858602332906,0.3445926915489016,0.5262672682689284,0.5995928264709417,0.4634058733738083,0.7296361134405197,0.5865490503230979,0.498933068224988,0.5841477770495144,0.6405760024889715,0.5381954947657266,0.5509937162036085,0.4362206381844675,0.3685862514672299,0.3648376045414191,0.5436535000820164,0.61995230011595,0.4582396881531749,0.4548686300774232,0.6728891708839859,0.5429113635548636,0.5041211776481758,0.4341917291360276,0.5077309756264384,0.5058273660286272,0.6810788458138575,0.5034360364978979,0.3519477803540576,0.5988096718416588,0.5562972883717652,0.4727145919795121,0.6524688986089726,0.5027090644677682,0.5093262438950052,0.6135922972934318,0.4316104334296071,0.5725115617460903,0.3869434942849901,0.5524333437811597,0.5169956945670806,0.4624715652846854,0.6429308683877958,0.4299958655789366,0.4226612635906428,0.4887673682565899,0.5844595773263311,0.5472481326108871,0.3913456765419568,0.5068869343233229,0.5901293731310333,0.3537862609833417,0.5463463525634958,0.3986083508750654,0.5523719446116215,0.5426850754796787,0.3752995091115758,0.4411010854567321,0.5536025096710235,0.5861420930869751,0.5338550068271675,0.6079123339885927,0.4593144814626156,0.5186263041235921,0.5596007913501978,0.4661566950119908,0.6426215795246805,0.4796131445511533,0.3853835401345589,0.5348901122586719,0.5167146064634109,0.3854173141867383,0.4642354693539961,0.3621366732080792,0.325038683390663,0.4018001927001017,0.4404942234293402,0.5173195224836559,0.3431949317170429,0.535459807909558,0.4254680717184117,0.5144391855761676,0.4858100577018168,0.6069288310146528,0.6311278196066464,0.5316693195687505,0.6100087869577561,0.6286758640187596,0.5693223413652085,0.4408391865710125,0.5984724591117486,0.6690408619662398,0.3198087452236393,0.3991888641992053,0.3363894342105498,0.4008271667648372,0.3432001058944502,0.5018624413247005,0.4075968611321077,0.5358741700598271,0.503558281919774,0.4304588164071811,0.6331084126724011,0.5950587020138687,0.4692044029476443,0.819508422088764,0.5382505575344512,0.5748043507243367,0.4698738598069288,0.4405842513095772,0.6481047914103942,0.5355008059908699,0.5395625710374925,0.3866963784195307,0.4658932399460117,0.6044907767375091,0.4732536563509044,0.3782005588384948,0.4014450918421899,0.4369281212133548,0.5360772441571532,0.5530599330213969,0.4784847258089656,0.3556569466998341,0.5596590907996934,0.3521930352193502,0.4539561796575366,0.4614561283978653,0.5902379357366621,0.5526570312054834,0.436689745183893,0.2986289366101926,0.4200153353404237,0.5210220887775349,0.4932078425379291,0.5066713286205577,0.5646222239311193,0.5274518586390647,0.5717383042080934,0.5660983500521466,0.4892558486986864,0.4063450625495884,0.675894985152244,0.5172249670204913,0.6961239959151044,0.5332346485968009,0.4914843989969918,0.5875061872056818,0.593057149872623,0.596950274801944,0.5608505328183606,0.6473933622597489,0.4503702200739505,0.6432402160161067,0.5377805902111774,0.4274792627614136,0.5633991522041043,0.4491315438182403,0.5661538357153402,0.4389278437611186,0.5627344894182098,0.3723546633877619,0.5046052514006606,0.5827233414066193,0.4614290401721203,0.4373188869620555,0.5032898093179236,0.286547571996329,0.659625405621583,0.4872579877051841,0.4778663375877706,0.499993555195607,0.7003190911854208,0.4417266861379902,0.5875436087790769,0.4249066710110387,0.6734908866459096,0.5240638562167144,0.5986910647181519,0.5194591908946293,0.6253453840980103,0.3903367496369451,0.4527482526175864,0.557819684026684,0.5497086455699871,0.563155809631871,0.5346785489349468,0.5946840122536148,0.6389929112890794,0.4011409820469239,0.4904176727372233,0.4216604558645891,0.6489093002196578,0.5449608138004899,0.5388679876940348,0.3571086295050025,0.6569694038239035,0.5075096661550957,0.39483928712048,0.455004317795705,0.4730223498855284,0.4681623027335093,0.5773274861850235,0.4571246539341023,0.4450680059733207,0.6018821145301181,0.6098486297288077,0.526451875796704,0.4280250053470769,0.5815465409032173,0.5442707136229472,0.6261274326852766,0.5154298502112135,0.3870448876587648,0.4567402980865157,0.5028626592794131,0.4410602867198975,0.5141388234088294,0.506783062993811,0.6207109357440777,0.5828102796299426,0.5129955844587211,0.5287167814260479,0.5071111281166922,0.5667013100757315,0.518715399562828,0.4872895570175395,0.5313491470404462,0.4590012249838587,0.5032752987922624,0.4308207457130675,0.5897930426196798,0.6170119097081297,0.5048080504542074,0.5264698744895671,0.4157910379711121,0.3741526012870738,0.5783161304345514,0.5746816495464536,0.6178123910981684,0.4736677229129997,0.5048890791036705,0.3533957335787587,0.5157467711156432,0.5346625744419615,0.3715217465607873,0.5138085304918196,0.4576641606522774,0.5165403932213698,0.508078268778602,0.5725328184762714,0.552871291703164,0.6449504283742525,0.3528881539326121,0.5076081606551948,0.6261240321614993,0.5610754067368441,0.392880193123941,0.4543362071461791,0.5512140380306461,0.5096170104922403,0.6751877743168794,0.5089730807542846,0.5112410119872766,0.5895769972649878,0.4514956186299932,0.4380997284790173,0.5053907623057184,0.5304884780356772,0.4220772176479853,0.5855238891152547,0.5597947156054579,0.5915518024862488,0.556855993609925,0.5842855051932726,0.6871321068309502,0.5812451897960766,0.6013344649584196,0.4689621863022394,0.4719053478946576,0.5445767220770963,0.5333335519156905,0.3759861395878456,0.5479441596656883,0.3594456214098692,0.4165035756100883,0.5633050167463549,0.557835569057083,0.459170061123692,0.56536422748956,0.5242553169747851,0.4421559229061601,0.3791519723332693,0.4227419730772345,0.4360947220064243,0.4514219197035682,0.5013641053907054,0.5147713854402716,0.5033746050963157,0.5431399617750085,0.4973139146062353,0.4565780094546584,0.4351706206622223,0.5105761923951352,0.496661930224181,0.5898555340149908,0.6098273798810492,0.4584760775241001,0.4978798624744376,0.629796612803826,0.5815599029963294,0.5657029870950187,0.5471618874573174,0.4175672462525832,0.413080859199974,0.5215513228406937,0.3461571658764907,0.5348705276095626,0.4203669859653003,0.4982543652713144,0.369200041261184,0.6542423895548375,0.5456321171189243,0.5931574847847579,0.5649754997787682,0.5299325320698042,0.6163636012324442,0.4942350552747492,0.5104016614782377,0.5641592166656917,0.5817965408755409,0.457786376954254,0.5400636414641984,0.4966132267105499,0.4878563290048733,0.6368438010133315,0.4609557679985281,0.4248727912296128,0.6227439328867986,0.4821895834822722,0.6364755197411709,0.4816934647368416,0.4807099670597122,0.6352872143620021,0.4998947928699879,0.4707094069666331,0.5323186802515175,0.5880710937213369,0.5415566509886566,0.4186292463925685,0.615806178028623,0.3692723428450755,0.5064696937081858,0.4444142366767752,0.479793051615718,0.5266006882831903,0.5788321399089822,0.5149060898638776,0.4254345111120086,0.5228134906937125,0.404278927301553,0.4964391498628775,0.5875174512365781,0.4732169741063041,0.5896395418846025,0.5203776068624167,0.574561401649402,0.7299373532306258,0.608687186673145,0.5734533599908362,0.5651750996880448,0.5526925749354977,0.4856205516610251,0.3675202245486168,0.4150132252404098,0.4637078158834513,0.3897898102938959,0.4285355971663452,0.4593775190142543,0.3473839920103552,0.3604133285714063,0.6409532439526696,0.5264066924231247,0.5599625469506267,0.5242647042825037,0.6067108920235905,0.5397206018036826,0.5768900366052183,0.5216303042561345,0.5114841597217625,0.6195056408808233,0.5080025545967777,0.6397751008518677,0.4544874556333682,0.6092723741407299,0.4670075879630609,0.7063249403159467,0.5578918044511234,0.6086507608522711,0.6215017745832002,0.595752203091056,0.4209112805113019,0.4067844791051831,0.4735616592812813,0.5256651198661926,0.5923664776438496,0.6252674837971103,0.529770208396296,0.6854893909215795,0.5714213745414205,0.5973918749761613,0.6170217385960451,0.5441531846591193,0.4110612300091309,0.4281003580894407,0.345472206308891,0.4364736030658993,0.3955321936197778,0.6271684531164834,0.4708861389393716,0.5157596597695716,0.4526470299353445,0.5895107948306438,0.6693265535238913,0.6441125256994484,0.721512078758101,0.4717614437731937,0.591829717248662,0.4189316083737197,0.5129200643403368,0.3907308240198461,0.4516891830716529,0.4725745734272012,0.5384410170593608,0.5203913627448223,0.5494973027880161,0.441682605545083,0.5541897807812891,0.4331162765447957,0.4829332882381346,0.4573570756635914,0.5605807249131913,0.3973229336900793],\"type\":\"scatter3d\",\"scene\":\"scene2\"},{\"marker\":{\"color\":\"blue\",\"opacity\":0.3,\"size\":3},\"mode\":\"markers\",\"x\":[0.2421998943115887,0.0648145191462597,0.4404958853395863,1.3681983548292869,0.7749321302615403,0.4938370470748147,0.9496009524464712,0.0751509243374834,0.6336377969275079,0.1864397508325694,0.4813271031929984,1.2540249246122133,0.1047273614146267,0.5971519314908493,0.299042500921418,0.0359099550770053,0.860807000162529,1.188587979560034,0.6652629109356643,0.3309683740496483,0.0696037986770496,0.5253213847651045,0.2575806666008066,0.3365021018276047,0.9771706012156396,0.8661402297253498,0.0584372043189008,0.2246849285141035,0.8538450743792337,0.163998820344572,1.2852908423593277,0.2615474087047966,0.0492002309501835,0.645699471739998,1.2785237470507085,0.0789089416091346,0.9438804557834994,0.1788036811317068,0.2272196124109033,0.5572566391492255,0.6919529247140874,0.8423921571892031,0.9332830008208058,1.2132889378083178,0.1564284392288932,0.0326303579464963,0.9753761186904908,0.0968262460097495,0.5496600858456113,1.1100404308882883,0.0136135671849336,0.2495157305116127,0.20553438076121,0.5321900218821716,0.8493688855190337,2.303980286209663,0.4024754984826581,0.2790196518137078,0.4057866163084753,0.0523076931511572,0.9319954705830292,0.4777997119739225,0.3952357936389692,0.713393135277936,0.2739776402434435,1.026464526772514,0.2100037414605938,0.2124473292957835,0.0664963335705833,0.0880991928783083,0.2556302856762533,0.1923471885499659,0.0757240559165149,2.231962829194663,0.7862100828403472,0.7217240636501508,0.0274834552798582,0.9644646249570508,0.1506941242428023,0.2112432382320756,0.2338851063710867,0.8660733926185654,0.3353782974014156,0.7230261713004472,0.2972959498216077,0.4647460022605987,1.5781999934801023,0.1054902699480822,0.090817131438903,0.2194509378117182,0.425100730696076,1.0598419925391909,0.1144753366252966,1.1493633792598297,0.4240448914412299,0.2103778120147275,0.6380610437489744,0.8139850669886198,0.576973107672364,0.1167336599028171,0.5350046787871753,0.8691436521810154,0.1571101957769428,0.8911001901436449,0.9288369888857428,0.1406392115688623,0.2384095085419976,1.0032353369953908,0.4303861602690529,0.1398798413747793,0.3133061709054769,1.165012373922258,0.0306520739771225,0.1154679012113139,0.4390286959578683,0.5086993574027567,1.3949539640711104,0.0425559679391654,0.6602846558375811,0.4401132076941917,0.142795680498902,0.8201180278821021,0.2317963952680948,0.6512540675473991,0.1686296735142569,0.0093549480944293,0.4886006293995531,0.6789680485805358,1.063280231111129,0.2157592401648046,0.410064452787322,1.008563268962902,0.119404278734877,0.2243447945849082,0.0823693775532893,0.7048624513265639,1.779286080444179,0.27446763078819,0.8126769339174117,0.0936816500844084,0.8887272460494794,0.6657829570529579,0.4408745198376377,0.6716288990648335,0.1417718312932889,0.2472253214294266,0.1817302772112827,0.1804255676812065,1.2940552863737556,0.2944924025034934,0.2073068369727075,1.1258779760576902,0.7747259027073893,1.0906402454719304,0.0139613735376644,0.3059810104902353,1.3327503463570562,0.5937235315759539,0.1413414348100258,0.0987565598317035,1.4456338555730102,0.0607792289335605,0.3139892916211559,0.5061788694037821,0.1278828031282647,0.2213252283316162,0.9004335181180324,0.2073904385189427,1.066394270391225,0.4163685837296943,0.7154079570140801,0.1533205023672976,0.4771167072010635,0.1133229078349951,0.450949633952955,0.385088901197965,0.788090371463827,0.6775500158005321,0.6013666210995194,0.8532287427452705,0.2061489227234887,0.6464115487180218,0.5875591004668789,0.2795293671971361,0.5979696859623216,0.2053209781490066,0.4335345346278549,0.1556094223301438,0.0371522858446172,2.433615481106159,0.2648064190281743,0.5328965519285054,0.6820235584066474,0.5507034587082558,0.2702974934471248,0.4458406678752215,0.8837577825570337,0.4387711270913533,0.2454209651972453,0.4182352469917779,1.315263240804379,0.2739231788899429,0.1335982902833585,0.2707832901853076,0.8178352288113718,0.5196109675711463,0.9100868868105708,0.263359544466942,0.0834837398654045,0.189398226860968,0.1572922883692858,1.2543884333829856,0.2916263509830082,0.9062590329573672,0.2869041970509313,1.222434472415762,0.1098956620929958,0.2181832160706786,1.0486811162853666,0.0704707681108048,0.1226506403638473,1.0416476511353303,0.3906597284067207,0.7463431281039858,0.4514403145393011,1.2540235613128956,0.1859996348244265,0.1535625330454228,0.1841683362085674,0.2868812912811139,0.6013279271504409,0.0994955931861382,0.8813216545950355,1.1148817475608102,0.5292414969590005,0.1329492338106233,0.165820972824734,0.0640351422714479,0.1073022620554044,0.5847123450999706,0.9051966861395456,0.1392273813490442,1.190610959553064,0.0349973150032278,0.3217073362768264,0.3368421019185771,0.4747050858184221,0.5416991385735858,1.341886434566836,0.2355639330374886,0.8150975773990489,0.3260280237801232,0.4399579685643733,0.3648587409059334,0.2844990684037456,0.0067647925164837,1.8734353545252629,0.2904203026713524,1.883015580467169,0.0982427736996916,0.6361863294810391,1.1606311991394636,0.237375373467168,0.1667816186779828,0.0796553233504943,0.2370293446244196,0.6327375398443047,0.3253292112390709,0.3463602475237035,0.5360420876753308,0.0526701493781712,0.7613234545252647,1.3017977903607845,0.3873179936951768,0.5528548061939009,0.1981597745945608,0.0481786303129262,0.5727098079151918,0.2866370182065993,0.120823624119247,0.9531018056045468,0.3968354665315746,0.250393042116094,0.2143630445483773,0.3215821278076884,1.2617418523650363,0.477467659130951,0.7483018750123346,0.0176674214450461,0.2016790369570555,0.6113313613002278,0.9272366505919196,0.0578665873999233,0.2913432863143754,0.3935106029066089,1.6615906799511069,0.408830091438088,0.1199220220083395,0.8683272331096525,0.0053350991556947,0.4266630443965703,0.2373200886521132,0.2764551978189376,0.6270142759977213,1.1795256515402244,0.00254283815047,0.9297014485188416,0.3293237767335015,1.0616717655247363,0.9451609216843728,0.2777860350858669,0.3620954637147875,0.369594487792616,1.0581671759435187,0.2391902900062687,0.0087949262160375,0.7059145204699586,0.4583216412318321,0.434826703893145,0.0877142340701845,0.7468323764101579,0.382408143181487,0.4585432900066308,0.7178678140574829,0.3393671495645398,0.8670869199869106,1.5689591959005855,0.4661715008247985,0.0862849032637636,0.1158168572341464,0.752025127943946,0.8369264402563713,0.2414992590329535,0.3158220864849031,0.272350888877679,0.1266528307977346,0.284035569813023,0.0282278933287408,0.8072533673208168,0.1212139084717561,1.9695545684989555,0.4963573509029577,0.6268327676940376,0.8994079250535921,0.0675174602211608,0.4483312527962411,0.2623336293766808,0.6207139993129007,0.492228793030024,0.0195334469316309,0.2672002178353729,0.5192651041995888,0.0577216041721907,1.1858356820479314,1.75273050978304,0.0883746648715101,0.1877888845395746,0.55079583087299,0.0951176415548682,0.1284833184706427,0.3341827452481261,2.200188918379855,0.5519271311260128,0.3285418284495114,0.1843732911158636,0.1996240989862376,1.3265966871190278,0.5651631126016496,0.0395761155616847,0.3744178690902947,0.217582272486707,0.0995547750567476,0.1459582860217453,0.1445704947370049,1.7575690921381912,1.5630187234997697,0.0972644562939746,0.1699462681508186,1.0783090572842031,0.4442228928384114,0.2569838024421556,0.008014526792425,0.2319441212527406,0.3469692754831281,0.6152192403899372,0.8690829913423526,0.8826665501182094,0.623987045690914,0.0516643679728844,0.6918362692019593,0.2271694619386299,0.6171849473666172,0.7872654686349397,0.1945181022045295,0.1126901133969242,0.0398794532302561,1.7260335383156442,0.2461772020427354,0.3723750366998501,0.1366841039385882,0.9367160714983144,0.0691966613171896,0.4595294338433505,0.4444256797401584,0.4288027036682955,0.4381310232875375,0.873191553977886,0.0060713038507759,1.3830617492266404,0.0816075860157953,0.3094666083087173,0.1609781285776692,0.5205865449678496,1.3844042467804345,0.1852518415607184,0.5313349456864662,0.1779629238506275,0.0783753300666154,2.1463317097550103,0.4485106202628565,0.0371010650959644,0.0156453557588387,0.0835029274453999,1.2317451472786816,0.9338332048054636,0.2083787748352993,0.3953773161967671,0.2023205532508958,0.1830760604869119,0.5118918032488141,0.2008353710434568,0.0911579480464144,0.0036588033619831,2.911610866974757,0.4003011226294158,0.4512276226917537,0.5740556930464542,0.7946575418983185,0.7490332182637788,0.5178772198585062,0.5979186556842832,0.0906670067059741,0.0067769347128544,0.1882760009851126,0.2575001767467725,0.7455987376134812,0.193088527673156,0.6109880903607631,0.0413278655346673,0.6289025720378957,0.0029541078955649,1.495177580704434,0.6851365016565366,0.2021252200442887,1.1961454612187954,0.8589636016483101,0.0043989511210642,0.2851917294735808,0.0833541752740724,0.1167946520587367,1.3524984196034024,0.3465653365194294,0.06736363070266,0.4802996398620413,0.1948979830492415,1.4449608858566574,0.2512412327418893,0.2113348958307701,0.091626334365395,0.3340001222552816,0.8728717855358701,0.5183773945728565,1.0151390513018363,0.002086444282635,0.4080539892918078,0.6382074426229841,0.919997936917616,1.0233416723434197,0.1384380663254007,0.4498449016612733,0.1994370861807085,0.5638412854131376,0.1053585635313963,0.956112942328487,0.1454145145766422,0.4294943620318424,0.2195731427719003,1.2553464736278226,0.3004625973215154,0.0692856768333039,0.4341002136536345,0.9714788956734376,0.5492595557420783,0.1551897256107788,0.507752740435697,0.2125567683552323,0.6846219944601167,0.6484202281498976,0.0509677738315017,1.135712918100941],\"y\":[1.4077812513293346,1.7881306911134631,1.0249203712730084,1.2728369845911498,1.1577473348127154,1.0631922418105015,1.089570482102474,1.0659140851525672,1.2795711234612508,1.6294089397860998,1.4251741752723106,1.5175193795802409,1.3976635305512468,1.4184325066524592,1.4379618291379164,1.4898712050071474,1.5918949418424504,0.8729277543578181,1.283862353416852,1.3258227220617065,1.1815796156047624,1.370409849723667,1.4597944861435566,1.0344595017578873,1.526525421698597,1.306595912118588,1.7500444218277502,1.1706537572571376,1.66278289160162,1.1734478359024514,1.6491120519052256,1.4971547593744567,1.2963436216903104,1.6687504105299025,1.0830401493872002,2.2436174544441085,1.094326824995619,1.345878980823815,1.1872079630963035,1.1269624190299004,1.6766951672965211,1.1764908161964645,1.6438975106371332,1.2583680013031306,1.0709527821906637,1.0883013592332345,1.411848723583992,1.4051286538882568,0.8564974475016205,1.1522371549758297,2.200210657194092,1.9365461894198472,1.844811090752987,1.8537505654455764,1.7575941791435443,0.9458700312113052,1.3393579693013236,1.547143261652928,1.318278956080911,1.5853877623860333,1.377548944459373,1.642837919731859,1.8114546459161216,1.3064633433188908,1.0620856386413076,1.4767265166140175,1.326393667031058,1.4673685308572129,1.4438613661879116,0.8091607467821144,1.4203849952200105,1.1862100888730875,1.4204205210955303,1.1424529053429615,1.2355201578858763,1.50260248891075,1.261974908496311,1.4580472510208364,1.8506740897944391,1.5038598049467105,1.1750057341769289,1.1811531589287318,1.2748414997396122,1.4074790530031205,1.193797057784824,1.1335948703599463,1.4358662371379431,1.6922745449964434,1.6250892575678408,1.275818717822959,1.493149983359807,1.7850456886058503,1.0654893586743517,1.031546179087041,1.6076766040607473,1.57595517357504,1.3794129455935735,1.3021403090670611,0.8997543843897722,1.0853140384990974,1.372688801374294,1.4951633321001412,1.0362242632068013,1.02950885495714,1.690978710587305,1.744571702068336,1.5141305802927258,1.4873219419945627,1.5519263419936336,1.551099829825899,1.2106531267873262,1.287287137915307,1.2402421292236856,1.4299627858336668,1.217673886319234,1.82902268454362,1.295718873678544,1.7176367386558238,1.427852014652052,1.56559593873454,1.3665407046729985,1.650036462070256,1.7627937807321707,1.5887322019318249,1.438645892449107,1.3071798294214083,1.1749556825950145,1.4121580330116752,1.6830987450387995,1.6113026068004177,1.2581794050499064,1.0591869440544066,1.3159539089689058,1.8366926036372184,1.7997474599468335,1.6925154039706929,1.5070898257354048,1.1353610356141437,1.2626007497139289,1.2927699374086532,1.1034801403423895,1.1325086597726208,1.2493893439581287,1.3569662283883026,1.3871334946582192,1.8417808126264967,1.280154148532535,1.7020534273754913,1.340301827074817,1.451729222495057,1.6663215216713636,1.471221878620126,1.421438769262445,1.621098564877702,1.4239583039858088,1.823717323736638,1.5353414022674232,1.2055785068249638,1.647298144637371,1.2065084475845602,1.481403042099699,1.4049794510032425,1.1152692675708935,1.3320144952319184,1.0721304670696743,1.068679726604343,1.2047692486691617,1.4390034089427748,1.4328723900775655,0.9968732302283686,1.8068757137105365,1.887008927649353,1.6350596616301585,1.004198747648556,1.8015849060669895,1.6466593372544005,1.1090797338589404,1.288820471609651,1.431342713113715,1.4764674100581765,1.3545493032231222,1.5619922567126063,1.4105592986481577,1.2925816110828503,1.3740026758712502,1.7503865546696635,1.4857711509355087,1.5901892029601328,1.3736113993869348,1.1626566020061249,1.6079429915677428,1.7047562942894716,1.6683141300063686,1.235101553455083,1.0954132598484612,1.3892950719936208,1.2212197939201557,1.2508495949853748,1.679740906146841,1.3587247823305406,1.2032182927280242,1.794121037206446,1.1267623162485432,0.9064249926122178,1.5905660881029238,1.3201294082209607,1.0667622248591255,1.3864919527385366,0.7794650819581512,1.5037130817065385,1.2020637336529931,1.3833870528464534,1.4970192148057198,1.2928248262499311,1.2888413587057506,1.5240659816955175,1.0602724373468118,0.9376650796914296,1.150388860683381,1.4722655475024755,1.4385561070319783,1.219204250331995,1.8664239302695529,1.3537130986333814,1.5191397373840194,1.8738760696571612,1.2430958652769837,1.7559899304990945,1.5929818487585454,1.0646723518113406,1.0258331352016627,1.419861919517039,1.4478264762267377,1.3189198784595475,1.630886168820088,1.102650860031389,1.2542767754747164,1.4495834224296087,1.0921699002699543,1.022632990979941,1.4354555551934975,1.6502831074455693,0.95976113027261,1.4999523251901683,1.512078693695306,1.4094370383838226,1.703648579673733,1.278764943206485,1.2998286547940812,1.2577752359782484,1.019092726041495,1.2770832053618446,1.1641244755697104,1.5443971867659272,1.3546474476665653,1.2270871230076348,1.7175819127239795,0.84868946703764,1.0764207098710077,1.2897336099139731,1.1667465677957092,1.254540297698047,1.3034739836084588,1.2128174827927365,0.8909754455447736,1.579371619806342,1.108628127069115,1.4153060576363223,1.2973375420401534,1.1439593748389842,1.0419510899673023,1.6485997925815694,1.2140672297553936,1.566578523157178,1.836875107359213,1.3209341090299744,1.6822821095314104,1.5152704886066322,1.389304934178516,0.9639635226619214,1.749829748474096,1.8515546681260773,1.3549740940079007,1.517034528228664,1.4373594347222318,0.8085792384091073,1.538241392318773,2.1803131579653225,1.6523358815819815,1.595508079332884,1.6800355507193117,1.0638246896643218,1.1393806403519515,1.028221409102941,1.430430385506951,1.4619651491875476,1.727029963264587,1.3925482067449566,1.482323763387635,1.48706579925189,1.7557922168068496,1.0790084871781431,1.6211398211759949,1.4593743400066668,1.3580352961860656,1.1314615464061404,1.4329428731923703,1.23638388665892,1.0446919812230433,0.9939388026868468,1.3466848035313042,1.8599912282506488,1.9202056930191775,1.613029594007075,1.3695255243581586,1.5815338450403842,1.3516490759032411,1.3467081254957205,1.3782758092160272,1.0658924255942448,1.2666656962064948,1.4004999048539724,1.578791477856433,1.2342080261524018,1.266226361569296,1.280945893395006,1.103409615232427,1.7714930351328124,1.4080063892379109,0.6621661848905195,1.6661051275226504,1.2529895070792676,2.037810098289064,1.5158549802532626,1.5000911978893088,1.5834338432376136,0.783319823493185,1.4036057137731706,1.0606577703513362,1.408201242742815,1.3149759224391244,1.011363991266337,1.4647400289534485,1.4274084171170422,1.5554252315841364,0.9901900804724388,0.8251072327666087,1.4345624608853598,1.3538271926543448,1.2139012409748329,1.3801397280992718,1.3148549433681926,1.1866185821934971,1.5359367451714356,1.4333007048881308,1.3418803533135577,1.2301733313711605,1.761150829481214,1.3675396621924376,1.061919120089098,1.4593597555341755,1.253122144614408,1.8954480109622,0.9429099815372762,1.1799442107810083,1.2552298330935774,1.3452095156686383,1.972865508153484,1.3881359455468012,1.3178969631685855,1.3510252750656055,1.6949148899017046,1.082886050549316,1.2724312722037905,1.1998113857115718,1.4071671804454011,1.775430770676193,1.2615496003180005,1.4550192253410803,1.3408046535049805,1.293756595721668,0.9578334676761838,1.325544700657926,1.4792157711622118,1.1321606679926082,1.5477349279890498,1.464013769549069,1.278589646646349,1.4096565685767994,1.7731537485013795,1.2383727753457665,1.339033767239334,1.0280560267202044,1.279049715965655,1.2210512858443392,1.0988032482741883,1.51478316466951,1.674085337366218,0.936925624349607,1.326908521382128,1.3807980508979254,1.4850390064771168,1.646232662866093,1.7208892128790003,1.5052222971261124,0.8351082839895408,1.1164258048933406,1.2638888680033191,1.18787577577901,1.5965545340182608,1.9089767678816216,1.4261175963394446,1.473029497163596,1.1437850971053858,1.141550454675332,0.8332574289301437,1.1181144822362243,0.9478826100958674,2.007761335104448,1.6045836974756005,1.8144894196540493,1.1973393230966922,1.5237685082536383,1.0880527854054969,1.2191767537318745,1.5512841734424054,1.370892186077721,1.5458539725635174,0.8587220537030522,1.1213813347536334,1.8703289675785597,1.5241949324439472,1.8777200156613605,1.1660529950580956,1.3716222604319637,1.5161816917975135,1.2889846786789905,1.3697754438821117,1.505603777613947,1.297168539121747,1.5184542396773557,1.5717343931995866,1.1202694617394051,1.364562031517144,1.294085823991583,1.5460231830347355,1.550491395247534,1.588557467278468,1.5371872086555165,1.1903645153949391,1.1853548385062869,1.268061047275757,0.7057572497901372,1.800649931530949,1.3568997177730364,1.0406264326256798,1.1798285810500797,1.6846633804385234,1.5292011579033065,1.2316481268705617,1.2703974026320837,1.4685684884795955,1.1435951174171386,1.6285009501365073,1.2983028665288026,1.4438914856329284,1.3671705457778538,1.651255425115634,1.4401166465690038,1.1713558673120463,1.187361763792889,1.0476103154703973,1.3817831142688626,1.7047880128942658,1.8709589427712887,1.3040804635095689,1.7367612397512768,1.1860089222207335,1.403727783491864,1.0652497280147508,1.4307556646038675,1.128464679365819,1.3355983200497317,1.3295070470543982,1.6333109529842298,1.5900117094156485,1.4004965656488375,1.4531867826647278,1.3737030475012106,1.2164341057749473,1.804993833059304,1.6437766032493148,1.4086797950445522,1.3340922041795698,1.5843767040433796,1.950531588475424,1.365464457783602,1.4982312501480113,1.4022284235312206,1.298462114879843],\"z\":[0.4876349472817791,0.4286357878260742,0.637864907501475,0.4528596133995166,0.4921831587334799,0.5556514110107559,0.5507203628078767,0.4107764310139407,0.5071561936362106,0.5351909867828352,0.3210769119449252,0.6515943116965286,0.446345056241371,0.6479172394228567,0.4552267431961613,0.4022766405527188,0.4355838351056083,0.3915300575601964,0.6901202705732574,0.4912433931938095,0.5112685715090342,0.5015337017302692,0.4941647068070949,0.6001360462553587,0.5378257159676035,0.5027506016753507,0.4211657748554793,0.3967737402437588,0.4201795141548825,0.5194826654930373,0.5685987680446937,0.5983143069576625,0.3973098619654696,0.6186136670529483,0.4377098510875172,0.4525037737193488,0.5681418318295879,0.3982383246913206,0.6257824771079306,0.3008571674740175,0.4692429680099,0.4971539618496293,0.3936497375769303,0.5469135832268816,0.3900414444675166,0.4064225186138818,0.6087913812317983,0.330442269668908,0.3856110602812548,0.549664095629872,0.4335631164334961,0.4825074022209414,0.5471707496573022,0.4851704870524038,0.4513212831931735,0.7371324999120858,0.5600992037632513,0.4251895534168191,0.5409628762935194,0.3365043476338625,0.518452248213671,0.5930729528470027,0.4532510377239428,0.7238195264910264,0.5784281501176629,0.4906006629939625,0.5767676701840111,0.6323715583148292,0.5306390760036401,0.5434253427256428,0.4264058050739566,0.3609182059288766,0.3546338536858032,0.5349464555309932,0.6124706118844524,0.4479247648506847,0.4460280296698217,0.6648720172235935,0.5342171865697313,0.4959781481679899,0.4257611726893504,0.5007017481908025,0.4975384747983437,0.6741022023379436,0.4948199686400776,0.3433412856507702,0.5906344884760115,0.5487499179540011,0.4646631818232251,0.6447646660642394,0.4941246399552038,0.5004938643651968,0.606692548140119,0.4240880274669326,0.5648238796850966,0.3790449088469909,0.5431418828845862,0.5083225613308038,0.4535270469107145,0.6349163580334202,0.4211153658547116,0.4134885872872198,0.4789113880590815,0.5760226972573319,0.5389341996238094,0.3826778906816193,0.4997983350202392,0.5815718704910001,0.3454904688795113,0.5391248157552295,0.3888391101536275,0.5448932723975336,0.5334941967144682,0.3676960253763003,0.4320705392469705,0.5453837348827557,0.5766658739300585,0.5255972149235955,0.5994767643230338,0.450824932291557,0.5081761963130446,0.5507977212857685,0.4573631350694154,0.6341404469783074,0.4717310636330857,0.3775635799274089,0.525843475465498,0.5068353138798275,0.3762828976731548,0.4566455520315827,0.3544930057457829,0.3167154438394492,0.3927076506164891,0.4313864393007609,0.5093050378347302,0.3333236605361069,0.5273733835513738,0.4162871370132591,0.5063701657080666,0.4780047300465075,0.598162871231938,0.6236667058065649,0.5248438958357726,0.6031629807566571,0.621474403285052,0.5594837760266766,0.4328990093381204,0.5907757130040788,0.6600956753949447,0.3122010159494969,0.3914602655899926,0.3285765092689183,0.3916868420499905,0.3354238933153644,0.4927547871738642,0.398540875742116,0.52765467795018,0.4949805968088701,0.4221929362519503,0.6255999437067139,0.5863418138540617,0.4612314675288649,0.814199056209122,0.5290281343183503,0.5667349561020509,0.4606032406488048,0.4313368626505091,0.6410318175747177,0.5267280099315103,0.5321021391917088,0.3783987896343023,0.4580735225964665,0.5971832726271177,0.4647373859926149,0.3697536713584018,0.3916179105644379,0.428506780393067,0.5289743381537155,0.5435041614958137,0.4701071961900267,0.3459539018142316,0.5502990075940203,0.3446740359583443,0.4457815460370471,0.4520180665910127,0.5818195174626368,0.5442829626727694,0.4282912913355483,0.289511862245955,0.4111048044632426,0.5109814255544296,0.4859175432775407,0.4990098069850091,0.5551109543225023,0.5174876798372421,0.562986744801427,0.5573407789374552,0.4800642111571617,0.3980910876651575,0.6689882759601091,0.5098188797902523,0.6897252232384736,0.5247858403768593,0.4829578531466297,0.5804706958068202,0.5852430320132938,0.5886948577311071,0.5524378021956929,0.6402066950306868,0.4409523425000661,0.6358525622180983,0.5282745849483533,0.4198916561773513,0.5557222205420481,0.4384582467974316,0.5569892373770429,0.4309384615984742,0.5562777782473667,0.3645893302497441,0.4941234676128063,0.5748504719832952,0.4529316983194094,0.4288593350240857,0.4950529283978865,0.2781567377006382,0.6525064704040158,0.4776483529566681,0.4686625894314957,0.4906152123050953,0.6930899668467188,0.4334342784172629,0.5797555502110432,0.4162994421003074,0.6667678562175403,0.5163447749587946,0.5911720630938114,0.5120502696420159,0.6173415403414168,0.3812499280270413,0.4439723531727199,0.5500399587986092,0.5403853272624388,0.5555642506448992,0.5272555663255916,0.5880866336992625,0.6304434585982669,0.3925821253315977,0.4822336423534508,0.4128064497216521,0.6421823447291265,0.5369746960233582,0.5316343646969935,0.3489743957786191,0.6494012565597328,0.4987583436500026,0.3850286545707286,0.4467283903683576,0.4645014608353414,0.4574738994846396,0.5699245038038877,0.4488798196075084,0.4365073175880697,0.5932960233197639,0.602791988763711,0.5172079195063007,0.4179480989389841,0.5732946536617458,0.5359676535618583,0.6177860714587512,0.5069801806168243,0.3788653328142264,0.4478772230438645,0.494737642988025,0.4316784389533259,0.5060190442475402,0.4993395898469457,0.6118983873230777,0.574167458507579,0.5048845892226171,0.5207973133330382,0.4989597204491188,0.5585963815540504,0.509215812296728,0.4795108345854876,0.5230682317412785,0.4506947268834413,0.4948882568631242,0.4230619787287515,0.5809668665282313,0.609128275595111,0.4963994265088768,0.5182861134408856,0.4080863257087098,0.3667321502740543,0.5712808574669174,0.5661134934066627,0.6102524959760842,0.4668511643774991,0.4957063012284692,0.3451205782738289,0.5069822903808832,0.5264487441132139,0.3631607567314102,0.5053647217928048,0.4481592253616379,0.5077503950747252,0.5003187221479652,0.5633037902736867,0.5435389660254856,0.6373755487555509,0.3453957064174989,0.4992526433724082,0.6178926877334473,0.5524787363871653,0.3833012061301328,0.4453161287737844,0.5425445851038635,0.5005538678641325,0.6675697768980878,0.5005412801594653,0.502911701589264,0.5829303593434735,0.4424044680127026,0.4301584103451844,0.4965313783900212,0.5223447577672201,0.4140581156198973,0.5770070887378012,0.5516082457822529,0.5844854793485885,0.5476213504723496,0.5757469446220167,0.6803793074968633,0.5742883253271591,0.5939528225752646,0.4598695913723671,0.4643278121289472,0.535236356654046,0.5241512274624709,0.3677246103075375,0.5394597409055872,0.3506849964897789,0.4085444789991728,0.5552849714639554,0.548630314581836,0.4497751439214893,0.5559723400405681,0.5165033074831319,0.4337395313161158,0.3698656712125356,0.4143753977023798,0.4267885148201951,0.4416880166379596,0.4929356265330634,0.5048408865461897,0.4949730870243795,0.5346019646863336,0.4895891100093784,0.4485492067416903,0.425318002885462,0.5021785231786428,0.4884301813482982,0.5823407128209143,0.60239360032011,0.4489922719640924,0.4904715513768061,0.6219537488681788,0.5747522104648796,0.5581469334131851,0.538025353429663,0.4090717386626407,0.4036741811374637,0.5126920706996415,0.3372256469486956,0.5260196605559342,0.411317286123498,0.4899827870701815,0.359320113520343,0.6480589118545237,0.5382711800390708,0.5843445502499528,0.556879299747229,0.5221395144778013,0.6069904124983159,0.4833587105502556,0.5020045486188659,0.556545606151725,0.5739657814919269,0.4499010534235634,0.5311571485480573,0.488148675910887,0.4802284064890208,0.6296162283864378,0.4520290556540512,0.4159024142309925,0.6147179722209419,0.4733719088050476,0.6298439325793016,0.4709269220815,0.4715074727179232,0.6270109188938953,0.4913512534295985,0.4625059953798844,0.5238957079315033,0.5803168232316877,0.5341488349993414,0.4081719542950167,0.6086546777949787,0.360393201913802,0.4962208015807831,0.4365084971821577,0.4709127247591232,0.5189848204853774,0.5702606702569271,0.5063862070593347,0.4157563705576879,0.5139637082453071,0.3952715471408157,0.488067412820277,0.5790516561110465,0.4649253802902127,0.5807126535035746,0.5137110516483737,0.5660578115457316,0.7229754835646499,0.6014891107741387,0.5646529455526421,0.5579505577069901,0.5453967374847112,0.4771840098899614,0.3590721832505863,0.4057865200501549,0.4549938806770091,0.3806759819548505,0.4202162031376847,0.4497659355407112,0.3378420605046613,0.3529905741633647,0.6327480046251057,0.5179045636297968,0.5509583041263326,0.515496900554254,0.5993359452863698,0.5306249885709023,0.5684701709099624,0.5133567264493716,0.5023901727615383,0.6126707378196503,0.49948797866654,0.6322214473730575,0.4443172488772171,0.6015456098039008,0.4585656229078275,0.6999026681515702,0.5505605068069772,0.6012672767854821,0.6134452383458552,0.5882043452055975,0.4127099962298726,0.3967970621315394,0.4659038691568042,0.5162008924660687,0.5824187754895337,0.6180721656732934,0.5201482635492408,0.6788427696418582,0.5633745151982565,0.5901319342599024,0.6098344962179449,0.5352436513430296,0.4027811289217726,0.4188358022840682,0.3373951457154818,0.4266300337231962,0.386668423071507,0.6192935488278517,0.4621647935579541,0.5078285934303776,0.4426481814795843,0.5820723111365744,0.6614291632475497,0.6370733875453324,0.7148297304808914,0.4640566615142974,0.5841233583821461,0.4105154970558005,0.5038299238912769,0.3823623838574785,0.4434949622518929,0.4648242146327797,0.530970056580256,0.5125589141212756,0.5422887854663497,0.4336593591886082,0.5418254547515948,0.4244458731666135,0.4736464980947909,0.4493315097206289,0.5514121885454077,0.3889869058332168],\"type\":\"scatter3d\",\"scene\":\"scene3\"},{\"marker\":{\"color\":\"blue\",\"opacity\":0.3,\"size\":3},\"mode\":\"markers\",\"x\":[0.689745626353757,0.6594995555404644,0.5018011530532245,0.7105910757888104,0.2238743325717621,0.6036267791227342,0.3303478203459092,0.4778960045055552,0.7707786886530607,0.2412813390253642,0.5250565534930257,0.4858586461620975,0.1868643200660735,0.691433727549029,0.6775763353745976,0.4494405006929259,0.5216477999234954,0.2618671639062236,0.637779868626777,0.3942350494211203,0.419484694589376,0.7102705780737391,0.8374185571918731,0.1997362247292763,0.3334550237120001,0.5294333026244936,0.2949269065904841,0.8160262029376446,0.4728106874847329,0.2351080850441401,0.6457649415513758,1.0104193695901302,0.1619059281752092,0.8203058188422021,0.2128191964162145,0.3351910084743839,0.5299074735041042,0.5400028052514749,0.7327074949485759,0.6375321491404157,1.113937472379822,0.3000193201632667,0.1606922134156345,0.907830638281997,0.2985109898057109,0.5528435919151314,0.7743907504589461,0.2553446118078873,0.5165814601924602,0.35622225078375,0.4755635303281037,0.6184618172414501,1.052397447455876,0.4134717865763396,0.4483109197414199,0.4496151746967857,0.117888387860951,0.5414165592003902,0.421437493619753,0.4351058675220317,0.6423700782171892,0.3620691249419345,0.8883113225102035,0.4140270522831117,0.2969043262010768,0.1612787149577083,0.17774166193495,0.2936169450151173,0.3087048069512101,0.1772236145615256,0.9270278984958468,0.6168606558953895,0.8463649239825811,0.2270676348807729,0.853342723907072,0.3202453432117799,0.3645299018859961,0.3286311359992748,0.575674059886061,0.3735533267965328,0.6044247188798322,0.4388633624494782,0.4926652591004099,1.0935084770814534,0.2535936632604914,0.2152516559805494,0.3472052983600124,0.458371794325911,0.9275488899575752,0.2665419654930782,0.7684622152329572,0.4918009689010034,0.3619241061809621,0.4538561329311457,0.617173811661582,0.4885089691531025,0.2107361099407804,0.6175104917643615,0.7930760039089465,0.2700040010927109,0.5755641583961693,0.942986553090582,0.3932099321535251,0.3421493355018992,0.7206096244905246,0.4901774800002827,0.234792527012199,0.3475719570594328,0.6584719230886069,0.1505147473172708,0.2567392782596531,0.5136943833335109,0.481208269762381,1.0224271742026996,0.1745546649751887,0.815870256961771,0.5312221696190218,0.2519353502277006,0.6516080203681627,0.3322141133823435,0.5594289599798783,0.265713330903983,0.0892296688958026,0.4286074079247429,0.5053301277374405,0.8783120594632784,0.3593871780754963,0.4105262995343479,0.5859639214920891,0.2297177648540164,0.3845155195701591,0.3953410762763014,0.6148399966336906,0.9940530771905052,0.3713447153984249,0.6151328927361268,0.3537443023985377,0.7581504155713803,0.683946007611061,0.591347792201356,0.7423048545446056,0.3088092053240342,0.3645376033221175,0.3210461916454717,0.2447303605612051,0.8033082280503665,0.336555224002896,0.2956799060802109,0.6546070483094439,0.4293493291214573,0.7673407533379972,0.1335588976046148,0.4448050887918585,1.105738225481635,0.6820487656061072,0.2769000525848963,0.3003112480500841,1.0667795763078165,0.2203801985104344,0.4471082152320744,0.5938441327815925,0.2714568415683231,0.3440801717725013,0.6509453732646812,0.2900820165193102,0.7987399173807662,0.4682485187179786,0.7134075057129258,0.2842634576426857,0.3894510447851266,0.1737921332539619,0.4334448559053112,0.4851929245635212,0.4718858253172873,0.4429956681721756,0.6133030836979018,0.8568368575468497,0.3671611819992209,0.5589745688028768,0.561250502403223,0.3047385559260888,0.5520998950821877,0.3158788531358567,0.5565669236496316,0.3280036328648227,0.3294701009801289,0.9973619533364378,0.3130310061795855,0.5647840547915528,0.7199946867209753,0.5900800775848934,0.358204136040224,0.5239342974134504,0.8393929607079283,0.4888403803442869,0.3603335696327304,0.4206667148062121,0.7703130128598188,0.3590397037875241,0.3240726680423251,0.3065879060439346,0.7151285656032551,0.6150545419520003,0.6849234664721001,0.3731290077026111,0.2063632390161602,0.2750216739759852,0.314955474974142,0.7881845874089521,0.3672361736265318,0.6768916694255797,0.3188789842029486,0.8526920108544128,0.2713110698150845,0.2866311352569681,0.9158659044708644,0.2075397208969402,0.2735994234794534,0.7274713709478947,0.3603776442098125,0.6731925333874829,0.4223254710197917,0.8625910290889417,0.3480390184106366,0.2146129879641285,0.2650334600114415,0.2769786932070852,0.468676104395276,0.2000857208492544,0.8138919659710225,0.954661091226078,0.6797976321468847,0.2939877630697113,0.3053786252926618,0.2771526226932726,0.3569127062532932,0.6454263463130764,0.8323006650662903,0.3893370537405773,0.8218098510065377,0.1625798779740333,0.5135922072572523,0.5077819029888223,0.6108488240528067,0.6246568718577533,0.842752113198656,0.35773053833872,0.6945366769507915,0.3857692670160857,0.5575938224115766,0.4483953806740187,0.5080049824643242,0.2155060138913094,1.2142065657148098,0.487539698571967,1.053029851200678,0.2555827318437676,0.6416562873175222,0.7885139807554912,0.3969832038012013,0.3100618060096629,0.1935002265468935,0.3396420586098208,0.7856200933835348,0.4100983060637643,0.4661570647944841,0.572777362419355,0.264791567396595,0.7672395127392316,1.2189197884483316,0.4608251337327106,0.5628040276695947,0.2959386550139222,0.1402828605646155,0.5676847878135521,0.3760750256802553,0.2542283758242415,0.8423354018416883,0.7175146201606364,0.4144951231892213,0.3369723557531399,0.4603221497464415,0.779117029236047,0.4705240906857049,0.8978309312120665,0.176898589416826,0.2882784494172385,0.5844772857553424,0.6466841612274011,0.1838661167193004,0.498448726181009,0.5340592600085916,1.302070880341322,0.5306470938637079,0.2699390384730231,0.6855243847481877,0.131746724904382,0.5442329147349637,0.3325181051584898,0.3171725857009591,0.540226631244504,0.7149034296428748,0.1242512152472649,0.6365648782757115,0.3892693711572482,0.701095648765456,0.7612015627649564,0.4148656807944572,0.4752607621428131,0.5167436420728101,0.9231764318148474,0.3195177277568309,0.0800808082194039,0.6079616167479552,0.4289845776105803,0.422193807803993,0.2147637128178052,0.6236076086820208,0.5297667513975425,0.6486697305534209,0.7025835478158351,0.4360114223021695,0.7215877401706272,1.1235620423220218,0.4998576850864616,0.2379931630958264,0.2125553887047497,0.6720540055168871,1.2722181892363993,0.4908607668944379,0.6128468873969852,0.4372909758014268,0.3488683086604613,0.5390407641260897,0.2188849389757234,1.0653985569347817,0.357306180285309,1.4473743048617738,0.632457116144674,0.5946368096261754,0.8024742634278472,0.1695193546198099,0.4403661595030277,0.2659602636946555,0.5651990524802881,0.6135281077478465,0.1445457461239329,0.419372424604436,0.5402314995296836,0.2451818401733619,0.6051644588857031,1.045984970934468,0.1910539344059276,0.2964515245550486,0.5154670863341902,0.2965705035112309,0.2718067770164866,0.4954380707517689,1.390077120472362,0.5486025536226651,0.471003466610604,0.2749619362101987,0.4066300306609943,1.128797672719667,0.7722865446038026,0.2103547377258279,0.4835211168601691,0.4548844179264978,0.3072828135281145,0.336631675405611,0.3208246939907288,0.9756404874331602,1.1022778686126056,0.221905199719349,0.2539246011565849,0.5904126853255929,0.483495151610427,0.2925671470255059,0.1511433064339683,0.4355700362756828,0.5876352936371256,0.7368714955220891,0.8132820707684301,0.8865013228719751,0.6620162999060578,0.2036316863281081,0.8356048475856143,0.4278027231705706,0.6096081959144678,0.6787939817272481,0.3284132025956326,0.2888687271812402,0.227105739523628,1.336295761157943,0.4534289956827387,0.4922851623032781,0.2473339378807815,1.0556701063110892,0.2297868886506578,0.587142579374872,0.5379160710163626,0.5354634693933953,0.4758390328219469,0.6610926356967577,0.1989605829056898,1.1862667144903092,0.188657085509857,0.4601136521471076,0.2699046352519818,0.3711835309075559,0.8499854435725339,0.2606267968554858,0.531039815936984,0.3102168571499016,0.4619462542137851,1.5983360964307467,0.8947164629607439,0.1503909888242139,0.1231340931114067,0.2231603709884908,1.1266705710554843,0.811738081412966,0.5564186389518411,0.6603700851423668,0.4177624768628193,0.5106997562528576,0.6848655744737248,0.5956687495328546,0.414174436675483,0.229364618549299,1.4179037155110503,0.3312942036724587,0.4030355887421618,0.4065485390952938,0.4334584786560099,0.4272027005386587,0.3874703416779161,0.436678116794407,0.1608234508010048,0.0927064439698753,0.2734764364424099,0.4310940075129875,0.7480366607417003,0.3857399036192548,0.630338686721234,0.2653182667900609,0.6000695331669864,0.2862959575041158,1.1923541415039114,0.7725434369493023,0.3468572310594811,1.5961137372868162,0.8583223533070283,0.1123828172088878,0.7138848262444994,0.4047685240433015,0.3592977449002187,1.1344665850046096,0.5005810814455496,0.215247118955713,0.5206850554204425,0.3637574270189649,0.944175758998728,0.5627491578791455,0.4290408307475341,0.3735748005814532,0.6129054692095569,0.9861221238482928,0.6742770405805374,0.9181730123981152,0.1753897315334827,0.4019802184791935,0.41989502623879,0.5141660560787543,0.6944818902201935,0.2027646769645347,0.446933370472392,0.2872696918646024,0.5631687691446176,0.2685724213458611,1.0542255766650457,0.4342568332557192,0.7826484241065575,0.4954113142663292,1.0813944935560096,0.4061905536617792,0.1737671048387442,0.4284070261395294,0.7878473624515436,0.5014484314652867,0.2461290797718654,0.4778322466738189,0.3434652582311279,0.5431479449951805,0.400156425650128,0.1792559731304684,0.7538948177748072,0.3295295559837747,0.2846190267456008,0.2074193867983625],\"y\":[1.8086470973377484,1.0361433295536469,1.2870488110629252,1.1705672441824038,1.074874204148289,1.101569352949974,1.077628727424668,1.2938646083903709,1.6479724996219696,1.441238534713672,1.5347117129244956,1.413392553278534,1.4344146589777425,1.4541821736193663,1.5067254540592363,1.6099982348772677,0.8823380578093193,1.2982078858036337,1.3406776593114782,1.1946871682538625,1.385806999129558,1.4762813085196251,1.0457967751089827,1.543827947711782,1.3212173269213006,1.770091458405644,1.18362940079979,1.6817563515585183,1.1864572063163834,1.6679175580820722,1.5140980424522368,1.3108405887188004,1.6877972054081478,1.0949605241089742,2.269779883939585,1.106382884809218,1.3609777022431535,1.2003834933251378,1.139411251300942,1.695839614751705,1.1895369229083228,1.662638970794794,1.2724044535836396,1.082727934243981,1.1002849728558155,1.4277506131173583,1.4209486387342545,0.8657128819933059,1.1649906051217065,2.225832684835889,1.9588959538430375,1.8660268723730835,1.875076741560224,1.7777342203606907,0.956148089455126,1.3543774069362997,1.5646981755951457,1.3330422480843624,1.6034112705059809,1.3930329956477394,1.6615663669729008,1.8322587228704603,1.3210831486039478,1.0737543158511265,1.493420140065897,1.3412555414965477,1.4839478448677397,1.4601536973960736,0.8178160600544209,1.4363909539329225,1.199373565783391,1.4364269129852305,1.1550883889985155,1.2492798965878276,1.5196123789762936,1.2760550690777757,1.474512740165366,1.8719622714395536,1.5208850693617912,1.1880339116289966,1.1942555616707111,1.2890776306724991,1.4233276824244476,1.2070521914196362,1.1461236026081854,1.4520610145764483,1.7116105492565927,1.6435997921210088,1.2900666981172535,1.5100443094669231,1.805524058277279,1.0771989011378515,1.0428485333189732,1.6259734624464337,1.5938630563867568,1.3949196904391898,1.316707633080633,0.9094833404404494,1.097261742893347,1.3881136891715735,1.5120822698705267,1.047582691746162,1.0407867931522288,1.7102987786716362,1.764551332518572,1.5312814586071246,1.5041450340061466,1.5695398304212915,1.568703196000779,1.224112007792104,1.3016742153867698,1.2540590342480338,1.446085548974413,1.2312176758118982,1.8500435534416784,1.3102082588435604,1.7372847627815773,1.443949032812711,1.5833768761232785,1.381890765978151,1.6688533230452955,1.7829978861195743,1.606796714445664,1.454874583177196,1.3218083336650086,1.1879832558003722,1.428063692907284,1.7023219177477118,1.6296439518596664,1.2722135721139634,1.070820825218158,1.33068896069179,1.8578081504429096,1.8204071224056249,1.7118543703789568,1.5241545894748485,1.1479110489046032,1.2766884948786927,1.3072235372419343,1.1156462961902378,1.1450243048600577,1.2633170222621464,1.3721997963036898,1.4027342515610974,1.8629591785806807,1.2944547043157817,1.721509710943251,1.3553327390913612,1.468117581054396,1.6853384663922957,1.4878482575578904,1.4374575771655398,1.6395601186030444,1.4400078357792463,1.844672713631578,1.552751826464545,1.2189760322750718,1.6660813709493023,1.2199172156021918,1.4981538036845596,1.4207976175791992,1.127577297975183,1.346944673333229,1.0839197642769114,1.0804275795070262,1.2181569909307075,1.4552364618039788,1.449030644672024,1.0077604336410138,1.827623301903849,1.9087460271822545,1.653692595809913,1.0151735934663932,1.8222672315583963,1.6654347175005118,1.1213132667451269,1.3032261513987404,1.4474823082016892,1.4931578679904,1.3697534708974457,1.579729042992417,1.426445471041895,1.307032925722124,1.3894435566409238,1.7704378055401806,1.5025752905086205,1.6082715802975844,1.3890475173107308,1.1755357374810982,1.6262431180417598,1.7242458286260065,1.6873555630038517,1.2488562249042086,1.1074823846120851,1.4049221549206987,1.2348064773309486,1.2647949610126232,1.698922795982134,1.3739797435465595,1.2165872863456422,1.8147113101104089,1.1392087383196643,0.9162332736969422,1.6086530866964013,1.3349151778753787,1.0784870513235605,1.4020848966536448,0.7877700574125786,1.520736551969979,1.2154187712941245,1.3989421864966574,1.5139608407927707,1.307279092120048,1.3032472919039373,1.541338412251022,1.0719193481846128,0.9478453218127088,1.1631200221330171,1.4889046749092183,1.4547837022780865,1.2327665514174737,1.887906652745026,1.3689070950799709,1.536351894107392,1.8954508665336856,1.2569473245507046,1.7761102075887711,1.6110984699659063,1.076372084570137,1.0370670292365738,1.4358615002872452,1.464167198410058,1.3336909556336656,1.649467863596911,1.114807039192229,1.2682636585472058,1.4659455888562487,1.1042000240819665,1.0338285467909247,1.451645322371676,1.6691029980886705,0.970204906902582,1.516929811374769,1.529204473598358,1.4253095318452662,1.7231244865629227,1.293048651163263,1.314367919256847,1.2718045057961411,1.030245876960754,1.2913465190439632,1.177021322340595,1.5619184757718765,1.3698528091482918,1.2407447966235845,1.7372292621150704,0.8578123765629698,1.0882615445170936,1.3041503683976747,1.1796750556474933,1.2685303733422255,1.318057497348287,1.226302536525997,0.900600059064431,1.5973213777737765,1.1208562252984788,1.431250093113844,1.3118465715558731,1.1566130180530778,1.0533781833618217,1.6673990066595192,1.2275673973443393,1.5843714997023697,1.857992907222324,1.3357296539876575,1.701495241773897,1.532435310857804,1.404932137222729,0.974457461069947,1.7698741407878422,1.872853724617408,1.3701834287759032,1.5342209301277852,1.453572429563618,0.8172276833574075,1.555687315958754,2.205687619520542,1.6711809883116622,1.6136556800885176,1.699221062898993,1.0755142450940585,1.1519790938383483,1.0394839195035774,1.446558852199261,1.4784784765071062,1.7467936033451517,1.4082149138002298,1.499085775472358,1.50388576083876,1.7759100581487313,1.0908804136380064,1.6396018812418485,1.4758560324040504,1.3732818694403008,1.143964576050004,1.4491019875874376,1.2501540811825902,1.0561519456277948,1.0047909091036953,1.3617933236872573,1.881394485388596,1.9423532830043373,1.6313921288110318,1.3849119107837895,1.599510107534469,1.3668179678645886,1.3618169292493163,1.393768709578959,1.077606807791242,1.2808027093847707,1.4162634857431295,1.5967341247517657,1.2479518816617376,1.2803580495149949,1.295256051631024,1.115574922609094,1.791804343502693,1.4238614456983407,0.6690961064985662,1.6851194129389129,1.2669607954072497,2.0614144391368647,1.5330269525036024,1.5170703820172782,1.601433397335515,0.7916702284409869,1.419407139677917,1.0723093066997915,1.4240586740588266,1.3296990962052782,1.022424597775078,1.4812872418893672,1.443500024982975,1.573081573654246,1.0009973593441286,0.8339510136773867,1.4507413326915102,1.3690225768717483,1.2273994011248608,1.3956553217302203,1.3295766478371307,1.199786993226452,1.5533544568291646,1.4494641843886462,1.3569304562447355,1.2438683530536871,1.7813346911512935,1.3829018803123956,1.07358579825779,1.4758412698566747,1.2670950397540734,1.9172894321565144,0.953152745435322,1.1930320147681324,1.2692282626273257,1.3603000966782186,1.995664910521652,1.403748911119499,1.3326556152654778,1.366186580193645,1.714283366918537,1.0948045732872915,1.2866381797162154,1.2131391997040557,1.4230120089013218,1.7957906127579997,1.2756246066940755,1.47144774620834,1.355841678501258,1.3082221681742436,0.9682542391204318,1.3403962598897128,1.4959398073893675,1.1446721204628292,1.5652970871067116,1.4805521134127737,1.2928712287324309,1.4255317377899943,1.7934855250255717,1.2521670477351192,1.3540492636798227,1.0393165553814852,1.2933368774745173,1.2346359307055796,1.110913144084983,1.531942025663673,1.6931977037979642,0.9470970534722066,1.3417766516723035,1.3963216600034076,1.50183419875025,1.665002802622442,1.7405772665374024,1.522264222693648,0.8440703815183003,1.1287477579870668,1.2779922245278337,1.2010593728212533,1.6147149683018656,1.9309854717847716,1.4421934613168828,1.4896779565405776,1.1564366394418066,1.1541750604768886,0.8421976233776821,1.1304567654938331,0.9581846691940488,2.0309931008148654,1.6228426134590186,1.8353309392306223,1.2106372609725484,1.5410372988744967,1.1000334108236527,1.232738722201907,1.5688897972413935,1.3862952060711355,1.563393099148927,0.8679638594316099,1.1337629528252888,1.8918599363922168,1.5414689408731868,1.8993423126742248,1.1789731131118528,1.3870341664704715,1.5333576607207482,1.3033923506878953,1.3851648720015075,1.5226503682261074,1.3116755175379853,1.5356580099275636,1.589590548281109,1.1326376914956966,1.3798880147043495,1.3085553915758452,1.5635643815671765,1.5680873101234551,1.6066198373599907,1.5546202274112726,1.2035781772195546,1.1985079852886036,1.2822149743342106,0.7131964316211307,1.8213207249270285,1.372132476596184,1.052037641412179,1.1929149887832515,1.7039057908562103,1.5465364288388033,1.2453609977122375,1.2845796522450506,1.4851624581543177,1.1562443696125224,1.6470533635896478,1.3128236119480745,1.460184184399513,1.382528271882007,1.670087259431931,1.4563632826234405,1.184339985499372,1.200539151828556,1.0591052843281483,1.3973187174761403,1.724277937449029,1.8924976952945245,1.3186713397096543,1.7566446878203017,1.1991699693064728,1.4195306969319947,1.0769563932171864,1.4468880989466135,1.140931606832373,1.3505720561735368,1.3444067530917632,1.6519224169035258,1.6080919103972524,1.416260105851286,1.4695929336492513,1.389140281013143,1.2299628995468987,1.8257182070324776,1.6625165785138447,1.4245430589802992,1.349047634141537,1.6023878169403645,1.973054449619548,1.3808014222115372,1.5151876940531823,1.4180130663029165,1.3129847931006504,1.4747485319721334],\"z\":[0.4975291812480322,0.4373911518069314,0.6492543673247365,0.4639194490109171,0.5025791781963312,0.5682499154144119,0.5628167304927758,0.4217940288433942,0.5171640363602323,0.5464839510341583,0.3311889050846267,0.6644376144924173,0.4569867180109734,0.6619828217526736,0.4644525559840818,0.4108268581359102,0.4461302306980944,0.401106794739476,0.702310376465509,0.4993873600522509,0.523065805036265,0.5125427360674705,0.5045851993498494,0.6110028673672797,0.5516171652582463,0.5136696086934314,0.4308274313295979,0.4054585494050495,0.4292750537096025,0.530128199733128,0.5813729307513749,0.6112880499249334,0.4082481389969053,0.6310293744384226,0.4481378143099568,0.463051686672093,0.5799852997169298,0.4078491072825259,0.6375226126776599,0.3083743868575389,0.4787764283772827,0.5070139624129864,0.4052773975488006,0.5590084474363396,0.3998728089665629,0.4162768280951964,0.6207941280379348,0.3413840658193344,0.3947971354988888,0.5620795388569051,0.4437014672776795,0.4922806565728285,0.5602633596885925,0.4973419563699766,0.4609290381646681,0.7500593248797396,0.5726824602927882,0.4356449205071683,0.5529350210749806,0.3444843275641271,0.5288292310165784,0.6027965792051205,0.46554981318806,0.7343568247621103,0.590198727803346,0.501213419752975,0.5874655190426931,0.6451816860641724,0.5408601534870378,0.5538619681386594,0.4378073558798017,0.3687722093299244,0.3652547152700716,0.5467938197365134,0.6238814487412165,0.4603271409643837,0.4565612602181677,0.6779624649701068,0.5460346389020089,0.5064309479704344,0.4354667011202703,0.5097726736435713,0.508206754746588,0.6857372125019209,0.5058708043541227,0.3519930630229795,0.6026874413326215,0.5592411988040965,0.4745049292577704,0.6570354536784968,0.5051227191297138,0.511922649870931,0.6171661176558492,0.4326671919245212,0.5757637130421672,0.3874188302265715,0.5559296519498196,0.5196735252893436,0.4643133023261549,0.6474866829724762,0.43129281211421,0.4238942503686124,0.4912936595774589,0.5881990330234736,0.5503145087336636,0.3919962750108393,0.5089336235939114,0.5940146393839707,0.3538287467853039,0.5490230408386002,0.3995418859956416,0.5552303016622973,0.545972742829103,0.3755710323015951,0.4426091594494768,0.5567410348731824,0.5903231672990285,0.5366814455569029,0.612055562378818,0.4609987369914679,0.5218781016126035,0.5630496460664294,0.4680233183290676,0.6473948028432858,0.4814674688033801,0.3858255968732722,0.5379925561014485,0.5197555629517272,0.3860409518071107,0.465784992601556,0.3622305754815386,0.324669732408416,0.4026802186158123,0.4420083595164275,0.519801713760001,0.3432161337045862,0.5382562334112505,0.4267487597981874,0.5168919610163859,0.4877396740548241,0.6111957139229849,0.6352279719731891,0.533996428415906,0.6135049192242057,0.6326178470990403,0.5733283565170815,0.4421163428644022,0.6021465384165154,0.6745272444658535,0.3193276178175097,0.3998152092513397,0.3361447476073061,0.4016990682936554,0.3430459753154498,0.5044115358630312,0.4085642865319213,0.5387211401808457,0.5059840354773356,0.4316435238541808,0.637262526251569,0.599094845894077,0.4709211455991506,0.82513292964297,0.5414702425417462,0.5782387254751559,0.4719183744497271,0.44212889177545,0.6522922073291437,0.5385237403286776,0.5422164097148457,0.3872237144655362,0.4675223769589534,0.6080983874223236,0.4751680086422804,0.3786207758239664,0.4024358485946396,0.4382439887081315,0.5385597096610902,0.5566607202567957,0.4804481861962532,0.3558672249801787,0.5633102355404237,0.3521385053210071,0.4554844413630841,0.4633966586103509,0.5940690879767514,0.5558345287640947,0.4379972509215186,0.2979074721246737,0.4211572439026994,0.5241923330946945,0.4951103241915564,0.50888159938096,0.5684191208474195,0.530717509048784,0.5753794033895742,0.5696435159417088,0.4916117143827017,0.407160508342142,0.6804345147463273,0.5195201856419701,0.7006976034454786,0.536113188081535,0.4936974487006725,0.5907393389698921,0.5966911411366784,0.6008296764407213,0.5641795286002808,0.6516246381800791,0.4521164987875089,0.6475016416081985,0.5410862384452407,0.4284888830219742,0.5665019487860734,0.4511317533865165,0.4729725641045092,0.4388816952221179,0.612842404650739,0.7176416847040805,0.3583529714759059,0.4923702383766821,0.5626854962167777,0.5384588905475651,0.6778895716307365,0.5045914047604884,0.5000038088299077,0.5098416871072784,0.5408288836261818,0.4071453624822894,0.3727139087182789,0.5088499946261041,0.5177272806681334,0.444852693230544,0.386499394208358,0.4721872828629855,0.4112097172422326,0.530778106595756,0.5118929325627175,0.5718928535186456,0.474297619581207,0.5483447371679923,0.3634988986690868,0.4413470901349242,0.4192792861730171,0.5511701324249968,0.421869360474823,0.5486761895054715,0.5945714076923898,0.4242261124314591,0.4339997599058447,0.4211043799519598,0.6192008951813885,0.5480609209500135,0.419561741401298,0.6209719799029486,0.4994825544211702,0.5668019410093733,0.6592623933255158,0.3432148259941011,0.5141415856935023,0.5818963072330229,0.5419913133951066,0.321825094066321,0.5384930493716081,0.5724822527386855,0.4445688009871848,0.4366073822300285,0.4759990532070478,0.3942337634087839,0.5435995842395406,0.627561428247936,0.4979213402595911,0.6083074872444763,0.4741051166910093,0.4584574670596646,0.5864666843679555,0.3794791385919132,0.4064720606125467,0.4857048643016336,0.5037565176592366,0.4955542192638075,0.5343846818148594,0.4043718174097415,0.5466876485742852,0.5058788951348181,0.5449789556891227,0.501306961440973,0.6093376387402091,0.372231522819262,0.4326075142744831,0.4910692948814127,0.5004459855303003,0.6081272219800486,0.5406084770666523,0.5309362662733648,0.3817650050059161,0.3620957664940119,0.6701146907152398,0.5444326075677439,0.6057090140464366,0.4625749979069954,0.5653681425967383,0.5787365517681101,0.5808307340816755,0.4984596059138288,0.4375613809901694,0.5850127570938134,0.449247597504501,0.368016664855977,0.4439872650305627,0.6316039775396335,0.4963271243186747,0.4032090784428759,0.5740899964324453,0.5573812619531202,0.5148337944554682,0.4931430651464819,0.4308316748373542,0.3715947255486472,0.4986816322764664,0.3870775564520028,0.6034798066889047,0.5018588966793883,0.6047011996456361,0.4614335221402531,0.5158996066113386,0.5796031202972585,0.4088285388918429,0.383140293063046,0.5542265555853214,0.4181394442898783,0.342608980150679,0.3145766408951709,0.4596021290413279,0.5350610289645114,0.4532214026487604,0.6272992068554685,0.4636218045894187,0.5010613998721271,0.580468520537043,0.5728558125532317,0.5682072505077296,0.5555432445844166,0.521086660549242,0.4929585133940376,0.5323412358479782,0.3599219278113315,0.5584447938215553,0.660958573496855,0.555282808079919,0.6378421698638971,0.5961071477344535,0.4717036599045252,0.5947317672367313,0.4180144119586644,0.5116529893649916,0.4305109015849635,0.550033584327591,0.6689182455484071,0.469367952235162,0.4973553997542642,0.4610528547338273,0.4189774739413953,0.5485821614232385,0.4186275036492954,0.5378556722599303,0.3146901708213259,0.4797122539847811,0.5443784225673667,0.4761310351185655,0.6508560748434696,0.5282972303843768,0.5965140337980527,0.5700091739337921,0.5345224535439533,0.5157478197112934,0.6755211173484047,0.3496978835649367,0.4255998721474196,0.556371818232246,0.3788004849066396,0.4331449720087864,0.5781473595010379,0.4856733892268102,0.3843926075457987,0.4474653635290899,0.4621649280062078,0.4596931596918857,0.5939114774852366,0.4579141471649973,0.4684553178986267,0.4918438411614964,0.4954263804500899,0.5755175092530862,0.4968731459494128,0.4478211445401631,0.3845851922572304,0.6265194034485315,0.4526829910402262,0.4717792259054366,0.3956907486834924,0.5039249804574872,0.5401416582193019,0.4375200336471239,0.4045055060264035,0.6861304587268879,0.3638624781419429,0.5824320947407181,0.6485248223023407,0.4000789957098162,0.6124212810550383,0.445559782969641,0.5415239949029087,0.4385947042863777,0.6015660422391246,0.5074910589482081,0.5525816516320903,0.5311997859853246,0.51275843130637,0.4343842333617558,0.560529496608801,0.2971403751555549,0.6032559475040841,0.3924321172819426,0.2545652011210828,0.5006703112131295,0.3469190078322812,0.4522762938292552,0.5455870622307233,0.5977255235308262,0.6579899663409007,0.5468567161300343,0.6167276961662486,0.5557248518283753,0.6431748999035725,0.6308996279685835,0.5317008545653605,0.626634196244705,0.3843500893422226,0.5138549025775677,0.4455202524559862,0.401900893321456,0.5106939360338965,0.4338627610723397,0.4332558257274013,0.5432866117956467,0.3608810692378503,0.5033055868525128,0.4464929018412218,0.5427763547659435,0.3969115929711394,0.4661113367723152,0.4260172218818735,0.3298656319606895,0.4591095949142232,0.4479894497601481,0.3574329241712715,0.5013139690772319,0.6974086183385284,0.4395211005221787,0.6306739422616802,0.5140316636386589,0.2774065649953403,0.5312533994338111,0.3272954819874448,0.3889532227770576,0.3931095119893225,0.4118417034859598,0.4994423522259782,0.4824457946031857,0.6491593409170344,0.5802624802649329,0.7008059676067747,0.5515573144876272,0.5057928510575178,0.4501086961181765,0.482396931681024,0.6368852891949124,0.3866601948222029,0.4701447768273437,0.2856645896861811,0.3762526872459931,0.3269074082331935,0.5225281354389262,0.5101181940261771,0.5968486259465576,0.5180512542103841,0.5789698005873394,0.5262199777073332,0.5059307022725177,0.5004658262815436,0.4480430360971122,0.5471633320704232,0.749658439725482,0.318468157087396,0.5954249696902866,0.4680873752864637,0.5987810502046095,0.4653513731520898,0.5692039580469317],\"type\":\"scatter3d\",\"scene\":\"scene4\"}],                        {\"template\":{\"data\":{\"histogram2dcontour\":[{\"type\":\"histogram2dcontour\",\"colorbar\":{\"outlinewidth\":0,\"ticks\":\"\"},\"colorscale\":[[0.0,\"#0d0887\"],[0.1111111111111111,\"#46039f\"],[0.2222222222222222,\"#7201a8\"],[0.3333333333333333,\"#9c179e\"],[0.4444444444444444,\"#bd3786\"],[0.5555555555555556,\"#d8576b\"],[0.6666666666666666,\"#ed7953\"],[0.7777777777777778,\"#fb9f3a\"],[0.8888888888888888,\"#fdca26\"],[1.0,\"#f0f921\"]]}],\"choropleth\":[{\"type\":\"choropleth\",\"colorbar\":{\"outlinewidth\":0,\"ticks\":\"\"}}],\"histogram2d\":[{\"type\":\"histogram2d\",\"colorbar\":{\"outlinewidth\":0,\"ticks\":\"\"},\"colorscale\":[[0.0,\"#0d0887\"],[0.1111111111111111,\"#46039f\"],[0.2222222222222222,\"#7201a8\"],[0.3333333333333333,\"#9c179e\"],[0.4444444444444444,\"#bd3786\"],[0.5555555555555556,\"#d8576b\"],[0.6666666666666666,\"#ed7953\"],[0.7777777777777778,\"#fb9f3a\"],[0.8888888888888888,\"#fdca26\"],[1.0,\"#f0f921\"]]}],\"heatmap\":[{\"type\":\"heatmap\",\"colorbar\":{\"outlinewidth\":0,\"ticks\":\"\"},\"colorscale\":[[0.0,\"#0d0887\"],[0.1111111111111111,\"#46039f\"],[0.2222222222222222,\"#7201a8\"],[0.3333333333333333,\"#9c179e\"],[0.4444444444444444,\"#bd3786\"],[0.5555555555555556,\"#d8576b\"],[0.6666666666666666,\"#ed7953\"],[0.7777777777777778,\"#fb9f3a\"],[0.8888888888888888,\"#fdca26\"],[1.0,\"#f0f921\"]]}],\"heatmapgl\":[{\"type\":\"heatmapgl\",\"colorbar\":{\"outlinewidth\":0,\"ticks\":\"\"},\"colorscale\":[[0.0,\"#0d0887\"],[0.1111111111111111,\"#46039f\"],[0.2222222222222222,\"#7201a8\"],[0.3333333333333333,\"#9c179e\"],[0.4444444444444444,\"#bd3786\"],[0.5555555555555556,\"#d8576b\"],[0.6666666666666666,\"#ed7953\"],[0.7777777777777778,\"#fb9f3a\"],[0.8888888888888888,\"#fdca26\"],[1.0,\"#f0f921\"]]}],\"contourcarpet\":[{\"type\":\"contourcarpet\",\"colorbar\":{\"outlinewidth\":0,\"ticks\":\"\"}}],\"contour\":[{\"type\":\"contour\",\"colorbar\":{\"outlinewidth\":0,\"ticks\":\"\"},\"colorscale\":[[0.0,\"#0d0887\"],[0.1111111111111111,\"#46039f\"],[0.2222222222222222,\"#7201a8\"],[0.3333333333333333,\"#9c179e\"],[0.4444444444444444,\"#bd3786\"],[0.5555555555555556,\"#d8576b\"],[0.6666666666666666,\"#ed7953\"],[0.7777777777777778,\"#fb9f3a\"],[0.8888888888888888,\"#fdca26\"],[1.0,\"#f0f921\"]]}],\"surface\":[{\"type\":\"surface\",\"colorbar\":{\"outlinewidth\":0,\"ticks\":\"\"},\"colorscale\":[[0.0,\"#0d0887\"],[0.1111111111111111,\"#46039f\"],[0.2222222222222222,\"#7201a8\"],[0.3333333333333333,\"#9c179e\"],[0.4444444444444444,\"#bd3786\"],[0.5555555555555556,\"#d8576b\"],[0.6666666666666666,\"#ed7953\"],[0.7777777777777778,\"#fb9f3a\"],[0.8888888888888888,\"#fdca26\"],[1.0,\"#f0f921\"]]}],\"mesh3d\":[{\"type\":\"mesh3d\",\"colorbar\":{\"outlinewidth\":0,\"ticks\":\"\"}}],\"scatter\":[{\"fillpattern\":{\"fillmode\":\"overlay\",\"size\":10,\"solidity\":0.2},\"type\":\"scatter\"}],\"parcoords\":[{\"type\":\"parcoords\",\"line\":{\"colorbar\":{\"outlinewidth\":0,\"ticks\":\"\"}}}],\"scatterpolargl\":[{\"type\":\"scatterpolargl\",\"marker\":{\"colorbar\":{\"outlinewidth\":0,\"ticks\":\"\"}}}],\"bar\":[{\"error_x\":{\"color\":\"#2a3f5f\"},\"error_y\":{\"color\":\"#2a3f5f\"},\"marker\":{\"line\":{\"color\":\"#E5ECF6\",\"width\":0.5},\"pattern\":{\"fillmode\":\"overlay\",\"size\":10,\"solidity\":0.2}},\"type\":\"bar\"}],\"scattergeo\":[{\"type\":\"scattergeo\",\"marker\":{\"colorbar\":{\"outlinewidth\":0,\"ticks\":\"\"}}}],\"scatterpolar\":[{\"type\":\"scatterpolar\",\"marker\":{\"colorbar\":{\"outlinewidth\":0,\"ticks\":\"\"}}}],\"histogram\":[{\"marker\":{\"pattern\":{\"fillmode\":\"overlay\",\"size\":10,\"solidity\":0.2}},\"type\":\"histogram\"}],\"scattergl\":[{\"type\":\"scattergl\",\"marker\":{\"colorbar\":{\"outlinewidth\":0,\"ticks\":\"\"}}}],\"scatter3d\":[{\"type\":\"scatter3d\",\"line\":{\"colorbar\":{\"outlinewidth\":0,\"ticks\":\"\"}},\"marker\":{\"colorbar\":{\"outlinewidth\":0,\"ticks\":\"\"}}}],\"scattermapbox\":[{\"type\":\"scattermapbox\",\"marker\":{\"colorbar\":{\"outlinewidth\":0,\"ticks\":\"\"}}}],\"scatterternary\":[{\"type\":\"scatterternary\",\"marker\":{\"colorbar\":{\"outlinewidth\":0,\"ticks\":\"\"}}}],\"scattercarpet\":[{\"type\":\"scattercarpet\",\"marker\":{\"colorbar\":{\"outlinewidth\":0,\"ticks\":\"\"}}}],\"carpet\":[{\"aaxis\":{\"endlinecolor\":\"#2a3f5f\",\"gridcolor\":\"white\",\"linecolor\":\"white\",\"minorgridcolor\":\"white\",\"startlinecolor\":\"#2a3f5f\"},\"baxis\":{\"endlinecolor\":\"#2a3f5f\",\"gridcolor\":\"white\",\"linecolor\":\"white\",\"minorgridcolor\":\"white\",\"startlinecolor\":\"#2a3f5f\"},\"type\":\"carpet\"}],\"table\":[{\"cells\":{\"fill\":{\"color\":\"#EBF0F8\"},\"line\":{\"color\":\"white\"}},\"header\":{\"fill\":{\"color\":\"#C8D4E3\"},\"line\":{\"color\":\"white\"}},\"type\":\"table\"}],\"barpolar\":[{\"marker\":{\"line\":{\"color\":\"#E5ECF6\",\"width\":0.5},\"pattern\":{\"fillmode\":\"overlay\",\"size\":10,\"solidity\":0.2}},\"type\":\"barpolar\"}],\"pie\":[{\"automargin\":true,\"type\":\"pie\"}]},\"layout\":{\"autotypenumbers\":\"strict\",\"colorway\":[\"#636efa\",\"#EF553B\",\"#00cc96\",\"#ab63fa\",\"#FFA15A\",\"#19d3f3\",\"#FF6692\",\"#B6E880\",\"#FF97FF\",\"#FECB52\"],\"font\":{\"color\":\"#2a3f5f\"},\"hovermode\":\"closest\",\"hoverlabel\":{\"align\":\"left\"},\"paper_bgcolor\":\"white\",\"plot_bgcolor\":\"#E5ECF6\",\"polar\":{\"bgcolor\":\"#E5ECF6\",\"angularaxis\":{\"gridcolor\":\"white\",\"linecolor\":\"white\",\"ticks\":\"\"},\"radialaxis\":{\"gridcolor\":\"white\",\"linecolor\":\"white\",\"ticks\":\"\"}},\"ternary\":{\"bgcolor\":\"#E5ECF6\",\"aaxis\":{\"gridcolor\":\"white\",\"linecolor\":\"white\",\"ticks\":\"\"},\"baxis\":{\"gridcolor\":\"white\",\"linecolor\":\"white\",\"ticks\":\"\"},\"caxis\":{\"gridcolor\":\"white\",\"linecolor\":\"white\",\"ticks\":\"\"}},\"coloraxis\":{\"colorbar\":{\"outlinewidth\":0,\"ticks\":\"\"}},\"colorscale\":{\"sequential\":[[0.0,\"#0d0887\"],[0.1111111111111111,\"#46039f\"],[0.2222222222222222,\"#7201a8\"],[0.3333333333333333,\"#9c179e\"],[0.4444444444444444,\"#bd3786\"],[0.5555555555555556,\"#d8576b\"],[0.6666666666666666,\"#ed7953\"],[0.7777777777777778,\"#fb9f3a\"],[0.8888888888888888,\"#fdca26\"],[1.0,\"#f0f921\"]],\"sequentialminus\":[[0.0,\"#0d0887\"],[0.1111111111111111,\"#46039f\"],[0.2222222222222222,\"#7201a8\"],[0.3333333333333333,\"#9c179e\"],[0.4444444444444444,\"#bd3786\"],[0.5555555555555556,\"#d8576b\"],[0.6666666666666666,\"#ed7953\"],[0.7777777777777778,\"#fb9f3a\"],[0.8888888888888888,\"#fdca26\"],[1.0,\"#f0f921\"]],\"diverging\":[[0,\"#8e0152\"],[0.1,\"#c51b7d\"],[0.2,\"#de77ae\"],[0.3,\"#f1b6da\"],[0.4,\"#fde0ef\"],[0.5,\"#f7f7f7\"],[0.6,\"#e6f5d0\"],[0.7,\"#b8e186\"],[0.8,\"#7fbc41\"],[0.9,\"#4d9221\"],[1,\"#276419\"]]},\"xaxis\":{\"gridcolor\":\"white\",\"linecolor\":\"white\",\"ticks\":\"\",\"title\":{\"standoff\":15},\"zerolinecolor\":\"white\",\"automargin\":true,\"zerolinewidth\":2},\"yaxis\":{\"gridcolor\":\"white\",\"linecolor\":\"white\",\"ticks\":\"\",\"title\":{\"standoff\":15},\"zerolinecolor\":\"white\",\"automargin\":true,\"zerolinewidth\":2},\"scene\":{\"xaxis\":{\"backgroundcolor\":\"#E5ECF6\",\"gridcolor\":\"white\",\"linecolor\":\"white\",\"showbackground\":true,\"ticks\":\"\",\"zerolinecolor\":\"white\",\"gridwidth\":2},\"yaxis\":{\"backgroundcolor\":\"#E5ECF6\",\"gridcolor\":\"white\",\"linecolor\":\"white\",\"showbackground\":true,\"ticks\":\"\",\"zerolinecolor\":\"white\",\"gridwidth\":2},\"zaxis\":{\"backgroundcolor\":\"#E5ECF6\",\"gridcolor\":\"white\",\"linecolor\":\"white\",\"showbackground\":true,\"ticks\":\"\",\"zerolinecolor\":\"white\",\"gridwidth\":2}},\"shapedefaults\":{\"line\":{\"color\":\"#2a3f5f\"}},\"annotationdefaults\":{\"arrowcolor\":\"#2a3f5f\",\"arrowhead\":0,\"arrowwidth\":1},\"geo\":{\"bgcolor\":\"white\",\"landcolor\":\"#E5ECF6\",\"subunitcolor\":\"white\",\"showland\":true,\"showlakes\":true,\"lakecolor\":\"white\"},\"title\":{\"x\":0.05},\"mapbox\":{\"style\":\"light\"}}},\"scene\":{\"domain\":{\"x\":[0.0,0.45],\"y\":[0.625,1.0]},\"xaxis\":{\"title\":{\"text\":\"generationtime\"}},\"yaxis\":{\"title\":{\"text\":\"growth_rate\"}},\"zaxis\":{\"title\":{\"text\":\"division_ratio\"}}},\"scene2\":{\"domain\":{\"x\":[0.55,1.0],\"y\":[0.625,1.0]},\"xaxis\":{\"title\":{\"text\":\"generationtime\"}},\"yaxis\":{\"title\":{\"text\":\"growth_rate\"}},\"zaxis\":{\"title\":{\"text\":\"division_ratio\"}}},\"scene3\":{\"domain\":{\"x\":[0.0,0.45],\"y\":[0.0,0.375]},\"xaxis\":{\"title\":{\"text\":\"generationtime\"}},\"yaxis\":{\"title\":{\"text\":\"growth_rate\"}},\"zaxis\":{\"title\":{\"text\":\"division_ratio\"}}},\"scene4\":{\"domain\":{\"x\":[0.55,1.0],\"y\":[0.0,0.375]},\"xaxis\":{\"title\":{\"text\":\"generationtime\"}},\"yaxis\":{\"title\":{\"text\":\"growth_rate\"}},\"zaxis\":{\"title\":{\"text\":\"division_ratio\"}}},\"annotations\":[{\"font\":{\"size\":16},\"showarrow\":false,\"text\":\"Real data\",\"x\":0.225,\"xanchor\":\"center\",\"xref\":\"paper\",\"y\":1.0,\"yanchor\":\"bottom\",\"yref\":\"paper\"},{\"font\":{\"size\":16},\"showarrow\":false,\"text\":\"Linear model\",\"x\":0.775,\"xanchor\":\"center\",\"xref\":\"paper\",\"y\":1.0,\"yanchor\":\"bottom\",\"yref\":\"paper\"},{\"font\":{\"size\":16},\"showarrow\":false,\"text\":\"Cut-off model\",\"x\":0.225,\"xanchor\":\"center\",\"xref\":\"paper\",\"y\":0.375,\"yanchor\":\"bottom\",\"yref\":\"paper\"},{\"font\":{\"size\":16},\"showarrow\":false,\"text\":\"Protein model\",\"x\":0.775,\"xanchor\":\"center\",\"xref\":\"paper\",\"y\":0.375,\"yanchor\":\"bottom\",\"yref\":\"paper\"}],\"title\":{\"text\":\"3d scatter plots comparison\"},\"showlegend\":false,\"width\":1000,\"height\":1000},                        {\"responsive\": true}                    ).then(function(){\n                            \nvar gd = document.getElementById('1d1437f4-72da-4bf7-90ac-0ff4c77ee413');\nvar x = new MutationObserver(function (mutations, observer) {{\n        var display = window.getComputedStyle(gd).display;\n        if (!display || display === 'none') {{\n            console.log([gd, 'removed!']);\n            Plotly.purge(gd);\n            observer.disconnect();\n        }}\n}});\n\n// Listen for the removal of the full notebook cells\nvar notebookContainer = gd.closest('#notebook-container');\nif (notebookContainer) {{\n    x.observe(notebookContainer, {childList: true});\n}}\n\n// Listen for the clearing of the current output cell\nvar outputEl = gd.closest('.output');\nif (outputEl) {{\n    x.observe(outputEl, {childList: true});\n}}\n\n                        })                };                            </script>        </div>\n</body>\n</html>"
     },
     "metadata": {},
     "output_type": "display_data"
    }
   ],
   "execution_count": 8
  },
  {
   "cell_type": "markdown",
   "source": "From the 3D Scatter Plots above and the Pairplots below, we can see that in the Real case, apart from some outliers, data are highly concentrated forming a sort of 2-dimensional manifold.\n\nIn the models analyzed, data are more widespread in space, with the exception of the Protein Model, where the parameters have \"less variability\": this can be the first mark that this model better describes what happens in reality. ",
   "metadata": {
    "cell_id": "ae9b0ef62b4f4857bc619ba38bdd1253",
    "tags": [],
    "deepnote_cell_type": "markdown",
    "deepnote_cell_height": 155.984375
   }
  },
  {
   "cell_type": "markdown",
   "source": "## Pairplots\n\n| Real data                            | Model 0: simulation results        |\n|:------------------------------------:|:----------------------------------:|\n| ![img](images/pairplot_realdata.png) | ![img](images/pairplot_model0.png) |\n\n| Model 1: simulation results          | Model 2: simulation results        |\n|:------------------------------------:|:----------------------------------:|\n| ![img](images/pairplot_model1.png)   | ![img](images/pairplot_model2.png) |\n",
   "metadata": {
    "cell_id": "2ac27b6f9f094deaa11fea41435e0f5f",
    "tags": [],
    "deepnote_cell_type": "markdown",
    "deepnote_cell_height": 218.78125
   }
  },
  {
   "cell_type": "markdown",
   "source": "## Boxplot of the inter-division times",
   "metadata": {
    "cell_id": "ba7f85467ffc425abf58ad910fa0fe4c",
    "tags": [],
    "owner_user_id": "04e5cc81-8e45-494a-88d3-9de193fcc61e",
    "deepnote_cell_type": "markdown",
    "deepnote_cell_height": 70
   }
  },
  {
   "cell_type": "code",
   "source": "df_timeseries = pd.read_csv('./data/timeseries.csv')\ndisplay(df_timeseries)",
   "metadata": {
    "cell_id": "2e3316e570e14835a6b3bb7184240091",
    "tags": [],
    "deepnote_to_be_reexecuted": false,
    "source_hash": "90c8903f",
    "execution_start": 1655312359402,
    "execution_millis": 27,
    "deepnote_cell_type": "code",
    "deepnote_cell_height": 618
   },
   "outputs": [
    {
     "data": {
      "application/vnd.deepnote.dataframe.v3+json": {
       "column_count": 4,
       "row_count": 251,
       "columns": [
        {
         "name": "real_data",
         "dtype": "float64",
         "stats": {
          "unique_count": 53,
          "nan_count": 0,
          "min": "0.0833333333333286",
          "max": "1.33333333333333",
          "histogram": [
           {
            "bin_start": 0.0833333333333286,
            "bin_end": 0.20833333333332874,
            "count": 7
           },
           {
            "bin_start": 0.20833333333332874,
            "bin_end": 0.3333333333333289,
            "count": 6
           },
           {
            "bin_start": 0.3333333333333289,
            "bin_end": 0.45833333333332904,
            "count": 62
           },
           {
            "bin_start": 0.45833333333332904,
            "bin_end": 0.5833333333333292,
            "count": 97
           },
           {
            "bin_start": 0.5833333333333292,
            "bin_end": 0.7083333333333293,
            "count": 61
           },
           {
            "bin_start": 0.7083333333333293,
            "bin_end": 0.8333333333333295,
            "count": 13
           },
           {
            "bin_start": 0.8333333333333295,
            "bin_end": 0.9583333333333296,
            "count": 2
           },
           {
            "bin_start": 0.9583333333333296,
            "bin_end": 1.0833333333333297,
            "count": 1
           },
           {
            "bin_start": 1.0833333333333297,
            "bin_end": 1.20833333333333,
            "count": 1
           },
           {
            "bin_start": 1.20833333333333,
            "bin_end": 1.33333333333333,
            "count": 1
           }
          ]
         }
        },
        {
         "name": "starting_model",
         "dtype": "float64",
         "stats": {
          "unique_count": 251,
          "nan_count": 0,
          "min": "0.0024720109731919",
          "max": "2.2980899198161344",
          "histogram": [
           {
            "bin_start": 0.0024720109731919,
            "bin_end": 0.23203380185748618,
            "count": 111
           },
           {
            "bin_start": 0.23203380185748618,
            "bin_end": 0.4615955927417804,
            "count": 67
           },
           {
            "bin_start": 0.4615955927417804,
            "bin_end": 0.6911573836260747,
            "count": 31
           },
           {
            "bin_start": 0.6911573836260747,
            "bin_end": 0.920719174510369,
            "count": 25
           },
           {
            "bin_start": 0.920719174510369,
            "bin_end": 1.1502809653946633,
            "count": 10
           },
           {
            "bin_start": 1.1502809653946633,
            "bin_end": 1.3798427562789575,
            "count": 4
           },
           {
            "bin_start": 1.3798427562789575,
            "bin_end": 1.6094045471632519,
            "count": 2
           },
           {
            "bin_start": 1.6094045471632519,
            "bin_end": 1.838966338047546,
            "count": 0
           },
           {
            "bin_start": 1.838966338047546,
            "bin_end": 2.06852812893184,
            "count": 0
           },
           {
            "bin_start": 2.06852812893184,
            "bin_end": 2.2980899198161344,
            "count": 1
           }
          ]
         }
        },
        {
         "name": "model_1",
         "dtype": "float64",
         "stats": {
          "unique_count": 251,
          "nan_count": 0,
          "min": "0.0093549480944293",
          "max": "2.433615481106159",
          "histogram": [
           {
            "bin_start": 0.0093549480944293,
            "bin_end": 0.2517810013956023,
            "count": 91
           },
           {
            "bin_start": 0.2517810013956023,
            "bin_end": 0.4942070546967753,
            "count": 53
           },
           {
            "bin_start": 0.4942070546967753,
            "bin_end": 0.7366331079979482,
            "count": 38
           },
           {
            "bin_start": 0.7366331079979482,
            "bin_end": 0.9790591612991212,
            "count": 34
           },
           {
            "bin_start": 0.9790591612991212,
            "bin_end": 1.2214852146002941,
            "count": 17
           },
           {
            "bin_start": 1.2214852146002941,
            "bin_end": 1.4639112679014672,
            "count": 13
           },
           {
            "bin_start": 1.4639112679014672,
            "bin_end": 1.70633732120264,
            "count": 1
           },
           {
            "bin_start": 1.70633732120264,
            "bin_end": 1.948763374503813,
            "count": 1
           },
           {
            "bin_start": 1.948763374503813,
            "bin_end": 2.191189427804986,
            "count": 0
           },
           {
            "bin_start": 2.191189427804986,
            "bin_end": 2.433615481106159,
            "count": 3
           }
          ]
         }
        },
        {
         "name": "model_2",
         "dtype": "float64",
         "stats": {
          "unique_count": 251,
          "nan_count": 0,
          "min": "0.0892296688958026",
          "max": "1.113937472379822",
          "histogram": [
           {
            "bin_start": 0.0892296688958026,
            "bin_end": 0.19170044924420454,
            "count": 13
           },
           {
            "bin_start": 0.19170044924420454,
            "bin_end": 0.2941712295926065,
            "count": 37
           },
           {
            "bin_start": 0.2941712295926065,
            "bin_end": 0.39664200994100846,
            "count": 56
           },
           {
            "bin_start": 0.39664200994100846,
            "bin_end": 0.4991127902894104,
            "count": 35
           },
           {
            "bin_start": 0.4991127902894104,
            "bin_end": 0.6015835706378124,
            "count": 28
           },
           {
            "bin_start": 0.6015835706378124,
            "bin_end": 0.7040543509862144,
            "count": 32
           },
           {
            "bin_start": 0.7040543509862144,
            "bin_end": 0.8065251313346163,
            "count": 19
           },
           {
            "bin_start": 0.8065251313346163,
            "bin_end": 0.9089959116830183,
            "count": 17
           },
           {
            "bin_start": 0.9089959116830183,
            "bin_end": 1.0114666920314201,
            "count": 8
           },
           {
            "bin_start": 1.0114666920314201,
            "bin_end": 1.113937472379822,
            "count": 6
           }
          ]
         }
        },
        {
         "name": "_deepnote_index_column",
         "dtype": "int64"
        }
       ],
       "rows": [
        {
         "real_data": 0.5,
         "starting_model": 0.1159435141734344,
         "model_1": 0.2421998943115887,
         "model_2": 0.689745626353757,
         "_deepnote_index_column": 0
        },
        {
         "real_data": 0.416666666666667,
         "starting_model": 0.0207512987591771,
         "model_1": 0.0648145191462597,
         "model_2": 0.6594995555404644,
         "_deepnote_index_column": 1
        },
        {
         "real_data": 0.833333333333333,
         "starting_model": 0.3990321382640212,
         "model_1": 0.4404958853395863,
         "model_2": 0.5018011530532245,
         "_deepnote_index_column": 2
        },
        {
         "real_data": 0.333333333333333,
         "starting_model": 0.7556095649769841,
         "model_1": 1.3681983548292869,
         "model_2": 0.7105910757888104,
         "_deepnote_index_column": 3
        },
        {
         "real_data": 0.416666666666667,
         "starting_model": 0.5855096483322028,
         "model_1": 0.7749321302615403,
         "model_2": 0.2238743325717621,
         "_deepnote_index_column": 4
        },
        {
         "real_data": 0.583333333333334,
         "starting_model": 0.4319083232372203,
         "model_1": 0.4938370470748147,
         "model_2": 0.6036267791227342,
         "_deepnote_index_column": 5
        },
        {
         "real_data": 0.5,
         "starting_model": 0.7497850907034634,
         "model_1": 0.9496009524464712,
         "model_2": 0.3303478203459092,
         "_deepnote_index_column": 6
        },
        {
         "real_data": 0.583333333333334,
         "starting_model": 0.0629751744026567,
         "model_1": 0.0751509243374834,
         "model_2": 0.4778960045055552,
         "_deepnote_index_column": 7
        },
        {
         "real_data": 0.666666666666667,
         "starting_model": 0.3805156808895875,
         "model_1": 0.6336377969275079,
         "model_2": 0.7707786886530607,
         "_deepnote_index_column": 8
        },
        {
         "real_data": 0.5,
         "starting_model": 0.0760714730571069,
         "model_1": 0.1864397508325694,
         "model_2": 0.2412813390253642,
         "_deepnote_index_column": 9
        }
       ]
      },
      "text/plain": "     real_data  starting_model   model_1   model_2\n0     0.500000        0.115944  0.242200  0.689746\n1     0.416667        0.020751  0.064815  0.659500\n2     0.833333        0.399032  0.440496  0.501801\n3     0.333333        0.755610  1.368198  0.710591\n4     0.416667        0.585510  0.774932  0.223874\n..         ...             ...       ...       ...\n246   0.416667        0.182675  0.474705  0.357731\n247   0.500000        0.376742  0.541699  0.694537\n248   0.750000        0.858843  1.341886  0.385769\n249   0.333333        0.177940  0.235564  0.557594\n250   0.500000        0.808878  0.815098  0.448395\n\n[251 rows x 4 columns]",
      "text/html": "<div>\n<style scoped>\n    .dataframe tbody tr th:only-of-type {\n        vertical-align: middle;\n    }\n\n    .dataframe tbody tr th {\n        vertical-align: top;\n    }\n\n    .dataframe thead th {\n        text-align: right;\n    }\n</style>\n<table border=\"1\" class=\"dataframe\">\n  <thead>\n    <tr style=\"text-align: right;\">\n      <th></th>\n      <th>real_data</th>\n      <th>starting_model</th>\n      <th>model_1</th>\n      <th>model_2</th>\n    </tr>\n  </thead>\n  <tbody>\n    <tr>\n      <th>0</th>\n      <td>0.500000</td>\n      <td>0.115944</td>\n      <td>0.242200</td>\n      <td>0.689746</td>\n    </tr>\n    <tr>\n      <th>1</th>\n      <td>0.416667</td>\n      <td>0.020751</td>\n      <td>0.064815</td>\n      <td>0.659500</td>\n    </tr>\n    <tr>\n      <th>2</th>\n      <td>0.833333</td>\n      <td>0.399032</td>\n      <td>0.440496</td>\n      <td>0.501801</td>\n    </tr>\n    <tr>\n      <th>3</th>\n      <td>0.333333</td>\n      <td>0.755610</td>\n      <td>1.368198</td>\n      <td>0.710591</td>\n    </tr>\n    <tr>\n      <th>4</th>\n      <td>0.416667</td>\n      <td>0.585510</td>\n      <td>0.774932</td>\n      <td>0.223874</td>\n    </tr>\n    <tr>\n      <th>...</th>\n      <td>...</td>\n      <td>...</td>\n      <td>...</td>\n      <td>...</td>\n    </tr>\n    <tr>\n      <th>246</th>\n      <td>0.416667</td>\n      <td>0.182675</td>\n      <td>0.474705</td>\n      <td>0.357731</td>\n    </tr>\n    <tr>\n      <th>247</th>\n      <td>0.500000</td>\n      <td>0.376742</td>\n      <td>0.541699</td>\n      <td>0.694537</td>\n    </tr>\n    <tr>\n      <th>248</th>\n      <td>0.750000</td>\n      <td>0.858843</td>\n      <td>1.341886</td>\n      <td>0.385769</td>\n    </tr>\n    <tr>\n      <th>249</th>\n      <td>0.333333</td>\n      <td>0.177940</td>\n      <td>0.235564</td>\n      <td>0.557594</td>\n    </tr>\n    <tr>\n      <th>250</th>\n      <td>0.500000</td>\n      <td>0.808878</td>\n      <td>0.815098</td>\n      <td>0.448395</td>\n    </tr>\n  </tbody>\n</table>\n<p>251 rows × 4 columns</p>\n</div>"
     },
     "metadata": {},
     "output_type": "display_data"
    }
   ],
   "execution_count": 9
  },
  {
   "cell_type": "code",
   "source": "res = plot_funcs.boxplot(\n    y=[df_timeseries.iloc[:,0], df_timeseries.iloc[:,1], df_timeseries.iloc[:,2], df_timeseries.iloc[:,3]], \n    colors=['blue', 'C1','green', 'khaki'],  \n    title = 'Inter-division time comparison', \n    ylabel= 'Times', \n    xlabel='', x_font= 30, \n    labels=False \n)\n\nfig, ax, bp = res[0], res[1], res[2]\nax.set_xticklabels(['Real times', 'Starting model', 'Model 1', 'Model 2'], fontdict={'fontsize':15})\n\nfor line in bp['medians']:\n    # get position data for median line\n    x, y = line.get_xydata()[1] #  median line\n    # overlay median value\n    ax.text(x-0.2, y+0.03, '%.2f' % y,\n         horizontalalignment='center', fontsize=12, color='w') # draw above, centered\n\nfor line in bp['caps']:\n    x, y = line.get_xydata()[0] # bottom of left line\n    ax.text(x,y, '%.2f' % y,\n         horizontalalignment='center', # centered\n         verticalalignment='top', fontsize=12)  \n\nfor line in bp['whiskers']:\n    x, y = line.get_xydata()[0] # bottom of left line\n    ax.text(x-0.3,y, '%.2f' % y,\n         horizontalalignment='center', # centered\n         verticalalignment='center', fontsize=12) \n\n\nax.xaxis.set_tick_params(labelsize=12, size=8)\nax.xaxis.set_tick_params(which='minor', size=4)",
   "metadata": {
    "cell_id": "a46060a2f131462ab728221ee1cb0d29",
    "tags": [],
    "deepnote_to_be_reexecuted": false,
    "source_hash": "4f36818e",
    "execution_start": 1655312359434,
    "execution_millis": 591,
    "deepnote_cell_type": "code",
    "deepnote_cell_height": 1194,
    "deepnote_output_heights": [
     503
    ]
   },
   "outputs": [
    {
     "data": {
      "text/plain": "<Figure size 1080x720 with 1 Axes>",
      "image/png": "[encoded data removed]"
     },
     "metadata": {
      "needs_background": "light",
      "image/png": {
       "width": 906,
       "height": 603
      }
     },
     "output_type": "display_data"
    }
   ],
   "execution_count": 10
  },
  {
   "cell_type": "markdown",
   "source": "The Boxplot, which compares the inter-division times, again shows that the Model 2 has less variability than the other models; in addition, the median of the yellow distribution is the most similar to the one of the Real Data.",
   "metadata": {
    "cell_id": "7949953400c247d79247f6ff9044db7e",
    "tags": [],
    "deepnote_cell_type": "markdown",
    "deepnote_cell_height": 74.78125
   },
   "outputs": [],
   "execution_count": null
  },
  {
   "cell_type": "markdown",
   "source": "## Overlap between division time histograms\n\n| Model 0                           |  Model 1                          |\n|:---------------------------------:|:---------------------------------:|\n| ![img](images/overlap_model0.png) | ![img](images/overlap_model1.png) |\n\n| Model 2                           |\n|:---------------------------------:|\n| ![img](images/overlap_model2.png) |\n",
   "metadata": {
    "cell_id": "de7d479f29a445849ef5cffaa11b7645",
    "tags": [],
    "deepnote_cell_type": "markdown",
    "deepnote_cell_height": 218.78125
   }
  },
  {
   "cell_type": "markdown",
   "source": "These plots show another comparison between the inspected models and the real data.\n\nFrom the values of the overlap, as we expected, the Model 2 (the Protein Model) is the one which mostly reflect the behaviour of real data, also being the most descriptive from the biological point of view. ",
   "metadata": {
    "cell_id": "738a6236655b4484a13b5e3c23981b6e",
    "tags": [],
    "deepnote_cell_type": "markdown",
    "deepnote_cell_height": 111.1875
   },
   "outputs": [],
   "execution_count": null
  },
  {
   "cell_type": "markdown",
   "source": "## Predictive density",
   "metadata": {
    "cell_id": "4b6596f8c5fc4ee9bf699a9ea9981b59",
    "tags": [],
    "deepnote_cell_type": "markdown",
    "deepnote_cell_height": 70
   }
  },
  {
   "cell_type": "code",
   "source": "df_pd = pd.read_csv('./data/pred_density.csv')\ndisplay(df_pd)\n",
   "metadata": {
    "cell_id": "da39935f32054980ad09469bfbdd2fab",
    "tags": [],
    "deepnote_to_be_reexecuted": false,
    "source_hash": "310b6e88",
    "execution_start": 1655312360024,
    "execution_millis": 22,
    "deepnote_cell_type": "code",
    "deepnote_cell_height": 636
   },
   "outputs": [
    {
     "data": {
      "application/vnd.deepnote.dataframe.v3+json": {
       "column_count": 3,
       "row_count": 10,
       "columns": [
        {
         "name": "starting_model",
         "dtype": "float64",
         "stats": {
          "unique_count": 10,
          "nan_count": 0,
          "min": "-388.3309900733203",
          "max": "167.83252811319133",
          "histogram": [
           {
            "bin_start": -388.3309900733203,
            "bin_end": -332.7146382546692,
            "count": 1
           },
           {
            "bin_start": -332.7146382546692,
            "bin_end": -277.098286436018,
            "count": 0
           },
           {
            "bin_start": -277.098286436018,
            "bin_end": -221.48193461736685,
            "count": 1
           },
           {
            "bin_start": -221.48193461736685,
            "bin_end": -165.86558279871568,
            "count": 0
           },
           {
            "bin_start": -165.86558279871568,
            "bin_end": -110.24923098006451,
            "count": 1
           },
           {
            "bin_start": -110.24923098006451,
            "bin_end": -54.63287916141337,
            "count": 0
           },
           {
            "bin_start": -54.63287916141337,
            "bin_end": 0.9834726572378258,
            "count": 1
           },
           {
            "bin_start": 0.9834726572378258,
            "bin_end": 56.599824475888965,
            "count": 1
           },
           {
            "bin_start": 56.599824475888965,
            "bin_end": 112.2161762945401,
            "count": 4
           },
           {
            "bin_start": 112.2161762945401,
            "bin_end": 167.83252811319133,
            "count": 1
           }
          ]
         }
        },
        {
         "name": "model_1",
         "dtype": "float64",
         "stats": {
          "unique_count": 10,
          "nan_count": 0,
          "min": "-404.9753355030378",
          "max": "163.27093433547262",
          "histogram": [
           {
            "bin_start": -404.9753355030378,
            "bin_end": -348.15070851918676,
            "count": 1
           },
           {
            "bin_start": -348.15070851918676,
            "bin_end": -291.3260815353357,
            "count": 0
           },
           {
            "bin_start": -291.3260815353357,
            "bin_end": -234.50145455148464,
            "count": 0
           },
           {
            "bin_start": -234.50145455148464,
            "bin_end": -177.6768275676336,
            "count": 0
           },
           {
            "bin_start": -177.6768275676336,
            "bin_end": -120.85220058378258,
            "count": 0
           },
           {
            "bin_start": -120.85220058378258,
            "bin_end": -64.02757359993149,
            "count": 0
           },
           {
            "bin_start": -64.02757359993149,
            "bin_end": -7.202946616080453,
            "count": 1
           },
           {
            "bin_start": -7.202946616080453,
            "bin_end": 49.62168036777058,
            "count": 1
           },
           {
            "bin_start": 49.62168036777058,
            "bin_end": 106.44630735162161,
            "count": 5
           },
           {
            "bin_start": 106.44630735162161,
            "bin_end": 163.27093433547262,
            "count": 2
           }
          ]
         }
        },
        {
         "name": "model_2",
         "dtype": "float64",
         "stats": {
          "unique_count": 10,
          "nan_count": 0,
          "min": "-inf",
          "max": "174.01828936183148",
          "histogram": [
           {
            "bin_start": -342.643446600864,
            "bin_end": -290.97727300459445,
            "count": 1
           },
           {
            "bin_start": -290.97727300459445,
            "bin_end": -239.31109940832494,
            "count": 0
           },
           {
            "bin_start": -239.31109940832494,
            "bin_end": -187.64492581205536,
            "count": 0
           },
           {
            "bin_start": -187.64492581205536,
            "bin_end": -135.97875221578582,
            "count": 0
           },
           {
            "bin_start": -135.97875221578582,
            "bin_end": -84.31257861951627,
            "count": 0
           },
           {
            "bin_start": -84.31257861951627,
            "bin_end": -32.6464050232467,
            "count": 0
           },
           {
            "bin_start": -32.6464050232467,
            "bin_end": 19.019768573022816,
            "count": 1
           },
           {
            "bin_start": 19.019768573022816,
            "bin_end": 70.68594216929239,
            "count": 2
           },
           {
            "bin_start": 70.68594216929239,
            "bin_end": 122.35211576556196,
            "count": 3
           },
           {
            "bin_start": 122.35211576556196,
            "bin_end": 174.01828936183148,
            "count": 2
           }
          ]
         }
        },
        {
         "name": "_deepnote_index_column",
         "dtype": "int64"
        }
       ],
       "rows": [
        {
         "starting_model": 167.83252811319133,
         "model_1": 163.27093433547262,
         "model_2": 171.42237989819242,
         "_deepnote_index_column": 0
        },
        {
         "starting_model": 89.43041496822526,
         "model_1": 88.2562453204145,
         "model_2": 99.5303473678082,
         "_deepnote_index_column": 1
        },
        {
         "starting_model": -130.5316453598978,
         "model_1": 45.42189725095408,
         "model_2": 52.816637274018426,
         "_deepnote_index_column": 2
        },
        {
         "starting_model": 44.073031768964825,
         "model_1": 61.02772116719335,
         "model_2": 78.44212628764171,
         "_deepnote_index_column": 3
        },
        {
         "starting_model": 87.13057967005193,
         "model_1": 56.16514016743038,
         "model_2": 80.80311533542883,
         "_deepnote_index_column": 4
        },
        {
         "starting_model": 109.02016307191975,
         "model_1": 159.35459510715836,
         "model_2": 174.01828936183148,
         "_deepnote_index_column": 5
        },
        {
         "starting_model": -237.81374481854985,
         "model_1": 81.33579996732333,
         "model_2": "-inf",
         "_deepnote_index_column": 6
        },
        {
         "starting_model": -35.04086121949108,
         "model_1": -26.78413672645567,
         "model_2": -0.1407475273665284,
         "_deepnote_index_column": 7
        },
        {
         "starting_model": -388.3309900733203,
         "model_1": -404.9753355030378,
         "model_2": -342.643446600864,
         "_deepnote_index_column": 8
        },
        {
         "starting_model": 72.48382583027663,
         "model_1": 55.39612887280794,
         "model_2": 66.59939393328342,
         "_deepnote_index_column": 9
        }
       ]
      },
      "text/plain": "   starting_model     model_1     model_2\n0      167.832528  163.270934  171.422380\n1       89.430415   88.256245   99.530347\n2     -130.531645   45.421897   52.816637\n3       44.073032   61.027721   78.442126\n4       87.130580   56.165140   80.803115\n5      109.020163  159.354595  174.018289\n6     -237.813745   81.335800        -inf\n7      -35.040861  -26.784137   -0.140748\n8     -388.330990 -404.975336 -342.643447\n9       72.483826   55.396129   66.599394",
      "text/html": "<div>\n<style scoped>\n    .dataframe tbody tr th:only-of-type {\n        vertical-align: middle;\n    }\n\n    .dataframe tbody tr th {\n        vertical-align: top;\n    }\n\n    .dataframe thead th {\n        text-align: right;\n    }\n</style>\n<table border=\"1\" class=\"dataframe\">\n  <thead>\n    <tr style=\"text-align: right;\">\n      <th></th>\n      <th>starting_model</th>\n      <th>model_1</th>\n      <th>model_2</th>\n    </tr>\n  </thead>\n  <tbody>\n    <tr>\n      <th>0</th>\n      <td>167.832528</td>\n      <td>163.270934</td>\n      <td>171.422380</td>\n    </tr>\n    <tr>\n      <th>1</th>\n      <td>89.430415</td>\n      <td>88.256245</td>\n      <td>99.530347</td>\n    </tr>\n    <tr>\n      <th>2</th>\n      <td>-130.531645</td>\n      <td>45.421897</td>\n      <td>52.816637</td>\n    </tr>\n    <tr>\n      <th>3</th>\n      <td>44.073032</td>\n      <td>61.027721</td>\n      <td>78.442126</td>\n    </tr>\n    <tr>\n      <th>4</th>\n      <td>87.130580</td>\n      <td>56.165140</td>\n      <td>80.803115</td>\n    </tr>\n    <tr>\n      <th>5</th>\n      <td>109.020163</td>\n      <td>159.354595</td>\n      <td>174.018289</td>\n    </tr>\n    <tr>\n      <th>6</th>\n      <td>-237.813745</td>\n      <td>81.335800</td>\n      <td>-inf</td>\n    </tr>\n    <tr>\n      <th>7</th>\n      <td>-35.040861</td>\n      <td>-26.784137</td>\n      <td>-0.140748</td>\n    </tr>\n    <tr>\n      <th>8</th>\n      <td>-388.330990</td>\n      <td>-404.975336</td>\n      <td>-342.643447</td>\n    </tr>\n    <tr>\n      <th>9</th>\n      <td>72.483826</td>\n      <td>55.396129</td>\n      <td>66.599394</td>\n    </tr>\n  </tbody>\n</table>\n</div>"
     },
     "metadata": {},
     "output_type": "display_data"
    }
   ],
   "execution_count": 11
  },
  {
   "cell_type": "code",
   "source": "print('Average Predictive Density over', df_pd.shape[0], 'cycles:')\n\ndf_pd[~np.isinf(df_pd)].mean().to_frame().transpose().rename({0: 'Predictive Density'}).round(3)",
   "metadata": {
    "cell_id": "1323fd615fbb45b2817fdae854b85158",
    "tags": [],
    "deepnote_to_be_reexecuted": false,
    "source_hash": "b8d03b0f",
    "execution_start": 1655312360051,
    "execution_millis": 23,
    "deepnote_cell_type": "code",
    "deepnote_cell_height": 312.90625
   },
   "outputs": [
    {
     "name": "stdout",
     "text": "Average Predictive Density over 10 cycles:\n",
     "output_type": "stream"
    },
    {
     "output_type": "execute_result",
     "execution_count": 12,
     "data": {
      "application/vnd.deepnote.dataframe.v3+json": {
       "column_count": 3,
       "row_count": 1,
       "columns": [
        {
         "name": "starting_model",
         "dtype": "float64",
         "stats": {
          "unique_count": 1,
          "nan_count": 0,
          "min": "-22.175",
          "max": "-22.175",
          "histogram": [
           {
            "bin_start": -22.675,
            "bin_end": -22.575,
            "count": 0
           },
           {
            "bin_start": -22.575,
            "bin_end": -22.475,
            "count": 0
           },
           {
            "bin_start": -22.475,
            "bin_end": -22.375,
            "count": 0
           },
           {
            "bin_start": -22.375,
            "bin_end": -22.275000000000002,
            "count": 0
           },
           {
            "bin_start": -22.275000000000002,
            "bin_end": -22.175,
            "count": 0
           },
           {
            "bin_start": -22.175,
            "bin_end": -22.075,
            "count": 1
           },
           {
            "bin_start": -22.075,
            "bin_end": -21.975,
            "count": 0
           },
           {
            "bin_start": -21.975,
            "bin_end": -21.875,
            "count": 0
           },
           {
            "bin_start": -21.875,
            "bin_end": -21.775000000000002,
            "count": 0
           },
           {
            "bin_start": -21.775000000000002,
            "bin_end": -21.675,
            "count": 0
           }
          ]
         }
        },
        {
         "name": "model_1",
         "dtype": "float64",
         "stats": {
          "unique_count": 1,
          "nan_count": 0,
          "min": "27.847",
          "max": "27.847",
          "histogram": [
           {
            "bin_start": 27.347,
            "bin_end": 27.447000000000003,
            "count": 0
           },
           {
            "bin_start": 27.447000000000003,
            "bin_end": 27.547,
            "count": 0
           },
           {
            "bin_start": 27.547,
            "bin_end": 27.647000000000002,
            "count": 0
           },
           {
            "bin_start": 27.647000000000002,
            "bin_end": 27.747,
            "count": 0
           },
           {
            "bin_start": 27.747,
            "bin_end": 27.847,
            "count": 0
           },
           {
            "bin_start": 27.847,
            "bin_end": 27.947000000000003,
            "count": 1
           },
           {
            "bin_start": 27.947000000000003,
            "bin_end": 28.047,
            "count": 0
           },
           {
            "bin_start": 28.047,
            "bin_end": 28.147000000000002,
            "count": 0
           },
           {
            "bin_start": 28.147000000000002,
            "bin_end": 28.247,
            "count": 0
           },
           {
            "bin_start": 28.247,
            "bin_end": 28.347,
            "count": 0
           }
          ]
         }
        },
        {
         "name": "model_2",
         "dtype": "float64",
         "stats": {
          "unique_count": 1,
          "nan_count": 0,
          "min": "42.316",
          "max": "42.316",
          "histogram": [
           {
            "bin_start": 41.816,
            "bin_end": 41.916000000000004,
            "count": 0
           },
           {
            "bin_start": 41.916000000000004,
            "bin_end": 42.016000000000005,
            "count": 0
           },
           {
            "bin_start": 42.016000000000005,
            "bin_end": 42.116,
            "count": 0
           },
           {
            "bin_start": 42.116,
            "bin_end": 42.216,
            "count": 0
           },
           {
            "bin_start": 42.216,
            "bin_end": 42.316,
            "count": 0
           },
           {
            "bin_start": 42.316,
            "bin_end": 42.416000000000004,
            "count": 1
           },
           {
            "bin_start": 42.416000000000004,
            "bin_end": 42.516000000000005,
            "count": 0
           },
           {
            "bin_start": 42.516000000000005,
            "bin_end": 42.616,
            "count": 0
           },
           {
            "bin_start": 42.616,
            "bin_end": 42.716,
            "count": 0
           },
           {
            "bin_start": 42.716,
            "bin_end": 42.816,
            "count": 0
           }
          ]
         }
        },
        {
         "name": "_deepnote_index_column",
         "dtype": "object"
        }
       ],
       "rows": [
        {
         "starting_model": -22.175,
         "model_1": 27.847,
         "model_2": 42.316,
         "_deepnote_index_column": "Predictive Density"
        }
       ]
      },
      "text/plain": "                    starting_model  model_1  model_2\nPredictive Density         -22.175   27.847   42.316",
      "text/html": "<div>\n<style scoped>\n    .dataframe tbody tr th:only-of-type {\n        vertical-align: middle;\n    }\n\n    .dataframe tbody tr th {\n        vertical-align: top;\n    }\n\n    .dataframe thead th {\n        text-align: right;\n    }\n</style>\n<table border=\"1\" class=\"dataframe\">\n  <thead>\n    <tr style=\"text-align: right;\">\n      <th></th>\n      <th>starting_model</th>\n      <th>model_1</th>\n      <th>model_2</th>\n    </tr>\n  </thead>\n  <tbody>\n    <tr>\n      <th>Predictive Density</th>\n      <td>-22.175</td>\n      <td>27.847</td>\n      <td>42.316</td>\n    </tr>\n  </tbody>\n</table>\n</div>"
     },
     "metadata": {}
    }
   ],
   "execution_count": 12
  },
  {
   "cell_type": "markdown",
   "source": "This is the last evidence that the Protein Model, within the various model we studied, is the best one, also for future references.",
   "metadata": {
    "cell_id": "5e4996bdf157428bbd36ba785608890c",
    "tags": [],
    "owner_user_id": "64f82dd5-f147-412e-8f0c-50fd764426fd",
    "deepnote_cell_type": "markdown",
    "deepnote_cell_height": 74.78125
   },
   "outputs": [],
   "execution_count": null
  },
  {
   "cell_type": "markdown",
   "source": "# Future developments\n- **Use means and stds as parameters for the Gamma and Beta distributions instead of a,b,c,d** \nThis choice is motivated by the fact that the latter are strongly correlated, so we expect less sharp results using the former.\n\n- **Removal of outliers**\nFrom the 3-dimensional scatterplot and from the pairplot of the real data it can be seen that most likely our data present outliers. According to [\\[1\\]](https://doi.org/10.1063/1.5141755), their origin may be due to cells in the process of division as well as errors in measurements. These outliers strongly influence the results, as can be seen from the above histograms of the interdivision times, where we observed that the simulated times try to cover also the regions characterized by them, resulting in a less sharp distribution. \n\nIn the future it would be interesting to remove them, to reduce the noise and, hopefully, get results from the models closer to the data. This could be done following the approach presented in [\\[1\\]](https://doi.org/10.1063/1.5141755), aware of the risk that such data processing entails.",
   "metadata": {
    "cell_id": "080a3cd9391044c88b65ecba2fadf63f",
    "tags": [],
    "deepnote_cell_type": "markdown",
    "deepnote_cell_height": 422.765625
   }
  },
  {
   "cell_type": "markdown",
   "source": "# References\n[1] Held J, Lorimer T, Pomati F, Stoop R, Albert C. Second-order phase transition in phytoplankton trait dynamics. _Chaos_. 2020; 30(5):053109. https://doi.org/10.1063/1.5141755 \n\n[2] Zheng, H., Bai, Y., Jiang, M. et al. General quantitative relations linking cell growth and the cell cycle in Escherichia coli. _Nature Microbiology_. 2020;  5(8):995–1001. https://doi.org/10.1038/s41564-020-0717-x \n\n[3] emcee documentation: https://emcee.readthedocs.io/en/stable/",
   "metadata": {
    "cell_id": "882441dc03a5449d953165099db6e78b",
    "tags": [],
    "deepnote_cell_type": "markdown",
    "deepnote_cell_height": 237.984375
   }
  },
  {
   "cell_type": "markdown",
   "source": "",
   "metadata": {
    "cell_id": "2c1e539769a44f40b30af3b1642cf853",
    "tags": [],
    "deepnote_cell_type": "markdown",
    "deepnote_cell_height": 46
   }
  },
  {
   "cell_type": "markdown",
   "source": "<a style='text-decoration:none;line-height:16px;display:flex;color:#5B5B62;padding:10px;justify-content:end;' href='https://deepnote.com?utm_source=created-in-deepnote-cell&projectId=52dba48d-3798-4665-95fc-01a96804955b' target=\"_blank\">\n<img alt='Created in deepnote.com' style='display:inline;max-height:16px;margin:0px;margin-right:7.5px;' src='data:image/svg+xml;base64,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' > </img>\nCreated in <span style='font-weight:600;margin-left:4px;'>Deepnote</span></a>",
   "metadata": {
    "tags": [],
    "created_in_deepnote_cell": true,
    "deepnote_cell_type": "markdown"
   }
  }
 ],
 "nbformat": 4,
 "nbformat_minor": 2,
 "metadata": {
  "orig_nbformat": 2,
  "deepnote": {},
  "deepnote_notebook_id": "67416f0d-a013-438a-8805-c6af116847ff",
  "deepnote_execution_queue": []
 }
}