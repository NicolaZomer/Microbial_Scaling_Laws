{
 "cells": [
  {
   "cell_type": "markdown",
   "source": "# Explaining microbial scaling laws using Bayesian inference\nIn this project, we want to combine methods from _Statistical Physics_ and _Bayesian Data Analysis_ to elucidate the principles behind cellular growth and division. We will study various classes of individual-based growth-division models and infer individual-level processes (model structures and likely ranges of associated parameters) from sigle-cell observations. \n\nIn the _Bayesian framework_, we formalize our process understanding the form of different rate functions, expressing the dependence of growth and division rates on variables characterizing a cell’s state (such as size and protein content), and calculate the Bayesian posteriors for the parameters of these functions.\n\n## Group \n- [Tommaso Amico](https://github.com/tommasoamico)\n- [Andrea Lazzari](https://github.com/AndreaLazzari)\n- [Paolo Zinesi](https://github.com/PaoloZinesi)\n- [Nicola Zomer](https://github.com/NicolaZomer)\n\n## Growth and division processes: general model \nIn our models we consider the evolution of a single non-interacting cell, which undergoes 2 processes:\n- **growth:** the cell size $x(t)$ evolves according to the following equation\n    $$\n    \\dot{x}=g(x(t)) \\quad, \\quad x(0)=x_b\n    $$\n    In some cases this relation can be expressed in vectorial form, where $\\underline{x}$ is the vector of the traits characterizing the cell's state (see model 2). \n- **division:** it is ruled by the _hazard rate function_ $h(x(t))$, which represents the istantaneous probability (or, equivalently, the amount of risk) of the cell to divide. This function is related to the so called _survival function_ $s(t)$, by the relation\n    $$\n    \\frac{\\dot{s}(t)}{s(t)}=-h(t) \\quad , \\quad s(0)=1\n    $$\n    where $s(t)$ gives the probability that the cell will survive (meaning not divide in this case) past a certain time $t$. Once $s(t)$ has been computed for a given model, division times are drawn from this distribution, following the Generalized Gillespie Algorithm. \n\n**While the growth is a deterministic process, division is a stochastic event.** Since the cell does not generally divide into two equal parts, we introduce a parameter $frac$, which is treated as a stochastic variable, such that after the division\n$$\n\\underline{x}_{div} = \\left(frac\\cdot x, (1-frac)\\cdot x\\right)\n$$\n\nFinally, we assume that the division ratios $frac$ are distributed according to a Beta function and that the growth rates $\\omega_1$ follow a Gamma function, hence denoting by $f$ the probability density distribution we obtain\n$$\n\\begin{aligned}\nf(frac|a, b) &= Beta(a, b) \\\\\nf(\\omega_1|c, d) &= Gamma(c, d)\n\\end{aligned}\n$$\n\n### Solution of the differential equations\nFor a given model, first we solve analytically the differential equation for $x(t)$, with the initial condition $x(0)=x_b$. Then, we plug $x(t)$ into $h$ and we use $h(x(t))$ to solve the equation for $s(t)$, with initial condition $s(0)=1$.\n\nOnce $s(t)$ is known, it is possible to generate random division times from their distribution using the **inverse transform method** and the solution can be deterministically propagated to find the simulated time series $x(t)$. To do this, it is also necessary to know or draw the values of $\\omega_1$ and $frac$ at each division cycle. \n\n",
   "metadata": {
    "cell_id": "4fab6025485c4655828a6b96f8d0bc03",
    "tags": [],
    "owner_user_id": "b13979ef-4b77-458b-bb3e-148a16361dfe",
    "deepnote_cell_type": "markdown",
    "deepnote_cell_height": 1361.65625
   }
  },
  {
   "cell_type": "markdown",
   "source": "# Models\n\n## Model 0 (Linear)\n**Notebook: [Real data, Model 0](./analysis_real_data/REAL_Model_0.ipynb)**\n\nWe start with a very simple stochastic model, biologically not very realistic, but useful to start familiarizing with the problem. In this first model we define $g(x)$ and $h(x)$ as 2 linear functions\n$$\n\\begin{aligned}\ng(x) &\\equiv \\omega_1(\\mu+x) \\\\\nh(x) &\\equiv \\omega_2(1+x/\\nu)\n\\end{aligned}\n$$\n\nwhere $\\omega_1$ and $\\omega_2$ are frequencies respectively related to the *growth* and *division* phases, while $\\mu$ and $\\nu$ are sizes (tipycally measured in $\\mu m$) that represent the lower and upper limiting trait scales, so they satisfy the relation $ \\mu < \\nu $.\n\nThe ratio between $\\omega_1$ and $\\omega_2$ is the order parameter that triggers the phase transition. The parameters $\\mu$ and $\\nu$ are necessary to cut off the probability distribution (in zero and for large values of $x$), which is important both for physical reasons and for making the distribution normalizable. Introducing these parameters is a mathematical trick, useful for example to prevent the cell from having a too small size, which however is difficult to justify from a biological point of view. We will then see better models, biologically speaking.\n\nThe results of the two differential equations are:\n$$\n\\begin{aligned}\nx(t) &= \\left(x_b+\\mu\\right)e^{\\omega_1 t}-\\mu \\\\\n\\ln(s(t)) &= \\omega_2 t \\left(\\frac{\\mu}{\\nu}-1\\right) + \\frac{\\omega_2}{\\omega_1} \\left(\\frac{\\mu+x_b}{\\nu}\\right) (1-e^{\\omega_1 t}) \\\\\ns(t) &= \\exp\\left\\{ \\omega_2t \\left(\\frac{\\mu}{\\nu}-1\\right) + \\frac{\\omega_2}{\\omega_1}\\left(\\frac{\\mu + x_b}{\\nu}\\right)(1-e^{\\omega_1t})\\right\\}\n\\end{aligned}\n$$\n",
   "metadata": {
    "cell_id": "de070f1942f74c3b93bc0e456a4e9c63",
    "tags": [],
    "owner_user_id": "64f82dd5-f147-412e-8f0c-50fd764426fd",
    "deepnote_cell_type": "markdown",
    "deepnote_cell_height": 689.203125
   }
  },
  {
   "cell_type": "markdown",
   "source": "![img](images/s_model0.png)",
   "metadata": {
    "cell_id": "c29a5f10246e4c2db8e0c5ff5572fea1",
    "tags": [],
    "deepnote_cell_type": "markdown",
    "deepnote_cell_height": 574
   }
  },
  {
   "cell_type": "markdown",
   "source": "## Model 1 (with Plateau)\n**Notebook: [Real data, Model 1](./analysis_real_data/REAL_Model_1.ipynb)**\n\nAs in the previous model, even in this case the cell growth is governed by a single trait, which is the size. However, this model is biologically more realistic, mainly because a lower bound is placed on the size of the cell such that it can divide. \n\nAlso in this case the processes considered are growth and division, governed by $g(x)$ and $h(x)$ respectively. In this model we define $g(x)$ and $h(x)$ as follows\n$$\n\\begin{aligned}\ng(x)&= \\omega_1 x \\\\\nh(x)&=\n\\begin{cases}\n    0  & , \\, x<\\mu \\\\\n    \\omega_2 \\cdot \\frac{x+\\nu}{\\mu+\\nu} & , \\, x\\geq \\mu\n\\end{cases}\n\\end{aligned}\n$$\n\nwhere $g(x)$ again corresponds to an exponential growth, while $h(x)$ is lower bounded by $\\mu$.\n\nThe results of the two differential equations are:\n$$\n\\begin{aligned}\nx(t) &= x_b\\, e^{\\omega_1 t} \\\\\n\\ln(s(t)) &= - \\left[ \\dfrac{x_b}{\\mu+\\nu} \\dfrac{\\omega_2}{\\omega_1} \\left( e^{\\omega_1 t} - e^{\\omega_1 t_0}\\right) + \\dfrac{\\nu}{\\mu+\\nu}\\, \\omega_2 (t-t_0) \\right] \\theta(t-t_0) \\\\\ns(t) &= \\exp\\left\\{ - \\left[ \\dfrac{x_b}{\\mu+\\nu} \\dfrac{\\omega_2}{\\omega_1} \\left( e^{\\omega_1 t} - e^{\\omega_1 t_0}\\right) + \\dfrac{\\nu}{\\mu+\\nu}\\, \\omega_2 (t-t_0) \\right] \\theta(t-t_0) \\right\\}\n\\end{aligned}\n$$\n\nwhere $t_0 \\equiv \\max\\left\\{0,\\dfrac{1}{\\omega_1} \\ln\\left(\\dfrac{\\mu}{x_b}\\right)\\right\\}$ is the minimum time at which the cell can divide and $\\theta(\\tau)$ is the Heaviside function.\n\nNote that this model is different from the linear one only if the new parameter $t_0$ is bigger than zero, i.e., only if $\\mu > x_b$.\n",
   "metadata": {
    "cell_id": "b440b04db37a4bde9c4b5269acab092b",
    "tags": [],
    "deepnote_cell_type": "markdown",
    "deepnote_cell_height": 683.828125
   }
  },
  {
   "cell_type": "markdown",
   "source": "![img](images/s_model1.png)\n",
   "metadata": {
    "cell_id": "cb11f0d2f1de4ff68d75df75debe2892",
    "tags": [],
    "deepnote_cell_type": "markdown",
    "deepnote_cell_height": 574
   }
  },
  {
   "cell_type": "markdown",
   "source": "## Model 2 (with Protein)\n**Notebook: [Real data, Model 2](./analysis_real_data/REAL_Model_2.ipynb)**\n\nThe main difference between this model and the previous ones is that here we consider 2 traits: the cell size $m(t)$ and its protein content $p(t)$. We call $\\underline{x}$ the vector\n$$\n\\underline{x} = \\begin{pmatrix} m\\\\ p\\end{pmatrix} \n$$\n\nAs before, the traits evolution and the cell division are governed by $\\underline{g}(m)$ and $h(p)$ respectively, which are defined as \n$$\n\\begin{aligned}\n\\underline{g}(m)&=\\omega_1m\\begin{pmatrix} 1\\\\ c\\end{pmatrix} \\\\\nh(p)&=\n    \\begin{cases}\n    0   & , \\, p<\\mu \\\\\n    \\omega_2 \\, \\frac{p+\\nu}{\\mu+\\nu} & , \\, p\\geq \\mu\n    \\end{cases}\n\\end{aligned}\n$$\nFrom $\\underline{g}(m)$ we can notice that the cell size still grows exponentially and the protein content also follows this evolution, scaled by the factor $c$. As $c$ doesn't have a real meaning, we set it to $1$. \n\nMoreover, in this model the condition under which the cell can divide is that it contains a minimum amount of a specific type of protein, which we call $\\mu$. If $p\\geq \\mu$ the cell can divide, otherwise it cannot. Unlike model 1, we do not have any condition on the size of the cell for the division to take place and $h$ depens only on $p$.\n\nThe initial conditions for $m(t)$ and $p(t)$ are\n$$\n\\begin{aligned}\n    p(t=0) &= 0 \\\\\n    m(t=0) &= m_b\n\\end{aligned}\n$$\n\nand the division process occurs in the following way\n$$\n\\begin{pmatrix} m \\\\ p\\end{pmatrix} \\rightarrow \\begin{pmatrix} frac \\cdot m \\\\ 0\\end{pmatrix} + \\begin{pmatrix} (1-frac) \\cdot m \\\\ 0\\end{pmatrix}\n$$\nwhere $frac$ is the division ratio.\n\nSimilarly to the [Model 1](/analysis_real_data/REAL_Model_1.ipynb), the results of the two differential equations are:\n$$\n\\begin{aligned}\nm(t) &= m_b\\, e^{\\omega_1 t} \\\\\np(t) &= m_b\\, \\left(e^{\\omega_1 t} -1 \\right) \\\\\n\\ln(s(t)) &= - \\left[ \\dfrac{m_b}{\\mu+\\nu} \\dfrac{\\omega_2}{\\omega_1} \\left( e^{\\omega_1 t} - e^{\\omega_1 t_0}\\right) + \\dfrac{\\nu - m_b}{\\mu+\\nu}\\, \\omega_2 (t-t_0) \\right] \\theta   (t-t_0) \\\\\n%s(t) &= \\exp\\left\\{ - \\left[ \\dfrac{m_b}{\\mu+\\nu} \\dfrac{\\omega_2}{\\omega_1} \\left.         %(e^\\omega_1 t} - e^{\\omega_1 t_0}\\right) + \\dfrac{\\nu - m_b}{\\mu+\\nu}\\, \\omega_2 (t-t_0) %\\right] \\theta(t-t_0) \\right\\}\n\\end{aligned}\n$$\n\nwhere $t_0 \\equiv \\dfrac{1}{\\omega_1} \\ln\\left(1 + \\dfrac{\\mu}{m_b}\\right) $ is the minimum time at which the cell can divide and $\\theta(\\tau)$ is the Heaviside function.\n\nNote that in this model $t_0$ is always bigger than zero, because the argument of the logarithm is alway bigger than one. This means that, independently on the choice of parameters, each cell has a time period in which it cannot divide because the protein has not reached yet the threshold value $\\mu$.",
   "metadata": {
    "cell_id": "b475124b4a8c4caa8ea71f232632adb5",
    "tags": [],
    "deepnote_cell_type": "markdown",
    "deepnote_cell_height": 1073.15625
   }
  },
  {
   "cell_type": "markdown",
   "source": "![img](images/s_model2.png)",
   "metadata": {
    "cell_id": "91940d84699b449292e653c0fdd0e570",
    "tags": [],
    "deepnote_cell_type": "markdown",
    "deepnote_cell_height": 574
   }
  },
  {
   "cell_type": "markdown",
   "source": "# Bayesian Data Analysis\nFor all models, the set of parameters to be inferred is \n$$\n\\underline{\\theta} = \\{\\mu, \\nu, \\omega_2, a, b, c, d\\}\n$$\n\nApplying the Bayes theorem, we can write\n$$\nf(\\underline{\\theta}|\\tau, \\omega_1, frac, M) \\propto f(\\tau, \\omega_1, frac|\\underline{\\theta}, M)\\cdot f(\\underline{\\theta}, M)\n$$\nwhere $M$ is the background information given by the selected model and $\\tau$, $\\omega_1$ and $frac$ are provided by the data. In the following likelihoods $M$ is left implicit.\n\nRegarding the likelihood, $f(\\tau, \\omega_1, frac|\\underline{\\theta})$, applying the chain rule and exploiting the fact that $frac$ and $\\omega_1$ are independent, it can be written as the product of the conditional probability density function of each random variable of interest\n$$\n\\begin{aligned}\nf(\\tau, \\omega_1, frac|\\underline{\\theta}) &=\nf(\\tau|\\omega_1, frac, \\underline{\\theta}) \\cdot f(\\omega_1, frac|\\underline{\\theta}) \\\\\n&=f(\\tau|\\omega_1, frac, \\underline{\\theta}) \\cdot f(\\omega_1|\\underline{\\theta}) \\cdot f(frac|\\underline{\\theta})\n\\end{aligned}\n$$ \nwhere the last 2 are respectively the $Gamma(c, d)$ and $Beta(a, b)$ distributions, while the former is the probability density function of division times, which depends on the selected model and it is minus the derivative of the survival function $s(t)$.\n\n## Workflow \n- **Calibration**  \nPerforming Markov Chain Monte Carlo (MCMC), via the Python implementation [emcee](https://emcee.readthedocs.io/en/stable/), we find the posterior distribution of $\\theta$ and the marginalized posterior of each parameter, of which we calculate the maximum, the median and the 95% credibility interval. Then, we use this results to generate a simulated time series, that can be compared with the real data, to find which model is statistically better.  \n\n- **Validation** \nModel validation and comparison is achieved by \n- making a boxplot of the simulated and real interdivision times\n- computing the overlap of the histograms of the interdivision times\n- calculating the predictive density\n\n\n## Methods\n- **Sampling from the PDF distribution of $\\tau$ with numerical inversion of the CDF**\nFollowing the inverse transform method, to draw a division time $t_d$ from the associated distribution, we draw a random value $K$ from a uniform distribution in the interval $[0, 1]$ (i.e., we draw a \"survival probability”) and solve numerically for $t_d$\n\n$$ \n\\log(s(t_d)) = \\log(K)\n$$\n\nWe use the library [Pyinverse](https://pypi.org/project/pynverse/) to find numerically the inverse of a function.\n\n- **Forward propagation**\nAfter having generated the time series of the survival times, we can forward propagate the evolution of a single cell, according to the following procedure:\n\n1. Start with the initial size $x_b$\n2. Propagate using the equation for $x(t)$ up to the first division time\n3. Divide the cell size according to $frac$ \n4. Repeat the last 2 points for all division times generated, imposing as initial size of the cell the one after division and resetting the time\n\nIn point **3.**, regarding the value of $frac$, three approches can be followed:\n- set $frac=0.5$ in all iterations assuming the cell always divides equally in two parts;\n- draw the values of $frac$ from the associated Beta distribution;\n- use the real values contained in the dataset. \n\nAfter playing with the first approach (see notebooks in folder [analysis_sim_data](./analysis_sim_data)), in order to obtain significant results and consider $frac$ as a stochastic variable, we follow the second one in the generation of the simulated time series. \n\nRegarding $\\omega_1$, as for $frac$, at each iteration we draw a value from the associated Gamma distribution.\n\n- **Predictive density**\nTo compute the predictive density, first we divide the dataset in 2 parts, one used for calibration and the other for validation. This is done randomly and several times, in order to get a more robust estimate of the predictive density. \n\nIn the calibration part, we take the maximum a posteriori (MAP) of the posterior: $\\underline{\\theta}_{MAP}$. Then, at each iteration, we use the inferred values of the parameters and the validation set to calculate the predictive density: \n$$\n    \\mathcal{L}(\\underline{\\tau}^V, \\underline{\\omega}_1^V,\\underline{f}^V | \\underline{\\theta}_{MAP}) =\n    \\prod_{cell \\, cycles} \n    \\mathcal{L}(\\tau_i^V | \\omega_{1, i}^V,f_i^V,\\underline{\\theta}_{MAP}) \n    \\cdot \\mathcal{L}(\\omega_{1, i}^V | \\underline{\\theta}_{MAP}) \n    \\cdot \\mathcal{L}(f_i^V | \\underline{\\theta}_{MAP})\n$$\n\nFinally, we take the average of the values obtained at each iteration for each model. Given the 3 models, the best is the one with the largest value of $\\mathcal{L}(\\underline{\\tau}^V, \\underline{\\omega}_1^V,\\underline{f}^V | \\underline{\\theta}_{MAP})$.\n\n",
   "metadata": {
    "cell_id": "0c6d468642964646808f268fda19318c",
    "tags": [],
    "deepnote_cell_type": "markdown",
    "deepnote_cell_height": 1895.984375
   }
  },
  {
   "cell_type": "markdown",
   "source": "# First Simulations\nBefore analyzing the real data, we prefer to carry out simulations for each model. Given a model, we set arbitrary, but meaningful, parameter values ($\\omega_1=1$, $\\omega_2=0.9$, $\\nu=1$, $\\mu=0.1$, $x_b=1$, such that $\\mu \\ll \\nu$ and $\\omega_2<\\omega_1$) and we generate the time series of the cell size. As explained above, this is achieved by sampling the division times inverting $s(t)$ and deterministically propagate the evolution of the cell to find $x(t)$. To keep the simulation simple, we fix $frac=0.5$.\n\nThen we run MCMC to perform inference on the parameters ($\\omega_1, \\omega_2, \\mu, \\nu$). In this case the results can be compared with the true value of the parameters, which are known from the simulation. \n\nThis is mainly done to familiarize with the problem, with the Metropolis algorithm and with the [emcee](https://emcee.readthedocs.io/en/stable/) library. The resulting notebooks can be found in the folder [analysis_sim_data](./analysis_sim_data):\n\n- [Simulated data, Model 0](./analysis_sim_data/model_0.ipynb)\n- [Simulated data, Model 1](./analysis_sim_data/model_1.ipynb)\n- [Simulated data, Model 2](./analysis_sim_data/model_2.ipynb)\n",
   "metadata": {
    "cell_id": "4e13cda8dbd24220b0d81d405560433a",
    "tags": [],
    "deepnote_cell_type": "markdown",
    "deepnote_cell_height": 429.21875
   }
  },
  {
   "cell_type": "markdown",
   "source": "# Real Data\n\n",
   "metadata": {
    "cell_id": "dfab5191d3904703a1a4b401581f6790",
    "tags": [],
    "deepnote_cell_type": "markdown",
    "deepnote_cell_height": 82
   }
  },
  {
   "cell_type": "code",
   "metadata": {
    "cell_id": "0f4f9693ca6b42c39232474c1fdf8ab8",
    "tags": [],
    "deepnote_to_be_reexecuted": false,
    "source_hash": "7150542f",
    "execution_start": 1655386088356,
    "execution_millis": 3892,
    "deepnote_cell_type": "code",
    "deepnote_cell_height": 225
   },
   "source": "import pandas as pd\nimport matplotlib.pyplot as plt\nimport numpy as np\n\nimport sys\nsys.path.insert(0, './analysis_real_data')\n\nfrom Fernando_package import functions\nfrom Fernando_package import plot_funcs",
   "execution_count": 1,
   "outputs": []
  },
  {
   "cell_type": "markdown",
   "source": "First, we import the real data and we create the following objects:\n- `size`: length of the time series, i.e., the number of divisions \n- `xb_realdata`: initial size of the cell \n- `df_microbial_growth`: our dataset ",
   "metadata": {
    "cell_id": "71e3c4aeb0644a44b2ee45b821f59b31",
    "tags": [],
    "deepnote_cell_type": "markdown",
    "deepnote_cell_height": 153.578125
   }
  },
  {
   "cell_type": "code",
   "metadata": {
    "cell_id": "c38ef4ac44974640aa880a7d77e3b19b",
    "tags": [],
    "deepnote_to_be_reexecuted": false,
    "source_hash": "cd8c8dc1",
    "execution_start": 1655386092263,
    "execution_millis": 165,
    "deepnote_cell_type": "code",
    "deepnote_cell_height": 989.03125
   },
   "source": "df_microbial_growth = pd.read_csv('/work/Microbial_Scaling_Laws/data/modified_Susman18_physical_units.csv')\nxb_realdata = df_microbial_growth['length_birth'][0]\n\n# remove first NaN\ndf_microbial_growth  =  df_microbial_growth[~ np.isnan(df_microbial_growth['division_ratio'])]\nsize = len(df_microbial_growth['generationtime'])\n\n# check that there is only one cell in the dataset\nprint('Number of cells in the dataset:', df_microbial_growth['lineage_ID'].nunique()) \n\n# print length of the series and initial size\nprint('Length of the time series:', size)\nprint('Initial size of the cell:', round(xb_realdata, 4))\n\ndisplay(df_microbial_growth)\n\n",
   "execution_count": 2,
   "outputs": [
    {
     "name": "stdout",
     "text": "Number of cells in the dataset: 1\nLength of the time series: 251\nInitial size of the cell: 1.7914\n",
     "output_type": "stream"
    },
    {
     "data": {
      "application/vnd.deepnote.dataframe.v3+json": {
       "column_count": 12,
       "row_count": 251,
       "columns": [
        {
         "name": "div_and_fold",
         "dtype": "float64",
         "stats": {
          "unique_count": 251,
          "nan_count": 0,
          "min": "0.546096874465105",
          "max": "2.07810702172796",
          "histogram": [
           {
            "bin_start": 0.546096874465105,
            "bin_end": 0.6992978891913906,
            "count": 6
           },
           {
            "bin_start": 0.6992978891913906,
            "bin_end": 0.852498903917676,
            "count": 30
           },
           {
            "bin_start": 0.852498903917676,
            "bin_end": 1.0056999186439615,
            "count": 101
           },
           {
            "bin_start": 1.0056999186439615,
            "bin_end": 1.158900933370247,
            "count": 77
           },
           {
            "bin_start": 1.158900933370247,
            "bin_end": 1.3121019480965326,
            "count": 24
           },
           {
            "bin_start": 1.3121019480965326,
            "bin_end": 1.465302962822818,
            "count": 4
           },
           {
            "bin_start": 1.465302962822818,
            "bin_end": 1.6185039775491035,
            "count": 4
           },
           {
            "bin_start": 1.6185039775491035,
            "bin_end": 1.7717049922753891,
            "count": 1
           },
           {
            "bin_start": 1.7717049922753891,
            "bin_end": 1.9249060070016744,
            "count": 2
           },
           {
            "bin_start": 1.9249060070016744,
            "bin_end": 2.07810702172796,
            "count": 2
           }
          ]
         }
        },
        {
         "name": "fold_growth",
         "dtype": "float64",
         "stats": {
          "unique_count": 251,
          "nan_count": 0,
          "min": "0.17705897633605",
          "max": "1.56885829888933",
          "histogram": [
           {
            "bin_start": 0.17705897633605,
            "bin_end": 0.31623890859137804,
            "count": 6
           },
           {
            "bin_start": 0.31623890859137804,
            "bin_end": 0.45541884084670603,
            "count": 10
           },
           {
            "bin_start": 0.45541884084670603,
            "bin_end": 0.5945987731020341,
            "count": 45
           },
           {
            "bin_start": 0.5945987731020341,
            "bin_end": 0.7337787053573621,
            "count": 85
           },
           {
            "bin_start": 0.7337787053573621,
            "bin_end": 0.8729586376126901,
            "count": 70
           },
           {
            "bin_start": 0.8729586376126901,
            "bin_end": 1.012138569868018,
            "count": 26
           },
           {
            "bin_start": 1.012138569868018,
            "bin_end": 1.151318502123346,
            "count": 6
           },
           {
            "bin_start": 1.151318502123346,
            "bin_end": 1.290498434378674,
            "count": 1
           },
           {
            "bin_start": 1.290498434378674,
            "bin_end": 1.429678366634002,
            "count": 1
           },
           {
            "bin_start": 1.429678366634002,
            "bin_end": 1.56885829888933,
            "count": 1
           }
          ]
         }
        },
        {
         "name": "division_ratio",
         "dtype": "float64",
         "stats": {
          "unique_count": 251,
          "nan_count": 0,
          "min": "0.357723235350301",
          "max": "0.990917846034598",
          "histogram": [
           {
            "bin_start": 0.357723235350301,
            "bin_end": 0.4210426964187307,
            "count": 11
           },
           {
            "bin_start": 0.4210426964187307,
            "bin_end": 0.4843621574871604,
            "count": 102
           },
           {
            "bin_start": 0.4843621574871604,
            "bin_end": 0.54768161855559,
            "count": 119
           },
           {
            "bin_start": 0.54768161855559,
            "bin_end": 0.6110010796240197,
            "count": 15
           },
           {
            "bin_start": 0.6110010796240197,
            "bin_end": 0.6743205406924495,
            "count": 1
           },
           {
            "bin_start": 0.6743205406924495,
            "bin_end": 0.7376400017608792,
            "count": 0
           },
           {
            "bin_start": 0.7376400017608792,
            "bin_end": 0.8009594628293089,
            "count": 0
           },
           {
            "bin_start": 0.8009594628293089,
            "bin_end": 0.8642789238977386,
            "count": 0
           },
           {
            "bin_start": 0.8642789238977386,
            "bin_end": 0.9275983849661682,
            "count": 0
           },
           {
            "bin_start": 0.9275983849661682,
            "bin_end": 0.990917846034598,
            "count": 3
           }
          ]
         }
        },
        {
         "name": "added_length",
         "dtype": "float64",
         "stats": {
          "unique_count": 251,
          "nan_count": 0,
          "min": "0.387557684591295",
          "max": "9.7781973176522",
          "histogram": [
           {
            "bin_start": 0.387557684591295,
            "bin_end": 1.3266216478973856,
            "count": 7
           },
           {
            "bin_start": 1.3266216478973856,
            "bin_end": 2.2656856112034762,
            "count": 72
           },
           {
            "bin_start": 2.2656856112034762,
            "bin_end": 3.2047495745095667,
            "count": 137
           },
           {
            "bin_start": 3.2047495745095667,
            "bin_end": 4.1438135378156575,
            "count": 26
           },
           {
            "bin_start": 4.1438135378156575,
            "bin_end": 5.0828775011217475,
            "count": 5
           },
           {
            "bin_start": 5.0828775011217475,
            "bin_end": 6.021941464427838,
            "count": 1
           },
           {
            "bin_start": 6.021941464427838,
            "bin_end": 6.961005427733928,
            "count": 1
           },
           {
            "bin_start": 6.961005427733928,
            "bin_end": 7.900069391040019,
            "count": 1
           },
           {
            "bin_start": 7.900069391040019,
            "bin_end": 8.83913335434611,
            "count": 0
           },
           {
            "bin_start": 8.83913335434611,
            "bin_end": 9.7781973176522,
            "count": 1
           }
          ]
         }
        },
        {
         "name": "generationtime",
         "dtype": "float64",
         "stats": {
          "unique_count": 53,
          "nan_count": 0,
          "min": "0.0833333333333286",
          "max": "1.33333333333333",
          "histogram": [
           {
            "bin_start": 0.0833333333333286,
            "bin_end": 0.20833333333332874,
            "count": 7
           },
           {
            "bin_start": 0.20833333333332874,
            "bin_end": 0.3333333333333289,
            "count": 6
           },
           {
            "bin_start": 0.3333333333333289,
            "bin_end": 0.45833333333332904,
            "count": 62
           },
           {
            "bin_start": 0.45833333333332904,
            "bin_end": 0.5833333333333292,
            "count": 97
           },
           {
            "bin_start": 0.5833333333333292,
            "bin_end": 0.7083333333333293,
            "count": 61
           },
           {
            "bin_start": 0.7083333333333293,
            "bin_end": 0.8333333333333295,
            "count": 13
           },
           {
            "bin_start": 0.8333333333333295,
            "bin_end": 0.9583333333333296,
            "count": 2
           },
           {
            "bin_start": 0.9583333333333296,
            "bin_end": 1.0833333333333297,
            "count": 1
           },
           {
            "bin_start": 1.0833333333333297,
            "bin_end": 1.20833333333333,
            "count": 1
           },
           {
            "bin_start": 1.20833333333333,
            "bin_end": 1.33333333333333,
            "count": 1
           }
          ]
         }
        },
        {
         "name": "length_birth",
         "dtype": "float64",
         "stats": {
          "unique_count": 251,
          "nan_count": 0,
          "min": "1.53541473227095",
          "max": "7.18441393010281",
          "histogram": [
           {
            "bin_start": 1.53541473227095,
            "bin_end": 2.100314652054136,
            "count": 27
           },
           {
            "bin_start": 2.100314652054136,
            "bin_end": 2.665214571837322,
            "count": 131
           },
           {
            "bin_start": 2.665214571837322,
            "bin_end": 3.230114491620508,
            "count": 74
           },
           {
            "bin_start": 3.230114491620508,
            "bin_end": 3.795014411403694,
            "count": 12
           },
           {
            "bin_start": 3.795014411403694,
            "bin_end": 4.35991433118688,
            "count": 3
           },
           {
            "bin_start": 4.35991433118688,
            "bin_end": 4.924814250970066,
            "count": 1
           },
           {
            "bin_start": 4.924814250970066,
            "bin_end": 5.489714170753252,
            "count": 2
           },
           {
            "bin_start": 5.489714170753252,
            "bin_end": 6.054614090536438,
            "count": 0
           },
           {
            "bin_start": 6.054614090536438,
            "bin_end": 6.619514010319624,
            "count": 0
           },
           {
            "bin_start": 6.619514010319624,
            "bin_end": 7.18441393010281,
            "count": 1
           }
          ]
         }
        },
        {
         "name": "length_final",
         "dtype": "float64",
         "stats": {
          "unique_count": 251,
          "nan_count": 0,
          "min": "2.676769724",
          "max": "12.3506194558684",
          "histogram": [
           {
            "bin_start": 2.676769724,
            "bin_end": 3.64415469718684,
            "count": 5
           },
           {
            "bin_start": 3.64415469718684,
            "bin_end": 4.611539670373681,
            "count": 50
           },
           {
            "bin_start": 4.611539670373681,
            "bin_end": 5.578924643560521,
            "count": 122
           },
           {
            "bin_start": 5.578924643560521,
            "bin_end": 6.546309616747361,
            "count": 56
           },
           {
            "bin_start": 6.546309616747361,
            "bin_end": 7.5136945899342,
            "count": 11
           },
           {
            "bin_start": 7.5136945899342,
            "bin_end": 8.48107956312104,
            "count": 3
           },
           {
            "bin_start": 8.48107956312104,
            "bin_end": 9.448464536307881,
            "count": 2
           },
           {
            "bin_start": 9.448464536307881,
            "bin_end": 10.415849509494722,
            "count": 1
           },
           {
            "bin_start": 10.415849509494722,
            "bin_end": 11.38323448268156,
            "count": 0
           },
           {
            "bin_start": 11.38323448268156,
            "bin_end": 12.3506194558684,
            "count": 1
           }
          ]
         }
        },
        {
         "name": "growth_rate",
         "dtype": "float64",
         "stats": {
          "unique_count": 251,
          "nan_count": 0,
          "min": "0.505963594660099",
          "max": "4.07143555717965",
          "histogram": [
           {
            "bin_start": 0.505963594660099,
            "bin_end": 0.8625107909120542,
            "count": 2
           },
           {
            "bin_start": 0.8625107909120542,
            "bin_end": 1.2190579871640093,
            "count": 48
           },
           {
            "bin_start": 1.2190579871640093,
            "bin_end": 1.5756051834159646,
            "count": 165
           },
           {
            "bin_start": 1.5756051834159646,
            "bin_end": 1.9321523796679196,
            "count": 28
           },
           {
            "bin_start": 1.9321523796679196,
            "bin_end": 2.2886995759198747,
            "count": 4
           },
           {
            "bin_start": 2.2886995759198747,
            "bin_end": 2.64524677217183,
            "count": 0
           },
           {
            "bin_start": 2.64524677217183,
            "bin_end": 3.001793968423785,
            "count": 2
           },
           {
            "bin_start": 3.001793968423785,
            "bin_end": 3.35834116467574,
            "count": 0
           },
           {
            "bin_start": 3.35834116467574,
            "bin_end": 3.714888360927695,
            "count": 0
           },
           {
            "bin_start": 3.714888360927695,
            "bin_end": 4.07143555717965,
            "count": 2
           }
          ]
         }
        },
        {
         "name": "lineage_ID",
         "dtype": "float64",
         "stats": {
          "unique_count": 1,
          "nan_count": 0,
          "min": "15.0",
          "max": "15.0",
          "histogram": [
           {
            "bin_start": 14.5,
            "bin_end": 14.6,
            "count": 0
           },
           {
            "bin_start": 14.6,
            "bin_end": 14.7,
            "count": 0
           },
           {
            "bin_start": 14.7,
            "bin_end": 14.8,
            "count": 0
           },
           {
            "bin_start": 14.8,
            "bin_end": 14.9,
            "count": 0
           },
           {
            "bin_start": 14.9,
            "bin_end": 15,
            "count": 0
           },
           {
            "bin_start": 15,
            "bin_end": 15.1,
            "count": 251
           },
           {
            "bin_start": 15.1,
            "bin_end": 15.2,
            "count": 0
           },
           {
            "bin_start": 15.2,
            "bin_end": 15.3,
            "count": 0
           },
           {
            "bin_start": 15.3,
            "bin_end": 15.4,
            "count": 0
           },
           {
            "bin_start": 15.4,
            "bin_end": 15.5,
            "count": 0
           }
          ]
         }
        },
        {
         "name": "generation",
         "dtype": "float64",
         "stats": {
          "unique_count": 251,
          "nan_count": 0,
          "min": "1.0",
          "max": "253.0",
          "histogram": [
           {
            "bin_start": 1,
            "bin_end": 26.2,
            "count": 26
           },
           {
            "bin_start": 26.2,
            "bin_end": 51.4,
            "count": 25
           },
           {
            "bin_start": 51.4,
            "bin_end": 76.6,
            "count": 25
           },
           {
            "bin_start": 76.6,
            "bin_end": 101.8,
            "count": 25
           },
           {
            "bin_start": 101.8,
            "bin_end": 127,
            "count": 25
           },
           {
            "bin_start": 127,
            "bin_end": 152.2,
            "count": 26
           },
           {
            "bin_start": 152.2,
            "bin_end": 177.4,
            "count": 25
           },
           {
            "bin_start": 177.4,
            "bin_end": 202.6,
            "count": 24
           },
           {
            "bin_start": 202.6,
            "bin_end": 227.79999999999998,
            "count": 24
           },
           {
            "bin_start": 227.79999999999998,
            "bin_end": 253,
            "count": 26
           }
          ]
         }
        },
        {
         "name": "start_time",
         "dtype": "float64",
         "stats": {
          "unique_count": 251,
          "nan_count": 0,
          "min": "1.08333333333333",
          "max": "152.916666666667",
          "histogram": [
           {
            "bin_start": 1.08333333333333,
            "bin_end": 16.266666666666694,
            "count": 25
           },
           {
            "bin_start": 16.266666666666694,
            "bin_end": 31.45000000000006,
            "count": 25
           },
           {
            "bin_start": 31.45000000000006,
            "bin_end": 46.633333333333425,
            "count": 22
           },
           {
            "bin_start": 46.633333333333425,
            "bin_end": 61.81666666666679,
            "count": 26
           },
           {
            "bin_start": 61.81666666666679,
            "bin_end": 77.00000000000016,
            "count": 25
           },
           {
            "bin_start": 77.00000000000016,
            "bin_end": 92.18333333333352,
            "count": 25
           },
           {
            "bin_start": 92.18333333333352,
            "bin_end": 107.36666666666689,
            "count": 25
           },
           {
            "bin_start": 107.36666666666689,
            "bin_end": 122.55000000000025,
            "count": 26
           },
           {
            "bin_start": 122.55000000000025,
            "bin_end": 137.73333333333363,
            "count": 26
           },
           {
            "bin_start": 137.73333333333363,
            "bin_end": 152.916666666667,
            "count": 26
           }
          ]
         }
        },
        {
         "name": "end_time",
         "dtype": "float64",
         "stats": {
          "unique_count": 251,
          "nan_count": 0,
          "min": "1.58333333333333",
          "max": "153.416666666667",
          "histogram": [
           {
            "bin_start": 1.58333333333333,
            "bin_end": 16.766666666666694,
            "count": 25
           },
           {
            "bin_start": 16.766666666666694,
            "bin_end": 31.95000000000006,
            "count": 25
           },
           {
            "bin_start": 31.95000000000006,
            "bin_end": 47.133333333333425,
            "count": 23
           },
           {
            "bin_start": 47.133333333333425,
            "bin_end": 62.31666666666679,
            "count": 25
           },
           {
            "bin_start": 62.31666666666679,
            "bin_end": 77.50000000000016,
            "count": 25
           },
           {
            "bin_start": 77.50000000000016,
            "bin_end": 92.68333333333352,
            "count": 24
           },
           {
            "bin_start": 92.68333333333352,
            "bin_end": 107.86666666666689,
            "count": 26
           },
           {
            "bin_start": 107.86666666666689,
            "bin_end": 123.05000000000025,
            "count": 26
           },
           {
            "bin_start": 123.05000000000025,
            "bin_end": 138.23333333333363,
            "count": 26
           },
           {
            "bin_start": 138.23333333333363,
            "bin_end": 153.416666666667,
            "count": 26
           }
          ]
         }
        },
        {
         "name": "_deepnote_index_column",
         "dtype": "int64"
        }
       ],
       "rows": [
        {
         "div_and_fold": 1.0098307934197,
         "fold_growth": 0.794983848896329,
         "division_ratio": 0.456028002051387,
         "added_length": 3.19832435369885,
         "generationtime": 0.5,
         "length_birth": 2.63365495382557,
         "length_final": 5.83197930752442,
         "growth_rate": 1.58996769779266,
         "lineage_ID": 15,
         "generation": 1,
         "start_time": 1.08333333333333,
         "end_time": 1.58333333333333,
         "_deepnote_index_column": 1
        },
        {
         "div_and_fold": 0.86248240520342,
         "fold_growth": 0.607893198978199,
         "division_ratio": 0.469618916545778,
         "added_length": 2.29117173653322,
         "generationtime": 0.416666666666667,
         "length_birth": 2.73880780371701,
         "length_final": 5.02997954025023,
         "growth_rate": 1.45894367754768,
         "lineage_ID": 15,
         "generation": 2,
         "start_time": 1.66666666666667,
         "end_time": 2.08333333333333,
         "_deepnote_index_column": 2
        },
        {
         "div_and_fold": 1.4264859538416,
         "fold_growth": 1.03736970365688,
         "division_ratio": 0.505526075322566,
         "added_length": 4.6324093463421,
         "generationtime": 0.833333333333333,
         "length_birth": 2.5427858159355,
         "length_final": 7.17519516227761,
         "growth_rate": 1.24484364438826,
         "lineage_ID": 15,
         "generation": 3,
         "start_time": 2.16666666666667,
         "end_time": 3,
         "_deepnote_index_column": 3
        },
        {
         "div_and_fold": 0.729601417548095,
         "fold_growth": 0.490155896574101,
         "division_ratio": 0.446903409482841,
         "added_length": 2.02841337985533,
         "generationtime": 0.333333333333333,
         "length_birth": 3.20661918172665,
         "length_final": 5.23503256158198,
         "growth_rate": 1.47046768972231,
         "lineage_ID": 15,
         "generation": 4,
         "start_time": 3.08333333333333,
         "end_time": 3.41666666666667,
         "_deepnote_index_column": 4
        },
        {
         "div_and_fold": 0.887981951140976,
         "fold_growth": 0.609464016506087,
         "division_ratio": 0.482744438597171,
         "added_length": 2.12143157334131,
         "generationtime": 0.416666666666667,
         "length_birth": 2.5271828549788,
         "length_final": 4.64861442832011,
         "growth_rate": 1.46271363961461,
         "lineage_ID": 15,
         "generation": 5,
         "start_time": 3.5,
         "end_time": 3.91666666666667,
         "_deepnote_index_column": 5
        },
        {
         "div_and_fold": 1.04135711828936,
         "fold_growth": 0.709757017717577,
         "division_ratio": 0.51210160119141,
         "added_length": 2.46030483304954,
         "generationtime": 0.583333333333334,
         "length_birth": 2.38056289206422,
         "length_final": 4.84086772511376,
         "growth_rate": 1.21672631608727,
         "lineage_ID": 15,
         "generation": 6,
         "start_time": 4,
         "end_time": 4.58333333333333,
         "_deepnote_index_column": 6
        },
        {
         "div_and_fold": 0.906843477768965,
         "fold_growth": 0.629224866835989,
         "division_ratio": 0.483351917988853,
         "added_length": 2.05006662359762,
         "generationtime": 0.5,
         "length_birth": 2.33984269966407,
         "length_final": 4.3899093232617,
         "growth_rate": 1.25844973367198,
         "lineage_ID": 15,
         "generation": 7,
         "start_time": 4.66666666666667,
         "end_time": 5.16666666666667,
         "_deepnote_index_column": 7
        },
        {
         "div_and_fold": 1.21742143558949,
         "fold_growth": 0.90776142744314,
         "division_ratio": 0.491139841168619,
         "added_length": 3.18831034266156,
         "generationtime": 0.583333333333334,
         "length_birth": 2.15605936777139,
         "length_final": 5.34436971043295,
         "growth_rate": 1.55616244704538,
         "lineage_ID": 15,
         "generation": 8,
         "start_time": 5.25,
         "end_time": 5.83333333333333,
         "_deepnote_index_column": 8
        },
        {
         "div_and_fold": 1.12020008440884,
         "fold_growth": 0.877093417187681,
         "division_ratio": 0.465992331480415,
         "added_length": 3.4963280990811,
         "generationtime": 0.666666666666667,
         "length_birth": 2.49043530165796,
         "length_final": 5.98676340073906,
         "growth_rate": 1.31564012578152,
         "lineage_ID": 15,
         "generation": 9,
         "start_time": 5.91666666666667,
         "end_time": 6.58333333333333,
         "_deepnote_index_column": 9
        },
        {
         "div_and_fold": 0.949165535878694,
         "fold_growth": 0.663265730824347,
         "division_ratio": 0.488977993052723,
         "added_length": 2.75503393886657,
         "generationtime": 0.5,
         "length_birth": 2.92739555257488,
         "length_final": 5.68242949144144,
         "growth_rate": 1.32653146164869,
         "lineage_ID": 15,
         "generation": 10,
         "start_time": 6.66666666666667,
         "end_time": 7.16666666666667,
         "_deepnote_index_column": 10
        }
       ]
      },
      "text/plain": "     div_and_fold  fold_growth  division_ratio  added_length  generationtime  \\\n1        1.009831     0.794984        0.456028      3.198324        0.500000   \n2        0.862482     0.607893        0.469619      2.291172        0.416667   \n3        1.426486     1.037370        0.505526      4.632409        0.833333   \n4        0.729601     0.490156        0.446903      2.028413        0.333333   \n5        0.887982     0.609464        0.482744      2.121432        0.416667   \n..            ...          ...             ...           ...             ...   \n247      0.940427     0.590789        0.520893      2.192641        0.416667   \n248      0.928602     0.604227        0.507478      2.069835        0.500000   \n249      1.568073     1.046815        0.550478      4.644408        0.750000   \n250      0.809727     0.481681        0.500204      2.215210        0.333333   \n251      0.860970     0.711011        0.422863      2.538870        0.500000   \n\n     length_birth  length_final  growth_rate  lineage_ID  generation  \\\n1        2.633655      5.831979     1.589968        15.0         1.0   \n2        2.738808      5.029980     1.458944        15.0         2.0   \n3        2.542786      7.175195     1.244844        15.0         3.0   \n4        3.206619      5.235033     1.470468        15.0         4.0   \n5        2.527183      4.648614     1.462714        15.0         5.0   \n..            ...           ...          ...         ...         ...   \n247      2.722385      4.915026     1.417893        15.0       249.0   \n248      2.494268      4.564104     1.208453        15.0       250.0   \n249      2.512440      7.156848     1.395754        15.0       251.0   \n250      3.579885      5.795095     1.445043        15.0       252.0   \n251      2.450531      4.989402     1.422022        15.0       253.0   \n\n     start_time    end_time  \n1      1.083333    1.583333  \n2      1.666667    2.083333  \n3      2.166667    3.000000  \n4      3.083333    3.416667  \n5      3.500000    3.916667  \n..          ...         ...  \n247  150.583333  151.000000  \n248  151.083333  151.583333  \n249  151.666667  152.416667  \n250  152.500000  152.833333  \n251  152.916667  153.416667  \n\n[251 rows x 12 columns]",
      "text/html": "<div>\n<style scoped>\n    .dataframe tbody tr th:only-of-type {\n        vertical-align: middle;\n    }\n\n    .dataframe tbody tr th {\n        vertical-align: top;\n    }\n\n    .dataframe thead th {\n        text-align: right;\n    }\n</style>\n<table border=\"1\" class=\"dataframe\">\n  <thead>\n    <tr style=\"text-align: right;\">\n      <th></th>\n      <th>div_and_fold</th>\n      <th>fold_growth</th>\n      <th>division_ratio</th>\n      <th>added_length</th>\n      <th>generationtime</th>\n      <th>length_birth</th>\n      <th>length_final</th>\n      <th>growth_rate</th>\n      <th>lineage_ID</th>\n      <th>generation</th>\n      <th>start_time</th>\n      <th>end_time</th>\n    </tr>\n  </thead>\n  <tbody>\n    <tr>\n      <th>1</th>\n      <td>1.009831</td>\n      <td>0.794984</td>\n      <td>0.456028</td>\n      <td>3.198324</td>\n      <td>0.500000</td>\n      <td>2.633655</td>\n      <td>5.831979</td>\n      <td>1.589968</td>\n      <td>15.0</td>\n      <td>1.0</td>\n      <td>1.083333</td>\n      <td>1.583333</td>\n    </tr>\n    <tr>\n      <th>2</th>\n      <td>0.862482</td>\n      <td>0.607893</td>\n      <td>0.469619</td>\n      <td>2.291172</td>\n      <td>0.416667</td>\n      <td>2.738808</td>\n      <td>5.029980</td>\n      <td>1.458944</td>\n      <td>15.0</td>\n      <td>2.0</td>\n      <td>1.666667</td>\n      <td>2.083333</td>\n    </tr>\n    <tr>\n      <th>3</th>\n      <td>1.426486</td>\n      <td>1.037370</td>\n      <td>0.505526</td>\n      <td>4.632409</td>\n      <td>0.833333</td>\n      <td>2.542786</td>\n      <td>7.175195</td>\n      <td>1.244844</td>\n      <td>15.0</td>\n      <td>3.0</td>\n      <td>2.166667</td>\n      <td>3.000000</td>\n    </tr>\n    <tr>\n      <th>4</th>\n      <td>0.729601</td>\n      <td>0.490156</td>\n      <td>0.446903</td>\n      <td>2.028413</td>\n      <td>0.333333</td>\n      <td>3.206619</td>\n      <td>5.235033</td>\n      <td>1.470468</td>\n      <td>15.0</td>\n      <td>4.0</td>\n      <td>3.083333</td>\n      <td>3.416667</td>\n    </tr>\n    <tr>\n      <th>5</th>\n      <td>0.887982</td>\n      <td>0.609464</td>\n      <td>0.482744</td>\n      <td>2.121432</td>\n      <td>0.416667</td>\n      <td>2.527183</td>\n      <td>4.648614</td>\n      <td>1.462714</td>\n      <td>15.0</td>\n      <td>5.0</td>\n      <td>3.500000</td>\n      <td>3.916667</td>\n    </tr>\n    <tr>\n      <th>...</th>\n      <td>...</td>\n      <td>...</td>\n      <td>...</td>\n      <td>...</td>\n      <td>...</td>\n      <td>...</td>\n      <td>...</td>\n      <td>...</td>\n      <td>...</td>\n      <td>...</td>\n      <td>...</td>\n      <td>...</td>\n    </tr>\n    <tr>\n      <th>247</th>\n      <td>0.940427</td>\n      <td>0.590789</td>\n      <td>0.520893</td>\n      <td>2.192641</td>\n      <td>0.416667</td>\n      <td>2.722385</td>\n      <td>4.915026</td>\n      <td>1.417893</td>\n      <td>15.0</td>\n      <td>249.0</td>\n      <td>150.583333</td>\n      <td>151.000000</td>\n    </tr>\n    <tr>\n      <th>248</th>\n      <td>0.928602</td>\n      <td>0.604227</td>\n      <td>0.507478</td>\n      <td>2.069835</td>\n      <td>0.500000</td>\n      <td>2.494268</td>\n      <td>4.564104</td>\n      <td>1.208453</td>\n      <td>15.0</td>\n      <td>250.0</td>\n      <td>151.083333</td>\n      <td>151.583333</td>\n    </tr>\n    <tr>\n      <th>249</th>\n      <td>1.568073</td>\n      <td>1.046815</td>\n      <td>0.550478</td>\n      <td>4.644408</td>\n      <td>0.750000</td>\n      <td>2.512440</td>\n      <td>7.156848</td>\n      <td>1.395754</td>\n      <td>15.0</td>\n      <td>251.0</td>\n      <td>151.666667</td>\n      <td>152.416667</td>\n    </tr>\n    <tr>\n      <th>250</th>\n      <td>0.809727</td>\n      <td>0.481681</td>\n      <td>0.500204</td>\n      <td>2.215210</td>\n      <td>0.333333</td>\n      <td>3.579885</td>\n      <td>5.795095</td>\n      <td>1.445043</td>\n      <td>15.0</td>\n      <td>252.0</td>\n      <td>152.500000</td>\n      <td>152.833333</td>\n    </tr>\n    <tr>\n      <th>251</th>\n      <td>0.860970</td>\n      <td>0.711011</td>\n      <td>0.422863</td>\n      <td>2.538870</td>\n      <td>0.500000</td>\n      <td>2.450531</td>\n      <td>4.989402</td>\n      <td>1.422022</td>\n      <td>15.0</td>\n      <td>253.0</td>\n      <td>152.916667</td>\n      <td>153.416667</td>\n    </tr>\n  </tbody>\n</table>\n<p>251 rows × 12 columns</p>\n</div>"
     },
     "metadata": {},
     "output_type": "display_data"
    }
   ]
  },
  {
   "cell_type": "markdown",
   "source": "",
   "metadata": {
    "cell_id": "c170c4adda6b4c6cb9a407c5a21a51f2",
    "tags": [],
    "deepnote_cell_type": "markdown",
    "deepnote_cell_height": 46
   }
  },
  {
   "cell_type": "code",
   "metadata": {
    "cell_id": "0eb1ad9dddd04db8ba40d05722ac3be5",
    "tags": [],
    "deepnote_to_be_reexecuted": false,
    "source_hash": "d5d855a",
    "execution_start": 1655386092493,
    "execution_millis": 895,
    "deepnote_cell_type": "code",
    "deepnote_cell_height": 642,
    "deepnote_output_heights": [
     527
    ]
   },
   "source": "fig = plot_funcs.plot_3d_interactive(df_microbial_growth)\nfig.show()",
   "execution_count": 3,
   "outputs": [
    {
     "data": {
      "text/html": "<html>\n<head><meta charset=\"utf-8\" /></head>\n<body>\n    <div>            <script src=\"https://cdnjs.cloudflare.com/ajax/libs/mathjax/2.7.5/MathJax.js?config=TeX-AMS-MML_SVG\"></script><script type=\"text/javascript\">if (window.MathJax) {MathJax.Hub.Config({SVG: {font: \"STIX-Web\"}});}</script>                <script type=\"text/javascript\">window.PlotlyConfig = {MathJaxConfig: 'local'};</script>\n        <script src=\"https://cdn.plot.ly/plotly-2.11.1.min.js\"></script>                <div id=\"ce033342-2f9b-41f8-8f27-59b3799f34e8\" class=\"plotly-graph-div\" style=\"height:525px; width:100%;\"></div>            <script type=\"text/javascript\">                                    window.PLOTLYENV=window.PLOTLYENV || {};                                    if (document.getElementById(\"ce033342-2f9b-41f8-8f27-59b3799f34e8\")) {                    Plotly.newPlot(                        \"ce033342-2f9b-41f8-8f27-59b3799f34e8\",                        [{\"hovertemplate\":\"generationtime=%{x}<br>growth_rate=%{y}<br>division_ratio=%{z}<extra></extra>\",\"legendgroup\":\"\",\"marker\":{\"color\":\"#636efa\",\"opacity\":0.7,\"symbol\":\"circle\",\"size\":3},\"mode\":\"markers\",\"name\":\"\",\"scene\":\"scene\",\"showlegend\":false,\"x\":[0.5,0.416666666666667,0.833333333333333,0.333333333333333,0.416666666666667,0.583333333333334,0.5,0.583333333333334,0.666666666666667,0.5,0.416666666666666,0.583333333333333,0.416666666666668,0.500000000000002,0.583333333333334,0.666666666666668,0.583333333333336,0.5,0.5,0.583333333333332,0.583333333333334,0.583333333333336,0.750000000000002,0.416666666666666,0.416666666666664,0.416666666666668,0.5,0.333333333333336,0.500000000000004,0.666666666666664,0.75,0.416666666666668,0.5,0.666666666666664,0.0833333333333322,0.333333333333336,0.666666666666668,0.666666666666664,0.666666666666668,0.583333333333336,0.666666666666668,0.666666666666664,0.583333333333336,0.583333333333336,0.500000000000004,0.416666666666664,0.583333333333336,0.583333333333329,0.416666666666664,0.583333333333329,0.666666666666671,0.5,0.583333333333336,0.583333333333336,0.583333333333329,0.416666666666664,0.583333333333336,0.416666666666664,0.5,0.583333333333329,1.0,0.583333333333329,0.666666666666664,0.5,0.5,0.666666666666671,0.583333333333329,0.666666666666664,0.5,0.583333333333329,0.583333333333336,0.583333333333329,0.416666666666664,0.5,0.666666666666671,0.583333333333329,0.5,0.333333333333329,0.583333333333329,0.333333333333329,0.583333333333336,0.583333333333336,0.583333333333329,0.5,0.500000000000007,0.416666666666671,0.583333333333329,0.416666666666671,0.583333333333336,0.583333333333336,0.583333333333329,0.416666666666671,0.333333333333336,0.583333333333336,0.416666666666664,0.499999999999993,0.666666666666664,0.666666666666664,0.333333333333322,0.499999999999993,0.583333333333322,0.416666666666671,0.5,0.583333333333343,0.5,0.5,0.333333333333329,0.583333333333343,0.5,0.666666666666671,0.666666666666671,0.416666666666671,0.5,0.583333333333343,0.583333333333329,0.75,0.666666666666657,0.500000000000014,0.499999999999986,0.416666666666671,0.5,0.5,0.499999999999986,0.583333333333329,0.666666666666657,0.500000000000014,0.583333333333329,0.416666666666671,0.499999999999986,0.666666666666671,0.583333333333329,0.583333333333343,0.416666666666657,0.333333333333343,0.583333333333329,0.416666666666671,0.583333333333329,0.583333333333343,0.916666666666657,0.166666666666671,0.416666666666671,0.416666666666657,0.583333333333343,0.583333333333329,0.666666666666671,0.5,0.5,0.583333333333329,0.5,0.833333333333329,0.333333333333329,0.666666666666671,0.416666666666671,0.5,0.583333333333329,0.75,0.416666666666657,0.500000000000014,0.666666666666657,0.583333333333329,0.499999999999986,0.333333333333329,0.416666666666671,0.583333333333329,0.583333333333343,0.583333333333329,0.5,0.5,0.583333333333343,0.0833333333333286,0.333333333333343,0.416666666666686,0.333333333333329,0.750000000000014,0.583333333333314,0.333333333333343,0.416666666666671,0.5,0.5,0.75,0.250000000000014,0.25,0.416666666666671,0.499999999999986,0.5,0.5,0.666666666666686,0.416666666666657,0.5,0.666666666666671,0.416666666666671,1.08333333333334,0.250000000000014,0.416666666666657,0.500000000000028,0.416666666666657,0.750000000000014,0.166666666666657,0.583333333333329,1.33333333333333,0.166666666666657,0.333333333333329,0.250000000000014,0.416666666666671,0.499999999999986,0.166666666666657,0.166666666666686,0.416666666666657,0.583333333333343,0.5,0.75,0.416666666666657,0.5,0.416666666666657,0.416666666666629,0.5,0.5,0.499999999999972,0.500000000000028,0.583333333333314,0.666666666666686,0.583333333333343,0.5,0.5,0.5,0.416666666666657,0.5,0.499999999999972,0.416666666666657,0.75,0.250000000000028,0.5,0.583333333333343,0.416666666666686,0.75,0.5,0.5,0.5,0.666666666666657,0.416666666666657,0.666666666666657,0.416666666666657,0.5,0.5,0.75,0.416666666666657,0.416666666666657,0.5,0.75,0.333333333333343,0.499999999999972],\"y\":[1.58996769779266,1.45894367754768,1.24484364438826,1.47046768972231,1.46271363961461,1.21672631608727,1.25844973367198,1.55616244704538,1.31564012578152,1.32653146164869,1.41833118794057,1.21499123385983,1.36269100939931,1.39447063505688,1.117007507524,1.11141071257723,1.40246459262158,1.49677184842928,1.38731747359571,1.41650405807123,1.40854801271802,1.28233429956722,1.32719537714499,1.48551452583427,1.44638629980432,1.56926067741922,1.61352501727956,1.50566630807291,0.75544674175313,1.09616834103149,1.27653159857402,1.35779913586979,1.27212426892942,1.16383502519424,3.751719160881,1.32686292056962,1.19147804161228,1.11019517846159,1.26840133796634,1.28286193236847,1.30501198754169,1.13629962120932,1.20288048760374,1.35097940549412,1.55312433327138,1.53373776354278,1.28345827790283,1.25416014651497,1.32903728483487,1.31302127071978,1.48149262931684,1.30582568725124,1.14602195497948,1.10994638805139,1.384458315671,1.49392830470346,1.37258878788424,1.3977806617166,1.26148846283505,1.35206102833955,1.09692417519962,1.24403836219481,1.26166232394566,1.26430900639261,1.08836086220233,1.18385001494373,1.27818236238099,1.39982629928307,1.22593863319961,1.2700234886566,1.14041106683455,1.36757105829579,1.50328357375832,1.38533376096551,1.2111243124865,1.43841324268478,1.50736159881019,1.71862980159466,1.39125414323798,1.69270849076914,1.27036299574104,1.54370275489594,1.47097794234935,1.4395492551013,1.44213106879945,1.61153922440873,1.56988690918843,1.5794978264445,1.22357820866379,1.30667207365708,1.49126619834021,1.64472913265767,1.70632652437159,1.53860135071521,1.34024094271753,1.52144648268319,1.14887163276518,1.20036476578158,1.72567539832883,1.30824543292856,1.15138512652416,1.21792005086252,1.36842239665188,1.46761548166505,1.35666304799126,1.55849473405123,1.36705998897913,1.30683930541864,1.27824471822397,1.33595079122536,1.32355446409803,1.24637111101373,1.26386645528722,1.19213004355736,0.965450959328068,1.20573130201149,1.32017371893433,1.45791198883581,1.49709746708186,1.70248818046327,1.43706864207516,1.48674030538449,1.29941250225922,1.37822679658525,1.37475423188521,1.36884026675078,1.18952482017699,1.24652380432837,1.27663603690283,1.26503846500699,1.43702416103118,1.41400669220603,1.54750197135041,1.66697137269214,1.42819834140728,1.58204709403289,1.29422173385757,1.21945298249403,1.2966966591189,1.63927599337559,1.56746656794511,1.24547115705272,1.20923183915458,1.10347116651474,1.20328911231391,1.32478257830889,1.15685368047523,1.12453609405292,1.1159711639413,1.20161170905962,1.53130270806178,1.39245998580246,1.33944657234926,1.25734195109386,1.35169199580693,1.19426746087483,1.29338628664571,1.32907915761393,1.17686024192699,1.35351773404866,1.55559420790356,1.50097468400714,1.3942679570977,1.29792421435725,1.32875801603057,1.20592673607872,1.16983160836832,1.36311018077135,1.60295305582265,4.07143555717965,1.96273365130093,1.45467511815329,1.70825431700368,1.16483094245423,1.32959341562282,1.66809583668743,1.73349360602893,1.57948291531864,1.3450755990792,1.47821742046584,1.60506549564534,1.4885469076066,1.24048790879664,1.49612639170055,1.41442425465511,1.70647409227667,1.52977033396716,1.64049206090611,1.45381491709841,1.24233170016156,1.35033227769166,1.2691807948079,1.68168796218348,1.27285241235683,1.40718226430765,1.40124049349115,1.25531950279874,1.82449483475967,1.43115440375181,1.17664372416701,1.56355746040611,1.70463775968286,1.32990478142082,1.36693248563393,1.57938300919514,2.74858830850692,2.70248440011313,1.96346986004161,1.31044856752778,1.28581849515305,1.18585833718319,1.44220979895897,1.4315228915214,1.48716555452225,2.09876112729817,1.40475027562321,1.59531859799669,1.42497086162506,1.49199127548106,1.2192692631931,1.36718755104658,1.19303843277558,1.20156963110122,1.16318383125732,1.24184171105205,1.36093292777145,1.1465281838095,1.37412832421382,1.40349505072671,1.41335839520369,1.95391283925391,1.50011266109621,1.53450724239101,0.505963594660099,1.11992624769889,1.83754251977613,1.47326622807315,1.13157413863201,1.3251773251424,1.02141116405552,1.27282056158076,1.46418287166494,1.34794760619328,1.32757253996662,1.18647956106598,1.59143283340043,1.41789294403747,1.20845345774503,1.39575376503312,1.44504330853929,1.42202240257664],\"z\":[0.456028002051387,0.469618916545778,0.505526075322566,0.446903409482841,0.482744438597171,0.51210160119141,0.483351917988853,0.491139841168619,0.465992331480415,0.488977993052723,0.50335492243449,0.526044351727723,0.502591308364701,0.459084025011339,0.530119107724709,0.47334054056287,0.482855366658186,0.441974191084596,0.467212827695769,0.514113952020246,0.455850376112461,0.50860022936137,0.439228507797942,0.527659390435334,0.476384498739974,0.506170387283319,0.512123907087556,0.499318478388998,0.506723876540554,0.488907343656099,0.513387276183995,0.470118174390581,0.521674569162284,0.483473167763778,0.427834496814097,0.960693946991404,0.477367902264965,0.465210038859102,0.453961286285557,0.479183122404599,0.471641795645758,0.484015591266423,0.484847585634072,0.458274945725016,0.485700997554413,0.501855003922552,0.49068490254818,0.482844166819735,0.432074626448321,0.484861772756954,0.498656865211802,0.490059779189076,0.525757328182465,0.519663880236889,0.481688614751534,0.460642368771912,0.464509909791053,0.516624980022872,0.452917958798043,0.513911160285985,0.400231682724131,0.403249345967592,0.49175600579316,0.524478109271294,0.488611405655756,0.514623120964561,0.46374840931682,0.433087507741273,0.486986862504124,0.517483424082118,0.513367183345375,0.46735324203877,0.511250738255512,0.470068612557422,0.486641699010392,0.47462810748484,0.496244516250822,0.520191671648149,0.455940849551168,0.453967522352102,0.459935774426496,0.426473313600944,0.494715609657311,0.427940908911195,0.524170362836771,0.52421653282822,0.426357794157551,0.463384047113578,0.519976732953094,0.526334829101889,0.485788098944219,0.455074077938204,0.460110713446955,0.482796237529727,0.441155033553389,0.499958252891759,0.529457814628094,0.477615782310247,0.531849081584962,0.521988971722122,0.516111089021078,0.590594779805941,0.452729705793309,0.473592671352342,0.481178917291245,0.485147543169193,0.484727048387442,0.520105940061214,0.515863411567386,0.44855071911401,0.418117013745512,0.548140299892856,0.504301743496529,0.47619714238456,0.548051368530973,0.470958486791677,0.520231072018187,0.47275915759586,0.463803580069947,0.481611733357232,0.494178618900276,0.417522875820243,0.470465238401095,0.464152032277289,0.511651434823076,0.471584099185687,0.552014046964566,0.555940523786342,0.445580825270018,0.480699315426475,0.463093729780274,0.423491035694639,0.538071390403616,0.498164078182811,0.447771508146558,0.426111462156472,0.551215949100775,0.548397164789088,0.544196549953829,0.508864388831158,0.503913104186435,0.479150754526781,0.530237436515199,0.487160058154586,0.515903549033189,0.470911685234219,0.493540401765346,0.497175055930065,0.542464880175607,0.410438166100033,0.542183645008808,0.470400472761782,0.51669505621626,0.478609585837723,0.432191218428418,0.475077477324668,0.494099332326523,0.574130644258401,0.497985449722834,0.533280388980524,0.47525412375977,0.522273356659054,0.496065983960273,0.439490357222528,0.543877814641304,0.508114524216546,0.554234395896107,0.467856906406584,0.471277484333633,0.442769742130525,0.955790704748722,0.440634036028267,0.522831555241377,0.554028792093529,0.474412651555841,0.516671383249737,0.469886502690515,0.501116720089667,0.453786037458072,0.535636687078413,0.539489569145166,0.489902631343216,0.540445665678585,0.446719787229708,0.463670782163028,0.426033607006262,0.357723235350301,0.513122111772403,0.445154286112664,0.453399469389353,0.475606918898389,0.525456186293102,0.543684606358965,0.539776453931707,0.505006168158393,0.541313406486291,0.503048448837853,0.527925367084191,0.490627281124101,0.417449446622987,0.581704744104079,0.474785697531685,0.555884361371051,0.470731306559354,0.48916816475134,0.397777228301025,0.990917846034598,0.380496316994561,0.54733458428149,0.46402682895663,0.448597697816748,0.527475983047368,0.454081942147981,0.537075714326576,0.4170772581334,0.453950740548031,0.473174815985019,0.467025294224763,0.429112809664143,0.471195022692037,0.486351707956408,0.520602797719542,0.558381794547072,0.488525167837765,0.522321927275374,0.527103377077688,0.521451276156129,0.613432875675116,0.497765812484219,0.530368125613601,0.466167660937107,0.465807394249753,0.413326589919328,0.442295504685158,0.527138566946803,0.501007694891863,0.551052503008305,0.508337798833839,0.524316657138139,0.526944142286266,0.506884365354374,0.502287380468444,0.496945090683618,0.475335449360069,0.464180632440849,0.51372764049108,0.520893067288242,0.507478130801968,0.550478268054699,0.500204158063523,0.422862987534087],\"type\":\"scatter3d\"}],                        {\"template\":{\"data\":{\"histogram2dcontour\":[{\"type\":\"histogram2dcontour\",\"colorbar\":{\"outlinewidth\":0,\"ticks\":\"\"},\"colorscale\":[[0.0,\"#0d0887\"],[0.1111111111111111,\"#46039f\"],[0.2222222222222222,\"#7201a8\"],[0.3333333333333333,\"#9c179e\"],[0.4444444444444444,\"#bd3786\"],[0.5555555555555556,\"#d8576b\"],[0.6666666666666666,\"#ed7953\"],[0.7777777777777778,\"#fb9f3a\"],[0.8888888888888888,\"#fdca26\"],[1.0,\"#f0f921\"]]}],\"choropleth\":[{\"type\":\"choropleth\",\"colorbar\":{\"outlinewidth\":0,\"ticks\":\"\"}}],\"histogram2d\":[{\"type\":\"histogram2d\",\"colorbar\":{\"outlinewidth\":0,\"ticks\":\"\"},\"colorscale\":[[0.0,\"#0d0887\"],[0.1111111111111111,\"#46039f\"],[0.2222222222222222,\"#7201a8\"],[0.3333333333333333,\"#9c179e\"],[0.4444444444444444,\"#bd3786\"],[0.5555555555555556,\"#d8576b\"],[0.6666666666666666,\"#ed7953\"],[0.7777777777777778,\"#fb9f3a\"],[0.8888888888888888,\"#fdca26\"],[1.0,\"#f0f921\"]]}],\"heatmap\":[{\"type\":\"heatmap\",\"colorbar\":{\"outlinewidth\":0,\"ticks\":\"\"},\"colorscale\":[[0.0,\"#0d0887\"],[0.1111111111111111,\"#46039f\"],[0.2222222222222222,\"#7201a8\"],[0.3333333333333333,\"#9c179e\"],[0.4444444444444444,\"#bd3786\"],[0.5555555555555556,\"#d8576b\"],[0.6666666666666666,\"#ed7953\"],[0.7777777777777778,\"#fb9f3a\"],[0.8888888888888888,\"#fdca26\"],[1.0,\"#f0f921\"]]}],\"heatmapgl\":[{\"type\":\"heatmapgl\",\"colorbar\":{\"outlinewidth\":0,\"ticks\":\"\"},\"colorscale\":[[0.0,\"#0d0887\"],[0.1111111111111111,\"#46039f\"],[0.2222222222222222,\"#7201a8\"],[0.3333333333333333,\"#9c179e\"],[0.4444444444444444,\"#bd3786\"],[0.5555555555555556,\"#d8576b\"],[0.6666666666666666,\"#ed7953\"],[0.7777777777777778,\"#fb9f3a\"],[0.8888888888888888,\"#fdca26\"],[1.0,\"#f0f921\"]]}],\"contourcarpet\":[{\"type\":\"contourcarpet\",\"colorbar\":{\"outlinewidth\":0,\"ticks\":\"\"}}],\"contour\":[{\"type\":\"contour\",\"colorbar\":{\"outlinewidth\":0,\"ticks\":\"\"},\"colorscale\":[[0.0,\"#0d0887\"],[0.1111111111111111,\"#46039f\"],[0.2222222222222222,\"#7201a8\"],[0.3333333333333333,\"#9c179e\"],[0.4444444444444444,\"#bd3786\"],[0.5555555555555556,\"#d8576b\"],[0.6666666666666666,\"#ed7953\"],[0.7777777777777778,\"#fb9f3a\"],[0.8888888888888888,\"#fdca26\"],[1.0,\"#f0f921\"]]}],\"surface\":[{\"type\":\"surface\",\"colorbar\":{\"outlinewidth\":0,\"ticks\":\"\"},\"colorscale\":[[0.0,\"#0d0887\"],[0.1111111111111111,\"#46039f\"],[0.2222222222222222,\"#7201a8\"],[0.3333333333333333,\"#9c179e\"],[0.4444444444444444,\"#bd3786\"],[0.5555555555555556,\"#d8576b\"],[0.6666666666666666,\"#ed7953\"],[0.7777777777777778,\"#fb9f3a\"],[0.8888888888888888,\"#fdca26\"],[1.0,\"#f0f921\"]]}],\"mesh3d\":[{\"type\":\"mesh3d\",\"colorbar\":{\"outlinewidth\":0,\"ticks\":\"\"}}],\"scatter\":[{\"fillpattern\":{\"fillmode\":\"overlay\",\"size\":10,\"solidity\":0.2},\"type\":\"scatter\"}],\"parcoords\":[{\"type\":\"parcoords\",\"line\":{\"colorbar\":{\"outlinewidth\":0,\"ticks\":\"\"}}}],\"scatterpolargl\":[{\"type\":\"scatterpolargl\",\"marker\":{\"colorbar\":{\"outlinewidth\":0,\"ticks\":\"\"}}}],\"bar\":[{\"error_x\":{\"color\":\"#2a3f5f\"},\"error_y\":{\"color\":\"#2a3f5f\"},\"marker\":{\"line\":{\"color\":\"#E5ECF6\",\"width\":0.5},\"pattern\":{\"fillmode\":\"overlay\",\"size\":10,\"solidity\":0.2}},\"type\":\"bar\"}],\"scattergeo\":[{\"type\":\"scattergeo\",\"marker\":{\"colorbar\":{\"outlinewidth\":0,\"ticks\":\"\"}}}],\"scatterpolar\":[{\"type\":\"scatterpolar\",\"marker\":{\"colorbar\":{\"outlinewidth\":0,\"ticks\":\"\"}}}],\"histogram\":[{\"marker\":{\"pattern\":{\"fillmode\":\"overlay\",\"size\":10,\"solidity\":0.2}},\"type\":\"histogram\"}],\"scattergl\":[{\"type\":\"scattergl\",\"marker\":{\"colorbar\":{\"outlinewidth\":0,\"ticks\":\"\"}}}],\"scatter3d\":[{\"type\":\"scatter3d\",\"line\":{\"colorbar\":{\"outlinewidth\":0,\"ticks\":\"\"}},\"marker\":{\"colorbar\":{\"outlinewidth\":0,\"ticks\":\"\"}}}],\"scattermapbox\":[{\"type\":\"scattermapbox\",\"marker\":{\"colorbar\":{\"outlinewidth\":0,\"ticks\":\"\"}}}],\"scatterternary\":[{\"type\":\"scatterternary\",\"marker\":{\"colorbar\":{\"outlinewidth\":0,\"ticks\":\"\"}}}],\"scattercarpet\":[{\"type\":\"scattercarpet\",\"marker\":{\"colorbar\":{\"outlinewidth\":0,\"ticks\":\"\"}}}],\"carpet\":[{\"aaxis\":{\"endlinecolor\":\"#2a3f5f\",\"gridcolor\":\"white\",\"linecolor\":\"white\",\"minorgridcolor\":\"white\",\"startlinecolor\":\"#2a3f5f\"},\"baxis\":{\"endlinecolor\":\"#2a3f5f\",\"gridcolor\":\"white\",\"linecolor\":\"white\",\"minorgridcolor\":\"white\",\"startlinecolor\":\"#2a3f5f\"},\"type\":\"carpet\"}],\"table\":[{\"cells\":{\"fill\":{\"color\":\"#EBF0F8\"},\"line\":{\"color\":\"white\"}},\"header\":{\"fill\":{\"color\":\"#C8D4E3\"},\"line\":{\"color\":\"white\"}},\"type\":\"table\"}],\"barpolar\":[{\"marker\":{\"line\":{\"color\":\"#E5ECF6\",\"width\":0.5},\"pattern\":{\"fillmode\":\"overlay\",\"size\":10,\"solidity\":0.2}},\"type\":\"barpolar\"}],\"pie\":[{\"automargin\":true,\"type\":\"pie\"}]},\"layout\":{\"autotypenumbers\":\"strict\",\"colorway\":[\"#636efa\",\"#EF553B\",\"#00cc96\",\"#ab63fa\",\"#FFA15A\",\"#19d3f3\",\"#FF6692\",\"#B6E880\",\"#FF97FF\",\"#FECB52\"],\"font\":{\"color\":\"#2a3f5f\"},\"hovermode\":\"closest\",\"hoverlabel\":{\"align\":\"left\"},\"paper_bgcolor\":\"white\",\"plot_bgcolor\":\"#E5ECF6\",\"polar\":{\"bgcolor\":\"#E5ECF6\",\"angularaxis\":{\"gridcolor\":\"white\",\"linecolor\":\"white\",\"ticks\":\"\"},\"radialaxis\":{\"gridcolor\":\"white\",\"linecolor\":\"white\",\"ticks\":\"\"}},\"ternary\":{\"bgcolor\":\"#E5ECF6\",\"aaxis\":{\"gridcolor\":\"white\",\"linecolor\":\"white\",\"ticks\":\"\"},\"baxis\":{\"gridcolor\":\"white\",\"linecolor\":\"white\",\"ticks\":\"\"},\"caxis\":{\"gridcolor\":\"white\",\"linecolor\":\"white\",\"ticks\":\"\"}},\"coloraxis\":{\"colorbar\":{\"outlinewidth\":0,\"ticks\":\"\"}},\"colorscale\":{\"sequential\":[[0.0,\"#0d0887\"],[0.1111111111111111,\"#46039f\"],[0.2222222222222222,\"#7201a8\"],[0.3333333333333333,\"#9c179e\"],[0.4444444444444444,\"#bd3786\"],[0.5555555555555556,\"#d8576b\"],[0.6666666666666666,\"#ed7953\"],[0.7777777777777778,\"#fb9f3a\"],[0.8888888888888888,\"#fdca26\"],[1.0,\"#f0f921\"]],\"sequentialminus\":[[0.0,\"#0d0887\"],[0.1111111111111111,\"#46039f\"],[0.2222222222222222,\"#7201a8\"],[0.3333333333333333,\"#9c179e\"],[0.4444444444444444,\"#bd3786\"],[0.5555555555555556,\"#d8576b\"],[0.6666666666666666,\"#ed7953\"],[0.7777777777777778,\"#fb9f3a\"],[0.8888888888888888,\"#fdca26\"],[1.0,\"#f0f921\"]],\"diverging\":[[0,\"#8e0152\"],[0.1,\"#c51b7d\"],[0.2,\"#de77ae\"],[0.3,\"#f1b6da\"],[0.4,\"#fde0ef\"],[0.5,\"#f7f7f7\"],[0.6,\"#e6f5d0\"],[0.7,\"#b8e186\"],[0.8,\"#7fbc41\"],[0.9,\"#4d9221\"],[1,\"#276419\"]]},\"xaxis\":{\"gridcolor\":\"white\",\"linecolor\":\"white\",\"ticks\":\"\",\"title\":{\"standoff\":15},\"zerolinecolor\":\"white\",\"automargin\":true,\"zerolinewidth\":2},\"yaxis\":{\"gridcolor\":\"white\",\"linecolor\":\"white\",\"ticks\":\"\",\"title\":{\"standoff\":15},\"zerolinecolor\":\"white\",\"automargin\":true,\"zerolinewidth\":2},\"scene\":{\"xaxis\":{\"backgroundcolor\":\"#E5ECF6\",\"gridcolor\":\"white\",\"linecolor\":\"white\",\"showbackground\":true,\"ticks\":\"\",\"zerolinecolor\":\"white\",\"gridwidth\":2},\"yaxis\":{\"backgroundcolor\":\"#E5ECF6\",\"gridcolor\":\"white\",\"linecolor\":\"white\",\"showbackground\":true,\"ticks\":\"\",\"zerolinecolor\":\"white\",\"gridwidth\":2},\"zaxis\":{\"backgroundcolor\":\"#E5ECF6\",\"gridcolor\":\"white\",\"linecolor\":\"white\",\"showbackground\":true,\"ticks\":\"\",\"zerolinecolor\":\"white\",\"gridwidth\":2}},\"shapedefaults\":{\"line\":{\"color\":\"#2a3f5f\"}},\"annotationdefaults\":{\"arrowcolor\":\"#2a3f5f\",\"arrowhead\":0,\"arrowwidth\":1},\"geo\":{\"bgcolor\":\"white\",\"landcolor\":\"#E5ECF6\",\"subunitcolor\":\"white\",\"showland\":true,\"showlakes\":true,\"lakecolor\":\"white\"},\"title\":{\"x\":0.05},\"mapbox\":{\"style\":\"light\"}}},\"scene\":{\"domain\":{\"x\":[0.0,1.0],\"y\":[0.0,1.0]},\"xaxis\":{\"title\":{\"text\":\"generationtime\"}},\"yaxis\":{\"title\":{\"text\":\"growth_rate\"}},\"zaxis\":{\"title\":{\"text\":\"division_ratio\"}},\"aspectmode\":\"cube\"},\"legend\":{\"tracegroupgap\":0},\"title\":{\"text\":\"Real Data\"}},                        {\"responsive\": true}                    ).then(function(){\n                            \nvar gd = document.getElementById('ce033342-2f9b-41f8-8f27-59b3799f34e8');\nvar x = new MutationObserver(function (mutations, observer) {{\n        var display = window.getComputedStyle(gd).display;\n        if (!display || display === 'none') {{\n            console.log([gd, 'removed!']);\n            Plotly.purge(gd);\n            observer.disconnect();\n        }}\n}});\n\n// Listen for the removal of the full notebook cells\nvar notebookContainer = gd.closest('#notebook-container');\nif (notebookContainer) {{\n    x.observe(notebookContainer, {childList: true});\n}}\n\n// Listen for the clearing of the current output cell\nvar outputEl = gd.closest('.output');\nif (outputEl) {{\n    x.observe(outputEl, {childList: true});\n}}\n\n                        })                };                            </script>        </div>\n</body>\n</html>"
     },
     "metadata": {},
     "output_type": "display_data"
    }
   ]
  },
  {
   "cell_type": "markdown",
   "source": "|                       |        |\n|:------------------------------------:|:----------------------------------:|\n| ![img](images/fit_beta.png) | ![img](images/fit_gamma.png) |\n",
   "metadata": {
    "cell_id": "e63e824eb91949139b0347c54f895356",
    "tags": [],
    "deepnote_cell_type": "markdown",
    "deepnote_cell_height": 323.359375
   }
  },
  {
   "cell_type": "markdown",
   "source": "<table style=\"border-collapse: collapse; border: none; border-spacing: 0px;\">\n\t<tr>\n\t\t<td style=\"border-width: 1px; border-style: solid; border-color: rgb(0, 0, 0); text-align: center; padding-right: 3pt; padding-left: 3pt;\">\n\t\t\t<b>      a     </b>\n\t\t</td>\n\t\t<td style=\"border-width: 1px; border-style: solid; border-color: rgb(0, 0, 0); text-align: center; padding-right: 3pt; padding-left: 3pt;\">\n\t\t\t<b>      b     </b>\n\t\t</td>\n\t\t<td style=\"padding-right: 3pt; padding-left: 3pt;\">\n\t\t\t<b>   </b>\n\t\t</td>\n\t\t<td style=\"padding-right: 3pt; padding-left: 3pt;\">\n\t\t\t<b>   </b>\n\t\t</td>\n\t\t<td style=\"padding-right: 3pt; padding-left: 3pt;\">\n\t\t</td>\n\t\t<td style=\"padding-right: 3pt; padding-left: 3pt;\">\n\t\t</td>\n\t\t<td style=\"border-width: 1px; border-style: solid; border-color: rgb(0, 0, 0); text-align: center; padding-right: 3pt; padding-left: 3pt;\">\n\t\t\t<b>        c       </b>\n\t\t</td>\n\t\t<td style=\"border-width: 1px; border-style: solid; border-color: rgb(0, 0, 0); text-align: center; padding-right: 3pt; padding-left: 3pt;\">\n\t\t\t<b>         d         </b>\n\t\t</td>\n\t</tr>\n\t<tr>\n\t\t<td style=\"border-width: 1px; border-style: solid; border-color: rgb(0, 0, 0); text-align: center; padding-right: 3pt; padding-left: 3pt;\">\n\t\t\t77 ± 6\n\t\t</td>\n\t\t<td style=\"border-width: 1px; border-style: solid; border-color: rgb(0, 0, 0); text-align: center; padding-right: 3pt; padding-left: 3pt;\">\n\t\t\t80 ± 6\n\t\t</td>\n\t\t<td style=\"padding-right: 3pt; padding-left: 3pt;\">\n\t\t</td>\n\t\t<td style=\"padding-right: 3pt; padding-left: 3pt;\">\n\t\t</td>\n\t\t<td style=\"padding-right: 3pt; padding-left: 3pt;\">\n\t\t</td>\n\t\t<td style=\"padding-right: 3pt; padding-left: 3pt;\">\n\t\t</td>\n\t\t<td style=\"border-width: 1px; border-style: solid; border-color: rgb(0, 0, 0); text-align: center; padding-right: 3pt; padding-left: 3pt;\">\n\t\t\t63.8 ± 2.6\n\t\t</td>\n\t\t<td style=\"border-width: 1px; border-style: solid; border-color: rgb(0, 0, 0); text-align: center; padding-right: 3pt; padding-left: 3pt;\">\n\t\t\t0.021 ± 0.001\n\t\t</td>\n\t</tr>\n</table>",
   "metadata": {
    "cell_id": "35b4c675c69e4e42ba1985837cc39c83",
    "tags": [],
    "deepnote_cell_type": "markdown",
    "deepnote_cell_height": 81.78125
   }
  },
  {
   "cell_type": "markdown",
   "source": "<table style=\"border-collapse: collapse; border: none; border-spacing: 0px;\">\n\t<tr>\n\t\t<td style=\"border-width: 1px; border-style: solid; border-color: rgb(0, 0, 0); text-align: center; padding-right: 3pt; padding-left: 3pt;\">\n\t\t\t<b>      Mean of division factor     </b>\n\t\t</td>\n\t\t<td style=\"border-width: 1px; border-style: solid; border-color: rgb(0, 0, 0); text-align: center; padding-right: 3pt; padding-left: 3pt;\">\n\t\t\t<b>      Variance of division factor     </b>\n\t\t</td>\n\t\t<td style=\"padding-right: 3pt; padding-left: 3pt;\">\n\t\t\t<b>   </b>\n\t\t</td>\n\t\t<td style=\"padding-right: 3pt; padding-left: 3pt;\">\n\t\t\t<b>   </b>\n\t\t</td>\n\t\t<td style=\"padding-right: 3pt; padding-left: 3pt;\">\n\t\t</td>\n\t\t<td style=\"padding-right: 3pt; padding-left: 3pt;\">\n\t\t</td>\n\t\t<td style=\"border-width: 1px; border-style: solid; border-color: rgb(0, 0, 0); text-align: center; padding-right: 3pt; padding-left: 3pt;\">\n\t\t\t<b>        Mean of growing factor       </b>\n\t\t</td>\n\t\t<td style=\"border-width: 1px; border-style: solid; border-color: rgb(0, 0, 0); text-align: center; padding-right: 3pt; padding-left: 3pt;\">\n\t\t\t<b>         Variance of growing factor         </b>\n\t\t</td>\n\t</tr>\n\t<tr>\n\t\t<td style=\"border-width: 1px; border-style: solid; border-color: rgb(0, 0, 0); text-align: center; padding-right: 3pt; padding-left: 3pt;\">\n\t\t\t0.49 ± 0.03\n\t\t</td>\n\t\t<td style=\"border-width: 1px; border-style: solid; border-color: rgb(0, 0, 0); text-align: center; padding-right: 3pt; padding-left: 3pt;\">\n\t\t\t(1.59 ± 0.09) * 10^{-3}\n\t\t</td>\n\t\t<td style=\"padding-right: 3pt; padding-left: 3pt;\">\n\t\t</td>\n\t\t<td style=\"padding-right: 3pt; padding-left: 3pt;\">\n\t\t</td>\n\t\t<td style=\"padding-right: 3pt; padding-left: 3pt;\">\n\t\t</td>\n\t\t<td style=\"padding-right: 3pt; padding-left: 3pt;\">\n\t\t</td>\n\t\t<td style=\"border-width: 1px; border-style: solid; border-color: rgb(0, 0, 0); text-align: center; padding-right: 3pt; padding-left: 3pt;\">\n\t\t\t1.36 ± 0.08\n\t\t</td>\n\t\t<td style=\"border-width: 1px; border-style: solid; border-color: rgb(0, 0, 0); text-align: center; padding-right: 3pt; padding-left: 3pt;\">\n\t\t\t0.029 ± 0.003\n\t\t</td>\n\t</tr>\n</table>",
   "metadata": {
    "cell_id": "748664a0b653493587776dbd33c95a67",
    "tags": [],
    "deepnote_cell_type": "markdown",
    "deepnote_cell_height": 81.78125
   }
  },
  {
   "cell_type": "markdown",
   "source": "## Data analysis with single models\nFor each model we create a Jupyter notebook, in which we run MCMC, analyze the chains, show the marginalized posterior distributions, simulate the time series using the inferred values of the parameters, compute the overlap and the predictive density. \n\nThese notebooks are collected in the folder [analysis_real_data](./analysis_real_data):\n- [Real data, Model 0](./analysis_real_data/REAL_Model_0.ipynb)\n- [Real data, Model 1](./analysis_real_data/REAL_Model_1.ipynb)\n- [Real data, Model 2](./analysis_real_data/REAL_Model_2.ipynb)\n\nFinally, in the following section we retrieve the results achieved with all models, in order to perform model comparison and validation. ",
   "metadata": {
    "cell_id": "e592348a643847b99713e8323bbe7c8a",
    "tags": [],
    "deepnote_cell_type": "markdown",
    "deepnote_cell_height": 335.578125
   }
  },
  {
   "cell_type": "markdown",
   "source": "# Final results\n",
   "metadata": {
    "cell_id": "b9a94b17a49e4a2da38b152e1e9fd140",
    "tags": [],
    "deepnote_cell_type": "markdown",
    "deepnote_cell_height": 82
   }
  },
  {
   "cell_type": "markdown",
   "source": "## Inference results\n### Model 0",
   "metadata": {
    "cell_id": "9f6a72ac51dc404aa80e370a3e57939c",
    "tags": [],
    "deepnote_cell_type": "markdown",
    "deepnote_cell_height": 118
   }
  },
  {
   "cell_type": "code",
   "metadata": {
    "cell_id": "b081d558ef2846d0b3a0c50e9e3eb02a",
    "tags": [],
    "deepnote_to_be_reexecuted": false,
    "source_hash": "a50e4184",
    "execution_start": 1655386093443,
    "execution_millis": 143,
    "deepnote_cell_type": "code",
    "deepnote_cell_height": 436.265625
   },
   "source": "df_mod0 = pd.read_csv('./data/model0.csv')\n\ndf_mod0 = df_mod0.round(4).rename({0: 'PosteriorMax',\n                          1: 'LowerBoundCI',\n                          2: 'UpperBoundCI'})\n\ndisplay(df_mod0)",
   "execution_count": 4,
   "outputs": [
    {
     "data": {
      "application/vnd.deepnote.dataframe.v3+json": {
       "column_count": 7,
       "row_count": 3,
       "columns": [
        {
         "name": "omega_2",
         "dtype": "float64",
         "stats": {
          "unique_count": 3,
          "nan_count": 0,
          "min": "0.2894",
          "max": "0.6679",
          "histogram": [
           {
            "bin_start": 0.2894,
            "bin_end": 0.32725,
            "count": 1
           },
           {
            "bin_start": 0.32725,
            "bin_end": 0.3651,
            "count": 0
           },
           {
            "bin_start": 0.3651,
            "bin_end": 0.40295000000000003,
            "count": 0
           },
           {
            "bin_start": 0.40295000000000003,
            "bin_end": 0.4408,
            "count": 1
           },
           {
            "bin_start": 0.4408,
            "bin_end": 0.47865,
            "count": 0
           },
           {
            "bin_start": 0.47865,
            "bin_end": 0.5165000000000001,
            "count": 0
           },
           {
            "bin_start": 0.5165000000000001,
            "bin_end": 0.5543500000000001,
            "count": 0
           },
           {
            "bin_start": 0.5543500000000001,
            "bin_end": 0.5922000000000001,
            "count": 0
           },
           {
            "bin_start": 0.5922000000000001,
            "bin_end": 0.63005,
            "count": 0
           },
           {
            "bin_start": 0.63005,
            "bin_end": 0.6679,
            "count": 1
           }
          ]
         }
        },
        {
         "name": "mu",
         "dtype": "float64",
         "stats": {
          "unique_count": 3,
          "nan_count": 0,
          "min": "0.1328",
          "max": "0.7912",
          "histogram": [
           {
            "bin_start": 0.1328,
            "bin_end": 0.19863999999999998,
            "count": 1
           },
           {
            "bin_start": 0.19863999999999998,
            "bin_end": 0.26448,
            "count": 0
           },
           {
            "bin_start": 0.26448,
            "bin_end": 0.33031999999999995,
            "count": 0
           },
           {
            "bin_start": 0.33031999999999995,
            "bin_end": 0.39615999999999996,
            "count": 0
           },
           {
            "bin_start": 0.39615999999999996,
            "bin_end": 0.46199999999999997,
            "count": 0
           },
           {
            "bin_start": 0.46199999999999997,
            "bin_end": 0.52784,
            "count": 1
           },
           {
            "bin_start": 0.52784,
            "bin_end": 0.59368,
            "count": 0
           },
           {
            "bin_start": 0.59368,
            "bin_end": 0.65952,
            "count": 0
           },
           {
            "bin_start": 0.65952,
            "bin_end": 0.72536,
            "count": 0
           },
           {
            "bin_start": 0.72536,
            "bin_end": 0.7912,
            "count": 1
           }
          ]
         }
        },
        {
         "name": "nu",
         "dtype": "float64",
         "stats": {
          "unique_count": 3,
          "nan_count": 0,
          "min": "0.6895",
          "max": "1.9139",
          "histogram": [
           {
            "bin_start": 0.6895,
            "bin_end": 0.81194,
            "count": 1
           },
           {
            "bin_start": 0.81194,
            "bin_end": 0.93438,
            "count": 0
           },
           {
            "bin_start": 0.93438,
            "bin_end": 1.05682,
            "count": 1
           },
           {
            "bin_start": 1.05682,
            "bin_end": 1.17926,
            "count": 0
           },
           {
            "bin_start": 1.17926,
            "bin_end": 1.3016999999999999,
            "count": 0
           },
           {
            "bin_start": 1.3016999999999999,
            "bin_end": 1.42414,
            "count": 0
           },
           {
            "bin_start": 1.42414,
            "bin_end": 1.54658,
            "count": 0
           },
           {
            "bin_start": 1.54658,
            "bin_end": 1.66902,
            "count": 0
           },
           {
            "bin_start": 1.66902,
            "bin_end": 1.79146,
            "count": 0
           },
           {
            "bin_start": 1.79146,
            "bin_end": 1.9139,
            "count": 1
           }
          ]
         }
        },
        {
         "name": "a",
         "dtype": "float64",
         "stats": {
          "unique_count": 3,
          "nan_count": 0,
          "min": "12.4223",
          "max": "17.5977",
          "histogram": [
           {
            "bin_start": 12.4223,
            "bin_end": 12.93984,
            "count": 1
           },
           {
            "bin_start": 12.93984,
            "bin_end": 13.45738,
            "count": 0
           },
           {
            "bin_start": 13.45738,
            "bin_end": 13.974920000000001,
            "count": 0
           },
           {
            "bin_start": 13.974920000000001,
            "bin_end": 14.49246,
            "count": 0
           },
           {
            "bin_start": 14.49246,
            "bin_end": 15.01,
            "count": 0
           },
           {
            "bin_start": 15.01,
            "bin_end": 15.52754,
            "count": 1
           },
           {
            "bin_start": 15.52754,
            "bin_end": 16.04508,
            "count": 0
           },
           {
            "bin_start": 16.04508,
            "bin_end": 16.56262,
            "count": 0
           },
           {
            "bin_start": 16.56262,
            "bin_end": 17.08016,
            "count": 0
           },
           {
            "bin_start": 17.08016,
            "bin_end": 17.5977,
            "count": 1
           }
          ]
         }
        },
        {
         "name": "b",
         "dtype": "float64",
         "stats": {
          "unique_count": 3,
          "nan_count": 0,
          "min": "12.3637",
          "max": "17.5328",
          "histogram": [
           {
            "bin_start": 12.3637,
            "bin_end": 12.88061,
            "count": 1
           },
           {
            "bin_start": 12.88061,
            "bin_end": 13.39752,
            "count": 0
           },
           {
            "bin_start": 13.39752,
            "bin_end": 13.91443,
            "count": 0
           },
           {
            "bin_start": 13.91443,
            "bin_end": 14.43134,
            "count": 0
           },
           {
            "bin_start": 14.43134,
            "bin_end": 14.948250000000002,
            "count": 1
           },
           {
            "bin_start": 14.948250000000002,
            "bin_end": 15.465160000000001,
            "count": 0
           },
           {
            "bin_start": 15.465160000000001,
            "bin_end": 15.98207,
            "count": 0
           },
           {
            "bin_start": 15.98207,
            "bin_end": 16.498980000000003,
            "count": 0
           },
           {
            "bin_start": 16.498980000000003,
            "bin_end": 17.015890000000002,
            "count": 0
           },
           {
            "bin_start": 17.015890000000002,
            "bin_end": 17.5328,
            "count": 1
           }
          ]
         }
        },
        {
         "name": "c",
         "dtype": "float64",
         "stats": {
          "unique_count": 3,
          "nan_count": 0,
          "min": "26.3462",
          "max": "35.1631",
          "histogram": [
           {
            "bin_start": 26.3462,
            "bin_end": 27.22789,
            "count": 1
           },
           {
            "bin_start": 27.22789,
            "bin_end": 28.10958,
            "count": 0
           },
           {
            "bin_start": 28.10958,
            "bin_end": 28.99127,
            "count": 0
           },
           {
            "bin_start": 28.99127,
            "bin_end": 29.87296,
            "count": 0
           },
           {
            "bin_start": 29.87296,
            "bin_end": 30.754649999999998,
            "count": 0
           },
           {
            "bin_start": 30.754649999999998,
            "bin_end": 31.63634,
            "count": 1
           },
           {
            "bin_start": 31.63634,
            "bin_end": 32.51803,
            "count": 0
           },
           {
            "bin_start": 32.51803,
            "bin_end": 33.39972,
            "count": 0
           },
           {
            "bin_start": 33.39972,
            "bin_end": 34.28141,
            "count": 0
           },
           {
            "bin_start": 34.28141,
            "bin_end": 35.1631,
            "count": 1
           }
          ]
         }
        },
        {
         "name": "d",
         "dtype": "float64",
         "stats": {
          "unique_count": 3,
          "nan_count": 0,
          "min": "0.0396",
          "max": "0.053",
          "histogram": [
           {
            "bin_start": 0.0396,
            "bin_end": 0.040940000000000004,
            "count": 1
           },
           {
            "bin_start": 0.040940000000000004,
            "bin_end": 0.042280000000000005,
            "count": 0
           },
           {
            "bin_start": 0.042280000000000005,
            "bin_end": 0.043620000000000006,
            "count": 0
           },
           {
            "bin_start": 0.043620000000000006,
            "bin_end": 0.04496,
            "count": 0
           },
           {
            "bin_start": 0.04496,
            "bin_end": 0.0463,
            "count": 1
           },
           {
            "bin_start": 0.0463,
            "bin_end": 0.04764,
            "count": 0
           },
           {
            "bin_start": 0.04764,
            "bin_end": 0.04898,
            "count": 0
           },
           {
            "bin_start": 0.04898,
            "bin_end": 0.050320000000000004,
            "count": 0
           },
           {
            "bin_start": 0.050320000000000004,
            "bin_end": 0.05166,
            "count": 0
           },
           {
            "bin_start": 0.05166,
            "bin_end": 0.053,
            "count": 1
           }
          ]
         }
        },
        {
         "name": "_deepnote_index_column",
         "dtype": "object"
        }
       ],
       "rows": [
        {
         "omega_2": 0.4327,
         "mu": 0.4728,
         "nu": 1.0452,
         "a": 15.4286,
         "b": 14.6821,
         "c": 30.8215,
         "d": 0.0453,
         "_deepnote_index_column": "PosteriorMax"
        },
        {
         "omega_2": 0.2894,
         "mu": 0.1328,
         "nu": 0.6895,
         "a": 12.4223,
         "b": 12.3637,
         "c": 26.3462,
         "d": 0.0396,
         "_deepnote_index_column": "LowerBoundCI"
        },
        {
         "omega_2": 0.6679,
         "mu": 0.7912,
         "nu": 1.9139,
         "a": 17.5977,
         "b": 17.5328,
         "c": 35.1631,
         "d": 0.053,
         "_deepnote_index_column": "UpperBoundCI"
        }
       ]
      },
      "text/plain": "              omega_2      mu      nu        a        b        c       d\nPosteriorMax   0.4327  0.4728  1.0452  15.4286  14.6821  30.8215  0.0453\nLowerBoundCI   0.2894  0.1328  0.6895  12.4223  12.3637  26.3462  0.0396\nUpperBoundCI   0.6679  0.7912  1.9139  17.5977  17.5328  35.1631  0.0530",
      "text/html": "<div>\n<style scoped>\n    .dataframe tbody tr th:only-of-type {\n        vertical-align: middle;\n    }\n\n    .dataframe tbody tr th {\n        vertical-align: top;\n    }\n\n    .dataframe thead th {\n        text-align: right;\n    }\n</style>\n<table border=\"1\" class=\"dataframe\">\n  <thead>\n    <tr style=\"text-align: right;\">\n      <th></th>\n      <th>omega_2</th>\n      <th>mu</th>\n      <th>nu</th>\n      <th>a</th>\n      <th>b</th>\n      <th>c</th>\n      <th>d</th>\n    </tr>\n  </thead>\n  <tbody>\n    <tr>\n      <th>PosteriorMax</th>\n      <td>0.4327</td>\n      <td>0.4728</td>\n      <td>1.0452</td>\n      <td>15.4286</td>\n      <td>14.6821</td>\n      <td>30.8215</td>\n      <td>0.0453</td>\n    </tr>\n    <tr>\n      <th>LowerBoundCI</th>\n      <td>0.2894</td>\n      <td>0.1328</td>\n      <td>0.6895</td>\n      <td>12.4223</td>\n      <td>12.3637</td>\n      <td>26.3462</td>\n      <td>0.0396</td>\n    </tr>\n    <tr>\n      <th>UpperBoundCI</th>\n      <td>0.6679</td>\n      <td>0.7912</td>\n      <td>1.9139</td>\n      <td>17.5977</td>\n      <td>17.5328</td>\n      <td>35.1631</td>\n      <td>0.0530</td>\n    </tr>\n  </tbody>\n</table>\n</div>"
     },
     "metadata": {},
     "output_type": "display_data"
    }
   ]
  },
  {
   "cell_type": "markdown",
   "source": "Most probable parameters, expressed in terms of mean and variance of the two distributions.\n<table style=\"border-collapse: collapse; border: none; border-spacing: 0px;\">\n\t<tr>\n\t\t<td style=\"border-width: 1px; border-style: solid; border-color: rgb(0, 0, 0); text-align: center; padding-right: 3pt; padding-left: 3pt;\">\n\t\t\t<b>      Mean of division factor     </b>\n\t\t</td>\n\t\t<td style=\"border-width: 1px; border-style: solid; border-color: rgb(0, 0, 0); text-align: center; padding-right: 3pt; padding-left: 3pt;\">\n\t\t\t<b>      Variance of division factor     </b>\n\t\t</td>\n\t\t<td style=\"padding-right: 3pt; padding-left: 3pt;\">\n\t\t\t<b>   </b>\n\t\t</td>\n\t\t<td style=\"padding-right: 3pt; padding-left: 3pt;\">\n\t\t\t<b>   </b>\n\t\t</td>\n\t\t<td style=\"padding-right: 3pt; padding-left: 3pt;\">\n\t\t</td>\n\t\t<td style=\"padding-right: 3pt; padding-left: 3pt;\">\n\t\t</td>\n\t\t<td style=\"border-width: 1px; border-style: solid; border-color: rgb(0, 0, 0); text-align: center; padding-right: 3pt; padding-left: 3pt;\">\n\t\t\t<b>        Mean of growing factor       </b>\n\t\t</td>\n\t\t<td style=\"border-width: 1px; border-style: solid; border-color: rgb(0, 0, 0); text-align: center; padding-right: 3pt; padding-left: 3pt;\">\n\t\t\t<b>         Variance of growing factor         </b>\n\t\t</td>\n\t</tr>\n\t<tr>\n\t\t<td style=\"border-width: 1px; border-style: solid; border-color: rgb(0, 0, 0); text-align: center; padding-right: 3pt; padding-left: 3pt;\">\n\t\t\t0.506\n\t\t</td>\n\t\t<td style=\"border-width: 1px; border-style: solid; border-color: rgb(0, 0, 0); text-align: center; padding-right: 3pt; padding-left: 3pt;\">\n\t\t\t0.00805\n\t\t</td>\n\t\t<td style=\"padding-right: 3pt; padding-left: 3pt;\">\n\t\t</td>\n\t\t<td style=\"padding-right: 3pt; padding-left: 3pt;\">\n\t\t</td>\n\t\t<td style=\"padding-right: 3pt; padding-left: 3pt;\">\n\t\t</td>\n\t\t<td style=\"padding-right: 3pt; padding-left: 3pt;\">\n\t\t</td>\n\t\t<td style=\"border-width: 1px; border-style: solid; border-color: rgb(0, 0, 0); text-align: center; padding-right: 3pt; padding-left: 3pt;\">\n\t\t\t1.38\n\t\t</td>\n\t\t<td style=\"border-width: 1px; border-style: solid; border-color: rgb(0, 0, 0); text-align: center; padding-right: 3pt; padding-left: 3pt;\">\n\t\t\t0.0633\n\t\t</td>\n\t</tr>\n</table>",
   "metadata": {
    "cell_id": "c9983a14b2884ef0b1051a47e40de3b8",
    "tags": [],
    "deepnote_cell_type": "markdown",
    "deepnote_cell_height": 118.1875
   }
  },
  {
   "cell_type": "code",
   "metadata": {
    "cell_id": "8a9cc7f34066400f8ef28faebfee07f6",
    "tags": [],
    "deepnote_to_be_reexecuted": false,
    "source_hash": "b7d1c0ba",
    "execution_start": 1655386093584,
    "execution_millis": 59,
    "is_code_hidden": true,
    "is_output_hidden": true,
    "deepnote_cell_type": "code",
    "deepnote_cell_height": 105.578125
   },
   "source": "print(\"mean division factor = \", df_mod0.loc[\"PosteriorMax\",['a','b','c','d']].values[0]/(df_mod0.loc[\"PosteriorMax\",['a','b','c','d']].values[0]+df_mod0.loc[\"PosteriorMax\",['a','b','c','d']].values[1]))\nprint(\"variance division factor = \", (df_mod0.loc[\"PosteriorMax\",['a','b','c','d']].values[0]*df_mod0.loc[\"PosteriorMax\",['a','b','c','d']].values[1])/(((df_mod0.loc[\"PosteriorMax\",['a','b','c','d']].values[0]+df_mod0.loc[\"PosteriorMax\",['a','b','c','d']].values[1])**2)*(df_mod0.loc[\"PosteriorMax\",['a','b','c','d']].values[0]+df_mod0.loc[\"PosteriorMax\",['a','b','c','d']].values[1]+1)))\n\nprint(\"\\nmean grow factor = \", df_mod0.loc[\"PosteriorMax\",['a','b','c','d']].values[2]*df_mod0.loc[\"PosteriorMax\",['a','b','c','d']].values[3])\nprint(\"variance grow factor = \", df_mod0.loc[\"PosteriorMax\",['a','b','c','d']].values[2]*df_mod0.loc[\"PosteriorMax\",['a','b','c','d']].values[3]**2)",
   "execution_count": 5,
   "outputs": [
    {
     "name": "stdout",
     "text": "mean division factor =  0.5123959257008306\nvariance division factor =  0.008030881369625867\n\nmean grow factor =  1.39621395\nvariance grow factor =  0.063248491935\n",
     "output_type": "stream"
    }
   ]
  },
  {
   "cell_type": "markdown",
   "source": "### Model 1",
   "metadata": {
    "cell_id": "fec3c391364144b58e228077825d6932",
    "tags": [],
    "deepnote_cell_type": "markdown",
    "deepnote_cell_height": 62
   }
  },
  {
   "cell_type": "code",
   "metadata": {
    "cell_id": "30ba76f734de439a8b35bc00b407f300",
    "tags": [],
    "deepnote_to_be_reexecuted": false,
    "source_hash": "a1cca2e",
    "execution_start": 1655386093652,
    "execution_millis": 728,
    "deepnote_cell_type": "code",
    "deepnote_cell_height": 436.265625
   },
   "source": "df_mod1 = pd.read_csv('./data/model1.csv')\n\ndf_mod1 = df_mod1.round(4).rename({0: 'PosteriorMax',\n                          1: 'LowerBoundCI',\n                          2: 'UpperBoundCI'})\n\ndisplay(df_mod1)",
   "execution_count": 6,
   "outputs": [
    {
     "data": {
      "application/vnd.deepnote.dataframe.v3+json": {
       "column_count": 7,
       "row_count": 3,
       "columns": [
        {
         "name": "omega_2",
         "dtype": "float64",
         "stats": {
          "unique_count": 3,
          "nan_count": 0,
          "min": "0.3805",
          "max": "0.8242",
          "histogram": [
           {
            "bin_start": 0.3805,
            "bin_end": 0.42487,
            "count": 1
           },
           {
            "bin_start": 0.42487,
            "bin_end": 0.46924,
            "count": 0
           },
           {
            "bin_start": 0.46924,
            "bin_end": 0.51361,
            "count": 0
           },
           {
            "bin_start": 0.51361,
            "bin_end": 0.55798,
            "count": 0
           },
           {
            "bin_start": 0.55798,
            "bin_end": 0.60235,
            "count": 1
           },
           {
            "bin_start": 0.60235,
            "bin_end": 0.64672,
            "count": 0
           },
           {
            "bin_start": 0.64672,
            "bin_end": 0.69109,
            "count": 0
           },
           {
            "bin_start": 0.69109,
            "bin_end": 0.73546,
            "count": 0
           },
           {
            "bin_start": 0.73546,
            "bin_end": 0.77983,
            "count": 0
           },
           {
            "bin_start": 0.77983,
            "bin_end": 0.8242,
            "count": 1
           }
          ]
         }
        },
        {
         "name": "mu",
         "dtype": "float64",
         "stats": {
          "unique_count": 3,
          "nan_count": 0,
          "min": "0.0537",
          "max": "0.6599",
          "histogram": [
           {
            "bin_start": 0.0537,
            "bin_end": 0.11432,
            "count": 1
           },
           {
            "bin_start": 0.11432,
            "bin_end": 0.17494,
            "count": 0
           },
           {
            "bin_start": 0.17494,
            "bin_end": 0.23556000000000002,
            "count": 1
           },
           {
            "bin_start": 0.23556000000000002,
            "bin_end": 0.29618,
            "count": 0
           },
           {
            "bin_start": 0.29618,
            "bin_end": 0.3568,
            "count": 0
           },
           {
            "bin_start": 0.3568,
            "bin_end": 0.41742,
            "count": 0
           },
           {
            "bin_start": 0.41742,
            "bin_end": 0.47804,
            "count": 0
           },
           {
            "bin_start": 0.47804,
            "bin_end": 0.53866,
            "count": 0
           },
           {
            "bin_start": 0.53866,
            "bin_end": 0.59928,
            "count": 0
           },
           {
            "bin_start": 0.59928,
            "bin_end": 0.6599,
            "count": 1
           }
          ]
         }
        },
        {
         "name": "nu",
         "dtype": "float64",
         "stats": {
          "unique_count": 3,
          "nan_count": 0,
          "min": "0.6311",
          "max": "1.8777",
          "histogram": [
           {
            "bin_start": 0.6311,
            "bin_end": 0.75576,
            "count": 1
           },
           {
            "bin_start": 0.75576,
            "bin_end": 0.88042,
            "count": 0
           },
           {
            "bin_start": 0.88042,
            "bin_end": 1.00508,
            "count": 0
           },
           {
            "bin_start": 1.00508,
            "bin_end": 1.12974,
            "count": 1
           },
           {
            "bin_start": 1.12974,
            "bin_end": 1.2544,
            "count": 0
           },
           {
            "bin_start": 1.2544,
            "bin_end": 1.37906,
            "count": 0
           },
           {
            "bin_start": 1.37906,
            "bin_end": 1.50372,
            "count": 0
           },
           {
            "bin_start": 1.50372,
            "bin_end": 1.62838,
            "count": 0
           },
           {
            "bin_start": 1.62838,
            "bin_end": 1.75304,
            "count": 0
           },
           {
            "bin_start": 1.75304,
            "bin_end": 1.8777,
            "count": 1
           }
          ]
         }
        },
        {
         "name": "a",
         "dtype": "float64",
         "stats": {
          "unique_count": 3,
          "nan_count": 0,
          "min": "12.5483",
          "max": "17.6064",
          "histogram": [
           {
            "bin_start": 12.5483,
            "bin_end": 13.05411,
            "count": 1
           },
           {
            "bin_start": 13.05411,
            "bin_end": 13.55992,
            "count": 0
           },
           {
            "bin_start": 13.55992,
            "bin_end": 14.06573,
            "count": 0
           },
           {
            "bin_start": 14.06573,
            "bin_end": 14.571539999999999,
            "count": 0
           },
           {
            "bin_start": 14.571539999999999,
            "bin_end": 15.07735,
            "count": 0
           },
           {
            "bin_start": 15.07735,
            "bin_end": 15.58316,
            "count": 1
           },
           {
            "bin_start": 15.58316,
            "bin_end": 16.08897,
            "count": 0
           },
           {
            "bin_start": 16.08897,
            "bin_end": 16.59478,
            "count": 0
           },
           {
            "bin_start": 16.59478,
            "bin_end": 17.10059,
            "count": 0
           },
           {
            "bin_start": 17.10059,
            "bin_end": 17.6064,
            "count": 1
           }
          ]
         }
        },
        {
         "name": "b",
         "dtype": "float64",
         "stats": {
          "unique_count": 3,
          "nan_count": 0,
          "min": "12.5305",
          "max": "17.6249",
          "histogram": [
           {
            "bin_start": 12.5305,
            "bin_end": 13.03994,
            "count": 1
           },
           {
            "bin_start": 13.03994,
            "bin_end": 13.54938,
            "count": 0
           },
           {
            "bin_start": 13.54938,
            "bin_end": 14.05882,
            "count": 0
           },
           {
            "bin_start": 14.05882,
            "bin_end": 14.56826,
            "count": 0
           },
           {
            "bin_start": 14.56826,
            "bin_end": 15.0777,
            "count": 1
           },
           {
            "bin_start": 15.0777,
            "bin_end": 15.58714,
            "count": 0
           },
           {
            "bin_start": 15.58714,
            "bin_end": 16.09658,
            "count": 0
           },
           {
            "bin_start": 16.09658,
            "bin_end": 16.60602,
            "count": 0
           },
           {
            "bin_start": 16.60602,
            "bin_end": 17.11546,
            "count": 0
           },
           {
            "bin_start": 17.11546,
            "bin_end": 17.6249,
            "count": 1
           }
          ]
         }
        },
        {
         "name": "c",
         "dtype": "float64",
         "stats": {
          "unique_count": 3,
          "nan_count": 0,
          "min": "26.3317",
          "max": "35.3439",
          "histogram": [
           {
            "bin_start": 26.3317,
            "bin_end": 27.23292,
            "count": 1
           },
           {
            "bin_start": 27.23292,
            "bin_end": 28.134140000000002,
            "count": 0
           },
           {
            "bin_start": 28.134140000000002,
            "bin_end": 29.03536,
            "count": 0
           },
           {
            "bin_start": 29.03536,
            "bin_end": 29.93658,
            "count": 1
           },
           {
            "bin_start": 29.93658,
            "bin_end": 30.8378,
            "count": 0
           },
           {
            "bin_start": 30.8378,
            "bin_end": 31.73902,
            "count": 0
           },
           {
            "bin_start": 31.73902,
            "bin_end": 32.64024,
            "count": 0
           },
           {
            "bin_start": 32.64024,
            "bin_end": 33.54146,
            "count": 0
           },
           {
            "bin_start": 33.54146,
            "bin_end": 34.442679999999996,
            "count": 0
           },
           {
            "bin_start": 34.442679999999996,
            "bin_end": 35.3439,
            "count": 1
           }
          ]
         }
        },
        {
         "name": "d",
         "dtype": "float64",
         "stats": {
          "unique_count": 3,
          "nan_count": 0,
          "min": "0.0395",
          "max": "0.0529",
          "histogram": [
           {
            "bin_start": 0.0395,
            "bin_end": 0.04084,
            "count": 1
           },
           {
            "bin_start": 0.04084,
            "bin_end": 0.04218,
            "count": 0
           },
           {
            "bin_start": 0.04218,
            "bin_end": 0.04352,
            "count": 0
           },
           {
            "bin_start": 0.04352,
            "bin_end": 0.044860000000000004,
            "count": 1
           },
           {
            "bin_start": 0.044860000000000004,
            "bin_end": 0.046200000000000005,
            "count": 0
           },
           {
            "bin_start": 0.046200000000000005,
            "bin_end": 0.04754,
            "count": 0
           },
           {
            "bin_start": 0.04754,
            "bin_end": 0.04888,
            "count": 0
           },
           {
            "bin_start": 0.04888,
            "bin_end": 0.05022,
            "count": 0
           },
           {
            "bin_start": 0.05022,
            "bin_end": 0.05156,
            "count": 0
           },
           {
            "bin_start": 0.05156,
            "bin_end": 0.0529,
            "count": 1
           }
          ]
         }
        },
        {
         "name": "_deepnote_index_column",
         "dtype": "object"
        }
       ],
       "rows": [
        {
         "omega_2": 0.5825,
         "mu": 0.2002,
         "nu": 1.038,
         "a": 15.1529,
         "b": 14.9653,
         "c": 29.7617,
         "d": 0.0447,
         "_deepnote_index_column": "PosteriorMax"
        },
        {
         "omega_2": 0.3805,
         "mu": 0.0537,
         "nu": 0.6311,
         "a": 12.5483,
         "b": 12.5305,
         "c": 26.3317,
         "d": 0.0395,
         "_deepnote_index_column": "LowerBoundCI"
        },
        {
         "omega_2": 0.8242,
         "mu": 0.6599,
         "nu": 1.8777,
         "a": 17.6064,
         "b": 17.6249,
         "c": 35.3439,
         "d": 0.0529,
         "_deepnote_index_column": "UpperBoundCI"
        }
       ]
      },
      "text/plain": "              omega_2      mu      nu        a        b        c       d\nPosteriorMax   0.5825  0.2002  1.0380  15.1529  14.9653  29.7617  0.0447\nLowerBoundCI   0.3805  0.0537  0.6311  12.5483  12.5305  26.3317  0.0395\nUpperBoundCI   0.8242  0.6599  1.8777  17.6064  17.6249  35.3439  0.0529",
      "text/html": "<div>\n<style scoped>\n    .dataframe tbody tr th:only-of-type {\n        vertical-align: middle;\n    }\n\n    .dataframe tbody tr th {\n        vertical-align: top;\n    }\n\n    .dataframe thead th {\n        text-align: right;\n    }\n</style>\n<table border=\"1\" class=\"dataframe\">\n  <thead>\n    <tr style=\"text-align: right;\">\n      <th></th>\n      <th>omega_2</th>\n      <th>mu</th>\n      <th>nu</th>\n      <th>a</th>\n      <th>b</th>\n      <th>c</th>\n      <th>d</th>\n    </tr>\n  </thead>\n  <tbody>\n    <tr>\n      <th>PosteriorMax</th>\n      <td>0.5825</td>\n      <td>0.2002</td>\n      <td>1.0380</td>\n      <td>15.1529</td>\n      <td>14.9653</td>\n      <td>29.7617</td>\n      <td>0.0447</td>\n    </tr>\n    <tr>\n      <th>LowerBoundCI</th>\n      <td>0.3805</td>\n      <td>0.0537</td>\n      <td>0.6311</td>\n      <td>12.5483</td>\n      <td>12.5305</td>\n      <td>26.3317</td>\n      <td>0.0395</td>\n    </tr>\n    <tr>\n      <th>UpperBoundCI</th>\n      <td>0.8242</td>\n      <td>0.6599</td>\n      <td>1.8777</td>\n      <td>17.6064</td>\n      <td>17.6249</td>\n      <td>35.3439</td>\n      <td>0.0529</td>\n    </tr>\n  </tbody>\n</table>\n</div>"
     },
     "metadata": {},
     "output_type": "display_data"
    }
   ]
  },
  {
   "cell_type": "markdown",
   "source": "Most probable parameters, expressed in terms of mean and variance of the two distributions.\n<table style=\"border-collapse: collapse; border: none; border-spacing: 0px;\">\n\t<tr>\n\t\t<td style=\"border-width: 1px; border-style: solid; border-color: rgb(0, 0, 0); text-align: center; padding-right: 3pt; padding-left: 3pt;\">\n\t\t\t<b>      Mean of division factor     </b>\n\t\t</td>\n\t\t<td style=\"border-width: 1px; border-style: solid; border-color: rgb(0, 0, 0); text-align: center; padding-right: 3pt; padding-left: 3pt;\">\n\t\t\t<b>      Variance of division factor     </b>\n\t\t</td>\n\t\t<td style=\"padding-right: 3pt; padding-left: 3pt;\">\n\t\t\t<b>   </b>\n\t\t</td>\n\t\t<td style=\"padding-right: 3pt; padding-left: 3pt;\">\n\t\t\t<b>   </b>\n\t\t</td>\n\t\t<td style=\"padding-right: 3pt; padding-left: 3pt;\">\n\t\t</td>\n\t\t<td style=\"padding-right: 3pt; padding-left: 3pt;\">\n\t\t</td>\n\t\t<td style=\"border-width: 1px; border-style: solid; border-color: rgb(0, 0, 0); text-align: center; padding-right: 3pt; padding-left: 3pt;\">\n\t\t\t<b>        Mean of growing factor       </b>\n\t\t</td>\n\t\t<td style=\"border-width: 1px; border-style: solid; border-color: rgb(0, 0, 0); text-align: center; padding-right: 3pt; padding-left: 3pt;\">\n\t\t\t<b>         Variance of growing factor         </b>\n\t\t</td>\n\t</tr>\n\t<tr>\n\t\t<td style=\"border-width: 1px; border-style: solid; border-color: rgb(0, 0, 0); text-align: center; padding-right: 3pt; padding-left: 3pt;\">\n\t\t\t0.498\n\t\t</td>\n\t\t<td style=\"border-width: 1px; border-style: solid; border-color: rgb(0, 0, 0); text-align: center; padding-right: 3pt; padding-left: 3pt;\">\n\t\t\t0.00811\n\t\t</td>\n\t\t<td style=\"padding-right: 3pt; padding-left: 3pt;\">\n\t\t</td>\n\t\t<td style=\"padding-right: 3pt; padding-left: 3pt;\">\n\t\t</td>\n\t\t<td style=\"padding-right: 3pt; padding-left: 3pt;\">\n\t\t</td>\n\t\t<td style=\"padding-right: 3pt; padding-left: 3pt;\">\n\t\t</td>\n\t\t<td style=\"border-width: 1px; border-style: solid; border-color: rgb(0, 0, 0); text-align: center; padding-right: 3pt; padding-left: 3pt;\">\n\t\t\t1.38\n\t\t</td>\n\t\t<td style=\"border-width: 1px; border-style: solid; border-color: rgb(0, 0, 0); text-align: center; padding-right: 3pt; padding-left: 3pt;\">\n\t\t\t0.0624\n\t\t</td>\n\t</tr>\n</table>",
   "metadata": {
    "cell_id": "c931d3e72fc648c0981666a6d572853b",
    "tags": [],
    "deepnote_cell_type": "markdown",
    "deepnote_cell_height": 118.1875
   }
  },
  {
   "cell_type": "code",
   "metadata": {
    "cell_id": "4230b8affc8e479783c53bc25bc1684b",
    "tags": [],
    "deepnote_to_be_reexecuted": false,
    "source_hash": "3b3c8ce5",
    "execution_start": 1655386093753,
    "execution_millis": 660,
    "is_code_hidden": true,
    "is_output_hidden": true,
    "owner_user_id": "7f69bd26-d583-496b-860b-3b60f8ef9538",
    "deepnote_cell_type": "code",
    "deepnote_cell_height": 105.578125
   },
   "source": "print(\"mean division factor = \", df_mod1.loc[\"PosteriorMax\",['a','b','c','d']].values[0]/(df_mod1.loc[\"PosteriorMax\",['a','b','c','d']].values[0]+df_mod1.loc[\"PosteriorMax\",['a','b','c','d']].values[1]))\nprint(\"variance division factor = \", (df_mod1.loc[\"PosteriorMax\",['a','b','c','d']].values[0]*df_mod1.loc[\"PosteriorMax\",['a','b','c','d']].values[1])/(((df_mod1.loc[\"PosteriorMax\",['a','b','c','d']].values[0]+df_mod1.loc[\"PosteriorMax\",['a','b','c','d']].values[1])**2)*(df_mod1.loc[\"PosteriorMax\",['a','b','c','d']].values[0]+df_mod1.loc[\"PosteriorMax\",['a','b','c','d']].values[1]+1)))\n\nprint(\"\\nmean grow factor = \", df_mod1.loc[\"PosteriorMax\",['a','b','c','d']].values[2]*df_mod1.loc[\"PosteriorMax\",['a','b','c','d']].values[3])\nprint(\"variance grow factor = \", df_mod1.loc[\"PosteriorMax\",['a','b','c','d']].values[2]*df_mod1.loc[\"PosteriorMax\",['a','b','c','d']].values[3]**2)",
   "execution_count": 7,
   "outputs": [
    {
     "name": "stdout",
     "text": "mean division factor =  0.5031143959466369\nvariance division factor =  0.008033572010523985\n\nmean grow factor =  1.33034799\nvariance grow factor =  0.05946655515299999\n",
     "output_type": "stream"
    }
   ]
  },
  {
   "cell_type": "markdown",
   "source": "### Model 2",
   "metadata": {
    "cell_id": "66da695d4386460688d9497f777445e8",
    "tags": [],
    "deepnote_cell_type": "markdown",
    "deepnote_cell_height": 62
   }
  },
  {
   "cell_type": "code",
   "metadata": {
    "cell_id": "fafbeb0b917442a1be0a1451bacc22e5",
    "tags": [],
    "deepnote_to_be_reexecuted": false,
    "source_hash": "11d2e925",
    "execution_start": 1655386093866,
    "execution_millis": 551,
    "deepnote_cell_type": "code",
    "deepnote_cell_height": 436.265625
   },
   "source": "df_mod2 = pd.read_csv('./data/model2.csv')\n\ndf_mod2 = df_mod2.round(4).rename({0: 'PosteriorMax',\n                          1: 'LowerBoundCI',\n                          2: 'UpperBoundCI'})\n\ndisplay(df_mod2)",
   "execution_count": 8,
   "outputs": [
    {
     "data": {
      "application/vnd.deepnote.dataframe.v3+json": {
       "column_count": 7,
       "row_count": 3,
       "columns": [
        {
         "name": "omega_2",
         "dtype": "float64",
         "stats": {
          "unique_count": 3,
          "nan_count": 0,
          "min": "0.819",
          "max": "1.5312",
          "histogram": [
           {
            "bin_start": 0.819,
            "bin_end": 0.8902199999999999,
            "count": 1
           },
           {
            "bin_start": 0.8902199999999999,
            "bin_end": 0.96144,
            "count": 0
           },
           {
            "bin_start": 0.96144,
            "bin_end": 1.03266,
            "count": 0
           },
           {
            "bin_start": 1.03266,
            "bin_end": 1.10388,
            "count": 0
           },
           {
            "bin_start": 1.10388,
            "bin_end": 1.1751,
            "count": 0
           },
           {
            "bin_start": 1.1751,
            "bin_end": 1.2463199999999999,
            "count": 1
           },
           {
            "bin_start": 1.2463199999999999,
            "bin_end": 1.31754,
            "count": 0
           },
           {
            "bin_start": 1.31754,
            "bin_end": 1.38876,
            "count": 0
           },
           {
            "bin_start": 1.38876,
            "bin_end": 1.4599799999999998,
            "count": 0
           },
           {
            "bin_start": 1.4599799999999998,
            "bin_end": 1.5312,
            "count": 1
           }
          ]
         }
        },
        {
         "name": "mu",
         "dtype": "float64",
         "stats": {
          "unique_count": 3,
          "nan_count": 0,
          "min": "0.1856",
          "max": "0.5485",
          "histogram": [
           {
            "bin_start": 0.1856,
            "bin_end": 0.22188999999999998,
            "count": 1
           },
           {
            "bin_start": 0.22188999999999998,
            "bin_end": 0.25817999999999997,
            "count": 0
           },
           {
            "bin_start": 0.25817999999999997,
            "bin_end": 0.29447,
            "count": 0
           },
           {
            "bin_start": 0.29447,
            "bin_end": 0.33076,
            "count": 0
           },
           {
            "bin_start": 0.33076,
            "bin_end": 0.36705,
            "count": 0
           },
           {
            "bin_start": 0.36705,
            "bin_end": 0.40334000000000003,
            "count": 0
           },
           {
            "bin_start": 0.40334000000000003,
            "bin_end": 0.43963,
            "count": 0
           },
           {
            "bin_start": 0.43963,
            "bin_end": 0.47592,
            "count": 0
           },
           {
            "bin_start": 0.47592,
            "bin_end": 0.51221,
            "count": 0
           },
           {
            "bin_start": 0.51221,
            "bin_end": 0.5485,
            "count": 2
           }
          ]
         }
        },
        {
         "name": "nu",
         "dtype": "float64",
         "stats": {
          "unique_count": 3,
          "nan_count": 0,
          "min": "0.4447",
          "max": "0.9821",
          "histogram": [
           {
            "bin_start": 0.4447,
            "bin_end": 0.49844,
            "count": 1
           },
           {
            "bin_start": 0.49844,
            "bin_end": 0.55218,
            "count": 0
           },
           {
            "bin_start": 0.55218,
            "bin_end": 0.60592,
            "count": 1
           },
           {
            "bin_start": 0.60592,
            "bin_end": 0.6596599999999999,
            "count": 0
           },
           {
            "bin_start": 0.6596599999999999,
            "bin_end": 0.7134,
            "count": 0
           },
           {
            "bin_start": 0.7134,
            "bin_end": 0.7671399999999999,
            "count": 0
           },
           {
            "bin_start": 0.7671399999999999,
            "bin_end": 0.8208799999999999,
            "count": 0
           },
           {
            "bin_start": 0.8208799999999999,
            "bin_end": 0.87462,
            "count": 0
           },
           {
            "bin_start": 0.87462,
            "bin_end": 0.92836,
            "count": 0
           },
           {
            "bin_start": 0.92836,
            "bin_end": 0.9821,
            "count": 1
           }
          ]
         }
        },
        {
         "name": "a",
         "dtype": "float64",
         "stats": {
          "unique_count": 3,
          "nan_count": 0,
          "min": "12.4532",
          "max": "17.651",
          "histogram": [
           {
            "bin_start": 12.4532,
            "bin_end": 12.97298,
            "count": 1
           },
           {
            "bin_start": 12.97298,
            "bin_end": 13.49276,
            "count": 0
           },
           {
            "bin_start": 13.49276,
            "bin_end": 14.012540000000001,
            "count": 0
           },
           {
            "bin_start": 14.012540000000001,
            "bin_end": 14.53232,
            "count": 0
           },
           {
            "bin_start": 14.53232,
            "bin_end": 15.0521,
            "count": 0
           },
           {
            "bin_start": 15.0521,
            "bin_end": 15.57188,
            "count": 1
           },
           {
            "bin_start": 15.57188,
            "bin_end": 16.09166,
            "count": 0
           },
           {
            "bin_start": 16.09166,
            "bin_end": 16.61144,
            "count": 0
           },
           {
            "bin_start": 16.61144,
            "bin_end": 17.13122,
            "count": 0
           },
           {
            "bin_start": 17.13122,
            "bin_end": 17.651,
            "count": 1
           }
          ]
         }
        },
        {
         "name": "b",
         "dtype": "float64",
         "stats": {
          "unique_count": 3,
          "nan_count": 0,
          "min": "12.4721",
          "max": "17.6678",
          "histogram": [
           {
            "bin_start": 12.4721,
            "bin_end": 12.99167,
            "count": 1
           },
           {
            "bin_start": 12.99167,
            "bin_end": 13.511239999999999,
            "count": 0
           },
           {
            "bin_start": 13.511239999999999,
            "bin_end": 14.030809999999999,
            "count": 0
           },
           {
            "bin_start": 14.030809999999999,
            "bin_end": 14.55038,
            "count": 0
           },
           {
            "bin_start": 14.55038,
            "bin_end": 15.069949999999999,
            "count": 0
           },
           {
            "bin_start": 15.069949999999999,
            "bin_end": 15.58952,
            "count": 1
           },
           {
            "bin_start": 15.58952,
            "bin_end": 16.109090000000002,
            "count": 0
           },
           {
            "bin_start": 16.109090000000002,
            "bin_end": 16.62866,
            "count": 0
           },
           {
            "bin_start": 16.62866,
            "bin_end": 17.148229999999998,
            "count": 0
           },
           {
            "bin_start": 17.148229999999998,
            "bin_end": 17.6678,
            "count": 1
           }
          ]
         }
        },
        {
         "name": "c",
         "dtype": "float64",
         "stats": {
          "unique_count": 3,
          "nan_count": 0,
          "min": "26.3999",
          "max": "35.1114",
          "histogram": [
           {
            "bin_start": 26.3999,
            "bin_end": 27.27105,
            "count": 1
           },
           {
            "bin_start": 27.27105,
            "bin_end": 28.1422,
            "count": 0
           },
           {
            "bin_start": 28.1422,
            "bin_end": 29.01335,
            "count": 0
           },
           {
            "bin_start": 29.01335,
            "bin_end": 29.8845,
            "count": 0
           },
           {
            "bin_start": 29.8845,
            "bin_end": 30.755650000000003,
            "count": 0
           },
           {
            "bin_start": 30.755650000000003,
            "bin_end": 31.626800000000003,
            "count": 1
           },
           {
            "bin_start": 31.626800000000003,
            "bin_end": 32.49795,
            "count": 0
           },
           {
            "bin_start": 32.49795,
            "bin_end": 33.3691,
            "count": 0
           },
           {
            "bin_start": 33.3691,
            "bin_end": 34.24025,
            "count": 0
           },
           {
            "bin_start": 34.24025,
            "bin_end": 35.1114,
            "count": 1
           }
          ]
         }
        },
        {
         "name": "d",
         "dtype": "float64",
         "stats": {
          "unique_count": 3,
          "nan_count": 0,
          "min": "0.0397",
          "max": "0.053",
          "histogram": [
           {
            "bin_start": 0.0397,
            "bin_end": 0.04103,
            "count": 1
           },
           {
            "bin_start": 0.04103,
            "bin_end": 0.04236,
            "count": 0
           },
           {
            "bin_start": 0.04236,
            "bin_end": 0.04369,
            "count": 0
           },
           {
            "bin_start": 0.04369,
            "bin_end": 0.04502,
            "count": 1
           },
           {
            "bin_start": 0.04502,
            "bin_end": 0.04635,
            "count": 0
           },
           {
            "bin_start": 0.04635,
            "bin_end": 0.04768,
            "count": 0
           },
           {
            "bin_start": 0.04768,
            "bin_end": 0.04901,
            "count": 0
           },
           {
            "bin_start": 0.04901,
            "bin_end": 0.050339999999999996,
            "count": 0
           },
           {
            "bin_start": 0.050339999999999996,
            "bin_end": 0.05167,
            "count": 0
           },
           {
            "bin_start": 0.05167,
            "bin_end": 0.053,
            "count": 1
           }
          ]
         }
        },
        {
         "name": "_deepnote_index_column",
         "dtype": "object"
        }
       ],
       "rows": [
        {
         "omega_2": 1.2434,
         "mu": 0.5407,
         "nu": 0.6052,
         "a": 15.0915,
         "b": 15.3455,
         "c": 31.5883,
         "d": 0.0448,
         "_deepnote_index_column": "PosteriorMax"
        },
        {
         "omega_2": 0.819,
         "mu": 0.1856,
         "nu": 0.4447,
         "a": 12.4532,
         "b": 12.4721,
         "c": 26.3999,
         "d": 0.0397,
         "_deepnote_index_column": "LowerBoundCI"
        },
        {
         "omega_2": 1.5312,
         "mu": 0.5485,
         "nu": 0.9821,
         "a": 17.651,
         "b": 17.6678,
         "c": 35.1114,
         "d": 0.053,
         "_deepnote_index_column": "UpperBoundCI"
        }
       ]
      },
      "text/plain": "              omega_2      mu      nu        a        b        c       d\nPosteriorMax   1.2434  0.5407  0.6052  15.0915  15.3455  31.5883  0.0448\nLowerBoundCI   0.8190  0.1856  0.4447  12.4532  12.4721  26.3999  0.0397\nUpperBoundCI   1.5312  0.5485  0.9821  17.6510  17.6678  35.1114  0.0530",
      "text/html": "<div>\n<style scoped>\n    .dataframe tbody tr th:only-of-type {\n        vertical-align: middle;\n    }\n\n    .dataframe tbody tr th {\n        vertical-align: top;\n    }\n\n    .dataframe thead th {\n        text-align: right;\n    }\n</style>\n<table border=\"1\" class=\"dataframe\">\n  <thead>\n    <tr style=\"text-align: right;\">\n      <th></th>\n      <th>omega_2</th>\n      <th>mu</th>\n      <th>nu</th>\n      <th>a</th>\n      <th>b</th>\n      <th>c</th>\n      <th>d</th>\n    </tr>\n  </thead>\n  <tbody>\n    <tr>\n      <th>PosteriorMax</th>\n      <td>1.2434</td>\n      <td>0.5407</td>\n      <td>0.6052</td>\n      <td>15.0915</td>\n      <td>15.3455</td>\n      <td>31.5883</td>\n      <td>0.0448</td>\n    </tr>\n    <tr>\n      <th>LowerBoundCI</th>\n      <td>0.8190</td>\n      <td>0.1856</td>\n      <td>0.4447</td>\n      <td>12.4532</td>\n      <td>12.4721</td>\n      <td>26.3999</td>\n      <td>0.0397</td>\n    </tr>\n    <tr>\n      <th>UpperBoundCI</th>\n      <td>1.5312</td>\n      <td>0.5485</td>\n      <td>0.9821</td>\n      <td>17.6510</td>\n      <td>17.6678</td>\n      <td>35.1114</td>\n      <td>0.0530</td>\n    </tr>\n  </tbody>\n</table>\n</div>"
     },
     "metadata": {},
     "output_type": "display_data"
    }
   ]
  },
  {
   "cell_type": "markdown",
   "source": "Most probable parameters, expressed in terms of mean and variance of the two distributions.\n<table style=\"border-collapse: collapse; border: none; border-spacing: 0px;\">\n\t<tr>\n\t\t<td style=\"border-width: 1px; border-style: solid; border-color: rgb(0, 0, 0); text-align: center; padding-right: 3pt; padding-left: 3pt;\">\n\t\t\t<b>      Mean of division factor     </b>\n\t\t</td>\n\t\t<td style=\"border-width: 1px; border-style: solid; border-color: rgb(0, 0, 0); text-align: center; padding-right: 3pt; padding-left: 3pt;\">\n\t\t\t<b>      Variance of division factor     </b>\n\t\t</td>\n\t\t<td style=\"padding-right: 3pt; padding-left: 3pt;\">\n\t\t\t<b>   </b>\n\t\t</td>\n\t\t<td style=\"padding-right: 3pt; padding-left: 3pt;\">\n\t\t\t<b>   </b>\n\t\t</td>\n\t\t<td style=\"padding-right: 3pt; padding-left: 3pt;\">\n\t\t</td>\n\t\t<td style=\"padding-right: 3pt; padding-left: 3pt;\">\n\t\t</td>\n\t\t<td style=\"border-width: 1px; border-style: solid; border-color: rgb(0, 0, 0); text-align: center; padding-right: 3pt; padding-left: 3pt;\">\n\t\t\t<b>        Mean of growing factor       </b>\n\t\t</td>\n\t\t<td style=\"border-width: 1px; border-style: solid; border-color: rgb(0, 0, 0); text-align: center; padding-right: 3pt; padding-left: 3pt;\">\n\t\t\t<b>         Variance of growing factor         </b>\n\t\t</td>\n\t</tr>\n\t<tr>\n\t\t<td style=\"border-width: 1px; border-style: solid; border-color: rgb(0, 0, 0); text-align: center; padding-right: 3pt; padding-left: 3pt;\">\n\t\t\t0.508\n\t\t</td>\n\t\t<td style=\"border-width: 1px; border-style: solid; border-color: rgb(0, 0, 0); text-align: center; padding-right: 3pt; padding-left: 3pt;\">\n\t\t\t0.00828\n\t\t</td>\n\t\t<td style=\"padding-right: 3pt; padding-left: 3pt;\">\n\t\t</td>\n\t\t<td style=\"padding-right: 3pt; padding-left: 3pt;\">\n\t\t</td>\n\t\t<td style=\"padding-right: 3pt; padding-left: 3pt;\">\n\t\t</td>\n\t\t<td style=\"padding-right: 3pt; padding-left: 3pt;\">\n\t\t</td>\n\t\t<td style=\"border-width: 1px; border-style: solid; border-color: rgb(0, 0, 0); text-align: center; padding-right: 3pt; padding-left: 3pt;\">\n\t\t\t1.40\n\t\t</td>\n\t\t<td style=\"border-width: 1px; border-style: solid; border-color: rgb(0, 0, 0); text-align: center; padding-right: 3pt; padding-left: 3pt;\">\n\t\t\t0.0639\n\t\t</td>\n\t</tr>\n</table>",
   "metadata": {
    "cell_id": "82e41e53becb43d3bc7e407fe2baad03",
    "tags": [],
    "deepnote_cell_type": "markdown",
    "deepnote_cell_height": 118.1875
   }
  },
  {
   "cell_type": "code",
   "metadata": {
    "cell_id": "5cf75d6e9cf040818868d56ca5d2421e",
    "tags": [],
    "deepnote_to_be_reexecuted": false,
    "source_hash": "49ebb137",
    "execution_start": 1655386093975,
    "execution_millis": 444,
    "is_output_hidden": true,
    "is_code_hidden": true,
    "deepnote_cell_type": "code",
    "deepnote_cell_height": 105.578125
   },
   "source": "print(\"mean division factor = \", df_mod2.loc[\"PosteriorMax\",['a','b','c','d']].values[0]/(df_mod2.loc[\"PosteriorMax\",['a','b','c','d']].values[0]+df_mod2.loc[\"PosteriorMax\",['a','b','c','d']].values[1]))\nprint(\"variance division factor = \", (df_mod2.loc[\"PosteriorMax\",['a','b','c','d']].values[0]*df_mod2.loc[\"PosteriorMax\",['a','b','c','d']].values[1])/(((df_mod2.loc[\"PosteriorMax\",['a','b','c','d']].values[0]+df_mod2.loc[\"PosteriorMax\",['a','b','c','d']].values[1])**2)*(df_mod2.loc[\"PosteriorMax\",['a','b','c','d']].values[0]+df_mod2.loc[\"PosteriorMax\",['a','b','c','d']].values[1]+1)))\n\nprint(\"\\nmean grow factor = \", df_mod2.loc[\"PosteriorMax\",['a','b','c','d']].values[2]*df_mod2.loc[\"PosteriorMax\",['a','b','c','d']].values[3])\nprint(\"variance grow factor = \", df_mod2.loc[\"PosteriorMax\",['a','b','c','d']].values[2]*df_mod2.loc[\"PosteriorMax\",['a','b','c','d']].values[3]**2)",
   "execution_count": 9,
   "outputs": [
    {
     "name": "stdout",
     "text": "mean division factor =  0.4958274468574433\nvariance division factor =  0.007951858949653993\n\nmean grow factor =  1.41515584\nvariance grow factor =  0.063398981632\n",
     "output_type": "stream"
    }
   ]
  },
  {
   "cell_type": "markdown",
   "source": "These three tables show the maximum values of the parameters obtained from the Bayesian Inference of the three different model we analyzed.\nMoreover, the 95% Credibility Interval is reported for each parameter.\n\nThe diversities within the obtained values are the consequence of the structure of the various models, which in fact involve different mechanisms during the phases of cell growth and division. ",
   "metadata": {
    "cell_id": "16ebf4d1af68450aa27c3314ac6394ed",
    "tags": [],
    "deepnote_cell_type": "markdown",
    "deepnote_cell_height": 133.578125
   }
  },
  {
   "cell_type": "markdown",
   "source": "## Scatter plot of $\\tau, \\omega_1, frac$",
   "metadata": {
    "cell_id": "ade3c0eab4ec4634b92155f34326ce70",
    "tags": [],
    "deepnote_cell_type": "markdown",
    "deepnote_cell_height": 75.71875
   }
  },
  {
   "cell_type": "code",
   "metadata": {
    "cell_id": "12816046ef8a45529ece908e2738350e",
    "tags": [],
    "deepnote_to_be_reexecuted": false,
    "source_hash": "3fb74c07",
    "execution_start": 1655386094075,
    "execution_millis": 0,
    "deepnote_cell_type": "code",
    "deepnote_cell_height": 117
   },
   "source": "df_scatter_start = pd.read_csv('./data/scatter3d_start.csv')\ndf_scatter_mod1 = pd.read_csv('./data/scatter3d_model1.csv')\ndf_scatter_mod2 = pd.read_csv('./data/scatter3d_model2.csv')",
   "execution_count": 10,
   "outputs": []
  },
  {
   "cell_type": "code",
   "metadata": {
    "cell_id": "73a4af6f06b54cc48d9fbfeed6620ec9",
    "tags": [],
    "deepnote_to_be_reexecuted": false,
    "source_hash": "45004075",
    "execution_start": 1655386094131,
    "execution_millis": 298,
    "deepnote_cell_type": "code",
    "deepnote_cell_height": 721.625,
    "deepnote_output_heights": [
     606.625
    ]
   },
   "source": "fig = plot_funcs.comparison_3d(df1 = df_microbial_growth, df2= df_scatter_start, df3=df_scatter_mod1, df4=df_scatter_mod2)\nfig.show()",
   "execution_count": 11,
   "outputs": [
    {
     "data": {
      "text/html": "<html>\n<head><meta charset=\"utf-8\" /></head>\n<body>\n    <div>            <script src=\"https://cdnjs.cloudflare.com/ajax/libs/mathjax/2.7.5/MathJax.js?config=TeX-AMS-MML_SVG\"></script><script type=\"text/javascript\">if (window.MathJax) {MathJax.Hub.Config({SVG: {font: \"STIX-Web\"}});}</script>                <script type=\"text/javascript\">window.PlotlyConfig = {MathJaxConfig: 'local'};</script>\n        <script src=\"https://cdn.plot.ly/plotly-2.11.1.min.js\"></script>                <div id=\"ea0592ce-4fbc-47ef-ae87-07138f3b3c65\" class=\"plotly-graph-div\" style=\"height:1000px; width:1000px;\"></div>            <script type=\"text/javascript\">                                    window.PLOTLYENV=window.PLOTLYENV || {};                                    if (document.getElementById(\"ea0592ce-4fbc-47ef-ae87-07138f3b3c65\")) {                    Plotly.newPlot(                        \"ea0592ce-4fbc-47ef-ae87-07138f3b3c65\",                        [{\"marker\":{\"color\":\"blue\",\"opacity\":0.3,\"size\":3},\"mode\":\"markers\",\"x\":[0.5,0.416666666666667,0.833333333333333,0.333333333333333,0.416666666666667,0.583333333333334,0.5,0.583333333333334,0.666666666666667,0.5,0.416666666666666,0.583333333333333,0.416666666666668,0.500000000000002,0.583333333333334,0.666666666666668,0.583333333333336,0.5,0.5,0.583333333333332,0.583333333333334,0.583333333333336,0.750000000000002,0.416666666666666,0.416666666666664,0.416666666666668,0.5,0.333333333333336,0.500000000000004,0.666666666666664,0.75,0.416666666666668,0.5,0.666666666666664,0.0833333333333322,0.333333333333336,0.666666666666668,0.666666666666664,0.666666666666668,0.583333333333336,0.666666666666668,0.666666666666664,0.583333333333336,0.583333333333336,0.500000000000004,0.416666666666664,0.583333333333336,0.583333333333329,0.416666666666664,0.583333333333329,0.666666666666671,0.5,0.583333333333336,0.583333333333336,0.583333333333329,0.416666666666664,0.583333333333336,0.416666666666664,0.5,0.583333333333329,1.0,0.583333333333329,0.666666666666664,0.5,0.5,0.666666666666671,0.583333333333329,0.666666666666664,0.5,0.583333333333329,0.583333333333336,0.583333333333329,0.416666666666664,0.5,0.666666666666671,0.583333333333329,0.5,0.333333333333329,0.583333333333329,0.333333333333329,0.583333333333336,0.583333333333336,0.583333333333329,0.5,0.500000000000007,0.416666666666671,0.583333333333329,0.416666666666671,0.583333333333336,0.583333333333336,0.583333333333329,0.416666666666671,0.333333333333336,0.583333333333336,0.416666666666664,0.499999999999993,0.666666666666664,0.666666666666664,0.333333333333322,0.499999999999993,0.583333333333322,0.416666666666671,0.5,0.583333333333343,0.5,0.5,0.333333333333329,0.583333333333343,0.5,0.666666666666671,0.666666666666671,0.416666666666671,0.5,0.583333333333343,0.583333333333329,0.75,0.666666666666657,0.500000000000014,0.499999999999986,0.416666666666671,0.5,0.5,0.499999999999986,0.583333333333329,0.666666666666657,0.500000000000014,0.583333333333329,0.416666666666671,0.499999999999986,0.666666666666671,0.583333333333329,0.583333333333343,0.416666666666657,0.333333333333343,0.583333333333329,0.416666666666671,0.583333333333329,0.583333333333343,0.916666666666657,0.166666666666671,0.416666666666671,0.416666666666657,0.583333333333343,0.583333333333329,0.666666666666671,0.5,0.5,0.583333333333329,0.5,0.833333333333329,0.333333333333329,0.666666666666671,0.416666666666671,0.5,0.583333333333329,0.75,0.416666666666657,0.500000000000014,0.666666666666657,0.583333333333329,0.499999999999986,0.333333333333329,0.416666666666671,0.583333333333329,0.583333333333343,0.583333333333329,0.5,0.5,0.583333333333343,0.0833333333333286,0.333333333333343,0.416666666666686,0.333333333333329,0.750000000000014,0.583333333333314,0.333333333333343,0.416666666666671,0.5,0.5,0.75,0.250000000000014,0.25,0.416666666666671,0.499999999999986,0.5,0.5,0.666666666666686,0.416666666666657,0.5,0.666666666666671,0.416666666666671,1.08333333333334,0.250000000000014,0.416666666666657,0.500000000000028,0.416666666666657,0.750000000000014,0.166666666666657,0.583333333333329,1.33333333333333,0.166666666666657,0.333333333333329,0.250000000000014,0.416666666666671,0.499999999999986,0.166666666666657,0.166666666666686,0.416666666666657,0.583333333333343,0.5,0.75,0.416666666666657,0.5,0.416666666666657,0.416666666666629,0.5,0.5,0.499999999999972,0.500000000000028,0.583333333333314,0.666666666666686,0.583333333333343,0.5,0.5,0.5,0.416666666666657,0.5,0.499999999999972,0.416666666666657,0.75,0.250000000000028,0.5,0.583333333333343,0.416666666666686,0.75,0.5,0.5,0.5,0.666666666666657,0.416666666666657,0.666666666666657,0.416666666666657,0.5,0.5,0.75,0.416666666666657,0.416666666666657,0.5,0.75,0.333333333333343,0.499999999999972],\"y\":[1.58996769779266,1.45894367754768,1.24484364438826,1.47046768972231,1.46271363961461,1.21672631608727,1.25844973367198,1.55616244704538,1.31564012578152,1.32653146164869,1.41833118794057,1.21499123385983,1.36269100939931,1.39447063505688,1.117007507524,1.11141071257723,1.40246459262158,1.49677184842928,1.38731747359571,1.41650405807123,1.40854801271802,1.28233429956722,1.32719537714499,1.48551452583427,1.44638629980432,1.56926067741922,1.61352501727956,1.50566630807291,0.75544674175313,1.09616834103149,1.27653159857402,1.35779913586979,1.27212426892942,1.16383502519424,3.751719160881,1.32686292056962,1.19147804161228,1.11019517846159,1.26840133796634,1.28286193236847,1.30501198754169,1.13629962120932,1.20288048760374,1.35097940549412,1.55312433327138,1.53373776354278,1.28345827790283,1.25416014651497,1.32903728483487,1.31302127071978,1.48149262931684,1.30582568725124,1.14602195497948,1.10994638805139,1.384458315671,1.49392830470346,1.37258878788424,1.3977806617166,1.26148846283505,1.35206102833955,1.09692417519962,1.24403836219481,1.26166232394566,1.26430900639261,1.08836086220233,1.18385001494373,1.27818236238099,1.39982629928307,1.22593863319961,1.2700234886566,1.14041106683455,1.36757105829579,1.50328357375832,1.38533376096551,1.2111243124865,1.43841324268478,1.50736159881019,1.71862980159466,1.39125414323798,1.69270849076914,1.27036299574104,1.54370275489594,1.47097794234935,1.4395492551013,1.44213106879945,1.61153922440873,1.56988690918843,1.5794978264445,1.22357820866379,1.30667207365708,1.49126619834021,1.64472913265767,1.70632652437159,1.53860135071521,1.34024094271753,1.52144648268319,1.14887163276518,1.20036476578158,1.72567539832883,1.30824543292856,1.15138512652416,1.21792005086252,1.36842239665188,1.46761548166505,1.35666304799126,1.55849473405123,1.36705998897913,1.30683930541864,1.27824471822397,1.33595079122536,1.32355446409803,1.24637111101373,1.26386645528722,1.19213004355736,0.965450959328068,1.20573130201149,1.32017371893433,1.45791198883581,1.49709746708186,1.70248818046327,1.43706864207516,1.48674030538449,1.29941250225922,1.37822679658525,1.37475423188521,1.36884026675078,1.18952482017699,1.24652380432837,1.27663603690283,1.26503846500699,1.43702416103118,1.41400669220603,1.54750197135041,1.66697137269214,1.42819834140728,1.58204709403289,1.29422173385757,1.21945298249403,1.2966966591189,1.63927599337559,1.56746656794511,1.24547115705272,1.20923183915458,1.10347116651474,1.20328911231391,1.32478257830889,1.15685368047523,1.12453609405292,1.1159711639413,1.20161170905962,1.53130270806178,1.39245998580246,1.33944657234926,1.25734195109386,1.35169199580693,1.19426746087483,1.29338628664571,1.32907915761393,1.17686024192699,1.35351773404866,1.55559420790356,1.50097468400714,1.3942679570977,1.29792421435725,1.32875801603057,1.20592673607872,1.16983160836832,1.36311018077135,1.60295305582265,4.07143555717965,1.96273365130093,1.45467511815329,1.70825431700368,1.16483094245423,1.32959341562282,1.66809583668743,1.73349360602893,1.57948291531864,1.3450755990792,1.47821742046584,1.60506549564534,1.4885469076066,1.24048790879664,1.49612639170055,1.41442425465511,1.70647409227667,1.52977033396716,1.64049206090611,1.45381491709841,1.24233170016156,1.35033227769166,1.2691807948079,1.68168796218348,1.27285241235683,1.40718226430765,1.40124049349115,1.25531950279874,1.82449483475967,1.43115440375181,1.17664372416701,1.56355746040611,1.70463775968286,1.32990478142082,1.36693248563393,1.57938300919514,2.74858830850692,2.70248440011313,1.96346986004161,1.31044856752778,1.28581849515305,1.18585833718319,1.44220979895897,1.4315228915214,1.48716555452225,2.09876112729817,1.40475027562321,1.59531859799669,1.42497086162506,1.49199127548106,1.2192692631931,1.36718755104658,1.19303843277558,1.20156963110122,1.16318383125732,1.24184171105205,1.36093292777145,1.1465281838095,1.37412832421382,1.40349505072671,1.41335839520369,1.95391283925391,1.50011266109621,1.53450724239101,0.505963594660099,1.11992624769889,1.83754251977613,1.47326622807315,1.13157413863201,1.3251773251424,1.02141116405552,1.27282056158076,1.46418287166494,1.34794760619328,1.32757253996662,1.18647956106598,1.59143283340043,1.41789294403747,1.20845345774503,1.39575376503312,1.44504330853929,1.42202240257664],\"z\":[0.456028002051387,0.469618916545778,0.505526075322566,0.446903409482841,0.482744438597171,0.51210160119141,0.483351917988853,0.491139841168619,0.465992331480415,0.488977993052723,0.50335492243449,0.526044351727723,0.502591308364701,0.459084025011339,0.530119107724709,0.47334054056287,0.482855366658186,0.441974191084596,0.467212827695769,0.514113952020246,0.455850376112461,0.50860022936137,0.439228507797942,0.527659390435334,0.476384498739974,0.506170387283319,0.512123907087556,0.499318478388998,0.506723876540554,0.488907343656099,0.513387276183995,0.470118174390581,0.521674569162284,0.483473167763778,0.427834496814097,0.960693946991404,0.477367902264965,0.465210038859102,0.453961286285557,0.479183122404599,0.471641795645758,0.484015591266423,0.484847585634072,0.458274945725016,0.485700997554413,0.501855003922552,0.49068490254818,0.482844166819735,0.432074626448321,0.484861772756954,0.498656865211802,0.490059779189076,0.525757328182465,0.519663880236889,0.481688614751534,0.460642368771912,0.464509909791053,0.516624980022872,0.452917958798043,0.513911160285985,0.400231682724131,0.403249345967592,0.49175600579316,0.524478109271294,0.488611405655756,0.514623120964561,0.46374840931682,0.433087507741273,0.486986862504124,0.517483424082118,0.513367183345375,0.46735324203877,0.511250738255512,0.470068612557422,0.486641699010392,0.47462810748484,0.496244516250822,0.520191671648149,0.455940849551168,0.453967522352102,0.459935774426496,0.426473313600944,0.494715609657311,0.427940908911195,0.524170362836771,0.52421653282822,0.426357794157551,0.463384047113578,0.519976732953094,0.526334829101889,0.485788098944219,0.455074077938204,0.460110713446955,0.482796237529727,0.441155033553389,0.499958252891759,0.529457814628094,0.477615782310247,0.531849081584962,0.521988971722122,0.516111089021078,0.590594779805941,0.452729705793309,0.473592671352342,0.481178917291245,0.485147543169193,0.484727048387442,0.520105940061214,0.515863411567386,0.44855071911401,0.418117013745512,0.548140299892856,0.504301743496529,0.47619714238456,0.548051368530973,0.470958486791677,0.520231072018187,0.47275915759586,0.463803580069947,0.481611733357232,0.494178618900276,0.417522875820243,0.470465238401095,0.464152032277289,0.511651434823076,0.471584099185687,0.552014046964566,0.555940523786342,0.445580825270018,0.480699315426475,0.463093729780274,0.423491035694639,0.538071390403616,0.498164078182811,0.447771508146558,0.426111462156472,0.551215949100775,0.548397164789088,0.544196549953829,0.508864388831158,0.503913104186435,0.479150754526781,0.530237436515199,0.487160058154586,0.515903549033189,0.470911685234219,0.493540401765346,0.497175055930065,0.542464880175607,0.410438166100033,0.542183645008808,0.470400472761782,0.51669505621626,0.478609585837723,0.432191218428418,0.475077477324668,0.494099332326523,0.574130644258401,0.497985449722834,0.533280388980524,0.47525412375977,0.522273356659054,0.496065983960273,0.439490357222528,0.543877814641304,0.508114524216546,0.554234395896107,0.467856906406584,0.471277484333633,0.442769742130525,0.955790704748722,0.440634036028267,0.522831555241377,0.554028792093529,0.474412651555841,0.516671383249737,0.469886502690515,0.501116720089667,0.453786037458072,0.535636687078413,0.539489569145166,0.489902631343216,0.540445665678585,0.446719787229708,0.463670782163028,0.426033607006262,0.357723235350301,0.513122111772403,0.445154286112664,0.453399469389353,0.475606918898389,0.525456186293102,0.543684606358965,0.539776453931707,0.505006168158393,0.541313406486291,0.503048448837853,0.527925367084191,0.490627281124101,0.417449446622987,0.581704744104079,0.474785697531685,0.555884361371051,0.470731306559354,0.48916816475134,0.397777228301025,0.990917846034598,0.380496316994561,0.54733458428149,0.46402682895663,0.448597697816748,0.527475983047368,0.454081942147981,0.537075714326576,0.4170772581334,0.453950740548031,0.473174815985019,0.467025294224763,0.429112809664143,0.471195022692037,0.486351707956408,0.520602797719542,0.558381794547072,0.488525167837765,0.522321927275374,0.527103377077688,0.521451276156129,0.613432875675116,0.497765812484219,0.530368125613601,0.466167660937107,0.465807394249753,0.413326589919328,0.442295504685158,0.527138566946803,0.501007694891863,0.551052503008305,0.508337798833839,0.524316657138139,0.526944142286266,0.506884365354374,0.502287380468444,0.496945090683618,0.475335449360069,0.464180632440849,0.51372764049108,0.520893067288242,0.507478130801968,0.550478268054699,0.500204158063523,0.422862987534087],\"type\":\"scatter3d\",\"scene\":\"scene\"},{\"marker\":{\"color\":\"blue\",\"opacity\":0.3,\"size\":3},\"mode\":\"markers\",\"x\":[0.2557870145260879,0.0646692109013131,0.411318726487179,1.1052710012150744,0.6222274855451023,0.4041832844734049,0.7819442523336624,0.0627500952786479,0.5251988023737679,0.1543331193542728,0.3924920952459576,0.9808427974083296,0.0831770183806827,0.4819258282277839,0.2429734075204422,0.0299741686531928,0.6905603699235677,0.9375922554893634,0.5330300908262338,0.2659775925794242,0.057551011909998,0.42813037641648,0.207700085197502,0.2726405638087341,0.7342626011193653,0.6575643789856757,0.0463414157664477,0.1839767875396073,0.6604772428845982,0.1284221031318957,0.9627408461714172,0.2044232820815913,0.0392215694735206,0.5148774605281161,1.0313553890694065,0.0659733314787144,0.7884218932791353,0.150098467704437,0.1928034154677625,0.4605480560501547,0.5513306427519431,0.6518324453227198,0.7355495570034505,1.0143988438440776,0.1349036262560334,0.0281613064803991,0.8164845480005959,0.0806878143348744,0.459085189195533,0.8781544224011164,0.0107214109755646,0.2009559980605626,0.1643816641301907,0.3936607710348173,0.5877437744842605,1.708186241880907,0.3310861353535118,0.2357721465130942,0.3470240476701591,0.0448966445441002,0.7846070239675351,0.4023408560643131,0.3376943707349362,0.6135414096393277,0.238461239646132,0.911562956881714,0.1894559547650224,0.190847149479246,0.0592589151050444,0.0780852365811518,0.2245081578041139,0.1676227873813978,0.0678606344840699,1.5779308582287916,0.5936385891791174,0.5794547621728184,0.022761630055864,0.8003736317384368,0.1270888288761424,0.1789513784835188,0.198896972817731,0.719057045946757,0.2765458938255455,0.5874990295687511,0.2411776123603946,0.380281056665431,1.2787757412008478,0.0889627390635563,0.0769537377315422,0.1869226918924701,0.3558031018924236,0.8838607105811342,0.098224440804247,0.9985139806695028,0.3752368611970272,0.186542052035524,0.5609556355136404,0.7158643544543004,0.5111363122060076,0.1028309335000299,0.4671402077098389,0.7570392892760685,0.1373409032290633,0.767710827005507,0.8123292979796422,0.1255313807519411,0.2106251068834072,0.8871980922283714,0.3870787918752283,0.1248686779950206,0.2776707727643571,1.0092922222727525,0.0267227850420747,0.1001902932820666,0.3772592408477452,0.4156383681739427,1.109701158103199,0.034993534010726,0.5492688573148493,0.3733207050712954,0.1223841544492939,0.6969024647749336,0.1995562807536331,0.5633470598548462,0.1467673160917129,0.0081590050148481,0.4209821679122809,0.55732752390811,0.868126135954573,0.182735942560102,0.3485342477963872,0.8422542798096987,0.1014426706034611,0.1905407142882667,0.0709787921299664,0.4233595858484569,1.183932527778136,0.2029793155353285,0.6198964791026328,0.0735602472678904,0.6920648824872941,0.5086363198391699,0.341300504823587,0.5306113509973291,0.1140454579779508,0.2001704524400059,0.147968696100944,0.1499052363955525,0.9934505583774584,0.2279322233628827,0.1684829543986068,0.8739065199251124,0.6079626469397728,0.8753195497538149,0.0117595838798681,0.2561598758987514,1.072201014656661,0.4970191855903423,0.1201001184799174,0.0848167479948729,1.218381895845065,0.0526463216521112,0.2713793250289862,0.4389349912468492,0.1109576048825221,0.1914361783786536,0.7619817929995333,0.1751420295994783,0.8931546785538895,0.3562337699390571,0.6236742169071563,0.135232170055495,0.4180694305983581,0.0990482538078174,0.3885245897569516,0.3275690925972787,0.6527069247608667,0.5509487365689438,0.4867462548933985,0.7005746329690158,0.1738233967321353,0.5404522740368444,0.4898488359540047,0.2369770870093027,0.4964616994415368,0.1690077165485135,0.3486728093432786,0.1250909578665631,0.0315706666043145,1.574946695545081,0.2031581753158871,0.408192024858702,0.5264714120437085,0.4367818257694608,0.2174107480136784,0.3590467638190701,0.7060122254666549,0.3561573353941947,0.2017958346497885,0.3451412113377311,1.060245018274748,0.2290730648335388,0.1126856590570802,0.2291625636365147,0.6809072738794509,0.4378926140345222,0.7819503755071164,0.2295262639649329,0.0726181775821637,0.1641236907336819,0.1362454308323368,1.0507418442699217,0.2482632734734032,0.7803086381412867,0.2500326483918376,1.0766542284085312,0.0985688064366375,0.1935321353699143,0.931305672098024,0.0626854781777942,0.1079418820537575,0.8898649644036178,0.3334317289179109,0.6381002895501525,0.3886588982513952,1.0869689491182912,0.1673272757235292,0.1364415705683793,0.1622423004561124,0.250533869968753,0.5193947455693256,0.0861784378653241,0.7427131857589381,0.9472773722042356,0.4670830159197181,0.1182727963157918,0.1466355802641911,0.0564873576389921,0.0942878462349495,0.5019063057747717,0.7246002328488048,0.1107931571764869,0.9373874244950796,0.0280151215601938,0.2600621731207267,0.2688332940084831,0.3687381709234356,0.4246256209741624,1.0300966293407785,0.1887171293102118,0.6567612959702737,0.2666184679684661,0.3622655134805095,0.3017758543042221,0.2296220612881725,0.0056457583668424,1.392654535172814,0.233320858508533,1.5871481273071393,0.0856017916305759,0.5577056854273628,1.038893275078291,0.2143040008816586,0.1492753872248964,0.0708666172660924,0.208360451998184,0.5436907219317653,0.2751460038599815,0.2908740968606545,0.4433280581229256,0.0441030466353173,0.6092345905723217,1.0064444574982927,0.3113256193792142,0.453350663243702,0.1652525152083884,0.0408510012825294,0.471577331941684,0.2325890753301714,0.1000676630188666,0.7448988734452505,0.3133040108036152,0.2016896421341785,0.1746213740091809,0.2627379811421402,0.9896708815940024,0.3717754516967128,0.5821163886282035,0.0144087627700434,0.1655724229875297,0.489497076049906,0.7449261247011711,0.0474472332327216,0.2445253308595602,0.3261543316212067,1.2212145589793295,0.3220798429224987,0.0974445769115017,0.7227889193055005,0.0045223195210857,0.3590929583064416,0.1979754996985679,0.2285755334265833,0.4986488087383317,0.8767748455064224,0.0019733278172882,0.7127631898703565,0.2563556518329475,0.8280904330717922,0.7563474086740246,0.2280304809493389,0.3018044501484864,0.305868751029347,0.8867680474474895,0.2076837427235059,0.007616636141414,0.5992583923493758,0.38408984191203,0.363543046559743,0.0732748426840287,0.6161680794157264,0.3139593496110591,0.3756097538576295,0.587904490465281,0.2805285064438155,0.7037690580828889,1.3021154232844627,0.4059652566640206,0.0755881203513308,0.100994956553675,0.6518325804826339,0.7369862498414055,0.2156085829334538,0.2839866616476988,0.2454387620651171,0.1136616387061877,0.2518519007519514,0.025083406710366,0.6911084609098167,0.1021133319901418,1.5742579536765162,0.4173484395682602,0.5349629624464253,0.7804702394879495,0.0592050387464813,0.3901294080430549,0.2273301645349122,0.5261033254932408,0.4144579264007014,0.0166998280985443,0.2300792105339793,0.4239976317059004,0.0482500186723223,0.671745660801959,1.2711776145431313,0.0686454038742412,0.1496689516348068,0.4373417472488931,0.0770533597559913,0.1081989436555182,0.2782982776010835,1.5481466738817102,0.4256448934904007,0.2668149085224288,0.1517996136301382,0.1662531459400189,1.0832957396864151,0.4828543637298185,0.0346162960136372,0.3269035883939834,0.1893777638627693,0.0867868069242035,0.1284103305333378,0.1272788941447745,1.2391640695689805,1.180194799668078,0.0799195201881494,0.1413373328982158,0.876132075592017,0.366518385060964,0.2156991475220199,0.0067654360134878,0.196287647184676,0.2885939705663747,0.4918374584761123,0.6768206887125927,0.7105101476086213,0.5264825408087288,0.0442110512550401,0.5936532641976817,0.1965569732672518,0.5329279954804778,0.682264485415344,0.1690070256158283,0.0978631438439574,0.0352566126090722,1.4128752578774892,0.2100698082911321,0.3208700628304924,0.1172332419849728,0.7936881910773873,0.0588758704741435,0.3900457948019288,0.3768212833763538,0.3633490913002133,0.371680287893404,0.7385853270225478,0.0051756374056008,1.1552612031309704,0.0693612936629224,0.2599491436157393,0.1359637185624533,0.424074609257274,1.0578598760596616,0.1442377878276107,0.4219133589597281,0.1457127754783872,0.0664650935803073,1.560188387909748,0.3904203802281052,0.0325644906719656,0.0136031040574995,0.0722736498448142,1.0496032058781597,0.8085172598474675,0.1841826197514388,0.3515939429095157,0.1797520345055299,0.1621197379271829,0.450229099424408,0.1752961455078947,0.0800961576142375,0.0033211181024897,2.203968579104621,0.3271539312502091,0.3772213763657998,0.4824836626501301,0.6643347995364354,0.6273405138113308,0.4372836872571934,0.5132782036661755,0.0783602451253384,0.0058666375905156,0.1627362509549653,0.219732066273462,0.6011375907064235,0.1549621675487222,0.4834981222444124,0.0328667055706302,0.4986659567736282,0.0023456857205416,1.1226289988266973,0.520165942450673,0.1592145673285695,0.9534955167045412,0.72830259812315,0.0037892385931921,0.2453174164266023,0.0719058098484649,0.1015900580487563,1.0998235806091134,0.2824097791765812,0.0557097424094816,0.3896921290963554,0.1569446198396589,1.1497326475665577,0.2101064251797001,0.1788446405079423,0.0780248037848357,0.2842581733923987,0.7362685848984766,0.4396346815859099,0.8515579013916929,0.0017911660924115,0.3420349129366686,0.5141574733098179,0.7169689039767307,0.8448132002955968,0.1177108168290653,0.381509506611866,0.1689686462381791,0.4722188538846606,0.0882888554278742,0.7980577508506569,0.1237309205158824,0.3646973520904384,0.1872303968080663,1.045234249560981,0.2560742666880758,0.0596351931157914,0.3650969817084636,0.788843718842223,0.4603374886173882,0.1321433404159653,0.4310981092068689,0.1783432818166559,0.5701890137238447,0.5372282868651265,0.042967651101273,0.9365406023110472],\"y\":[1.4242313722012556,1.8070553215389928,1.0385426967199054,1.2883357193641731,1.1723976346741398,1.0771165771080284,1.1037001551271832,1.0798597128124157,1.2951183992008244,1.647334335738933,1.4417438084729923,1.5347125366590684,1.4140438155741195,1.4349558961128812,1.4546189008105914,1.5068795740342622,1.6095775389622522,0.8852980466728616,1.2994405003932423,1.3417002853041198,1.1964086351571754,1.3866008525665874,1.4766000157007018,1.048157565563282,1.5437784318735237,1.3223368249907743,1.7687332474108293,1.185401047107302,1.680922089335665,1.1882160592228888,1.6671639176521549,1.5142119621935433,1.3120112925656102,1.6869276236965842,1.0971191969246643,2.2651942850687905,1.1084932854495733,1.3618981254293556,1.202078951627734,1.1413793877528264,1.6949228922109196,1.1912818121924076,1.661915975004686,1.2737620432659935,1.0849377624479402,1.102421204215707,1.4283268541795155,1.4215604881199997,0.8687268494006563,1.1668458981644614,2.2215468096365387,1.9563675765498827,1.8640822579174996,1.873075920024856,1.7763299403725514,0.9588522470742684,1.3553311875396612,1.5645326782815316,1.3341030125011133,1.6030279712934143,1.393789696038599,1.660849590864141,1.830522502337471,1.3222033108046465,1.0760013102754435,1.4936464731391013,1.342275274218006,1.4842253216721644,1.4605586559390376,0.8209775035367427,1.4369217879931098,1.2010736431118392,1.4369575576653828,1.156987636411579,1.2507477580415542,1.5196961447131208,1.2773950999446375,1.474840937762672,1.8699808101996165,1.5209618652224013,1.189785619629024,1.1959789948369648,1.2903546956590564,1.4239270913647788,1.2087170651682189,1.1480623491074955,1.4525090044487683,1.7106009943729223,1.6429868304112112,1.291338959914074,1.5101803492083732,1.803951308322212,1.0794316653955331,1.0452211449082165,1.6254616675975642,1.5935337928771056,1.3956666669018378,1.3178494236678446,0.912352247073696,1.0994107295055655,1.3888956980091507,1.5122071940645017,1.049936304664194,1.0431676508075691,1.7092969648613074,1.763226444431078,1.5313011729493626,1.504313192847525,1.5693472816390523,1.5685153255701871,1.2256979787473898,1.302889889120039,1.2555042419382263,1.4465652045813429,1.2327705050848774,1.8481978409130704,1.31138207283357,1.7361229896322246,1.444439988129245,1.583106718640239,1.3827046955749545,1.6680942438649913,1.781561811334237,1.6063942069171175,1.4553076314000433,1.322924905854588,1.18973519347904,1.4286382920708658,1.701367100844985,1.629111146254485,1.2735720787825964,1.0730799025104516,1.3317614459218967,1.8559144508347167,1.8187435364548488,1.71084337625782,1.5242134619564431,1.1498419423291693,1.278025474941557,1.3084120158332329,1.117717195159753,1.1469678755030144,1.2647181435465775,1.3730632247152748,1.4034408498400832,1.86103358296802,1.295705621341935,1.7204416247685248,1.3562816990824302,1.4684800304244978,1.684483269620679,1.488104701830829,1.4379827923751758,1.6389704027033962,1.4405196045360478,1.842860128779836,1.5526528430762176,1.2205858568698678,1.6653383971811442,1.221522675322691,1.4983544951591286,1.4214102561777997,1.1295968595715375,1.347935871665271,1.0861246331982797,1.0826469643921246,1.2197706116143248,1.4556675867751965,1.4494947048299005,1.0102710338780811,1.825915521908667,1.9065347889183448,1.6530214015811708,1.0176554608825348,1.8205922631646747,1.664695498518171,1.1233598458056755,1.3044342288563644,1.447954570198659,1.493385620139397,1.3706293535177387,1.5794793879915552,1.4270285539501228,1.30822233993837,1.3902187301699451,1.7690775093179487,1.5027519816302577,1.6078606966511146,1.389824726922387,1.1773438515302743,1.62572978062963,1.72316152909298,1.6864885660716915,1.2503260911707232,1.1095881131641965,1.40561741877609,1.2363425066056852,1.2661890198115051,1.6979879654920724,1.3748340998698694,1.2182081762098615,1.8130825373353805,1.141177758997258,0.919078978512457,1.6082400355910345,1.3359666025784809,1.0807144823600867,1.402794856440844,0.791017610351707,1.5208141613858734,1.2170450672675028,1.399668399095752,1.514075509854404,1.3084672979976355,1.3044552658356572,1.541302663103482,1.0741739046022338,0.9505795243002944,1.164983644358062,1.489155416068623,1.4552172334468405,1.2343121350894255,1.8858258914334451,1.3697872827280164,1.536343675363918,1.8933229602700603,1.2583788068027937,1.7747157264000957,1.6106715181380038,1.0786082686885554,1.039462721298946,1.436395122350508,1.4645507540116214,1.334748486289433,1.6488210716517666,1.11688152991613,1.2696411153818363,1.4663196477043614,1.106319687109936,1.0362371086442157,1.4520955180865651,1.668342467459364,0.9728574956982662,1.517028255361504,1.5292356123633413,1.4258985659605563,1.7220468335914567,1.294306413993464,1.315521252228294,1.2731649772262117,1.0326686270977847,1.292612561311718,1.1788227593919678,1.5617684847338908,1.3707281863617344,1.242252937305557,1.7360678194642478,0.8608515019730726,1.0904483015589863,1.3053539186918215,1.1814645467992384,1.2699065520882795,1.3191926214451517,1.2278783078718682,0.9034991677066504,1.596972566521314,1.122904770081787,1.4318079670918702,1.313012325008842,1.1585055200048284,1.055708417450248,1.6666483792939544,1.229137272182278,1.5840957467054697,1.8560980644154284,1.3367770140133943,1.700545287829914,1.5324486740016188,1.4056273493354388,0.9770942771702306,1.7685172380611325,1.8708667236980216,1.3710571236868303,1.5342244583508704,1.4540123954822046,0.8203908617192988,1.5555720194588318,2.201538204064041,1.670408372447666,1.6132141775879003,1.6982844795970231,1.0777539746265108,1.1538920727136086,1.041869979325262,1.4470360029843514,1.47878538241501,1.7455751148768626,1.408893095366378,1.4992814120859677,1.5040553293651828,1.7745167842434282,1.0930562116129103,1.639011925205957,1.4761770224004755,1.374139783752167,1.1459127931652306,1.449565669679428,1.2516178042206054,1.0584709436145354,1.007312954743261,1.362709616311524,1.879354336983152,1.9399300037475613,1.6308493058097406,1.3857103564927375,1.5991489107974883,1.3677087731945463,1.3627331022999654,1.3945216192842853,1.07983788391219,1.2821198442297983,1.4168997909311551,1.5963886347809506,1.249426025393938,1.2816773316868622,1.296503064406311,1.117646127134874,1.790314953296764,1.4244580614469111,0.6726297384257083,1.684265497131394,1.2683444923778144,2.0582244546017496,1.5330370578168402,1.5171680572730055,1.6010613082633811,0.7949068940426934,1.4200270418661456,1.0745622571612157,1.424654257518499,1.3307765068029729,1.0248781410372834,1.4815790439639824,1.4439933535352325,1.57286920199836,1.003533972624779,0.8370641435574149,1.4511963238364658,1.369902177247256,1.2289700594206268,1.3963985041770193,1.330654667517092,1.201485180102284,1.5532521261475594,1.449925946897569,1.3578713484129736,1.2453617795266845,1.7799086686221737,1.3837106305536573,1.075833487690613,1.4761623390879866,1.2684780939949605,1.9150244789651567,0.9558677779676888,1.1947610186555873,1.2706010960773546,1.3612239500566894,1.99290125746628,1.4044502545555804,1.3337183064441882,1.3670805920726696,1.7132580281390932,1.0969639018098754,1.2879270787882875,1.2147760292830108,1.4236130694132645,1.7942770397386032,1.27696671012338,1.471792372433204,1.35678806933322,1.3094057431909514,0.9709140363824654,1.3414202944144415,1.4961524986472825,1.1466172357275124,1.5651282464765082,1.4808478704663417,1.294129854978265,1.4261196080308045,1.7919859396315707,1.2536212322353169,1.3550046995038434,1.0417032829687454,1.2945932374677898,1.236172759277045,1.1130042657832404,1.5319581044072186,1.6922964818072934,0.9498339483956574,1.3427937745456595,1.3970614045502936,1.502014915950843,1.6642660910516462,1.739395875886928,1.522333461227902,0.8471524939968599,1.1307622555920815,1.2793229215214077,1.2027517380237496,1.6142674341232748,1.9286341384362709,1.4426936927611345,1.4899245213524228,1.1583299221639447,1.1560783448830487,0.8452855172574787,1.132463860255522,0.9608814098348134,2.028001254779358,1.6223487168703006,1.8335758469122485,1.212285632190085,1.5410032138366374,1.1021707048403615,1.2342844361257843,1.5687008835009622,1.3870865538294157,1.563234884308193,0.8709706003246239,1.1357556966267837,1.889754483186066,1.5414324702896602,1.8971900481642303,1.180765766409998,1.3878217203436334,1.53336594465016,1.3045996142252163,1.385962020108669,1.5227174899836895,1.3128421129494043,1.5356536174160482,1.5892853972109438,1.1346353240336444,1.380712194971867,1.3097373297125845,1.5634052111768029,1.5679028826129071,1.6062183340319345,1.554510863272868,1.2052590020657905,1.2002120187682062,1.2835252851739694,0.7166344638356068,1.8196515492478469,1.372996247953046,1.0543732949916649,1.1946445252202944,1.7029416527912324,1.5464719189510996,1.246847381883663,1.2858785235472243,1.485433389350734,1.1581385033271367,1.646420500603861,1.3139845545873543,1.460588980517649,1.383338936229775,1.66932100565228,1.4567884168134504,1.1861084195492628,1.202233897908182,1.061412285611341,1.3980533155735653,1.7231934475587425,1.890388256058756,1.3198034305027542,1.755367251724349,1.200870977399362,1.4201499538875932,1.0791901608016157,1.4473635069470894,1.142893100367392,1.3515450130927975,1.345410691972024,1.6512614520142013,1.6076820473997382,1.416896428660874,1.469947490338992,1.389917013754453,1.2315215930114052,1.8240221039701987,1.6617942925612996,1.4251361067456223,1.3500282616213697,1.6020103195302733,1.9704357474976877,1.3816209287545065,1.5152956610941006,1.4186402457334366,1.3141449418367854],\"z\":[0.501445196014049,0.4419703289735546,0.6508914295847101,0.4689915456483027,0.5065902560774044,0.571700319154031,0.5662236003666692,0.4277800759063384,0.5207526392837821,0.5499570560275376,0.3388344892600498,0.6661043776304784,0.4620249276109607,0.6639343265968992,0.4687257949275667,0.4158202668524794,0.4513566580474477,0.4068246127869007,0.703210864834091,0.5025950710997229,0.5271799212209265,0.5165861512762929,0.5085664159530499,0.61317071038491,0.5557916991283686,0.5176575127873819,0.4359636828560977,0.4106263355109284,0.4341728468836167,0.5336981691614985,0.5846091856620443,0.6139836144472124,0.4145065449842986,0.6332148977630662,0.4532679648684546,0.4679217383510322,0.5829816937923501,0.4134407196760344,0.6394377182257105,0.3148393209856257,0.4829058898462082,0.5107378388004781,0.4119588700381048,0.5624908417218528,0.4057497848206733,0.4218115869214311,0.6230697582416567,0.3492898421408824,0.4004439845824739,0.5655994862911469,0.4487931852422568,0.4962493370791821,0.5640303515171013,0.5021420917547018,0.4654353408341825,0.7502768117448803,0.5760385073208774,0.4410543849859671,0.5565002720688043,0.3504935449464783,0.5323305268994124,0.6048062775496277,0.4711168530257395,0.7345468302255213,0.5929808158880274,0.5053339623885776,0.5899989996627264,0.6471936932239378,0.5440851762630143,0.556919941300695,0.4436109530187409,0.3742172390986368,0.3723647179788521,0.5504418918848342,0.6259594111435064,0.4660603434680871,0.4615607753767947,0.6794316586674084,0.5496881562003693,0.5103883534849598,0.4405283266715429,0.5131517885063845,0.5122100194983736,0.6868179757625585,0.5100640349423897,0.3582503147395832,0.605310980600282,0.5622186330394396,0.4788443725357029,0.6587207094779852,0.5093112162141541,0.5161331479096279,0.6191311113316691,0.4372536977092838,0.5785764514658964,0.3927827146493415,0.5596923631859106,0.5236977524341365,0.4692594424495918,0.6494050876896549,0.4366644403563919,0.4295352330587553,0.4963099153343378,0.5911318080725554,0.5537416124886753,0.3977726430538512,0.5123515786082534,0.5969080641976597,0.3598596519984103,0.551994870547657,0.405880895364961,0.5582318093240906,0.5498438345136495,0.3808946753980332,0.4479074235893923,0.5600367092642943,0.5936235793149232,0.5402754818240418,0.6146367311544652,0.4657493094261048,0.5266947110428545,0.5664996822950013,0.472837773374734,0.6494603852851815,0.4856283362329632,0.3911606005297189,0.5419198273490304,0.5243409822497889,0.3921834235509641,0.4699959422541209,0.367737351967489,0.3310788841800549,0.4085690451017279,0.4473578291219152,0.5235167342474718,0.3504275631087529,0.5417518963161737,0.4323543691841092,0.5206720104718553,0.4917796941762419,0.6139080085406905,0.6371428638145165,0.5369820319415676,0.6154980263990752,0.6344823461847727,0.577043593012439,0.4468178004426466,0.6046007978439939,0.6763036804375174,0.3253065025370541,0.4049239682079935,0.3420695018940919,0.4076300124514295,0.3488651123951209,0.5088632291624992,0.41435037943525,0.542269627355003,0.5101571586195948,0.4366628535476621,0.6391648007032621,0.6019723958913804,0.4752669572664973,0.8241624736891602,0.5454232676135744,0.5811700773494771,0.4769265364968576,0.4475539569812177,0.6538513308652899,0.5423212762851664,0.5453811535883277,0.3928352932053193,0.4718321410794041,0.6103288236092562,0.4797389844135816,0.3844348529731121,0.4087675338599723,0.4432634910036053,0.5416128674637563,0.5605241262637936,0.484875596965196,0.3627888805250194,0.5669880238472963,0.3576821295093249,0.4601401315543291,0.4686172753400636,0.5969089276771462,0.5592089968070206,0.4430072619187455,0.3052125716494374,0.4266853124069981,0.5287824604774045,0.4987990440219883,0.512574919337358,0.5720795751301291,0.5351689815730426,0.5786252543272985,0.5729770035628878,0.4962921568504009,0.4124905979198062,0.6815681516886788,0.5229547015661952,0.7014353890950513,0.5398007354176305,0.4980174569397684,0.5930965697461178,0.5992649676905358,0.6035097939523425,0.5674507568161357,0.6532277613292164,0.4574910866122194,0.6492236247662645,0.5451703070769006,0.4331636741994744,0.5694359933182687,0.4572030916090339,0.5733471209566269,0.4449398450000343,0.5678247571281708,0.3780657425336723,0.5126638052321901,0.5889541348128141,0.4678743499661084,0.4436840513071324,0.5096270729773403,0.2925701482003614,0.6654322289995894,0.4946089306026379,0.4848860821908481,0.507197173101806,0.7062979749164239,0.4479743606367846,0.5937191080673498,0.4313575334319757,0.6790139618241875,0.5300486130517923,0.6046814989027642,0.5251957786565792,0.6317722716328136,0.3970772519849951,0.4593866025495958,0.5639239496236486,0.5569858196612503,0.5691260518368652,0.5404579436579277,0.5999479829346859,0.6458768853039614,0.4075059003247331,0.4966865684736655,0.4282911763172899,0.6543853456591517,0.5511964186113449,0.5445102052173033,0.3630673486614257,0.6631240368083006,0.5142503715100706,0.4021348766785616,0.461267486556046,0.4795106957485876,0.4762906105119962,0.5831819281541227,0.4633686739525721,0.4515263523764575,0.6087098515906478,0.6155022254803122,0.5336137149468612,0.4355953919752647,0.5880687521212925,0.5507491758675789,0.6328196454782126,0.5219569476479704,0.3930956836729831,0.4634536227336936,0.5091133073788539,0.4481330487690593,0.5204099479559628,0.5125196846660918,0.6277582300577434,0.589638415160074,0.5192574808271655,0.5348656708024299,0.5133912181707051,0.5730765912717809,0.5260553887014408,0.4932419783857508,0.5377818695423506,0.4652961329312446,0.5097275449729766,0.4366414476588174,0.5967793945027187,0.6233265169124738,0.5112802002396687,0.532817118105873,0.4215407872198947,0.3796082452184247,0.5838871741029995,0.5814333969008298,0.623875989814496,0.4788577176953511,0.5119542874298393,0.3594529275876335,0.5225161007877456,0.541050996677786,0.3776783331974703,0.5203275365380557,0.4648676018791957,0.5233310899307578,0.5140600080752731,0.5797908543403322,0.5601628371709416,0.6510844184163166,0.3583586514137,0.5140457797630555,0.6327303418662188,0.567818257091661,0.3999969209397175,0.46116361127569,0.5579906478908473,0.5166014011874107,0.6814208741126603,0.5154721785877442,0.5176665297770463,0.5948689751144776,0.4583707711999186,0.4440735802353003,0.5122094764136056,0.5368137547935451,0.4280772534812552,0.5922605150733036,0.5662177246531047,0.5971746337297833,0.5640815726534985,0.591036186724812,0.6927064310148757,0.5867614045530591,0.6072235734648908,0.4758772135481945,0.4776721510125916,0.5518549809774342,0.5404639995304829,0.3820767850058593,0.5545706704662389,0.3658783058761982,0.4224469678978145,0.5696071205640344,0.5650407714910363,0.4662932328144104,0.572731179957761,0.5302658016978169,0.4484985711738073,0.3860193644249178,0.4290062182190801,0.4430991429099597,0.4587852364853526,0.5078438794002264,0.5224323758624099,0.5098381568728556,0.5497969507178039,0.5032462260411086,0.4626565905672612,0.4425872124044668,0.5170526638171028,0.502980842626817,0.5958236915080375,0.6157753267363847,0.4656652858035079,0.5035710323332874,0.6361074989220342,0.5869608113598291,0.5716512150445298,0.5542892130634306,0.4239182526330917,0.4201110424052662,0.5284065213786076,0.352691818750267,0.5417496219089327,0.4271429779510873,0.5046072219614471,0.3764929900553669,0.659300866628108,0.5513867649082321,0.6001413413886801,0.5713402039081583,0.535986751190799,0.6238370778273887,0.5025698470371888,0.5168773211068091,0.5701486868553487,0.5879926219582394,0.4637583553674905,0.5469974253613534,0.5031101565215691,0.4936946769714039,0.6426880254803092,0.4677267535559054,0.43159842796302,0.6291823210974226,0.4889244641949271,0.6418512239872204,0.4899139068899719,0.487735183687728,0.6419492409144979,0.5064594067448092,0.4769507860304079,0.5388628445427825,0.5942214952547948,0.5473388715844143,0.4264662151377836,0.6215464018172003,0.3758135258528407,0.5143545945651823,0.4503740746787024,0.4865704132709238,0.5325114738530767,0.5855959055626356,0.5214858935112274,0.4326971307347801,0.5296642865192815,0.4109887453554046,0.5028646877193292,0.5942190425096754,0.4795309398824549,0.5967036385768074,0.5255452817362125,0.5812628881372383,0.7357643010889433,0.614448761528164,0.5803820510414142,0.5708654407911605,0.5584118152160141,0.4920719862911583,0.3737343079818885,0.4219115562194526,0.4703229123926459,0.396549515157634,0.4347761632817529,0.466665948381285,0.3543782936650594,0.3658453730913649,0.6475724018366021,0.5329985194959403,0.5670175839242221,0.531055834625638,0.6126062698709569,0.5467991549014092,0.5835319560523932,0.5280359215072621,0.5184964541835645,0.6250059682849191,0.5145629476092712,0.6458812692486037,0.4621893473209577,0.6154476431799928,0.4734227684225465,0.7116750748838483,0.5636494337241268,0.6145569452229791,0.6279612733994058,0.6017587647503226,0.427046724221618,0.4142396349785342,0.4793930798837073,0.5329942530619604,0.6002279710896771,0.6310619515534237,0.5372301066069753,0.6909762693675067,0.5777621539802517,0.6031777752986603,0.6227924643687329,0.551098698038058,0.4172360828957573,0.4350556938577907,0.3513662598461144,0.4438862761417387,0.402115428564914,0.6334986105196344,0.4775225938963593,0.5218894534227865,0.4602144483931578,0.5954188542930366,0.6757669773568682,0.6498241271507478,0.7270993547563122,0.4776249619221768,0.5979510720676631,0.4252254198518226,0.5199326971499848,0.3969311301748161,0.4578832487104208,0.4784745303455597,0.544265341840218,0.526455385051159,0.5551423553657142,0.4477259778055343,0.5638168368370151,0.4396323526276547,0.4900278706378529,0.4634348258158591,0.5677640149387115,0.4035120928902234],\"type\":\"scatter3d\",\"scene\":\"scene2\"},{\"marker\":{\"color\":\"blue\",\"opacity\":0.3,\"size\":3},\"mode\":\"markers\",\"x\":[0.236085751385539,0.0626199838373348,0.4220294251690717,1.3739506611921248,0.7967318119063097,0.5064792835096588,0.9796241844519504,0.0770014229821128,0.6393792542232765,0.1876414949810977,0.483835251193608,1.2790071608981146,0.1087175129066302,0.610983661104179,0.307452302337285,0.0360181829965171,0.8652085637739914,1.2195455482472046,0.6816693793513539,0.3422195774204633,0.0704213605925308,0.5269383857129976,0.2574546951950781,0.3320402146378153,0.9943393916323948,0.9044703181157042,0.0601813920870664,0.2239762229623612,0.8578050636597704,0.1641609611601291,1.326213294144165,0.273579772649367,0.0505566901592016,0.6543887031128673,1.331174460234651,0.0810382734299842,0.9641013218944744,0.1828246271273286,0.2262993000163791,0.5581857398569794,0.6912407648344089,0.859723690975051,0.9712316089906654,1.2615587775742558,0.1617023894731865,0.0327348092211533,0.98209630404588,0.0985966833532715,0.5428429478696863,1.1102390154183823,0.0136738026231446,0.2446190055810349,0.1998638648303092,0.5243067794413296,0.8678858680204512,2.4443094732831865,0.4283589824658179,0.2916746118002769,0.4166036719794473,0.0530355636186331,0.9401470023839494,0.4894408476446492,0.4065726655523879,0.7307964631343948,0.2824781038915073,1.0607135531836125,0.215659893924988,0.216703893005547,0.0673204012992391,0.087888732207586,0.2531038307586742,0.1876420771826056,0.0720905085456387,2.150822219008128,0.8521291082687809,0.7732211401950639,0.0285066041020279,0.9939517415705312,0.156187903385533,0.21572659064102,0.2353997550494828,0.8721280657924931,0.3396891752993046,0.7360318358796654,0.3060496900545041,0.4728672786926426,1.6280758180216026,0.1096629612934184,0.0928397702147022,0.2199855780120652,0.4284141289330326,1.0904895179651726,0.1175062254745754,1.1850118258596305,0.4357540245108918,0.21510402449151,0.6474591917219704,0.8347605538307971,0.5918087024525345,0.1179948911578362,0.5421671085830451,0.8874274883942533,0.1590341602151209,0.9012512826963142,0.9573784980990928,0.1444477325074303,0.240460038356714,1.0244118842218748,0.4426993827406036,0.14118789666354,0.3146198729731366,1.181247386481649,0.0312398753968073,0.115578427382881,0.4324149380552837,0.5049544381726768,1.4385095003083552,0.0440001784078764,0.6781912442214786,0.4538725929388865,0.1449308413664094,0.836190366073771,0.2373571746069241,0.6650374148385063,0.1725408006495176,0.0093767099261457,0.4814850349469687,0.6804606527822291,1.0955833844137586,0.2201785264596444,0.4142527731438247,1.018925236168427,0.1180646596121906,0.2169268330872989,0.0783331484572568,0.5993798624242175,1.886636543435269,0.2958631721251012,0.8537825430170205,0.096806839803362,0.9102264226945928,0.692858301484436,0.4600673617136873,0.6991198595043236,0.1468671296499043,0.2537442371789195,0.1839157754407332,0.1781092102428181,1.3219687561789717,0.3076266467812246,0.2081119856634137,1.1450499131831,0.795331228303256,1.1321480239379262,0.0141649912545264,0.3058398365011011,1.3640564058209834,0.6166845386498083,0.1447882149879772,0.098567704123451,1.4840778691041616,0.0627326993993,0.3188081484015131,0.5192368441507738,0.129870618707382,0.2222569507541373,0.9083372185643832,0.2084799715605768,1.0943521579516935,0.4288119015701332,0.7376744250780237,0.1559124766822329,0.4831196908447013,0.114627729260661,0.4536601350738333,0.3856315374912578,0.7899383303528613,0.6851957828248615,0.6158891013971678,0.8834231846769042,0.2115728832952426,0.6541013015780357,0.6017431841987168,0.2811050963091661,0.6002484694761977,0.2048477666310632,0.4340379592359502,0.1550079914149217,0.0358987603865868,2.3944424493295973,0.2812749326444011,0.5593362013885749,0.7176368610892284,0.5766116551041464,0.2793681520610113,0.4553382022309483,0.912645334199234,0.454239292005738,0.2502913772758505,0.419485854828247,1.361251620970069,0.2840203545539211,0.1377110721058679,0.2743482503152732,0.8336081337575081,0.5363954991590681,0.942799715793779,0.2719471417411735,0.0849867499125933,0.1912809885469192,0.1557087504392865,1.2779274084285874,0.2997325631970243,0.9293868404142204,0.2947308403312449,1.257634770670288,0.1128760625690348,0.2204493801040283,1.070312743407143,0.0711398109004932,0.1215154903718485,1.0506070649624282,0.3979322447942712,0.7615090408497444,0.4620819406165136,1.2869206865840446,0.1922457885063755,0.1563583703633762,0.185153139503181,0.2857749443631897,0.6053959148666642,0.0989562742414521,0.8902994705697903,1.146666723648756,0.5496005460875142,0.1365000279605162,0.1686327368103098,0.0641632728611506,0.1062786170979274,0.5717566191587135,0.905620569131566,0.1407448419079946,1.2138190268622382,0.0356557557867674,0.3227757657724245,0.3385277624808002,0.4828213839105063,0.5466148217318526,1.389950299847176,0.2422983782311037,0.8421635345758729,0.335497118045614,0.4493512140033876,0.3648877422859827,0.2861019057901787,0.0066430333526655,1.9217349590675852,0.3020273167228731,1.9613056890067389,0.1011685553033371,0.6527032765210318,1.1955548818734532,0.2430059688771422,0.1694462745016501,0.0802105596058762,0.2362010588224169,0.629166062517547,0.3263381572220085,0.3468878185867676,0.5408557681675357,0.0524437704528925,0.7571198936113158,1.340280366172286,0.4015031778519988,0.5682539238539716,0.2022934702283422,0.0481403948705423,0.5750392331181301,0.2896079264207878,0.1198622094137475,0.9659878553713304,0.4093258840267242,0.256558698868898,0.2160764478179851,0.3203622557765807,1.2750678741598127,0.4860413603322395,0.7754354503496257,0.0180339258255138,0.2025149746367489,0.6215138768943218,0.9547551026154164,0.0590107446279617,0.288320313461763,0.3826702831933088,1.7125702925667712,0.4299694004965581,0.1245735518196943,0.8973340628967755,0.0054508344485873,0.426642997194788,0.2364239106798593,0.2733794226380618,0.6178079185071357,1.2082678665472677,0.0025827164750065,0.947932111941286,0.3376762182509555,1.0971232827965305,0.9858232932448568,0.2894493305786366,0.3683457254418292,0.3758828842227978,1.097139187485452,0.2472774373835329,0.0088325883367613,0.7066273777699941,0.4644568758185669,0.4402499508461452,0.0886583873961495,0.7540872316896282,0.3880518052215476,0.4680398172883237,0.7325185520841958,0.3436517625150845,0.8842764664659546,1.6358518516119431,0.4828156707386751,0.0885003854718556,0.1169261507670943,0.7657116691732195,0.8617387417152365,0.248241982056039,0.3242120320283875,0.2784877879667451,0.1287435874385737,0.2845416009412993,0.0277840703139713,0.7984889807450591,0.1200837011477835,2.0117225076112617,0.516463372895076,0.6421069305186632,0.9243102910746572,0.0691861665978786,0.4550184284490855,0.2624835834813234,0.6246144021493976,0.499904342496505,0.0194486221545768,0.2586569265076375,0.5012156123853877,0.054965260592152,1.0933146302162169,1.9008819102329453,0.0945171222188643,0.1945473417093561,0.5679801736868059,0.0967502460855682,0.1264632210565879,0.3225911926567517,2.264932698501111,0.5833554336731048,0.3432785078593686,0.1902527948141322,0.2009713437464561,1.3605791046567803,0.5889729268116387,0.0408199342658556,0.3827148074588681,0.2206363824847393,0.0988059230211499,0.141297331359171,0.1381240959602743,1.6550406324383151,1.6951471127653928,0.1020186849081922,0.173918010629994,1.1004182598330146,0.462127869460306,0.2644788422861834,0.008109854889951,0.2310152618238414,0.344153079847189,0.617390746654002,0.8879546399032314,0.917579138102936,0.649545924939631,0.0532023630639361,0.7084714976098286,0.2322192761355965,0.6286132104610258,0.8057110060518218,0.1993367533883215,0.113001600651174,0.0388303390115868,1.759604253541974,0.2539597859257657,0.3824921835568602,0.1378052318116854,0.9502094287235994,0.0706661781823582,0.4656217147400832,0.4511602401352897,0.436493154131244,0.4458527992306816,0.8934122825058963,0.0060871060196355,1.413802370803727,0.082517976340231,0.3094242944378513,0.1588032333475878,0.512615793491035,1.414617192805176,0.1913011909628731,0.5395653509147266,0.1759466271965884,0.0757673544713915,2.208443557427888,0.4716331607556567,0.0384283553065244,0.0158620538325841,0.0833577684441928,1.2475511029650177,0.9649019253327364,0.2158610443570183,0.4072049393444979,0.2068241438659612,0.1854854370687413,0.5173896484936888,0.2019076906776153,0.0893206317185904,0.0034860631313785,2.957933062067268,0.4146550988389322,0.4615229056657823,0.5846585264230323,0.8062630460234275,0.7642832901052666,0.5345629908729468,0.616065989050292,0.0926499971035325,0.0067779399661901,0.1861703844860149,0.2526006270678176,0.7460687361137611,0.1943360372319569,0.6166380441578339,0.0417840047191022,0.630183385780084,0.0029524768733336,1.521017186183661,0.7166001980484156,0.2068396840719146,1.24967253028054,0.8993994203282536,0.0045595475956754,0.2926813064647069,0.0847386250049449,0.1156125415149895,1.3606121483838616,0.3542808525524769,0.0676318235231958,0.4817860634103953,0.1963846451415148,1.4902938221014592,0.2626991416794007,0.2181104462919882,0.0934562702278638,0.3383548654102871,0.8904504076995391,0.5268685198741224,1.0385713946073163,0.0020921548855903,0.4038131630676371,0.6340913118281328,0.9487041776697648,1.0646323753049045,0.1427421111078163,0.4556368782417518,0.2012727794339307,0.5719591663967544,0.1067439732422791,0.9831820073956394,0.1486528629265495,0.4379209549705127,0.220528583410856,1.2855978433336226,0.3069953699012895,0.0692783815337001,0.4316064324728818,0.9952519545493632,0.5682358211425257,0.1591538711978304,0.5154829096863135,0.2151119045905901,0.6916114052506274,0.6617647043021964,0.0513359436218671,1.1582733671771586],\"y\":[1.3579846469431178,1.7299755642059265,0.984423079202868,1.2261990438589567,1.113900596148402,1.0217145983495817,1.0474245413264502,1.0243672089347866,1.2327727601443206,1.5746540271172302,1.3749786295920847,1.4652346586287133,1.348099821005271,1.3683913831501455,1.387474102495507,1.4382070004485412,1.537961114886916,0.8364618717500676,1.2369619228539777,1.2779306924031313,1.1371469307871047,1.321476550111286,1.40881008863458,0.9937166444977212,1.4740394676050204,1.2591568113957388,1.6926947557022367,1.1264891626552522,1.607303300867389,1.1292145965931475,1.593928658857425,1.4453266834293652,1.2491470239186766,1.6131418047670671,1.0410591072891875,2.176271585034804,1.0520610051702926,1.2975170163040102,1.142637524208417,1.0838790592633405,1.6209150612441472,1.1321828843693096,1.5888273343198354,1.2120757893659708,1.0292779096802638,1.0461874373576157,1.3619586637402556,1.3553930492905877,0.8204818981000499,1.1085265092753591,2.133708847623757,1.875310589901903,1.7854688256831863,1.7942222986987,1.7000843414408215,0.9074404353778588,1.2911485167800083,1.4941982410936818,1.2705643500525916,1.5315970773633778,1.328450071973457,1.5877907650189045,1.75280936354396,1.2590273739022106,1.020636160977486,1.425358792976229,1.278488224118114,1.4162124645922038,1.393239161934556,0.7744602717285959,1.3702991213138245,1.141664055750479,1.3703338331552228,1.0989844964946112,1.1897768314549015,1.450652035381401,1.2155963771823548,1.40710250130684,1.791209797332384,1.4518811301070265,1.130734246203521,1.136730921318165,1.2281557747795644,1.3576893959330882,1.1490656502381886,1.0903464143773958,1.3854263270053295,1.6361589941965888,1.5704285370347966,1.2291097075245256,1.4414119740991074,1.726955568561166,1.0239532815923826,0.990878232494805,1.5533965043369966,1.5223723639127318,1.3302708938000372,1.254806514000026,0.8625596893483864,1.0432755374098512,1.3237026133721714,1.4433800320004746,0.9954360653355534,0.9888933396259724,1.6348910175956246,1.6873383006237914,1.4619216921950875,1.4357151617952877,1.498875143510345,1.4980669702509763,1.1655113886588893,1.240305337313542,1.1943850650560832,1.3796577154298677,1.172361851059161,1.7700097361613627,1.2485370758541454,1.6609775145907877,1.3775952051634937,1.5122419501039457,1.3176972708560202,1.5948330121485503,1.7051737777606808,1.534867920718432,1.388142562573934,1.2597269378065905,1.130685423175432,1.3622608703921069,1.6271806239036746,1.5569431230476372,1.2118917090042076,1.0178112955415008,1.2682940605107995,1.7775195452082946,1.741347913975236,1.6363946760529635,1.4550386902981494,1.092068674778115,1.2162072500707264,1.2456580332861966,1.0609841475205306,1.089287218014085,1.2033123967575798,1.3083455723361157,1.3378128228722774,1.7825016729820509,1.2333419106404495,1.645727901742737,1.2920702831503077,1.400927984448895,1.6107654069667092,1.419978598591193,1.3713287524977469,1.5665249441316071,1.3737905889257411,1.764815269380831,1.4826588808545462,1.1605600824283755,1.592154119787489,1.1614674115065466,1.429929728763868,1.3552472787557894,1.0724778329750502,1.2839771134536715,1.0304257095547034,1.0270625688121675,1.1597705066705213,1.3884919253223846,1.3825008366275064,0.9571027661847958,1.7483264745169766,1.8267915360324616,1.5801816707796554,0.9642377442368668,1.743146752970526,1.5915291805573153,1.0664432709719622,1.2418022657176069,1.381006105908632,1.4251055402598138,1.30598497407071,1.5087179978973515,1.3606988544012502,1.2454741725074765,1.3249860108486824,1.6930296245652423,1.434199321197514,1.5362928773569071,1.3246038094212336,1.1186888090392286,1.5536570576003306,1.6483728099562918,1.612714950702101,1.189368317504432,1.0531200838635384,1.3399244555049652,1.175821883434469,1.2047375999641368,1.6238951318529835,1.3100631657494155,1.1582572857285658,1.7358397997341153,1.0836839429214185,0.8690502889128,1.5366614752646277,1.272371246932015,1.025193788399936,1.3371861096556394,0.7456036421594513,1.4517376997259157,1.1571308286833313,1.3341530122004437,1.4451941857963335,1.245711620661302,1.2418226570087327,1.4716349388302563,1.0188691330274224,0.8994535908648099,1.106723917646284,1.4209986601873834,1.3880548249751743,1.1738551414401794,1.8066325353846064,1.3051682658869834,1.4668187787050002,1.813930257816444,1.197170139436415,1.6985141065303382,1.5390241333766457,1.023157052387116,0.9853123104180972,1.3697880321399547,1.3971140012520418,1.2711901841261868,1.5760990656282483,1.0601756921800751,1.208082582073603,1.3988309771475749,1.0499584203218846,0.9821947048972812,1.385025018838789,1.595074306768149,0.9209638183811428,1.4480613845954242,1.459915751773427,1.3596023783013338,1.647288844453192,1.2319857687904987,1.2525495458649518,1.2114972184889392,0.9787458595059768,1.230344074207904,1.1201205231961129,1.4915131794938683,1.3060808305284437,1.1815473148018,1.660923860743451,0.8128890071327822,1.034607182814764,1.242693731229526,1.1226780641260286,1.2083397872833124,1.2561086542091369,1.167623207536497,0.8540183841250345,1.5257134661614689,1.0660029835798406,1.3653366380367948,1.2501174041563428,1.100453620396335,1.0010159484308525,1.5934275157656657,1.168842633854599,1.5132028069255792,1.777698242147718,1.273157013903854,1.6263815784778095,1.4630360853094748,1.3399340898821968,0.9250553451865468,1.6924846404425935,1.792072060342908,1.3063998623826885,1.464760653249098,1.3868854507126165,0.7738950868495712,1.485494300756263,2.1142003185764118,1.5970825591085311,1.541494864550436,1.6241834259972934,1.0223309535803211,1.0959884485670588,0.9876390459102162,1.380114627359236,1.41093151963521,1.670170129994098,1.343102477606389,1.4308296757141536,1.4354647908723952,1.6983205856082493,1.0371294283631856,1.5665652995802846,1.4083994747631208,1.3093897369334684,1.088266155376268,1.3825697098471912,1.1906197439154302,1.003686614576482,0.9542448053419303,1.2983040112552031,1.8003333086946849,1.8593048917667,1.558632324303672,1.3206127561855214,1.5278280379069902,1.303152385313215,1.2983267883712846,1.3291600964921515,1.0243461000569218,1.2201750400515607,1.3508708445279325,1.5251461140688658,1.1884963328653082,1.2197462005237083,1.2341148175732313,1.0609153932244828,1.7136889849439123,1.3582046094501687,0.6317374575253948,1.610553690700272,1.2068261783013166,1.974522428570037,1.463607496670605,1.4481971377730145,1.5296861815012646,0.7493488332502679,1.3539051500107662,1.0192446511106767,1.3583949839651763,1.2673391171928532,0.971217100392086,1.4136435020860605,1.3771617533944098,1.5022964381082262,0.9505938873101932,0.7899607447602831,1.3841523126970756,1.3052796995077796,1.1686806715479383,1.330980846245286,1.2672209890497734,1.1420625573432213,1.483240964437132,1.3829193688030152,1.2936118759136734,1.1845589837300914,1.7035656232391858,1.318673017476916,1.0204738816509291,1.408385221200739,1.2069556350773123,1.835056470741535,0.9045589922001512,1.1355515970343857,1.209012795780016,1.296863196073972,1.9108894678257815,1.3387921079408982,1.27019135111105,1.3025431395291591,1.638742601207518,1.0409089039538657,1.225803006282553,1.1549333311366088,1.3573846936639278,1.7175435201495552,1.2151812426926891,1.4041432277844983,1.292561343014878,1.246621300057186,0.919087068818254,1.2776592033368042,1.4277918283400246,1.0889478828217125,1.494776766749424,1.4129337003757858,1.2318146452627268,1.3598168641547843,1.7153146008689848,1.1925607193657617,1.2908319041130771,0.9874779232590242,1.2322637628174484,1.175657454263426,1.056424776066785,1.462559668557198,1.6183615358003671,0.8987338255824363,1.278990984753101,1.3316239270814685,1.4334836818321055,1.591111770128739,1.6641604809904582,1.453213049936484,0.7996836454817178,1.073605447714288,1.2174645687200227,1.143289007834607,1.5425183388127917,1.8483066424476944,1.375900462226321,1.4217453335406378,1.100283662123598,1.098104426227685,0.7978841764065351,1.0752519141785202,0.909399619051954,1.9450785892356235,1.550371362439478,1.7557805319538664,1.1525215124258552,1.471344109185066,1.0459451364147787,1.1738283108066614,1.4982472232851525,1.3219476900600016,1.492937592970444,0.8226453508532859,1.0784371723567558,1.810456627597852,1.4717610097288716,1.8176946410606176,1.122001560823648,1.322660820024906,1.4639268975682924,1.2419625750196468,1.3208568728233057,1.4535859723632474,1.249952403458783,1.466148609767063,1.5182447481785248,1.0773530603256778,1.31576459061895,1.246942724474244,1.4931030440117417,1.497472038087103,1.5346970297930174,1.4844635840298075,1.1457169231238675,1.1408297287989282,1.2215370668199828,0.674029366334115,1.7422314216547818,1.3082806112754388,0.9997252543337924,1.1354388012500354,1.6287115662558451,1.4766555000382688,1.1859981832451845,1.2238176541985386,1.4173852543441836,1.100098391338852,1.5737658289037766,1.251059872061492,1.393268595332557,1.318312476808866,1.596025533705859,1.3895797784754649,1.1271740177582277,1.1427875639449057,1.0065302503033549,1.3325861884900134,1.6484038486057155,1.811073550246377,1.2567007979479277,1.6796939987669437,1.1414678100824007,1.3540244105572727,1.0237197444893,1.3804324724282344,1.0853438943896254,1.287476919926868,1.281528498105198,1.5784710340547192,1.5361192869230205,1.3508675822306115,1.4023524165313594,1.324693331814064,1.17115211702244,1.7464840922410425,1.5887090535979318,1.3588625370060885,1.2860061030983292,1.5306082790640112,1.889010268829725,1.3166460375936728,1.4463789791033792,1.352559561303019,1.2512153503835255],\"z\":[0.492805175587134,0.4337920269072555,0.6423148085546491,0.4590055242940905,0.4975629184315913,0.5614416506985378,0.5563266873451369,0.4173841942014853,0.512190750379193,0.5405748502424329,0.3282512406138185,0.656527967833949,0.4523400823563763,0.6533954695725055,0.4603719253783565,0.407584403339837,0.4416466568557254,0.3975404050342456,0.6944408913042477,0.4954860112321229,0.5171495046166126,0.5071258201264883,0.4995366111528875,0.6046976747383648,0.5443781327903807,0.5082849201761825,0.4269003743149238,0.4022150771533149,0.4256100889874861,0.5247106183034951,0.5743332614394385,0.6038296442740777,0.4040334871317584,0.6236817513294175,0.4436848082231728,0.4583812114133174,0.5734517881939639,0.4041938865273176,0.630491241516232,0.3066014460806365,0.4744104567229987,0.5022124925561543,0.4008118780053186,0.5525590085061809,0.3962152769606975,0.4124258369024885,0.6137739815891934,0.3380142557088093,0.391460597715855,0.5554320030417206,0.439425929447565,0.4876667854746572,0.5532854273525547,0.4915295388103486,0.4567097130293126,0.741333914770537,0.5658351198959145,0.4313187348126129,0.5466123971630257,0.3421598726123224,0.5235585338212154,0.597186004128029,0.4600501502596981,0.7272342449411571,0.5836022331603213,0.4961068167176449,0.5814676520698702,0.6374756475968055,0.5355505524948949,0.5483177447976205,0.433041276004882,0.366241121611748,0.3616957873257757,0.5405994119892518,0.6171592824201789,0.4548433318320325,0.451968355589828,0.6697819114773127,0.5398634199076829,0.5013478634991982,0.4314707798333894,0.5053284204442046,0.5030008873585359,0.6783385204167898,0.500503862963819,0.3493378734201094,0.5958159281137081,0.5536174194311639,0.4700386118068067,0.649523385254852,0.4997892256412746,0.5063074531194526,0.6110215517906621,0.429192306666747,0.5697480762341667,0.3844900111251276,0.5491563871575863,0.5140137969383132,0.4595200894180299,0.6398940144836432,0.4271364662588121,0.4197223849270898,0.4854505703664928,0.5814060496640251,0.544321860072844,0.3886366704315513,0.5044658629796283,0.5870201477096239,0.3512706388677779,0.5438002974639277,0.3955294536323233,0.5497242194187452,0.539466179250417,0.3729624092320885,0.4381683098826814,0.5506950788096487,0.582718242016627,0.5309778118453208,0.6048049750824536,0.4565209464015378,0.5150346300390167,0.5564765478168661,0.4632472917830837,0.6394159994023584,0.4769794821017284,0.382958242271499,0.5317392586460289,0.5133222140070228,0.3825710877104848,0.4617306966897153,0.3598112326311239,0.3225694418764214,0.398932490107342,0.4375373869173739,0.5145616344754723,0.3402057456024849,0.5326380684306069,0.4225203467069286,0.5116688772525824,0.4831893430793871,0.6037060149916755,0.6283179026113149,0.5292894192395072,0.6074647074850477,0.6259650182373234,0.5658134195026078,0.4382656134981509,0.5956494140752816,0.6656010197238935,0.3175709785373968,0.3967664205140336,0.334058071288727,0.3979461356992198,0.3408677644678288,0.498767331226423,0.4047285405055836,0.5330057080521314,0.5006388446654473,0.4277995568464852,0.630277046515862,0.5918815167027824,0.4665619140961997,0.8171348422280567,0.5350312993610268,0.5719019216271815,0.4667972252589284,0.4375813187703906,0.64539926808492,0.5324427369385547,0.5369478973240122,0.3841155313140051,0.4633086181616194,0.6017932996064401,0.4704212445835086,0.3755889486834969,0.3983411339098683,0.4342044702985746,0.5335930247118527,0.5496898120401545,0.4756874423417906,0.3526937215838462,0.5563408652236175,0.3499251321893457,0.451278320043406,0.4583430216961486,0.5871776224419718,0.549697798868765,0.4339741061507477,0.295965691269874,0.417167588075827,0.5175640613250511,0.4907456109243674,0.5040560494879657,0.5612392290040888,0.5240040526544335,0.5686037181881342,0.5629748273091336,0.4861613528232663,0.4037388436277102,0.6731916337564231,0.5146749711600869,0.693567958791266,0.530293143013732,0.4886088493479123,0.5849407922079708,0.5902043443570312,0.5939322877683179,0.557859363053693,0.6446478915673372,0.4472890886892799,0.6404305332865857,0.5344648161078532,0.4250478341888244,0.5606590121130292,0.4456389676332946,0.562888069368426,0.4363419627642721,0.5604219514495107,0.3699715525976706,0.5010383156265975,0.5798725142133552,0.4586283916341591,0.4345818710281369,0.5004864672253412,0.284129065919854,0.6568784802740014,0.4840275867637436,0.4747938252796581,0.4968112021223074,0.6974426468838113,0.4390353984084845,0.5847121289179977,0.4221474038322654,0.6708605867458992,0.5213926505364507,0.5959307060958402,0.5169036606079622,0.6223525849334115,0.3874953376693263,0.4498740115796782,0.5550556913326915,0.5464271972097969,0.5604459969077419,0.5320869067767297,0.59225935492338,0.635771226557158,0.3984468733942223,0.4876598303266735,0.4188275973389521,0.6463283892271033,0.5421530185874847,0.5363330269534569,0.3546375731311298,0.6540635860634619,0.5045225068568702,0.3917555203704562,0.4522907293792249,0.4701888957485445,0.4646175006410861,0.57465371274852,0.4544169217685098,0.4422813374459808,0.5987352682300403,0.6072294651554448,0.523253110385678,0.424778907026299,0.5785648314778169,0.5413548374195961,0.6230113219273664,0.5125276404429803,0.3845011697102971,0.4538284798527566,0.5000981499601037,0.4380120797003463,0.5113518635629569,0.5042416221624637,0.6174383617973632,0.5796880167860875,0.5102140799361616,0.5259669973880121,0.5043285454399108,0.5638044417250877,0.5154476157852943,0.4846747348505842,0.5284695282545964,0.4562690954172887,0.5004210945002797,0.4283267610031677,0.586589670837269,0.6140811151339823,0.5019431760881331,0.5236342990127144,0.4133441929584803,0.3718759213751003,0.575769673477269,0.5716045008026278,0.6149959511136479,0.4714025975017571,0.5017615376248052,0.3508873705213884,0.5127365470349703,0.5317987262392518,0.368950784509381,0.5109119010338291,0.4545375704636518,0.5135196717790363,0.5054267594029981,0.5692291524326554,0.5495791114182125,0.6420688711092731,0.3506273577672276,0.504755183117531,0.6230475376816118,0.5580196326036997,0.3898752413306263,0.4513776956222558,0.5481556143103038,0.506519149185526,0.6722227036856906,0.5060911951016969,0.5083890013277277,0.5871450216279641,0.4485199029559962,0.4355313177149281,0.5023717186073349,0.527657872341696,0.4195156062157668,0.5824397271627727,0.5568847464093745,0.5889671528594103,0.5535881425300762,0.5811965405130765,0.6844622620067456,0.5787203717646927,0.5986172936850728,0.4659469517407487,0.4693893158124932,0.5413017006802582,0.5301397088041004,0.3734380322682109,0.5449572988007969,0.3567720882120616,0.4139726336586815,0.5604453061146559,0.5545755845784848,0.4560764978801509,0.5620210544336225,0.5215724298612441,0.4394229349752764,0.3762705313533199,0.4200657220348961,0.4330824864347491,0.4482339822693635,0.4985000440292289,0.5113663133961339,0.5005152775452925,0.540145439270168,0.4946965604769137,0.453943027858622,0.4319812970513336,0.5077023859277641,0.4938746113324348,0.5871156521649751,0.6070734161542304,0.455354627514983,0.495368385246679,0.6268517750332622,0.5790870459698403,0.5630001626883084,0.5439511580997042,0.4148597139235372,0.4100869565452181,0.5184955461761536,0.3434566495239832,0.5317870493333084,0.4174731679546365,0.4954501526915398,0.3661512244620869,0.6518496095064134,0.5430392548067793,0.589950800392036,0.5620855100500346,0.5272235710097194,0.612900890073159,0.4905612699637762,0.5075284275578494,0.561439565332774,0.5789625859587075,0.4551964929504367,0.5369489986737996,0.4937473634773112,0.4852910909932929,0.634106068327403,0.4580135600679091,0.4219950814505525,0.6197490931813103,0.4792366801300132,0.6339547183169726,0.4780885469091986,0.4776313869827087,0.6321731757952902,0.4969950172418535,0.4679868855404525,0.5293881003880607,0.5852503994428107,0.5389560105990332,0.4152813383874123,0.6131405603710156,0.3665412401579816,0.502976983163755,0.4418447694706057,0.4768244848695904,0.5239595405639896,0.575744227331076,0.5119811112133985,0.4223245885460571,0.5197580645450081,0.4014334242910448,0.4936050192620856,0.5844466763596761,0.470459697538998,0.5864009608246005,0.5180741493113321,0.5715071771620235,0.7270968147489981,0.6060198931040102,0.5702976408003925,0.5625892817811963,0.5501076986521503,0.4827880694520283,0.3649295329301564,0.412073495520089,0.460830261670317,0.386940894442751,0.4258627962652214,0.4562116218089996,0.3444892027347046,0.3581609301161931,0.6378517212446458,0.5234621479718421,0.5567674272587818,0.521234011976103,0.6039846263395952,0.5365415637203195,0.5738598578141999,0.5187745634186451,0.5083715061732378,0.6169460235294536,0.5050946884036838,0.6369127043778999,0.4511480516133942,0.6064149252170157,0.4642134066883202,0.7037392659952197,0.5552838226463367,0.6059172962842474,0.6184987739180695,0.5929879325996333,0.4182926522759617,0.4036166258426297,0.4710154681782197,0.5223928115925199,0.5887605501845866,0.6225661006385137,0.5264339873004509,0.6828625472887392,0.5685343589177733,0.5947263414467009,0.6143407321507277,0.5410279898671642,0.4084370017913032,0.4251195219787811,0.3430412690864634,0.4332842297341451,0.3927514943563098,0.6242179748689748,0.4679904215625236,0.5130335630185141,0.4493686682404658,0.5867986595415704,0.6662717420257019,0.6414277903943928,0.7187962662389223,0.4692032033500142,0.5890177678700034,0.4162470835954022,0.5098053997748799,0.3881191778047319,0.4490095588084439,0.4699994543622927,0.5358250411865049,0.5176891125872474,0.5469493136305638,0.4390799864930745,0.5498438712599512,0.4303189825731154,0.4798213514839194,0.4547215613012171,0.557326942272394,0.3947084340970345],\"type\":\"scatter3d\",\"scene\":\"scene3\"},{\"marker\":{\"color\":\"blue\",\"opacity\":0.3,\"size\":3},\"mode\":\"markers\",\"x\":[0.3922680605693658,0.2157940810964195,0.6563228369406429,0.9535987326754216,0.7414553987540449,0.581044871167152,0.8258016891210268,0.226593529014941,0.6093879642983467,0.284570773399529,0.4797934961348666,0.9114165841093466,0.2385420944288499,0.5848144056747069,0.3741675611275241,0.1763135059153396,0.6810238479102165,1.071637088117945,0.6613437104906205,0.4116942848434728,0.2407985434445977,0.5175292989852197,0.35595289020499,0.5079229764840943,0.6708666416856465,0.7011878540560162,0.1619880461752482,0.4036643240893424,0.6706302618637604,0.401380602573119,0.8776267355181455,0.3664494062992606,0.188874372073914,0.5678254267405045,1.030587567899302,0.1604057207846207,0.8504708877611054,0.2995291877898847,0.3828780885031105,0.570498465384194,0.5960069979701853,0.7621387680713545,0.7312813564514065,1.0428326841163689,0.3367821996035102,0.2027665910847556,0.8231922114144853,0.2325512377266406,0.7533333593792537,0.9533615154153164,0.1394935832321567,0.3560683870448241,0.3429400402449857,0.4626163701252364,0.5988445569364756,1.591360954117074,0.5131236862481839,0.3638964254203563,0.4575591392790768,0.1397503028044704,0.7417043610539312,0.4761487216960574,0.4020007587784019,0.6543754558433696,0.4018241897621294,0.7931184788877429,0.341215380240417,0.302775373456855,0.1513029901027637,0.2337230510383856,0.3018870105553012,0.3120776592578584,0.2994953260563209,1.380847413421134,0.7456131071610608,0.6519790976117082,0.1537310958585423,0.7984685807448116,0.2429743578685516,0.3025564259623944,0.3527184681332767,0.7349126199236354,0.4206535571636681,0.6145779909562514,0.3884877397105466,0.5025090898768322,1.0949692616919722,0.2221413934290164,0.1991293167715633,0.350407102471052,0.4327201176708518,0.7629314405602013,0.2804408464481559,1.0170208297157628,0.4716992230502308,0.3009926178951718,0.5904656287847349,0.7196399002501165,0.6817223972063531,0.249541017233645,0.5034167076139853,0.6932708776896583,0.3148906342522554,0.8136343079736842,0.7426969461589467,0.2490296169558099,0.3280112067391475,0.7950646588685443,0.4899082418704936,0.2427511811580871,0.3996657432805326,0.891524939209772,0.1413135779691751,0.2366003572979259,0.5272879380120185,0.4739083834944855,1.021067588397604,0.1409171424720681,0.6260528898041906,0.4666737328693175,0.2582834399348659,0.6513320705709345,0.3068229854718113,0.5784067190439123,0.2731527217246347,0.1129790860097895,0.5450238866124332,0.5903386608903366,0.7854499463222558,0.3272192341701656,0.496864622534326,0.9090870782142952,0.3434266943927865,0.3880972265235309,0.3433815459583177,0.5457984018612488,1.120271189519102,0.4538732512207083,0.7578086511839598,0.2853638158991268,0.8105090732596334,0.6431413092111589,0.4707007195303671,0.577834807447779,0.2468858230301528,0.2758578207980917,0.2871769717330341,0.2785126180496296,0.8398983670374945,0.3542417066213491,0.3078087328474258,0.8368800079885451,0.7228949763661234,0.8855931076651267,0.179876918512463,0.3983239499964301,1.0249533413117844,0.6932963037391127,0.2531516607433761,0.2741224785703506,1.039071435692883,0.1834595181447409,0.4620440996010681,0.5270187816988066,0.2618827896999316,0.3388777201212319,0.7221386409290664,0.305970547716332,0.7884927868112837,0.5445178594917948,0.5947768192669846,0.2405255033226932,0.4706487412564566,0.2614063233500258,0.4192163229412035,0.4094926231138756,0.742502340266391,0.6448056975360368,0.5654611804291008,0.7052283067754322,0.3251575845812228,0.5889005121624011,0.5745610737084637,0.4035675052970104,0.584175470853388,0.3048452581757618,0.4503551786989106,0.2722158629366567,0.3017455859806783,1.4851773658155072,0.4077857205958767,0.5241125770972145,0.5945625160747965,0.5871020592038193,0.4097877157661513,0.4665975525722056,0.7234960594380838,0.4799015629536705,0.3031326889407965,0.4616501020242056,0.9414647946451842,0.3320326287485325,0.2615133161703073,0.4123397078535964,0.6205564032329485,0.528882404894579,0.8077424551120322,0.3502930000890836,0.2418041387494156,0.2564693544102385,0.2745962478720979,0.8382859548966842,0.3680876323037332,0.7662709188687578,0.3918620311371715,0.9338148972800868,0.2825862077067201,0.3977567097938824,0.8926915902631869,0.1813164025902841,0.2438927306378828,0.8290414159396273,0.4033266888743391,0.6779440597121847,0.4794680295177185,0.955960777208782,0.3789787298824587,0.2604107395569275,0.2773723864421105,0.4045186833333411,0.595140338609773,0.2072171518861026,0.6600651547369623,0.8878153655555854,0.5441135457645504,0.2798993790012974,0.2775084036927513,0.1573636920493476,0.2364400235829791,0.6050596934781938,0.6888307650461084,0.2436992127947969,0.9477781221807418,0.1642853966673133,0.3806527020394955,0.3887456181271235,0.4076485290842793,0.5344304389614735,0.9376119447546984,0.3779161336232136,0.7628647966450638,0.4061136465888221,0.4869360400973962,0.4159064426056851,0.3665944685843562,0.2439349541175769,1.1509788309265547,0.5506541981763687,1.53510249508775,0.2580142228359641,0.7117295906119575,1.008881793175593,0.3881191908965549,0.2995323283720759,0.221468753851539,0.2930222728215762,0.5992138132239081,0.3666667230763199,0.390979703053437,0.5135684366869084,0.2289233041243095,0.5915311437123525,0.9746396980233072,0.4390476123329644,0.5044293196256372,0.3234387330477223,0.1750262850313094,0.5109549707085679,0.3588399330780739,0.3446513574039576,0.653613150609499,0.3982209312627042,0.3455536799191234,0.3037785717236557,0.3909271609194139,1.0306615898570712,0.4657865880960686,0.5468503484049826,0.144019304603701,0.3132309768059094,0.5159056526976693,0.8113805419536723,0.2204013256707451,0.4959901053963815,0.5259998575856626,1.0496281612606393,0.4493862682921623,0.2379866646378511,0.7143702543879777,0.0991634698802025,0.4556557608411318,0.4269812562407801,0.3617689677058497,0.6099996104925924,0.8645247129530247,0.2338867348780611,0.7519070149326892,0.4488181734077909,0.8855690937294102,0.8561597284231272,0.3637432282062544,0.3708771907262884,0.3670352433013535,0.7872356204279998,0.3647249751564175,0.1018037037568821,0.6484367108771011,0.4960914301119923,0.4666425450111859,0.2371460661889094,0.6349894986129009,0.4202187165884361,0.4319272680833564,0.6375657411505015,0.425324895562535,0.7143937421805981,1.1940521667466353,0.5016641770964166,0.2030542340983562,0.3400485135366823,0.6112467883712485,0.7706727437467032,0.3014127248359428,0.3767798199989742,0.3313762130775364,0.2001204486829204,0.4076096395219891,0.1242300849994135,0.652756418708805,0.2286973842521624,1.2630359163063043,0.6591254981210047,0.6225848876485547,0.7996074495789383,0.1761863426402997,0.566273509156036,0.4528722319071933,0.5510417788158467,0.4958591672683142,0.1873775813790306,0.4340263485611626,0.6116528098269043,0.450710085005618,0.7388358268495657,1.1486548181020049,0.2423840632953148,0.3629968721535382,0.5032201703817129,0.2606442475905646,0.4212194055855466,0.4994198326857877,1.3187529593216056,0.5280227833991804,0.5026264694567179,0.313002446193568,0.3246527989429211,0.9453913731878972,0.5270945338639079,0.1383359477765724,0.4507096240306455,0.3119668049451492,0.1943496551904964,0.3659429832041447,0.3664353969829995,1.1609407483444931,1.1303586395325649,0.2175953171946334,0.3346806571459686,0.8829087479092418,0.5241209825263972,0.369713942766922,0.177096394644463,0.3425960888765005,0.3936552563058248,0.5752903804805066,0.6419135106623474,0.7167993831091077,0.6317655449911365,0.1520540396273446,0.5772145102253777,0.3519826942394767,0.5846921529521595,0.7551560721839272,0.3012989386439783,0.2366475673815755,0.2624228373051738,1.0950928632973886,0.3586724168363668,0.5327420778405993,0.2544599141461304,0.7482423867817489,0.1740312474201585,0.4482761767791851,0.4330776421225816,0.4434608626809035,0.5599238568428929,0.7352795618850313,0.1458640073769904,1.00979169024243,0.2076164867567275,0.3539838384987844,0.3217670279178622,0.5318066773341378,1.0058619331534415,0.33901643176198,0.66136390208336,0.4058174004905434,0.4557581142335869,1.2961375912506965,0.5989808148409248,0.1273407665863876,0.1279722737829076,0.2062896816896705,1.0125689113030023,0.8556580527003261,0.3172368008447003,0.4497869762606266,0.2781605902886137,0.3217619460354305,0.4964814143261962,0.2349986436586466,0.2054106714168815,0.1863603854184313,1.7299355295991297,0.5359877579284609,0.5157732356824686,0.6101696151229438,0.7312751214417497,0.6960834953452526,0.5738149502848845,0.5739151684809892,0.1911574251213382,0.1439192014489878,0.2986064514256607,0.3622847887759193,0.5692551149607378,0.2840127196911558,0.5136521894524787,0.1685868851756141,0.5924057881985194,0.2033692194698269,0.9866531712574222,0.8074726270906954,0.2772227278253802,0.8554646626621024,0.8369485379393553,0.0802841158116107,0.3400055601257347,0.1760844317706336,0.2609522115405686,0.9683390060188448,0.42492927820671,0.2567855208196213,0.4574870670189559,0.3127350892057065,0.9680397402590256,0.3727126835900989,0.2901614008866261,0.1891413646597528,0.3963978072096896,0.6970702923335014,0.563882190349969,0.7887893933172992,0.1268459219060585,0.43790456198272,0.6612538279008777,0.6946091276498111,0.9190703222243514,0.2671564624583657,0.5517253359152179,0.2988678883934075,0.5552130337019524,0.2118348999996382,0.7000380519888093,0.2293085897245828,0.411591647001244,0.308681129948816,0.8819632340903341,0.4120544492422751,0.2388780876298481,0.4357293881933942,0.7378025387067557,0.5760086840002171,0.2779330356226848,0.4896758059195192,0.2679869643232105,0.6108412564595059,0.5820309536058071,0.1906990062145016,0.8744099890528063],\"y\":[1.4445283026412032,1.827686839866472,1.057635720225966,1.308324988097877,1.1920291793283029,1.0963797551677306,1.123073347671882,1.099134512187096,1.3151257595469854,1.6679120846669024,1.4620723858735618,1.5551808156340687,1.4343215291904932,1.4552724137454045,1.4749696404854524,1.5273109013055726,1.6301255383433684,0.9035796005197908,1.3194592328924224,1.3618239151269609,1.2161220575876326,1.4068237963956576,1.4969864637398105,1.0672941941261844,1.5642578747878877,1.3424137955051108,1.7893620612932326,1.205077458207753,1.701520643912035,1.2079020194029255,1.6877545841497013,1.5346534194233412,1.332062414935448,1.7075293484169785,1.1164656922668164,2.28542691720317,1.1278857025978948,1.382067945839663,1.2218110968257734,1.160898797216152,1.7155285817614063,1.2109781061961018,1.6825034016625104,1.293711416680719,1.1042339103823606,1.1217892358088946,1.4486313420100352,1.4418524382193432,0.8869063754627234,1.1864579054978208,2.2418484487558894,1.9769527628221808,1.8847065186196368,1.8936978351406928,1.7969597852390515,0.9775517681826622,1.3754862646857196,1.5850360916136492,1.354208615429204,1.62357011012745,1.414027414788645,1.681436343507161,1.851152643473758,1.3422799514111368,1.0952597455951307,1.514058794008322,1.362400253763809,1.5046235379625963,1.4809193079205427,0.8388457070734479,1.457241825152276,1.2208024857914686,1.4572776586599625,1.1765643819462452,1.270631243430228,1.540144992880394,1.297354550220301,1.4952246259990014,1.890603568904207,1.541412396705944,1.2094768789315784,1.215690989179242,1.310349381077016,1.4442234564840186,1.228470835082197,1.1676065359023944,1.472856175858846,1.7312136176431747,1.663561500365171,1.311336276332554,1.5306162718681886,1.824582837778456,1.0987046554613038,1.0643445414408292,1.646023015375433,1.6140670634137764,1.4159081930372224,1.3379152440838638,0.9307940162168266,1.1187665607729598,1.409123391587794,1.5326459099087602,1.0690809123065417,1.0622817495376051,1.729909053642391,1.7838543562829268,1.5517651409134232,1.524740907164016,1.5898559431590071,1.589023088563338,1.2455056408959813,1.3229176106643066,1.2754016379000432,1.4669021900541712,1.252600015264597,1.868825452966024,1.3314315980934,1.7567445478721453,1.4647732835342622,1.6036297371698256,1.4029195036726805,1.6886854713463506,1.8021922230352263,1.6269393839964872,1.475659530487203,1.3430033281489668,1.2094262828130664,1.4489433506753766,1.721975774702691,1.649675389161629,1.2935209228874216,1.0923258651628882,1.351861420105654,1.8765405615486923,1.8393746533097075,1.7314560980335203,1.5446682793030542,1.1693926693510042,1.2979866647461664,1.3284539681454053,1.137146091080863,1.1665080279489852,1.2846420501204936,1.3932575102347189,1.423697925222821,1.881658565482107,1.3157145338892255,1.7410580360562016,1.3764389265026669,1.488853597645803,1.7050837239726622,1.50850878407414,1.458304719949138,1.6595421486515805,1.460846026197836,1.8634886385020133,1.573142804533886,1.240377508939602,1.6859279512152832,1.2413172750550554,1.5187736853912264,1.4417019249263634,1.149071744915275,1.3680740295418563,1.1054257401313112,1.1019335080208708,1.2395596935161035,1.476020090761986,1.4698367353239914,1.0292311199216138,1.8465461126211955,1.92714517247198,1.673603043631145,1.036650958384192,1.8412232646846127,1.6852846570851625,1.142810724447215,1.3244659500136502,1.4682939543561506,1.513797556923946,1.3908183701349586,1.5999987135247138,1.4473306564112371,1.328263806699836,1.4104491479023076,1.7897063752658136,1.5231774809149523,1.6284071800353097,1.4100543344768617,1.1969926095423216,1.6462913432759183,1.7437789111976636,1.7070900646203135,1.2702083359418506,1.1289848956541044,1.4258787841392415,1.2561829188822191,1.2861171055203873,1.7185950979325288,1.395032196611642,1.237992319228555,1.833713919436733,1.160696415579602,0.9375593900954546,1.6287868551724798,1.3560766607630257,1.0999928902018257,1.423050653255865,0.8086766632014158,1.5412644968675897,1.236825522487373,1.4199179734267824,1.534516781168246,1.328509391782976,1.3244870413694498,1.561779099415561,1.093424546341956,0.9692347679665017,1.1845890465900444,1.509561073072436,1.4755689805082683,1.254146361333114,1.9064439310828445,1.3899744680943276,1.5568139943051544,1.913938421937871,1.2782845351218892,1.7953453728343054,1.631220476036417,1.097877774069342,1.0585599520850808,1.456714218770682,1.4849179581256688,1.3548556347985778,1.6693998530359726,1.136307148830492,1.2895789524242194,1.486689726911808,1.12570340912294,1.0553195561462745,1.4724419872963863,1.6889338439401198,0.9916304622519182,1.5374735278475753,1.5496969406268022,1.4461985844513896,1.7426638218050032,1.3143116243265969,1.3355812373015807,1.2931126861896844,1.0517346135968997,1.3126132727551505,1.1984766289914308,1.5822688320319662,1.3909174176301398,1.2621111949152186,1.7566893614993746,0.8789814759835589,1.1097673757274504,1.3253880144061652,1.2011275071247538,1.2898451356242595,1.3392617927788553,1.2476927425988589,0.9218893615291512,1.617509100297105,1.1423538851465205,1.4521188033201764,1.3330659830203038,1.1780877425125753,1.0748787302197047,1.6872387331934722,1.2489556023927175,1.604619760802221,1.8767241364831624,1.3568890028698666,1.7211535915644105,1.5529140988333714,1.425888734208192,0.9958890915884372,1.7891460190151778,1.8914892448348544,1.391247068937007,1.5546921242349006,1.474362111974967,0.8382550748193784,1.5760653528781767,2.2218694723060533,1.6910009779332953,1.6337653408344242,1.7188917493628522,1.097019858605866,1.1734575944730683,1.0609781835714651,1.467373802484885,1.4991752355259955,1.7661992523211598,1.4291608649680414,1.5197019407605608,1.5244826787229315,1.7951464054521982,1.112386049005834,1.6595837017745123,1.4965628083529323,1.394336388455513,1.165449047781722,1.469907821788757,1.2715038456064636,1.077653457864341,1.0262587170383488,1.382881240330377,1.8999744240666676,1.9605245460577636,1.651414905167777,1.405931448800046,1.6196874797689276,1.3878914200952583,1.382904778458831,1.414760825190852,1.099112591055332,1.3020922685129015,1.4371829521111832,1.616924618535352,1.269305617956427,1.301648547104182,1.3165140812403315,1.1370747445827447,1.8109460535523323,1.444755412705933,0.6893457111934533,1.7048658369772485,1.288278676128357,2.078729509091982,1.5535032270069244,1.5376135180607655,1.6216016464112413,0.8125937242267555,1.440316114068012,1.0938145574928837,1.444951972752304,1.3508741030884568,1.0439078003919222,1.5019732120505571,1.464325870208926,1.593381628691929,1.0224613201769048,0.8550401785691609,1.4715412627000035,1.390089612726744,1.2487878728791926,1.416641509201931,1.3507519692279868,1.2212153755926023,1.573742783387054,1.4702687159932877,1.3780321596337757,1.2652293270891126,1.80053891380529,1.403927547840262,1.0950912084371505,1.4965481020399634,1.2884126546935073,1.9356312415934387,0.9745514027141228,1.2144689572824163,1.2905416306681152,1.381392269007231,2.013462038628087,1.424709322897201,1.3538229869579352,1.3872618621871995,1.733871716865944,1.1163097629225094,1.3079152479370533,1.2345492626549923,1.4439088505573687,1.814908345230891,1.296924976748027,1.492171237705631,1.3769464400216378,1.3294502355692477,0.9896769238313184,1.3615432662467404,1.5165684908034809,1.1661560937380595,1.5856323153512626,1.501240913315342,1.3141345972418088,1.446420034751052,1.8126171345117936,1.2735131396370047,1.3751590367831272,1.0608107289589603,1.314599207756073,1.256012655470395,1.1324146076935255,1.5524229072493207,1.7129009010338176,0.9684851686023418,1.3629199694550935,1.4173057464376042,1.5224393649771286,1.6848549844057732,1.760018371522247,1.5427858073418492,0.8651946073601339,1.150241592856842,1.2992876833664615,1.2224860893195204,1.6348195017100786,1.9492345170928145,1.4630239370206377,1.5103313272760095,1.177911511953522,1.1756518010766543,0.8633154906676438,1.151949678779569,0.9795916894883429,2.0485339894682606,1.642907544606916,1.854205642154925,1.2320508971589064,1.5614792843529388,1.121537724047564,1.2541185777800177,1.5892088472018393,1.4073105055444828,1.5837368629463355,0.8891641177664427,1.155253989500469,1.910371199451676,1.5619090650255771,1.9178040939500087,1.2004263271448277,1.4080471949497384,1.5538325291281876,1.3246317627946376,1.4061836361533164,1.543170342402478,1.3328953402611547,1.5561230750262258,1.609814555670994,1.1541293807291673,1.400922807489123,1.32978266824973,1.5839073785946485,1.5884099819294832,1.6267633537447015,1.575002975969564,1.2250015461748198,1.2199380251545473,1.303501540310147,0.7337240906533973,1.840282611219004,1.393190388957003,1.073537687430701,1.2143520753746804,1.7235510272642818,1.5669545970513865,1.266719345359495,1.3058611638591655,1.5058334410792866,1.1777194031265754,1.6669976097503147,1.3340406691534357,1.480949682602568,1.4035550748706398,1.689912966729907,1.4771427997206876,1.2057872356507555,1.2219665514705986,1.080607719636975,1.4182996530092442,1.7438108408608994,1.9110047531513308,1.3398741218512198,1.775993649850784,1.2205991534252176,1.4404392572632492,1.0984621293830392,1.4677018719805692,1.1624181520287629,1.371691470086288,1.3655429955112144,1.6718419055372322,1.6282283722093598,1.4371795834553156,1.4903234121802251,1.4101468111581892,1.2513472704808697,1.8446528541731335,1.6823816425770075,1.4454347149503588,1.3701712406584483,1.6225515289618275,1.9910121215862584,1.4018334577184632,1.535738591371077,1.438926703614262,1.3342014610770934],\"z\":[0.4860751062823857,0.4277149283426977,0.6348558741978959,0.4514268882070778,0.4905065904090379,0.5530472453062922,0.5482540237866939,0.4097431342770525,0.5054211800350973,0.5330040134917975,0.3210169541045222,0.648140117959005,0.4450281697950384,0.6442043194810276,0.4540284769266546,0.4015952032757779,0.4343763120279354,0.3908321675479778,0.6865356209137452,0.4899333493334633,0.5091985362416546,0.4996792699351104,0.4924677557440216,0.5975216410105247,0.5351626396175269,0.500900608160962,0.420196256573877,0.3961235315123567,0.4192865405590821,0.5175397561073667,0.565847631652746,0.5952671873290399,0.3964157605967321,0.6155199702836662,0.4364985015173338,0.4511448427386081,0.5655779617870745,0.3974767100008888,0.6227836783573186,0.3011157785216053,0.4678870844374582,0.4955230258249598,0.3927201361843828,0.5444801568802002,0.3893310399324709,0.4055609472891235,0.6058663719426272,0.3302342761734163,0.3850053907330201,0.5471468656963675,0.4324258526590696,0.4810079228628337,0.5445490804640793,0.4832768633308348,0.4501020435207449,0.733008985373136,0.5574591772425765,0.4240877577095524,0.5386032964295798,0.336428274677262,0.5165641577757678,0.5907512215916529,0.4516439371848003,0.7204474396428583,0.5757947779534128,0.4889029312996828,0.574363978665426,0.629078597548437,0.5286818149083129,0.5413288838280934,0.4251765227376976,0.3606456383355279,0.354194420513145,0.5326613178797511,0.6096460636950857,0.4463560749572159,0.4447285478872766,0.6612533751902999,0.5319437137693915,0.4942609379694074,0.4247464075978913,0.4991720573384976,0.4957734031439463,0.6707727569260294,0.4930163780021531,0.343158334803849,0.5878442421778485,0.5466017805213406,0.4632998276719863,0.6414987502469612,0.4923354972502426,0.4985797679983818,0.6041146177014511,0.4232256722870099,0.5624642057683316,0.3785748265553905,0.5406130973405341,0.5063532145268057,0.4521260834070168,0.6316578972694127,0.420084196523003,0.4124999754065877,0.4770444556717336,0.5733273115514135,0.536700201592878,0.3820852821786339,0.4982649159100468,0.5787762266403365,0.3453111163980585,0.5371607351471194,0.3880518634729683,0.5428039122669484,0.5311080878294842,0.3673659026659128,0.4308958198428124,0.5431005741875684,0.5736675949876512,0.5235272919866114,0.5965035592822624,0.4495321330930263,0.5058161109964651,0.5483014110646455,0.4559456098676654,0.6307315492949416,0.4703248633427546,0.3771165136533251,0.5235839585555266,0.5046179954465079,0.3757067723707535,0.4554479916518282,0.354282969306622,0.3168139681449886,0.3919582331615427,0.4302074312101496,0.5074707054202005,0.3331517632838955,0.5253243858511892,0.4152661906010521,0.5045557204939086,0.4765476136924134,0.5951045433255192,0.6207241367046152,0.5231206346767865,0.6006387348367472,0.6186416686952904,0.5566065008506154,0.431884827965145,0.5881263553411805,0.6561911365431712,0.3123805277065911,0.3908888074817669,0.3285945149419905,0.39094277717751,0.3353808833565629,0.4908725753825009,0.3977324139221122,0.5255708224970304,0.4931832276587728,0.4212400625163133,0.6226199930973826,0.5834423957543659,0.4599184667707867,0.8101699414340096,0.5266884871520778,0.5642494366808641,0.4590639959971073,0.4301368806069869,0.6380296634845776,0.5245230118154134,0.5301526499578022,0.3778913268627702,0.4568207416639145,0.5945806654071756,0.4632881529509319,0.3693179827375365,0.3907918883349101,0.4274643038573938,0.5271435196322282,0.5409040896027407,0.4686249836285924,0.3456550871345817,0.547664254892288,0.3445654343848804,0.444595824000275,0.4505492292360255,0.5790611365092331,0.5419728530599764,0.4272545743671764,0.2898431424405676,0.4101786166653112,0.5086761550000374,0.4844813132719881,0.4973621476055437,0.5523764927958115,0.5151172034021533,0.5603587033935064,0.5547785072759327,0.4783134211796994,0.3973886565647848,0.6657417931274324,0.5081144164374679,0.6864557193494426,0.5226799377963425,0.4813054261516857,0.5781263545394493,0.5826209811421744,0.5859034150387804,0.5500239355043894,0.6371739150952188,0.4396153372820585,0.6327985449050273,0.5258763008773714,0.4190609400371605,0.5534648985201497,0.4369490434449885,0.5543231043712179,0.4299367370743322,0.5543377786894795,0.3642726053439985,0.491938937388322,0.5723281821940625,0.4516147002917514,0.42780730008786,0.4933261224809138,0.2786185193071442,0.6493622088512728,0.4758446548773901,0.4670421476471085,0.4887024348761146,0.6894460330629198,0.4323595838645237,0.5772025224068196,0.4153595327984159,0.6636149562618368,0.5145012494087977,0.5885713039159108,0.5103221062719906,0.614293343645815,0.3806254045870068,0.4427063585412195,0.5478177715530945,0.537882421489683,0.5533312112657957,0.5253659509780233,0.5857919197548345,0.6270569825272717,0.3918988534307984,0.4806571587685095,0.4118695601645153,0.6392889277081105,0.534843922009925,0.529744756717441,0.348774381529201,0.6461302240763179,0.4968814708615361,0.3842801664013466,0.44551571941475,0.4630539712796634,0.4557207542718395,0.5675879001686451,0.4476495420378051,0.4353576091000289,0.590351369900588,0.6002062841094744,0.5150058487451576,0.4167807348914755,0.5706833058055704,0.5337699879737094,0.6146229856071013,0.5050753416272634,0.3783661243574716,0.4465534126374175,0.4930376940850806,0.4304538142707011,0.5041972973219833,0.4977350027188095,0.6086556601629662,0.5714358545545503,0.5030771595487045,0.5188597082861666,0.4972082496965694,0.5561934162856158,0.5070528937264266,0.478043179516419,0.521021200864969,0.4494346306521594,0.4931318245825255,0.4221748120672334,0.578100973990226,0.6062137267018025,0.4946216840585392,0.5163149432829491,0.4073553169543547,0.366429351946868,0.5690323307847167,0.5634982978622237,0.6074277518224867,0.4656932015534746,0.49377374065192,0.3449465339935424,0.5050081854266308,0.5243797165785797,0.3628001421545221,0.5034793040238884,0.4467240601706982,0.5057618137932622,0.4986363417192571,0.5605423731838669,0.5409949647795989,0.6342398089049561,0.3452826576449719,0.4974544660773012,0.6147640885240033,0.5500163335389286,0.3825987148664546,0.4439947163708048,0.5401799070742552,0.4985896541237747,0.6640695014339308,0.4987124553088014,0.501078553607192,0.5806731927219472,0.4411041438571595,0.4291720619782531,0.4946571958608438,0.5203379034997337,0.4132242684989981,0.5742773804308834,0.549262903918579,0.5820901412897294,0.5450520107847784,0.5730259968683782,0.6770683752782838,0.5720306338029142,0.5913628264939423,0.4583706512244018,0.4630546280838592,0.5327924617784784,0.521879951114676,0.3673281175972251,0.5371772740941133,0.3504145961117734,0.4077745840123177,0.5529418308649292,0.5460561557519441,0.4483397751388329,0.5532585917239117,0.5146505656082784,0.4326422225772353,0.369343156212545,0.4134896779677436,0.4256311511705655,0.4402910067735942,0.4911922291092673,0.5026373392881343,0.4932126832450578,0.5323622358934879,0.4880268952589824,0.4473589828154616,0.4240958974753623,0.5003387623975812,0.4867768218966584,0.5798379457776639,0.5996954323955168,0.4475509430538832,0.4889651634653511,0.6189046033939999,0.5725318601925201,0.5558954209703737,0.5355977334840563,0.4082238547237813,0.402763792043468,0.5106307645992084,0.3370800622650766,0.5238044322322873,0.4103696858721231,0.4883043250679248,0.3588566214648032,0.6452973833332413,0.5362813175931461,0.5814413215093471,0.5544980644263087,0.5202168644650824,0.603632638962436,0.4812344044090567,0.5001668479467694,0.5542961067590214,0.5714652695875176,0.4487211717334946,0.5288680373956294,0.4864510359334597,0.4787829057559499,0.6266858165771121,0.450647998502926,0.4149154712136997,0.611693269006264,0.4717702705281347,0.6271121196565906,0.4689863385130657,0.469854248998733,0.6237582345369396,0.4896017261535725,0.4611378829731356,0.5218059986125947,0.5777672477997262,0.5321906508758472,0.4070697466508973,0.6059766975496101,0.3600115754826627,0.4940580665191723,0.435462812116981,0.4693270502362724,0.5171369718280289,0.5675955123299021,0.5044726325207602,0.4146712828556727,0.5118897289521332,0.3945047077496113,0.4863895446008672,0.5763123157294352,0.4635152434442492,0.5778208463694767,0.5121336435320637,0.5634609678150233,0.7191012069059854,0.5988735932095188,0.561991649410755,0.5557895253441375,0.5433486252211365,0.4756130960258674,0.358744415280104,0.4048762006421025,0.4536166520683495,0.3800546486015545,0.4192761625607462,0.4482938619234279,0.3376445523771586,0.352813999303169,0.6294502463086841,0.515864477304009,0.548407810854036,0.5134237062113424,0.596689359479243,0.5282965734162965,0.5658681037723622,0.511419828277685,0.5003977521507958,0.6100507728409572,0.4976532565265487,0.6291515699824434,0.4428170556267127,0.5987663506444127,0.4571971473180281,0.6965161660644525,0.5484490481518416,0.598596983450892,0.6104255918817462,0.5856276457576454,0.4118645716550598,0.395891362457766,0.464599885713142,0.5139606972157429,0.579210296811527,0.6152784257728945,0.5178232629380533,0.6755900381551785,0.560933181296405,0.5876196208607732,0.6071325065471459,0.532905357098456,0.4020272651502207,0.4177743938937457,0.3373113788402929,0.4253937984576847,0.3860112432703004,0.6162646427901877,0.4607066856220987,0.5060287163028097,0.4411964302302496,0.5795945722466899,0.6578968079711912,0.634125968993557,0.7111707344397722,0.4627629946860762,0.5815452862064061,0.4096632750523711,0.501821382655583,0.3818068300935412,0.4423300690149639,0.4635143154602174,0.5290299378961538,0.5107301526038628,0.5402951817123465,0.4326243988973594,0.5385411886123955,0.4234094172259375,0.4719523444190689,0.4481336768479651,0.5488134517489278,0.3883674905463812],\"type\":\"scatter3d\",\"scene\":\"scene4\"}],                        {\"template\":{\"data\":{\"histogram2dcontour\":[{\"type\":\"histogram2dcontour\",\"colorbar\":{\"outlinewidth\":0,\"ticks\":\"\"},\"colorscale\":[[0.0,\"#0d0887\"],[0.1111111111111111,\"#46039f\"],[0.2222222222222222,\"#7201a8\"],[0.3333333333333333,\"#9c179e\"],[0.4444444444444444,\"#bd3786\"],[0.5555555555555556,\"#d8576b\"],[0.6666666666666666,\"#ed7953\"],[0.7777777777777778,\"#fb9f3a\"],[0.8888888888888888,\"#fdca26\"],[1.0,\"#f0f921\"]]}],\"choropleth\":[{\"type\":\"choropleth\",\"colorbar\":{\"outlinewidth\":0,\"ticks\":\"\"}}],\"histogram2d\":[{\"type\":\"histogram2d\",\"colorbar\":{\"outlinewidth\":0,\"ticks\":\"\"},\"colorscale\":[[0.0,\"#0d0887\"],[0.1111111111111111,\"#46039f\"],[0.2222222222222222,\"#7201a8\"],[0.3333333333333333,\"#9c179e\"],[0.4444444444444444,\"#bd3786\"],[0.5555555555555556,\"#d8576b\"],[0.6666666666666666,\"#ed7953\"],[0.7777777777777778,\"#fb9f3a\"],[0.8888888888888888,\"#fdca26\"],[1.0,\"#f0f921\"]]}],\"heatmap\":[{\"type\":\"heatmap\",\"colorbar\":{\"outlinewidth\":0,\"ticks\":\"\"},\"colorscale\":[[0.0,\"#0d0887\"],[0.1111111111111111,\"#46039f\"],[0.2222222222222222,\"#7201a8\"],[0.3333333333333333,\"#9c179e\"],[0.4444444444444444,\"#bd3786\"],[0.5555555555555556,\"#d8576b\"],[0.6666666666666666,\"#ed7953\"],[0.7777777777777778,\"#fb9f3a\"],[0.8888888888888888,\"#fdca26\"],[1.0,\"#f0f921\"]]}],\"heatmapgl\":[{\"type\":\"heatmapgl\",\"colorbar\":{\"outlinewidth\":0,\"ticks\":\"\"},\"colorscale\":[[0.0,\"#0d0887\"],[0.1111111111111111,\"#46039f\"],[0.2222222222222222,\"#7201a8\"],[0.3333333333333333,\"#9c179e\"],[0.4444444444444444,\"#bd3786\"],[0.5555555555555556,\"#d8576b\"],[0.6666666666666666,\"#ed7953\"],[0.7777777777777778,\"#fb9f3a\"],[0.8888888888888888,\"#fdca26\"],[1.0,\"#f0f921\"]]}],\"contourcarpet\":[{\"type\":\"contourcarpet\",\"colorbar\":{\"outlinewidth\":0,\"ticks\":\"\"}}],\"contour\":[{\"type\":\"contour\",\"colorbar\":{\"outlinewidth\":0,\"ticks\":\"\"},\"colorscale\":[[0.0,\"#0d0887\"],[0.1111111111111111,\"#46039f\"],[0.2222222222222222,\"#7201a8\"],[0.3333333333333333,\"#9c179e\"],[0.4444444444444444,\"#bd3786\"],[0.5555555555555556,\"#d8576b\"],[0.6666666666666666,\"#ed7953\"],[0.7777777777777778,\"#fb9f3a\"],[0.8888888888888888,\"#fdca26\"],[1.0,\"#f0f921\"]]}],\"surface\":[{\"type\":\"surface\",\"colorbar\":{\"outlinewidth\":0,\"ticks\":\"\"},\"colorscale\":[[0.0,\"#0d0887\"],[0.1111111111111111,\"#46039f\"],[0.2222222222222222,\"#7201a8\"],[0.3333333333333333,\"#9c179e\"],[0.4444444444444444,\"#bd3786\"],[0.5555555555555556,\"#d8576b\"],[0.6666666666666666,\"#ed7953\"],[0.7777777777777778,\"#fb9f3a\"],[0.8888888888888888,\"#fdca26\"],[1.0,\"#f0f921\"]]}],\"mesh3d\":[{\"type\":\"mesh3d\",\"colorbar\":{\"outlinewidth\":0,\"ticks\":\"\"}}],\"scatter\":[{\"fillpattern\":{\"fillmode\":\"overlay\",\"size\":10,\"solidity\":0.2},\"type\":\"scatter\"}],\"parcoords\":[{\"type\":\"parcoords\",\"line\":{\"colorbar\":{\"outlinewidth\":0,\"ticks\":\"\"}}}],\"scatterpolargl\":[{\"type\":\"scatterpolargl\",\"marker\":{\"colorbar\":{\"outlinewidth\":0,\"ticks\":\"\"}}}],\"bar\":[{\"error_x\":{\"color\":\"#2a3f5f\"},\"error_y\":{\"color\":\"#2a3f5f\"},\"marker\":{\"line\":{\"color\":\"#E5ECF6\",\"width\":0.5},\"pattern\":{\"fillmode\":\"overlay\",\"size\":10,\"solidity\":0.2}},\"type\":\"bar\"}],\"scattergeo\":[{\"type\":\"scattergeo\",\"marker\":{\"colorbar\":{\"outlinewidth\":0,\"ticks\":\"\"}}}],\"scatterpolar\":[{\"type\":\"scatterpolar\",\"marker\":{\"colorbar\":{\"outlinewidth\":0,\"ticks\":\"\"}}}],\"histogram\":[{\"marker\":{\"pattern\":{\"fillmode\":\"overlay\",\"size\":10,\"solidity\":0.2}},\"type\":\"histogram\"}],\"scattergl\":[{\"type\":\"scattergl\",\"marker\":{\"colorbar\":{\"outlinewidth\":0,\"ticks\":\"\"}}}],\"scatter3d\":[{\"type\":\"scatter3d\",\"line\":{\"colorbar\":{\"outlinewidth\":0,\"ticks\":\"\"}},\"marker\":{\"colorbar\":{\"outlinewidth\":0,\"ticks\":\"\"}}}],\"scattermapbox\":[{\"type\":\"scattermapbox\",\"marker\":{\"colorbar\":{\"outlinewidth\":0,\"ticks\":\"\"}}}],\"scatterternary\":[{\"type\":\"scatterternary\",\"marker\":{\"colorbar\":{\"outlinewidth\":0,\"ticks\":\"\"}}}],\"scattercarpet\":[{\"type\":\"scattercarpet\",\"marker\":{\"colorbar\":{\"outlinewidth\":0,\"ticks\":\"\"}}}],\"carpet\":[{\"aaxis\":{\"endlinecolor\":\"#2a3f5f\",\"gridcolor\":\"white\",\"linecolor\":\"white\",\"minorgridcolor\":\"white\",\"startlinecolor\":\"#2a3f5f\"},\"baxis\":{\"endlinecolor\":\"#2a3f5f\",\"gridcolor\":\"white\",\"linecolor\":\"white\",\"minorgridcolor\":\"white\",\"startlinecolor\":\"#2a3f5f\"},\"type\":\"carpet\"}],\"table\":[{\"cells\":{\"fill\":{\"color\":\"#EBF0F8\"},\"line\":{\"color\":\"white\"}},\"header\":{\"fill\":{\"color\":\"#C8D4E3\"},\"line\":{\"color\":\"white\"}},\"type\":\"table\"}],\"barpolar\":[{\"marker\":{\"line\":{\"color\":\"#E5ECF6\",\"width\":0.5},\"pattern\":{\"fillmode\":\"overlay\",\"size\":10,\"solidity\":0.2}},\"type\":\"barpolar\"}],\"pie\":[{\"automargin\":true,\"type\":\"pie\"}]},\"layout\":{\"autotypenumbers\":\"strict\",\"colorway\":[\"#636efa\",\"#EF553B\",\"#00cc96\",\"#ab63fa\",\"#FFA15A\",\"#19d3f3\",\"#FF6692\",\"#B6E880\",\"#FF97FF\",\"#FECB52\"],\"font\":{\"color\":\"#2a3f5f\"},\"hovermode\":\"closest\",\"hoverlabel\":{\"align\":\"left\"},\"paper_bgcolor\":\"white\",\"plot_bgcolor\":\"#E5ECF6\",\"polar\":{\"bgcolor\":\"#E5ECF6\",\"angularaxis\":{\"gridcolor\":\"white\",\"linecolor\":\"white\",\"ticks\":\"\"},\"radialaxis\":{\"gridcolor\":\"white\",\"linecolor\":\"white\",\"ticks\":\"\"}},\"ternary\":{\"bgcolor\":\"#E5ECF6\",\"aaxis\":{\"gridcolor\":\"white\",\"linecolor\":\"white\",\"ticks\":\"\"},\"baxis\":{\"gridcolor\":\"white\",\"linecolor\":\"white\",\"ticks\":\"\"},\"caxis\":{\"gridcolor\":\"white\",\"linecolor\":\"white\",\"ticks\":\"\"}},\"coloraxis\":{\"colorbar\":{\"outlinewidth\":0,\"ticks\":\"\"}},\"colorscale\":{\"sequential\":[[0.0,\"#0d0887\"],[0.1111111111111111,\"#46039f\"],[0.2222222222222222,\"#7201a8\"],[0.3333333333333333,\"#9c179e\"],[0.4444444444444444,\"#bd3786\"],[0.5555555555555556,\"#d8576b\"],[0.6666666666666666,\"#ed7953\"],[0.7777777777777778,\"#fb9f3a\"],[0.8888888888888888,\"#fdca26\"],[1.0,\"#f0f921\"]],\"sequentialminus\":[[0.0,\"#0d0887\"],[0.1111111111111111,\"#46039f\"],[0.2222222222222222,\"#7201a8\"],[0.3333333333333333,\"#9c179e\"],[0.4444444444444444,\"#bd3786\"],[0.5555555555555556,\"#d8576b\"],[0.6666666666666666,\"#ed7953\"],[0.7777777777777778,\"#fb9f3a\"],[0.8888888888888888,\"#fdca26\"],[1.0,\"#f0f921\"]],\"diverging\":[[0,\"#8e0152\"],[0.1,\"#c51b7d\"],[0.2,\"#de77ae\"],[0.3,\"#f1b6da\"],[0.4,\"#fde0ef\"],[0.5,\"#f7f7f7\"],[0.6,\"#e6f5d0\"],[0.7,\"#b8e186\"],[0.8,\"#7fbc41\"],[0.9,\"#4d9221\"],[1,\"#276419\"]]},\"xaxis\":{\"gridcolor\":\"white\",\"linecolor\":\"white\",\"ticks\":\"\",\"title\":{\"standoff\":15},\"zerolinecolor\":\"white\",\"automargin\":true,\"zerolinewidth\":2},\"yaxis\":{\"gridcolor\":\"white\",\"linecolor\":\"white\",\"ticks\":\"\",\"title\":{\"standoff\":15},\"zerolinecolor\":\"white\",\"automargin\":true,\"zerolinewidth\":2},\"scene\":{\"xaxis\":{\"backgroundcolor\":\"#E5ECF6\",\"gridcolor\":\"white\",\"linecolor\":\"white\",\"showbackground\":true,\"ticks\":\"\",\"zerolinecolor\":\"white\",\"gridwidth\":2},\"yaxis\":{\"backgroundcolor\":\"#E5ECF6\",\"gridcolor\":\"white\",\"linecolor\":\"white\",\"showbackground\":true,\"ticks\":\"\",\"zerolinecolor\":\"white\",\"gridwidth\":2},\"zaxis\":{\"backgroundcolor\":\"#E5ECF6\",\"gridcolor\":\"white\",\"linecolor\":\"white\",\"showbackground\":true,\"ticks\":\"\",\"zerolinecolor\":\"white\",\"gridwidth\":2}},\"shapedefaults\":{\"line\":{\"color\":\"#2a3f5f\"}},\"annotationdefaults\":{\"arrowcolor\":\"#2a3f5f\",\"arrowhead\":0,\"arrowwidth\":1},\"geo\":{\"bgcolor\":\"white\",\"landcolor\":\"#E5ECF6\",\"subunitcolor\":\"white\",\"showland\":true,\"showlakes\":true,\"lakecolor\":\"white\"},\"title\":{\"x\":0.05},\"mapbox\":{\"style\":\"light\"}}},\"scene\":{\"domain\":{\"x\":[0.0,0.45],\"y\":[0.625,1.0]},\"xaxis\":{\"title\":{\"text\":\"generationtime\"}},\"yaxis\":{\"title\":{\"text\":\"growth_rate\"}},\"zaxis\":{\"title\":{\"text\":\"division_ratio\"}}},\"scene2\":{\"domain\":{\"x\":[0.55,1.0],\"y\":[0.625,1.0]},\"xaxis\":{\"title\":{\"text\":\"generationtime\"}},\"yaxis\":{\"title\":{\"text\":\"growth_rate\"}},\"zaxis\":{\"title\":{\"text\":\"division_ratio\"}}},\"scene3\":{\"domain\":{\"x\":[0.0,0.45],\"y\":[0.0,0.375]},\"xaxis\":{\"title\":{\"text\":\"generationtime\"}},\"yaxis\":{\"title\":{\"text\":\"growth_rate\"}},\"zaxis\":{\"title\":{\"text\":\"division_ratio\"}}},\"scene4\":{\"domain\":{\"x\":[0.55,1.0],\"y\":[0.0,0.375]},\"xaxis\":{\"title\":{\"text\":\"generationtime\"}},\"yaxis\":{\"title\":{\"text\":\"growth_rate\"}},\"zaxis\":{\"title\":{\"text\":\"division_ratio\"}}},\"annotations\":[{\"font\":{\"size\":16},\"showarrow\":false,\"text\":\"Real data\",\"x\":0.225,\"xanchor\":\"center\",\"xref\":\"paper\",\"y\":1.0,\"yanchor\":\"bottom\",\"yref\":\"paper\"},{\"font\":{\"size\":16},\"showarrow\":false,\"text\":\"Linear model\",\"x\":0.775,\"xanchor\":\"center\",\"xref\":\"paper\",\"y\":1.0,\"yanchor\":\"bottom\",\"yref\":\"paper\"},{\"font\":{\"size\":16},\"showarrow\":false,\"text\":\"Cut-off model\",\"x\":0.225,\"xanchor\":\"center\",\"xref\":\"paper\",\"y\":0.375,\"yanchor\":\"bottom\",\"yref\":\"paper\"},{\"font\":{\"size\":16},\"showarrow\":false,\"text\":\"Protein model\",\"x\":0.775,\"xanchor\":\"center\",\"xref\":\"paper\",\"y\":0.375,\"yanchor\":\"bottom\",\"yref\":\"paper\"}],\"title\":{\"text\":\"3d scatter plots comparison\"},\"showlegend\":false,\"width\":1000,\"height\":1000},                        {\"responsive\": true}                    ).then(function(){\n                            \nvar gd = document.getElementById('ea0592ce-4fbc-47ef-ae87-07138f3b3c65');\nvar x = new MutationObserver(function (mutations, observer) {{\n        var display = window.getComputedStyle(gd).display;\n        if (!display || display === 'none') {{\n            console.log([gd, 'removed!']);\n            Plotly.purge(gd);\n            observer.disconnect();\n        }}\n}});\n\n// Listen for the removal of the full notebook cells\nvar notebookContainer = gd.closest('#notebook-container');\nif (notebookContainer) {{\n    x.observe(notebookContainer, {childList: true});\n}}\n\n// Listen for the clearing of the current output cell\nvar outputEl = gd.closest('.output');\nif (outputEl) {{\n    x.observe(outputEl, {childList: true});\n}}\n\n                        })                };                            </script>        </div>\n</body>\n</html>"
     },
     "metadata": {},
     "output_type": "display_data"
    }
   ]
  },
  {
   "cell_type": "markdown",
   "source": "From the 3D Scatter Plots above and the Pairplots below, we can see that in the Real case, apart from some outliers, data are highly concentrated forming a sort of 2-dimensional manifold.\n\nIn the models analyzed, data are more widespread in space, with the exception of the Protein Model, where the parameters have \"less variability\": this can be the first mark that this model better describes what happens in reality. ",
   "metadata": {
    "cell_id": "ae9b0ef62b4f4857bc619ba38bdd1253",
    "tags": [],
    "deepnote_cell_type": "markdown",
    "deepnote_cell_height": 155.984375
   }
  },
  {
   "cell_type": "markdown",
   "source": "## Pairplots\n\n| Real data                            | Model 0: simulation results        |\n|:------------------------------------:|:----------------------------------:|\n| ![img](images/pairplot_realdata.png) | ![img](images/pairplot_model0.png) |\n\n| Model 1: simulation results          | Model 2: simulation results        |\n|:------------------------------------:|:----------------------------------:|\n| ![img](images/pairplot_model1.png)   | ![img](images/pairplot_model2.png) |\n",
   "metadata": {
    "cell_id": "2ac27b6f9f094deaa11fea41435e0f5f",
    "tags": [],
    "deepnote_cell_type": "markdown",
    "deepnote_cell_height": 979.59375
   }
  },
  {
   "cell_type": "markdown",
   "source": "## Boxplot of the inter-division times",
   "metadata": {
    "cell_id": "ba7f85467ffc425abf58ad910fa0fe4c",
    "tags": [],
    "deepnote_cell_type": "markdown",
    "deepnote_cell_height": 70
   }
  },
  {
   "cell_type": "code",
   "metadata": {
    "cell_id": "2e3316e570e14835a6b3bb7184240091",
    "tags": [],
    "deepnote_to_be_reexecuted": false,
    "source_hash": "90c8903f",
    "execution_start": 1655386094296,
    "execution_millis": 134,
    "deepnote_cell_type": "code",
    "deepnote_cell_height": 618
   },
   "source": "df_timeseries = pd.read_csv('./data/timeseries.csv')\ndisplay(df_timeseries)",
   "execution_count": 12,
   "outputs": [
    {
     "data": {
      "application/vnd.deepnote.dataframe.v3+json": {
       "column_count": 4,
       "row_count": 251,
       "columns": [
        {
         "name": "real_data",
         "dtype": "float64",
         "stats": {
          "unique_count": 53,
          "nan_count": 0,
          "min": "0.0833333333333286",
          "max": "1.33333333333333",
          "histogram": [
           {
            "bin_start": 0.0833333333333286,
            "bin_end": 0.20833333333332874,
            "count": 7
           },
           {
            "bin_start": 0.20833333333332874,
            "bin_end": 0.3333333333333289,
            "count": 6
           },
           {
            "bin_start": 0.3333333333333289,
            "bin_end": 0.45833333333332904,
            "count": 62
           },
           {
            "bin_start": 0.45833333333332904,
            "bin_end": 0.5833333333333292,
            "count": 97
           },
           {
            "bin_start": 0.5833333333333292,
            "bin_end": 0.7083333333333293,
            "count": 61
           },
           {
            "bin_start": 0.7083333333333293,
            "bin_end": 0.8333333333333295,
            "count": 13
           },
           {
            "bin_start": 0.8333333333333295,
            "bin_end": 0.9583333333333296,
            "count": 2
           },
           {
            "bin_start": 0.9583333333333296,
            "bin_end": 1.0833333333333297,
            "count": 1
           },
           {
            "bin_start": 1.0833333333333297,
            "bin_end": 1.20833333333333,
            "count": 1
           },
           {
            "bin_start": 1.20833333333333,
            "bin_end": 1.33333333333333,
            "count": 1
           }
          ]
         }
        },
        {
         "name": "starting_model",
         "dtype": "float64",
         "stats": {
          "unique_count": 251,
          "nan_count": 0,
          "min": "0.0081590050148481",
          "max": "1.708186241880907",
          "histogram": [
           {
            "bin_start": 0.0081590050148481,
            "bin_end": 0.178161728701454,
            "count": 72
           },
           {
            "bin_start": 0.178161728701454,
            "bin_end": 0.34816445238805993,
            "count": 52
           },
           {
            "bin_start": 0.34816445238805993,
            "bin_end": 0.5181671760746658,
            "count": 42
           },
           {
            "bin_start": 0.5181671760746658,
            "bin_end": 0.6881698997612717,
            "count": 28
           },
           {
            "bin_start": 0.6881698997612717,
            "bin_end": 0.8581726234478777,
            "count": 23
           },
           {
            "bin_start": 0.8581726234478777,
            "bin_end": 1.0281753471344834,
            "count": 19
           },
           {
            "bin_start": 1.0281753471344834,
            "bin_end": 1.1981780708210894,
            "count": 10
           },
           {
            "bin_start": 1.1981780708210894,
            "bin_end": 1.3681807945076954,
            "count": 2
           },
           {
            "bin_start": 1.3681807945076954,
            "bin_end": 1.5381835181943013,
            "count": 0
           },
           {
            "bin_start": 1.5381835181943013,
            "bin_end": 1.708186241880907,
            "count": 3
           }
          ]
         }
        },
        {
         "name": "model_1",
         "dtype": "float64",
         "stats": {
          "unique_count": 251,
          "nan_count": 0,
          "min": "0.0093767099261457",
          "max": "2.4443094732831865",
          "histogram": [
           {
            "bin_start": 0.0093767099261457,
            "bin_end": 0.25286998626184976,
            "count": 90
           },
           {
            "bin_start": 0.25286998626184976,
            "bin_end": 0.4963632625975538,
            "count": 53
           },
           {
            "bin_start": 0.4963632625975538,
            "bin_end": 0.7398565389332579,
            "count": 38
           },
           {
            "bin_start": 0.7398565389332579,
            "bin_end": 0.9833498152689619,
            "count": 33
           },
           {
            "bin_start": 0.9833498152689619,
            "bin_end": 1.226843091604666,
            "count": 18
           },
           {
            "bin_start": 1.226843091604666,
            "bin_end": 1.47033636794037,
            "count": 13
           },
           {
            "bin_start": 1.47033636794037,
            "bin_end": 1.713829644276074,
            "count": 2
           },
           {
            "bin_start": 1.713829644276074,
            "bin_end": 1.9573229206117781,
            "count": 1
           },
           {
            "bin_start": 1.9573229206117781,
            "bin_end": 2.2008161969474824,
            "count": 1
           },
           {
            "bin_start": 2.2008161969474824,
            "bin_end": 2.4443094732831865,
            "count": 2
           }
          ]
         }
        },
        {
         "name": "model_2",
         "dtype": "float64",
         "stats": {
          "unique_count": 251,
          "nan_count": 0,
          "min": "0.1129790860097895",
          "max": "1.591360954117074",
          "histogram": [
           {
            "bin_start": 0.1129790860097895,
            "bin_end": 0.2608172728205179,
            "count": 41
           },
           {
            "bin_start": 0.2608172728205179,
            "bin_end": 0.4086554596312464,
            "count": 72
           },
           {
            "bin_start": 0.4086554596312464,
            "bin_end": 0.5564936464419747,
            "count": 39
           },
           {
            "bin_start": 0.5564936464419747,
            "bin_end": 0.7043318332527032,
            "count": 40
           },
           {
            "bin_start": 0.7043318332527032,
            "bin_end": 0.8521700200634317,
            "count": 33
           },
           {
            "bin_start": 0.8521700200634317,
            "bin_end": 1.00000820687416,
            "count": 14
           },
           {
            "bin_start": 1.00000820687416,
            "bin_end": 1.1478463936848886,
            "count": 9
           },
           {
            "bin_start": 1.1478463936848886,
            "bin_end": 1.295684580495617,
            "count": 0
           },
           {
            "bin_start": 1.295684580495617,
            "bin_end": 1.4435227673063453,
            "count": 1
           },
           {
            "bin_start": 1.4435227673063453,
            "bin_end": 1.591360954117074,
            "count": 2
           }
          ]
         }
        },
        {
         "name": "_deepnote_index_column",
         "dtype": "int64"
        }
       ],
       "rows": [
        {
         "real_data": 0.5,
         "starting_model": 0.2557870145260879,
         "model_1": 0.236085751385539,
         "model_2": 0.3922680605693658,
         "_deepnote_index_column": 0
        },
        {
         "real_data": 0.416666666666667,
         "starting_model": 0.0646692109013131,
         "model_1": 0.0626199838373348,
         "model_2": 0.2157940810964195,
         "_deepnote_index_column": 1
        },
        {
         "real_data": 0.833333333333333,
         "starting_model": 0.411318726487179,
         "model_1": 0.4220294251690717,
         "model_2": 0.6563228369406429,
         "_deepnote_index_column": 2
        },
        {
         "real_data": 0.333333333333333,
         "starting_model": 1.1052710012150744,
         "model_1": 1.3739506611921248,
         "model_2": 0.9535987326754216,
         "_deepnote_index_column": 3
        },
        {
         "real_data": 0.416666666666667,
         "starting_model": 0.6222274855451023,
         "model_1": 0.7967318119063097,
         "model_2": 0.7414553987540449,
         "_deepnote_index_column": 4
        },
        {
         "real_data": 0.583333333333334,
         "starting_model": 0.4041832844734049,
         "model_1": 0.5064792835096588,
         "model_2": 0.581044871167152,
         "_deepnote_index_column": 5
        },
        {
         "real_data": 0.5,
         "starting_model": 0.7819442523336624,
         "model_1": 0.9796241844519504,
         "model_2": 0.8258016891210268,
         "_deepnote_index_column": 6
        },
        {
         "real_data": 0.583333333333334,
         "starting_model": 0.0627500952786479,
         "model_1": 0.0770014229821128,
         "model_2": 0.226593529014941,
         "_deepnote_index_column": 7
        },
        {
         "real_data": 0.666666666666667,
         "starting_model": 0.5251988023737679,
         "model_1": 0.6393792542232765,
         "model_2": 0.6093879642983467,
         "_deepnote_index_column": 8
        },
        {
         "real_data": 0.5,
         "starting_model": 0.1543331193542728,
         "model_1": 0.1876414949810977,
         "model_2": 0.284570773399529,
         "_deepnote_index_column": 9
        }
       ]
      },
      "text/plain": "     real_data  starting_model   model_1   model_2\n0     0.500000        0.255787  0.236086  0.392268\n1     0.416667        0.064669  0.062620  0.215794\n2     0.833333        0.411319  0.422029  0.656323\n3     0.333333        1.105271  1.373951  0.953599\n4     0.416667        0.622227  0.796732  0.741455\n..         ...             ...       ...       ...\n246   0.416667        0.368738  0.482821  0.407649\n247   0.500000        0.424626  0.546615  0.534430\n248   0.750000        1.030097  1.389950  0.937612\n249   0.333333        0.188717  0.242298  0.377916\n250   0.500000        0.656761  0.842164  0.762865\n\n[251 rows x 4 columns]",
      "text/html": "<div>\n<style scoped>\n    .dataframe tbody tr th:only-of-type {\n        vertical-align: middle;\n    }\n\n    .dataframe tbody tr th {\n        vertical-align: top;\n    }\n\n    .dataframe thead th {\n        text-align: right;\n    }\n</style>\n<table border=\"1\" class=\"dataframe\">\n  <thead>\n    <tr style=\"text-align: right;\">\n      <th></th>\n      <th>real_data</th>\n      <th>starting_model</th>\n      <th>model_1</th>\n      <th>model_2</th>\n    </tr>\n  </thead>\n  <tbody>\n    <tr>\n      <th>0</th>\n      <td>0.500000</td>\n      <td>0.255787</td>\n      <td>0.236086</td>\n      <td>0.392268</td>\n    </tr>\n    <tr>\n      <th>1</th>\n      <td>0.416667</td>\n      <td>0.064669</td>\n      <td>0.062620</td>\n      <td>0.215794</td>\n    </tr>\n    <tr>\n      <th>2</th>\n      <td>0.833333</td>\n      <td>0.411319</td>\n      <td>0.422029</td>\n      <td>0.656323</td>\n    </tr>\n    <tr>\n      <th>3</th>\n      <td>0.333333</td>\n      <td>1.105271</td>\n      <td>1.373951</td>\n      <td>0.953599</td>\n    </tr>\n    <tr>\n      <th>4</th>\n      <td>0.416667</td>\n      <td>0.622227</td>\n      <td>0.796732</td>\n      <td>0.741455</td>\n    </tr>\n    <tr>\n      <th>...</th>\n      <td>...</td>\n      <td>...</td>\n      <td>...</td>\n      <td>...</td>\n    </tr>\n    <tr>\n      <th>246</th>\n      <td>0.416667</td>\n      <td>0.368738</td>\n      <td>0.482821</td>\n      <td>0.407649</td>\n    </tr>\n    <tr>\n      <th>247</th>\n      <td>0.500000</td>\n      <td>0.424626</td>\n      <td>0.546615</td>\n      <td>0.534430</td>\n    </tr>\n    <tr>\n      <th>248</th>\n      <td>0.750000</td>\n      <td>1.030097</td>\n      <td>1.389950</td>\n      <td>0.937612</td>\n    </tr>\n    <tr>\n      <th>249</th>\n      <td>0.333333</td>\n      <td>0.188717</td>\n      <td>0.242298</td>\n      <td>0.377916</td>\n    </tr>\n    <tr>\n      <th>250</th>\n      <td>0.500000</td>\n      <td>0.656761</td>\n      <td>0.842164</td>\n      <td>0.762865</td>\n    </tr>\n  </tbody>\n</table>\n<p>251 rows × 4 columns</p>\n</div>"
     },
     "metadata": {},
     "output_type": "display_data"
    }
   ]
  },
  {
   "cell_type": "code",
   "metadata": {
    "cell_id": "a46060a2f131462ab728221ee1cb0d29",
    "tags": [],
    "deepnote_to_be_reexecuted": false,
    "source_hash": "4f36818e",
    "execution_start": 1655386094338,
    "execution_millis": 1351,
    "deepnote_cell_type": "code",
    "deepnote_cell_height": 1183.3125,
    "deepnote_output_heights": [
     492.328125
    ]
   },
   "source": "res = plot_funcs.boxplot(\n    y=[df_timeseries.iloc[:,0], df_timeseries.iloc[:,1], df_timeseries.iloc[:,2], df_timeseries.iloc[:,3]], \n    colors=['blue', 'C1','green', 'khaki'],  \n    title = 'Inter-division time comparison', \n    ylabel= 'Times', \n    xlabel='', x_font= 30, \n    labels=False \n)\n\nfig, ax, bp = res[0], res[1], res[2]\nax.set_xticklabels(['Real times', 'Starting model', 'Model 1', 'Model 2'], fontdict={'fontsize':15})\n\nfor line in bp['medians']:\n    # get position data for median line\n    x, y = line.get_xydata()[1] #  median line\n    # overlay median value\n    ax.text(x-0.2, y+0.03, '%.2f' % y,\n         horizontalalignment='center', fontsize=12, color='w') # draw above, centered\n\nfor line in bp['caps']:\n    x, y = line.get_xydata()[0] # bottom of left line\n    ax.text(x,y, '%.2f' % y,\n         horizontalalignment='center', # centered\n         verticalalignment='top', fontsize=12)  \n\nfor line in bp['whiskers']:\n    x, y = line.get_xydata()[0] # bottom of left line\n    ax.text(x-0.3,y, '%.2f' % y,\n         horizontalalignment='center', # centered\n         verticalalignment='center', fontsize=12) \n\n\nax.xaxis.set_tick_params(labelsize=12, size=8)\nax.xaxis.set_tick_params(which='minor', size=4)",
   "execution_count": 13,
   "outputs": [
    {
     "data": {
      "text/plain": "<Figure size 1080x720 with 1 Axes>",
      "image/png": "[encoded data removed]"
     },
     "metadata": {
      "needs_background": "light",
      "image/png": {
       "width": 906,
       "height": 603
      }
     },
     "output_type": "display_data"
    }
   ]
  },
  {
   "cell_type": "markdown",
   "source": "The Boxplot, which compares the inter-division times, again shows that the Model 2 has less variability than the other models; in addition, the median of the yellow distribution is the most similar to the one of the Real Data.",
   "metadata": {
    "cell_id": "7949953400c247d79247f6ff9044db7e",
    "tags": [],
    "deepnote_cell_type": "markdown",
    "deepnote_cell_height": 74.78125
   }
  },
  {
   "cell_type": "markdown",
   "source": "## Overlap between division time histograms\n\n| Model 0                           |  Model 1                          |\n|:---------------------------------:|:---------------------------------:|\n| ![img](images/overlap_model0.png) | ![img](images/overlap_model1.png) |\n\n| Model 2                           |\n|:---------------------------------:|\n| ![img](images/overlap_model2.png) |\n",
   "metadata": {
    "cell_id": "de7d479f29a445849ef5cffaa11b7645",
    "tags": [],
    "deepnote_cell_type": "markdown",
    "deepnote_cell_height": 968.203125
   }
  },
  {
   "cell_type": "markdown",
   "source": "These plots show another comparison between the inspected models and the real data.\n\nFrom the values of the overlap, as we expected, the Model 2 (the Protein Model) is the one which mostly reflect the behaviour of real data, also being the most descriptive from the biological point of view. ",
   "metadata": {
    "cell_id": "738a6236655b4484a13b5e3c23981b6e",
    "tags": [],
    "deepnote_cell_type": "markdown",
    "deepnote_cell_height": 111.1875
   }
  },
  {
   "cell_type": "markdown",
   "source": "## Predictive density",
   "metadata": {
    "cell_id": "4b6596f8c5fc4ee9bf699a9ea9981b59",
    "tags": [],
    "deepnote_cell_type": "markdown",
    "deepnote_cell_height": 70
   }
  },
  {
   "cell_type": "code",
   "metadata": {
    "cell_id": "da39935f32054980ad09469bfbdd2fab",
    "tags": [],
    "deepnote_to_be_reexecuted": false,
    "source_hash": "310b6e88",
    "execution_start": 1655386095697,
    "execution_millis": 111,
    "deepnote_cell_type": "code",
    "deepnote_cell_height": 636
   },
   "source": "df_pd = pd.read_csv('./data/pred_density.csv')\ndisplay(df_pd)\n",
   "execution_count": 14,
   "outputs": [
    {
     "data": {
      "application/vnd.deepnote.dataframe.v3+json": {
       "column_count": 3,
       "row_count": 10,
       "columns": [
        {
         "name": "starting_model",
         "dtype": "float64",
         "stats": {
          "unique_count": 10,
          "nan_count": 0,
          "min": "-329.08985229600006",
          "max": "164.92273629900842",
          "histogram": [
           {
            "bin_start": -329.08985229600006,
            "bin_end": -279.6885934364992,
            "count": 1
           },
           {
            "bin_start": -279.6885934364992,
            "bin_end": -230.28733457699838,
            "count": 0
           },
           {
            "bin_start": -230.28733457699838,
            "bin_end": -180.8860757174975,
            "count": 0
           },
           {
            "bin_start": -180.8860757174975,
            "bin_end": -131.48481685799666,
            "count": 0
           },
           {
            "bin_start": -131.48481685799666,
            "bin_end": -82.08355799849582,
            "count": 0
           },
           {
            "bin_start": -82.08355799849582,
            "bin_end": -32.68229913899495,
            "count": 0
           },
           {
            "bin_start": -32.68229913899495,
            "bin_end": 16.718959720505893,
            "count": 1
           },
           {
            "bin_start": 16.718959720505893,
            "bin_end": 66.12021858000674,
            "count": 4
           },
           {
            "bin_start": 66.12021858000674,
            "bin_end": 115.52147743950758,
            "count": 2
           },
           {
            "bin_start": 115.52147743950758,
            "bin_end": 164.92273629900842,
            "count": 2
           }
          ]
         }
        },
        {
         "name": "model_1",
         "dtype": "float64",
         "stats": {
          "unique_count": 10,
          "nan_count": 0,
          "min": "-404.9753355030378",
          "max": "163.27093433547262",
          "histogram": [
           {
            "bin_start": -404.9753355030378,
            "bin_end": -348.15070851918676,
            "count": 1
           },
           {
            "bin_start": -348.15070851918676,
            "bin_end": -291.3260815353357,
            "count": 0
           },
           {
            "bin_start": -291.3260815353357,
            "bin_end": -234.50145455148464,
            "count": 0
           },
           {
            "bin_start": -234.50145455148464,
            "bin_end": -177.6768275676336,
            "count": 0
           },
           {
            "bin_start": -177.6768275676336,
            "bin_end": -120.85220058378258,
            "count": 0
           },
           {
            "bin_start": -120.85220058378258,
            "bin_end": -64.02757359993149,
            "count": 0
           },
           {
            "bin_start": -64.02757359993149,
            "bin_end": -7.202946616080453,
            "count": 1
           },
           {
            "bin_start": -7.202946616080453,
            "bin_end": 49.62168036777058,
            "count": 1
           },
           {
            "bin_start": 49.62168036777058,
            "bin_end": 106.44630735162161,
            "count": 5
           },
           {
            "bin_start": 106.44630735162161,
            "bin_end": 163.27093433547262,
            "count": 2
           }
          ]
         }
        },
        {
         "name": "model_2",
         "dtype": "float64",
         "stats": {
          "unique_count": 10,
          "nan_count": 0,
          "min": "-inf",
          "max": "174.01828936183148",
          "histogram": [
           {
            "bin_start": -342.643446600864,
            "bin_end": -290.97727300459445,
            "count": 1
           },
           {
            "bin_start": -290.97727300459445,
            "bin_end": -239.31109940832494,
            "count": 0
           },
           {
            "bin_start": -239.31109940832494,
            "bin_end": -187.64492581205536,
            "count": 0
           },
           {
            "bin_start": -187.64492581205536,
            "bin_end": -135.97875221578582,
            "count": 0
           },
           {
            "bin_start": -135.97875221578582,
            "bin_end": -84.31257861951627,
            "count": 0
           },
           {
            "bin_start": -84.31257861951627,
            "bin_end": -32.6464050232467,
            "count": 0
           },
           {
            "bin_start": -32.6464050232467,
            "bin_end": 19.019768573022816,
            "count": 1
           },
           {
            "bin_start": 19.019768573022816,
            "bin_end": 70.68594216929239,
            "count": 2
           },
           {
            "bin_start": 70.68594216929239,
            "bin_end": 122.35211576556196,
            "count": 3
           },
           {
            "bin_start": 122.35211576556196,
            "bin_end": 174.01828936183148,
            "count": 2
           }
          ]
         }
        },
        {
         "name": "_deepnote_index_column",
         "dtype": "int64"
        }
       ],
       "rows": [
        {
         "starting_model": 164.92273629900842,
         "model_1": 163.27093433547262,
         "model_2": 171.42237989819242,
         "_deepnote_index_column": 0
        },
        {
         "starting_model": 63.72685405294218,
         "model_1": 88.2562453204145,
         "model_2": 99.5303473678082,
         "_deepnote_index_column": 1
        },
        {
         "starting_model": 43.296034039000624,
         "model_1": 45.42189725095408,
         "model_2": 52.816637274018426,
         "_deepnote_index_column": 2
        },
        {
         "starting_model": 51.41331282496726,
         "model_1": 61.02772116719335,
         "model_2": 78.44212628764171,
         "_deepnote_index_column": 3
        },
        {
         "starting_model": 64.21795499323846,
         "model_1": 56.16514016743038,
         "model_2": 80.80311533542883,
         "_deepnote_index_column": 4
        },
        {
         "starting_model": 162.10060132628675,
         "model_1": 159.35459510715836,
         "model_2": 174.01828936183148,
         "_deepnote_index_column": 5
        },
        {
         "starting_model": 99.265526210695,
         "model_1": 81.33579996732333,
         "model_2": "-inf",
         "_deepnote_index_column": 6
        },
        {
         "starting_model": -23.249453637572245,
         "model_1": -26.78413672645567,
         "model_2": -0.1407475273665284,
         "_deepnote_index_column": 7
        },
        {
         "starting_model": -329.08985229600006,
         "model_1": -404.9753355030378,
         "model_2": -342.643446600864,
         "_deepnote_index_column": 8
        },
        {
         "starting_model": 66.68179491549756,
         "model_1": 55.39612887280794,
         "model_2": 66.59939393328342,
         "_deepnote_index_column": 9
        }
       ]
      },
      "text/plain": "   starting_model     model_1     model_2\n0      164.922736  163.270934  171.422380\n1       63.726854   88.256245   99.530347\n2       43.296034   45.421897   52.816637\n3       51.413313   61.027721   78.442126\n4       64.217955   56.165140   80.803115\n5      162.100601  159.354595  174.018289\n6       99.265526   81.335800        -inf\n7      -23.249454  -26.784137   -0.140748\n8     -329.089852 -404.975336 -342.643447\n9       66.681795   55.396129   66.599394",
      "text/html": "<div>\n<style scoped>\n    .dataframe tbody tr th:only-of-type {\n        vertical-align: middle;\n    }\n\n    .dataframe tbody tr th {\n        vertical-align: top;\n    }\n\n    .dataframe thead th {\n        text-align: right;\n    }\n</style>\n<table border=\"1\" class=\"dataframe\">\n  <thead>\n    <tr style=\"text-align: right;\">\n      <th></th>\n      <th>starting_model</th>\n      <th>model_1</th>\n      <th>model_2</th>\n    </tr>\n  </thead>\n  <tbody>\n    <tr>\n      <th>0</th>\n      <td>164.922736</td>\n      <td>163.270934</td>\n      <td>171.422380</td>\n    </tr>\n    <tr>\n      <th>1</th>\n      <td>63.726854</td>\n      <td>88.256245</td>\n      <td>99.530347</td>\n    </tr>\n    <tr>\n      <th>2</th>\n      <td>43.296034</td>\n      <td>45.421897</td>\n      <td>52.816637</td>\n    </tr>\n    <tr>\n      <th>3</th>\n      <td>51.413313</td>\n      <td>61.027721</td>\n      <td>78.442126</td>\n    </tr>\n    <tr>\n      <th>4</th>\n      <td>64.217955</td>\n      <td>56.165140</td>\n      <td>80.803115</td>\n    </tr>\n    <tr>\n      <th>5</th>\n      <td>162.100601</td>\n      <td>159.354595</td>\n      <td>174.018289</td>\n    </tr>\n    <tr>\n      <th>6</th>\n      <td>99.265526</td>\n      <td>81.335800</td>\n      <td>-inf</td>\n    </tr>\n    <tr>\n      <th>7</th>\n      <td>-23.249454</td>\n      <td>-26.784137</td>\n      <td>-0.140748</td>\n    </tr>\n    <tr>\n      <th>8</th>\n      <td>-329.089852</td>\n      <td>-404.975336</td>\n      <td>-342.643447</td>\n    </tr>\n    <tr>\n      <th>9</th>\n      <td>66.681795</td>\n      <td>55.396129</td>\n      <td>66.599394</td>\n    </tr>\n  </tbody>\n</table>\n</div>"
     },
     "metadata": {},
     "output_type": "display_data"
    }
   ]
  },
  {
   "cell_type": "code",
   "metadata": {
    "cell_id": "1323fd615fbb45b2817fdae854b85158",
    "tags": [],
    "deepnote_to_be_reexecuted": false,
    "source_hash": "b8d03b0f",
    "execution_start": 1655386095800,
    "execution_millis": 86,
    "deepnote_cell_type": "code",
    "deepnote_cell_height": 312.90625
   },
   "source": "print('Average Predictive Density over', df_pd.shape[0], 'cycles:')\n\ndf_pd[~np.isinf(df_pd)].mean().to_frame().transpose().rename({0: 'Predictive Density'}).round(3)",
   "execution_count": 15,
   "outputs": [
    {
     "name": "stdout",
     "text": "Average Predictive Density over 10 cycles:\n",
     "output_type": "stream"
    },
    {
     "output_type": "execute_result",
     "execution_count": 15,
     "data": {
      "application/vnd.deepnote.dataframe.v3+json": {
       "column_count": 3,
       "row_count": 1,
       "columns": [
        {
         "name": "starting_model",
         "dtype": "float64",
         "stats": {
          "unique_count": 1,
          "nan_count": 0,
          "min": "36.329",
          "max": "36.329",
          "histogram": [
           {
            "bin_start": 35.829,
            "bin_end": 35.929,
            "count": 0
           },
           {
            "bin_start": 35.929,
            "bin_end": 36.029,
            "count": 0
           },
           {
            "bin_start": 36.029,
            "bin_end": 36.129,
            "count": 0
           },
           {
            "bin_start": 36.129,
            "bin_end": 36.229,
            "count": 0
           },
           {
            "bin_start": 36.229,
            "bin_end": 36.329,
            "count": 0
           },
           {
            "bin_start": 36.329,
            "bin_end": 36.429,
            "count": 1
           },
           {
            "bin_start": 36.429,
            "bin_end": 36.529,
            "count": 0
           },
           {
            "bin_start": 36.529,
            "bin_end": 36.629,
            "count": 0
           },
           {
            "bin_start": 36.629,
            "bin_end": 36.729,
            "count": 0
           },
           {
            "bin_start": 36.729,
            "bin_end": 36.829,
            "count": 0
           }
          ]
         }
        },
        {
         "name": "model_1",
         "dtype": "float64",
         "stats": {
          "unique_count": 1,
          "nan_count": 0,
          "min": "27.847",
          "max": "27.847",
          "histogram": [
           {
            "bin_start": 27.347,
            "bin_end": 27.447000000000003,
            "count": 0
           },
           {
            "bin_start": 27.447000000000003,
            "bin_end": 27.547,
            "count": 0
           },
           {
            "bin_start": 27.547,
            "bin_end": 27.647000000000002,
            "count": 0
           },
           {
            "bin_start": 27.647000000000002,
            "bin_end": 27.747,
            "count": 0
           },
           {
            "bin_start": 27.747,
            "bin_end": 27.847,
            "count": 0
           },
           {
            "bin_start": 27.847,
            "bin_end": 27.947000000000003,
            "count": 1
           },
           {
            "bin_start": 27.947000000000003,
            "bin_end": 28.047,
            "count": 0
           },
           {
            "bin_start": 28.047,
            "bin_end": 28.147000000000002,
            "count": 0
           },
           {
            "bin_start": 28.147000000000002,
            "bin_end": 28.247,
            "count": 0
           },
           {
            "bin_start": 28.247,
            "bin_end": 28.347,
            "count": 0
           }
          ]
         }
        },
        {
         "name": "model_2",
         "dtype": "float64",
         "stats": {
          "unique_count": 1,
          "nan_count": 0,
          "min": "42.316",
          "max": "42.316",
          "histogram": [
           {
            "bin_start": 41.816,
            "bin_end": 41.916000000000004,
            "count": 0
           },
           {
            "bin_start": 41.916000000000004,
            "bin_end": 42.016000000000005,
            "count": 0
           },
           {
            "bin_start": 42.016000000000005,
            "bin_end": 42.116,
            "count": 0
           },
           {
            "bin_start": 42.116,
            "bin_end": 42.216,
            "count": 0
           },
           {
            "bin_start": 42.216,
            "bin_end": 42.316,
            "count": 0
           },
           {
            "bin_start": 42.316,
            "bin_end": 42.416000000000004,
            "count": 1
           },
           {
            "bin_start": 42.416000000000004,
            "bin_end": 42.516000000000005,
            "count": 0
           },
           {
            "bin_start": 42.516000000000005,
            "bin_end": 42.616,
            "count": 0
           },
           {
            "bin_start": 42.616,
            "bin_end": 42.716,
            "count": 0
           },
           {
            "bin_start": 42.716,
            "bin_end": 42.816,
            "count": 0
           }
          ]
         }
        },
        {
         "name": "_deepnote_index_column",
         "dtype": "object"
        }
       ],
       "rows": [
        {
         "starting_model": 36.329,
         "model_1": 27.847,
         "model_2": 42.316,
         "_deepnote_index_column": "Predictive Density"
        }
       ]
      },
      "text/plain": "                    starting_model  model_1  model_2\nPredictive Density          36.329   27.847   42.316",
      "text/html": "<div>\n<style scoped>\n    .dataframe tbody tr th:only-of-type {\n        vertical-align: middle;\n    }\n\n    .dataframe tbody tr th {\n        vertical-align: top;\n    }\n\n    .dataframe thead th {\n        text-align: right;\n    }\n</style>\n<table border=\"1\" class=\"dataframe\">\n  <thead>\n    <tr style=\"text-align: right;\">\n      <th></th>\n      <th>starting_model</th>\n      <th>model_1</th>\n      <th>model_2</th>\n    </tr>\n  </thead>\n  <tbody>\n    <tr>\n      <th>Predictive Density</th>\n      <td>36.329</td>\n      <td>27.847</td>\n      <td>42.316</td>\n    </tr>\n  </tbody>\n</table>\n</div>"
     },
     "metadata": {}
    }
   ]
  },
  {
   "cell_type": "markdown",
   "source": "The predictive density is the last evidence that the Protein Model, within the various model we studied, is the best one. For this reason, it would be valuable to focus future work and analysis on models of this type, where more than a single cell trait is considered.",
   "metadata": {
    "cell_id": "5e4996bdf157428bbd36ba785608890c",
    "tags": [],
    "deepnote_cell_type": "markdown",
    "deepnote_cell_height": 97.1875
   }
  },
  {
   "cell_type": "markdown",
   "source": "# Future developments\n- **Use means and stds as parameters for the Gamma and Beta distributions instead of a,b,c,d** \nThis choice is motivated by the fact that the latter are strongly correlated, so we expect less sharp results using the former. We already implemented this modification, the results can be found in the folder [real_data_alternative_way](./real_data_alternative_way).\n\n- **Removal of outliers**\nFrom the 3-dimensional scatterplot and from the pairplot of the real data it can be seen that most likely our data present outliers. According to [\\[1\\]](https://doi.org/10.1063/1.5141755), their origin may be due to cells in the process of division as well as errors in measurements. These outliers strongly influence the results, as can be seen from the above histograms of the interdivision times, where we observed that the simulated times try to cover also the regions characterized by them, resulting in a less sharp distribution. \n\nIn the future it would be interesting to remove them, to reduce the noise and, hopefully, get results from the models closer to the data. This could be done following the approach presented in [\\[1\\]](https://doi.org/10.1063/1.5141755), aware of the risk that such data processing entails.",
   "metadata": {
    "cell_id": "080a3cd9391044c88b65ecba2fadf63f",
    "tags": [],
    "deepnote_cell_type": "markdown",
    "deepnote_cell_height": 445.15625
   }
  },
  {
   "cell_type": "markdown",
   "source": "# References\n[1] Held J, Lorimer T, Pomati F, Stoop R, Albert C. Second-order phase transition in phytoplankton trait dynamics. _Chaos_. 2020; 30(5):053109. https://doi.org/10.1063/1.5141755 \n\n[2] Zheng, H., Bai, Y., Jiang, M. et al. General quantitative relations linking cell growth and the cell cycle in Escherichia coli. _Nature Microbiology_. 2020;  5(8):995–1001. https://doi.org/10.1038/s41564-020-0717-x \n\n[3] emcee documentation: https://emcee.readthedocs.io/en/stable/",
   "metadata": {
    "cell_id": "882441dc03a5449d953165099db6e78b",
    "tags": [],
    "deepnote_cell_type": "markdown",
    "deepnote_cell_height": 237.984375
   }
  },
  {
   "cell_type": "markdown",
   "source": "",
   "metadata": {
    "cell_id": "2c1e539769a44f40b30af3b1642cf853",
    "tags": [],
    "deepnote_cell_type": "markdown",
    "deepnote_cell_height": 46
   }
  },
  {
   "cell_type": "markdown",
   "source": "<a style='text-decoration:none;line-height:16px;display:flex;color:#5B5B62;padding:10px;justify-content:end;' href='https://deepnote.com?utm_source=created-in-deepnote-cell&projectId=83986fd3-ecbf-4c81-9b1b-e1048abf0732' target=\"_blank\">\n<img alt='Created in deepnote.com' style='display:inline;max-height:16px;margin:0px;margin-right:7.5px;' src='data:image/svg+xml;base64,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' > </img>\nCreated in <span style='font-weight:600;margin-left:4px;'>Deepnote</span></a>",
   "metadata": {
    "tags": [],
    "created_in_deepnote_cell": true,
    "deepnote_cell_type": "markdown"
   }
  }
 ],
 "nbformat": 4,
 "nbformat_minor": 2,
 "metadata": {
  "orig_nbformat": 2,
  "deepnote": {},
  "deepnote_notebook_id": "67416f0d-a013-438a-8805-c6af116847ff",
  "deepnote_execution_queue": []
 }
}