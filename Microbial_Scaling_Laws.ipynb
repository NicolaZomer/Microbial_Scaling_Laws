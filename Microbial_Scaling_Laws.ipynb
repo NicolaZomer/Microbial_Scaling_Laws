{
 "cells": [
  {
   "cell_type": "markdown",
   "source": "# Explaining microbial scaling laws using Bayesian inference\nIn this project, we want to combine methods from _Statistical Physics_ and _Bayesian Data Analysis_ to elucidate the principles behind cellular growth and division. We will study various classes of individual-based growth-division models and infer individual-level processes (model structures and likely ranges of associated parameters) from sigle-cell observations. \n\nIn the _Bayesian framework_, we formalize our process understanding the form of different rate functions, expressing the dependence of growth and division rates on variables characterizing a cell’s state (such as size and protein content), and calculate the Bayesian posteriors for the parameters of these functions.\n\n## Group \n- [Tommaso Amico](https://github.com/tommasoamico)\n- [Andrea Lazzari](https://github.com/AndreaLazzari)\n- [Paolo Zinesi](https://github.com/PaoloZinesi)\n- [Nicola Zomer](https://github.com/NicolaZomer)\n\n## Growth and division processes: general model \nIn our models we consider the evolution of a single non-interacting cell, which undergoes 2 processes:\n- **growth:** the cell size $x(t)$ evolves according to the following equation\n    $$\n    \\dot{x}=g(x(t)) \\quad, \\quad x(0)=x_b\n    $$\n    In some cases this relation can be expressed in vectorial form, where $\\underline{x}$ is the vector of the traits characterizing the cell's state (see model 2). \n- **division:** it is ruled by the _hazard rate function_ $h(x(t))$, which represents the istantaneous probability of the cell to divide. This function is related to the so called _survival function_ $s(t)$, by the relation\n    $$\n    \\frac{\\dot{s}(t)}{s(t)}=-h(t) \\quad , \\quad s(0)=1\n    $$\n    where $s(t)$ gives the probability that the cell will survive (meaning not divide in this case) past a certain time $t$.\n\n**While the growth is a deterministic process, division is a stochastic event.** Since the cell does not generally divide into two equal parts, we introduce a parameter $frac$, which is treated as a stochastic variable, such that after the division\n$$\n\\underline{x}_{div} = \\left(frac\\cdot x, (1-frac)\\cdot x\\right)\n$$\n\nFinally, we assume that the division ratios $frac$ are distributed according to a Beta function and that the growth rates $\\omega_1$ follow a Gamma function, hence denoting by $f$ the probability density distribution we obtain\n$$\n\\begin{aligned}\nf(frac|a, b) &= Beta(a, b) \\\\\nf(\\omega_1|c, d) &= Gamma(c, d)\n\\end{aligned}\n$$\n\n### Solution of the differential equations\nFor a given model, first we solve analytically the differential equation for $x(t)$, with the initial condition $x(0)=x_b$. Then, we plug $x(t)$ into $h$ and we use $h(x(t))$ to solve the equation for $s(t)$\n\nOnce $s(t)$ is known, it is possible to generate random division times from this distribution using the **inverse transform method** and the solution can be deterministically propagated to find the simulated time series $x(t)$. To do this, it is also necessary to know or draw the values of $\\omega_1$ and $frac$ at each division cycle. ",
   "metadata": {
    "cell_id": "4fab6025485c4655828a6b96f8d0bc03",
    "tags": [],
    "deepnote_cell_type": "markdown",
    "deepnote_cell_height": 1207.453125
   }
  },
  {
   "cell_type": "markdown",
   "source": "# Models\n\n## Model 0 (Linear)\nWe start with a very simple stochastic model, biologically not very realistic, but useful to start familiarizing with the problem. In this first model we define $g(x)$ and $h(x)$ as 2 linear functions\n$$\n\\begin{aligned}\ng(x) &\\equiv \\omega_1(\\mu+x) \\\\\nh(x) &\\equiv \\omega_2(1+x/\\nu)\n\\end{aligned}\n$$\nwhere $\\omega_1$ and $\\omega_2$ are frequencies, while $\\mu$ and $\\nu$ are sizes (tipycally measured in $\\mu m$). The ratio between $\\omega_1$ and $\\omega_2$ is the order parameter that triggers the phase transition. The parameters $\\mu$ and $\\nu$ are necessary to cut off the probability distribution (in zero and for large values of $x$), which is important both for physical reasons and for making the distribution normalizable. Introducing these parameters is a mathematical trick, useful for example to prevent the cell from having a too small size, which however is difficult to justify from a biological point of view. We will then see better models, biologically speaking.\n\nThe results of the two differential equations are:\n$$\n\\begin{aligned}\nx(t) &= \\left(x_b+\\frac{\\mu}{\\omega_1}\\right)e^{\\omega_1 t}-\\frac{\\mu}{\\omega_1} \\\\\n\\ln(s(t)) &= \\omega_2 t \\left(\\frac{\\mu}{\\nu}-1\\right) + \\frac{\\omega_2}{\\omega_1} \\left(\\frac{\\mu+x_b}{\\nu}\\right) (1-e^{\\omega_1 t}) \\\\\ns(t) &= \\exp\\left\\{ \\omega_2t \\left(\\frac{\\mu}{\\nu}-1\\right) + \\frac{\\omega_2}{\\omega_1}\\left(\\frac{\\mu + x_b}{\\nu}\\right)(1-e^{\\omega_1t})\\right\\}\n\\end{aligned}\n$$\n",
   "metadata": {
    "cell_id": "de070f1942f74c3b93bc0e456a4e9c63",
    "tags": [],
    "deepnote_cell_type": "markdown",
    "deepnote_cell_height": 570.125
   },
   "outputs": [],
   "execution_count": null
  },
  {
   "cell_type": "markdown",
   "source": "![img](images/s_model0.png)",
   "metadata": {
    "cell_id": "c29a5f10246e4c2db8e0c5ff5572fea1",
    "tags": [],
    "deepnote_cell_type": "markdown",
    "deepnote_cell_height": 70
   }
  },
  {
   "cell_type": "markdown",
   "source": "## Model 1 (with Plateau)\nAs in the previous model, even in this case the cell growth is governed by a single trait, which is the size. However, this model is biologically more realistic, mainly because a lower bound is placed on the size of the cell such that it can divide. \n\nAlso in this case the processes considered are growth and division, governed by $g(x)$ and $h(x)$ respectively. In this model we define $g(x)$ and $h(x)$ as follows\n$$\n\\begin{aligned}\ng(x)&= \\omega_1 x \\\\\nh(x)&=\n\\begin{cases}\n    0  & , \\, x<\\mu \\\\\n    \\omega_2 \\cdot \\frac{x+\\nu}{\\mu+\\nu} & , \\, x\\geq \\mu\n\\end{cases}\n\\end{aligned}\n$$\nwhere $g(x)$ again corresponds to an exponential growth, while $h(x)$ is lower bounded by $\\mu$.\n\nThe results of two differential equations are:\n$$\n\\begin{aligned}\n\nx(t) &= x_b\\, e^{\\omega_1 t} \\\\\n\n\\ln(s(t)) &= - \\left[ \\dfrac{x_b}{\\mu+\\nu} \\dfrac{\\omega_2}{\\omega_1} \\left( e^{\\omega_1 t} - e^{\\omega_1 t_0}\\right) + \\dfrac{\\nu}{\\mu+\\nu}\\, \\omega_2 (t-t_0) \\right] \\theta(t-t_0) \\\\\n\ns(t) &= \\exp\\left\\{ - \\left[ \\dfrac{x_b}{\\mu+\\nu} \\dfrac{\\omega_2}{\\omega_1} \\left( e^{\\omega_1 t} - e^{\\omega_1 t_0}\\right) + \\dfrac{\\nu}{\\mu+\\nu}\\, \\omega_2 (t-t_0) \\right] \\theta(t-t_0) \\right\\}\n\n\n\\end{aligned}\n$$\n\nwhere $t_0 \\equiv \\max\\left\\{0,\\dfrac{1}{\\omega_1} \\ln\\left(\\dfrac{\\mu}{x_b}\\right)\\right\\}$ is the minimum time at which the cell can divide and $\\theta(\\tau)$ is the Heaviside function.\n\nNote that this model is different from the linear one only if the new parameter $t_0$ is bigger than zero, i.e., only if $\\mu > x_b$.\n",
   "metadata": {
    "cell_id": "b440b04db37a4bde9c4b5269acab092b",
    "tags": [],
    "deepnote_cell_type": "markdown",
    "deepnote_cell_height": 558.265625
   },
   "outputs": [],
   "execution_count": null
  },
  {
   "cell_type": "markdown",
   "source": "![img](images/s_model1.png)\n",
   "metadata": {
    "cell_id": "cb11f0d2f1de4ff68d75df75debe2892",
    "tags": [],
    "deepnote_cell_type": "markdown",
    "deepnote_cell_height": 70
   },
   "outputs": [],
   "execution_count": null
  },
  {
   "cell_type": "markdown",
   "source": "## Model 2 (with Protein)\nThe main difference between this model and the previous ones is that here we consider 2 traits: the cell size $m(t)$ and its protein content $p(t)$. We call $\\underline{x}$ the vector\n$$\n\\underline{x} = \\begin{pmatrix} m\\\\ p\\end{pmatrix} \n$$\n\nAs before, the traits evolution and the cell division are governed by $g(\\underline{x})$ and $h(p)$ respectively, which are defined as \n$$\n\\begin{aligned}\ng(\\underline{x})&=\\omega_1m\\begin{pmatrix} 1\\\\ c\\end{pmatrix} \\\\\nh(p)&=\n    \\begin{cases}\n    0   & , \\, p<\\mu \\\\\n    \\omega_2 \\, \\frac{\\mu+\\nu}{\\mu+\\nu} & , \\, p\\geq \\mu\n    \\end{cases}\n\\end{aligned}\n$$\nFrom $g(\\underline{x})$ we can notice that the cell size still grows exponentially and the protein content also follows this evolution, scaled by the factor $c$. As $c$ doesn't have a real meaning, we set it to $1$. \n\nMoreover, in this model the condition under which the cell can divide is that it contains a minimum amount of a specific type of protein, which we call $u$. If $p\\geq u$ the cell can divide, otherwise it cannot. Unlike model 1, we do not have any condition on the size of the cell for the division to take place and $h$ depens only on $p$.\n\nThe initial conditions for $m(t)$ and $p(t)$ are\n$$\n\\begin{aligned}\n    p(t=0) &= 0 \\\\\n    m(t=0) &= m_b\n\\end{aligned}\n$$\n\nand the division process occurs in the following way\n$$\n\\begin{pmatrix} m \\\\ p\\end{pmatrix} \\rightarrow \\begin{pmatrix} frac \\cdot m \\\\ 0\\end{pmatrix} + \\begin{pmatrix} (1-frac) \\cdot m \\\\ 0\\end{pmatrix}\n$$\nwhere $frac$ is the division ratio.\n\nSimilarly to the [Model 1](/analysis_real_data/REAL_Model_1.ipynb), the results of the two differential equations are:\n$$\n\\begin{aligned}\n\nm(t) &= m_b\\, e^{\\omega_1 t} \\\\\n\n\n\n\\ln(s(t)) &= - \\left[ \\dfrac{m_b}{\\mu+\\nu} \\dfrac{\\omega_2}{\\omega_1} \\left( e^{\\omega_1 t} - e^{\\omega_1 t_0}\\right) + \\dfrac{\\nu - m_b}{\\mu+\\nu}\\, \\omega_2 (t-t_0) \\right] \\theta   (t-t_0) \\\\\n\n\n\n\n%s(t) &= \\exp\\left\\{ - \\left[ \\dfrac{m_b}{\\mu+\\nu} \\dfrac{\\omega_2}{\\omega_1} \\left.         %(e^\\omega_1 t} - e^{\\omega_1 t_0}\\right) + \\dfrac{\\nu - m_b}{\\mu+\\nu}\\, \\omega_2 (t-t_0) %\\right] \\theta(t-t_0) \\right\\}\n\n\n\n\\end{aligned}\n\n$$\n\nwhere $t_0 \\equiv \\dfrac{1}{\\omega_1} \\ln\\left(1 + \\dfrac{\\mu}{m_b}\\right) $ is the minimum time at which the cell can divide and $\\theta(\\tau)$ is the Heaviside function.\n\nNote that in this model $t_0$ is always bigger than zero, because the argument of the logarithm is alway bigger than one. This means that, independently on the choice of parameters, each cell has a time period in which it cannot divide because the protein has not reached yet the threshold value $\\mu$.",
   "metadata": {
    "cell_id": "b475124b4a8c4caa8ea71f232632adb5",
    "tags": [],
    "deepnote_cell_type": "markdown",
    "deepnote_cell_height": 921.71875
   },
   "outputs": [],
   "execution_count": null
  },
  {
   "cell_type": "markdown",
   "source": "![img](images/s_model2.png)",
   "metadata": {
    "cell_id": "91940d84699b449292e653c0fdd0e570",
    "tags": [],
    "deepnote_cell_type": "markdown",
    "deepnote_cell_height": 70
   }
  },
  {
   "cell_type": "markdown",
   "source": "# Bayesian Data Analysis\nFor all models, the set of parameters to be inferred is \n$$\n\\underline{\\theta} = \\{\\mu, \\nu, \\omega_2, a, b, c, d\\}\n$$\n\nApplying the Bayes theorem, we can write\n$$\nf(\\underline{\\theta}|\\tau, \\omega_1, frac, M) \\propto f(\\tau, \\omega_1, frac|\\underline{\\theta}, M)\\cdot f(\\underline{\\theta}, M)\n$$\nwhere $M$ is the background information given by the selected model and $\\tau$, $\\omega_1$ and $frac$ are provided by the data.\n\nRegarding the likelihood, $f(\\tau, \\omega_1, frac|\\underline{\\theta})$, applying the chain rule and exploiting the fact that $frac$ and $\\omega_1$ are independent, it can be written as the product of the conditional probability density function of each random variable of interest\n$$\n\\begin{aligned}\nf(\\tau, \\omega_1, frac|\\underline{\\theta}) &=\nf(\\tau|\\omega_1, frac, \\underline{\\theta}) \\cdot f(\\omega_1, frac|\\underline{\\theta}) \\\\\n&=f(\\tau|\\omega_1, frac, \\underline{\\theta}) \\cdot f(\\omega_1|\\underline{\\theta}) \\cdot f(frac|\\underline{\\theta})\n\\end{aligned}\n$$ \nwhere the last 2 are respectively the $Gamma(c, d)$ and $Beta(a, b)$ distributions, while the former is the probability density function of division times, which depends on the selected model and it is the derivative of the survival function $s(t)$.\n\n## Workflow \n- **Calibration**  \nPerforming Markov Chain Monte Carlo (MCMC), via the Python implementation [emcee](https://emcee.readthedocs.io/en/stable/), we find the posterior distribution of $\\theta$ and the marginalized posterior of each parameter, of which we calculate the maximum, the median and the 95% credibility interval. Then, we use this results to generate a simulated time series, that can be compared with the real data, to find which model is statistically better.  \n\n- **Validation** \nModel validation and comparison is achieved by \n- making a boxplot of the simulated and real interdivision times\n- computing the overlap of the histograms of the interdivision times\n- calculating the predictive density\n\n\n## Methods\n- **Sampling from the CDF distribution with numerical inversion**\nFollowing the inverse transform method, to draw a division time $t_d$ from the associated distribution $s(t)$, we draw a random value $K$ from a uniform distribution in the interval $[0, 1]$ (i.e., we draw a \"survival probability”) and solve numerically for $t_d$\n\n$$ \n\\log(s(t_d)) = \\log(K)\n$$\n\n\nWe use the library [Pyinverse](https://pypi.org/project/pynverse/) to find numerically the inverse of a function.\n\n- **Forward propagation**\nAfter having generated the time series of the survival times by sampling from $s(t)$, we can forward propagate the evolution of a single cell, according to the following procedure:\n\n1. Start with the initial size $x_b$\n2. Propagate using the equation for $x(t)$ up to the first division time\n3. Divide the cell size according to $frac$ \n4. Repeat the last 2 points for all division times generated, imposing as initial size of the cell the one after division and resetting the time\n\nIn point **3.**, regarding the value of $frac$, three approches can be followed:\n- set $frac=0.5$ in all iterations assuming the cell always divides equally in two parts;\n- draw the values of $frac$ from the associated Beta distribution;\n- use the real values contained in the dataset. \n\nAfter playing with the first two approaches (see notebooks in folder [analysis_sim_data](./analysis_sim_data)), in order to obtain significant results and to be able to compare the models with real data, we decided to follow the last one.\n\n- **Predictive density**\nTo compute the predictive density, first we divide the dataset in 2 parts, one used for calibration and the other for validation. This is done randomly and several times, in order to get a more robust estimate of the predictive density. \n\nIn the calibration part, we take the maximum a posteriori (MAP) of the posterior: $\\underline{\\theta}_{MAP}$. Then, at each iteration, we use the inferred values of the parameters and the validation set to calculate the predictive density: \n$$\n    \\mathcal{L}(\\underline{\\tau}^V, \\underline{\\omega}_1^V,\\underline{f}^V | \\underline{\\theta}_{MAP}) =\n    \\prod_{cells} \n    \\mathcal{L}(\\underline{\\tau}_i^V | \\underline{\\omega}_{1, i}^V,\\underline{f}_i^V,\\underline{\\theta}_{MAP}) \n    \\cdot \\mathcal{L}(\\underline{\\omega}_{1, i}^V | \\underline{\\theta}_{MAP}) \n    \\cdot \\mathcal{L}(\\underline{f}_i^V | \\underline{\\theta}_{MAP})\n$$\n\nFinally, we take the average of the values obtained at each iteration for each model. Given the 3 models, the best is the one with the largest value of $\\mathcal{L}(\\underline{\\tau}^V, \\underline{\\omega}_1^V,\\underline{f}^V | \\underline{\\theta}_{MAP})$.\n\n",
   "metadata": {
    "cell_id": "0c6d468642964646808f268fda19318c",
    "tags": [],
    "deepnote_cell_type": "markdown",
    "deepnote_cell_height": 1681.3125
   },
   "outputs": [],
   "execution_count": null
  },
  {
   "cell_type": "markdown",
   "source": "# First Simulations\n\n+ why start from here\n+ hyperlinks to all the simulated models\n\nFast presentations of the notebooks?\n\n\n+ [Starting Model](/analysis_sim_data/starting_model.ipynb)\n+ [Model 1](/analysis_sim_data/model_1.ipynb)\n+ [Model 2](/analysis_sim_data/model_2.ipynb)",
   "metadata": {
    "cell_id": "4e13cda8dbd24220b0d81d405560433a",
    "tags": [],
    "deepnote_cell_type": "markdown",
    "deepnote_cell_height": 283.390625
   },
   "outputs": [],
   "execution_count": null
  },
  {
   "cell_type": "markdown",
   "source": "# Real Data\n\n+ Dataframe of real data\n+ 3D plot to show the data\n\n+ hyperlinks to each notebook\n   some comments, all the inference plots\n\n+ spiegare il fatto che abbiamo il vincolo su mu/nu (uno minore dell'altro)\n\n\n+ [Starting Model](/analysis_real_data/REAL_starting_model.ipynb)\n+ [Model 1](/analysis_real_data/REAL_Model_1.ipynb)\n+ [Model 2](/analysis_real_data/REAL_Model_2.ipynb)\n",
   "metadata": {
    "cell_id": "dfab5191d3904703a1a4b401581f6790",
    "tags": [],
    "owner_user_id": "64f82dd5-f147-412e-8f0c-50fd764426fd",
    "deepnote_cell_type": "markdown",
    "deepnote_cell_height": 590.796875
   },
   "outputs": [],
   "execution_count": null
  },
  {
   "cell_type": "code",
   "source": "import pandas as pd\nimport matplotlib.pyplot as plt\nimport numpy as np\n\nimport sys\nsys.path.insert(0, './analysis_real_data')\n\nfrom Fernando_package import functions\nfrom Fernando_package import plot_funcs",
   "metadata": {
    "cell_id": "0f4f9693ca6b42c39232474c1fdf8ab8",
    "tags": [],
    "deepnote_to_be_reexecuted": false,
    "source_hash": "7150542f",
    "execution_start": 1655020071723,
    "execution_millis": 7949,
    "deepnote_cell_type": "code",
    "deepnote_cell_height": 225
   },
   "outputs": [],
   "execution_count": 1
  },
  {
   "cell_type": "markdown",
   "source": "First, we import the real data and we create the following objects:\n- `size`: length of the time series, i.e., the number of divisions \n- `xb_realdata`: initial size of the cell \n- `df_microbial_growth`: our dataset ",
   "metadata": {
    "cell_id": "71e3c4aeb0644a44b2ee45b821f59b31",
    "tags": [],
    "deepnote_cell_type": "markdown",
    "deepnote_cell_height": 153.59375
   }
  },
  {
   "cell_type": "code",
   "source": "df_microbial_growth = pd.read_csv('/work/Microbial_Scaling_Laws/data/modified_Susman18_physical_units.csv')\nxb_realdata = df_microbial_growth['length_birth'][0]\n\n# remove first NaN\ndf_microbial_growth  =  df_microbial_growth[~ np.isnan(df_microbial_growth['division_ratio'])]\nsize = len(df_microbial_growth['generationtime'])\n\n# check that there is only one cell in the dataset\nprint('Number of cells in the dataset:', df_microbial_growth['lineage_ID'].nunique()) \n\n# print length of the series and initial size\nprint('Length of the time series:', size)\nprint('Initial size of the cell:', round(xb_realdata, 4))\n\ndisplay(df_microbial_growth)\n\n",
   "metadata": {
    "cell_id": "c38ef4ac44974640aa880a7d77e3b19b",
    "tags": [],
    "deepnote_to_be_reexecuted": false,
    "source_hash": "cd8c8dc1",
    "execution_start": 1655020079692,
    "execution_millis": 298,
    "deepnote_cell_type": "code",
    "deepnote_cell_height": 990.796875
   },
   "outputs": [
    {
     "name": "stdout",
     "text": "Number of cells in the dataset: 1\nLength of the time series: 251\nInitial size of the cell: 1.7914\n",
     "output_type": "stream"
    },
    {
     "data": {
      "application/vnd.deepnote.dataframe.v3+json": {
       "column_count": 12,
       "row_count": 251,
       "columns": [
        {
         "name": "div_and_fold",
         "dtype": "float64",
         "stats": {
          "unique_count": 251,
          "nan_count": 0,
          "min": "0.546096874465105",
          "max": "2.07810702172796",
          "histogram": [
           {
            "bin_start": 0.546096874465105,
            "bin_end": 0.6992978891913906,
            "count": 6
           },
           {
            "bin_start": 0.6992978891913906,
            "bin_end": 0.852498903917676,
            "count": 30
           },
           {
            "bin_start": 0.852498903917676,
            "bin_end": 1.0056999186439615,
            "count": 101
           },
           {
            "bin_start": 1.0056999186439615,
            "bin_end": 1.158900933370247,
            "count": 77
           },
           {
            "bin_start": 1.158900933370247,
            "bin_end": 1.3121019480965326,
            "count": 24
           },
           {
            "bin_start": 1.3121019480965326,
            "bin_end": 1.465302962822818,
            "count": 4
           },
           {
            "bin_start": 1.465302962822818,
            "bin_end": 1.6185039775491035,
            "count": 4
           },
           {
            "bin_start": 1.6185039775491035,
            "bin_end": 1.7717049922753891,
            "count": 1
           },
           {
            "bin_start": 1.7717049922753891,
            "bin_end": 1.9249060070016744,
            "count": 2
           },
           {
            "bin_start": 1.9249060070016744,
            "bin_end": 2.07810702172796,
            "count": 2
           }
          ]
         }
        },
        {
         "name": "fold_growth",
         "dtype": "float64",
         "stats": {
          "unique_count": 251,
          "nan_count": 0,
          "min": "0.17705897633605",
          "max": "1.56885829888933",
          "histogram": [
           {
            "bin_start": 0.17705897633605,
            "bin_end": 0.31623890859137804,
            "count": 6
           },
           {
            "bin_start": 0.31623890859137804,
            "bin_end": 0.45541884084670603,
            "count": 10
           },
           {
            "bin_start": 0.45541884084670603,
            "bin_end": 0.5945987731020341,
            "count": 45
           },
           {
            "bin_start": 0.5945987731020341,
            "bin_end": 0.7337787053573621,
            "count": 85
           },
           {
            "bin_start": 0.7337787053573621,
            "bin_end": 0.8729586376126901,
            "count": 70
           },
           {
            "bin_start": 0.8729586376126901,
            "bin_end": 1.012138569868018,
            "count": 26
           },
           {
            "bin_start": 1.012138569868018,
            "bin_end": 1.151318502123346,
            "count": 6
           },
           {
            "bin_start": 1.151318502123346,
            "bin_end": 1.290498434378674,
            "count": 1
           },
           {
            "bin_start": 1.290498434378674,
            "bin_end": 1.429678366634002,
            "count": 1
           },
           {
            "bin_start": 1.429678366634002,
            "bin_end": 1.56885829888933,
            "count": 1
           }
          ]
         }
        },
        {
         "name": "division_ratio",
         "dtype": "float64",
         "stats": {
          "unique_count": 251,
          "nan_count": 0,
          "min": "0.357723235350301",
          "max": "0.990917846034598",
          "histogram": [
           {
            "bin_start": 0.357723235350301,
            "bin_end": 0.4210426964187307,
            "count": 11
           },
           {
            "bin_start": 0.4210426964187307,
            "bin_end": 0.4843621574871604,
            "count": 102
           },
           {
            "bin_start": 0.4843621574871604,
            "bin_end": 0.54768161855559,
            "count": 119
           },
           {
            "bin_start": 0.54768161855559,
            "bin_end": 0.6110010796240197,
            "count": 15
           },
           {
            "bin_start": 0.6110010796240197,
            "bin_end": 0.6743205406924495,
            "count": 1
           },
           {
            "bin_start": 0.6743205406924495,
            "bin_end": 0.7376400017608792,
            "count": 0
           },
           {
            "bin_start": 0.7376400017608792,
            "bin_end": 0.8009594628293089,
            "count": 0
           },
           {
            "bin_start": 0.8009594628293089,
            "bin_end": 0.8642789238977386,
            "count": 0
           },
           {
            "bin_start": 0.8642789238977386,
            "bin_end": 0.9275983849661682,
            "count": 0
           },
           {
            "bin_start": 0.9275983849661682,
            "bin_end": 0.990917846034598,
            "count": 3
           }
          ]
         }
        },
        {
         "name": "added_length",
         "dtype": "float64",
         "stats": {
          "unique_count": 251,
          "nan_count": 0,
          "min": "0.387557684591295",
          "max": "9.7781973176522",
          "histogram": [
           {
            "bin_start": 0.387557684591295,
            "bin_end": 1.3266216478973856,
            "count": 7
           },
           {
            "bin_start": 1.3266216478973856,
            "bin_end": 2.2656856112034762,
            "count": 72
           },
           {
            "bin_start": 2.2656856112034762,
            "bin_end": 3.2047495745095667,
            "count": 137
           },
           {
            "bin_start": 3.2047495745095667,
            "bin_end": 4.1438135378156575,
            "count": 26
           },
           {
            "bin_start": 4.1438135378156575,
            "bin_end": 5.0828775011217475,
            "count": 5
           },
           {
            "bin_start": 5.0828775011217475,
            "bin_end": 6.021941464427838,
            "count": 1
           },
           {
            "bin_start": 6.021941464427838,
            "bin_end": 6.961005427733928,
            "count": 1
           },
           {
            "bin_start": 6.961005427733928,
            "bin_end": 7.900069391040019,
            "count": 1
           },
           {
            "bin_start": 7.900069391040019,
            "bin_end": 8.83913335434611,
            "count": 0
           },
           {
            "bin_start": 8.83913335434611,
            "bin_end": 9.7781973176522,
            "count": 1
           }
          ]
         }
        },
        {
         "name": "generationtime",
         "dtype": "float64",
         "stats": {
          "unique_count": 53,
          "nan_count": 0,
          "min": "0.0833333333333286",
          "max": "1.33333333333333",
          "histogram": [
           {
            "bin_start": 0.0833333333333286,
            "bin_end": 0.20833333333332874,
            "count": 7
           },
           {
            "bin_start": 0.20833333333332874,
            "bin_end": 0.3333333333333289,
            "count": 6
           },
           {
            "bin_start": 0.3333333333333289,
            "bin_end": 0.45833333333332904,
            "count": 62
           },
           {
            "bin_start": 0.45833333333332904,
            "bin_end": 0.5833333333333292,
            "count": 97
           },
           {
            "bin_start": 0.5833333333333292,
            "bin_end": 0.7083333333333293,
            "count": 61
           },
           {
            "bin_start": 0.7083333333333293,
            "bin_end": 0.8333333333333295,
            "count": 13
           },
           {
            "bin_start": 0.8333333333333295,
            "bin_end": 0.9583333333333296,
            "count": 2
           },
           {
            "bin_start": 0.9583333333333296,
            "bin_end": 1.0833333333333297,
            "count": 1
           },
           {
            "bin_start": 1.0833333333333297,
            "bin_end": 1.20833333333333,
            "count": 1
           },
           {
            "bin_start": 1.20833333333333,
            "bin_end": 1.33333333333333,
            "count": 1
           }
          ]
         }
        },
        {
         "name": "length_birth",
         "dtype": "float64",
         "stats": {
          "unique_count": 251,
          "nan_count": 0,
          "min": "1.53541473227095",
          "max": "7.18441393010281",
          "histogram": [
           {
            "bin_start": 1.53541473227095,
            "bin_end": 2.100314652054136,
            "count": 27
           },
           {
            "bin_start": 2.100314652054136,
            "bin_end": 2.665214571837322,
            "count": 131
           },
           {
            "bin_start": 2.665214571837322,
            "bin_end": 3.230114491620508,
            "count": 74
           },
           {
            "bin_start": 3.230114491620508,
            "bin_end": 3.795014411403694,
            "count": 12
           },
           {
            "bin_start": 3.795014411403694,
            "bin_end": 4.35991433118688,
            "count": 3
           },
           {
            "bin_start": 4.35991433118688,
            "bin_end": 4.924814250970066,
            "count": 1
           },
           {
            "bin_start": 4.924814250970066,
            "bin_end": 5.489714170753252,
            "count": 2
           },
           {
            "bin_start": 5.489714170753252,
            "bin_end": 6.054614090536438,
            "count": 0
           },
           {
            "bin_start": 6.054614090536438,
            "bin_end": 6.619514010319624,
            "count": 0
           },
           {
            "bin_start": 6.619514010319624,
            "bin_end": 7.18441393010281,
            "count": 1
           }
          ]
         }
        },
        {
         "name": "length_final",
         "dtype": "float64",
         "stats": {
          "unique_count": 251,
          "nan_count": 0,
          "min": "2.676769724",
          "max": "12.3506194558684",
          "histogram": [
           {
            "bin_start": 2.676769724,
            "bin_end": 3.64415469718684,
            "count": 5
           },
           {
            "bin_start": 3.64415469718684,
            "bin_end": 4.611539670373681,
            "count": 50
           },
           {
            "bin_start": 4.611539670373681,
            "bin_end": 5.578924643560521,
            "count": 122
           },
           {
            "bin_start": 5.578924643560521,
            "bin_end": 6.546309616747361,
            "count": 56
           },
           {
            "bin_start": 6.546309616747361,
            "bin_end": 7.5136945899342,
            "count": 11
           },
           {
            "bin_start": 7.5136945899342,
            "bin_end": 8.48107956312104,
            "count": 3
           },
           {
            "bin_start": 8.48107956312104,
            "bin_end": 9.448464536307881,
            "count": 2
           },
           {
            "bin_start": 9.448464536307881,
            "bin_end": 10.415849509494722,
            "count": 1
           },
           {
            "bin_start": 10.415849509494722,
            "bin_end": 11.38323448268156,
            "count": 0
           },
           {
            "bin_start": 11.38323448268156,
            "bin_end": 12.3506194558684,
            "count": 1
           }
          ]
         }
        },
        {
         "name": "growth_rate",
         "dtype": "float64",
         "stats": {
          "unique_count": 251,
          "nan_count": 0,
          "min": "0.505963594660099",
          "max": "4.07143555717965",
          "histogram": [
           {
            "bin_start": 0.505963594660099,
            "bin_end": 0.8625107909120542,
            "count": 2
           },
           {
            "bin_start": 0.8625107909120542,
            "bin_end": 1.2190579871640093,
            "count": 48
           },
           {
            "bin_start": 1.2190579871640093,
            "bin_end": 1.5756051834159646,
            "count": 165
           },
           {
            "bin_start": 1.5756051834159646,
            "bin_end": 1.9321523796679196,
            "count": 28
           },
           {
            "bin_start": 1.9321523796679196,
            "bin_end": 2.2886995759198747,
            "count": 4
           },
           {
            "bin_start": 2.2886995759198747,
            "bin_end": 2.64524677217183,
            "count": 0
           },
           {
            "bin_start": 2.64524677217183,
            "bin_end": 3.001793968423785,
            "count": 2
           },
           {
            "bin_start": 3.001793968423785,
            "bin_end": 3.35834116467574,
            "count": 0
           },
           {
            "bin_start": 3.35834116467574,
            "bin_end": 3.714888360927695,
            "count": 0
           },
           {
            "bin_start": 3.714888360927695,
            "bin_end": 4.07143555717965,
            "count": 2
           }
          ]
         }
        },
        {
         "name": "lineage_ID",
         "dtype": "float64",
         "stats": {
          "unique_count": 1,
          "nan_count": 0,
          "min": "15.0",
          "max": "15.0",
          "histogram": [
           {
            "bin_start": 14.5,
            "bin_end": 14.6,
            "count": 0
           },
           {
            "bin_start": 14.6,
            "bin_end": 14.7,
            "count": 0
           },
           {
            "bin_start": 14.7,
            "bin_end": 14.8,
            "count": 0
           },
           {
            "bin_start": 14.8,
            "bin_end": 14.9,
            "count": 0
           },
           {
            "bin_start": 14.9,
            "bin_end": 15,
            "count": 0
           },
           {
            "bin_start": 15,
            "bin_end": 15.1,
            "count": 251
           },
           {
            "bin_start": 15.1,
            "bin_end": 15.2,
            "count": 0
           },
           {
            "bin_start": 15.2,
            "bin_end": 15.3,
            "count": 0
           },
           {
            "bin_start": 15.3,
            "bin_end": 15.4,
            "count": 0
           },
           {
            "bin_start": 15.4,
            "bin_end": 15.5,
            "count": 0
           }
          ]
         }
        },
        {
         "name": "generation",
         "dtype": "float64",
         "stats": {
          "unique_count": 251,
          "nan_count": 0,
          "min": "1.0",
          "max": "253.0",
          "histogram": [
           {
            "bin_start": 1,
            "bin_end": 26.2,
            "count": 26
           },
           {
            "bin_start": 26.2,
            "bin_end": 51.4,
            "count": 25
           },
           {
            "bin_start": 51.4,
            "bin_end": 76.6,
            "count": 25
           },
           {
            "bin_start": 76.6,
            "bin_end": 101.8,
            "count": 25
           },
           {
            "bin_start": 101.8,
            "bin_end": 127,
            "count": 25
           },
           {
            "bin_start": 127,
            "bin_end": 152.2,
            "count": 26
           },
           {
            "bin_start": 152.2,
            "bin_end": 177.4,
            "count": 25
           },
           {
            "bin_start": 177.4,
            "bin_end": 202.6,
            "count": 24
           },
           {
            "bin_start": 202.6,
            "bin_end": 227.79999999999998,
            "count": 24
           },
           {
            "bin_start": 227.79999999999998,
            "bin_end": 253,
            "count": 26
           }
          ]
         }
        },
        {
         "name": "start_time",
         "dtype": "float64",
         "stats": {
          "unique_count": 251,
          "nan_count": 0,
          "min": "1.08333333333333",
          "max": "152.916666666667",
          "histogram": [
           {
            "bin_start": 1.08333333333333,
            "bin_end": 16.266666666666694,
            "count": 25
           },
           {
            "bin_start": 16.266666666666694,
            "bin_end": 31.45000000000006,
            "count": 25
           },
           {
            "bin_start": 31.45000000000006,
            "bin_end": 46.633333333333425,
            "count": 22
           },
           {
            "bin_start": 46.633333333333425,
            "bin_end": 61.81666666666679,
            "count": 26
           },
           {
            "bin_start": 61.81666666666679,
            "bin_end": 77.00000000000016,
            "count": 25
           },
           {
            "bin_start": 77.00000000000016,
            "bin_end": 92.18333333333352,
            "count": 25
           },
           {
            "bin_start": 92.18333333333352,
            "bin_end": 107.36666666666689,
            "count": 25
           },
           {
            "bin_start": 107.36666666666689,
            "bin_end": 122.55000000000025,
            "count": 26
           },
           {
            "bin_start": 122.55000000000025,
            "bin_end": 137.73333333333363,
            "count": 26
           },
           {
            "bin_start": 137.73333333333363,
            "bin_end": 152.916666666667,
            "count": 26
           }
          ]
         }
        },
        {
         "name": "end_time",
         "dtype": "float64",
         "stats": {
          "unique_count": 251,
          "nan_count": 0,
          "min": "1.58333333333333",
          "max": "153.416666666667",
          "histogram": [
           {
            "bin_start": 1.58333333333333,
            "bin_end": 16.766666666666694,
            "count": 25
           },
           {
            "bin_start": 16.766666666666694,
            "bin_end": 31.95000000000006,
            "count": 25
           },
           {
            "bin_start": 31.95000000000006,
            "bin_end": 47.133333333333425,
            "count": 23
           },
           {
            "bin_start": 47.133333333333425,
            "bin_end": 62.31666666666679,
            "count": 25
           },
           {
            "bin_start": 62.31666666666679,
            "bin_end": 77.50000000000016,
            "count": 25
           },
           {
            "bin_start": 77.50000000000016,
            "bin_end": 92.68333333333352,
            "count": 24
           },
           {
            "bin_start": 92.68333333333352,
            "bin_end": 107.86666666666689,
            "count": 26
           },
           {
            "bin_start": 107.86666666666689,
            "bin_end": 123.05000000000025,
            "count": 26
           },
           {
            "bin_start": 123.05000000000025,
            "bin_end": 138.23333333333363,
            "count": 26
           },
           {
            "bin_start": 138.23333333333363,
            "bin_end": 153.416666666667,
            "count": 26
           }
          ]
         }
        },
        {
         "name": "_deepnote_index_column",
         "dtype": "int64"
        }
       ],
       "rows": [
        {
         "div_and_fold": 1.0098307934197,
         "fold_growth": 0.794983848896329,
         "division_ratio": 0.456028002051387,
         "added_length": 3.19832435369885,
         "generationtime": 0.5,
         "length_birth": 2.63365495382557,
         "length_final": 5.83197930752442,
         "growth_rate": 1.58996769779266,
         "lineage_ID": 15,
         "generation": 1,
         "start_time": 1.08333333333333,
         "end_time": 1.58333333333333,
         "_deepnote_index_column": 1
        },
        {
         "div_and_fold": 0.86248240520342,
         "fold_growth": 0.607893198978199,
         "division_ratio": 0.469618916545778,
         "added_length": 2.29117173653322,
         "generationtime": 0.416666666666667,
         "length_birth": 2.73880780371701,
         "length_final": 5.02997954025023,
         "growth_rate": 1.45894367754768,
         "lineage_ID": 15,
         "generation": 2,
         "start_time": 1.66666666666667,
         "end_time": 2.08333333333333,
         "_deepnote_index_column": 2
        },
        {
         "div_and_fold": 1.4264859538416,
         "fold_growth": 1.03736970365688,
         "division_ratio": 0.505526075322566,
         "added_length": 4.6324093463421,
         "generationtime": 0.833333333333333,
         "length_birth": 2.5427858159355,
         "length_final": 7.17519516227761,
         "growth_rate": 1.24484364438826,
         "lineage_ID": 15,
         "generation": 3,
         "start_time": 2.16666666666667,
         "end_time": 3,
         "_deepnote_index_column": 3
        },
        {
         "div_and_fold": 0.729601417548095,
         "fold_growth": 0.490155896574101,
         "division_ratio": 0.446903409482841,
         "added_length": 2.02841337985533,
         "generationtime": 0.333333333333333,
         "length_birth": 3.20661918172665,
         "length_final": 5.23503256158198,
         "growth_rate": 1.47046768972231,
         "lineage_ID": 15,
         "generation": 4,
         "start_time": 3.08333333333333,
         "end_time": 3.41666666666667,
         "_deepnote_index_column": 4
        },
        {
         "div_and_fold": 0.887981951140976,
         "fold_growth": 0.609464016506087,
         "division_ratio": 0.482744438597171,
         "added_length": 2.12143157334131,
         "generationtime": 0.416666666666667,
         "length_birth": 2.5271828549788,
         "length_final": 4.64861442832011,
         "growth_rate": 1.46271363961461,
         "lineage_ID": 15,
         "generation": 5,
         "start_time": 3.5,
         "end_time": 3.91666666666667,
         "_deepnote_index_column": 5
        },
        {
         "div_and_fold": 1.04135711828936,
         "fold_growth": 0.709757017717577,
         "division_ratio": 0.51210160119141,
         "added_length": 2.46030483304954,
         "generationtime": 0.583333333333334,
         "length_birth": 2.38056289206422,
         "length_final": 4.84086772511376,
         "growth_rate": 1.21672631608727,
         "lineage_ID": 15,
         "generation": 6,
         "start_time": 4,
         "end_time": 4.58333333333333,
         "_deepnote_index_column": 6
        },
        {
         "div_and_fold": 0.906843477768965,
         "fold_growth": 0.629224866835989,
         "division_ratio": 0.483351917988853,
         "added_length": 2.05006662359762,
         "generationtime": 0.5,
         "length_birth": 2.33984269966407,
         "length_final": 4.3899093232617,
         "growth_rate": 1.25844973367198,
         "lineage_ID": 15,
         "generation": 7,
         "start_time": 4.66666666666667,
         "end_time": 5.16666666666667,
         "_deepnote_index_column": 7
        },
        {
         "div_and_fold": 1.21742143558949,
         "fold_growth": 0.90776142744314,
         "division_ratio": 0.491139841168619,
         "added_length": 3.18831034266156,
         "generationtime": 0.583333333333334,
         "length_birth": 2.15605936777139,
         "length_final": 5.34436971043295,
         "growth_rate": 1.55616244704538,
         "lineage_ID": 15,
         "generation": 8,
         "start_time": 5.25,
         "end_time": 5.83333333333333,
         "_deepnote_index_column": 8
        },
        {
         "div_and_fold": 1.12020008440884,
         "fold_growth": 0.877093417187681,
         "division_ratio": 0.465992331480415,
         "added_length": 3.4963280990811,
         "generationtime": 0.666666666666667,
         "length_birth": 2.49043530165796,
         "length_final": 5.98676340073906,
         "growth_rate": 1.31564012578152,
         "lineage_ID": 15,
         "generation": 9,
         "start_time": 5.91666666666667,
         "end_time": 6.58333333333333,
         "_deepnote_index_column": 9
        },
        {
         "div_and_fold": 0.949165535878694,
         "fold_growth": 0.663265730824347,
         "division_ratio": 0.488977993052723,
         "added_length": 2.75503393886657,
         "generationtime": 0.5,
         "length_birth": 2.92739555257488,
         "length_final": 5.68242949144144,
         "growth_rate": 1.32653146164869,
         "lineage_ID": 15,
         "generation": 10,
         "start_time": 6.66666666666667,
         "end_time": 7.16666666666667,
         "_deepnote_index_column": 10
        }
       ]
      },
      "text/plain": "     div_and_fold  fold_growth  division_ratio  added_length  generationtime  \\\n1        1.009831     0.794984        0.456028      3.198324        0.500000   \n2        0.862482     0.607893        0.469619      2.291172        0.416667   \n3        1.426486     1.037370        0.505526      4.632409        0.833333   \n4        0.729601     0.490156        0.446903      2.028413        0.333333   \n5        0.887982     0.609464        0.482744      2.121432        0.416667   \n..            ...          ...             ...           ...             ...   \n247      0.940427     0.590789        0.520893      2.192641        0.416667   \n248      0.928602     0.604227        0.507478      2.069835        0.500000   \n249      1.568073     1.046815        0.550478      4.644408        0.750000   \n250      0.809727     0.481681        0.500204      2.215210        0.333333   \n251      0.860970     0.711011        0.422863      2.538870        0.500000   \n\n     length_birth  length_final  growth_rate  lineage_ID  generation  \\\n1        2.633655      5.831979     1.589968        15.0         1.0   \n2        2.738808      5.029980     1.458944        15.0         2.0   \n3        2.542786      7.175195     1.244844        15.0         3.0   \n4        3.206619      5.235033     1.470468        15.0         4.0   \n5        2.527183      4.648614     1.462714        15.0         5.0   \n..            ...           ...          ...         ...         ...   \n247      2.722385      4.915026     1.417893        15.0       249.0   \n248      2.494268      4.564104     1.208453        15.0       250.0   \n249      2.512440      7.156848     1.395754        15.0       251.0   \n250      3.579885      5.795095     1.445043        15.0       252.0   \n251      2.450531      4.989402     1.422022        15.0       253.0   \n\n     start_time    end_time  \n1      1.083333    1.583333  \n2      1.666667    2.083333  \n3      2.166667    3.000000  \n4      3.083333    3.416667  \n5      3.500000    3.916667  \n..          ...         ...  \n247  150.583333  151.000000  \n248  151.083333  151.583333  \n249  151.666667  152.416667  \n250  152.500000  152.833333  \n251  152.916667  153.416667  \n\n[251 rows x 12 columns]",
      "text/html": "<div>\n<style scoped>\n    .dataframe tbody tr th:only-of-type {\n        vertical-align: middle;\n    }\n\n    .dataframe tbody tr th {\n        vertical-align: top;\n    }\n\n    .dataframe thead th {\n        text-align: right;\n    }\n</style>\n<table border=\"1\" class=\"dataframe\">\n  <thead>\n    <tr style=\"text-align: right;\">\n      <th></th>\n      <th>div_and_fold</th>\n      <th>fold_growth</th>\n      <th>division_ratio</th>\n      <th>added_length</th>\n      <th>generationtime</th>\n      <th>length_birth</th>\n      <th>length_final</th>\n      <th>growth_rate</th>\n      <th>lineage_ID</th>\n      <th>generation</th>\n      <th>start_time</th>\n      <th>end_time</th>\n    </tr>\n  </thead>\n  <tbody>\n    <tr>\n      <th>1</th>\n      <td>1.009831</td>\n      <td>0.794984</td>\n      <td>0.456028</td>\n      <td>3.198324</td>\n      <td>0.500000</td>\n      <td>2.633655</td>\n      <td>5.831979</td>\n      <td>1.589968</td>\n      <td>15.0</td>\n      <td>1.0</td>\n      <td>1.083333</td>\n      <td>1.583333</td>\n    </tr>\n    <tr>\n      <th>2</th>\n      <td>0.862482</td>\n      <td>0.607893</td>\n      <td>0.469619</td>\n      <td>2.291172</td>\n      <td>0.416667</td>\n      <td>2.738808</td>\n      <td>5.029980</td>\n      <td>1.458944</td>\n      <td>15.0</td>\n      <td>2.0</td>\n      <td>1.666667</td>\n      <td>2.083333</td>\n    </tr>\n    <tr>\n      <th>3</th>\n      <td>1.426486</td>\n      <td>1.037370</td>\n      <td>0.505526</td>\n      <td>4.632409</td>\n      <td>0.833333</td>\n      <td>2.542786</td>\n      <td>7.175195</td>\n      <td>1.244844</td>\n      <td>15.0</td>\n      <td>3.0</td>\n      <td>2.166667</td>\n      <td>3.000000</td>\n    </tr>\n    <tr>\n      <th>4</th>\n      <td>0.729601</td>\n      <td>0.490156</td>\n      <td>0.446903</td>\n      <td>2.028413</td>\n      <td>0.333333</td>\n      <td>3.206619</td>\n      <td>5.235033</td>\n      <td>1.470468</td>\n      <td>15.0</td>\n      <td>4.0</td>\n      <td>3.083333</td>\n      <td>3.416667</td>\n    </tr>\n    <tr>\n      <th>5</th>\n      <td>0.887982</td>\n      <td>0.609464</td>\n      <td>0.482744</td>\n      <td>2.121432</td>\n      <td>0.416667</td>\n      <td>2.527183</td>\n      <td>4.648614</td>\n      <td>1.462714</td>\n      <td>15.0</td>\n      <td>5.0</td>\n      <td>3.500000</td>\n      <td>3.916667</td>\n    </tr>\n    <tr>\n      <th>...</th>\n      <td>...</td>\n      <td>...</td>\n      <td>...</td>\n      <td>...</td>\n      <td>...</td>\n      <td>...</td>\n      <td>...</td>\n      <td>...</td>\n      <td>...</td>\n      <td>...</td>\n      <td>...</td>\n      <td>...</td>\n    </tr>\n    <tr>\n      <th>247</th>\n      <td>0.940427</td>\n      <td>0.590789</td>\n      <td>0.520893</td>\n      <td>2.192641</td>\n      <td>0.416667</td>\n      <td>2.722385</td>\n      <td>4.915026</td>\n      <td>1.417893</td>\n      <td>15.0</td>\n      <td>249.0</td>\n      <td>150.583333</td>\n      <td>151.000000</td>\n    </tr>\n    <tr>\n      <th>248</th>\n      <td>0.928602</td>\n      <td>0.604227</td>\n      <td>0.507478</td>\n      <td>2.069835</td>\n      <td>0.500000</td>\n      <td>2.494268</td>\n      <td>4.564104</td>\n      <td>1.208453</td>\n      <td>15.0</td>\n      <td>250.0</td>\n      <td>151.083333</td>\n      <td>151.583333</td>\n    </tr>\n    <tr>\n      <th>249</th>\n      <td>1.568073</td>\n      <td>1.046815</td>\n      <td>0.550478</td>\n      <td>4.644408</td>\n      <td>0.750000</td>\n      <td>2.512440</td>\n      <td>7.156848</td>\n      <td>1.395754</td>\n      <td>15.0</td>\n      <td>251.0</td>\n      <td>151.666667</td>\n      <td>152.416667</td>\n    </tr>\n    <tr>\n      <th>250</th>\n      <td>0.809727</td>\n      <td>0.481681</td>\n      <td>0.500204</td>\n      <td>2.215210</td>\n      <td>0.333333</td>\n      <td>3.579885</td>\n      <td>5.795095</td>\n      <td>1.445043</td>\n      <td>15.0</td>\n      <td>252.0</td>\n      <td>152.500000</td>\n      <td>152.833333</td>\n    </tr>\n    <tr>\n      <th>251</th>\n      <td>0.860970</td>\n      <td>0.711011</td>\n      <td>0.422863</td>\n      <td>2.538870</td>\n      <td>0.500000</td>\n      <td>2.450531</td>\n      <td>4.989402</td>\n      <td>1.422022</td>\n      <td>15.0</td>\n      <td>253.0</td>\n      <td>152.916667</td>\n      <td>153.416667</td>\n    </tr>\n  </tbody>\n</table>\n<p>251 rows × 12 columns</p>\n</div>"
     },
     "metadata": {},
     "output_type": "display_data"
    }
   ],
   "execution_count": 2
  },
  {
   "cell_type": "code",
   "source": "fig = plot_funcs.plot_3d_interactive(df_microbial_growth)\nfig.show()",
   "metadata": {
    "cell_id": "0eb1ad9dddd04db8ba40d05722ac3be5",
    "tags": [],
    "deepnote_to_be_reexecuted": false,
    "source_hash": "d5d855a",
    "execution_start": 1655020080001,
    "execution_millis": 1590,
    "deepnote_cell_type": "code",
    "deepnote_cell_height": 642,
    "deepnote_output_heights": [
     527
    ]
   },
   "outputs": [
    {
     "data": {
      "text/html": "<html>\n<head><meta charset=\"utf-8\" /></head>\n<body>\n    <div>            <script src=\"https://cdnjs.cloudflare.com/ajax/libs/mathjax/2.7.5/MathJax.js?config=TeX-AMS-MML_SVG\"></script><script type=\"text/javascript\">if (window.MathJax) {MathJax.Hub.Config({SVG: {font: \"STIX-Web\"}});}</script>                <script type=\"text/javascript\">window.PlotlyConfig = {MathJaxConfig: 'local'};</script>\n        <script src=\"https://cdn.plot.ly/plotly-2.11.1.min.js\"></script>                <div id=\"ea96b305-3a90-46fa-84e3-787c120d7ff8\" class=\"plotly-graph-div\" style=\"height:525px; width:100%;\"></div>            <script type=\"text/javascript\">                                    window.PLOTLYENV=window.PLOTLYENV || {};                                    if (document.getElementById(\"ea96b305-3a90-46fa-84e3-787c120d7ff8\")) {                    Plotly.newPlot(                        \"ea96b305-3a90-46fa-84e3-787c120d7ff8\",                        [{\"hovertemplate\":\"generationtime=%{x}<br>growth_rate=%{y}<br>division_ratio=%{z}<extra></extra>\",\"legendgroup\":\"\",\"marker\":{\"color\":\"#636efa\",\"opacity\":0.7,\"symbol\":\"circle\",\"size\":3},\"mode\":\"markers\",\"name\":\"\",\"scene\":\"scene\",\"showlegend\":false,\"x\":[0.5,0.416666666666667,0.833333333333333,0.333333333333333,0.416666666666667,0.583333333333334,0.5,0.583333333333334,0.666666666666667,0.5,0.416666666666666,0.583333333333333,0.416666666666668,0.500000000000002,0.583333333333334,0.666666666666668,0.583333333333336,0.5,0.5,0.583333333333332,0.583333333333334,0.583333333333336,0.750000000000002,0.416666666666666,0.416666666666664,0.416666666666668,0.5,0.333333333333336,0.500000000000004,0.666666666666664,0.75,0.416666666666668,0.5,0.666666666666664,0.0833333333333322,0.333333333333336,0.666666666666668,0.666666666666664,0.666666666666668,0.583333333333336,0.666666666666668,0.666666666666664,0.583333333333336,0.583333333333336,0.500000000000004,0.416666666666664,0.583333333333336,0.583333333333329,0.416666666666664,0.583333333333329,0.666666666666671,0.5,0.583333333333336,0.583333333333336,0.583333333333329,0.416666666666664,0.583333333333336,0.416666666666664,0.5,0.583333333333329,1.0,0.583333333333329,0.666666666666664,0.5,0.5,0.666666666666671,0.583333333333329,0.666666666666664,0.5,0.583333333333329,0.583333333333336,0.583333333333329,0.416666666666664,0.5,0.666666666666671,0.583333333333329,0.5,0.333333333333329,0.583333333333329,0.333333333333329,0.583333333333336,0.583333333333336,0.583333333333329,0.5,0.500000000000007,0.416666666666671,0.583333333333329,0.416666666666671,0.583333333333336,0.583333333333336,0.583333333333329,0.416666666666671,0.333333333333336,0.583333333333336,0.416666666666664,0.499999999999993,0.666666666666664,0.666666666666664,0.333333333333322,0.499999999999993,0.583333333333322,0.416666666666671,0.5,0.583333333333343,0.5,0.5,0.333333333333329,0.583333333333343,0.5,0.666666666666671,0.666666666666671,0.416666666666671,0.5,0.583333333333343,0.583333333333329,0.75,0.666666666666657,0.500000000000014,0.499999999999986,0.416666666666671,0.5,0.5,0.499999999999986,0.583333333333329,0.666666666666657,0.500000000000014,0.583333333333329,0.416666666666671,0.499999999999986,0.666666666666671,0.583333333333329,0.583333333333343,0.416666666666657,0.333333333333343,0.583333333333329,0.416666666666671,0.583333333333329,0.583333333333343,0.916666666666657,0.166666666666671,0.416666666666671,0.416666666666657,0.583333333333343,0.583333333333329,0.666666666666671,0.5,0.5,0.583333333333329,0.5,0.833333333333329,0.333333333333329,0.666666666666671,0.416666666666671,0.5,0.583333333333329,0.75,0.416666666666657,0.500000000000014,0.666666666666657,0.583333333333329,0.499999999999986,0.333333333333329,0.416666666666671,0.583333333333329,0.583333333333343,0.583333333333329,0.5,0.5,0.583333333333343,0.0833333333333286,0.333333333333343,0.416666666666686,0.333333333333329,0.750000000000014,0.583333333333314,0.333333333333343,0.416666666666671,0.5,0.5,0.75,0.250000000000014,0.25,0.416666666666671,0.499999999999986,0.5,0.5,0.666666666666686,0.416666666666657,0.5,0.666666666666671,0.416666666666671,1.08333333333334,0.250000000000014,0.416666666666657,0.500000000000028,0.416666666666657,0.750000000000014,0.166666666666657,0.583333333333329,1.33333333333333,0.166666666666657,0.333333333333329,0.250000000000014,0.416666666666671,0.499999999999986,0.166666666666657,0.166666666666686,0.416666666666657,0.583333333333343,0.5,0.75,0.416666666666657,0.5,0.416666666666657,0.416666666666629,0.5,0.5,0.499999999999972,0.500000000000028,0.583333333333314,0.666666666666686,0.583333333333343,0.5,0.5,0.5,0.416666666666657,0.5,0.499999999999972,0.416666666666657,0.75,0.250000000000028,0.5,0.583333333333343,0.416666666666686,0.75,0.5,0.5,0.5,0.666666666666657,0.416666666666657,0.666666666666657,0.416666666666657,0.5,0.5,0.75,0.416666666666657,0.416666666666657,0.5,0.75,0.333333333333343,0.499999999999972],\"y\":[1.58996769779266,1.45894367754768,1.24484364438826,1.47046768972231,1.46271363961461,1.21672631608727,1.25844973367198,1.55616244704538,1.31564012578152,1.32653146164869,1.41833118794057,1.21499123385983,1.36269100939931,1.39447063505688,1.117007507524,1.11141071257723,1.40246459262158,1.49677184842928,1.38731747359571,1.41650405807123,1.40854801271802,1.28233429956722,1.32719537714499,1.48551452583427,1.44638629980432,1.56926067741922,1.61352501727956,1.50566630807291,0.75544674175313,1.09616834103149,1.27653159857402,1.35779913586979,1.27212426892942,1.16383502519424,3.751719160881,1.32686292056962,1.19147804161228,1.11019517846159,1.26840133796634,1.28286193236847,1.30501198754169,1.13629962120932,1.20288048760374,1.35097940549412,1.55312433327138,1.53373776354278,1.28345827790283,1.25416014651497,1.32903728483487,1.31302127071978,1.48149262931684,1.30582568725124,1.14602195497948,1.10994638805139,1.384458315671,1.49392830470346,1.37258878788424,1.3977806617166,1.26148846283505,1.35206102833955,1.09692417519962,1.24403836219481,1.26166232394566,1.26430900639261,1.08836086220233,1.18385001494373,1.27818236238099,1.39982629928307,1.22593863319961,1.2700234886566,1.14041106683455,1.36757105829579,1.50328357375832,1.38533376096551,1.2111243124865,1.43841324268478,1.50736159881019,1.71862980159466,1.39125414323798,1.69270849076914,1.27036299574104,1.54370275489594,1.47097794234935,1.4395492551013,1.44213106879945,1.61153922440873,1.56988690918843,1.5794978264445,1.22357820866379,1.30667207365708,1.49126619834021,1.64472913265767,1.70632652437159,1.53860135071521,1.34024094271753,1.52144648268319,1.14887163276518,1.20036476578158,1.72567539832883,1.30824543292856,1.15138512652416,1.21792005086252,1.36842239665188,1.46761548166505,1.35666304799126,1.55849473405123,1.36705998897913,1.30683930541864,1.27824471822397,1.33595079122536,1.32355446409803,1.24637111101373,1.26386645528722,1.19213004355736,0.965450959328068,1.20573130201149,1.32017371893433,1.45791198883581,1.49709746708186,1.70248818046327,1.43706864207516,1.48674030538449,1.29941250225922,1.37822679658525,1.37475423188521,1.36884026675078,1.18952482017699,1.24652380432837,1.27663603690283,1.26503846500699,1.43702416103118,1.41400669220603,1.54750197135041,1.66697137269214,1.42819834140728,1.58204709403289,1.29422173385757,1.21945298249403,1.2966966591189,1.63927599337559,1.56746656794511,1.24547115705272,1.20923183915458,1.10347116651474,1.20328911231391,1.32478257830889,1.15685368047523,1.12453609405292,1.1159711639413,1.20161170905962,1.53130270806178,1.39245998580246,1.33944657234926,1.25734195109386,1.35169199580693,1.19426746087483,1.29338628664571,1.32907915761393,1.17686024192699,1.35351773404866,1.55559420790356,1.50097468400714,1.3942679570977,1.29792421435725,1.32875801603057,1.20592673607872,1.16983160836832,1.36311018077135,1.60295305582265,4.07143555717965,1.96273365130093,1.45467511815329,1.70825431700368,1.16483094245423,1.32959341562282,1.66809583668743,1.73349360602893,1.57948291531864,1.3450755990792,1.47821742046584,1.60506549564534,1.4885469076066,1.24048790879664,1.49612639170055,1.41442425465511,1.70647409227667,1.52977033396716,1.64049206090611,1.45381491709841,1.24233170016156,1.35033227769166,1.2691807948079,1.68168796218348,1.27285241235683,1.40718226430765,1.40124049349115,1.25531950279874,1.82449483475967,1.43115440375181,1.17664372416701,1.56355746040611,1.70463775968286,1.32990478142082,1.36693248563393,1.57938300919514,2.74858830850692,2.70248440011313,1.96346986004161,1.31044856752778,1.28581849515305,1.18585833718319,1.44220979895897,1.4315228915214,1.48716555452225,2.09876112729817,1.40475027562321,1.59531859799669,1.42497086162506,1.49199127548106,1.2192692631931,1.36718755104658,1.19303843277558,1.20156963110122,1.16318383125732,1.24184171105205,1.36093292777145,1.1465281838095,1.37412832421382,1.40349505072671,1.41335839520369,1.95391283925391,1.50011266109621,1.53450724239101,0.505963594660099,1.11992624769889,1.83754251977613,1.47326622807315,1.13157413863201,1.3251773251424,1.02141116405552,1.27282056158076,1.46418287166494,1.34794760619328,1.32757253996662,1.18647956106598,1.59143283340043,1.41789294403747,1.20845345774503,1.39575376503312,1.44504330853929,1.42202240257664],\"z\":[0.456028002051387,0.469618916545778,0.505526075322566,0.446903409482841,0.482744438597171,0.51210160119141,0.483351917988853,0.491139841168619,0.465992331480415,0.488977993052723,0.50335492243449,0.526044351727723,0.502591308364701,0.459084025011339,0.530119107724709,0.47334054056287,0.482855366658186,0.441974191084596,0.467212827695769,0.514113952020246,0.455850376112461,0.50860022936137,0.439228507797942,0.527659390435334,0.476384498739974,0.506170387283319,0.512123907087556,0.499318478388998,0.506723876540554,0.488907343656099,0.513387276183995,0.470118174390581,0.521674569162284,0.483473167763778,0.427834496814097,0.960693946991404,0.477367902264965,0.465210038859102,0.453961286285557,0.479183122404599,0.471641795645758,0.484015591266423,0.484847585634072,0.458274945725016,0.485700997554413,0.501855003922552,0.49068490254818,0.482844166819735,0.432074626448321,0.484861772756954,0.498656865211802,0.490059779189076,0.525757328182465,0.519663880236889,0.481688614751534,0.460642368771912,0.464509909791053,0.516624980022872,0.452917958798043,0.513911160285985,0.400231682724131,0.403249345967592,0.49175600579316,0.524478109271294,0.488611405655756,0.514623120964561,0.46374840931682,0.433087507741273,0.486986862504124,0.517483424082118,0.513367183345375,0.46735324203877,0.511250738255512,0.470068612557422,0.486641699010392,0.47462810748484,0.496244516250822,0.520191671648149,0.455940849551168,0.453967522352102,0.459935774426496,0.426473313600944,0.494715609657311,0.427940908911195,0.524170362836771,0.52421653282822,0.426357794157551,0.463384047113578,0.519976732953094,0.526334829101889,0.485788098944219,0.455074077938204,0.460110713446955,0.482796237529727,0.441155033553389,0.499958252891759,0.529457814628094,0.477615782310247,0.531849081584962,0.521988971722122,0.516111089021078,0.590594779805941,0.452729705793309,0.473592671352342,0.481178917291245,0.485147543169193,0.484727048387442,0.520105940061214,0.515863411567386,0.44855071911401,0.418117013745512,0.548140299892856,0.504301743496529,0.47619714238456,0.548051368530973,0.470958486791677,0.520231072018187,0.47275915759586,0.463803580069947,0.481611733357232,0.494178618900276,0.417522875820243,0.470465238401095,0.464152032277289,0.511651434823076,0.471584099185687,0.552014046964566,0.555940523786342,0.445580825270018,0.480699315426475,0.463093729780274,0.423491035694639,0.538071390403616,0.498164078182811,0.447771508146558,0.426111462156472,0.551215949100775,0.548397164789088,0.544196549953829,0.508864388831158,0.503913104186435,0.479150754526781,0.530237436515199,0.487160058154586,0.515903549033189,0.470911685234219,0.493540401765346,0.497175055930065,0.542464880175607,0.410438166100033,0.542183645008808,0.470400472761782,0.51669505621626,0.478609585837723,0.432191218428418,0.475077477324668,0.494099332326523,0.574130644258401,0.497985449722834,0.533280388980524,0.47525412375977,0.522273356659054,0.496065983960273,0.439490357222528,0.543877814641304,0.508114524216546,0.554234395896107,0.467856906406584,0.471277484333633,0.442769742130525,0.955790704748722,0.440634036028267,0.522831555241377,0.554028792093529,0.474412651555841,0.516671383249737,0.469886502690515,0.501116720089667,0.453786037458072,0.535636687078413,0.539489569145166,0.489902631343216,0.540445665678585,0.446719787229708,0.463670782163028,0.426033607006262,0.357723235350301,0.513122111772403,0.445154286112664,0.453399469389353,0.475606918898389,0.525456186293102,0.543684606358965,0.539776453931707,0.505006168158393,0.541313406486291,0.503048448837853,0.527925367084191,0.490627281124101,0.417449446622987,0.581704744104079,0.474785697531685,0.555884361371051,0.470731306559354,0.48916816475134,0.397777228301025,0.990917846034598,0.380496316994561,0.54733458428149,0.46402682895663,0.448597697816748,0.527475983047368,0.454081942147981,0.537075714326576,0.4170772581334,0.453950740548031,0.473174815985019,0.467025294224763,0.429112809664143,0.471195022692037,0.486351707956408,0.520602797719542,0.558381794547072,0.488525167837765,0.522321927275374,0.527103377077688,0.521451276156129,0.613432875675116,0.497765812484219,0.530368125613601,0.466167660937107,0.465807394249753,0.413326589919328,0.442295504685158,0.527138566946803,0.501007694891863,0.551052503008305,0.508337798833839,0.524316657138139,0.526944142286266,0.506884365354374,0.502287380468444,0.496945090683618,0.475335449360069,0.464180632440849,0.51372764049108,0.520893067288242,0.507478130801968,0.550478268054699,0.500204158063523,0.422862987534087],\"type\":\"scatter3d\"}],                        {\"template\":{\"data\":{\"histogram2dcontour\":[{\"type\":\"histogram2dcontour\",\"colorbar\":{\"outlinewidth\":0,\"ticks\":\"\"},\"colorscale\":[[0.0,\"#0d0887\"],[0.1111111111111111,\"#46039f\"],[0.2222222222222222,\"#7201a8\"],[0.3333333333333333,\"#9c179e\"],[0.4444444444444444,\"#bd3786\"],[0.5555555555555556,\"#d8576b\"],[0.6666666666666666,\"#ed7953\"],[0.7777777777777778,\"#fb9f3a\"],[0.8888888888888888,\"#fdca26\"],[1.0,\"#f0f921\"]]}],\"choropleth\":[{\"type\":\"choropleth\",\"colorbar\":{\"outlinewidth\":0,\"ticks\":\"\"}}],\"histogram2d\":[{\"type\":\"histogram2d\",\"colorbar\":{\"outlinewidth\":0,\"ticks\":\"\"},\"colorscale\":[[0.0,\"#0d0887\"],[0.1111111111111111,\"#46039f\"],[0.2222222222222222,\"#7201a8\"],[0.3333333333333333,\"#9c179e\"],[0.4444444444444444,\"#bd3786\"],[0.5555555555555556,\"#d8576b\"],[0.6666666666666666,\"#ed7953\"],[0.7777777777777778,\"#fb9f3a\"],[0.8888888888888888,\"#fdca26\"],[1.0,\"#f0f921\"]]}],\"heatmap\":[{\"type\":\"heatmap\",\"colorbar\":{\"outlinewidth\":0,\"ticks\":\"\"},\"colorscale\":[[0.0,\"#0d0887\"],[0.1111111111111111,\"#46039f\"],[0.2222222222222222,\"#7201a8\"],[0.3333333333333333,\"#9c179e\"],[0.4444444444444444,\"#bd3786\"],[0.5555555555555556,\"#d8576b\"],[0.6666666666666666,\"#ed7953\"],[0.7777777777777778,\"#fb9f3a\"],[0.8888888888888888,\"#fdca26\"],[1.0,\"#f0f921\"]]}],\"heatmapgl\":[{\"type\":\"heatmapgl\",\"colorbar\":{\"outlinewidth\":0,\"ticks\":\"\"},\"colorscale\":[[0.0,\"#0d0887\"],[0.1111111111111111,\"#46039f\"],[0.2222222222222222,\"#7201a8\"],[0.3333333333333333,\"#9c179e\"],[0.4444444444444444,\"#bd3786\"],[0.5555555555555556,\"#d8576b\"],[0.6666666666666666,\"#ed7953\"],[0.7777777777777778,\"#fb9f3a\"],[0.8888888888888888,\"#fdca26\"],[1.0,\"#f0f921\"]]}],\"contourcarpet\":[{\"type\":\"contourcarpet\",\"colorbar\":{\"outlinewidth\":0,\"ticks\":\"\"}}],\"contour\":[{\"type\":\"contour\",\"colorbar\":{\"outlinewidth\":0,\"ticks\":\"\"},\"colorscale\":[[0.0,\"#0d0887\"],[0.1111111111111111,\"#46039f\"],[0.2222222222222222,\"#7201a8\"],[0.3333333333333333,\"#9c179e\"],[0.4444444444444444,\"#bd3786\"],[0.5555555555555556,\"#d8576b\"],[0.6666666666666666,\"#ed7953\"],[0.7777777777777778,\"#fb9f3a\"],[0.8888888888888888,\"#fdca26\"],[1.0,\"#f0f921\"]]}],\"surface\":[{\"type\":\"surface\",\"colorbar\":{\"outlinewidth\":0,\"ticks\":\"\"},\"colorscale\":[[0.0,\"#0d0887\"],[0.1111111111111111,\"#46039f\"],[0.2222222222222222,\"#7201a8\"],[0.3333333333333333,\"#9c179e\"],[0.4444444444444444,\"#bd3786\"],[0.5555555555555556,\"#d8576b\"],[0.6666666666666666,\"#ed7953\"],[0.7777777777777778,\"#fb9f3a\"],[0.8888888888888888,\"#fdca26\"],[1.0,\"#f0f921\"]]}],\"mesh3d\":[{\"type\":\"mesh3d\",\"colorbar\":{\"outlinewidth\":0,\"ticks\":\"\"}}],\"scatter\":[{\"fillpattern\":{\"fillmode\":\"overlay\",\"size\":10,\"solidity\":0.2},\"type\":\"scatter\"}],\"parcoords\":[{\"type\":\"parcoords\",\"line\":{\"colorbar\":{\"outlinewidth\":0,\"ticks\":\"\"}}}],\"scatterpolargl\":[{\"type\":\"scatterpolargl\",\"marker\":{\"colorbar\":{\"outlinewidth\":0,\"ticks\":\"\"}}}],\"bar\":[{\"error_x\":{\"color\":\"#2a3f5f\"},\"error_y\":{\"color\":\"#2a3f5f\"},\"marker\":{\"line\":{\"color\":\"#E5ECF6\",\"width\":0.5},\"pattern\":{\"fillmode\":\"overlay\",\"size\":10,\"solidity\":0.2}},\"type\":\"bar\"}],\"scattergeo\":[{\"type\":\"scattergeo\",\"marker\":{\"colorbar\":{\"outlinewidth\":0,\"ticks\":\"\"}}}],\"scatterpolar\":[{\"type\":\"scatterpolar\",\"marker\":{\"colorbar\":{\"outlinewidth\":0,\"ticks\":\"\"}}}],\"histogram\":[{\"marker\":{\"pattern\":{\"fillmode\":\"overlay\",\"size\":10,\"solidity\":0.2}},\"type\":\"histogram\"}],\"scattergl\":[{\"type\":\"scattergl\",\"marker\":{\"colorbar\":{\"outlinewidth\":0,\"ticks\":\"\"}}}],\"scatter3d\":[{\"type\":\"scatter3d\",\"line\":{\"colorbar\":{\"outlinewidth\":0,\"ticks\":\"\"}},\"marker\":{\"colorbar\":{\"outlinewidth\":0,\"ticks\":\"\"}}}],\"scattermapbox\":[{\"type\":\"scattermapbox\",\"marker\":{\"colorbar\":{\"outlinewidth\":0,\"ticks\":\"\"}}}],\"scatterternary\":[{\"type\":\"scatterternary\",\"marker\":{\"colorbar\":{\"outlinewidth\":0,\"ticks\":\"\"}}}],\"scattercarpet\":[{\"type\":\"scattercarpet\",\"marker\":{\"colorbar\":{\"outlinewidth\":0,\"ticks\":\"\"}}}],\"carpet\":[{\"aaxis\":{\"endlinecolor\":\"#2a3f5f\",\"gridcolor\":\"white\",\"linecolor\":\"white\",\"minorgridcolor\":\"white\",\"startlinecolor\":\"#2a3f5f\"},\"baxis\":{\"endlinecolor\":\"#2a3f5f\",\"gridcolor\":\"white\",\"linecolor\":\"white\",\"minorgridcolor\":\"white\",\"startlinecolor\":\"#2a3f5f\"},\"type\":\"carpet\"}],\"table\":[{\"cells\":{\"fill\":{\"color\":\"#EBF0F8\"},\"line\":{\"color\":\"white\"}},\"header\":{\"fill\":{\"color\":\"#C8D4E3\"},\"line\":{\"color\":\"white\"}},\"type\":\"table\"}],\"barpolar\":[{\"marker\":{\"line\":{\"color\":\"#E5ECF6\",\"width\":0.5},\"pattern\":{\"fillmode\":\"overlay\",\"size\":10,\"solidity\":0.2}},\"type\":\"barpolar\"}],\"pie\":[{\"automargin\":true,\"type\":\"pie\"}]},\"layout\":{\"autotypenumbers\":\"strict\",\"colorway\":[\"#636efa\",\"#EF553B\",\"#00cc96\",\"#ab63fa\",\"#FFA15A\",\"#19d3f3\",\"#FF6692\",\"#B6E880\",\"#FF97FF\",\"#FECB52\"],\"font\":{\"color\":\"#2a3f5f\"},\"hovermode\":\"closest\",\"hoverlabel\":{\"align\":\"left\"},\"paper_bgcolor\":\"white\",\"plot_bgcolor\":\"#E5ECF6\",\"polar\":{\"bgcolor\":\"#E5ECF6\",\"angularaxis\":{\"gridcolor\":\"white\",\"linecolor\":\"white\",\"ticks\":\"\"},\"radialaxis\":{\"gridcolor\":\"white\",\"linecolor\":\"white\",\"ticks\":\"\"}},\"ternary\":{\"bgcolor\":\"#E5ECF6\",\"aaxis\":{\"gridcolor\":\"white\",\"linecolor\":\"white\",\"ticks\":\"\"},\"baxis\":{\"gridcolor\":\"white\",\"linecolor\":\"white\",\"ticks\":\"\"},\"caxis\":{\"gridcolor\":\"white\",\"linecolor\":\"white\",\"ticks\":\"\"}},\"coloraxis\":{\"colorbar\":{\"outlinewidth\":0,\"ticks\":\"\"}},\"colorscale\":{\"sequential\":[[0.0,\"#0d0887\"],[0.1111111111111111,\"#46039f\"],[0.2222222222222222,\"#7201a8\"],[0.3333333333333333,\"#9c179e\"],[0.4444444444444444,\"#bd3786\"],[0.5555555555555556,\"#d8576b\"],[0.6666666666666666,\"#ed7953\"],[0.7777777777777778,\"#fb9f3a\"],[0.8888888888888888,\"#fdca26\"],[1.0,\"#f0f921\"]],\"sequentialminus\":[[0.0,\"#0d0887\"],[0.1111111111111111,\"#46039f\"],[0.2222222222222222,\"#7201a8\"],[0.3333333333333333,\"#9c179e\"],[0.4444444444444444,\"#bd3786\"],[0.5555555555555556,\"#d8576b\"],[0.6666666666666666,\"#ed7953\"],[0.7777777777777778,\"#fb9f3a\"],[0.8888888888888888,\"#fdca26\"],[1.0,\"#f0f921\"]],\"diverging\":[[0,\"#8e0152\"],[0.1,\"#c51b7d\"],[0.2,\"#de77ae\"],[0.3,\"#f1b6da\"],[0.4,\"#fde0ef\"],[0.5,\"#f7f7f7\"],[0.6,\"#e6f5d0\"],[0.7,\"#b8e186\"],[0.8,\"#7fbc41\"],[0.9,\"#4d9221\"],[1,\"#276419\"]]},\"xaxis\":{\"gridcolor\":\"white\",\"linecolor\":\"white\",\"ticks\":\"\",\"title\":{\"standoff\":15},\"zerolinecolor\":\"white\",\"automargin\":true,\"zerolinewidth\":2},\"yaxis\":{\"gridcolor\":\"white\",\"linecolor\":\"white\",\"ticks\":\"\",\"title\":{\"standoff\":15},\"zerolinecolor\":\"white\",\"automargin\":true,\"zerolinewidth\":2},\"scene\":{\"xaxis\":{\"backgroundcolor\":\"#E5ECF6\",\"gridcolor\":\"white\",\"linecolor\":\"white\",\"showbackground\":true,\"ticks\":\"\",\"zerolinecolor\":\"white\",\"gridwidth\":2},\"yaxis\":{\"backgroundcolor\":\"#E5ECF6\",\"gridcolor\":\"white\",\"linecolor\":\"white\",\"showbackground\":true,\"ticks\":\"\",\"zerolinecolor\":\"white\",\"gridwidth\":2},\"zaxis\":{\"backgroundcolor\":\"#E5ECF6\",\"gridcolor\":\"white\",\"linecolor\":\"white\",\"showbackground\":true,\"ticks\":\"\",\"zerolinecolor\":\"white\",\"gridwidth\":2}},\"shapedefaults\":{\"line\":{\"color\":\"#2a3f5f\"}},\"annotationdefaults\":{\"arrowcolor\":\"#2a3f5f\",\"arrowhead\":0,\"arrowwidth\":1},\"geo\":{\"bgcolor\":\"white\",\"landcolor\":\"#E5ECF6\",\"subunitcolor\":\"white\",\"showland\":true,\"showlakes\":true,\"lakecolor\":\"white\"},\"title\":{\"x\":0.05},\"mapbox\":{\"style\":\"light\"}}},\"scene\":{\"domain\":{\"x\":[0.0,1.0],\"y\":[0.0,1.0]},\"xaxis\":{\"title\":{\"text\":\"generationtime\"}},\"yaxis\":{\"title\":{\"text\":\"growth_rate\"}},\"zaxis\":{\"title\":{\"text\":\"division_ratio\"}},\"aspectmode\":\"cube\"},\"legend\":{\"tracegroupgap\":0},\"title\":{\"text\":\"Real Data\"}},                        {\"responsive\": true}                    ).then(function(){\n                            \nvar gd = document.getElementById('ea96b305-3a90-46fa-84e3-787c120d7ff8');\nvar x = new MutationObserver(function (mutations, observer) {{\n        var display = window.getComputedStyle(gd).display;\n        if (!display || display === 'none') {{\n            console.log([gd, 'removed!']);\n            Plotly.purge(gd);\n            observer.disconnect();\n        }}\n}});\n\n// Listen for the removal of the full notebook cells\nvar notebookContainer = gd.closest('#notebook-container');\nif (notebookContainer) {{\n    x.observe(notebookContainer, {childList: true});\n}}\n\n// Listen for the clearing of the current output cell\nvar outputEl = gd.closest('.output');\nif (outputEl) {{\n    x.observe(outputEl, {childList: true});\n}}\n\n                        })                };                            </script>        </div>\n</body>\n</html>"
     },
     "metadata": {},
     "output_type": "display_data"
    }
   ],
   "execution_count": 3
  },
  {
   "cell_type": "markdown",
   "source": "# Final results\n\n+ 3d plot of simulated data ?????",
   "metadata": {
    "cell_id": "b9a94b17a49e4a2da38b152e1e9fd140",
    "tags": [],
    "deepnote_cell_type": "markdown",
    "deepnote_cell_height": 134.390625
   }
  },
  {
   "cell_type": "markdown",
   "source": "## Pairplots\n\nReal data                            |  Model 0: simulation results\n:-----------------------------------:|:-----------------------------------:\n![img](images/pairplot_realdata.png) | ![img](images/pairplot_model0.png)\n\nModel 1: simulation results          |  Model 2: simulation results\n:-----------------------------------:|:-----------------------------------:\n![img](images/pairplot_model1.png)   | ![img](images/pairplot_model2.png)\n",
   "metadata": {
    "cell_id": "2ac27b6f9f094deaa11fea41435e0f5f",
    "tags": [],
    "owner_user_id": "04e5cc81-8e45-494a-88d3-9de193fcc61e",
    "deepnote_cell_type": "markdown",
    "deepnote_cell_height": 1383.5
   }
  },
  {
   "cell_type": "markdown",
   "source": "## Boxplot of the inter-division times",
   "metadata": {
    "cell_id": "ba7f85467ffc425abf58ad910fa0fe4c",
    "tags": [],
    "deepnote_cell_type": "markdown",
    "deepnote_cell_height": 70
   }
  },
  {
   "cell_type": "code",
   "source": "df_timeseries = pd.read_csv('./data/timeseries.csv')\ndisplay(df_timeseries)",
   "metadata": {
    "cell_id": "2e3316e570e14835a6b3bb7184240091",
    "tags": [],
    "deepnote_to_be_reexecuted": false,
    "source_hash": "90c8903f",
    "execution_start": 1655020081638,
    "execution_millis": 189,
    "deepnote_cell_type": "code",
    "deepnote_cell_height": 618
   },
   "outputs": [
    {
     "data": {
      "application/vnd.deepnote.dataframe.v3+json": {
       "column_count": 3,
       "row_count": 251,
       "columns": [
        {
         "name": "real_data",
         "dtype": "float64",
         "stats": {
          "unique_count": 53,
          "nan_count": 0,
          "min": "0.0833333333333286",
          "max": "1.33333333333333",
          "histogram": [
           {
            "bin_start": 0.0833333333333286,
            "bin_end": 0.20833333333332874,
            "count": 7
           },
           {
            "bin_start": 0.20833333333332874,
            "bin_end": 0.3333333333333289,
            "count": 6
           },
           {
            "bin_start": 0.3333333333333289,
            "bin_end": 0.45833333333332904,
            "count": 62
           },
           {
            "bin_start": 0.45833333333332904,
            "bin_end": 0.5833333333333292,
            "count": 97
           },
           {
            "bin_start": 0.5833333333333292,
            "bin_end": 0.7083333333333293,
            "count": 61
           },
           {
            "bin_start": 0.7083333333333293,
            "bin_end": 0.8333333333333295,
            "count": 13
           },
           {
            "bin_start": 0.8333333333333295,
            "bin_end": 0.9583333333333296,
            "count": 2
           },
           {
            "bin_start": 0.9583333333333296,
            "bin_end": 1.0833333333333297,
            "count": 1
           },
           {
            "bin_start": 1.0833333333333297,
            "bin_end": 1.20833333333333,
            "count": 1
           },
           {
            "bin_start": 1.20833333333333,
            "bin_end": 1.33333333333333,
            "count": 1
           }
          ]
         }
        },
        {
         "name": "starting_model",
         "dtype": "float64",
         "stats": {
          "unique_count": 251,
          "nan_count": 0,
          "min": "0.0067289565093387",
          "max": "1.2313648045299646",
          "histogram": [
           {
            "bin_start": 0.0067289565093387,
            "bin_end": 0.1291925413114013,
            "count": 57
           },
           {
            "bin_start": 0.1291925413114013,
            "bin_end": 0.2516561261134639,
            "count": 56
           },
           {
            "bin_start": 0.2516561261134639,
            "bin_end": 0.3741197109155264,
            "count": 40
           },
           {
            "bin_start": 0.3741197109155264,
            "bin_end": 0.496583295717589,
            "count": 27
           },
           {
            "bin_start": 0.496583295717589,
            "bin_end": 0.6190468805196516,
            "count": 26
           },
           {
            "bin_start": 0.6190468805196516,
            "bin_end": 0.7415104653217142,
            "count": 15
           },
           {
            "bin_start": 0.7415104653217142,
            "bin_end": 0.8639740501237768,
            "count": 11
           },
           {
            "bin_start": 0.8639740501237768,
            "bin_end": 0.9864376349258394,
            "count": 9
           },
           {
            "bin_start": 0.9864376349258394,
            "bin_end": 1.108901219727902,
            "count": 5
           },
           {
            "bin_start": 1.108901219727902,
            "bin_end": 1.2313648045299646,
            "count": 5
           }
          ]
         }
        },
        {
         "name": "model_2",
         "dtype": "float64",
         "stats": {
          "unique_count": 251,
          "nan_count": 0,
          "min": "0.116981414619734",
          "max": "1.612285188879472",
          "histogram": [
           {
            "bin_start": 0.116981414619734,
            "bin_end": 0.2665117920457078,
            "count": 43
           },
           {
            "bin_start": 0.2665117920457078,
            "bin_end": 0.4160421694716816,
            "count": 71
           },
           {
            "bin_start": 0.4160421694716816,
            "bin_end": 0.5655725468976555,
            "count": 38
           },
           {
            "bin_start": 0.5655725468976555,
            "bin_end": 0.7151029243236292,
            "count": 41
           },
           {
            "bin_start": 0.7151029243236292,
            "bin_end": 0.864633301749603,
            "count": 32
           },
           {
            "bin_start": 0.864633301749603,
            "bin_end": 1.0141636791755768,
            "count": 14
           },
           {
            "bin_start": 1.0141636791755768,
            "bin_end": 1.1636940566015508,
            "count": 9
           },
           {
            "bin_start": 1.1636940566015508,
            "bin_end": 1.3132244340275245,
            "count": 0
           },
           {
            "bin_start": 1.3132244340275245,
            "bin_end": 1.4627548114534983,
            "count": 1
           },
           {
            "bin_start": 1.4627548114534983,
            "bin_end": 1.612285188879472,
            "count": 2
           }
          ]
         }
        },
        {
         "name": "_deepnote_index_column",
         "dtype": "int64"
        }
       ],
       "rows": [
        {
         "real_data": 0.5,
         "starting_model": 0.2736513293481056,
         "model_2": 0.396411139158963,
         "_deepnote_index_column": 0
        },
        {
         "real_data": 0.416666666666667,
         "starting_model": 0.6436453892125968,
         "model_2": 0.2195705408906514,
         "_deepnote_index_column": 1
        },
        {
         "real_data": 0.833333333333333,
         "starting_model": 0.2967120995150199,
         "model_2": 0.6665574909574047,
         "_deepnote_index_column": 2
        },
        {
         "real_data": 0.333333333333333,
         "starting_model": 0.6402073064432733,
         "model_2": 0.9603874468860684,
         "_deepnote_index_column": 3
        },
        {
         "real_data": 0.416666666666667,
         "starting_model": 0.0735411893312968,
         "model_2": 0.7506097259747652,
         "_deepnote_index_column": 4
        },
        {
         "real_data": 0.583333333333334,
         "starting_model": 0.5097761444592658,
         "model_2": 0.5902068272998745,
         "_deepnote_index_column": 5
        },
        {
         "real_data": 0.5,
         "starting_model": 0.1544194792901226,
         "model_2": 0.8370834362927165,
         "_deepnote_index_column": 6
        },
        {
         "real_data": 0.583333333333334,
         "starting_model": 0.2835807519009584,
         "model_2": 0.2328789264637902,
         "_deepnote_index_column": 7
        },
        {
         "real_data": 0.666666666666667,
         "starting_model": 0.5006108962239834,
         "model_2": 0.6165317141129133,
         "_deepnote_index_column": 8
        },
        {
         "real_data": 0.5,
         "starting_model": 0.0861512675243812,
         "model_2": 0.2890089011082604,
         "_deepnote_index_column": 9
        }
       ]
      },
      "text/plain": "     real_data  starting_model   model_2\n0     0.500000        0.273651  0.396411\n1     0.416667        0.643645  0.219571\n2     0.833333        0.296712  0.666557\n3     0.333333        0.640207  0.960387\n4     0.416667        0.073541  0.750610\n..         ...             ...       ...\n246   0.416667        0.208074  0.410204\n247   0.500000        0.622110  0.540509\n248   0.750000        0.237440  0.946554\n249   0.333333        0.518858  0.384810\n250   0.500000        0.225045  0.773437\n\n[251 rows x 3 columns]",
      "text/html": "<div>\n<style scoped>\n    .dataframe tbody tr th:only-of-type {\n        vertical-align: middle;\n    }\n\n    .dataframe tbody tr th {\n        vertical-align: top;\n    }\n\n    .dataframe thead th {\n        text-align: right;\n    }\n</style>\n<table border=\"1\" class=\"dataframe\">\n  <thead>\n    <tr style=\"text-align: right;\">\n      <th></th>\n      <th>real_data</th>\n      <th>starting_model</th>\n      <th>model_2</th>\n    </tr>\n  </thead>\n  <tbody>\n    <tr>\n      <th>0</th>\n      <td>0.500000</td>\n      <td>0.273651</td>\n      <td>0.396411</td>\n    </tr>\n    <tr>\n      <th>1</th>\n      <td>0.416667</td>\n      <td>0.643645</td>\n      <td>0.219571</td>\n    </tr>\n    <tr>\n      <th>2</th>\n      <td>0.833333</td>\n      <td>0.296712</td>\n      <td>0.666557</td>\n    </tr>\n    <tr>\n      <th>3</th>\n      <td>0.333333</td>\n      <td>0.640207</td>\n      <td>0.960387</td>\n    </tr>\n    <tr>\n      <th>4</th>\n      <td>0.416667</td>\n      <td>0.073541</td>\n      <td>0.750610</td>\n    </tr>\n    <tr>\n      <th>...</th>\n      <td>...</td>\n      <td>...</td>\n      <td>...</td>\n    </tr>\n    <tr>\n      <th>246</th>\n      <td>0.416667</td>\n      <td>0.208074</td>\n      <td>0.410204</td>\n    </tr>\n    <tr>\n      <th>247</th>\n      <td>0.500000</td>\n      <td>0.622110</td>\n      <td>0.540509</td>\n    </tr>\n    <tr>\n      <th>248</th>\n      <td>0.750000</td>\n      <td>0.237440</td>\n      <td>0.946554</td>\n    </tr>\n    <tr>\n      <th>249</th>\n      <td>0.333333</td>\n      <td>0.518858</td>\n      <td>0.384810</td>\n    </tr>\n    <tr>\n      <th>250</th>\n      <td>0.500000</td>\n      <td>0.225045</td>\n      <td>0.773437</td>\n    </tr>\n  </tbody>\n</table>\n<p>251 rows × 3 columns</p>\n</div>"
     },
     "metadata": {},
     "output_type": "display_data"
    }
   ],
   "execution_count": 4
  },
  {
   "cell_type": "code",
   "source": "res = plot_funcs.boxplot(\n    y=[df_timeseries.iloc[:,0], df_timeseries.iloc[:,1], df_timeseries.iloc[:,2], df_timeseries.iloc[:,3]], \n    colors=['blue', 'C1','green', 'khaki'],  \n    title = 'Inter-division time comparison', \n    ylabel= 'Times', \n    xlabel='', x_font= 30, \n    labels=False \n)\n\nfig, ax, bp = res[0], res[1], res[2]\nax.set_xticklabels(['Real times', 'Starting model', 'Model 1', 'Model 2'], fontdict={'fontsize':15})\n\nfor line in bp['medians']:\n    # get position data for median line\n    x, y = line.get_xydata()[1] #  median line\n    # overlay median value\n    ax.text(x-0.1, y, '%.2f' % y,\n         horizontalalignment='center', fontsize=12) # draw above, centered\n\nfor line in bp['caps']:\n    x, y = line.get_xydata()[0] # bottom of left line\n    ax.text(x,y, '%.2f' % y,\n         horizontalalignment='center', # centered\n         verticalalignment='top', fontsize=12)  \n\nfor line in bp['whiskers']:\n    x, y = line.get_xydata()[0] # bottom of left line\n    ax.text(x-0.27,y, '%.2f' % y,\n         horizontalalignment='center', # centered\n         verticalalignment='center', fontsize=12) ",
   "metadata": {
    "cell_id": "a46060a2f131462ab728221ee1cb0d29",
    "tags": [],
    "deepnote_to_be_reexecuted": false,
    "source_hash": "5f9b7046",
    "execution_start": 1655020081825,
    "execution_millis": 877,
    "deepnote_cell_type": "code",
    "deepnote_cell_height": 1292.1875,
    "deepnote_output_heights": [
     611
    ]
   },
   "outputs": [
    {
     "output_type": "error",
     "ename": "IndexError",
     "evalue": "single positional indexer is out-of-bounds",
     "traceback": [
      "\u001b[0;31m---------------------------------------------------------------------------\u001b[0m",
      "\u001b[0;31mIndexError\u001b[0m                                Traceback (most recent call last)",
      "\u001b[0;32m<ipython-input-5-b5d10685a14b>\u001b[0m in \u001b[0;36m<cell line: 1>\u001b[0;34m()\u001b[0m\n\u001b[1;32m      1\u001b[0m res = plot_funcs.boxplot(\n\u001b[0;32m----> 2\u001b[0;31m     \u001b[0my\u001b[0m\u001b[0;34m=\u001b[0m\u001b[0;34m[\u001b[0m\u001b[0mdf_timeseries\u001b[0m\u001b[0;34m.\u001b[0m\u001b[0miloc\u001b[0m\u001b[0;34m[\u001b[0m\u001b[0;34m:\u001b[0m\u001b[0;34m,\u001b[0m\u001b[0;36m0\u001b[0m\u001b[0;34m]\u001b[0m\u001b[0;34m,\u001b[0m \u001b[0mdf_timeseries\u001b[0m\u001b[0;34m.\u001b[0m\u001b[0miloc\u001b[0m\u001b[0;34m[\u001b[0m\u001b[0;34m:\u001b[0m\u001b[0;34m,\u001b[0m\u001b[0;36m1\u001b[0m\u001b[0;34m]\u001b[0m\u001b[0;34m,\u001b[0m \u001b[0mdf_timeseries\u001b[0m\u001b[0;34m.\u001b[0m\u001b[0miloc\u001b[0m\u001b[0;34m[\u001b[0m\u001b[0;34m:\u001b[0m\u001b[0;34m,\u001b[0m\u001b[0;36m2\u001b[0m\u001b[0;34m]\u001b[0m\u001b[0;34m,\u001b[0m \u001b[0mdf_timeseries\u001b[0m\u001b[0;34m.\u001b[0m\u001b[0miloc\u001b[0m\u001b[0;34m[\u001b[0m\u001b[0;34m:\u001b[0m\u001b[0;34m,\u001b[0m\u001b[0;36m3\u001b[0m\u001b[0;34m]\u001b[0m\u001b[0;34m]\u001b[0m\u001b[0;34m,\u001b[0m\u001b[0;34m\u001b[0m\u001b[0;34m\u001b[0m\u001b[0m\n\u001b[0m\u001b[1;32m      3\u001b[0m     \u001b[0mcolors\u001b[0m\u001b[0;34m=\u001b[0m\u001b[0;34m[\u001b[0m\u001b[0;34m'blue'\u001b[0m\u001b[0;34m,\u001b[0m \u001b[0;34m'C1'\u001b[0m\u001b[0;34m,\u001b[0m\u001b[0;34m'green'\u001b[0m\u001b[0;34m,\u001b[0m \u001b[0;34m'khaki'\u001b[0m\u001b[0;34m]\u001b[0m\u001b[0;34m,\u001b[0m\u001b[0;34m\u001b[0m\u001b[0;34m\u001b[0m\u001b[0m\n\u001b[1;32m      4\u001b[0m     \u001b[0mtitle\u001b[0m \u001b[0;34m=\u001b[0m \u001b[0;34m'Inter-division time comparison'\u001b[0m\u001b[0;34m,\u001b[0m\u001b[0;34m\u001b[0m\u001b[0;34m\u001b[0m\u001b[0m\n\u001b[1;32m      5\u001b[0m     \u001b[0mylabel\u001b[0m\u001b[0;34m=\u001b[0m \u001b[0;34m'Times'\u001b[0m\u001b[0;34m,\u001b[0m\u001b[0;34m\u001b[0m\u001b[0;34m\u001b[0m\u001b[0m\n",
      "\u001b[0;32m/shared-libs/python3.8/py/lib/python3.8/site-packages/pandas/core/indexing.py\u001b[0m in \u001b[0;36m__getitem__\u001b[0;34m(self, key)\u001b[0m\n\u001b[1;32m    887\u001b[0m                     \u001b[0;31m# AttributeError for IntervalTree get_value\u001b[0m\u001b[0;34m\u001b[0m\u001b[0;34m\u001b[0m\u001b[0;34m\u001b[0m\u001b[0m\n\u001b[1;32m    888\u001b[0m                     \u001b[0;32mreturn\u001b[0m \u001b[0mself\u001b[0m\u001b[0;34m.\u001b[0m\u001b[0mobj\u001b[0m\u001b[0;34m.\u001b[0m\u001b[0m_get_value\u001b[0m\u001b[0;34m(\u001b[0m\u001b[0;34m*\u001b[0m\u001b[0mkey\u001b[0m\u001b[0;34m,\u001b[0m \u001b[0mtakeable\u001b[0m\u001b[0;34m=\u001b[0m\u001b[0mself\u001b[0m\u001b[0;34m.\u001b[0m\u001b[0m_takeable\u001b[0m\u001b[0;34m)\u001b[0m\u001b[0;34m\u001b[0m\u001b[0;34m\u001b[0m\u001b[0m\n\u001b[0;32m--> 889\u001b[0;31m             \u001b[0;32mreturn\u001b[0m \u001b[0mself\u001b[0m\u001b[0;34m.\u001b[0m\u001b[0m_getitem_tuple\u001b[0m\u001b[0;34m(\u001b[0m\u001b[0mkey\u001b[0m\u001b[0;34m)\u001b[0m\u001b[0;34m\u001b[0m\u001b[0;34m\u001b[0m\u001b[0m\n\u001b[0m\u001b[1;32m    890\u001b[0m         \u001b[0;32melse\u001b[0m\u001b[0;34m:\u001b[0m\u001b[0;34m\u001b[0m\u001b[0;34m\u001b[0m\u001b[0m\n\u001b[1;32m    891\u001b[0m             \u001b[0;31m# we by definition only have the 0th axis\u001b[0m\u001b[0;34m\u001b[0m\u001b[0;34m\u001b[0m\u001b[0;34m\u001b[0m\u001b[0m\n",
      "\u001b[0;32m/shared-libs/python3.8/py/lib/python3.8/site-packages/pandas/core/indexing.py\u001b[0m in \u001b[0;36m_getitem_tuple\u001b[0;34m(self, tup)\u001b[0m\n\u001b[1;32m   1448\u001b[0m     \u001b[0;32mdef\u001b[0m \u001b[0m_getitem_tuple\u001b[0m\u001b[0;34m(\u001b[0m\u001b[0mself\u001b[0m\u001b[0;34m,\u001b[0m \u001b[0mtup\u001b[0m\u001b[0;34m:\u001b[0m \u001b[0mTuple\u001b[0m\u001b[0;34m)\u001b[0m\u001b[0;34m:\u001b[0m\u001b[0;34m\u001b[0m\u001b[0;34m\u001b[0m\u001b[0m\n\u001b[1;32m   1449\u001b[0m \u001b[0;34m\u001b[0m\u001b[0m\n\u001b[0;32m-> 1450\u001b[0;31m         \u001b[0mself\u001b[0m\u001b[0;34m.\u001b[0m\u001b[0m_has_valid_tuple\u001b[0m\u001b[0;34m(\u001b[0m\u001b[0mtup\u001b[0m\u001b[0;34m)\u001b[0m\u001b[0;34m\u001b[0m\u001b[0;34m\u001b[0m\u001b[0m\n\u001b[0m\u001b[1;32m   1451\u001b[0m         \u001b[0;32mwith\u001b[0m \u001b[0msuppress\u001b[0m\u001b[0;34m(\u001b[0m\u001b[0mIndexingError\u001b[0m\u001b[0;34m)\u001b[0m\u001b[0;34m:\u001b[0m\u001b[0;34m\u001b[0m\u001b[0;34m\u001b[0m\u001b[0m\n\u001b[1;32m   1452\u001b[0m             \u001b[0;32mreturn\u001b[0m \u001b[0mself\u001b[0m\u001b[0;34m.\u001b[0m\u001b[0m_getitem_lowerdim\u001b[0m\u001b[0;34m(\u001b[0m\u001b[0mtup\u001b[0m\u001b[0;34m)\u001b[0m\u001b[0;34m\u001b[0m\u001b[0;34m\u001b[0m\u001b[0m\n",
      "\u001b[0;32m/shared-libs/python3.8/py/lib/python3.8/site-packages/pandas/core/indexing.py\u001b[0m in \u001b[0;36m_has_valid_tuple\u001b[0;34m(self, key)\u001b[0m\n\u001b[1;32m    721\u001b[0m         \u001b[0;32mfor\u001b[0m \u001b[0mi\u001b[0m\u001b[0;34m,\u001b[0m \u001b[0mk\u001b[0m \u001b[0;32min\u001b[0m \u001b[0menumerate\u001b[0m\u001b[0;34m(\u001b[0m\u001b[0mkey\u001b[0m\u001b[0;34m)\u001b[0m\u001b[0;34m:\u001b[0m\u001b[0;34m\u001b[0m\u001b[0;34m\u001b[0m\u001b[0m\n\u001b[1;32m    722\u001b[0m             \u001b[0;32mtry\u001b[0m\u001b[0;34m:\u001b[0m\u001b[0;34m\u001b[0m\u001b[0;34m\u001b[0m\u001b[0m\n\u001b[0;32m--> 723\u001b[0;31m                 \u001b[0mself\u001b[0m\u001b[0;34m.\u001b[0m\u001b[0m_validate_key\u001b[0m\u001b[0;34m(\u001b[0m\u001b[0mk\u001b[0m\u001b[0;34m,\u001b[0m \u001b[0mi\u001b[0m\u001b[0;34m)\u001b[0m\u001b[0;34m\u001b[0m\u001b[0;34m\u001b[0m\u001b[0m\n\u001b[0m\u001b[1;32m    724\u001b[0m             \u001b[0;32mexcept\u001b[0m \u001b[0mValueError\u001b[0m \u001b[0;32mas\u001b[0m \u001b[0merr\u001b[0m\u001b[0;34m:\u001b[0m\u001b[0;34m\u001b[0m\u001b[0;34m\u001b[0m\u001b[0m\n\u001b[1;32m    725\u001b[0m                 raise ValueError(\n",
      "\u001b[0;32m/shared-libs/python3.8/py/lib/python3.8/site-packages/pandas/core/indexing.py\u001b[0m in \u001b[0;36m_validate_key\u001b[0;34m(self, key, axis)\u001b[0m\n\u001b[1;32m   1356\u001b[0m             \u001b[0;32mreturn\u001b[0m\u001b[0;34m\u001b[0m\u001b[0;34m\u001b[0m\u001b[0m\n\u001b[1;32m   1357\u001b[0m         \u001b[0;32melif\u001b[0m \u001b[0mis_integer\u001b[0m\u001b[0;34m(\u001b[0m\u001b[0mkey\u001b[0m\u001b[0;34m)\u001b[0m\u001b[0;34m:\u001b[0m\u001b[0;34m\u001b[0m\u001b[0;34m\u001b[0m\u001b[0m\n\u001b[0;32m-> 1358\u001b[0;31m             \u001b[0mself\u001b[0m\u001b[0;34m.\u001b[0m\u001b[0m_validate_integer\u001b[0m\u001b[0;34m(\u001b[0m\u001b[0mkey\u001b[0m\u001b[0;34m,\u001b[0m \u001b[0maxis\u001b[0m\u001b[0;34m)\u001b[0m\u001b[0;34m\u001b[0m\u001b[0;34m\u001b[0m\u001b[0m\n\u001b[0m\u001b[1;32m   1359\u001b[0m         \u001b[0;32melif\u001b[0m \u001b[0misinstance\u001b[0m\u001b[0;34m(\u001b[0m\u001b[0mkey\u001b[0m\u001b[0;34m,\u001b[0m \u001b[0mtuple\u001b[0m\u001b[0;34m)\u001b[0m\u001b[0;34m:\u001b[0m\u001b[0;34m\u001b[0m\u001b[0;34m\u001b[0m\u001b[0m\n\u001b[1;32m   1360\u001b[0m             \u001b[0;31m# a tuple should already have been caught by this point\u001b[0m\u001b[0;34m\u001b[0m\u001b[0;34m\u001b[0m\u001b[0;34m\u001b[0m\u001b[0m\n",
      "\u001b[0;32m/shared-libs/python3.8/py/lib/python3.8/site-packages/pandas/core/indexing.py\u001b[0m in \u001b[0;36m_validate_integer\u001b[0;34m(self, key, axis)\u001b[0m\n\u001b[1;32m   1442\u001b[0m         \u001b[0mlen_axis\u001b[0m \u001b[0;34m=\u001b[0m \u001b[0mlen\u001b[0m\u001b[0;34m(\u001b[0m\u001b[0mself\u001b[0m\u001b[0;34m.\u001b[0m\u001b[0mobj\u001b[0m\u001b[0;34m.\u001b[0m\u001b[0m_get_axis\u001b[0m\u001b[0;34m(\u001b[0m\u001b[0maxis\u001b[0m\u001b[0;34m)\u001b[0m\u001b[0;34m)\u001b[0m\u001b[0;34m\u001b[0m\u001b[0;34m\u001b[0m\u001b[0m\n\u001b[1;32m   1443\u001b[0m         \u001b[0;32mif\u001b[0m \u001b[0mkey\u001b[0m \u001b[0;34m>=\u001b[0m \u001b[0mlen_axis\u001b[0m \u001b[0;32mor\u001b[0m \u001b[0mkey\u001b[0m \u001b[0;34m<\u001b[0m \u001b[0;34m-\u001b[0m\u001b[0mlen_axis\u001b[0m\u001b[0;34m:\u001b[0m\u001b[0;34m\u001b[0m\u001b[0;34m\u001b[0m\u001b[0m\n\u001b[0;32m-> 1444\u001b[0;31m             \u001b[0;32mraise\u001b[0m \u001b[0mIndexError\u001b[0m\u001b[0;34m(\u001b[0m\u001b[0;34m\"single positional indexer is out-of-bounds\"\u001b[0m\u001b[0;34m)\u001b[0m\u001b[0;34m\u001b[0m\u001b[0;34m\u001b[0m\u001b[0m\n\u001b[0m\u001b[1;32m   1445\u001b[0m \u001b[0;34m\u001b[0m\u001b[0m\n\u001b[1;32m   1446\u001b[0m     \u001b[0;31m# -------------------------------------------------------------------\u001b[0m\u001b[0;34m\u001b[0m\u001b[0;34m\u001b[0m\u001b[0;34m\u001b[0m\u001b[0m\n",
      "\u001b[0;31mIndexError\u001b[0m: single positional indexer is out-of-bounds"
     ]
    }
   ],
   "execution_count": 5
  },
  {
   "cell_type": "markdown",
   "source": "## Overlap between division time histograms\n\nModel 0                           |  Model 1                          \n:--------------------------------:|:---------------------------------:\n![img](images/overlap_model0.png) | ![img](images/overlap_model1.png) \n\n  Model 2\n:-----------------------------------:\n ![img](images/overlap_model2.png)\n",
   "metadata": {
    "cell_id": "de7d479f29a445849ef5cffaa11b7645",
    "tags": [],
    "deepnote_cell_type": "markdown",
    "deepnote_cell_height": 1295.125
   }
  },
  {
   "cell_type": "markdown",
   "source": "## Predictive density",
   "metadata": {
    "cell_id": "4b6596f8c5fc4ee9bf699a9ea9981b59",
    "tags": [],
    "deepnote_cell_type": "markdown",
    "deepnote_cell_height": 70
   }
  },
  {
   "cell_type": "code",
   "source": "df_pd = pd.read_csv('./data/pred_density.csv')\ndisplay(df_pd)\n",
   "metadata": {
    "cell_id": "da39935f32054980ad09469bfbdd2fab",
    "tags": [],
    "deepnote_to_be_reexecuted": false,
    "source_hash": "310b6e88",
    "execution_start": 1655020108377,
    "execution_millis": 100,
    "deepnote_cell_type": "code",
    "deepnote_cell_height": 636
   },
   "outputs": [
    {
     "data": {
      "application/vnd.deepnote.dataframe.v3+json": {
       "column_count": 3,
       "row_count": 10,
       "columns": [
        {
         "name": "starting_model",
         "dtype": "float64",
         "stats": {
          "unique_count": 10,
          "nan_count": 0,
          "min": "-361.6219353533221",
          "max": "170.82110176450112",
          "histogram": [
           {
            "bin_start": -361.6219353533221,
            "bin_end": -308.3776316415398,
            "count": 1
           },
           {
            "bin_start": -308.3776316415398,
            "bin_end": -255.13332792975746,
            "count": 0
           },
           {
            "bin_start": -255.13332792975746,
            "bin_end": -201.88902421797513,
            "count": 2
           },
           {
            "bin_start": -201.88902421797513,
            "bin_end": -148.6447205061928,
            "count": 0
           },
           {
            "bin_start": -148.6447205061928,
            "bin_end": -95.40041679441049,
            "count": 0
           },
           {
            "bin_start": -95.40041679441049,
            "bin_end": -42.15611308262817,
            "count": 0
           },
           {
            "bin_start": -42.15611308262817,
            "bin_end": 11.088190629154155,
            "count": 0
           },
           {
            "bin_start": 11.088190629154155,
            "bin_end": 64.33249434093648,
            "count": 1
           },
           {
            "bin_start": 64.33249434093648,
            "bin_end": 117.5767980527188,
            "count": 4
           },
           {
            "bin_start": 117.5767980527188,
            "bin_end": 170.82110176450112,
            "count": 2
           }
          ]
         }
        },
        {
         "name": "model_1",
         "dtype": "float64",
         "stats": {
          "unique_count": 10,
          "nan_count": 0,
          "min": "-302.2218143566479",
          "max": "132.87844245994637",
          "histogram": [
           {
            "bin_start": -302.2218143566479,
            "bin_end": -258.71178867498844,
            "count": 1
           },
           {
            "bin_start": -258.71178867498844,
            "bin_end": -215.20176299332903,
            "count": 0
           },
           {
            "bin_start": -215.20176299332903,
            "bin_end": -171.6917373116696,
            "count": 0
           },
           {
            "bin_start": -171.6917373116696,
            "bin_end": -128.18171163001017,
            "count": 0
           },
           {
            "bin_start": -128.18171163001017,
            "bin_end": -84.67168594835073,
            "count": 0
           },
           {
            "bin_start": -84.67168594835073,
            "bin_end": -41.16166026669134,
            "count": 1
           },
           {
            "bin_start": -41.16166026669134,
            "bin_end": 2.3483654149681,
            "count": 1
           },
           {
            "bin_start": 2.3483654149681,
            "bin_end": 45.85839109662754,
            "count": 3
           },
           {
            "bin_start": 45.85839109662754,
            "bin_end": 89.36841677828698,
            "count": 0
           },
           {
            "bin_start": 89.36841677828698,
            "bin_end": 132.87844245994637,
            "count": 4
           }
          ]
         }
        },
        {
         "name": "model_2",
         "dtype": "float64",
         "stats": {
          "unique_count": 10,
          "nan_count": 0,
          "min": "-inf",
          "max": "150.30983337717691",
          "histogram": [
           {
            "bin_start": -293.8501046390945,
            "bin_end": -249.4341108374674,
            "count": 1
           },
           {
            "bin_start": -249.4341108374674,
            "bin_end": -205.01811703584025,
            "count": 0
           },
           {
            "bin_start": -205.01811703584025,
            "bin_end": -160.60212323421308,
            "count": 0
           },
           {
            "bin_start": -160.60212323421308,
            "bin_end": -116.18612943258594,
            "count": 0
           },
           {
            "bin_start": -116.18612943258594,
            "bin_end": -71.7701356309588,
            "count": 1
           },
           {
            "bin_start": -71.7701356309588,
            "bin_end": -27.35414182933164,
            "count": 0
           },
           {
            "bin_start": -27.35414182933164,
            "bin_end": 17.06185197229547,
            "count": 1
           },
           {
            "bin_start": 17.06185197229547,
            "bin_end": 61.47784577392264,
            "count": 2
           },
           {
            "bin_start": 61.47784577392264,
            "bin_end": 105.8938395755498,
            "count": 0
           },
           {
            "bin_start": 105.8938395755498,
            "bin_end": 150.30983337717691,
            "count": 4
           }
          ]
         }
        },
        {
         "name": "_deepnote_index_column",
         "dtype": "int64"
        }
       ],
       "rows": [
        {
         "starting_model": 51.40822328266943,
         "model_1": 34.06735152583866,
         "model_2": 46.75473214123427,
         "_deepnote_index_column": 0
        },
        {
         "starting_model": 100.0593604745062,
         "model_1": 132.87844245994637,
         "model_2": 150.30983337717691,
         "_deepnote_index_column": 1
        },
        {
         "starting_model": -361.6219353533221,
         "model_1": 95.56799529511817,
         "model_2": 111.88813765085466,
         "_deepnote_index_column": 2
        },
        {
         "starting_model": 94.76235188188808,
         "model_1": -14.586316929650849,
         "model_2": -12.89936099923031,
         "_deepnote_index_column": 3
        },
        {
         "starting_model": 170.82110176450112,
         "model_1": 41.40050383805465,
         "model_2": "-inf",
         "_deepnote_index_column": 4
        },
        {
         "starting_model": -232.8246425414476,
         "model_1": -302.2218143566479,
         "model_2": -293.8501046390945,
         "_deepnote_index_column": 5
        },
        {
         "starting_model": 73.80197717753701,
         "model_1": -57.69119658932388,
         "model_2": -72.6004325532677,
         "_deepnote_index_column": 6
        },
        {
         "starting_model": -211.41929122929685,
         "model_1": 109.98683499991276,
         "model_2": 127.46003315291765,
         "_deepnote_index_column": 7
        },
        {
         "starting_model": 132.10843405390287,
         "model_1": 25.05852903345796,
         "model_2": 36.23174469920719,
         "_deepnote_index_column": 8
        },
        {
         "starting_model": 111.28841027279132,
         "model_1": 126.72580321475132,
         "model_2": 146.1425676930865,
         "_deepnote_index_column": 9
        }
       ]
      },
      "text/plain": "   starting_model     model_1     model_2\n0       51.408223   34.067352   46.754732\n1      100.059360  132.878442  150.309833\n2     -361.621935   95.567995  111.888138\n3       94.762352  -14.586317  -12.899361\n4      170.821102   41.400504        -inf\n5     -232.824643 -302.221814 -293.850105\n6       73.801977  -57.691197  -72.600433\n7     -211.419291  109.986835  127.460033\n8      132.108434   25.058529   36.231745\n9      111.288410  126.725803  146.142568",
      "text/html": "<div>\n<style scoped>\n    .dataframe tbody tr th:only-of-type {\n        vertical-align: middle;\n    }\n\n    .dataframe tbody tr th {\n        vertical-align: top;\n    }\n\n    .dataframe thead th {\n        text-align: right;\n    }\n</style>\n<table border=\"1\" class=\"dataframe\">\n  <thead>\n    <tr style=\"text-align: right;\">\n      <th></th>\n      <th>starting_model</th>\n      <th>model_1</th>\n      <th>model_2</th>\n    </tr>\n  </thead>\n  <tbody>\n    <tr>\n      <th>0</th>\n      <td>51.408223</td>\n      <td>34.067352</td>\n      <td>46.754732</td>\n    </tr>\n    <tr>\n      <th>1</th>\n      <td>100.059360</td>\n      <td>132.878442</td>\n      <td>150.309833</td>\n    </tr>\n    <tr>\n      <th>2</th>\n      <td>-361.621935</td>\n      <td>95.567995</td>\n      <td>111.888138</td>\n    </tr>\n    <tr>\n      <th>3</th>\n      <td>94.762352</td>\n      <td>-14.586317</td>\n      <td>-12.899361</td>\n    </tr>\n    <tr>\n      <th>4</th>\n      <td>170.821102</td>\n      <td>41.400504</td>\n      <td>-inf</td>\n    </tr>\n    <tr>\n      <th>5</th>\n      <td>-232.824643</td>\n      <td>-302.221814</td>\n      <td>-293.850105</td>\n    </tr>\n    <tr>\n      <th>6</th>\n      <td>73.801977</td>\n      <td>-57.691197</td>\n      <td>-72.600433</td>\n    </tr>\n    <tr>\n      <th>7</th>\n      <td>-211.419291</td>\n      <td>109.986835</td>\n      <td>127.460033</td>\n    </tr>\n    <tr>\n      <th>8</th>\n      <td>132.108434</td>\n      <td>25.058529</td>\n      <td>36.231745</td>\n    </tr>\n    <tr>\n      <th>9</th>\n      <td>111.288410</td>\n      <td>126.725803</td>\n      <td>146.142568</td>\n    </tr>\n  </tbody>\n</table>\n</div>"
     },
     "metadata": {},
     "output_type": "display_data"
    }
   ],
   "execution_count": 6
  },
  {
   "cell_type": "code",
   "source": "print('Average Predictive Density over', df_pd.shape[0], 'cycles:')\n\ndf_pd[~np.isinf(df_pd)].mean().to_frame().transpose().rename({0: 'Pred. Dens.'}).round(3)",
   "metadata": {
    "cell_id": "1323fd615fbb45b2817fdae854b85158",
    "tags": [],
    "deepnote_to_be_reexecuted": false,
    "source_hash": "eb570f77",
    "execution_start": 1655020110380,
    "execution_millis": 109,
    "deepnote_cell_type": "code",
    "deepnote_cell_height": 313
   },
   "outputs": [
    {
     "name": "stdout",
     "text": "Average Predictive Density over 10 cycles:\n",
     "output_type": "stream"
    },
    {
     "output_type": "execute_result",
     "execution_count": 7,
     "data": {
      "application/vnd.deepnote.dataframe.v3+json": {
       "column_count": 3,
       "row_count": 1,
       "columns": [
        {
         "name": "starting_model",
         "dtype": "float64",
         "stats": {
          "unique_count": 1,
          "nan_count": 0,
          "min": "-7.162",
          "max": "-7.162",
          "histogram": [
           {
            "bin_start": -7.662,
            "bin_end": -7.562,
            "count": 0
           },
           {
            "bin_start": -7.562,
            "bin_end": -7.462,
            "count": 0
           },
           {
            "bin_start": -7.462,
            "bin_end": -7.362,
            "count": 0
           },
           {
            "bin_start": -7.362,
            "bin_end": -7.262,
            "count": 0
           },
           {
            "bin_start": -7.262,
            "bin_end": -7.162,
            "count": 0
           },
           {
            "bin_start": -7.162,
            "bin_end": -7.061999999999999,
            "count": 1
           },
           {
            "bin_start": -7.061999999999999,
            "bin_end": -6.962,
            "count": 0
           },
           {
            "bin_start": -6.962,
            "bin_end": -6.862,
            "count": 0
           },
           {
            "bin_start": -6.862,
            "bin_end": -6.762,
            "count": 0
           },
           {
            "bin_start": -6.762,
            "bin_end": -6.662,
            "count": 0
           }
          ]
         }
        },
        {
         "name": "model_1",
         "dtype": "float64",
         "stats": {
          "unique_count": 1,
          "nan_count": 0,
          "min": "19.119",
          "max": "19.119",
          "histogram": [
           {
            "bin_start": 18.619,
            "bin_end": 18.719,
            "count": 0
           },
           {
            "bin_start": 18.719,
            "bin_end": 18.819,
            "count": 0
           },
           {
            "bin_start": 18.819,
            "bin_end": 18.919,
            "count": 0
           },
           {
            "bin_start": 18.919,
            "bin_end": 19.019,
            "count": 0
           },
           {
            "bin_start": 19.019,
            "bin_end": 19.119,
            "count": 0
           },
           {
            "bin_start": 19.119,
            "bin_end": 19.219,
            "count": 1
           },
           {
            "bin_start": 19.219,
            "bin_end": 19.319,
            "count": 0
           },
           {
            "bin_start": 19.319,
            "bin_end": 19.419,
            "count": 0
           },
           {
            "bin_start": 19.419,
            "bin_end": 19.519,
            "count": 0
           },
           {
            "bin_start": 19.519,
            "bin_end": 19.619,
            "count": 0
           }
          ]
         }
        },
        {
         "name": "model_2",
         "dtype": "float64",
         "stats": {
          "unique_count": 1,
          "nan_count": 0,
          "min": "26.604",
          "max": "26.604",
          "histogram": [
           {
            "bin_start": 26.104,
            "bin_end": 26.204,
            "count": 0
           },
           {
            "bin_start": 26.204,
            "bin_end": 26.304,
            "count": 0
           },
           {
            "bin_start": 26.304,
            "bin_end": 26.404,
            "count": 0
           },
           {
            "bin_start": 26.404,
            "bin_end": 26.503999999999998,
            "count": 0
           },
           {
            "bin_start": 26.503999999999998,
            "bin_end": 26.604,
            "count": 0
           },
           {
            "bin_start": 26.604,
            "bin_end": 26.704,
            "count": 1
           },
           {
            "bin_start": 26.704,
            "bin_end": 26.804,
            "count": 0
           },
           {
            "bin_start": 26.804,
            "bin_end": 26.904,
            "count": 0
           },
           {
            "bin_start": 26.904,
            "bin_end": 27.003999999999998,
            "count": 0
           },
           {
            "bin_start": 27.003999999999998,
            "bin_end": 27.104,
            "count": 0
           }
          ]
         }
        },
        {
         "name": "_deepnote_index_column",
         "dtype": "object"
        }
       ],
       "rows": [
        {
         "starting_model": -7.162,
         "model_1": 19.119,
         "model_2": 26.604,
         "_deepnote_index_column": "Pred. Dens."
        }
       ]
      },
      "text/plain": "             starting_model  model_1  model_2\nPred. Dens.          -7.162   19.119   26.604",
      "text/html": "<div>\n<style scoped>\n    .dataframe tbody tr th:only-of-type {\n        vertical-align: middle;\n    }\n\n    .dataframe tbody tr th {\n        vertical-align: top;\n    }\n\n    .dataframe thead th {\n        text-align: right;\n    }\n</style>\n<table border=\"1\" class=\"dataframe\">\n  <thead>\n    <tr style=\"text-align: right;\">\n      <th></th>\n      <th>starting_model</th>\n      <th>model_1</th>\n      <th>model_2</th>\n    </tr>\n  </thead>\n  <tbody>\n    <tr>\n      <th>Pred. Dens.</th>\n      <td>-7.162</td>\n      <td>19.119</td>\n      <td>26.604</td>\n    </tr>\n  </tbody>\n</table>\n</div>"
     },
     "metadata": {}
    }
   ],
   "execution_count": 7
  },
  {
   "cell_type": "markdown",
   "source": "# References\n[1] Held J, Lorimer T, Pomati F, Stoop R, Albert C. Second-order phase transition in phytoplankton trait dynamics. _Chaos_. 2020; 30(5):053109. https://doi.org/10.1063/1.5141755 \n\n[2] Zheng, H., Bai, Y., Jiang, M. et al. General quantitative relations linking cell growth and the cell cycle in Escherichia coli. _Nature Microbiology_. 2020;  5(8):995–1001. https://doi.org/10.1038/s41564-020-0717-x \n\n[3] emcee documentation: https://emcee.readthedocs.io/en/stable/",
   "metadata": {
    "cell_id": "882441dc03a5449d953165099db6e78b",
    "tags": [],
    "deepnote_cell_type": "markdown",
    "deepnote_cell_height": 238
   }
  },
  {
   "cell_type": "markdown",
   "source": "",
   "metadata": {
    "cell_id": "2c1e539769a44f40b30af3b1642cf853",
    "tags": [],
    "deepnote_cell_type": "markdown",
    "deepnote_cell_height": 46
   }
  },
  {
   "cell_type": "markdown",
   "source": "<a style='text-decoration:none;line-height:16px;display:flex;color:#5B5B62;padding:10px;justify-content:end;' href='https://deepnote.com?utm_source=created-in-deepnote-cell&projectId=52dba48d-3798-4665-95fc-01a96804955b' target=\"_blank\">\n<img alt='Created in deepnote.com' style='display:inline;max-height:16px;margin:0px;margin-right:7.5px;' src='data:image/svg+xml;base64,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' > </img>\nCreated in <span style='font-weight:600;margin-left:4px;'>Deepnote</span></a>",
   "metadata": {
    "tags": [],
    "created_in_deepnote_cell": true,
    "deepnote_cell_type": "markdown"
   }
  }
 ],
 "nbformat": 4,
 "nbformat_minor": 2,
 "metadata": {
  "orig_nbformat": 2,
  "deepnote": {},
  "deepnote_notebook_id": "67416f0d-a013-438a-8805-c6af116847ff",
  "deepnote_execution_queue": []
 }
}